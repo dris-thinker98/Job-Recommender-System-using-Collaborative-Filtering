{
  "nbformat": 4,
  "nbformat_minor": 0,
  "metadata": {
    "colab": {
      "name": "CF_Project_Tanimoto_Similarity.ipynb",
      "provenance": [],
      "collapsed_sections": []
    },
    "kernelspec": {
      "name": "python3",
      "display_name": "Python 3"
    }
  },
  "cells": [
    {
      "cell_type": "markdown",
      "metadata": {
        "id": "0Afame8B0a1C"
      },
      "source": [
        "# [Downloading the Dataset](https://www.kaggle.com/tondji/jobs-data-for-recommender-systems)\n"
      ]
    },
    {
      "cell_type": "code",
      "metadata": {
        "id": "1_aiZ-sfJw6x",
        "colab": {
          "base_uri": "https://localhost:8080/"
        },
        "outputId": "6fbb7ab5-cb0c-4e8e-c0fe-48be0692c7cf"
      },
      "source": [
        "!pip install kaggle"
      ],
      "execution_count": null,
      "outputs": [
        {
          "output_type": "stream",
          "text": [
            "Requirement already satisfied: kaggle in /usr/local/lib/python3.7/dist-packages (1.5.12)\n",
            "Requirement already satisfied: certifi in /usr/local/lib/python3.7/dist-packages (from kaggle) (2020.12.5)\n",
            "Requirement already satisfied: tqdm in /usr/local/lib/python3.7/dist-packages (from kaggle) (4.41.1)\n",
            "Requirement already satisfied: python-slugify in /usr/local/lib/python3.7/dist-packages (from kaggle) (4.0.1)\n",
            "Requirement already satisfied: python-dateutil in /usr/local/lib/python3.7/dist-packages (from kaggle) (2.8.1)\n",
            "Requirement already satisfied: urllib3 in /usr/local/lib/python3.7/dist-packages (from kaggle) (1.24.3)\n",
            "Requirement already satisfied: six>=1.10 in /usr/local/lib/python3.7/dist-packages (from kaggle) (1.15.0)\n",
            "Requirement already satisfied: requests in /usr/local/lib/python3.7/dist-packages (from kaggle) (2.23.0)\n",
            "Requirement already satisfied: text-unidecode>=1.3 in /usr/local/lib/python3.7/dist-packages (from python-slugify->kaggle) (1.3)\n",
            "Requirement already satisfied: chardet<4,>=3.0.2 in /usr/local/lib/python3.7/dist-packages (from requests->kaggle) (3.0.4)\n",
            "Requirement already satisfied: idna<3,>=2.5 in /usr/local/lib/python3.7/dist-packages (from requests->kaggle) (2.10)\n"
          ],
          "name": "stdout"
        }
      ]
    },
    {
      "cell_type": "code",
      "metadata": {
        "colab": {
          "base_uri": "https://localhost:8080/"
        },
        "id": "ECqLyD2jrGyG",
        "outputId": "1385e979-eb50-4d74-b724-7763c6641d50"
      },
      "source": [
        "import os\n",
        "os.environ['KAGGLE_USERNAME'] = \"richadwivedi\"\n",
        "os.environ['KAGGLE_KEY'] = \"1462d815580695348ef4bf8d3edfbfbe\"\n",
        "\n",
        "!kaggle datasets download -d tondji/jobs-data-for-recommender-systems\n"
      ],
      "execution_count": null,
      "outputs": [
        {
          "output_type": "stream",
          "text": [
            "Downloading jobs-data-for-recommender-systems.zip to /content\n",
            "\r  0% 0.00/16.0M [00:00<?, ?B/s]\r 56% 9.00M/16.0M [00:00<00:00, 78.2MB/s]\n",
            "\r100% 16.0M/16.0M [00:00<00:00, 102MB/s] \n"
          ],
          "name": "stdout"
        }
      ]
    },
    {
      "cell_type": "code",
      "metadata": {
        "id": "kTtR193Nr93m"
      },
      "source": [
        "from zipfile import ZipFile\n",
        "\n",
        "with ZipFile('jobs-data-for-recommender-systems.zip', 'r') as zipObj:\n",
        "   zipObj.extractall()"
      ],
      "execution_count": null,
      "outputs": []
    },
    {
      "cell_type": "code",
      "metadata": {
        "colab": {
          "base_uri": "https://localhost:8080/"
        },
        "id": "jKMbGDrO1blB",
        "outputId": "6128e72e-fd6f-4e31-ed93-131f8ecb5a7a"
      },
      "source": [
        "import nltk\n",
        "nltk.download('punkt')"
      ],
      "execution_count": null,
      "outputs": [
        {
          "output_type": "stream",
          "text": [
            "[nltk_data] Downloading package punkt to /root/nltk_data...\n",
            "[nltk_data]   Unzipping tokenizers/punkt.zip.\n"
          ],
          "name": "stdout"
        },
        {
          "output_type": "execute_result",
          "data": {
            "text/plain": [
              "True"
            ]
          },
          "metadata": {
            "tags": []
          },
          "execution_count": 5
        }
      ]
    },
    {
      "cell_type": "markdown",
      "metadata": {
        "id": "uiQBBeQh1fD6"
      },
      "source": [
        "# Impoting Libraries"
      ]
    },
    {
      "cell_type": "code",
      "metadata": {
        "id": "8A6wx10Or9yl",
        "colab": {
          "base_uri": "https://localhost:8080/"
        },
        "outputId": "1e4a6ed6-b551-45c6-a3b2-d7ce499237c0"
      },
      "source": [
        "import numpy as np\n",
        "import pandas as pd\n",
        "import seaborn as sns\n",
        "import matplotlib as map\n",
        "import matplotlib.pyplot as plt\n",
        "import re\n",
        "from nltk.tokenize import word_tokenize\n",
        "import nltk\n",
        "import operator\n",
        "from nltk.corpus import stopwords\n",
        "nltk.download('stopwords')\n",
        "stop_words = set(stopwords.words('english')) \n",
        "\n",
        "\n",
        "#To ignore warnings.\n",
        "import warnings\n",
        "warnings.filterwarnings('ignore')\n",
        "\n",
        "#saving model\n",
        "from sklearn.externals import joblib"
      ],
      "execution_count": null,
      "outputs": [
        {
          "output_type": "stream",
          "text": [
            "[nltk_data] Downloading package stopwords to /root/nltk_data...\n",
            "[nltk_data]   Unzipping corpora/stopwords.zip.\n"
          ],
          "name": "stdout"
        }
      ]
    },
    {
      "cell_type": "markdown",
      "metadata": {
        "id": "HJekIlQo1uk1"
      },
      "source": [
        "# Loading the Dataset\n",
        "\n",
        "\n"
      ]
    },
    {
      "cell_type": "code",
      "metadata": {
        "id": "WFZY05nFr9tJ"
      },
      "source": [
        "df_all_offers = pd.read_csv('ALL_Offers.csv')"
      ],
      "execution_count": null,
      "outputs": []
    },
    {
      "cell_type": "code",
      "metadata": {
        "id": "gMoFedcWr9h9"
      },
      "source": [
        "df_offers = pd.read_csv('offers.csv')"
      ],
      "execution_count": null,
      "outputs": []
    },
    {
      "cell_type": "code",
      "metadata": {
        "id": "i1Iu-c52tJWo"
      },
      "source": [
        "df_org = pd.read_csv('organizations.csv')"
      ],
      "execution_count": null,
      "outputs": []
    },
    {
      "cell_type": "markdown",
      "metadata": {
        "id": "Woc0NqoAT2vU"
      },
      "source": [
        "# Exploratory Data Analysis"
      ]
    },
    {
      "cell_type": "markdown",
      "metadata": {
        "id": "rE8lAG8BYil-"
      },
      "source": [
        " Data Analysis of All_offers.csv\n",
        "\n",
        "---\n",
        "\n"
      ]
    },
    {
      "cell_type": "code",
      "metadata": {
        "colab": {
          "base_uri": "https://localhost:8080/",
          "height": 459
        },
        "id": "qyyG142-U9j_",
        "outputId": "8a9a5c89-ad3d-4320-ac02-6ba9ed4a85d3"
      },
      "source": [
        "#Let's understand the data\n",
        "df_all_offers.head()"
      ],
      "execution_count": null,
      "outputs": [
        {
          "output_type": "execute_result",
          "data": {
            "text/html": [
              "<div>\n",
              "<style scoped>\n",
              "    .dataframe tbody tr th:only-of-type {\n",
              "        vertical-align: middle;\n",
              "    }\n",
              "\n",
              "    .dataframe tbody tr th {\n",
              "        vertical-align: top;\n",
              "    }\n",
              "\n",
              "    .dataframe thead th {\n",
              "        text-align: right;\n",
              "    }\n",
              "</style>\n",
              "<table border=\"1\" class=\"dataframe\">\n",
              "  <thead>\n",
              "    <tr style=\"text-align: right;\">\n",
              "      <th></th>\n",
              "      <th>posted_by_id</th>\n",
              "      <th>status</th>\n",
              "      <th>city</th>\n",
              "      <th>job_title</th>\n",
              "      <th>organization_id</th>\n",
              "      <th>contracts</th>\n",
              "      <th>description</th>\n",
              "      <th>skills</th>\n",
              "    </tr>\n",
              "  </thead>\n",
              "  <tbody>\n",
              "    <tr>\n",
              "      <th>0</th>\n",
              "      <td>1</td>\n",
              "      <td>published</td>\n",
              "      <td>Bondues</td>\n",
              "      <td>Stagiaire (H/F) Assistant Marketing Nutritionnel</td>\n",
              "      <td>1</td>\n",
              "      <td>Stage6mois</td>\n",
              "      <td>Entreprise    Le Groupe LACTALIS (près de ...</td>\n",
              "      <td>{'skills': {'communication': 1}}</td>\n",
              "    </tr>\n",
              "    <tr>\n",
              "      <th>1</th>\n",
              "      <td>2</td>\n",
              "      <td>published</td>\n",
              "      <td>Rhône</td>\n",
              "      <td>Expert process traitement thermique h/f</td>\n",
              "      <td>2</td>\n",
              "      <td>CDI</td>\n",
              "      <td>Entreprise    Filiale européenne du groupe...</td>\n",
              "      <td>{'skills': {'communication': 1, 'consulting': ...</td>\n",
              "    </tr>\n",
              "    <tr>\n",
              "      <th>2</th>\n",
              "      <td>3</td>\n",
              "      <td>published</td>\n",
              "      <td>Paris</td>\n",
              "      <td>Charge d'operation grands comptes h/f</td>\n",
              "      <td>3</td>\n",
              "      <td>CDI</td>\n",
              "      <td>Entreprise    Notre client, première socié...</td>\n",
              "      <td>{'skills': {'collaboration': 1, 'reporting': 1...</td>\n",
              "    </tr>\n",
              "    <tr>\n",
              "      <th>3</th>\n",
              "      <td>4</td>\n",
              "      <td>published</td>\n",
              "      <td>Rueil-Malmaison</td>\n",
              "      <td>Ingénieur Génie Civil stage F/H</td>\n",
              "      <td>4</td>\n",
              "      <td>Stage6mois</td>\n",
              "      <td>Entreprise    Acteur mondial et leader eur...</td>\n",
              "      <td>{'skills': {'collaboration': 1, 'ensemble': 1,...</td>\n",
              "    </tr>\n",
              "    <tr>\n",
              "      <th>4</th>\n",
              "      <td>5</td>\n",
              "      <td>published</td>\n",
              "      <td>Levallois-Perret</td>\n",
              "      <td>Chargé pricing H/F</td>\n",
              "      <td>5</td>\n",
              "      <td>CDI</td>\n",
              "      <td>Entreprise    ALLIANCE AUTOMOTIVE France, ...</td>\n",
              "      <td>{'skills': {'collaboration': 1, 'leadership': 1}}</td>\n",
              "    </tr>\n",
              "  </tbody>\n",
              "</table>\n",
              "</div>"
            ],
            "text/plain": [
              "   posted_by_id  ...                                             skills\n",
              "0             1  ...                   {'skills': {'communication': 1}}\n",
              "1             2  ...  {'skills': {'communication': 1, 'consulting': ...\n",
              "2             3  ...  {'skills': {'collaboration': 1, 'reporting': 1...\n",
              "3             4  ...  {'skills': {'collaboration': 1, 'ensemble': 1,...\n",
              "4             5  ...  {'skills': {'collaboration': 1, 'leadership': 1}}\n",
              "\n",
              "[5 rows x 8 columns]"
            ]
          },
          "metadata": {
            "tags": []
          },
          "execution_count": 10
        }
      ]
    },
    {
      "cell_type": "code",
      "metadata": {
        "colab": {
          "base_uri": "https://localhost:8080/"
        },
        "id": "YMr2j7H3ZSTO",
        "outputId": "f8cdedc9-1038-4112-cba7-f8de6211cf68"
      },
      "source": [
        "#Number of Rows in the dataset\n",
        "print(\"Number of Rows are:\",df_all_offers.shape[0])"
      ],
      "execution_count": null,
      "outputs": [
        {
          "output_type": "stream",
          "text": [
            "Number of Rows are: 8867\n"
          ],
          "name": "stdout"
        }
      ]
    },
    {
      "cell_type": "code",
      "metadata": {
        "colab": {
          "base_uri": "https://localhost:8080/"
        },
        "id": "M7zAxWddZSPG",
        "outputId": "bedfb010-902d-4845-c317-0cf3425e5d57"
      },
      "source": [
        "#Number of Columns/features in dataset\n",
        "print(\"Number of Columns are:\",df_all_offers.shape[1])"
      ],
      "execution_count": null,
      "outputs": [
        {
          "output_type": "stream",
          "text": [
            "Number of Columns are: 8\n"
          ],
          "name": "stdout"
        }
      ]
    },
    {
      "cell_type": "code",
      "metadata": {
        "colab": {
          "base_uri": "https://localhost:8080/"
        },
        "id": "Em5flxwfZSJA",
        "outputId": "340220a4-623c-4006-d7b3-a25e7582bd96"
      },
      "source": [
        "#List of Available features in dataset\n",
        "print(\"Available Features are:\",df_all_offers.columns.tolist())"
      ],
      "execution_count": null,
      "outputs": [
        {
          "output_type": "stream",
          "text": [
            "Available Features are: ['posted_by_id', 'status', 'city', 'job_title', 'organization_id', 'contracts', 'description', 'skills']\n"
          ],
          "name": "stdout"
        }
      ]
    },
    {
      "cell_type": "code",
      "metadata": {
        "colab": {
          "base_uri": "https://localhost:8080/"
        },
        "id": "Ex8S04M4ZSFY",
        "outputId": "e3f9633b-1f48-46d7-8053-918d130d783d"
      },
      "source": [
        "# Let's checkout which feature contains which kind of values i.e int /float /etc or what is the data type of values.\n",
        "print(df_all_offers.info())"
      ],
      "execution_count": null,
      "outputs": [
        {
          "output_type": "stream",
          "text": [
            "<class 'pandas.core.frame.DataFrame'>\n",
            "RangeIndex: 8867 entries, 0 to 8866\n",
            "Data columns (total 8 columns):\n",
            " #   Column           Non-Null Count  Dtype \n",
            "---  ------           --------------  ----- \n",
            " 0   posted_by_id     8867 non-null   int64 \n",
            " 1   status           8867 non-null   object\n",
            " 2   city             8867 non-null   object\n",
            " 3   job_title        8867 non-null   object\n",
            " 4   organization_id  8867 non-null   int64 \n",
            " 5   contracts        8867 non-null   object\n",
            " 6   description      8867 non-null   object\n",
            " 7   skills           8867 non-null   object\n",
            "dtypes: int64(2), object(6)\n",
            "memory usage: 554.3+ KB\n",
            "None\n"
          ],
          "name": "stdout"
        }
      ]
    },
    {
      "cell_type": "code",
      "metadata": {
        "colab": {
          "base_uri": "https://localhost:8080/"
        },
        "id": "MOyt1CVgZSA6",
        "outputId": "5a038f10-bdc6-400b-8083-5e99443e081f"
      },
      "source": [
        "#Checking is their any missing values are available in the dataset\n",
        "\n",
        "print(\"Missing values:\\n \",df_all_offers.isnull().sum())\n"
      ],
      "execution_count": null,
      "outputs": [
        {
          "output_type": "stream",
          "text": [
            "Missing values:\n",
            "  posted_by_id       0\n",
            "status             0\n",
            "city               0\n",
            "job_title          0\n",
            "organization_id    0\n",
            "contracts          0\n",
            "description        0\n",
            "skills             0\n",
            "dtype: int64\n"
          ],
          "name": "stdout"
        }
      ]
    },
    {
      "cell_type": "code",
      "metadata": {
        "colab": {
          "base_uri": "https://localhost:8080/"
        },
        "id": "P5itC8JEZR71",
        "outputId": "b8945aa4-54bd-4fbd-9e53-a320afcfc36a"
      },
      "source": [
        "# check for duplicate values\n",
        "df_all_offers.duplicated().sum()\n"
      ],
      "execution_count": null,
      "outputs": [
        {
          "output_type": "execute_result",
          "data": {
            "text/plain": [
              "141"
            ]
          },
          "metadata": {
            "tags": []
          },
          "execution_count": 16
        }
      ]
    },
    {
      "cell_type": "code",
      "metadata": {
        "colab": {
          "base_uri": "https://localhost:8080/"
        },
        "id": "7wxvvnypZRx6",
        "outputId": "d8569acd-7083-4d3c-f173-d12844bff3b2"
      },
      "source": [
        "#checing number of unique values available in each column\n",
        "df_all_offers.nunique()"
      ],
      "execution_count": null,
      "outputs": [
        {
          "output_type": "execute_result",
          "data": {
            "text/plain": [
              "posted_by_id       1345\n",
              "status                1\n",
              "city               1020\n",
              "job_title          6770\n",
              "organization_id    1345\n",
              "contracts            52\n",
              "description        8707\n",
              "skills             2950\n",
              "dtype: int64"
            ]
          },
          "metadata": {
            "tags": []
          },
          "execution_count": 17
        }
      ]
    },
    {
      "cell_type": "markdown",
      "metadata": {
        "id": "NaND7fSGWm2r"
      },
      "source": [
        "Data Analysis of offers.csv\n",
        "\n",
        "---\n",
        "\n"
      ]
    },
    {
      "cell_type": "code",
      "metadata": {
        "colab": {
          "base_uri": "https://localhost:8080/",
          "height": 459
        },
        "id": "Bgmkdmo9Yylt",
        "outputId": "0056d829-9735-4ed9-8e55-ce0293d1c1d9"
      },
      "source": [
        "#Let's understand the data\n",
        "df_offers.head()"
      ],
      "execution_count": null,
      "outputs": [
        {
          "output_type": "execute_result",
          "data": {
            "text/html": [
              "<div>\n",
              "<style scoped>\n",
              "    .dataframe tbody tr th:only-of-type {\n",
              "        vertical-align: middle;\n",
              "    }\n",
              "\n",
              "    .dataframe tbody tr th {\n",
              "        vertical-align: top;\n",
              "    }\n",
              "\n",
              "    .dataframe thead th {\n",
              "        text-align: right;\n",
              "    }\n",
              "</style>\n",
              "<table border=\"1\" class=\"dataframe\">\n",
              "  <thead>\n",
              "    <tr style=\"text-align: right;\">\n",
              "      <th></th>\n",
              "      <th>user_id</th>\n",
              "      <th>status</th>\n",
              "      <th>city</th>\n",
              "      <th>job_title</th>\n",
              "      <th>organization_id</th>\n",
              "      <th>contracts</th>\n",
              "      <th>description</th>\n",
              "      <th>skills</th>\n",
              "    </tr>\n",
              "  </thead>\n",
              "  <tbody>\n",
              "    <tr>\n",
              "      <th>0</th>\n",
              "      <td>55</td>\n",
              "      <td>published</td>\n",
              "      <td>HOMERVILLE</td>\n",
              "      <td>Medical Receptionist</td>\n",
              "      <td>0</td>\n",
              "      <td>AL</td>\n",
              "      <td>'Lorem ipsum dolor sit amet consectetur adipis...</td>\n",
              "      <td>{'skills': {'training': 1, 'certifications': 1...</td>\n",
              "    </tr>\n",
              "    <tr>\n",
              "      <th>1</th>\n",
              "      <td>90</td>\n",
              "      <td>published</td>\n",
              "      <td>DEMOTTE</td>\n",
              "      <td>Clinical Research Associate</td>\n",
              "      <td>1</td>\n",
              "      <td>AL</td>\n",
              "      <td>'Lorem ipsum dolor sit amet consectetur adipis...</td>\n",
              "      <td>{'skills': {'hardware': 2, 'communication': 1,...</td>\n",
              "    </tr>\n",
              "    <tr>\n",
              "      <th>2</th>\n",
              "      <td>2</td>\n",
              "      <td>published</td>\n",
              "      <td>CARY</td>\n",
              "      <td>Territory Sales Representative</td>\n",
              "      <td>2</td>\n",
              "      <td>AL</td>\n",
              "      <td>'Lorem ipsum dolor sit amet consectetur adipis...</td>\n",
              "      <td>{'skills': {'communication': 4, 'e-commerce': 1}}</td>\n",
              "    </tr>\n",
              "    <tr>\n",
              "      <th>3</th>\n",
              "      <td>3</td>\n",
              "      <td>published</td>\n",
              "      <td>SKOWHEGAN</td>\n",
              "      <td>Bus Driver</td>\n",
              "      <td>3</td>\n",
              "      <td>AL</td>\n",
              "      <td>'Lorem ipsum dolor sit amet consectetur adipis...</td>\n",
              "      <td>{'skills': {'mobile': 1, 'communication': 2, '...</td>\n",
              "    </tr>\n",
              "    <tr>\n",
              "      <th>4</th>\n",
              "      <td>4</td>\n",
              "      <td>published</td>\n",
              "      <td>HOLLISTER</td>\n",
              "      <td>Foreign Service Officer</td>\n",
              "      <td>4</td>\n",
              "      <td>AL</td>\n",
              "      <td>'Lorem ipsum dolor sit amet consectetur adipis...</td>\n",
              "      <td>{'skills': {'training': 4, 'designer': 1, 'pro...</td>\n",
              "    </tr>\n",
              "  </tbody>\n",
              "</table>\n",
              "</div>"
            ],
            "text/plain": [
              "   user_id  ...                                             skills\n",
              "0       55  ...  {'skills': {'training': 1, 'certifications': 1...\n",
              "1       90  ...  {'skills': {'hardware': 2, 'communication': 1,...\n",
              "2        2  ...  {'skills': {'communication': 4, 'e-commerce': 1}}\n",
              "3        3  ...  {'skills': {'mobile': 1, 'communication': 2, '...\n",
              "4        4  ...  {'skills': {'training': 4, 'designer': 1, 'pro...\n",
              "\n",
              "[5 rows x 8 columns]"
            ]
          },
          "metadata": {
            "tags": []
          },
          "execution_count": 18
        }
      ]
    },
    {
      "cell_type": "code",
      "metadata": {
        "colab": {
          "base_uri": "https://localhost:8080/"
        },
        "id": "ACpoUUvGaqtm",
        "outputId": "8fe1b973-3b83-4ed0-d0ac-0139e3553b36"
      },
      "source": [
        "#Number of Rows in the dataset\n",
        "print(\"Number of Rows are:\",df_offers.shape[0])"
      ],
      "execution_count": null,
      "outputs": [
        {
          "output_type": "stream",
          "text": [
            "Number of Rows are: 252\n"
          ],
          "name": "stdout"
        }
      ]
    },
    {
      "cell_type": "code",
      "metadata": {
        "colab": {
          "base_uri": "https://localhost:8080/"
        },
        "id": "9Uxv3N7_aqms",
        "outputId": "8a6613fd-c018-43e2-c5a2-0bce0c1db822"
      },
      "source": [
        "#Number of Columns/features in dataset\n",
        "print(\"Number of Columns are:\",df_offers.shape[1])"
      ],
      "execution_count": null,
      "outputs": [
        {
          "output_type": "stream",
          "text": [
            "Number of Columns are: 8\n"
          ],
          "name": "stdout"
        }
      ]
    },
    {
      "cell_type": "code",
      "metadata": {
        "colab": {
          "base_uri": "https://localhost:8080/"
        },
        "id": "F2PVcR91aqhS",
        "outputId": "c525dff7-6a8d-44dd-bec4-ea8ada623e2d"
      },
      "source": [
        "#List of Available features in dataset\n",
        "print(\"Available Features are:\",df_offers.columns.tolist())"
      ],
      "execution_count": null,
      "outputs": [
        {
          "output_type": "stream",
          "text": [
            "Available Features are: ['user_id', 'status', 'city', 'job_title', 'organization_id', 'contracts', 'description', 'skills']\n"
          ],
          "name": "stdout"
        }
      ]
    },
    {
      "cell_type": "code",
      "metadata": {
        "colab": {
          "base_uri": "https://localhost:8080/"
        },
        "id": "E8VXoUmhmH4E",
        "outputId": "e496c659-48e0-4c10-cdef-0bdf3428ec35"
      },
      "source": [
        "df_offers.columns.tolist()"
      ],
      "execution_count": null,
      "outputs": [
        {
          "output_type": "execute_result",
          "data": {
            "text/plain": [
              "['user_id',\n",
              " 'status',\n",
              " 'city',\n",
              " 'job_title',\n",
              " 'organization_id',\n",
              " 'contracts',\n",
              " 'description',\n",
              " 'skills']"
            ]
          },
          "metadata": {
            "tags": []
          },
          "execution_count": 22
        }
      ]
    },
    {
      "cell_type": "code",
      "metadata": {
        "colab": {
          "base_uri": "https://localhost:8080/"
        },
        "id": "imY1xTn0aqat",
        "outputId": "95be17f1-43b2-4149-845d-ec0a352c6707"
      },
      "source": [
        "# Let's checkout which feature contains which kind of values i.e int /float /etc or what is the data type of values.\n",
        "print(df_offers.info())"
      ],
      "execution_count": null,
      "outputs": [
        {
          "output_type": "stream",
          "text": [
            "<class 'pandas.core.frame.DataFrame'>\n",
            "RangeIndex: 252 entries, 0 to 251\n",
            "Data columns (total 8 columns):\n",
            " #   Column           Non-Null Count  Dtype \n",
            "---  ------           --------------  ----- \n",
            " 0   user_id          252 non-null    int64 \n",
            " 1   status           252 non-null    object\n",
            " 2   city             252 non-null    object\n",
            " 3   job_title        252 non-null    object\n",
            " 4   organization_id  252 non-null    int64 \n",
            " 5   contracts        252 non-null    object\n",
            " 6   description      252 non-null    object\n",
            " 7   skills           252 non-null    object\n",
            "dtypes: int64(2), object(6)\n",
            "memory usage: 15.9+ KB\n",
            "None\n"
          ],
          "name": "stdout"
        }
      ]
    },
    {
      "cell_type": "code",
      "metadata": {
        "colab": {
          "base_uri": "https://localhost:8080/"
        },
        "id": "_3-h_HJUaqXh",
        "outputId": "c9776a29-8e8d-4fca-e55c-048c1e06d73d"
      },
      "source": [
        "#Checking is their any missing values are available in the dataset\n",
        "\n",
        "print(\"Missing values:\\n \",df_offers.isnull().sum())"
      ],
      "execution_count": null,
      "outputs": [
        {
          "output_type": "stream",
          "text": [
            "Missing values:\n",
            "  user_id            0\n",
            "status             0\n",
            "city               0\n",
            "job_title          0\n",
            "organization_id    0\n",
            "contracts          0\n",
            "description        0\n",
            "skills             0\n",
            "dtype: int64\n"
          ],
          "name": "stdout"
        }
      ]
    },
    {
      "cell_type": "code",
      "metadata": {
        "colab": {
          "base_uri": "https://localhost:8080/"
        },
        "id": "3CBR2ksTaqUI",
        "outputId": "8c6b5408-8c08-423b-a0e3-bf024dae5569"
      },
      "source": [
        "# check for duplicate values\n",
        "df_offers.duplicated().sum()"
      ],
      "execution_count": null,
      "outputs": [
        {
          "output_type": "execute_result",
          "data": {
            "text/plain": [
              "0"
            ]
          },
          "metadata": {
            "tags": []
          },
          "execution_count": 25
        }
      ]
    },
    {
      "cell_type": "code",
      "metadata": {
        "colab": {
          "base_uri": "https://localhost:8080/"
        },
        "id": "IvPnF2zHaqQc",
        "outputId": "6a99698c-50bc-42d3-8124-5b99b244871f"
      },
      "source": [
        "#checing number of unique values available in each column\n",
        "df_offers.nunique()"
      ],
      "execution_count": null,
      "outputs": [
        {
          "output_type": "execute_result",
          "data": {
            "text/plain": [
              "user_id            200\n",
              "status               1\n",
              "city               213\n",
              "job_title          222\n",
              "organization_id    200\n",
              "contracts            1\n",
              "description          1\n",
              "skills             151\n",
              "dtype: int64"
            ]
          },
          "metadata": {
            "tags": []
          },
          "execution_count": 26
        }
      ]
    },
    {
      "cell_type": "markdown",
      "metadata": {
        "id": "qCjJuzalYu7S"
      },
      "source": [
        "Data Analysis of Users.csv\n",
        "\n",
        "---\n",
        "\n"
      ]
    },
    {
      "cell_type": "code",
      "metadata": {
        "colab": {
          "base_uri": "https://localhost:8080/",
          "height": 238
        },
        "id": "tobwF9WuU9e0",
        "outputId": "acc55477-4403-433f-a051-426ace4f5306"
      },
      "source": [
        "#Let's understand the data\n",
        "df_org.head()"
      ],
      "execution_count": null,
      "outputs": [
        {
          "output_type": "execute_result",
          "data": {
            "text/html": [
              "<div>\n",
              "<style scoped>\n",
              "    .dataframe tbody tr th:only-of-type {\n",
              "        vertical-align: middle;\n",
              "    }\n",
              "\n",
              "    .dataframe tbody tr th {\n",
              "        vertical-align: top;\n",
              "    }\n",
              "\n",
              "    .dataframe thead th {\n",
              "        text-align: right;\n",
              "    }\n",
              "</style>\n",
              "<table border=\"1\" class=\"dataframe\">\n",
              "  <thead>\n",
              "    <tr style=\"text-align: right;\">\n",
              "      <th></th>\n",
              "      <th>organization_id</th>\n",
              "      <th>company_name</th>\n",
              "      <th>email</th>\n",
              "      <th>address</th>\n",
              "      <th>size</th>\n",
              "      <th>sectors</th>\n",
              "    </tr>\n",
              "  </thead>\n",
              "  <tbody>\n",
              "    <tr>\n",
              "      <th>0</th>\n",
              "      <td>0</td>\n",
              "      <td>BARON &amp; DECK</td>\n",
              "      <td>John.C.Maher@spambob.com</td>\n",
              "      <td>1018 1ST AVE APT 1229 # 7A</td>\n",
              "      <td>MC</td>\n",
              "      <td>PT</td>\n",
              "    </tr>\n",
              "    <tr>\n",
              "      <th>1</th>\n",
              "      <td>1</td>\n",
              "      <td>HILLSIDE TERRACE APTS</td>\n",
              "      <td>Shelley.M.Hamer@mailinator.com</td>\n",
              "      <td>10051 SANDRIDGE RD</td>\n",
              "      <td>BG</td>\n",
              "      <td>VA</td>\n",
              "    </tr>\n",
              "    <tr>\n",
              "      <th>2</th>\n",
              "      <td>2</td>\n",
              "      <td>GEORGE B LEWIS APTS</td>\n",
              "      <td>Tracie.M.Vargas@dodgit.com</td>\n",
              "      <td>10964 54TH ST SE</td>\n",
              "      <td>MC</td>\n",
              "      <td>GD</td>\n",
              "    </tr>\n",
              "    <tr>\n",
              "      <th>3</th>\n",
              "      <td>3</td>\n",
              "      <td>F A A AIRPORT</td>\n",
              "      <td>John.P.Stephens@pookmail.com</td>\n",
              "      <td>10826 WALNUT ST</td>\n",
              "      <td>MD</td>\n",
              "      <td>MA</td>\n",
              "    </tr>\n",
              "    <tr>\n",
              "      <th>4</th>\n",
              "      <td>4</td>\n",
              "      <td>BON JOUR ANSWERING</td>\n",
              "      <td>Nicholas.J.Fisher@spambob.com</td>\n",
              "      <td>101 JACKS LN</td>\n",
              "      <td>ST</td>\n",
              "      <td>GD</td>\n",
              "    </tr>\n",
              "  </tbody>\n",
              "</table>\n",
              "</div>"
            ],
            "text/plain": [
              "   organization_id           company_name  ... size sectors\n",
              "0                0           BARON & DECK  ...   MC      PT\n",
              "1                1  HILLSIDE TERRACE APTS  ...   BG      VA\n",
              "2                2    GEORGE B LEWIS APTS  ...   MC      GD\n",
              "3                3          F A A AIRPORT  ...   MD      MA\n",
              "4                4     BON JOUR ANSWERING  ...   ST      GD\n",
              "\n",
              "[5 rows x 6 columns]"
            ]
          },
          "metadata": {
            "tags": []
          },
          "execution_count": 27
        }
      ]
    },
    {
      "cell_type": "code",
      "metadata": {
        "colab": {
          "base_uri": "https://localhost:8080/"
        },
        "id": "0V1jaQpSEjpt",
        "outputId": "8eb8157b-f288-4c13-e3d9-939506ea66a2"
      },
      "source": [
        "#Number of Rows in the dataset\n",
        "print(\"Number of Rows are:\",df_org.shape[0])"
      ],
      "execution_count": null,
      "outputs": [
        {
          "output_type": "stream",
          "text": [
            "Number of Rows are: 201\n"
          ],
          "name": "stdout"
        }
      ]
    },
    {
      "cell_type": "code",
      "metadata": {
        "colab": {
          "base_uri": "https://localhost:8080/"
        },
        "id": "O7a7gmOPEjl-",
        "outputId": "a55fa17d-d2e2-4746-dfce-53a40facf734"
      },
      "source": [
        "#Number of Columns/features in dataset\n",
        "print(\"Number of Columns are:\",df_org.shape[1])"
      ],
      "execution_count": null,
      "outputs": [
        {
          "output_type": "stream",
          "text": [
            "Number of Columns are: 6\n"
          ],
          "name": "stdout"
        }
      ]
    },
    {
      "cell_type": "code",
      "metadata": {
        "colab": {
          "base_uri": "https://localhost:8080/"
        },
        "id": "a2OjUWm9EjiQ",
        "outputId": "20c19ec4-b629-4922-ada0-078f23241937"
      },
      "source": [
        "#List of Available features in dataset\n",
        "print(\"Available Features are:\",df_org.columns.tolist())"
      ],
      "execution_count": null,
      "outputs": [
        {
          "output_type": "stream",
          "text": [
            "Available Features are: ['organization_id', 'company_name', 'email', 'address', 'size', 'sectors']\n"
          ],
          "name": "stdout"
        }
      ]
    },
    {
      "cell_type": "code",
      "metadata": {
        "colab": {
          "base_uri": "https://localhost:8080/"
        },
        "id": "HuO4d1FXU9Z1",
        "outputId": "84a76ddf-38b8-4866-ee97-020845604f8b"
      },
      "source": [
        "# Let's checkout which feature contains which kind of values i.e int /float /etc or what is the data type of values.\n",
        "print(df_offers.info())"
      ],
      "execution_count": null,
      "outputs": [
        {
          "output_type": "stream",
          "text": [
            "<class 'pandas.core.frame.DataFrame'>\n",
            "RangeIndex: 252 entries, 0 to 251\n",
            "Data columns (total 8 columns):\n",
            " #   Column           Non-Null Count  Dtype \n",
            "---  ------           --------------  ----- \n",
            " 0   user_id          252 non-null    int64 \n",
            " 1   status           252 non-null    object\n",
            " 2   city             252 non-null    object\n",
            " 3   job_title        252 non-null    object\n",
            " 4   organization_id  252 non-null    int64 \n",
            " 5   contracts        252 non-null    object\n",
            " 6   description      252 non-null    object\n",
            " 7   skills           252 non-null    object\n",
            "dtypes: int64(2), object(6)\n",
            "memory usage: 15.9+ KB\n",
            "None\n"
          ],
          "name": "stdout"
        }
      ]
    },
    {
      "cell_type": "code",
      "metadata": {
        "colab": {
          "base_uri": "https://localhost:8080/"
        },
        "id": "QvRQ68v-G8q6",
        "outputId": "901ae73f-0342-42cf-eb91-8bca764215fb"
      },
      "source": [
        "#Checking is their any missing values are available in the dataset\n",
        "\n",
        "print(\"Missing values:\\n \",df_org.isnull().sum())"
      ],
      "execution_count": null,
      "outputs": [
        {
          "output_type": "stream",
          "text": [
            "Missing values:\n",
            "  organization_id    0\n",
            "company_name       0\n",
            "email              0\n",
            "address            0\n",
            "size               0\n",
            "sectors            0\n",
            "dtype: int64\n"
          ],
          "name": "stdout"
        }
      ]
    },
    {
      "cell_type": "code",
      "metadata": {
        "colab": {
          "base_uri": "https://localhost:8080/"
        },
        "id": "Rk9pDMajG8nU",
        "outputId": "765ffba7-fa8d-48ba-aa10-8ba5561d31fc"
      },
      "source": [
        "# check for duplicate values\n",
        "df_org.duplicated().sum()"
      ],
      "execution_count": null,
      "outputs": [
        {
          "output_type": "execute_result",
          "data": {
            "text/plain": [
              "0"
            ]
          },
          "metadata": {
            "tags": []
          },
          "execution_count": 33
        }
      ]
    },
    {
      "cell_type": "code",
      "metadata": {
        "colab": {
          "base_uri": "https://localhost:8080/"
        },
        "id": "VXIadDaXHHJd",
        "outputId": "acb4e74a-423c-4514-8553-87b073215aa9"
      },
      "source": [
        "#checing number of unique values available in each column\n",
        "df_org.nunique()"
      ],
      "execution_count": null,
      "outputs": [
        {
          "output_type": "execute_result",
          "data": {
            "text/plain": [
              "organization_id    201\n",
              "company_name       106\n",
              "email              201\n",
              "address            201\n",
              "size                 4\n",
              "sectors              5\n",
              "dtype: int64"
            ]
          },
          "metadata": {
            "tags": []
          },
          "execution_count": 34
        }
      ]
    },
    {
      "cell_type": "markdown",
      "metadata": {
        "id": "1jk7ij5iTugq"
      },
      "source": [
        "Combining the Datasets\n",
        "\n",
        "---\n"
      ]
    },
    {
      "cell_type": "code",
      "metadata": {
        "colab": {
          "base_uri": "https://localhost:8080/",
          "height": 479
        },
        "id": "fTvQgHARtJS1",
        "cellView": "code",
        "outputId": "e2294e5e-7f74-4535-b924-5de622c4f26f"
      },
      "source": [
        "#Combining the dataset Offers.csv and Org.csv\n",
        "df_combined1=pd.merge(df_offers,df_org)\n",
        "df_combined1.head()"
      ],
      "execution_count": null,
      "outputs": [
        {
          "output_type": "execute_result",
          "data": {
            "text/html": [
              "<div>\n",
              "<style scoped>\n",
              "    .dataframe tbody tr th:only-of-type {\n",
              "        vertical-align: middle;\n",
              "    }\n",
              "\n",
              "    .dataframe tbody tr th {\n",
              "        vertical-align: top;\n",
              "    }\n",
              "\n",
              "    .dataframe thead th {\n",
              "        text-align: right;\n",
              "    }\n",
              "</style>\n",
              "<table border=\"1\" class=\"dataframe\">\n",
              "  <thead>\n",
              "    <tr style=\"text-align: right;\">\n",
              "      <th></th>\n",
              "      <th>user_id</th>\n",
              "      <th>status</th>\n",
              "      <th>city</th>\n",
              "      <th>job_title</th>\n",
              "      <th>organization_id</th>\n",
              "      <th>contracts</th>\n",
              "      <th>description</th>\n",
              "      <th>skills</th>\n",
              "      <th>company_name</th>\n",
              "      <th>email</th>\n",
              "      <th>address</th>\n",
              "      <th>size</th>\n",
              "      <th>sectors</th>\n",
              "    </tr>\n",
              "  </thead>\n",
              "  <tbody>\n",
              "    <tr>\n",
              "      <th>0</th>\n",
              "      <td>55</td>\n",
              "      <td>published</td>\n",
              "      <td>HOMERVILLE</td>\n",
              "      <td>Medical Receptionist</td>\n",
              "      <td>0</td>\n",
              "      <td>AL</td>\n",
              "      <td>'Lorem ipsum dolor sit amet consectetur adipis...</td>\n",
              "      <td>{'skills': {'training': 1, 'certifications': 1...</td>\n",
              "      <td>BARON &amp; DECK</td>\n",
              "      <td>John.C.Maher@spambob.com</td>\n",
              "      <td>1018 1ST AVE APT 1229 # 7A</td>\n",
              "      <td>MC</td>\n",
              "      <td>PT</td>\n",
              "    </tr>\n",
              "    <tr>\n",
              "      <th>1</th>\n",
              "      <td>90</td>\n",
              "      <td>published</td>\n",
              "      <td>DEMOTTE</td>\n",
              "      <td>Clinical Research Associate</td>\n",
              "      <td>1</td>\n",
              "      <td>AL</td>\n",
              "      <td>'Lorem ipsum dolor sit amet consectetur adipis...</td>\n",
              "      <td>{'skills': {'hardware': 2, 'communication': 1,...</td>\n",
              "      <td>HILLSIDE TERRACE APTS</td>\n",
              "      <td>Shelley.M.Hamer@mailinator.com</td>\n",
              "      <td>10051 SANDRIDGE RD</td>\n",
              "      <td>BG</td>\n",
              "      <td>VA</td>\n",
              "    </tr>\n",
              "    <tr>\n",
              "      <th>2</th>\n",
              "      <td>2</td>\n",
              "      <td>published</td>\n",
              "      <td>CARY</td>\n",
              "      <td>Territory Sales Representative</td>\n",
              "      <td>2</td>\n",
              "      <td>AL</td>\n",
              "      <td>'Lorem ipsum dolor sit amet consectetur adipis...</td>\n",
              "      <td>{'skills': {'communication': 4, 'e-commerce': 1}}</td>\n",
              "      <td>GEORGE B LEWIS APTS</td>\n",
              "      <td>Tracie.M.Vargas@dodgit.com</td>\n",
              "      <td>10964 54TH ST SE</td>\n",
              "      <td>MC</td>\n",
              "      <td>GD</td>\n",
              "    </tr>\n",
              "    <tr>\n",
              "      <th>3</th>\n",
              "      <td>22</td>\n",
              "      <td>published</td>\n",
              "      <td>CHICAGO RIDGE</td>\n",
              "      <td>Endoscopy Nurse</td>\n",
              "      <td>2</td>\n",
              "      <td>AL</td>\n",
              "      <td>'Lorem ipsum dolor sit amet consectetur adipis...</td>\n",
              "      <td>{'skills': {'e-commerce': 1}}</td>\n",
              "      <td>GEORGE B LEWIS APTS</td>\n",
              "      <td>Tracie.M.Vargas@dodgit.com</td>\n",
              "      <td>10964 54TH ST SE</td>\n",
              "      <td>MC</td>\n",
              "      <td>GD</td>\n",
              "    </tr>\n",
              "    <tr>\n",
              "      <th>4</th>\n",
              "      <td>3</td>\n",
              "      <td>published</td>\n",
              "      <td>SKOWHEGAN</td>\n",
              "      <td>Bus Driver</td>\n",
              "      <td>3</td>\n",
              "      <td>AL</td>\n",
              "      <td>'Lorem ipsum dolor sit amet consectetur adipis...</td>\n",
              "      <td>{'skills': {'mobile': 1, 'communication': 2, '...</td>\n",
              "      <td>F A A AIRPORT</td>\n",
              "      <td>John.P.Stephens@pookmail.com</td>\n",
              "      <td>10826 WALNUT ST</td>\n",
              "      <td>MD</td>\n",
              "      <td>MA</td>\n",
              "    </tr>\n",
              "  </tbody>\n",
              "</table>\n",
              "</div>"
            ],
            "text/plain": [
              "   user_id     status           city  ...                     address  size sectors\n",
              "0       55  published     HOMERVILLE  ...  1018 1ST AVE APT 1229 # 7A    MC      PT\n",
              "1       90  published        DEMOTTE  ...          10051 SANDRIDGE RD    BG      VA\n",
              "2        2  published           CARY  ...            10964 54TH ST SE    MC      GD\n",
              "3       22  published  CHICAGO RIDGE  ...            10964 54TH ST SE    MC      GD\n",
              "4        3  published      SKOWHEGAN  ...             10826 WALNUT ST    MD      MA\n",
              "\n",
              "[5 rows x 13 columns]"
            ]
          },
          "metadata": {
            "tags": []
          },
          "execution_count": 35
        }
      ]
    },
    {
      "cell_type": "code",
      "metadata": {
        "id": "FhpdkSb1tJPb",
        "colab": {
          "base_uri": "https://localhost:8080/"
        },
        "outputId": "15a76640-607e-4f6a-9a0e-36d36d215a6d"
      },
      "source": [
        "#Number of Rows in the dataset\n",
        "print(\"Number of Rows are:\",df_combined1.shape[0])\n",
        "#Number of Columns/features in dataset\n",
        "print(\"Number of Columns are:\",df_combined1.shape[1])"
      ],
      "execution_count": null,
      "outputs": [
        {
          "output_type": "stream",
          "text": [
            "Number of Rows are: 252\n",
            "Number of Columns are: 13\n"
          ],
          "name": "stdout"
        }
      ]
    },
    {
      "cell_type": "code",
      "metadata": {
        "id": "ywDo_VWNs13w"
      },
      "source": [
        "# print(df_combined2)"
      ],
      "execution_count": null,
      "outputs": []
    },
    {
      "cell_type": "code",
      "metadata": {
        "id": "KybNVrZ6tJI1",
        "colab": {
          "base_uri": "https://localhost:8080/",
          "height": 530
        },
        "outputId": "360ac50d-797e-4568-c391-56932305c2b5"
      },
      "source": [
        "#Combining the Datasets All_offers.csv and Org.csv\n",
        "df_combined2=pd.merge(df_all_offers,df_org,on='organization_id')\n",
        "df_combined2.head()"
      ],
      "execution_count": null,
      "outputs": [
        {
          "output_type": "execute_result",
          "data": {
            "text/html": [
              "<div>\n",
              "<style scoped>\n",
              "    .dataframe tbody tr th:only-of-type {\n",
              "        vertical-align: middle;\n",
              "    }\n",
              "\n",
              "    .dataframe tbody tr th {\n",
              "        vertical-align: top;\n",
              "    }\n",
              "\n",
              "    .dataframe thead th {\n",
              "        text-align: right;\n",
              "    }\n",
              "</style>\n",
              "<table border=\"1\" class=\"dataframe\">\n",
              "  <thead>\n",
              "    <tr style=\"text-align: right;\">\n",
              "      <th></th>\n",
              "      <th>posted_by_id</th>\n",
              "      <th>status</th>\n",
              "      <th>city</th>\n",
              "      <th>job_title</th>\n",
              "      <th>organization_id</th>\n",
              "      <th>contracts</th>\n",
              "      <th>description</th>\n",
              "      <th>skills</th>\n",
              "      <th>company_name</th>\n",
              "      <th>email</th>\n",
              "      <th>address</th>\n",
              "      <th>size</th>\n",
              "      <th>sectors</th>\n",
              "    </tr>\n",
              "  </thead>\n",
              "  <tbody>\n",
              "    <tr>\n",
              "      <th>0</th>\n",
              "      <td>1</td>\n",
              "      <td>published</td>\n",
              "      <td>Bondues</td>\n",
              "      <td>Stagiaire (H/F) Assistant Marketing Nutritionnel</td>\n",
              "      <td>1</td>\n",
              "      <td>Stage6mois</td>\n",
              "      <td>Entreprise    Le Groupe LACTALIS (près de ...</td>\n",
              "      <td>{'skills': {'communication': 1}}</td>\n",
              "      <td>HILLSIDE TERRACE APTS</td>\n",
              "      <td>Shelley.M.Hamer@mailinator.com</td>\n",
              "      <td>10051 SANDRIDGE RD</td>\n",
              "      <td>BG</td>\n",
              "      <td>VA</td>\n",
              "    </tr>\n",
              "    <tr>\n",
              "      <th>1</th>\n",
              "      <td>1</td>\n",
              "      <td>published</td>\n",
              "      <td>Laval</td>\n",
              "      <td>Stagiaire (H/F) Ingénieur Maintenance Toute Fr...</td>\n",
              "      <td>1</td>\n",
              "      <td>Stage6mois</td>\n",
              "      <td>Entreprise    Vous souhaitez faire vos pre...</td>\n",
              "      <td>{'skills': {}}</td>\n",
              "      <td>HILLSIDE TERRACE APTS</td>\n",
              "      <td>Shelley.M.Hamer@mailinator.com</td>\n",
              "      <td>10051 SANDRIDGE RD</td>\n",
              "      <td>BG</td>\n",
              "      <td>VA</td>\n",
              "    </tr>\n",
              "    <tr>\n",
              "      <th>2</th>\n",
              "      <td>1</td>\n",
              "      <td>published</td>\n",
              "      <td>Châteaubourg</td>\n",
              "      <td>Stage (H/F) Ingé Production (35)</td>\n",
              "      <td>1</td>\n",
              "      <td>Stage6mois</td>\n",
              "      <td>Entreprise    Vous souhaitez faire vos pre...</td>\n",
              "      <td>{'skills': {'autonome': 1}}</td>\n",
              "      <td>HILLSIDE TERRACE APTS</td>\n",
              "      <td>Shelley.M.Hamer@mailinator.com</td>\n",
              "      <td>10051 SANDRIDGE RD</td>\n",
              "      <td>BG</td>\n",
              "      <td>VA</td>\n",
              "    </tr>\n",
              "    <tr>\n",
              "      <th>3</th>\n",
              "      <td>1</td>\n",
              "      <td>published</td>\n",
              "      <td>Châteaubourg</td>\n",
              "      <td>Stage (H/F) Ingé Prod - fabrication (35)</td>\n",
              "      <td>1</td>\n",
              "      <td>Stage6mois</td>\n",
              "      <td>Entreprise    Vous souhaitez faire vos pre...</td>\n",
              "      <td>{'skills': {'autonome': 1}}</td>\n",
              "      <td>HILLSIDE TERRACE APTS</td>\n",
              "      <td>Shelley.M.Hamer@mailinator.com</td>\n",
              "      <td>10051 SANDRIDGE RD</td>\n",
              "      <td>BG</td>\n",
              "      <td>VA</td>\n",
              "    </tr>\n",
              "    <tr>\n",
              "      <th>4</th>\n",
              "      <td>1</td>\n",
              "      <td>published</td>\n",
              "      <td>Noisy-le-Grand</td>\n",
              "      <td>Stagiaire H/F- Chargé(e) de missions RH</td>\n",
              "      <td>1</td>\n",
              "      <td>Stage6mois</td>\n",
              "      <td>Entreprise    La Division Lactalis Nestlé ...</td>\n",
              "      <td>{'skills': {}}</td>\n",
              "      <td>HILLSIDE TERRACE APTS</td>\n",
              "      <td>Shelley.M.Hamer@mailinator.com</td>\n",
              "      <td>10051 SANDRIDGE RD</td>\n",
              "      <td>BG</td>\n",
              "      <td>VA</td>\n",
              "    </tr>\n",
              "  </tbody>\n",
              "</table>\n",
              "</div>"
            ],
            "text/plain": [
              "   posted_by_id     status            city  ...             address  size sectors\n",
              "0             1  published         Bondues  ...  10051 SANDRIDGE RD    BG      VA\n",
              "1             1  published           Laval  ...  10051 SANDRIDGE RD    BG      VA\n",
              "2             1  published    Châteaubourg  ...  10051 SANDRIDGE RD    BG      VA\n",
              "3             1  published    Châteaubourg  ...  10051 SANDRIDGE RD    BG      VA\n",
              "4             1  published  Noisy-le-Grand  ...  10051 SANDRIDGE RD    BG      VA\n",
              "\n",
              "[5 rows x 13 columns]"
            ]
          },
          "metadata": {
            "tags": []
          },
          "execution_count": 38
        }
      ]
    },
    {
      "cell_type": "markdown",
      "metadata": {
        "id": "AwAe4czSs630"
      },
      "source": [
        ""
      ]
    },
    {
      "cell_type": "code",
      "metadata": {
        "id": "nX1VI0qiUqUb"
      },
      "source": [
        ""
      ],
      "execution_count": null,
      "outputs": []
    },
    {
      "cell_type": "code",
      "metadata": {
        "colab": {
          "base_uri": "https://localhost:8080/"
        },
        "id": "zLygWV0yTXyS",
        "outputId": "cf853c34-85a4-46a2-e31b-e7e00ffd6c1b"
      },
      "source": [
        "#Number of Rows in the dataset\n",
        "print(\"Number of Rows are:\",df_combined2.shape[0])\n",
        "#Number of Columns/features in dataset\n",
        "print(\"Number of Columns are:\",df_combined2.shape[1])"
      ],
      "execution_count": null,
      "outputs": [
        {
          "output_type": "stream",
          "text": [
            "Number of Rows are: 5087\n",
            "Number of Columns are: 13\n"
          ],
          "name": "stdout"
        }
      ]
    },
    {
      "cell_type": "code",
      "metadata": {
        "id": "4O0kI-Y0TXvH"
      },
      "source": [
        "# df_combined3=pd.merge(df_all_offers,df_org,on='organization_id',how='outer')\n",
        "# print(\"Number of Rows are:\",df_combined3.shape[0])"
      ],
      "execution_count": null,
      "outputs": []
    },
    {
      "cell_type": "code",
      "metadata": {
        "id": "s9lkd-EvTXsE"
      },
      "source": [
        "# df_combined3.isnull().sum()"
      ],
      "execution_count": null,
      "outputs": []
    },
    {
      "cell_type": "markdown",
      "metadata": {
        "id": "FpF4I-PL1Bsq"
      },
      "source": [
        "Job and Skills List of Dictionary\n"
      ]
    },
    {
      "cell_type": "code",
      "metadata": {
        "id": "i5tjK17unznS",
        "colab": {
          "base_uri": "https://localhost:8080/"
        },
        "outputId": "42355683-a5b7-4a02-e3a9-2a775d100200"
      },
      "source": [
        "#Combining the Datasets All_offers.csv and Org.csv\n",
        "df_combined1['contracts'].unique()"
      ],
      "execution_count": null,
      "outputs": [
        {
          "output_type": "execute_result",
          "data": {
            "text/plain": [
              "array(['AL'], dtype=object)"
            ]
          },
          "metadata": {
            "tags": []
          },
          "execution_count": 42
        }
      ]
    },
    {
      "cell_type": "code",
      "metadata": {
        "id": "PGazYDc9nzkN",
        "colab": {
          "base_uri": "https://localhost:8080/"
        },
        "outputId": "63a6a8f1-6a24-4c74-87b4-4f50b43dbf4f"
      },
      "source": [
        "jobs = df_combined1['job_title'].unique()\n",
        "jobs"
      ],
      "execution_count": null,
      "outputs": [
        {
          "output_type": "execute_result",
          "data": {
            "text/plain": [
              "array(['Medical Receptionist', 'Clinical Research Associate',\n",
              "       'Territory Sales Representative', 'Endoscopy Nurse', 'Bus Driver',\n",
              "       'Foreign Service Officer', 'Sales Analyst', 'Strategy Consultant?',\n",
              "       'Pipeline Engineer', 'Cost Engineer', 'Technical Writer',\n",
              "       'Solutions Consultant - Electrical Engineering', 'Power Regulator',\n",
              "       'Conservation Technician', 'Manager of Engineering',\n",
              "       'Forecast Systems Manager', 'Water Services Technician',\n",
              "       'Front Desk Associate',\n",
              "       'Senior Analyst Retail Analytics and Reporting',\n",
              "       'Total Quality Management Director', 'Aviation Inside Sales',\n",
              "       'HVAC Mechanic', 'Cognos Business Development Architect',\n",
              "       'School Social Worker', 'International Education Coordinator',\n",
              "       'Treasurer', 'Pipefitter',\n",
              "       'Manufacturing Customer Service Representative',\n",
              "       'Laboratory Sales Consultant', 'Quality Assurance Manager',\n",
              "       'Customer Service Agent', 'Night Auditor',\n",
              "       'Process Control Engineer', 'Business Intelligence Developer',\n",
              "       'Concrete Finisher', 'Solid Waste Field Technician',\n",
              "       'Healthcare Consultant', 'Producer Travel Channel',\n",
              "       'Organic Lab Worker', 'Attorney', 'Compliance Engineer',\n",
              "       'Research and Development Tester', 'Quality Associate/Validation',\n",
              "       'Chief of Career Pathways and Integrated Learning',\n",
              "       'Executive Conference Manager', 'Assistant Coach',\n",
              "       'IT Support Staff', 'Cardiovascular Operating Room Nurse',\n",
              "       'Meeting Specialist', 'Vice Principal',\n",
              "       'Cyber Intelligence Watch Officer', 'Freelance Travel Writer',\n",
              "       'Assistant General Manager', 'Account Executive',\n",
              "       'Catering Account Manger', 'Process Engineer', 'Catering Manager',\n",
              "       'Roadie', 'Research and Development Technician',\n",
              "       'Front Desk Attendant', 'Human Resources Assistant',\n",
              "       'Station Agent', 'Sales and Marketing Coordinator',\n",
              "       'Solar Installers', 'Environmental Project Analyst',\n",
              "       'Travel Consultant', 'Stationary Engineer', 'Material Handler',\n",
              "       'Healthcare Business Intelligence Manager',\n",
              "       'Senior Competitive Intelligence Manager',\n",
              "       'Quality Assurance Technologist', 'Component Engineer',\n",
              "       'Threat Intelligence Analyst', 'Staff Assistant - Accounting',\n",
              "       'Metal Building Erector', 'Environmental Services Representative',\n",
              "       'Staff Engineer', 'Assistant Technician', 'Project Manager',\n",
              "       'Maintenance Engineer', 'Engineering Technician',\n",
              "       'Director of Hotel Sales',\n",
              "       'Solution Architect Business Intelligence', 'Mutual Fund Analyst',\n",
              "       'Market Access Associate', 'Operations Research Analysis Manager',\n",
              "       'Bellman', 'Real Estate Appraiser', 'Human Resources Director',\n",
              "       'Crew Scheduling Manager', 'Controller',\n",
              "       'Senior Manager Yield and Revenue Management',\n",
              "       'Transportation Project Manager', 'Chemical Technician',\n",
              "       'Investment Advisor', 'Oceanographer', 'Sales Coordinator',\n",
              "       'Concierge',\n",
              "       'Institutional Research Business Intelligence Systems Analyst',\n",
              "       'Producer', 'Commercial Sales Representative',\n",
              "       'Electrical Design Engineer', 'Marketing Consultant',\n",
              "       'Senior Manager of Industry Analytics', 'Valet Parker',\n",
              "       'Organic Lab Research Assistant', 'Pharmacy Assistant', 'Lineman',\n",
              "       'Compensation Manager', 'Golf Pro', 'Principal Service Engineer',\n",
              "       'Retail Sales Associate', 'Group Sales Management',\n",
              "       'Club Representative', 'Client Service Specialist',\n",
              "       'Operations Agent', 'Operations Clerk',\n",
              "       'Technical Support Engineer', 'Special Education Teacher',\n",
              "       'Heavy Equipment Technician', 'Travel Secretary',\n",
              "       'Benefit Coordinator', 'Reservoir Engineer', 'Quality Assistant',\n",
              "       'Ethics Office Business Intelligence Officer', 'Chemical Engineer',\n",
              "       'Government Contract Consultant', 'Electronics Engineer',\n",
              "       'General Manager', 'Event Coordinator', 'Software Developer',\n",
              "       'Corporate Sales Manager',\n",
              "       'Director of? Customer Success and Satisfaction',\n",
              "       'Laboratory Assistant', 'Assistant Customer Care Center Manager',\n",
              "       'Technical Trainer', 'Manufacturing Specialist',\n",
              "       'Piping Stress Engineer', 'RF Engineer', 'Rental Representative',\n",
              "       'Data Architect', 'Organizational Development Consultant',\n",
              "       'Drilling Engineer', 'Hostess', 'School Nurse',\n",
              "       'Behavior Specialist', 'Construction Engineer',\n",
              "       'Corporate Reservations Agent', 'Chef', 'Athletic Scout',\n",
              "       'Provisioning Agents', 'Environmental Compliance Engineer',\n",
              "       'Senior Mechanical Engineer', 'Customer Support Associate',\n",
              "       'Associate Producer Events', 'Airline Pilot', 'Sales Manager',\n",
              "       'Computer Science Teacher', 'Territory Service Representative',\n",
              "       'Corporate Recruiter', 'Ground Support Equipment Mechanic',\n",
              "       'Software Engineer - Data Warehouse/Business Intelligence',\n",
              "       'Network Engineer', 'Global Development Specialist', 'Fabricator',\n",
              "       'Technology Consultant', 'Patient Care Coordinator',\n",
              "       'Senior Manager Product Intelligence and Cost Analytics',\n",
              "       'Countertop Fabricator and Installer', 'Cruise Ship',\n",
              "       'Commercial Print Management Consultant',\n",
              "       'Instrumentation Engineer', 'Competitive Intelligence Manager',\n",
              "       'Firmware Engineer', 'Dermatology Nurse',\n",
              "       'International Travel Consultant', 'Production Assistant Events',\n",
              "       'Alarm Technician', 'Sports Physician', 'Guest Room Sales Manager',\n",
              "       'Hunting Guide', 'Server', 'Guest Services Agent',\n",
              "       'Wedding Sales Manager', 'Concierge?',\n",
              "       'Industrial Technology Teacher', 'Front Desk Clerk', 'Tax Advisor',\n",
              "       'Patio Room Installer', 'Vice President of Engineering',\n",
              "       'Change Management Consultant', 'Financial Analyst',\n",
              "       'Online Customer Support', 'Cook', 'Associate Athletic Director',\n",
              "       'Front Desk Manager', 'Tile Setter', 'Technology Research Manager',\n",
              "       'Rotating Equipment Engineer', 'Director of Hotel Operations',\n",
              "       'Front End Load Driver', 'Oracle Technical Lead',\n",
              "       'Informatica Extract Transform Load (ETL) Developer',\n",
              "       'Mining Safety Engineer', 'Passenger Service Agent',\n",
              "       'Director of Guidance', 'Service Consultant', 'Account Manager',\n",
              "       'Business Objects Architect', 'Assistant Principal',\n",
              "       'Integration/Business Intelligence Technical Lead',\n",
              "       'Choral Music Teacher', 'Quality Control Engineer',\n",
              "       'Conference Coordinator', 'Strength and Conditioning Coach',\n",
              "       'Field Technician', 'Manager Special Events', 'Referee',\n",
              "       'Controls Engineer', 'Implementation Consultant',\n",
              "       'Health/Physical Education Teacher', 'Mechanical Engineer'],\n",
              "      dtype=object)"
            ]
          },
          "metadata": {
            "tags": []
          },
          "execution_count": 43
        }
      ]
    },
    {
      "cell_type": "code",
      "metadata": {
        "id": "uhx-Nr4mnzg1",
        "colab": {
          "base_uri": "https://localhost:8080/"
        },
        "outputId": "48c6f8cd-923d-4d60-9802-3fe785054d04"
      },
      "source": [
        "len(jobs)"
      ],
      "execution_count": null,
      "outputs": [
        {
          "output_type": "execute_result",
          "data": {
            "text/plain": [
              "222"
            ]
          },
          "metadata": {
            "tags": []
          },
          "execution_count": 44
        }
      ]
    },
    {
      "cell_type": "code",
      "metadata": {
        "id": "KrBgfncRnzc3",
        "colab": {
          "base_uri": "https://localhost:8080/",
          "height": 419
        },
        "outputId": "94e248d6-4592-4ddf-a12b-835091eeecab"
      },
      "source": [
        "newdf = df_combined1[['user_id', 'job_title','skills']]\n",
        "newdf"
      ],
      "execution_count": null,
      "outputs": [
        {
          "output_type": "execute_result",
          "data": {
            "text/html": [
              "<div>\n",
              "<style scoped>\n",
              "    .dataframe tbody tr th:only-of-type {\n",
              "        vertical-align: middle;\n",
              "    }\n",
              "\n",
              "    .dataframe tbody tr th {\n",
              "        vertical-align: top;\n",
              "    }\n",
              "\n",
              "    .dataframe thead th {\n",
              "        text-align: right;\n",
              "    }\n",
              "</style>\n",
              "<table border=\"1\" class=\"dataframe\">\n",
              "  <thead>\n",
              "    <tr style=\"text-align: right;\">\n",
              "      <th></th>\n",
              "      <th>user_id</th>\n",
              "      <th>job_title</th>\n",
              "      <th>skills</th>\n",
              "    </tr>\n",
              "  </thead>\n",
              "  <tbody>\n",
              "    <tr>\n",
              "      <th>0</th>\n",
              "      <td>55</td>\n",
              "      <td>Medical Receptionist</td>\n",
              "      <td>{'skills': {'training': 1, 'certifications': 1...</td>\n",
              "    </tr>\n",
              "    <tr>\n",
              "      <th>1</th>\n",
              "      <td>90</td>\n",
              "      <td>Clinical Research Associate</td>\n",
              "      <td>{'skills': {'hardware': 2, 'communication': 1,...</td>\n",
              "    </tr>\n",
              "    <tr>\n",
              "      <th>2</th>\n",
              "      <td>2</td>\n",
              "      <td>Territory Sales Representative</td>\n",
              "      <td>{'skills': {'communication': 4, 'e-commerce': 1}}</td>\n",
              "    </tr>\n",
              "    <tr>\n",
              "      <th>3</th>\n",
              "      <td>22</td>\n",
              "      <td>Endoscopy Nurse</td>\n",
              "      <td>{'skills': {'e-commerce': 1}}</td>\n",
              "    </tr>\n",
              "    <tr>\n",
              "      <th>4</th>\n",
              "      <td>3</td>\n",
              "      <td>Bus Driver</td>\n",
              "      <td>{'skills': {'mobile': 1, 'communication': 2, '...</td>\n",
              "    </tr>\n",
              "    <tr>\n",
              "      <th>...</th>\n",
              "      <td>...</td>\n",
              "      <td>...</td>\n",
              "      <td>...</td>\n",
              "    </tr>\n",
              "    <tr>\n",
              "      <th>247</th>\n",
              "      <td>196</td>\n",
              "      <td>Controls Engineer</td>\n",
              "      <td>{'skills': {'ai': 2, 'hardware': 1, 'internet'...</td>\n",
              "    </tr>\n",
              "    <tr>\n",
              "      <th>248</th>\n",
              "      <td>197</td>\n",
              "      <td>Implementation Consultant</td>\n",
              "      <td>{'skills': {'reporting': 2, 'ai': 5, 'communic...</td>\n",
              "    </tr>\n",
              "    <tr>\n",
              "      <th>249</th>\n",
              "      <td>198</td>\n",
              "      <td>Competitive Intelligence Manager</td>\n",
              "      <td>{'skills': {'certifications': 1, 'ai': 6, 'boo...</td>\n",
              "    </tr>\n",
              "    <tr>\n",
              "      <th>250</th>\n",
              "      <td>199</td>\n",
              "      <td>Health/Physical Education Teacher</td>\n",
              "      <td>{'skills': {'mobile': 1, 'design': 1}}</td>\n",
              "    </tr>\n",
              "    <tr>\n",
              "      <th>251</th>\n",
              "      <td>200</td>\n",
              "      <td>Mechanical Engineer</td>\n",
              "      <td>{'skills': {'reporting': 2, 'ai': 5, 'communic...</td>\n",
              "    </tr>\n",
              "  </tbody>\n",
              "</table>\n",
              "<p>252 rows × 3 columns</p>\n",
              "</div>"
            ],
            "text/plain": [
              "     user_id  ...                                             skills\n",
              "0         55  ...  {'skills': {'training': 1, 'certifications': 1...\n",
              "1         90  ...  {'skills': {'hardware': 2, 'communication': 1,...\n",
              "2          2  ...  {'skills': {'communication': 4, 'e-commerce': 1}}\n",
              "3         22  ...                      {'skills': {'e-commerce': 1}}\n",
              "4          3  ...  {'skills': {'mobile': 1, 'communication': 2, '...\n",
              "..       ...  ...                                                ...\n",
              "247      196  ...  {'skills': {'ai': 2, 'hardware': 1, 'internet'...\n",
              "248      197  ...  {'skills': {'reporting': 2, 'ai': 5, 'communic...\n",
              "249      198  ...  {'skills': {'certifications': 1, 'ai': 6, 'boo...\n",
              "250      199  ...             {'skills': {'mobile': 1, 'design': 1}}\n",
              "251      200  ...  {'skills': {'reporting': 2, 'ai': 5, 'communic...\n",
              "\n",
              "[252 rows x 3 columns]"
            ]
          },
          "metadata": {
            "tags": []
          },
          "execution_count": 45
        }
      ]
    },
    {
      "cell_type": "code",
      "metadata": {
        "colab": {
          "base_uri": "https://localhost:8080/"
        },
        "id": "pXR8K2my1Vix",
        "outputId": "4011c68a-882e-4e06-c70b-8affe92d2b4a"
      },
      "source": [
        "newdf['skills']"
      ],
      "execution_count": null,
      "outputs": [
        {
          "output_type": "execute_result",
          "data": {
            "text/plain": [
              "0      {'skills': {'training': 1, 'certifications': 1...\n",
              "1      {'skills': {'hardware': 2, 'communication': 1,...\n",
              "2      {'skills': {'communication': 4, 'e-commerce': 1}}\n",
              "3                          {'skills': {'e-commerce': 1}}\n",
              "4      {'skills': {'mobile': 1, 'communication': 2, '...\n",
              "                             ...                        \n",
              "247    {'skills': {'ai': 2, 'hardware': 1, 'internet'...\n",
              "248    {'skills': {'reporting': 2, 'ai': 5, 'communic...\n",
              "249    {'skills': {'certifications': 1, 'ai': 6, 'boo...\n",
              "250               {'skills': {'mobile': 1, 'design': 1}}\n",
              "251    {'skills': {'reporting': 2, 'ai': 5, 'communic...\n",
              "Name: skills, Length: 252, dtype: object"
            ]
          },
          "metadata": {
            "tags": []
          },
          "execution_count": 46
        }
      ]
    },
    {
      "cell_type": "code",
      "metadata": {
        "id": "tZTFKa3Q3F8c"
      },
      "source": [
        ""
      ],
      "execution_count": null,
      "outputs": []
    },
    {
      "cell_type": "code",
      "metadata": {
        "colab": {
          "base_uri": "https://localhost:8080/"
        },
        "id": "8UeFncpf1Vfj",
        "outputId": "8c7b0f70-2e98-4107-ac5c-305e047df59c"
      },
      "source": [
        "def delete_spec_chars(input): \n",
        "    #function to delete special characters\n",
        "\n",
        "    regex = r'[^a-zA-Z0-9\\s]'\n",
        "    output = re.sub(regex,'',input)\n",
        "    return output\n",
        "\n",
        "#creating list of dictionary to store the job and it's corresponding skills\n",
        "skills = []\n",
        "for j in jobs:\n",
        "    #traversing through job and comparing it with job title in dataframe if both are same then adding their skills.\n",
        "\n",
        "    #creating inner list to store the skills of one job\n",
        "    d=[]\n",
        "    for i, row in newdf.iterrows():\n",
        "        if(row['job_title']==j):\n",
        "            d.append(row['skills'])\n",
        "    print(d)\n",
        "\n",
        "  \n",
        "    #removing all the special characters from that\n",
        "    doc = delete_spec_chars(str(d))\n",
        "\n",
        "    #removing digits from that\n",
        "    doc = re.sub(r'\\d+','',doc)\n",
        "\n",
        "    #removing skills word from that\n",
        "    doc=re.sub(r'skills','',doc)\n",
        "\n",
        "    #Applying word tokenization to extract tokens\n",
        "    tokens = word_tokenize(doc) \n",
        "    print(\"document is: \")\n",
        "    print(doc)\n",
        "    print(\" tokens are: \")\n",
        "\n",
        "    tokens= [word.lower() for word in tokens]\n",
        "    print(tokens)\n",
        "    \n",
        "    #To remove duplicate skills \n",
        "    tokens=list(set(tokens))\n",
        "\n",
        "    #Adding that in skills dicitonary for one job\n",
        "    skills.append(tokens)\n",
        "\n",
        "#   skillss.append(newdf.loc[newdf['job_title'] == j]['skills'])\n",
        "  \n",
        "print(skills)"
      ],
      "execution_count": null,
      "outputs": [
        {
          "output_type": "stream",
          "text": [
            "[\"{'skills': {'training': 1, 'certifications': 1, 'http': 1, 'processing': 1, 'implementation': 1}}\", \"{'skills': {'training': 1, 'certifications': 1, 'http': 1, 'processing': 1, 'implementation': 1, 'documentation': 2, 'programming': 1, 'prototyping': 1, 'tech support': 1, 'penetration testing': 1, 'data processing': 1, 'technical': 8, 'networks': 1}}\"]\n",
            "document is: \n",
            " training  certifications  http  processing  implementation   training  certifications  http  processing  implementation  documentation  programming  prototyping  tech support  penetration testing  data processing  technical  networks \n",
            " tokens are: \n",
            "['training', 'certifications', 'http', 'processing', 'implementation', 'training', 'certifications', 'http', 'processing', 'implementation', 'documentation', 'programming', 'prototyping', 'tech', 'support', 'penetration', 'testing', 'data', 'processing', 'technical', 'networks']\n",
            "[\"{'skills': {'hardware': 2, 'communication': 1, 'ensemble': 1}}\"]\n",
            "document is: \n",
            " hardware  communication  ensemble \n",
            " tokens are: \n",
            "['hardware', 'communication', 'ensemble']\n",
            "[\"{'skills': {'communication': 4, 'e-commerce': 1}}\"]\n",
            "document is: \n",
            " communication  ecommerce \n",
            " tokens are: \n",
            "['communication', 'ecommerce']\n",
            "[\"{'skills': {'e-commerce': 1}}\"]\n",
            "document is: \n",
            " ecommerce \n",
            " tokens are: \n",
            "['ecommerce']\n",
            "[\"{'skills': {'mobile': 1, 'communication': 2, 'design': 1}}\", \"{'skills': {'ai': 1, 'communication': 4, 'mobile': 1}}\", \"{'skills': {'ai': 1, 'diagnostics': 1}}\"]\n",
            "document is: \n",
            " mobile  communication  design   ai  communication  mobile   ai  diagnostics \n",
            " tokens are: \n",
            "['mobile', 'communication', 'design', 'ai', 'communication', 'mobile', 'ai', 'diagnostics']\n",
            "[\"{'skills': {'training': 4, 'designer': 1, 'programming': 5, 'implementation': 1, 'communication': 3, 'collaboration': 1, 'processing': 2, 'coding': 2, 'hardware': 4, 'telecom': 1, 'coaching': 1, 'html': 1, 'design': 4, 'troubleshooting': 4, 'internet': 2, 'technical': 3, 'electronics': 2, 'php': 1, 'networks': 2, 'web development': 1, 'backend': 4}}\"]\n",
            "document is: \n",
            " training  designer  programming  implementation  communication  collaboration  processing  coding  hardware  telecom  coaching  html  design  troubleshooting  internet  technical  electronics  php  networks  web development  backend \n",
            " tokens are: \n",
            "['training', 'designer', 'programming', 'implementation', 'communication', 'collaboration', 'processing', 'coding', 'hardware', 'telecom', 'coaching', 'html', 'design', 'troubleshooting', 'internet', 'technical', 'electronics', 'php', 'networks', 'web', 'development', 'backend']\n",
            "[\"{'skills': {'git': 2, 'http': 1, 'nodejs': 1, 'mobile': 1, 'communication': 1, 'svg': 1, 'node.js': 1, 'e-commerce': 2, 'html': 1, 'design': 1, 'internet': 3, 'angular2': 1, 'angular': 1}}\"]\n",
            "document is: \n",
            " git  http  nodejs  mobile  communication  svg  nodejs  ecommerce  html  design  internet  angular  angular \n",
            " tokens are: \n",
            "['git', 'http', 'nodejs', 'mobile', 'communication', 'svg', 'nodejs', 'ecommerce', 'html', 'design', 'internet', 'angular', 'angular']\n",
            "[\"{'skills': {'mobile': 1, 'communication': 2, 'collaboration': 2, 'training': 2, 'e-commerce': 1}}\", \"{'skills': {'training': 1, 'data collection': 1, 'processing': 3, 'implementation': 1, 'communication': 1, 'data mining': 2, 'innovation': 1, 'machine learning': 4, 'mobile': 1, 'engineering': 2, 'design': 3, 'deep learning': 1, 'go': 1, 'mathematics': 1, 'technical': 3}}\"]\n",
            "document is: \n",
            " mobile  communication  collaboration  training  ecommerce   training  data collection  processing  implementation  communication  data mining  innovation  machine learning  mobile  engineering  design  deep learning  go  mathematics  technical \n",
            " tokens are: \n",
            "['mobile', 'communication', 'collaboration', 'training', 'ecommerce', 'training', 'data', 'collection', 'processing', 'implementation', 'communication', 'data', 'mining', 'innovation', 'machine', 'learning', 'mobile', 'engineering', 'design', 'deep', 'learning', 'go', 'mathematics', 'technical']\n",
            "[\"{'skills': {'communication': 1, 'reporting': 2}}\"]\n",
            "document is: \n",
            " communication  reporting \n",
            " tokens are: \n",
            "['communication', 'reporting']\n",
            "[\"{'skills': {'debugging': 1, 'consulting': 1, 'engineering': 1, 'design': 21, 'statistical analysis': 1, 'problem solving': 2, 'networks': 1, 'implementation': 5, 'html': 1, 'innovation': 6, 'mathematics': 1, 'presentation': 6, 'data analysis': 2, 'http': 3, 'collaboration': 1, 'desk': 1, 'modeling': 1, 'training': 1, 'data collection': 1, 'mobile': 1, 'programming': 1, 'priorities': 1, 'e-commerce': 1}}\"]\n",
            "document is: \n",
            " debugging  consulting  engineering  design  statistical analysis  problem solving  networks  implementation  html  innovation  mathematics  presentation  data analysis  http  collaboration  desk  modeling  training  data collection  mobile  programming  priorities  ecommerce \n",
            " tokens are: \n",
            "['debugging', 'consulting', 'engineering', 'design', 'statistical', 'analysis', 'problem', 'solving', 'networks', 'implementation', 'html', 'innovation', 'mathematics', 'presentation', 'data', 'analysis', 'http', 'collaboration', 'desk', 'modeling', 'training', 'data', 'collection', 'mobile', 'programming', 'priorities', 'ecommerce']\n",
            "[\"{'skills': {'documentation': 1, 'dom': 1}}\"]\n",
            "document is: \n",
            " documentation  dom \n",
            " tokens are: \n",
            "['documentation', 'dom']\n",
            "[\"{'skills': {'training': 1, 'assembly': 1, 'critical thinking': 1, 'programming': 1, 'graphic design': 1, 'implementation': 1, 'design': 10, 'databases': 1, 'analytical': 1, 'presentation': 1}}\"]\n",
            "document is: \n",
            " training  assembly  critical thinking  programming  graphic design  implementation  design  databases  analytical  presentation \n",
            " tokens are: \n",
            "['training', 'assembly', 'critical', 'thinking', 'programming', 'graphic', 'design', 'implementation', 'design', 'databases', 'analytical', 'presentation']\n",
            "[\"{'skills': {'mobile': 1, 'communication': 2, 'design': 1}}\"]\n",
            "document is: \n",
            " mobile  communication  design \n",
            " tokens are: \n",
            "['mobile', 'communication', 'design']\n",
            "[\"{'skills': {'design': 8}}\"]\n",
            "document is: \n",
            " design \n",
            " tokens are: \n",
            "['design']\n",
            "[\"{'skills': {'engineering': 1, 'git': 1, 'design': 1}}\"]\n",
            "document is: \n",
            " engineering  git  design \n",
            " tokens are: \n",
            "['engineering', 'git', 'design']\n",
            "[\"{'skills': {'go': 1}}\", \"{'skills': {'communication': 5, 'http': 1, 'e-commerce': 2}}\"]\n",
            "document is: \n",
            " go   communication  http  ecommerce \n",
            " tokens are: \n",
            "['go', 'communication', 'http', 'ecommerce']\n",
            "[\"{'skills': {'go': 1, 'design': 8}}\"]\n",
            "document is: \n",
            " go  design \n",
            " tokens are: \n",
            "['go', 'design']\n",
            "[\"{'skills': {'internet': 1}}\", \"{'skills': {'ensemble': 1}}\"]\n",
            "document is: \n",
            " internet   ensemble \n",
            " tokens are: \n",
            "['internet', 'ensemble']\n",
            "[\"{'skills': {'presentation': 6, 'communication': 1, 'design': 4, 'networks': 1, 'innovation': 1}}\"]\n",
            "document is: \n",
            " presentation  communication  design  networks  innovation \n",
            " tokens are: \n",
            "['presentation', 'communication', 'design', 'networks', 'innovation']\n",
            "[\"{'skills': {'processing': 1, 'http': 6}}\", \"{'skills': {'windows': 1, 'collaboration': 1, 'e-commerce': 1, 'html': 1, 'visio': 1, 'php': 1, 'powershell': 1}}\"]\n",
            "document is: \n",
            " processing  http   windows  collaboration  ecommerce  html  visio  php  powershell \n",
            " tokens are: \n",
            "['processing', 'http', 'windows', 'collaboration', 'ecommerce', 'html', 'visio', 'php', 'powershell']\n",
            "[\"{'skills': {'hardware': 2, 'communication': 1, 'ensemble': 1}}\"]\n",
            "document is: \n",
            " hardware  communication  ensemble \n",
            " tokens are: \n",
            "['hardware', 'communication', 'ensemble']\n",
            "[\"{'skills': {'reporting': 3, 'ensemble': 3}}\"]\n",
            "document is: \n",
            " reporting  ensemble \n",
            " tokens are: \n",
            "['reporting', 'ensemble']\n",
            "[\"{'skills': {'mobile': 1, 'reporting': 1}}\"]\n",
            "document is: \n",
            " mobile  reporting \n",
            " tokens are: \n",
            "['mobile', 'reporting']\n",
            "[\"{'skills': {'windows': 1, 'collaboration': 1, 'e-commerce': 1, 'html': 1, 'visio': 1, 'php': 1, 'powershell': 1}}\"]\n",
            "document is: \n",
            " windows  collaboration  ecommerce  html  visio  php  powershell \n",
            " tokens are: \n",
            "['windows', 'collaboration', 'ecommerce', 'html', 'visio', 'php', 'powershell']\n",
            "[\"{'skills': {'training': 1, 'control systems': 1, 'technical': 8, 'word': 2, 'mobile': 2, 'communication': 3, 'documentation': 3, 'internet': 1, 'time management': 1, 'hardware': 1, 'telecom': 3, 'engineering': 3, 'leadership': 1, 'design': 3, 'troubleshooting': 4, 'problem solving': 1, 'customer service': 2, 'multitasking': 1, 'mentoring': 1, 'networks': 5, 'project management': 1}}\"]\n",
            "document is: \n",
            " training  control systems  technical  word  mobile  communication  documentation  internet  time management  hardware  telecom  engineering  leadership  design  troubleshooting  problem solving  customer service  multitasking  mentoring  networks  project management \n",
            " tokens are: \n",
            "['training', 'control', 'systems', 'technical', 'word', 'mobile', 'communication', 'documentation', 'internet', 'time', 'management', 'hardware', 'telecom', 'engineering', 'leadership', 'design', 'troubleshooting', 'problem', 'solving', 'customer', 'service', 'multitasking', 'mentoring', 'networks', 'project', 'management']\n",
            "[\"{'skills': {'training': 1, 'implementation': 3, 'e-commerce': 1, 'coaching': 1, 'leadership': 1, 'go': 1, 'technical': 1, 'project management': 1}}\", \"{'skills': {'internet': 1}}\"]\n",
            "document is: \n",
            " training  implementation  ecommerce  coaching  leadership  go  technical  project management   internet \n",
            " tokens are: \n",
            "['training', 'implementation', 'ecommerce', 'coaching', 'leadership', 'go', 'technical', 'project', 'management', 'internet']\n",
            "[\"{'skills': {'training': 1, 'http': 1, 'implementation': 17, 'communication': 4, 'cloud computing': 2, 'documentation': 1, 'technical': 4, 'leadership': 6, 'design': 9, 'presentation': 3, 'project management': 1}}\"]\n",
            "document is: \n",
            " training  http  implementation  communication  cloud computing  documentation  technical  leadership  design  presentation  project management \n",
            " tokens are: \n",
            "['training', 'http', 'implementation', 'communication', 'cloud', 'computing', 'documentation', 'technical', 'leadership', 'design', 'presentation', 'project', 'management']\n",
            "[\"{'skills': {'foundation': 1, 'consulting': 2, 'implementation': 8, 'reporting': 2, 'training': 7, 'design': 1, 'go': 1, 'presentation': 1}}\"]\n",
            "document is: \n",
            " foundation  consulting  implementation  reporting  training  design  go  presentation \n",
            " tokens are: \n",
            "['foundation', 'consulting', 'implementation', 'reporting', 'training', 'design', 'go', 'presentation']\n",
            "[\"{'skills': {'hardware': 3, 'mobile': 1, 'coaching': 1, 'reporting': 1, 'design': 1}}\"]\n",
            "document is: \n",
            " hardware  mobile  coaching  reporting  design \n",
            " tokens are: \n",
            "['hardware', 'mobile', 'coaching', 'reporting', 'design']\n",
            "[\"{'skills': {'hardware': 3, 'mobile': 1, 'coaching': 1, 'reporting': 1, 'design': 1}}\"]\n",
            "document is: \n",
            " hardware  mobile  coaching  reporting  design \n",
            " tokens are: \n",
            "['hardware', 'mobile', 'coaching', 'reporting', 'design']\n",
            "[\"{'skills': {'internet': 1}}\"]\n",
            "document is: \n",
            " internet \n",
            " tokens are: \n",
            "['internet']\n",
            "[\"{'skills': {'go': 1, 'communication': 2, 'ensemble': 2}}\", \"{'skills': {'reporting': 2, 'ai': 5, 'communication': 4, 'documentation': 1, 'coaching': 1, 'ensemble': 1}}\"]\n",
            "document is: \n",
            " go  communication  ensemble   reporting  ai  communication  documentation  coaching  ensemble \n",
            " tokens are: \n",
            "['go', 'communication', 'ensemble', 'reporting', 'ai', 'communication', 'documentation', 'coaching', 'ensemble']\n",
            "[\"{'skills': {'collaboration': 3}}\"]\n",
            "document is: \n",
            " collaboration \n",
            " tokens are: \n",
            "['collaboration']\n",
            "[\"{'skills': {'reporting tools': 1, 'training': 1, 'collaboration': 1, 'reporting': 3, 'hardware': 1, 'leadership': 4, 'design': 1, 'internet': 1, 'project management': 2}}\", \"{'skills': {'communication': 6, 'collaboration': 7, 'innovation': 3}}\"]\n",
            "document is: \n",
            " reporting tools  training  collaboration  reporting  hardware  leadership  design  internet  project management   communication  collaboration  innovation \n",
            " tokens are: \n",
            "['reporting', 'tools', 'training', 'collaboration', 'reporting', 'hardware', 'leadership', 'design', 'internet', 'project', 'management', 'communication', 'collaboration', 'innovation']\n",
            "[\"{'skills': {'reporting': 3, 'mobile': 2, 'communication': 9, 'collaboration': 3, 'documentation': 3, 'project manager': 1, 'e-commerce': 3, 'design': 1, 'innovation': 1, 'ensemble': 3}}\"]\n",
            "document is: \n",
            " reporting  mobile  communication  collaboration  documentation  project manager  ecommerce  design  innovation  ensemble \n",
            " tokens are: \n",
            "['reporting', 'mobile', 'communication', 'collaboration', 'documentation', 'project', 'manager', 'ecommerce', 'design', 'innovation', 'ensemble']\n",
            "[\"{'skills': {'training': 6, 'http': 1, 'critical thinking': 2, 'communication': 2, 'collaboration': 2, 'analytics': 3, 'coaching': 1, 'leadership': 6, 'design': 3, 'project management': 1, 'implementation': 3, 'mentoring': 1, 'spark': 2, 'presentation': 1, 'data analytics': 2}}\"]\n",
            "document is: \n",
            " training  http  critical thinking  communication  collaboration  analytics  coaching  leadership  design  project management  implementation  mentoring  spark  presentation  data analytics \n",
            " tokens are: \n",
            "['training', 'http', 'critical', 'thinking', 'communication', 'collaboration', 'analytics', 'coaching', 'leadership', 'design', 'project', 'management', 'implementation', 'mentoring', 'spark', 'presentation', 'data', 'analytics']\n",
            "[\"{'skills': {'windows': 1, 'collaboration': 1, 'e-commerce': 1, 'html': 1, 'visio': 1, 'php': 1, 'powershell': 1}}\"]\n",
            "document is: \n",
            " windows  collaboration  ecommerce  html  visio  php  powershell \n",
            " tokens are: \n",
            "['windows', 'collaboration', 'ecommerce', 'html', 'visio', 'php', 'powershell']\n",
            "[\"{'skills': {'ai': 5, 'communication': 1, 'e-commerce': 3, 'design': 1, 'mobile': 2, 'assembleur': 1, 'ensemble': 2}}\"]\n",
            "document is: \n",
            " ai  communication  ecommerce  design  mobile  assembleur  ensemble \n",
            " tokens are: \n",
            "['ai', 'communication', 'ecommerce', 'design', 'mobile', 'assembleur', 'ensemble']\n",
            "[\"{'skills': {'training': 1, 'collaboration': 1, 'volleyball': 2, 'teamwork': 1, 'design': 1, 'project management': 1}}\"]\n",
            "document is: \n",
            " training  collaboration  volleyball  teamwork  design  project management \n",
            " tokens are: \n",
            "['training', 'collaboration', 'volleyball', 'teamwork', 'design', 'project', 'management']\n",
            "[\"{'skills': {'reporting': 3, 'mobile': 2, 'communication': 9, 'collaboration': 3, 'documentation': 3, 'project manager': 1, 'e-commerce': 3, 'design': 1, 'innovation': 1, 'ensemble': 3}}\"]\n",
            "document is: \n",
            " reporting  mobile  communication  collaboration  documentation  project manager  ecommerce  design  innovation  ensemble \n",
            " tokens are: \n",
            "['reporting', 'mobile', 'communication', 'collaboration', 'documentation', 'project', 'manager', 'ecommerce', 'design', 'innovation', 'ensemble']\n",
            "[\"{'skills': {'organizational': 1, 'foundation': 2, 'training': 2, 'innovation': 1}}\"]\n",
            "document is: \n",
            " organizational  foundation  training  innovation \n",
            " tokens are: \n",
            "['organizational', 'foundation', 'training', 'innovation']\n",
            "[\"{'skills': {'communication': 1}}\", \"{'skills': {'html': 1, 'http': 3}}\"]\n",
            "document is: \n",
            " communication   html  http \n",
            " tokens are: \n",
            "['communication', 'html', 'http']\n",
            "[\"{'skills': {'ai': 2, 'scrum': 1, 'innovation': 1}}\"]\n",
            "document is: \n",
            " ai  scrum  innovation \n",
            " tokens are: \n",
            "['ai', 'scrum', 'innovation']\n",
            "[\"{'skills': {'collaboration': 1, 'innovation': 3}}\"]\n",
            "document is: \n",
            " collaboration  innovation \n",
            " tokens are: \n",
            "['collaboration', 'innovation']\n",
            "[\"{'skills': {'http': 1}}\", \"{'skills': {'collaboration': 1, 'ensemble': 2}}\"]\n",
            "document is: \n",
            " http   collaboration  ensemble \n",
            " tokens are: \n",
            "['http', 'collaboration', 'ensemble']\n",
            "[\"{'skills': {'collaboration': 1, 'documentation': 1}}\"]\n",
            "document is: \n",
            " collaboration  documentation \n",
            " tokens are: \n",
            "['collaboration', 'documentation']\n",
            "[\"{'skills': {'mobile': 1, 'reporting': 1}}\"]\n",
            "document is: \n",
            " mobile  reporting \n",
            " tokens are: \n",
            "['mobile', 'reporting']\n",
            "[\"{'skills': {'http': 2, 'postfix': 2, 'mobile': 5, 'e-commerce': 1, 'html': 1, 'wordpress': 1, 'iphone': 2, 'web services': 2, 'linux': 2}}\"]\n",
            "document is: \n",
            " http  postfix  mobile  ecommerce  html  wordpress  iphone  web services  linux \n",
            " tokens are: \n",
            "['http', 'postfix', 'mobile', 'ecommerce', 'html', 'wordpress', 'iphone', 'web', 'services', 'linux']\n",
            "[\"{'skills': {'training': 1, 'implementation': 3, 'e-commerce': 1, 'coaching': 1, 'leadership': 1, 'go': 1, 'technical': 1, 'project management': 1}}\", \"{'skills': {'coaching': 1}}\"]\n",
            "document is: \n",
            " training  implementation  ecommerce  coaching  leadership  go  technical  project management   coaching \n",
            " tokens are: \n",
            "['training', 'implementation', 'ecommerce', 'coaching', 'leadership', 'go', 'technical', 'project', 'management', 'coaching']\n",
            "[\"{'skills': {'communication': 11, 'collaboration': 1}}\"]\n",
            "document is: \n",
            " communication  collaboration \n",
            " tokens are: \n",
            "['communication', 'collaboration']\n",
            "[\"{'skills': {'data collection': 2, 'technical': 1, 'programming': 1, 'design': 1, 'problem solving': 1, 'analytical': 1}}\"]\n",
            "document is: \n",
            " data collection  technical  programming  design  problem solving  analytical \n",
            " tokens are: \n",
            "['data', 'collection', 'technical', 'programming', 'design', 'problem', 'solving', 'analytical']\n",
            "[\"{'skills': {'hardware': 3, 'mobile': 1, 'coaching': 1, 'reporting': 1, 'design': 1}}\", \"{'skills': {'design': 1, 'internet': 1}}\"]\n",
            "document is: \n",
            " hardware  mobile  coaching  reporting  design   design  internet \n",
            " tokens are: \n",
            "['hardware', 'mobile', 'coaching', 'reporting', 'design', 'design', 'internet']\n",
            "[\"{'skills': {'http': 2, 'postfix': 2, 'mobile': 5, 'e-commerce': 1, 'html': 1, 'wordpress': 1, 'iphone': 2, 'web services': 2, 'linux': 2}}\"]\n",
            "document is: \n",
            " http  postfix  mobile  ecommerce  html  wordpress  iphone  web services  linux \n",
            " tokens are: \n",
            "['http', 'postfix', 'mobile', 'ecommerce', 'html', 'wordpress', 'iphone', 'web', 'services', 'linux']\n",
            "[\"{'skills': {'training': 1, 'certifications': 1, 'http': 1, 'processing': 1, 'implementation': 1, 'documentation': 2, 'programming': 1, 'prototyping': 1, 'tech support': 1, 'penetration testing': 1, 'data processing': 1, 'technical': 8, 'networks': 1}}\", \"{'skills': {'reporting': 3, 'mobile': 2, 'communication': 9, 'collaboration': 3, 'documentation': 3, 'project manager': 1, 'e-commerce': 3, 'design': 1, 'innovation': 1, 'ensemble': 3}}\"]\n",
            "document is: \n",
            " training  certifications  http  processing  implementation  documentation  programming  prototyping  tech support  penetration testing  data processing  technical  networks   reporting  mobile  communication  collaboration  documentation  project manager  ecommerce  design  innovation  ensemble \n",
            " tokens are: \n",
            "['training', 'certifications', 'http', 'processing', 'implementation', 'documentation', 'programming', 'prototyping', 'tech', 'support', 'penetration', 'testing', 'data', 'processing', 'technical', 'networks', 'reporting', 'mobile', 'communication', 'collaboration', 'documentation', 'project', 'manager', 'ecommerce', 'design', 'innovation', 'ensemble']\n",
            "[\"{'skills': {'http': 1, 'internet': 1}}\", \"{'skills': {'iptables': 1, 'javascript': 1, 'ensemble': 1}}\"]\n",
            "document is: \n",
            " http  internet   iptables  javascript  ensemble \n",
            " tokens are: \n",
            "['http', 'internet', 'iptables', 'javascript', 'ensemble']\n",
            "[\"{'skills': {'reporting tools': 1, 'training': 1, 'collaboration': 1, 'reporting': 3, 'hardware': 1, 'leadership': 4, 'design': 1, 'internet': 1, 'project management': 2}}\"]\n",
            "document is: \n",
            " reporting tools  training  collaboration  reporting  hardware  leadership  design  internet  project management \n",
            " tokens are: \n",
            "['reporting', 'tools', 'training', 'collaboration', 'reporting', 'hardware', 'leadership', 'design', 'internet', 'project', 'management']\n",
            "[\"{'skills': {'ai': 5, 'communication': 1, 'e-commerce': 3, 'design': 1, 'mobile': 2, 'assembleur': 1, 'ensemble': 2}}\"]\n",
            "document is: \n",
            " ai  communication  ecommerce  design  mobile  assembleur  ensemble \n",
            " tokens are: \n",
            "['ai', 'communication', 'ecommerce', 'design', 'mobile', 'assembleur', 'ensemble']\n",
            "[\"{'skills': {'mobile': 1}}\"]\n",
            "document is: \n",
            " mobile \n",
            " tokens are: \n",
            "['mobile']\n",
            "[\"{'skills': {'git': 2, 'http': 1, 'nodejs': 1, 'mobile': 1, 'communication': 1, 'svg': 1, 'node.js': 1, 'e-commerce': 2, 'html': 1, 'design': 1, 'internet': 3, 'angular2': 1, 'angular': 1}}\"]\n",
            "document is: \n",
            " git  http  nodejs  mobile  communication  svg  nodejs  ecommerce  html  design  internet  angular  angular \n",
            " tokens are: \n",
            "['git', 'http', 'nodejs', 'mobile', 'communication', 'svg', 'nodejs', 'ecommerce', 'html', 'design', 'internet', 'angular', 'angular']\n",
            "[\"{'skills': {'mobile': 2, 'communication': 1, 'internet': 2}}\"]\n",
            "document is: \n",
            " mobile  communication  internet \n",
            " tokens are: \n",
            "['mobile', 'communication', 'internet']\n",
            "[\"{'skills': {'ai': 4, 'mobile': 2}}\"]\n",
            "document is: \n",
            " ai  mobile \n",
            " tokens are: \n",
            "['ai', 'mobile']\n",
            "[\"{'skills': {'training': 4, 'programming': 1, 'website development': 2}}\", \"{'skills': {'collaboration': 1}}\"]\n",
            "document is: \n",
            " training  programming  website development   collaboration \n",
            " tokens are: \n",
            "['training', 'programming', 'website', 'development', 'collaboration']\n",
            "[\"{'skills': {'communication': 1, 'internet': 1}}\"]\n",
            "document is: \n",
            " communication  internet \n",
            " tokens are: \n",
            "['communication', 'internet']\n",
            "[\"{'skills': {'less': 1, 'ai': 2, 'scrum': 1, 'sencha touch': 1, 'mobile': 4, 'framework7': 1, 'internet': 1, 'android': 1, 'phonegap': 1, 'extjs': 1}}\"]\n",
            "document is: \n",
            " less  ai  scrum  sencha touch  mobile  framework  internet  android  phonegap  extjs \n",
            " tokens are: \n",
            "['less', 'ai', 'scrum', 'sencha', 'touch', 'mobile', 'framework', 'internet', 'android', 'phonegap', 'extjs']\n",
            "[\"{'skills': {'reporting': 1, 'http': 3, 'implementation': 1, 'communication': 16, 'collaboration': 76, 'innovation': 1, 'tableau': 2, 'internet': 4}}\"]\n",
            "document is: \n",
            " reporting  http  implementation  communication  collaboration  innovation  tableau  internet \n",
            " tokens are: \n",
            "['reporting', 'http', 'implementation', 'communication', 'collaboration', 'innovation', 'tableau', 'internet']\n",
            "[\"{'skills': {'internet': 1}}\"]\n",
            "document is: \n",
            " internet \n",
            " tokens are: \n",
            "['internet']\n",
            "[\"{'skills': {'communication': 1, 'internet': 1, 'design': 1, 'diagnostics': 1}}\"]\n",
            "document is: \n",
            " communication  internet  design  diagnostics \n",
            " tokens are: \n",
            "['communication', 'internet', 'design', 'diagnostics']\n",
            "[\"{'skills': {'implementation': 1, 'communication': 2}}\"]\n",
            "document is: \n",
            " implementation  communication \n",
            " tokens are: \n",
            "['implementation', 'communication']\n",
            "[\"{'skills': {'mobile': 1}}\"]\n",
            "document is: \n",
            " mobile \n",
            " tokens are: \n",
            "['mobile']\n",
            "[\"{'skills': {'ensemble': 1}}\"]\n",
            "document is: \n",
            " ensemble \n",
            " tokens are: \n",
            "['ensemble']\n",
            "[\"{'skills': {'communication': 1}}\"]\n",
            "document is: \n",
            " communication \n",
            " tokens are: \n",
            "['communication']\n",
            "[\"{'skills': {'communication': 1, 'ensemble': 1}}\"]\n",
            "document is: \n",
            " communication  ensemble \n",
            " tokens are: \n",
            "['communication', 'ensemble']\n",
            "[\"{'skills': {'databases': 1}}\", \"{'skills': {'ai': 1, 'collaboration': 1}}\"]\n",
            "document is: \n",
            " databases   ai  collaboration \n",
            " tokens are: \n",
            "['databases', 'ai', 'collaboration']\n",
            "[\"{'skills': {'consulting': 1, 'reporting': 2, 'frontend': 5, 'communication': 1, 'documentation': 2, 'internet': 3, 'tableau': 4, 'html': 3, 'design': 1, 'innovation': 1, 'go': 1, 'http': 10, 'modeling': 2, 'php': 1, 'ensemble': 13, 'backend': 4}}\"]\n",
            "document is: \n",
            " consulting  reporting  frontend  communication  documentation  internet  tableau  html  design  innovation  go  http  modeling  php  ensemble  backend \n",
            " tokens are: \n",
            "['consulting', 'reporting', 'frontend', 'communication', 'documentation', 'internet', 'tableau', 'html', 'design', 'innovation', 'go', 'http', 'modeling', 'php', 'ensemble', 'backend']\n",
            "[\"{'skills': {'word': 1, 'internet': 1}}\"]\n",
            "document is: \n",
            " word  internet \n",
            " tokens are: \n",
            "['word', 'internet']\n",
            "[\"{'skills': {'windows': 1, 'collaboration': 1, 'e-commerce': 1, 'html': 1, 'visio': 1, 'php': 1, 'powershell': 1}}\"]\n",
            "document is: \n",
            " windows  collaboration  ecommerce  html  visio  php  powershell \n",
            " tokens are: \n",
            "['windows', 'collaboration', 'ecommerce', 'html', 'visio', 'php', 'powershell']\n",
            "[\"{'skills': {'training': 2, 'data collection': 2, 'statistical analysis': 2}}\"]\n",
            "document is: \n",
            " training  data collection  statistical analysis \n",
            " tokens are: \n",
            "['training', 'data', 'collection', 'statistical', 'analysis']\n",
            "[\"{'skills': {'consulting': 1, 'communication': 1, 'programming': 1, 'analytics': 1, 'analytical': 1, 'mathematics': 1, 'data analytics': 1}}\"]\n",
            "document is: \n",
            " consulting  communication  programming  analytics  analytical  mathematics  data analytics \n",
            " tokens are: \n",
            "['consulting', 'communication', 'programming', 'analytics', 'analytical', 'mathematics', 'data', 'analytics']\n",
            "[\"{'skills': {'http': 2, 'big data': 1, 'mobile': 4, 'communication': 1, 'swing': 1, 'analytics': 1, 'problem solving': 5, 'innovation': 1, 'networks': 17, 'insights': 4}}\", \"{'skills': {'engineering': 1}}\"]\n",
            "document is: \n",
            " http  big data  mobile  communication  swing  analytics  problem solving  innovation  networks  insights   engineering \n",
            " tokens are: \n",
            "['http', 'big', 'data', 'mobile', 'communication', 'swing', 'analytics', 'problem', 'solving', 'innovation', 'networks', 'insights', 'engineering']\n",
            "[\"{'skills': {'documentation': 1, 'dom': 1}}\"]\n",
            "document is: \n",
            " documentation  dom \n",
            " tokens are: \n",
            "['documentation', 'dom']\n",
            "[\"{'skills': {'training': 1, 'leadership': 1, 'design': 2}}\", \"{'skills': {'jsp': 1, 'internet': 1}}\"]\n",
            "document is: \n",
            " training  leadership  design   jsp  internet \n",
            " tokens are: \n",
            "['training', 'leadership', 'design', 'jsp', 'internet']\n",
            "[\"{'skills': {'hardware': 3, 'mobile': 1, 'coaching': 1, 'reporting': 1, 'design': 1}}\", \"{'skills': {'mobile': 1, 'communication': 1}}\"]\n",
            "document is: \n",
            " hardware  mobile  coaching  reporting  design   mobile  communication \n",
            " tokens are: \n",
            "['hardware', 'mobile', 'coaching', 'reporting', 'design', 'mobile', 'communication']\n",
            "[\"{'skills': {'modeling': 2, 'training': 1, 'data analysis': 4, 'coding': 5, 'artificial neural network': 1}}\"]\n",
            "document is: \n",
            " modeling  training  data analysis  coding  artificial neural network \n",
            " tokens are: \n",
            "['modeling', 'training', 'data', 'analysis', 'coding', 'artificial', 'neural', 'network']\n",
            "[\"{'skills': {'mobile': 2, 'communication': 1, 'reporting': 1, 'ensemble': 1}}\"]\n",
            "document is: \n",
            " mobile  communication  reporting  ensemble \n",
            " tokens are: \n",
            "['mobile', 'communication', 'reporting', 'ensemble']\n",
            "[\"{'skills': {'implementation': 2, 'technical': 1, 'processing': 1, 'programming': 1}}\", \"{'skills': {'e-commerce': 3, 'reporting': 1, 'design': 1, 'ensemble': 2}}\"]\n",
            "document is: \n",
            " implementation  technical  processing  programming   ecommerce  reporting  design  ensemble \n",
            " tokens are: \n",
            "['implementation', 'technical', 'processing', 'programming', 'ecommerce', 'reporting', 'design', 'ensemble']\n",
            "[\"{'skills': {'http': 4, 'big data': 2, 'dom': 1, 'processing': 1, 'machine learning': 5, 'analytics': 3, 'statistical analysis': 1, 'data mining': 1, 'modeling': 1, 'shiny': 2, 'ensemble': 1, 'data analytics': 1, 'insights': 1}}\"]\n",
            "document is: \n",
            " http  big data  dom  processing  machine learning  analytics  statistical analysis  data mining  modeling  shiny  ensemble  data analytics  insights \n",
            " tokens are: \n",
            "['http', 'big', 'data', 'dom', 'processing', 'machine', 'learning', 'analytics', 'statistical', 'analysis', 'data', 'mining', 'modeling', 'shiny', 'ensemble', 'data', 'analytics', 'insights']\n",
            "[\"{'skills': {'python': 1, 'reporting': 1, 'hadoop': 1, 'hive': 1, 'databases': 1}}\"]\n",
            "document is: \n",
            " python  reporting  hadoop  hive  databases \n",
            " tokens are: \n",
            "['python', 'reporting', 'hadoop', 'hive', 'databases']\n",
            "[\"{'skills': {'http': 1, 'implementation': 1, 'cloud computing': 1, 'internet': 1, 'programming': 1, 'machine learning': 5, 'analytics': 2, 'design': 1, 'innovation': 1, 'operating system': 1, 'collaboration': 1}}\"]\n",
            "document is: \n",
            " http  implementation  cloud computing  internet  programming  machine learning  analytics  design  innovation  operating system  collaboration \n",
            " tokens are: \n",
            "['http', 'implementation', 'cloud', 'computing', 'internet', 'programming', 'machine', 'learning', 'analytics', 'design', 'innovation', 'operating', 'system', 'collaboration']\n",
            "[\"{'skills': {'internet': 1}}\"]\n",
            "document is: \n",
            " internet \n",
            " tokens are: \n",
            "['internet']\n",
            "[\"{'skills': {'mobile': 1, 'reporting': 1}}\"]\n",
            "document is: \n",
            " mobile  reporting \n",
            " tokens are: \n",
            "['mobile', 'reporting']\n",
            "[\"{'skills': {'collaboration': 1}}\"]\n",
            "document is: \n",
            " collaboration \n",
            " tokens are: \n",
            "['collaboration']\n",
            "[\"{'skills': {'hardware': 1, 'wimax': 1, 'ensemble': 1, 'internet': 1}}\"]\n",
            "document is: \n",
            " hardware  wimax  ensemble  internet \n",
            " tokens are: \n",
            "['hardware', 'wimax', 'ensemble', 'internet']\n",
            "[\"{'skills': {'ai': 2, 'hardware': 1, 'internet': 1}}\", \"{'skills': {'communication': 1}}\"]\n",
            "document is: \n",
            " ai  hardware  internet   communication \n",
            " tokens are: \n",
            "['ai', 'hardware', 'internet', 'communication']\n",
            "[\"{'skills': {'e-commerce': 1}}\"]\n",
            "document is: \n",
            " ecommerce \n",
            " tokens are: \n",
            "['ecommerce']\n",
            "[\"{'skills': {'certifications': 1, 'http': 1, 'mobile': 13, 'communication': 47, 'cloud computing': 12, 'documentation': 1, 'networks': 2, 'internet': 34, 'tableau': 1, 'ensemble': 11, 'e-commerce': 12, 'wimax': 1, 'lte': 4, 'innovation': 5, 'dos': 1, 'collaboration': 7}}\"]\n",
            "document is: \n",
            " certifications  http  mobile  communication  cloud computing  documentation  networks  internet  tableau  ensemble  ecommerce  wimax  lte  innovation  dos  collaboration \n",
            " tokens are: \n",
            "['certifications', 'http', 'mobile', 'communication', 'cloud', 'computing', 'documentation', 'networks', 'internet', 'tableau', 'ensemble', 'ecommerce', 'wimax', 'lte', 'innovation', 'dos', 'collaboration']\n",
            "[\"{'skills': {'communication': 2}}\"]\n",
            "document is: \n",
            " communication \n",
            " tokens are: \n",
            "['communication']\n",
            "[\"{'skills': {'communication': 1, 'internet': 2}}\"]\n",
            "document is: \n",
            " communication  internet \n",
            " tokens are: \n",
            "['communication', 'internet']\n",
            "[\"{'skills': {'design': 1}}\"]\n",
            "document is: \n",
            " design \n",
            " tokens are: \n",
            "['design']\n",
            "[\"{'skills': {'reporting': 3, 'ensemble': 3}}\", \"{'skills': {'mobile': 1, 'design': 1}}\"]\n",
            "document is: \n",
            " reporting  ensemble   mobile  design \n",
            " tokens are: \n",
            "['reporting', 'ensemble', 'mobile', 'design']\n",
            "[\"{'skills': {'foundation': 1, 'consulting': 2, 'implementation': 8, 'reporting': 2, 'training': 7, 'design': 1, 'go': 1, 'presentation': 1}}\"]\n",
            "document is: \n",
            " foundation  consulting  implementation  reporting  training  design  go  presentation \n",
            " tokens are: \n",
            "['foundation', 'consulting', 'implementation', 'reporting', 'training', 'design', 'go', 'presentation']\n",
            "[\"{'skills': {'go': 3, 'implementation': 2, 'training': 4, 'design': 3}}\"]\n",
            "document is: \n",
            " go  implementation  training  design \n",
            " tokens are: \n",
            "['go', 'implementation', 'training', 'design']\n",
            "[\"{'skills': {'go': 1, 'communication': 2, 'ensemble': 2}}\"]\n",
            "document is: \n",
            " go  communication  ensemble \n",
            " tokens are: \n",
            "['go', 'communication', 'ensemble']\n",
            "[\"{'skills': {'communication': 2, 'collaboration': 1, 'ensemble': 4}}\"]\n",
            "document is: \n",
            " communication  collaboration  ensemble \n",
            " tokens are: \n",
            "['communication', 'collaboration', 'ensemble']\n",
            "[\"{'skills': {'hardware': 3, 'mobile': 1, 'coaching': 1, 'reporting': 1, 'design': 1}}\"]\n",
            "document is: \n",
            " hardware  mobile  coaching  reporting  design \n",
            " tokens are: \n",
            "['hardware', 'mobile', 'coaching', 'reporting', 'design']\n",
            "[\"{'skills': {'sql server': 1, 'tableau': 1, 'sql': 1}}\"]\n",
            "document is: \n",
            " sql server  tableau  sql \n",
            " tokens are: \n",
            "['sql', 'server', 'tableau', 'sql']\n",
            "[\"{'skills': {'jquery': 1, 'ai': 4, 'vb.net': 1, 'collaboration': 1, 'asp.net': 1, 'ajax': 1, 'internet': 1, 'php': 1}}\"]\n",
            "document is: \n",
            " jquery  ai  vbnet  collaboration  aspnet  ajax  internet  php \n",
            " tokens are: \n",
            "['jquery', 'ai', 'vbnet', 'collaboration', 'aspnet', 'ajax', 'internet', 'php']\n",
            "[\"{'skills': {'reporting': 2, 'ai': 5, 'communication': 4, 'documentation': 1, 'coaching': 1, 'ensemble': 1}}\", \"{'skills': {'jquery': 1, 'ai': 4, 'vb.net': 1, 'collaboration': 1, 'asp.net': 1, 'ajax': 1, 'internet': 1, 'php': 1}}\"]\n",
            "document is: \n",
            " reporting  ai  communication  documentation  coaching  ensemble   jquery  ai  vbnet  collaboration  aspnet  ajax  internet  php \n",
            " tokens are: \n",
            "['reporting', 'ai', 'communication', 'documentation', 'coaching', 'ensemble', 'jquery', 'ai', 'vbnet', 'collaboration', 'aspnet', 'ajax', 'internet', 'php']\n",
            "[\"{'skills': {'documentation': 1, 'ensemble': 2, 'reporting': 1}}\"]\n",
            "document is: \n",
            " documentation  ensemble  reporting \n",
            " tokens are: \n",
            "['documentation', 'ensemble', 'reporting']\n",
            "[\"{'skills': {'software development': 1, 'debugging': 4, 'solution development': 3, 'http': 2, 'mobile': 1, 'documentation': 7, 'programming': 4, 'technical': 8, 'design': 4, 'web development': 8}}\"]\n",
            "document is: \n",
            " software development  debugging  solution development  http  mobile  documentation  programming  technical  design  web development \n",
            " tokens are: \n",
            "['software', 'development', 'debugging', 'solution', 'development', 'http', 'mobile', 'documentation', 'programming', 'technical', 'design', 'web', 'development']\n",
            "[\"{'skills': {'mobile': 1, 'communication': 2, 'collaboration': 2, 'training': 2, 'e-commerce': 1}}\"]\n",
            "document is: \n",
            " mobile  communication  collaboration  training  ecommerce \n",
            " tokens are: \n",
            "['mobile', 'communication', 'collaboration', 'training', 'ecommerce']\n",
            "[\"{'skills': {'design': 1, 'internet': 1}}\"]\n",
            "document is: \n",
            " design  internet \n",
            " tokens are: \n",
            "['design', 'internet']\n",
            "[\"{'skills': {'communication': 1, 'collaboration': 1}}\"]\n",
            "document is: \n",
            " communication  collaboration \n",
            " tokens are: \n",
            "['communication', 'collaboration']\n",
            "[\"{'skills': {'reporting': 3, 'mobile': 2, 'communication': 9, 'collaboration': 3, 'documentation': 3, 'project manager': 1, 'e-commerce': 3, 'design': 1, 'innovation': 1, 'ensemble': 3}}\"]\n",
            "document is: \n",
            " reporting  mobile  communication  collaboration  documentation  project manager  ecommerce  design  innovation  ensemble \n",
            " tokens are: \n",
            "['reporting', 'mobile', 'communication', 'collaboration', 'documentation', 'project', 'manager', 'ecommerce', 'design', 'innovation', 'ensemble']\n",
            "[\"{'skills': {'mobile': 1, 'communication': 1, 'fortran': 1}}\", \"{'skills': {'software development': 1, 'training': 3, 'implementation': 7, 'processing': 1, 'website development': 2, 'technical': 3, 'social media marketing': 1, 'desk': 1, 'networks': 1}}\"]\n",
            "document is: \n",
            " mobile  communication  fortran   software development  training  implementation  processing  website development  technical  social media marketing  desk  networks \n",
            " tokens are: \n",
            "['mobile', 'communication', 'fortran', 'software', 'development', 'training', 'implementation', 'processing', 'website', 'development', 'technical', 'social', 'media', 'marketing', 'desk', 'networks']\n",
            "[\"{'skills': {'design patterns': 1, 'mobile': 2, 'communication': 4, 'collaboration': 1, 'maven': 1, 'python': 2, 'engineering': 1, 'design': 2, 'internet': 1}}\"]\n",
            "document is: \n",
            " design patterns  mobile  communication  collaboration  maven  python  engineering  design  internet \n",
            " tokens are: \n",
            "['design', 'patterns', 'mobile', 'communication', 'collaboration', 'maven', 'python', 'engineering', 'design', 'internet']\n",
            "[\"{'skills': {'communication': 1, 'reporting': 2}}\"]\n",
            "document is: \n",
            " communication  reporting \n",
            " tokens are: \n",
            "['communication', 'reporting']\n",
            "[\"{'skills': {'ai': 1}}\"]\n",
            "document is: \n",
            " ai \n",
            " tokens are: \n",
            "['ai']\n",
            "[\"{'skills': {'reporting': 2, 'ai': 5, 'communication': 4, 'documentation': 1, 'coaching': 1, 'ensemble': 1}}\"]\n",
            "document is: \n",
            " reporting  ai  communication  documentation  coaching  ensemble \n",
            " tokens are: \n",
            "['reporting', 'ai', 'communication', 'documentation', 'coaching', 'ensemble']\n",
            "[\"{'skills': {'communication': 1}}\"]\n",
            "document is: \n",
            " communication \n",
            " tokens are: \n",
            "['communication']\n",
            "[\"{'skills': {'training': 2, 'data collection': 1, 'technical': 1, 'reporting': 11, 'programming': 4, 'hardware': 2, 'design': 2, 'databases': 1, 'sas': 2}}\"]\n",
            "document is: \n",
            " training  data collection  technical  reporting  programming  hardware  design  databases  sas \n",
            " tokens are: \n",
            "['training', 'data', 'collection', 'technical', 'reporting', 'programming', 'hardware', 'design', 'databases', 'sas']\n",
            "[\"{'skills': {'internet': 1}}\"]\n",
            "document is: \n",
            " internet \n",
            " tokens are: \n",
            "['internet']\n",
            "[\"{'skills': {'consulting': 1, 'implementation': 4, 'renewable energy': 1, 'training': 1, 'technical': 3, 'engineering': 3, 'leadership': 1, 'design': 1, 'problem solving': 1, 'project management': 2}}\", \"{'skills': {'ensemble': 3}}\"]\n",
            "document is: \n",
            " consulting  implementation  renewable energy  training  technical  engineering  leadership  design  problem solving  project management   ensemble \n",
            " tokens are: \n",
            "['consulting', 'implementation', 'renewable', 'energy', 'training', 'technical', 'engineering', 'leadership', 'design', 'problem', 'solving', 'project', 'management', 'ensemble']\n",
            "[\"{'skills': {'hardware': 3, 'mobile': 1, 'coaching': 1, 'reporting': 1, 'design': 1}}\"]\n",
            "document is: \n",
            " hardware  mobile  coaching  reporting  design \n",
            " tokens are: \n",
            "['hardware', 'mobile', 'coaching', 'reporting', 'design']\n",
            "[\"{'skills': {'jsp': 1, 'internet': 1}}\"]\n",
            "document is: \n",
            " jsp  internet \n",
            " tokens are: \n",
            "['jsp', 'internet']\n",
            "[\"{'skills': {'go': 1, 'communication': 2, 'ensemble': 2}}\"]\n",
            "document is: \n",
            " go  communication  ensemble \n",
            " tokens are: \n",
            "['go', 'communication', 'ensemble']\n",
            "[\"{'skills': {'http': 1}}\"]\n",
            "document is: \n",
            " http \n",
            " tokens are: \n",
            "['http']\n",
            "[\"{'skills': {'ai': 1, 'documentation': 1, 'http': 16, 'html': 3}}\"]\n",
            "document is: \n",
            " ai  documentation  http  html \n",
            " tokens are: \n",
            "['ai', 'documentation', 'http', 'html']\n",
            "[\"{'skills': {'implementation': 1, 'consulting': 1, 'design': 1, 'engineering': 1, 'project management': 1}}\"]\n",
            "document is: \n",
            " implementation  consulting  design  engineering  project management \n",
            " tokens are: \n",
            "['implementation', 'consulting', 'design', 'engineering', 'project', 'management']\n",
            "[\"{'skills': {'ai': 15, 'communication': 2, 'collaboration': 2, 'innovation': 3, 'coaching': 1, 'leadership': 1, 'internet': 3}}\"]\n",
            "document is: \n",
            " ai  communication  collaboration  innovation  coaching  leadership  internet \n",
            " tokens are: \n",
            "['ai', 'communication', 'collaboration', 'innovation', 'coaching', 'leadership', 'internet']\n",
            "[\"{'skills': {'reporting': 2, 'ai': 5, 'communication': 4, 'documentation': 1, 'coaching': 1, 'ensemble': 1}}\"]\n",
            "document is: \n",
            " reporting  ai  communication  documentation  coaching  ensemble \n",
            " tokens are: \n",
            "['reporting', 'ai', 'communication', 'documentation', 'coaching', 'ensemble']\n",
            "[\"{'skills': {'ai': 6, 'communication': 1, 'collaboration': 3, 'programming': 1, 'engineering': 1, 'design': 1, 'matlab': 1, 'analytical': 3, 'modeling': 1, 'ensemble': 3}}\"]\n",
            "document is: \n",
            " ai  communication  collaboration  programming  engineering  design  matlab  analytical  modeling  ensemble \n",
            " tokens are: \n",
            "['ai', 'communication', 'collaboration', 'programming', 'engineering', 'design', 'matlab', 'analytical', 'modeling', 'ensemble']\n",
            "[\"{'skills': {'ai': 2, 'collaboration': 1}}\"]\n",
            "document is: \n",
            " ai  collaboration \n",
            " tokens are: \n",
            "['ai', 'collaboration']\n",
            "[\"{'skills': {'mobile': 1}}\"]\n",
            "document is: \n",
            " mobile \n",
            " tokens are: \n",
            "['mobile']\n",
            "[\"{'skills': {'ai': 1, 'http': 1}}\"]\n",
            "document is: \n",
            " ai  http \n",
            " tokens are: \n",
            "['ai', 'http']\n",
            "[\"{'skills': {'analytics': 1, 'collaboration': 1, 'e-commerce': 1, 'internet': 2, 'communication': 1}}\"]\n",
            "document is: \n",
            " analytics  collaboration  ecommerce  internet  communication \n",
            " tokens are: \n",
            "['analytics', 'collaboration', 'ecommerce', 'internet', 'communication']\n",
            "[\"{'skills': {'mobile': 1, 'innovation': 1}}\"]\n",
            "document is: \n",
            " mobile  innovation \n",
            " tokens are: \n",
            "['mobile', 'innovation']\n",
            "[\"{'skills': {'training': 6, 'processing': 1, 'implementation': 1, 'communication': 4, 'documentation': 1, 'reporting': 1, 'priorities': 1, 'organizational': 1, 'leadership': 1, 'innovation': 1, 'analytical': 1, 'presentation': 1, 'networks': 1, 'data management': 1}}\"]\n",
            "document is: \n",
            " training  processing  implementation  communication  documentation  reporting  priorities  organizational  leadership  innovation  analytical  presentation  networks  data management \n",
            " tokens are: \n",
            "['training', 'processing', 'implementation', 'communication', 'documentation', 'reporting', 'priorities', 'organizational', 'leadership', 'innovation', 'analytical', 'presentation', 'networks', 'data', 'management']\n",
            "[\"{'skills': {'consulting': 2, 'implementation': 7, 'collaboration': 1, 'reporting': 2, 'programming': 1, 'hardware': 1, 'technical': 1, 'engineering': 1, 'desk': 1}}\"]\n",
            "document is: \n",
            " consulting  implementation  collaboration  reporting  programming  hardware  technical  engineering  desk \n",
            " tokens are: \n",
            "['consulting', 'implementation', 'collaboration', 'reporting', 'programming', 'hardware', 'technical', 'engineering', 'desk']\n",
            "[\"{'skills': {'training': 2, 'implementation': 1, 'communication': 1, 'reporting': 2, 'project manager': 1, 'analytics': 1, 'technical': 3}}\"]\n",
            "document is: \n",
            " training  implementation  communication  reporting  project manager  analytics  technical \n",
            " tokens are: \n",
            "['training', 'implementation', 'communication', 'reporting', 'project', 'manager', 'analytics', 'technical']\n",
            "[\"{'skills': {'hardware': 1, 'collaboration': 1, 'reporting': 1, 'engineering': 1, 'desk': 1}}\"]\n",
            "document is: \n",
            " hardware  collaboration  reporting  engineering  desk \n",
            " tokens are: \n",
            "['hardware', 'collaboration', 'reporting', 'engineering', 'desk']\n",
            "[\"{'skills': {'http': 2, 'communication': 15, 'collaboration': 9, 'internet': 1, 'e-commerce': 1, 'design': 3, 'problem solving': 2, 'innovation': 2, 'communication technologies': 1}}\"]\n",
            "document is: \n",
            " http  communication  collaboration  internet  ecommerce  design  problem solving  innovation  communication technologies \n",
            " tokens are: \n",
            "['http', 'communication', 'collaboration', 'internet', 'ecommerce', 'design', 'problem', 'solving', 'innovation', 'communication', 'technologies']\n",
            "[\"{'skills': {'communication': 1, 'collaboration': 4, 'leadership': 1, 'ensemble': 1, 'internet': 1}}\"]\n",
            "document is: \n",
            " communication  collaboration  leadership  ensemble  internet \n",
            " tokens are: \n",
            "['communication', 'collaboration', 'leadership', 'ensemble', 'internet']\n",
            "[\"{'skills': {'communication': 3, 'collaboration': 2, 'documentation': 1, 'ensemble': 1}}\"]\n",
            "document is: \n",
            " communication  collaboration  documentation  ensemble \n",
            " tokens are: \n",
            "['communication', 'collaboration', 'documentation', 'ensemble']\n",
            "[\"{'skills': {'ai': 2, 'hardware': 1, 'internet': 1}}\"]\n",
            "document is: \n",
            " ai  hardware  internet \n",
            " tokens are: \n",
            "['ai', 'hardware', 'internet']\n",
            "[\"{'skills': {'communication': 1, 'documentation': 3}}\"]\n",
            "document is: \n",
            " communication  documentation \n",
            " tokens are: \n",
            "['communication', 'documentation']\n",
            "[\"{'skills': {'ai': 2, 'hardware': 1, 'internet': 1}}\"]\n",
            "document is: \n",
            " ai  hardware  internet \n",
            " tokens are: \n",
            "['ai', 'hardware', 'internet']\n",
            "[\"{'skills': {'e-commerce': 1}}\"]\n",
            "document is: \n",
            " ecommerce \n",
            " tokens are: \n",
            "['ecommerce']\n",
            "[\"{'skills': {'hardware': 2, 'communication': 1, 'ensemble': 1}}\"]\n",
            "document is: \n",
            " hardware  communication  ensemble \n",
            " tokens are: \n",
            "['hardware', 'communication', 'ensemble']\n",
            "[\"{'skills': {'certifications': 1}}\"]\n",
            "document is: \n",
            " certifications \n",
            " tokens are: \n",
            "['certifications']\n",
            "[\"{'skills': {'communication': 1, 'internet': 1}}\"]\n",
            "document is: \n",
            " communication  internet \n",
            " tokens are: \n",
            "['communication', 'internet']\n",
            "[\"{'skills': {'hardware': 1, 'reporting': 2, 'ensemble': 2}}\"]\n",
            "document is: \n",
            " hardware  reporting  ensemble \n",
            " tokens are: \n",
            "['hardware', 'reporting', 'ensemble']\n",
            "[\"{'skills': {'communication': 1, 'documentation': 1, 'http': 1, 'internet': 1, 'assembleur': 1}}\"]\n",
            "document is: \n",
            " communication  documentation  http  internet  assembleur \n",
            " tokens are: \n",
            "['communication', 'documentation', 'http', 'internet', 'assembleur']\n",
            "[\"{'skills': {'communication': 1, 'internet': 1}}\"]\n",
            "document is: \n",
            " communication  internet \n",
            " tokens are: \n",
            "['communication', 'internet']\n",
            "[\"{'skills': {'communication': 2, 'coaching': 1, 'ensemble': 1, 'project management': 1}}\"]\n",
            "document is: \n",
            " communication  coaching  ensemble  project management \n",
            " tokens are: \n",
            "['communication', 'coaching', 'ensemble', 'project', 'management']\n",
            "[\"{'skills': {'html': 2, 'ensemble': 1}}\"]\n",
            "document is: \n",
            " html  ensemble \n",
            " tokens are: \n",
            "['html', 'ensemble']\n",
            "[\"{'skills': {'communication': 1, 'word': 1}}\"]\n",
            "document is: \n",
            " communication  word \n",
            " tokens are: \n",
            "['communication', 'word']\n",
            "[\"{'skills': {'pascal': 1}}\"]\n",
            "document is: \n",
            " pascal \n",
            " tokens are: \n",
            "['pascal']\n",
            "[\"{'skills': {'collaboration': 1}}\"]\n",
            "document is: \n",
            " collaboration \n",
            " tokens are: \n",
            "['collaboration']\n",
            "[\"{'skills': {'training': 1, 'network security': 1, 'implementation': 2, 'documentation': 1, 'hardware': 14, 'mobile': 7, 'engineering': 1, 'design': 3, 'databases': 3, 'technical': 1, 'operating system': 1, 'networks': 2}}\"]\n",
            "document is: \n",
            " training  network security  implementation  documentation  hardware  mobile  engineering  design  databases  technical  operating system  networks \n",
            " tokens are: \n",
            "['training', 'network', 'security', 'implementation', 'documentation', 'hardware', 'mobile', 'engineering', 'design', 'databases', 'technical', 'operating', 'system', 'networks']\n",
            "[\"{'skills': {'prestashop': 1, 'http': 5, 'internet': 1}}\"]\n",
            "document is: \n",
            " prestashop  http  internet \n",
            " tokens are: \n",
            "['prestashop', 'http', 'internet']\n",
            "[\"{'skills': {'training': 3, 'implementation': 1, 'programming': 1, 'mentoring': 1, 'innovation': 1, 'presentation': 7}}\"]\n",
            "document is: \n",
            " training  implementation  programming  mentoring  innovation  presentation \n",
            " tokens are: \n",
            "['training', 'implementation', 'programming', 'mentoring', 'innovation', 'presentation']\n",
            "[\"{'skills': {'reporting': 2, 'ai': 5, 'communication': 4, 'documentation': 1, 'coaching': 1, 'ensemble': 1}}\"]\n",
            "document is: \n",
            " reporting  ai  communication  documentation  coaching  ensemble \n",
            " tokens are: \n",
            "['reporting', 'ai', 'communication', 'documentation', 'coaching', 'ensemble']\n",
            "[\"{'skills': {'mobile': 2, 'communication': 1, 'reporting': 1, 'ensemble': 1}}\"]\n",
            "document is: \n",
            " mobile  communication  reporting  ensemble \n",
            " tokens are: \n",
            "['mobile', 'communication', 'reporting', 'ensemble']\n",
            "[\"{'skills': {'http': 1, 'internet': 1}}\"]\n",
            "document is: \n",
            " http  internet \n",
            " tokens are: \n",
            "['http', 'internet']\n",
            "[\"{'skills': {'reporting': 3, 'mobile': 2, 'communication': 9, 'collaboration': 3, 'documentation': 3, 'project manager': 1, 'e-commerce': 3, 'design': 1, 'innovation': 1, 'ensemble': 3}}\"]\n",
            "document is: \n",
            " reporting  mobile  communication  collaboration  documentation  project manager  ecommerce  design  innovation  ensemble \n",
            " tokens are: \n",
            "['reporting', 'mobile', 'communication', 'collaboration', 'documentation', 'project', 'manager', 'ecommerce', 'design', 'innovation', 'ensemble']\n",
            "[\"{'skills': {'ai': 2, 'hardware': 1, 'internet': 1}}\"]\n",
            "document is: \n",
            " ai  hardware  internet \n",
            " tokens are: \n",
            "['ai', 'hardware', 'internet']\n",
            "[\"{'skills': {'ensemble': 5}}\"]\n",
            "document is: \n",
            " ensemble \n",
            " tokens are: \n",
            "['ensemble']\n",
            "[\"{'skills': {'hardware': 3, 'mobile': 1, 'coaching': 1, 'reporting': 1, 'design': 1}}\"]\n",
            "document is: \n",
            " hardware  mobile  coaching  reporting  design \n",
            " tokens are: \n",
            "['hardware', 'mobile', 'coaching', 'reporting', 'design']\n",
            "[\"{'skills': {'mobile': 1, 'communication': 2, 'collaboration': 2, 'training': 2, 'e-commerce': 1}}\"]\n",
            "document is: \n",
            " mobile  communication  collaboration  training  ecommerce \n",
            " tokens are: \n",
            "['mobile', 'communication', 'collaboration', 'training', 'ecommerce']\n",
            "[\"{'skills': {'communication': 1, 'reporting': 2}}\"]\n",
            "document is: \n",
            " communication  reporting \n",
            " tokens are: \n",
            "['communication', 'reporting']\n",
            "[\"{'skills': {'communication': 1, 'internet': 1}}\"]\n",
            "document is: \n",
            " communication  internet \n",
            " tokens are: \n",
            "['communication', 'internet']\n",
            "[\"{'skills': {'communication': 2}}\"]\n",
            "document is: \n",
            " communication \n",
            " tokens are: \n",
            "['communication']\n",
            "[\"{'skills': {'communication': 4, 'e-commerce': 1}}\", \"{'skills': {'certifications': 1, 'ai': 6, 'bootstrap': 1, 'hardware': 1, 'mobile': 1, 'sas': 1, 'internet': 13, 'go': 1, 'ensemble': 4}}\"]\n",
            "document is: \n",
            " communication  ecommerce   certifications  ai  bootstrap  hardware  mobile  sas  internet  go  ensemble \n",
            " tokens are: \n",
            "['communication', 'ecommerce', 'certifications', 'ai', 'bootstrap', 'hardware', 'mobile', 'sas', 'internet', 'go', 'ensemble']\n",
            "[\"{'skills': {'internet': 1}}\"]\n",
            "document is: \n",
            " internet \n",
            " tokens are: \n",
            "['internet']\n",
            "[\"{'skills': {'ai': 1, 'communication': 1}}\"]\n",
            "document is: \n",
            " ai  communication \n",
            " tokens are: \n",
            "['ai', 'communication']\n",
            "[\"{'skills': {'ai': 40, 'communication': 7, 'collaboration': 3, 'training': 1, 'tableau': 1}}\"]\n",
            "document is: \n",
            " ai  communication  collaboration  training  tableau \n",
            " tokens are: \n",
            "['ai', 'communication', 'collaboration', 'training', 'tableau']\n",
            "[\"{'skills': {'debugging': 1, 'wordpress': 1, 'internet': 1}}\"]\n",
            "document is: \n",
            " debugging  wordpress  internet \n",
            " tokens are: \n",
            "['debugging', 'wordpress', 'internet']\n",
            "[\"{'skills': {'ai': 2, 'hardware': 1, 'internet': 1}}\"]\n",
            "document is: \n",
            " ai  hardware  internet \n",
            " tokens are: \n",
            "['ai', 'hardware', 'internet']\n",
            "[\"{'skills': {'certifications': 1, 'ai': 3, 'communication': 2, 'mobile': 4, 'leadership': 2, 'internet': 4, 'ensemble': 2}}\"]\n",
            "document is: \n",
            " certifications  ai  communication  mobile  leadership  internet  ensemble \n",
            " tokens are: \n",
            "['certifications', 'ai', 'communication', 'mobile', 'leadership', 'internet', 'ensemble']\n",
            "[\"{'skills': {'certifications': 1, 'http': 1, 'mobile': 13, 'communication': 47, 'cloud computing': 12, 'documentation': 1, 'networks': 2, 'internet': 34, 'tableau': 1, 'ensemble': 11, 'e-commerce': 12, 'wimax': 1, 'lte': 4, 'innovation': 5, 'dos': 1, 'collaboration': 7}}\"]\n",
            "document is: \n",
            " certifications  http  mobile  communication  cloud computing  documentation  networks  internet  tableau  ensemble  ecommerce  wimax  lte  innovation  dos  collaboration \n",
            " tokens are: \n",
            "['certifications', 'http', 'mobile', 'communication', 'cloud', 'computing', 'documentation', 'networks', 'internet', 'tableau', 'ensemble', 'ecommerce', 'wimax', 'lte', 'innovation', 'dos', 'collaboration']\n",
            "[\"{'skills': {'mobile': 1, 'design': 1}}\"]\n",
            "document is: \n",
            " mobile  design \n",
            " tokens are: \n",
            "['mobile', 'design']\n",
            "[\"{'skills': {'mobile': 2, 'communication': 1, 'reporting': 1, 'ensemble': 1}}\"]\n",
            "document is: \n",
            " mobile  communication  reporting  ensemble \n",
            " tokens are: \n",
            "['mobile', 'communication', 'reporting', 'ensemble']\n",
            "[\"{'skills': {'communication': 1}}\"]\n",
            "document is: \n",
            " communication \n",
            " tokens are: \n",
            "['communication']\n",
            "[\"{'skills': {'hardware': 1, 'internet': 1, 'desk': 1}}\"]\n",
            "document is: \n",
            " hardware  internet  desk \n",
            " tokens are: \n",
            "['hardware', 'internet', 'desk']\n",
            "[\"{'skills': {'desk': 1}}\"]\n",
            "document is: \n",
            " desk \n",
            " tokens are: \n",
            "['desk']\n",
            "[\"{'skills': {'desk': 1}}\"]\n",
            "document is: \n",
            " desk \n",
            " tokens are: \n",
            "['desk']\n",
            "[\"{'skills': {'communication': 2, 'collaboration': 1, 'ensemble': 4}}\"]\n",
            "document is: \n",
            " communication  collaboration  ensemble \n",
            " tokens are: \n",
            "['communication', 'collaboration', 'ensemble']\n",
            "[\"{'skills': {'communication': 1, 'internet': 1, 'design': 1, 'diagnostics': 1}}\"]\n",
            "document is: \n",
            " communication  internet  design  diagnostics \n",
            " tokens are: \n",
            "['communication', 'internet', 'design', 'diagnostics']\n",
            "[\"{'skills': {'collaboration': 2}}\"]\n",
            "document is: \n",
            " collaboration \n",
            " tokens are: \n",
            "['collaboration']\n",
            "[\"{'skills': {'ai': 1, 'http': 1}}\"]\n",
            "document is: \n",
            " ai  http \n",
            " tokens are: \n",
            "['ai', 'http']\n",
            "[\"{'skills': {'mobile': 1, 'reporting': 1}}\"]\n",
            "document is: \n",
            " mobile  reporting \n",
            " tokens are: \n",
            "['mobile', 'reporting']\n",
            "[\"{'skills': {'communication': 1}}\", \"{'skills': {'desk': 1}}\"]\n",
            "document is: \n",
            " communication   desk \n",
            " tokens are: \n",
            "['communication', 'desk']\n",
            "[\"{'skills': {'ensemble': 5}}\", \"{'skills': {'designer': 1, 'ai': 1, 'communication': 1, 'reporting': 2, 'engineering': 1, 'internet': 2, 'ensemble': 1}}\"]\n",
            "document is: \n",
            " ensemble   designer  ai  communication  reporting  engineering  internet  ensemble \n",
            " tokens are: \n",
            "['ensemble', 'designer', 'ai', 'communication', 'reporting', 'engineering', 'internet', 'ensemble']\n",
            "[\"{'skills': {'communication': 2, 'collaboration': 1, 'ensemble': 3}}\"]\n",
            "document is: \n",
            " communication  collaboration  ensemble \n",
            " tokens are: \n",
            "['communication', 'collaboration', 'ensemble']\n",
            "[\"{'skills': {'analytics': 1, 'collaboration': 1, 'e-commerce': 1, 'internet': 2, 'communication': 1}}\"]\n",
            "document is: \n",
            " analytics  collaboration  ecommerce  internet  communication \n",
            " tokens are: \n",
            "['analytics', 'collaboration', 'ecommerce', 'internet', 'communication']\n",
            "[\"{'skills': {'consulting': 1, 'less': 1, 'coding': 1, 'analytics': 3, 'design': 7, 'statistical analysis': 2, 'networks': 2, 'implementation': 6, 'social media marketing': 1, 'internet': 3, 'presentation': 2, 'web development': 1, 'reporting': 3, 'innovation': 1, 'attention to detail': 1, 'leadership': 1, 'desk': 1, 'project management': 1, 'training': 7, 'technical': 4, 'documentation': 3, 'programming': 1, 'e-commerce': 1, 'databases': 2, 'analytical': 1, 'troubleshooting': 1}}\"]\n",
            "document is: \n",
            " consulting  less  coding  analytics  design  statistical analysis  networks  implementation  social media marketing  internet  presentation  web development  reporting  innovation  attention to detail  leadership  desk  project management  training  technical  documentation  programming  ecommerce  databases  analytical  troubleshooting \n",
            " tokens are: \n",
            "['consulting', 'less', 'coding', 'analytics', 'design', 'statistical', 'analysis', 'networks', 'implementation', 'social', 'media', 'marketing', 'internet', 'presentation', 'web', 'development', 'reporting', 'innovation', 'attention', 'to', 'detail', 'leadership', 'desk', 'project', 'management', 'training', 'technical', 'documentation', 'programming', 'ecommerce', 'databases', 'analytical', 'troubleshooting']\n",
            "[\"{'skills': {'digital marketing': 1, 'consulting': 1, 'implementation': 1, 'hardware': 1, 'design': 1, 'content marketing': 2, 'insights': 2}}\"]\n",
            "document is: \n",
            " digital marketing  consulting  implementation  hardware  design  content marketing  insights \n",
            " tokens are: \n",
            "['digital', 'marketing', 'consulting', 'implementation', 'hardware', 'design', 'content', 'marketing', 'insights']\n",
            "[\"{'skills': {'scrum': 1, 'mobile': 8, 'collaboration': 1, 'reporting': 1, 'priorities': 1, 'analytics': 1, 'engineering': 1, 'web analytics': 1, 'design': 10, 'website development': 1, 'presentation': 1, 'technical': 2, 'project management': 1}}\"]\n",
            "document is: \n",
            " scrum  mobile  collaboration  reporting  priorities  analytics  engineering  web analytics  design  website development  presentation  technical  project management \n",
            " tokens are: \n",
            "['scrum', 'mobile', 'collaboration', 'reporting', 'priorities', 'analytics', 'engineering', 'web', 'analytics', 'design', 'website', 'development', 'presentation', 'technical', 'project', 'management']\n",
            "[\"{'skills': {'certifications': 1, 'http': 1, 'mobile': 13, 'communication': 47, 'cloud computing': 12, 'documentation': 1, 'networks': 2, 'internet': 34, 'tableau': 1, 'ensemble': 11, 'e-commerce': 12, 'wimax': 1, 'lte': 4, 'innovation': 5, 'dos': 1, 'collaboration': 7}}\"]\n",
            "document is: \n",
            " certifications  http  mobile  communication  cloud computing  documentation  networks  internet  tableau  ensemble  ecommerce  wimax  lte  innovation  dos  collaboration \n",
            " tokens are: \n",
            "['certifications', 'http', 'mobile', 'communication', 'cloud', 'computing', 'documentation', 'networks', 'internet', 'tableau', 'ensemble', 'ecommerce', 'wimax', 'lte', 'innovation', 'dos', 'collaboration']\n",
            "[\"{'skills': {'communication': 1, 'collaboration': 2, 'desk': 1}}\"]\n",
            "document is: \n",
            " communication  collaboration  desk \n",
            " tokens are: \n",
            "['communication', 'collaboration', 'desk']\n",
            "[\"{'skills': {'internet': 1}}\"]\n",
            "document is: \n",
            " internet \n",
            " tokens are: \n",
            "['internet']\n",
            "[\"{'skills': {'communication': 2}}\"]\n",
            "document is: \n",
            " communication \n",
            " tokens are: \n",
            "['communication']\n",
            "[\"{'skills': {'documentation': 1, 'ensemble': 2, 'reporting': 1}}\"]\n",
            "document is: \n",
            " documentation  ensemble  reporting \n",
            " tokens are: \n",
            "['documentation', 'ensemble', 'reporting']\n",
            "[\"{'skills': {'communication': 1, 'collaboration': 1}}\"]\n",
            "document is: \n",
            " communication  collaboration \n",
            " tokens are: \n",
            "['communication', 'collaboration']\n",
            "[\"{'skills': {'reporting': 2, 'ai': 5, 'communication': 4, 'documentation': 1, 'coaching': 1, 'ensemble': 1}}\"]\n",
            "document is: \n",
            " reporting  ai  communication  documentation  coaching  ensemble \n",
            " tokens are: \n",
            "['reporting', 'ai', 'communication', 'documentation', 'coaching', 'ensemble']\n",
            "[\"{'skills': {'ai': 2, 'hardware': 1, 'internet': 1}}\"]\n",
            "document is: \n",
            " ai  hardware  internet \n",
            " tokens are: \n",
            "['ai', 'hardware', 'internet']\n",
            "[\"{'skills': {'hardware': 1, 'html': 1}}\"]\n",
            "document is: \n",
            " hardware  html \n",
            " tokens are: \n",
            "['hardware', 'html']\n",
            "[\"{'skills': {'hardware': 1, 'reporting': 1, 'ensemble': 1}}\"]\n",
            "document is: \n",
            " hardware  reporting  ensemble \n",
            " tokens are: \n",
            "['hardware', 'reporting', 'ensemble']\n",
            "[\"{'skills': {'communication': 1, 'internet': 1}}\"]\n",
            "document is: \n",
            " communication  internet \n",
            " tokens are: \n",
            "['communication', 'internet']\n",
            "[\"{'skills': {'internet': 1}}\"]\n",
            "document is: \n",
            " internet \n",
            " tokens are: \n",
            "['internet']\n",
            "[\"{'skills': {'internet': 1}}\"]\n",
            "document is: \n",
            " internet \n",
            " tokens are: \n",
            "['internet']\n",
            "[\"{'skills': {'ensemble': 1}}\"]\n",
            "document is: \n",
            " ensemble \n",
            " tokens are: \n",
            "['ensemble']\n",
            "[\"{'skills': {'ai': 2, 'hardware': 1, 'internet': 1}}\"]\n",
            "document is: \n",
            " ai  hardware  internet \n",
            " tokens are: \n",
            "['ai', 'hardware', 'internet']\n",
            "[\"{'skills': {'ai': 5, 'communication': 6, 'eclipse': 1, 'http': 1}}\"]\n",
            "document is: \n",
            " ai  communication  eclipse  http \n",
            " tokens are: \n",
            "['ai', 'communication', 'eclipse', 'http']\n",
            "[\"{'skills': {'collaboration': 1}}\"]\n",
            "document is: \n",
            " collaboration \n",
            " tokens are: \n",
            "['collaboration']\n",
            "[\"{'skills': {'ai': 1, 'http': 1}}\"]\n",
            "document is: \n",
            " ai  http \n",
            " tokens are: \n",
            "['ai', 'http']\n",
            "[\"{'skills': {'internet': 1}}\"]\n",
            "document is: \n",
            " internet \n",
            " tokens are: \n",
            "['internet']\n",
            "[\"{'skills': {'mobile': 1, 'innovation': 1}}\"]\n",
            "document is: \n",
            " mobile  innovation \n",
            " tokens are: \n",
            "['mobile', 'innovation']\n",
            "[\"{'skills': {'ai': 2, 'hardware': 1, 'internet': 1}}\"]\n",
            "document is: \n",
            " ai  hardware  internet \n",
            " tokens are: \n",
            "['ai', 'hardware', 'internet']\n",
            "[\"{'skills': {'reporting': 2, 'ai': 5, 'communication': 4, 'documentation': 1, 'coaching': 1, 'ensemble': 1}}\"]\n",
            "document is: \n",
            " reporting  ai  communication  documentation  coaching  ensemble \n",
            " tokens are: \n",
            "['reporting', 'ai', 'communication', 'documentation', 'coaching', 'ensemble']\n",
            "[\"{'skills': {'mobile': 1, 'design': 1}}\"]\n",
            "document is: \n",
            " mobile  design \n",
            " tokens are: \n",
            "['mobile', 'design']\n",
            "[\"{'skills': {'reporting': 2, 'ai': 5, 'communication': 4, 'documentation': 1, 'coaching': 1, 'ensemble': 1}}\"]\n",
            "document is: \n",
            " reporting  ai  communication  documentation  coaching  ensemble \n",
            " tokens are: \n",
            "['reporting', 'ai', 'communication', 'documentation', 'coaching', 'ensemble']\n",
            "[['tech', 'training', 'http', 'support', 'documentation', 'prototyping', 'networks', 'technical', 'implementation', 'certifications', 'programming', 'penetration', 'processing', 'data', 'testing'], ['communication', 'hardware', 'ensemble'], ['communication', 'ecommerce'], ['ecommerce'], ['mobile', 'communication', 'ai', 'diagnostics', 'design'], ['development', 'training', 'designer', 'coaching', 'collaboration', 'coding', 'web', 'html', 'communication', 'php', 'internet', 'hardware', 'technical', 'processing', 'design', 'troubleshooting', 'networks', 'implementation', 'programming', 'telecom', 'electronics', 'backend'], ['mobile', 'http', 'communication', 'git', 'html', 'internet', 'ecommerce', 'nodejs', 'design', 'svg', 'angular'], ['mobile', 'deep', 'training', 'innovation', 'mining', 'ecommerce', 'collaboration', 'engineering', 'communication', 'mathematics', 'learning', 'technical', 'processing', 'design', 'collection', 'machine', 'go', 'implementation', 'data'], ['communication', 'reporting'], ['mobile', 'training', 'http', 'innovation', 'ecommerce', 'desk', 'priorities', 'solving', 'consulting', 'collaboration', 'engineering', 'html', 'analysis', 'modeling', 'mathematics', 'presentation', 'design', 'debugging', 'collection', 'networks', 'implementation', 'programming', 'statistical', 'problem', 'data'], ['documentation', 'dom'], ['thinking', 'training', 'graphic', 'assembly', 'presentation', 'implementation', 'critical', 'programming', 'analytical', 'databases', 'design'], ['communication', 'mobile', 'design'], ['design'], ['engineering', 'git', 'design'], ['go', 'communication', 'http', 'ecommerce'], ['go', 'design'], ['internet', 'ensemble'], ['networks', 'communication', 'presentation', 'innovation', 'design'], ['windows', 'http', 'powershell', 'php', 'collaboration', 'visio', 'ecommerce', 'processing', 'html'], ['communication', 'hardware', 'ensemble'], ['ensemble', 'reporting'], ['mobile', 'reporting'], ['windows', 'powershell', 'php', 'collaboration', 'visio', 'ecommerce', 'html'], ['mobile', 'mentoring', 'training', 'word', 'management', 'solving', 'engineering', 'systems', 'customer', 'control', 'time', 'documentation', 'communication', 'internet', 'multitasking', 'hardware', 'technical', 'design', 'leadership', 'troubleshooting', 'service', 'networks', 'project', 'telecom', 'problem'], ['leadership', 'training', 'go', 'coaching', 'management', 'project', 'implementation', 'internet', 'ecommerce', 'technical'], ['leadership', 'training', 'http', 'documentation', 'communication', 'management', 'presentation', 'implementation', 'project', 'computing', 'cloud', 'technical', 'design'], ['training', 'go', 'consulting', 'presentation', 'implementation', 'foundation', 'design', 'reporting'], ['mobile', 'coaching', 'hardware', 'design', 'reporting'], ['mobile', 'coaching', 'hardware', 'design', 'reporting'], ['internet'], ['go', 'communication', 'documentation', 'coaching', 'ensemble', 'ai', 'reporting'], ['collaboration'], ['leadership', 'training', 'communication', 'management', 'tools', 'project', 'innovation', 'collaboration', 'internet', 'hardware', 'design', 'reporting'], ['mobile', 'documentation', 'communication', 'project', 'manager', 'collaboration', 'innovation', 'ensemble', 'ecommerce', 'design', 'reporting'], ['analytics', 'leadership', 'mentoring', 'thinking', 'training', 'http', 'communication', 'coaching', 'management', 'spark', 'project', 'implementation', 'presentation', 'critical', 'collaboration', 'design', 'data'], ['windows', 'powershell', 'php', 'collaboration', 'visio', 'ecommerce', 'html'], ['mobile', 'communication', 'ensemble', 'ecommerce', 'ai', 'design', 'assembleur'], ['training', 'management', 'project', 'collaboration', 'teamwork', 'volleyball', 'design'], ['mobile', 'documentation', 'communication', 'project', 'manager', 'collaboration', 'innovation', 'ensemble', 'ecommerce', 'design', 'reporting'], ['organizational', 'innovation', 'training', 'foundation'], ['communication', 'html', 'http'], ['scrum', 'ai', 'innovation'], ['innovation', 'collaboration'], ['collaboration', 'ensemble', 'http'], ['documentation', 'collaboration'], ['mobile', 'reporting'], ['services', 'mobile', 'wordpress', 'http', 'postfix', 'linux', 'ecommerce', 'iphone', 'web', 'html'], ['leadership', 'training', 'go', 'coaching', 'management', 'project', 'implementation', 'ecommerce', 'technical'], ['communication', 'collaboration'], ['collection', 'solving', 'problem', 'programming', 'analytical', 'technical', 'design', 'data'], ['mobile', 'coaching', 'internet', 'hardware', 'design', 'reporting'], ['services', 'mobile', 'wordpress', 'http', 'postfix', 'linux', 'ecommerce', 'iphone', 'web', 'html'], ['mobile', 'training', 'http', 'certifications', 'manager', 'innovation', 'ensemble', 'ecommerce', 'penetration', 'support', 'collaboration', 'testing', 'tech', 'documentation', 'prototyping', 'communication', 'technical', 'processing', 'design', 'reporting', 'networks', 'project', 'implementation', 'programming', 'data'], ['iptables', 'http', 'ensemble', 'internet', 'javascript'], ['leadership', 'training', 'management', 'tools', 'project', 'collaboration', 'internet', 'hardware', 'design', 'reporting'], ['mobile', 'communication', 'ensemble', 'ecommerce', 'ai', 'design', 'assembleur'], ['mobile'], ['mobile', 'http', 'communication', 'git', 'html', 'internet', 'ecommerce', 'nodejs', 'design', 'svg', 'angular'], ['communication', 'mobile', 'internet'], ['ai', 'mobile'], ['website', 'development', 'training', 'collaboration', 'programming'], ['communication', 'internet'], ['touch', 'mobile', 'android', 'framework', 'less', 'scrum', 'extjs', 'sencha', 'internet', 'ai', 'phonegap'], ['http', 'communication', 'tableau', 'implementation', 'innovation', 'collaboration', 'internet', 'reporting'], ['internet'], ['diagnostics', 'communication', 'internet', 'design'], ['communication', 'implementation'], ['mobile'], ['ensemble'], ['communication'], ['communication', 'ensemble'], ['databases', 'ai', 'collaboration'], ['http', 'modeling', 'documentation', 'communication', 'go', 'consulting', 'tableau', 'reporting', 'innovation', 'internet', 'php', 'ensemble', 'backend', 'design', 'html', 'frontend'], ['internet', 'word'], ['windows', 'powershell', 'php', 'collaboration', 'visio', 'ecommerce', 'html'], ['collection', 'training', 'analysis', 'statistical', 'data'], ['analytics', 'communication', 'consulting', 'mathematics', 'programming', 'analytical', 'data'], ['big', 'analytics', 'mobile', 'http', 'swing', 'networks', 'communication', 'solving', 'insights', 'innovation', 'engineering', 'problem', 'data'], ['documentation', 'dom'], ['leadership', 'training', 'jsp', 'internet', 'design'], ['mobile', 'communication', 'coaching', 'hardware', 'design', 'reporting'], ['training', 'analysis', 'modeling', 'network', 'artificial', 'neural', 'coding', 'data'], ['communication', 'mobile', 'ensemble', 'reporting'], ['implementation', 'ensemble', 'programming', 'ecommerce', 'technical', 'design', 'processing', 'reporting'], ['big', 'analytics', 'machine', 'http', 'analysis', 'modeling', 'insights', 'data', 'mining', 'ensemble', 'learning', 'shiny', 'statistical', 'processing', 'dom'], ['python', 'hive', 'hadoop', 'databases', 'reporting'], ['analytics', 'operating', 'machine', 'http', 'implementation', 'innovation', 'system', 'internet', 'computing', 'programming', 'learning', 'collaboration', 'cloud', 'design'], ['internet'], ['mobile', 'reporting'], ['collaboration'], ['wimax', 'hardware', 'ensemble', 'internet'], ['hardware', 'ai', 'internet', 'communication'], ['ecommerce'], ['mobile', 'http', 'documentation', 'communication', 'networks', 'tableau', 'wimax', 'certifications', 'innovation', 'lte', 'internet', 'computing', 'ensemble', 'ecommerce', 'dos', 'collaboration', 'cloud'], ['communication'], ['communication', 'internet'], ['design'], ['mobile', 'ensemble', 'design', 'reporting'], ['training', 'go', 'consulting', 'presentation', 'implementation', 'foundation', 'design', 'reporting'], ['go', 'design', 'training', 'implementation'], ['go', 'communication', 'ensemble'], ['communication', 'collaboration', 'ensemble'], ['mobile', 'coaching', 'hardware', 'design', 'reporting'], ['sql', 'server', 'tableau'], ['ajax', 'php', 'collaboration', 'aspnet', 'internet', 'ai', 'jquery', 'vbnet'], ['documentation', 'communication', 'coaching', 'ajax', 'php', 'collaboration', 'ensemble', 'aspnet', 'internet', 'ai', 'jquery', 'vbnet', 'reporting'], ['documentation', 'ensemble', 'reporting'], ['development', 'debugging', 'mobile', 'http', 'software', 'documentation', 'web', 'programming', 'technical', 'solution', 'design'], ['mobile', 'training', 'communication', 'collaboration', 'ecommerce'], ['internet', 'design'], ['communication', 'collaboration'], ['mobile', 'documentation', 'communication', 'project', 'manager', 'collaboration', 'innovation', 'ensemble', 'ecommerce', 'design', 'reporting'], ['website', 'mobile', 'development', 'training', 'software', 'networks', 'communication', 'technical', 'implementation', 'marketing', 'fortran', 'desk', 'media', 'processing', 'social'], ['mobile', 'python', 'communication', 'patterns', 'collaboration', 'internet', 'engineering', 'design', 'maven'], ['communication', 'reporting'], ['ai'], ['documentation', 'communication', 'coaching', 'ensemble', 'ai', 'reporting'], ['communication'], ['sas', 'collection', 'training', 'programming', 'databases', 'hardware', 'technical', 'design', 'data', 'reporting'], ['internet'], ['renewable', 'leadership', 'training', 'solving', 'management', 'consulting', 'project', 'implementation', 'problem', 'energy', 'ensemble', 'engineering', 'technical', 'design'], ['mobile', 'coaching', 'hardware', 'design', 'reporting'], ['jsp', 'internet'], ['go', 'communication', 'ensemble'], ['http'], ['documentation', 'ai', 'html', 'http'], ['management', 'consulting', 'project', 'implementation', 'engineering', 'design'], ['leadership', 'communication', 'coaching', 'innovation', 'collaboration', 'internet', 'ai'], ['documentation', 'communication', 'coaching', 'ensemble', 'ai', 'reporting'], ['matlab', 'modeling', 'communication', 'collaboration', 'ensemble', 'programming', 'analytical', 'engineering', 'ai', 'design'], ['ai', 'collaboration'], ['mobile'], ['ai', 'http'], ['analytics', 'communication', 'collaboration', 'internet', 'ecommerce'], ['mobile', 'innovation'], ['leadership', 'training', 'priorities', 'documentation', 'communication', 'organizational', 'networks', 'management', 'presentation', 'implementation', 'innovation', 'analytical', 'processing', 'data', 'reporting'], ['consulting', 'implementation', 'collaboration', 'programming', 'engineering', 'desk', 'hardware', 'technical', 'reporting'], ['analytics', 'training', 'communication', 'project', 'implementation', 'manager', 'technical', 'reporting'], ['collaboration', 'engineering', 'desk', 'hardware', 'reporting'], ['http', 'communication', 'solving', 'technologies', 'problem', 'innovation', 'collaboration', 'internet', 'ecommerce', 'design'], ['leadership', 'communication', 'collaboration', 'ensemble', 'internet'], ['documentation', 'communication', 'collaboration', 'ensemble'], ['hardware', 'ai', 'internet'], ['documentation', 'communication'], ['hardware', 'ai', 'internet'], ['ecommerce'], ['communication', 'hardware', 'ensemble'], ['certifications'], ['communication', 'internet'], ['hardware', 'ensemble', 'reporting'], ['http', 'documentation', 'communication', 'internet', 'assembleur'], ['communication', 'internet'], ['communication', 'coaching', 'management', 'project', 'ensemble'], ['ensemble', 'html'], ['communication', 'word'], ['pascal'], ['collaboration'], ['operating', 'mobile', 'training', 'network', 'security', 'documentation', 'networks', 'implementation', 'system', 'engineering', 'databases', 'hardware', 'technical', 'design'], ['prestashop', 'http', 'internet'], ['mentoring', 'training', 'presentation', 'implementation', 'innovation', 'programming'], ['documentation', 'communication', 'coaching', 'ensemble', 'ai', 'reporting'], ['communication', 'mobile', 'ensemble', 'reporting'], ['internet', 'http'], ['mobile', 'documentation', 'communication', 'project', 'manager', 'collaboration', 'innovation', 'ensemble', 'ecommerce', 'design', 'reporting'], ['hardware', 'ai', 'internet'], ['ensemble'], ['mobile', 'coaching', 'hardware', 'design', 'reporting'], ['mobile', 'training', 'communication', 'collaboration', 'ecommerce'], ['communication', 'reporting'], ['communication', 'internet'], ['communication'], ['mobile', 'sas', 'go', 'communication', 'hardware', 'bootstrap', 'certifications', 'internet', 'ensemble', 'ecommerce', 'ai'], ['internet'], ['communication', 'ai'], ['training', 'communication', 'tableau', 'collaboration', 'ai'], ['debugging', 'wordpress', 'internet'], ['hardware', 'ai', 'internet'], ['mobile', 'leadership', 'communication', 'certifications', 'internet', 'ensemble', 'ai'], ['mobile', 'http', 'documentation', 'communication', 'networks', 'tableau', 'wimax', 'certifications', 'innovation', 'lte', 'internet', 'computing', 'ensemble', 'ecommerce', 'dos', 'collaboration', 'cloud'], ['mobile', 'design'], ['communication', 'mobile', 'ensemble', 'reporting'], ['communication'], ['desk', 'hardware', 'internet'], ['desk'], ['desk'], ['communication', 'collaboration', 'ensemble'], ['diagnostics', 'communication', 'internet', 'design'], ['collaboration'], ['ai', 'http'], ['mobile', 'reporting'], ['communication', 'desk'], ['designer', 'communication', 'ensemble', 'internet', 'engineering', 'ai', 'reporting'], ['communication', 'collaboration', 'ensemble'], ['analytics', 'communication', 'collaboration', 'internet', 'ecommerce'], ['development', 'training', 'marketing', 'innovation', 'ecommerce', 'desk', 'less', 'management', 'consulting', 'databases', 'coding', 'web', 'to', 'analytics', 'analysis', 'documentation', 'presentation', 'internet', 'analytical', 'media', 'technical', 'design', 'reporting', 'social', 'attention', 'leadership', 'troubleshooting', 'networks', 'project', 'implementation', 'detail', 'programming', 'statistical'], ['digital', 'insights', 'consulting', 'marketing', 'implementation', 'hardware', 'content', 'design'], ['analytics', 'mobile', 'website', 'development', 'priorities', 'scrum', 'management', 'presentation', 'project', 'collaboration', 'engineering', 'technical', 'web', 'design', 'reporting'], ['mobile', 'http', 'documentation', 'communication', 'networks', 'tableau', 'wimax', 'certifications', 'innovation', 'lte', 'internet', 'computing', 'ensemble', 'ecommerce', 'dos', 'collaboration', 'cloud'], ['communication', 'collaboration', 'desk'], ['internet'], ['communication'], ['documentation', 'ensemble', 'reporting'], ['communication', 'collaboration'], ['documentation', 'communication', 'coaching', 'ensemble', 'ai', 'reporting'], ['hardware', 'ai', 'internet'], ['hardware', 'html'], ['hardware', 'ensemble', 'reporting'], ['communication', 'internet'], ['internet'], ['internet'], ['ensemble'], ['hardware', 'ai', 'internet'], ['communication', 'ai', 'eclipse', 'http'], ['collaboration'], ['ai', 'http'], ['internet'], ['mobile', 'innovation'], ['hardware', 'ai', 'internet'], ['documentation', 'communication', 'coaching', 'ensemble', 'ai', 'reporting'], ['mobile', 'design'], ['documentation', 'communication', 'coaching', 'ensemble', 'ai', 'reporting']]\n"
          ],
          "name": "stdout"
        }
      ]
    },
    {
      "cell_type": "code",
      "metadata": {
        "colab": {
          "base_uri": "https://localhost:8080/"
        },
        "id": "NMGZKLZH1Vcg",
        "outputId": "42a70bd7-4361-42de-ea50-4761db69b1e4"
      },
      "source": [
        "skills[0]"
      ],
      "execution_count": null,
      "outputs": [
        {
          "output_type": "execute_result",
          "data": {
            "text/plain": [
              "['tech',\n",
              " 'training',\n",
              " 'http',\n",
              " 'support',\n",
              " 'documentation',\n",
              " 'prototyping',\n",
              " 'networks',\n",
              " 'technical',\n",
              " 'implementation',\n",
              " 'certifications',\n",
              " 'programming',\n",
              " 'penetration',\n",
              " 'processing',\n",
              " 'data',\n",
              " 'testing']"
            ]
          },
          "metadata": {
            "tags": []
          },
          "execution_count": 48
        }
      ]
    },
    {
      "cell_type": "code",
      "metadata": {
        "colab": {
          "base_uri": "https://localhost:8080/"
        },
        "id": "im_a3PKq1VZS",
        "outputId": "55425329-1f0c-40bc-db29-2a907c5e00d0"
      },
      "source": [
        "len(skills)"
      ],
      "execution_count": null,
      "outputs": [
        {
          "output_type": "execute_result",
          "data": {
            "text/plain": [
              "222"
            ]
          },
          "metadata": {
            "tags": []
          },
          "execution_count": 49
        }
      ]
    },
    {
      "cell_type": "code",
      "metadata": {
        "colab": {
          "base_uri": "https://localhost:8080/"
        },
        "id": "d5HY_mQ59Lrj",
        "outputId": "483ae08b-95dd-45ae-bcb4-6323fd1fa4a9"
      },
      "source": [
        "len(jobs)"
      ],
      "execution_count": null,
      "outputs": [
        {
          "output_type": "execute_result",
          "data": {
            "text/plain": [
              "222"
            ]
          },
          "metadata": {
            "tags": []
          },
          "execution_count": 50
        }
      ]
    },
    {
      "cell_type": "code",
      "metadata": {
        "colab": {
          "base_uri": "https://localhost:8080/"
        },
        "id": "oiFGUC6F-tK3",
        "outputId": "73bc2892-24b8-45e5-cdf1-b1782a0e918e"
      },
      "source": [
        "#retreiving all the skills from skills set and storing them in total_skills list.\n",
        "total_skills=[]\n",
        "for val in skills:\n",
        "    for keys in val:\n",
        "        if keys not in total_skills:\n",
        "            total_skills.append(keys)\n",
        "        else:\n",
        "            continue\n",
        "\n",
        "total_skills=list(set(total_skills))\n",
        "print(total_skills)\n",
        "\n",
        "print(\"Total number of available skills are: \", len(total_skills))"
      ],
      "execution_count": null,
      "outputs": [
        {
          "output_type": "stream",
          "text": [
            "['powershell', 'ecommerce', 'solution', 'thinking', 'solving', 'tableau', 'testing', 'to', 'analytics', 'hive', 'php', 'analytical', 'vbnet', 'big', 'eclipse', 'collection', 'networks', 'technologies', 'pascal', 'statistical', 'backend', 'touch', 'mobile', 'iptables', 'mining', 'critical', 'fortran', 'ai', 'server', 'maven', 'renewable', 'priorities', 'linux', 'patterns', 'collaboration', 'system', 'hadoop', 'coding', 'control', 'swing', 'network', 'organizational', 'postfix', 'software', 'learning', 'teamwork', 'hardware', 'technical', 'processing', 'design', 'cloud', 'reporting', 'assembleur', 'jquery', 'media', 'debugging', 'android', 'service', 'framework', 'project', 'implementation', 'aspnet', 'jsp', 'programming', 'telecom', 'data', 'development', 'digital', 'training', 'http', 'marketing', 'bootstrap', 'innovation', 'ensemble', 'shiny', 'penetration', 'desk', 'angular', 'services', 'word', 'management', 'consulting', 'ajax', 'extjs', 'energy', 'iphone', 'tech', 'wordpress', 'time', 'modeling', 'documentation', 'prototyping', 'scrum', 'presentation', 'internet', 'dos', 'sql', 'leadership', 'machine', 'graphic', 'go', 'prestashop', 'electronics', 'diagnostics', 'svg', 'phonegap', 'python', 'deep', 'mentoring', 'sas', 'designer', 'coaching', 'git', 'certifications', 'manager', 'visio', 'javascript', 'windows', 'support', 'less', 'insights', 'spark', 'tools', 'engineering', 'databases', 'web', 'html', 'systems', 'customer', 'frontend', 'matlab', 'analysis', 'assembly', 'communication', 'security', 'mathematics', 'wimax', 'sencha', 'lte', 'computing', 'multitasking', 'volleyball', 'nodejs', 'content', 'social', 'website', 'operating', 'attention', 'troubleshooting', 'artificial', 'foundation', 'detail', 'neural', 'problem', 'dom']\n",
            "Total number of available skills are:  155\n"
          ],
          "name": "stdout"
        }
      ]
    },
    {
      "cell_type": "code",
      "metadata": {
        "colab": {
          "base_uri": "https://localhost:8080/"
        },
        "id": "sGGJs5AJ_0JX",
        "outputId": "e8eb7ce4-8994-45ba-c7f5-6879c7087cf8"
      },
      "source": [
        "#To create dataframe, creating columns of that\n",
        "\n",
        "column_headers=['Jobs']\n",
        "\n",
        "for val in total_skills:\n",
        "    column_headers.append(val)\n",
        "\n",
        "print(column_headers)\n",
        "print(\"total number of columns are: \", len(column_headers))"
      ],
      "execution_count": null,
      "outputs": [
        {
          "output_type": "stream",
          "text": [
            "['Jobs', 'powershell', 'ecommerce', 'solution', 'thinking', 'solving', 'tableau', 'testing', 'to', 'analytics', 'hive', 'php', 'analytical', 'vbnet', 'big', 'eclipse', 'collection', 'networks', 'technologies', 'pascal', 'statistical', 'backend', 'touch', 'mobile', 'iptables', 'mining', 'critical', 'fortran', 'ai', 'server', 'maven', 'renewable', 'priorities', 'linux', 'patterns', 'collaboration', 'system', 'hadoop', 'coding', 'control', 'swing', 'network', 'organizational', 'postfix', 'software', 'learning', 'teamwork', 'hardware', 'technical', 'processing', 'design', 'cloud', 'reporting', 'assembleur', 'jquery', 'media', 'debugging', 'android', 'service', 'framework', 'project', 'implementation', 'aspnet', 'jsp', 'programming', 'telecom', 'data', 'development', 'digital', 'training', 'http', 'marketing', 'bootstrap', 'innovation', 'ensemble', 'shiny', 'penetration', 'desk', 'angular', 'services', 'word', 'management', 'consulting', 'ajax', 'extjs', 'energy', 'iphone', 'tech', 'wordpress', 'time', 'modeling', 'documentation', 'prototyping', 'scrum', 'presentation', 'internet', 'dos', 'sql', 'leadership', 'machine', 'graphic', 'go', 'prestashop', 'electronics', 'diagnostics', 'svg', 'phonegap', 'python', 'deep', 'mentoring', 'sas', 'designer', 'coaching', 'git', 'certifications', 'manager', 'visio', 'javascript', 'windows', 'support', 'less', 'insights', 'spark', 'tools', 'engineering', 'databases', 'web', 'html', 'systems', 'customer', 'frontend', 'matlab', 'analysis', 'assembly', 'communication', 'security', 'mathematics', 'wimax', 'sencha', 'lte', 'computing', 'multitasking', 'volleyball', 'nodejs', 'content', 'social', 'website', 'operating', 'attention', 'troubleshooting', 'artificial', 'foundation', 'detail', 'neural', 'problem', 'dom']\n",
            "total number of columns are:  156\n"
          ],
          "name": "stdout"
        }
      ]
    },
    {
      "cell_type": "code",
      "metadata": {
        "colab": {
          "base_uri": "https://localhost:8080/"
        },
        "id": "lWNnbvuMAux5",
        "outputId": "b25c1162-d35b-43da-c0fb-f76ff7b0a434"
      },
      "source": [
        "#creating list to insert it in dataframe.\n",
        "data_list = []\n",
        "\n",
        "for index, obj in enumerate(skills):\n",
        "    inner_list=[]\n",
        "    # print(obj)\n",
        "\n",
        "    # print(index)\n",
        "    # inner_list.append(jobs[index])\n",
        "\n",
        "    for val in column_headers:\n",
        "        if val=='Jobs':\n",
        "            inner_list.append(jobs[index])\n",
        "        else:\n",
        "            if val in obj:\n",
        "                inner_list.append(1)\n",
        "            else:\n",
        "                inner_list.append(0)\n",
        "\n",
        "    data_list.append(inner_list)\n",
        "\n",
        "print(data_list)\n",
        "\n",
        "#Finding length to check if skills set is added for each job or not\n",
        "print(\"len is\", len(data_list))\n",
        "  "
      ],
      "execution_count": null,
      "outputs": [
        {
          "output_type": "stream",
          "text": [
            "[['Medical Receptionist', 0, 0, 0, 0, 0, 0, 1, 0, 0, 0, 0, 0, 0, 0, 0, 0, 1, 0, 0, 0, 0, 0, 0, 0, 0, 0, 0, 0, 0, 0, 0, 0, 0, 0, 0, 0, 0, 0, 0, 0, 0, 0, 0, 0, 0, 0, 0, 1, 1, 0, 0, 0, 0, 0, 0, 0, 0, 0, 0, 0, 1, 0, 0, 1, 0, 1, 0, 0, 1, 1, 0, 0, 0, 0, 0, 1, 0, 0, 0, 0, 0, 0, 0, 0, 0, 0, 1, 0, 0, 0, 1, 1, 0, 0, 0, 0, 0, 0, 0, 0, 0, 0, 0, 0, 0, 0, 0, 0, 0, 0, 0, 0, 0, 1, 0, 0, 0, 0, 1, 0, 0, 0, 0, 0, 0, 0, 0, 0, 0, 0, 0, 0, 0, 0, 0, 0, 0, 0, 0, 0, 0, 0, 0, 0, 0, 0, 0, 0, 0, 0, 0, 0, 0, 0, 0], ['Clinical Research Associate', 0, 0, 0, 0, 0, 0, 0, 0, 0, 0, 0, 0, 0, 0, 0, 0, 0, 0, 0, 0, 0, 0, 0, 0, 0, 0, 0, 0, 0, 0, 0, 0, 0, 0, 0, 0, 0, 0, 0, 0, 0, 0, 0, 0, 0, 0, 1, 0, 0, 0, 0, 0, 0, 0, 0, 0, 0, 0, 0, 0, 0, 0, 0, 0, 0, 0, 0, 0, 0, 0, 0, 0, 0, 1, 0, 0, 0, 0, 0, 0, 0, 0, 0, 0, 0, 0, 0, 0, 0, 0, 0, 0, 0, 0, 0, 0, 0, 0, 0, 0, 0, 0, 0, 0, 0, 0, 0, 0, 0, 0, 0, 0, 0, 0, 0, 0, 0, 0, 0, 0, 0, 0, 0, 0, 0, 0, 0, 0, 0, 0, 0, 0, 0, 1, 0, 0, 0, 0, 0, 0, 0, 0, 0, 0, 0, 0, 0, 0, 0, 0, 0, 0, 0, 0, 0], ['Territory Sales Representative', 0, 1, 0, 0, 0, 0, 0, 0, 0, 0, 0, 0, 0, 0, 0, 0, 0, 0, 0, 0, 0, 0, 0, 0, 0, 0, 0, 0, 0, 0, 0, 0, 0, 0, 0, 0, 0, 0, 0, 0, 0, 0, 0, 0, 0, 0, 0, 0, 0, 0, 0, 0, 0, 0, 0, 0, 0, 0, 0, 0, 0, 0, 0, 0, 0, 0, 0, 0, 0, 0, 0, 0, 0, 0, 0, 0, 0, 0, 0, 0, 0, 0, 0, 0, 0, 0, 0, 0, 0, 0, 0, 0, 0, 0, 0, 0, 0, 0, 0, 0, 0, 0, 0, 0, 0, 0, 0, 0, 0, 0, 0, 0, 0, 0, 0, 0, 0, 0, 0, 0, 0, 0, 0, 0, 0, 0, 0, 0, 0, 0, 0, 0, 0, 1, 0, 0, 0, 0, 0, 0, 0, 0, 0, 0, 0, 0, 0, 0, 0, 0, 0, 0, 0, 0, 0], ['Endoscopy Nurse', 0, 1, 0, 0, 0, 0, 0, 0, 0, 0, 0, 0, 0, 0, 0, 0, 0, 0, 0, 0, 0, 0, 0, 0, 0, 0, 0, 0, 0, 0, 0, 0, 0, 0, 0, 0, 0, 0, 0, 0, 0, 0, 0, 0, 0, 0, 0, 0, 0, 0, 0, 0, 0, 0, 0, 0, 0, 0, 0, 0, 0, 0, 0, 0, 0, 0, 0, 0, 0, 0, 0, 0, 0, 0, 0, 0, 0, 0, 0, 0, 0, 0, 0, 0, 0, 0, 0, 0, 0, 0, 0, 0, 0, 0, 0, 0, 0, 0, 0, 0, 0, 0, 0, 0, 0, 0, 0, 0, 0, 0, 0, 0, 0, 0, 0, 0, 0, 0, 0, 0, 0, 0, 0, 0, 0, 0, 0, 0, 0, 0, 0, 0, 0, 0, 0, 0, 0, 0, 0, 0, 0, 0, 0, 0, 0, 0, 0, 0, 0, 0, 0, 0, 0, 0, 0], ['Bus Driver', 0, 0, 0, 0, 0, 0, 0, 0, 0, 0, 0, 0, 0, 0, 0, 0, 0, 0, 0, 0, 0, 0, 1, 0, 0, 0, 0, 1, 0, 0, 0, 0, 0, 0, 0, 0, 0, 0, 0, 0, 0, 0, 0, 0, 0, 0, 0, 0, 0, 1, 0, 0, 0, 0, 0, 0, 0, 0, 0, 0, 0, 0, 0, 0, 0, 0, 0, 0, 0, 0, 0, 0, 0, 0, 0, 0, 0, 0, 0, 0, 0, 0, 0, 0, 0, 0, 0, 0, 0, 0, 0, 0, 0, 0, 0, 0, 0, 0, 0, 0, 0, 0, 0, 1, 0, 0, 0, 0, 0, 0, 0, 0, 0, 0, 0, 0, 0, 0, 0, 0, 0, 0, 0, 0, 0, 0, 0, 0, 0, 0, 0, 0, 0, 1, 0, 0, 0, 0, 0, 0, 0, 0, 0, 0, 0, 0, 0, 0, 0, 0, 0, 0, 0, 0, 0], ['Foreign Service Officer', 0, 0, 0, 0, 0, 0, 0, 0, 0, 0, 1, 0, 0, 0, 0, 0, 1, 0, 0, 0, 1, 0, 0, 0, 0, 0, 0, 0, 0, 0, 0, 0, 0, 0, 1, 0, 0, 1, 0, 0, 0, 0, 0, 0, 0, 0, 1, 1, 1, 1, 0, 0, 0, 0, 0, 0, 0, 0, 0, 0, 1, 0, 0, 1, 1, 0, 1, 0, 1, 0, 0, 0, 0, 0, 0, 0, 0, 0, 0, 0, 0, 0, 0, 0, 0, 0, 0, 0, 0, 0, 0, 0, 0, 0, 1, 0, 0, 0, 0, 0, 0, 0, 1, 0, 0, 0, 0, 0, 0, 0, 1, 1, 0, 0, 0, 0, 0, 0, 0, 0, 0, 0, 0, 0, 0, 1, 1, 0, 0, 0, 0, 0, 0, 1, 0, 0, 0, 0, 0, 0, 0, 0, 0, 0, 0, 0, 0, 0, 1, 0, 0, 0, 0, 0, 0], ['Sales Analyst', 0, 1, 0, 0, 0, 0, 0, 0, 0, 0, 0, 0, 0, 0, 0, 0, 0, 0, 0, 0, 0, 0, 1, 0, 0, 0, 0, 0, 0, 0, 0, 0, 0, 0, 0, 0, 0, 0, 0, 0, 0, 0, 0, 0, 0, 0, 0, 0, 0, 1, 0, 0, 0, 0, 0, 0, 0, 0, 0, 0, 0, 0, 0, 0, 0, 0, 0, 0, 0, 1, 0, 0, 0, 0, 0, 0, 0, 1, 0, 0, 0, 0, 0, 0, 0, 0, 0, 0, 0, 0, 0, 0, 0, 0, 1, 0, 0, 0, 0, 0, 0, 0, 0, 0, 1, 0, 0, 0, 0, 0, 0, 0, 1, 0, 0, 0, 0, 0, 0, 0, 0, 0, 0, 0, 0, 0, 1, 0, 0, 0, 0, 0, 0, 1, 0, 0, 0, 0, 0, 0, 0, 0, 1, 0, 0, 0, 0, 0, 0, 0, 0, 0, 0, 0, 0], ['Strategy Consultant?', 0, 1, 0, 0, 0, 0, 0, 0, 0, 0, 0, 0, 0, 0, 0, 1, 0, 0, 0, 0, 0, 0, 1, 0, 1, 0, 0, 0, 0, 0, 0, 0, 0, 0, 1, 0, 0, 0, 0, 0, 0, 0, 0, 0, 1, 0, 0, 1, 1, 1, 0, 0, 0, 0, 0, 0, 0, 0, 0, 0, 1, 0, 0, 0, 0, 1, 0, 0, 1, 0, 0, 0, 1, 0, 0, 0, 0, 0, 0, 0, 0, 0, 0, 0, 0, 0, 0, 0, 0, 0, 0, 0, 0, 0, 0, 0, 0, 0, 1, 0, 1, 0, 0, 0, 0, 0, 0, 1, 0, 0, 0, 0, 0, 0, 0, 0, 0, 0, 0, 0, 0, 0, 0, 1, 0, 0, 0, 0, 0, 0, 0, 0, 0, 1, 0, 1, 0, 0, 0, 0, 0, 0, 0, 0, 0, 0, 0, 0, 0, 0, 0, 0, 0, 0, 0], ['Pipeline Engineer', 0, 0, 0, 0, 0, 0, 0, 0, 0, 0, 0, 0, 0, 0, 0, 0, 0, 0, 0, 0, 0, 0, 0, 0, 0, 0, 0, 0, 0, 0, 0, 0, 0, 0, 0, 0, 0, 0, 0, 0, 0, 0, 0, 0, 0, 0, 0, 0, 0, 0, 0, 1, 0, 0, 0, 0, 0, 0, 0, 0, 0, 0, 0, 0, 0, 0, 0, 0, 0, 0, 0, 0, 0, 0, 0, 0, 0, 0, 0, 0, 0, 0, 0, 0, 0, 0, 0, 0, 0, 0, 0, 0, 0, 0, 0, 0, 0, 0, 0, 0, 0, 0, 0, 0, 0, 0, 0, 0, 0, 0, 0, 0, 0, 0, 0, 0, 0, 0, 0, 0, 0, 0, 0, 0, 0, 0, 0, 0, 0, 0, 0, 0, 0, 1, 0, 0, 0, 0, 0, 0, 0, 0, 0, 0, 0, 0, 0, 0, 0, 0, 0, 0, 0, 0, 0], ['Cost Engineer', 0, 1, 0, 0, 1, 0, 0, 0, 0, 0, 0, 0, 0, 0, 0, 1, 1, 0, 0, 1, 0, 0, 1, 0, 0, 0, 0, 0, 0, 0, 0, 1, 0, 0, 1, 0, 0, 0, 0, 0, 0, 0, 0, 0, 0, 0, 0, 0, 0, 1, 0, 0, 0, 0, 0, 1, 0, 0, 0, 0, 1, 0, 0, 1, 0, 1, 0, 0, 1, 1, 0, 0, 1, 0, 0, 0, 1, 0, 0, 0, 0, 1, 0, 0, 0, 0, 0, 0, 0, 1, 0, 0, 0, 1, 0, 0, 0, 0, 0, 0, 0, 0, 0, 0, 0, 0, 0, 0, 0, 0, 0, 0, 0, 0, 0, 0, 0, 0, 0, 0, 0, 0, 0, 1, 0, 0, 1, 0, 0, 0, 0, 1, 0, 0, 0, 1, 0, 0, 0, 0, 0, 0, 0, 0, 0, 0, 0, 0, 0, 0, 0, 0, 0, 1, 0], ['Technical Writer', 0, 0, 0, 0, 0, 0, 0, 0, 0, 0, 0, 0, 0, 0, 0, 0, 0, 0, 0, 0, 0, 0, 0, 0, 0, 0, 0, 0, 0, 0, 0, 0, 0, 0, 0, 0, 0, 0, 0, 0, 0, 0, 0, 0, 0, 0, 0, 0, 0, 0, 0, 0, 0, 0, 0, 0, 0, 0, 0, 0, 0, 0, 0, 0, 0, 0, 0, 0, 0, 0, 0, 0, 0, 0, 0, 0, 0, 0, 0, 0, 0, 0, 0, 0, 0, 0, 0, 0, 0, 0, 1, 0, 0, 0, 0, 0, 0, 0, 0, 0, 0, 0, 0, 0, 0, 0, 0, 0, 0, 0, 0, 0, 0, 0, 0, 0, 0, 0, 0, 0, 0, 0, 0, 0, 0, 0, 0, 0, 0, 0, 0, 0, 0, 0, 0, 0, 0, 0, 0, 0, 0, 0, 0, 0, 0, 0, 0, 0, 0, 0, 0, 0, 0, 0, 1], ['Solutions Consultant - Electrical Engineering', 0, 0, 0, 1, 0, 0, 0, 0, 0, 0, 0, 1, 0, 0, 0, 0, 0, 0, 0, 0, 0, 0, 0, 0, 0, 1, 0, 0, 0, 0, 0, 0, 0, 0, 0, 0, 0, 0, 0, 0, 0, 0, 0, 0, 0, 0, 0, 0, 0, 1, 0, 0, 0, 0, 0, 0, 0, 0, 0, 0, 1, 0, 0, 1, 0, 0, 0, 0, 1, 0, 0, 0, 0, 0, 0, 0, 0, 0, 0, 0, 0, 0, 0, 0, 0, 0, 0, 0, 0, 0, 0, 0, 0, 1, 0, 0, 0, 0, 0, 1, 0, 0, 0, 0, 0, 0, 0, 0, 0, 0, 0, 0, 0, 0, 0, 0, 0, 0, 0, 0, 0, 0, 0, 0, 1, 0, 0, 0, 0, 0, 0, 0, 1, 0, 0, 0, 0, 0, 0, 0, 0, 0, 0, 0, 0, 0, 0, 0, 0, 0, 0, 0, 0, 0, 0], ['Power Regulator', 0, 0, 0, 0, 0, 0, 0, 0, 0, 0, 0, 0, 0, 0, 0, 0, 0, 0, 0, 0, 0, 0, 1, 0, 0, 0, 0, 0, 0, 0, 0, 0, 0, 0, 0, 0, 0, 0, 0, 0, 0, 0, 0, 0, 0, 0, 0, 0, 0, 1, 0, 0, 0, 0, 0, 0, 0, 0, 0, 0, 0, 0, 0, 0, 0, 0, 0, 0, 0, 0, 0, 0, 0, 0, 0, 0, 0, 0, 0, 0, 0, 0, 0, 0, 0, 0, 0, 0, 0, 0, 0, 0, 0, 0, 0, 0, 0, 0, 0, 0, 0, 0, 0, 0, 0, 0, 0, 0, 0, 0, 0, 0, 0, 0, 0, 0, 0, 0, 0, 0, 0, 0, 0, 0, 0, 0, 0, 0, 0, 0, 0, 0, 0, 1, 0, 0, 0, 0, 0, 0, 0, 0, 0, 0, 0, 0, 0, 0, 0, 0, 0, 0, 0, 0, 0], ['Conservation Technician', 0, 0, 0, 0, 0, 0, 0, 0, 0, 0, 0, 0, 0, 0, 0, 0, 0, 0, 0, 0, 0, 0, 0, 0, 0, 0, 0, 0, 0, 0, 0, 0, 0, 0, 0, 0, 0, 0, 0, 0, 0, 0, 0, 0, 0, 0, 0, 0, 0, 1, 0, 0, 0, 0, 0, 0, 0, 0, 0, 0, 0, 0, 0, 0, 0, 0, 0, 0, 0, 0, 0, 0, 0, 0, 0, 0, 0, 0, 0, 0, 0, 0, 0, 0, 0, 0, 0, 0, 0, 0, 0, 0, 0, 0, 0, 0, 0, 0, 0, 0, 0, 0, 0, 0, 0, 0, 0, 0, 0, 0, 0, 0, 0, 0, 0, 0, 0, 0, 0, 0, 0, 0, 0, 0, 0, 0, 0, 0, 0, 0, 0, 0, 0, 0, 0, 0, 0, 0, 0, 0, 0, 0, 0, 0, 0, 0, 0, 0, 0, 0, 0, 0, 0, 0, 0], ['Manager of Engineering', 0, 0, 0, 0, 0, 0, 0, 0, 0, 0, 0, 0, 0, 0, 0, 0, 0, 0, 0, 0, 0, 0, 0, 0, 0, 0, 0, 0, 0, 0, 0, 0, 0, 0, 0, 0, 0, 0, 0, 0, 0, 0, 0, 0, 0, 0, 0, 0, 0, 1, 0, 0, 0, 0, 0, 0, 0, 0, 0, 0, 0, 0, 0, 0, 0, 0, 0, 0, 0, 0, 0, 0, 0, 0, 0, 0, 0, 0, 0, 0, 0, 0, 0, 0, 0, 0, 0, 0, 0, 0, 0, 0, 0, 0, 0, 0, 0, 0, 0, 0, 0, 0, 0, 0, 0, 0, 0, 0, 0, 0, 0, 0, 1, 0, 0, 0, 0, 0, 0, 0, 0, 0, 0, 1, 0, 0, 0, 0, 0, 0, 0, 0, 0, 0, 0, 0, 0, 0, 0, 0, 0, 0, 0, 0, 0, 0, 0, 0, 0, 0, 0, 0, 0, 0, 0], ['Forecast Systems Manager', 0, 1, 0, 0, 0, 0, 0, 0, 0, 0, 0, 0, 0, 0, 0, 0, 0, 0, 0, 0, 0, 0, 0, 0, 0, 0, 0, 0, 0, 0, 0, 0, 0, 0, 0, 0, 0, 0, 0, 0, 0, 0, 0, 0, 0, 0, 0, 0, 0, 0, 0, 0, 0, 0, 0, 0, 0, 0, 0, 0, 0, 0, 0, 0, 0, 0, 0, 0, 0, 1, 0, 0, 0, 0, 0, 0, 0, 0, 0, 0, 0, 0, 0, 0, 0, 0, 0, 0, 0, 0, 0, 0, 0, 0, 0, 0, 0, 0, 0, 0, 1, 0, 0, 0, 0, 0, 0, 0, 0, 0, 0, 0, 0, 0, 0, 0, 0, 0, 0, 0, 0, 0, 0, 0, 0, 0, 0, 0, 0, 0, 0, 0, 0, 1, 0, 0, 0, 0, 0, 0, 0, 0, 0, 0, 0, 0, 0, 0, 0, 0, 0, 0, 0, 0, 0], ['Water Services Technician', 0, 0, 0, 0, 0, 0, 0, 0, 0, 0, 0, 0, 0, 0, 0, 0, 0, 0, 0, 0, 0, 0, 0, 0, 0, 0, 0, 0, 0, 0, 0, 0, 0, 0, 0, 0, 0, 0, 0, 0, 0, 0, 0, 0, 0, 0, 0, 0, 0, 1, 0, 0, 0, 0, 0, 0, 0, 0, 0, 0, 0, 0, 0, 0, 0, 0, 0, 0, 0, 0, 0, 0, 0, 0, 0, 0, 0, 0, 0, 0, 0, 0, 0, 0, 0, 0, 0, 0, 0, 0, 0, 0, 0, 0, 0, 0, 0, 0, 0, 0, 1, 0, 0, 0, 0, 0, 0, 0, 0, 0, 0, 0, 0, 0, 0, 0, 0, 0, 0, 0, 0, 0, 0, 0, 0, 0, 0, 0, 0, 0, 0, 0, 0, 0, 0, 0, 0, 0, 0, 0, 0, 0, 0, 0, 0, 0, 0, 0, 0, 0, 0, 0, 0, 0, 0], ['Front Desk Associate', 0, 0, 0, 0, 0, 0, 0, 0, 0, 0, 0, 0, 0, 0, 0, 0, 0, 0, 0, 0, 0, 0, 0, 0, 0, 0, 0, 0, 0, 0, 0, 0, 0, 0, 0, 0, 0, 0, 0, 0, 0, 0, 0, 0, 0, 0, 0, 0, 0, 0, 0, 0, 0, 0, 0, 0, 0, 0, 0, 0, 0, 0, 0, 0, 0, 0, 0, 0, 0, 0, 0, 0, 0, 1, 0, 0, 0, 0, 0, 0, 0, 0, 0, 0, 0, 0, 0, 0, 0, 0, 0, 0, 0, 0, 1, 0, 0, 0, 0, 0, 0, 0, 0, 0, 0, 0, 0, 0, 0, 0, 0, 0, 0, 0, 0, 0, 0, 0, 0, 0, 0, 0, 0, 0, 0, 0, 0, 0, 0, 0, 0, 0, 0, 0, 0, 0, 0, 0, 0, 0, 0, 0, 0, 0, 0, 0, 0, 0, 0, 0, 0, 0, 0, 0, 0], ['Senior Analyst Retail Analytics and Reporting', 0, 0, 0, 0, 0, 0, 0, 0, 0, 0, 0, 0, 0, 0, 0, 0, 1, 0, 0, 0, 0, 0, 0, 0, 0, 0, 0, 0, 0, 0, 0, 0, 0, 0, 0, 0, 0, 0, 0, 0, 0, 0, 0, 0, 0, 0, 0, 0, 0, 1, 0, 0, 0, 0, 0, 0, 0, 0, 0, 0, 0, 0, 0, 0, 0, 0, 0, 0, 0, 0, 0, 0, 1, 0, 0, 0, 0, 0, 0, 0, 0, 0, 0, 0, 0, 0, 0, 0, 0, 0, 0, 0, 0, 1, 0, 0, 0, 0, 0, 0, 0, 0, 0, 0, 0, 0, 0, 0, 0, 0, 0, 0, 0, 0, 0, 0, 0, 0, 0, 0, 0, 0, 0, 0, 0, 0, 0, 0, 0, 0, 0, 0, 0, 1, 0, 0, 0, 0, 0, 0, 0, 0, 0, 0, 0, 0, 0, 0, 0, 0, 0, 0, 0, 0, 0], ['Total Quality Management Director', 1, 1, 0, 0, 0, 0, 0, 0, 0, 0, 1, 0, 0, 0, 0, 0, 0, 0, 0, 0, 0, 0, 0, 0, 0, 0, 0, 0, 0, 0, 0, 0, 0, 0, 1, 0, 0, 0, 0, 0, 0, 0, 0, 0, 0, 0, 0, 0, 1, 0, 0, 0, 0, 0, 0, 0, 0, 0, 0, 0, 0, 0, 0, 0, 0, 0, 0, 0, 0, 1, 0, 0, 0, 0, 0, 0, 0, 0, 0, 0, 0, 0, 0, 0, 0, 0, 0, 0, 0, 0, 0, 0, 0, 0, 0, 0, 0, 0, 0, 0, 0, 0, 0, 0, 0, 0, 0, 0, 0, 0, 0, 0, 0, 0, 0, 1, 0, 1, 0, 0, 0, 0, 0, 0, 0, 0, 1, 0, 0, 0, 0, 0, 0, 0, 0, 0, 0, 0, 0, 0, 0, 0, 0, 0, 0, 0, 0, 0, 0, 0, 0, 0, 0, 0, 0], ['Aviation Inside Sales', 0, 0, 0, 0, 0, 0, 0, 0, 0, 0, 0, 0, 0, 0, 0, 0, 0, 0, 0, 0, 0, 0, 0, 0, 0, 0, 0, 0, 0, 0, 0, 0, 0, 0, 0, 0, 0, 0, 0, 0, 0, 0, 0, 0, 0, 0, 1, 0, 0, 0, 0, 0, 0, 0, 0, 0, 0, 0, 0, 0, 0, 0, 0, 0, 0, 0, 0, 0, 0, 0, 0, 0, 0, 1, 0, 0, 0, 0, 0, 0, 0, 0, 0, 0, 0, 0, 0, 0, 0, 0, 0, 0, 0, 0, 0, 0, 0, 0, 0, 0, 0, 0, 0, 0, 0, 0, 0, 0, 0, 0, 0, 0, 0, 0, 0, 0, 0, 0, 0, 0, 0, 0, 0, 0, 0, 0, 0, 0, 0, 0, 0, 0, 0, 1, 0, 0, 0, 0, 0, 0, 0, 0, 0, 0, 0, 0, 0, 0, 0, 0, 0, 0, 0, 0, 0], ['HVAC Mechanic', 0, 0, 0, 0, 0, 0, 0, 0, 0, 0, 0, 0, 0, 0, 0, 0, 0, 0, 0, 0, 0, 0, 0, 0, 0, 0, 0, 0, 0, 0, 0, 0, 0, 0, 0, 0, 0, 0, 0, 0, 0, 0, 0, 0, 0, 0, 0, 0, 0, 0, 0, 1, 0, 0, 0, 0, 0, 0, 0, 0, 0, 0, 0, 0, 0, 0, 0, 0, 0, 0, 0, 0, 0, 1, 0, 0, 0, 0, 0, 0, 0, 0, 0, 0, 0, 0, 0, 0, 0, 0, 0, 0, 0, 0, 0, 0, 0, 0, 0, 0, 0, 0, 0, 0, 0, 0, 0, 0, 0, 0, 0, 0, 0, 0, 0, 0, 0, 0, 0, 0, 0, 0, 0, 0, 0, 0, 0, 0, 0, 0, 0, 0, 0, 0, 0, 0, 0, 0, 0, 0, 0, 0, 0, 0, 0, 0, 0, 0, 0, 0, 0, 0, 0, 0, 0], ['Cognos Business Development Architect', 0, 0, 0, 0, 0, 0, 0, 0, 0, 0, 0, 0, 0, 0, 0, 0, 0, 0, 0, 0, 0, 0, 1, 0, 0, 0, 0, 0, 0, 0, 0, 0, 0, 0, 0, 0, 0, 0, 0, 0, 0, 0, 0, 0, 0, 0, 0, 0, 0, 0, 0, 1, 0, 0, 0, 0, 0, 0, 0, 0, 0, 0, 0, 0, 0, 0, 0, 0, 0, 0, 0, 0, 0, 0, 0, 0, 0, 0, 0, 0, 0, 0, 0, 0, 0, 0, 0, 0, 0, 0, 0, 0, 0, 0, 0, 0, 0, 0, 0, 0, 0, 0, 0, 0, 0, 0, 0, 0, 0, 0, 0, 0, 0, 0, 0, 0, 0, 0, 0, 0, 0, 0, 0, 0, 0, 0, 0, 0, 0, 0, 0, 0, 0, 0, 0, 0, 0, 0, 0, 0, 0, 0, 0, 0, 0, 0, 0, 0, 0, 0, 0, 0, 0, 0, 0], ['School Social Worker', 1, 1, 0, 0, 0, 0, 0, 0, 0, 0, 1, 0, 0, 0, 0, 0, 0, 0, 0, 0, 0, 0, 0, 0, 0, 0, 0, 0, 0, 0, 0, 0, 0, 0, 1, 0, 0, 0, 0, 0, 0, 0, 0, 0, 0, 0, 0, 0, 0, 0, 0, 0, 0, 0, 0, 0, 0, 0, 0, 0, 0, 0, 0, 0, 0, 0, 0, 0, 0, 0, 0, 0, 0, 0, 0, 0, 0, 0, 0, 0, 0, 0, 0, 0, 0, 0, 0, 0, 0, 0, 0, 0, 0, 0, 0, 0, 0, 0, 0, 0, 0, 0, 0, 0, 0, 0, 0, 0, 0, 0, 0, 0, 0, 0, 0, 1, 0, 1, 0, 0, 0, 0, 0, 0, 0, 0, 1, 0, 0, 0, 0, 0, 0, 0, 0, 0, 0, 0, 0, 0, 0, 0, 0, 0, 0, 0, 0, 0, 0, 0, 0, 0, 0, 0, 0], ['International Education Coordinator', 0, 0, 0, 0, 1, 0, 0, 0, 0, 0, 0, 0, 0, 0, 0, 0, 1, 0, 0, 0, 0, 0, 1, 0, 0, 0, 0, 0, 0, 0, 0, 0, 0, 0, 0, 0, 0, 0, 1, 0, 0, 0, 0, 0, 0, 0, 1, 1, 0, 1, 0, 0, 0, 0, 0, 0, 0, 1, 0, 1, 0, 0, 0, 0, 1, 0, 0, 0, 1, 0, 0, 0, 0, 0, 0, 0, 0, 0, 0, 1, 1, 0, 0, 0, 0, 0, 0, 0, 1, 0, 1, 0, 0, 0, 1, 0, 0, 1, 0, 0, 0, 0, 0, 0, 0, 0, 0, 0, 1, 0, 0, 0, 0, 0, 0, 0, 0, 0, 0, 0, 0, 0, 0, 1, 0, 0, 0, 1, 1, 0, 0, 0, 0, 1, 0, 0, 0, 0, 0, 0, 1, 0, 0, 0, 0, 0, 0, 0, 1, 0, 0, 0, 0, 1, 0], ['Treasurer', 0, 1, 0, 0, 0, 0, 0, 0, 0, 0, 0, 0, 0, 0, 0, 0, 0, 0, 0, 0, 0, 0, 0, 0, 0, 0, 0, 0, 0, 0, 0, 0, 0, 0, 0, 0, 0, 0, 0, 0, 0, 0, 0, 0, 0, 0, 0, 1, 0, 0, 0, 0, 0, 0, 0, 0, 0, 0, 0, 1, 1, 0, 0, 0, 0, 0, 0, 0, 1, 0, 0, 0, 0, 0, 0, 0, 0, 0, 0, 0, 1, 0, 0, 0, 0, 0, 0, 0, 0, 0, 0, 0, 0, 0, 1, 0, 0, 1, 0, 0, 1, 0, 0, 0, 0, 0, 0, 0, 0, 0, 0, 1, 0, 0, 0, 0, 0, 0, 0, 0, 0, 0, 0, 0, 0, 0, 0, 0, 0, 0, 0, 0, 0, 0, 0, 0, 0, 0, 0, 0, 0, 0, 0, 0, 0, 0, 0, 0, 0, 0, 0, 0, 0, 0, 0], ['Pipefitter', 0, 0, 0, 0, 0, 0, 0, 0, 0, 0, 0, 0, 0, 0, 0, 0, 0, 0, 0, 0, 0, 0, 0, 0, 0, 0, 0, 0, 0, 0, 0, 0, 0, 0, 0, 0, 0, 0, 0, 0, 0, 0, 0, 0, 0, 0, 0, 1, 0, 1, 1, 0, 0, 0, 0, 0, 0, 0, 0, 1, 1, 0, 0, 0, 0, 0, 0, 0, 1, 1, 0, 0, 0, 0, 0, 0, 0, 0, 0, 0, 1, 0, 0, 0, 0, 0, 0, 0, 0, 0, 1, 0, 0, 1, 0, 0, 0, 1, 0, 0, 0, 0, 0, 0, 0, 0, 0, 0, 0, 0, 0, 0, 0, 0, 0, 0, 0, 0, 0, 0, 0, 0, 0, 0, 0, 0, 0, 0, 0, 0, 0, 0, 0, 1, 0, 0, 0, 0, 0, 1, 0, 0, 0, 0, 0, 0, 0, 0, 0, 0, 0, 0, 0, 0, 0], ['Manufacturing Customer Service Representative', 0, 0, 0, 0, 0, 0, 0, 0, 0, 0, 0, 0, 0, 0, 0, 0, 0, 0, 0, 0, 0, 0, 0, 0, 0, 0, 0, 0, 0, 0, 0, 0, 0, 0, 0, 0, 0, 0, 0, 0, 0, 0, 0, 0, 0, 0, 0, 0, 0, 1, 0, 1, 0, 0, 0, 0, 0, 0, 0, 0, 1, 0, 0, 0, 0, 0, 0, 0, 1, 0, 0, 0, 0, 0, 0, 0, 0, 0, 0, 0, 0, 1, 0, 0, 0, 0, 0, 0, 0, 0, 0, 0, 0, 1, 0, 0, 0, 0, 0, 0, 1, 0, 0, 0, 0, 0, 0, 0, 0, 0, 0, 0, 0, 0, 0, 0, 0, 0, 0, 0, 0, 0, 0, 0, 0, 0, 0, 0, 0, 0, 0, 0, 0, 0, 0, 0, 0, 0, 0, 0, 0, 0, 0, 0, 0, 0, 0, 0, 0, 0, 1, 0, 0, 0, 0], ['Laboratory Sales Consultant', 0, 0, 0, 0, 0, 0, 0, 0, 0, 0, 0, 0, 0, 0, 0, 0, 0, 0, 0, 0, 0, 0, 1, 0, 0, 0, 0, 0, 0, 0, 0, 0, 0, 0, 0, 0, 0, 0, 0, 0, 0, 0, 0, 0, 0, 0, 1, 0, 0, 1, 0, 1, 0, 0, 0, 0, 0, 0, 0, 0, 0, 0, 0, 0, 0, 0, 0, 0, 0, 0, 0, 0, 0, 0, 0, 0, 0, 0, 0, 0, 0, 0, 0, 0, 0, 0, 0, 0, 0, 0, 0, 0, 0, 0, 0, 0, 0, 0, 0, 0, 0, 0, 0, 0, 0, 0, 0, 0, 0, 0, 0, 1, 0, 0, 0, 0, 0, 0, 0, 0, 0, 0, 0, 0, 0, 0, 0, 0, 0, 0, 0, 0, 0, 0, 0, 0, 0, 0, 0, 0, 0, 0, 0, 0, 0, 0, 0, 0, 0, 0, 0, 0, 0, 0, 0], ['Quality Assurance Manager', 0, 0, 0, 0, 0, 0, 0, 0, 0, 0, 0, 0, 0, 0, 0, 0, 0, 0, 0, 0, 0, 0, 1, 0, 0, 0, 0, 0, 0, 0, 0, 0, 0, 0, 0, 0, 0, 0, 0, 0, 0, 0, 0, 0, 0, 0, 1, 0, 0, 1, 0, 1, 0, 0, 0, 0, 0, 0, 0, 0, 0, 0, 0, 0, 0, 0, 0, 0, 0, 0, 0, 0, 0, 0, 0, 0, 0, 0, 0, 0, 0, 0, 0, 0, 0, 0, 0, 0, 0, 0, 0, 0, 0, 0, 0, 0, 0, 0, 0, 0, 0, 0, 0, 0, 0, 0, 0, 0, 0, 0, 0, 1, 0, 0, 0, 0, 0, 0, 0, 0, 0, 0, 0, 0, 0, 0, 0, 0, 0, 0, 0, 0, 0, 0, 0, 0, 0, 0, 0, 0, 0, 0, 0, 0, 0, 0, 0, 0, 0, 0, 0, 0, 0, 0, 0], ['Customer Service Agent', 0, 0, 0, 0, 0, 0, 0, 0, 0, 0, 0, 0, 0, 0, 0, 0, 0, 0, 0, 0, 0, 0, 0, 0, 0, 0, 0, 0, 0, 0, 0, 0, 0, 0, 0, 0, 0, 0, 0, 0, 0, 0, 0, 0, 0, 0, 0, 0, 0, 0, 0, 0, 0, 0, 0, 0, 0, 0, 0, 0, 0, 0, 0, 0, 0, 0, 0, 0, 0, 0, 0, 0, 0, 0, 0, 0, 0, 0, 0, 0, 0, 0, 0, 0, 0, 0, 0, 0, 0, 0, 0, 0, 0, 0, 1, 0, 0, 0, 0, 0, 0, 0, 0, 0, 0, 0, 0, 0, 0, 0, 0, 0, 0, 0, 0, 0, 0, 0, 0, 0, 0, 0, 0, 0, 0, 0, 0, 0, 0, 0, 0, 0, 0, 0, 0, 0, 0, 0, 0, 0, 0, 0, 0, 0, 0, 0, 0, 0, 0, 0, 0, 0, 0, 0, 0], ['Night Auditor', 0, 0, 0, 0, 0, 0, 0, 0, 0, 0, 0, 0, 0, 0, 0, 0, 0, 0, 0, 0, 0, 0, 0, 0, 0, 0, 0, 1, 0, 0, 0, 0, 0, 0, 0, 0, 0, 0, 0, 0, 0, 0, 0, 0, 0, 0, 0, 0, 0, 0, 0, 1, 0, 0, 0, 0, 0, 0, 0, 0, 0, 0, 0, 0, 0, 0, 0, 0, 0, 0, 0, 0, 0, 1, 0, 0, 0, 0, 0, 0, 0, 0, 0, 0, 0, 0, 0, 0, 0, 0, 1, 0, 0, 0, 0, 0, 0, 0, 0, 0, 1, 0, 0, 0, 0, 0, 0, 0, 0, 0, 0, 1, 0, 0, 0, 0, 0, 0, 0, 0, 0, 0, 0, 0, 0, 0, 0, 0, 0, 0, 0, 0, 0, 1, 0, 0, 0, 0, 0, 0, 0, 0, 0, 0, 0, 0, 0, 0, 0, 0, 0, 0, 0, 0, 0], ['Process Control Engineer', 0, 0, 0, 0, 0, 0, 0, 0, 0, 0, 0, 0, 0, 0, 0, 0, 0, 0, 0, 0, 0, 0, 0, 0, 0, 0, 0, 0, 0, 0, 0, 0, 0, 0, 1, 0, 0, 0, 0, 0, 0, 0, 0, 0, 0, 0, 0, 0, 0, 0, 0, 0, 0, 0, 0, 0, 0, 0, 0, 0, 0, 0, 0, 0, 0, 0, 0, 0, 0, 0, 0, 0, 0, 0, 0, 0, 0, 0, 0, 0, 0, 0, 0, 0, 0, 0, 0, 0, 0, 0, 0, 0, 0, 0, 0, 0, 0, 0, 0, 0, 0, 0, 0, 0, 0, 0, 0, 0, 0, 0, 0, 0, 0, 0, 0, 0, 0, 0, 0, 0, 0, 0, 0, 0, 0, 0, 0, 0, 0, 0, 0, 0, 0, 0, 0, 0, 0, 0, 0, 0, 0, 0, 0, 0, 0, 0, 0, 0, 0, 0, 0, 0, 0, 0, 0], ['Business Intelligence Developer', 0, 0, 0, 0, 0, 0, 0, 0, 0, 0, 0, 0, 0, 0, 0, 0, 0, 0, 0, 0, 0, 0, 0, 0, 0, 0, 0, 0, 0, 0, 0, 0, 0, 0, 1, 0, 0, 0, 0, 0, 0, 0, 0, 0, 0, 0, 1, 0, 0, 1, 0, 1, 0, 0, 0, 0, 0, 0, 0, 1, 0, 0, 0, 0, 0, 0, 0, 0, 1, 0, 0, 0, 1, 0, 0, 0, 0, 0, 0, 0, 1, 0, 0, 0, 0, 0, 0, 0, 0, 0, 0, 0, 0, 0, 1, 0, 0, 1, 0, 0, 0, 0, 0, 0, 0, 0, 0, 0, 0, 0, 0, 0, 0, 0, 0, 0, 0, 0, 0, 0, 0, 0, 1, 0, 0, 0, 0, 0, 0, 0, 0, 0, 0, 1, 0, 0, 0, 0, 0, 0, 0, 0, 0, 0, 0, 0, 0, 0, 0, 0, 0, 0, 0, 0, 0], ['Concrete Finisher', 0, 1, 0, 0, 0, 0, 0, 0, 0, 0, 0, 0, 0, 0, 0, 0, 0, 0, 0, 0, 0, 0, 1, 0, 0, 0, 0, 0, 0, 0, 0, 0, 0, 0, 1, 0, 0, 0, 0, 0, 0, 0, 0, 0, 0, 0, 0, 0, 0, 1, 0, 1, 0, 0, 0, 0, 0, 0, 0, 1, 0, 0, 0, 0, 0, 0, 0, 0, 0, 0, 0, 0, 1, 1, 0, 0, 0, 0, 0, 0, 0, 0, 0, 0, 0, 0, 0, 0, 0, 0, 1, 0, 0, 0, 0, 0, 0, 0, 0, 0, 0, 0, 0, 0, 0, 0, 0, 0, 0, 0, 0, 0, 0, 0, 1, 0, 0, 0, 0, 0, 0, 0, 0, 0, 0, 0, 0, 0, 0, 0, 0, 0, 0, 1, 0, 0, 0, 0, 0, 0, 0, 0, 0, 0, 0, 0, 0, 0, 0, 0, 0, 0, 0, 0, 0], ['Solid Waste Field Technician', 0, 0, 0, 1, 0, 0, 0, 0, 1, 0, 0, 0, 0, 0, 0, 0, 0, 0, 0, 0, 0, 0, 0, 0, 0, 1, 0, 0, 0, 0, 0, 0, 0, 0, 1, 0, 0, 0, 0, 0, 0, 0, 0, 0, 0, 0, 0, 0, 0, 1, 0, 0, 0, 0, 0, 0, 0, 0, 0, 1, 1, 0, 0, 0, 0, 1, 0, 0, 1, 1, 0, 0, 0, 0, 0, 0, 0, 0, 0, 0, 1, 0, 0, 0, 0, 0, 0, 0, 0, 0, 0, 0, 0, 1, 0, 0, 0, 1, 0, 0, 0, 0, 0, 0, 0, 0, 0, 0, 1, 0, 0, 1, 0, 0, 0, 0, 0, 0, 0, 0, 0, 1, 0, 0, 0, 0, 0, 0, 0, 0, 0, 0, 0, 1, 0, 0, 0, 0, 0, 0, 0, 0, 0, 0, 0, 0, 0, 0, 0, 0, 0, 0, 0, 0, 0], ['Healthcare Consultant', 1, 1, 0, 0, 0, 0, 0, 0, 0, 0, 1, 0, 0, 0, 0, 0, 0, 0, 0, 0, 0, 0, 0, 0, 0, 0, 0, 0, 0, 0, 0, 0, 0, 0, 1, 0, 0, 0, 0, 0, 0, 0, 0, 0, 0, 0, 0, 0, 0, 0, 0, 0, 0, 0, 0, 0, 0, 0, 0, 0, 0, 0, 0, 0, 0, 0, 0, 0, 0, 0, 0, 0, 0, 0, 0, 0, 0, 0, 0, 0, 0, 0, 0, 0, 0, 0, 0, 0, 0, 0, 0, 0, 0, 0, 0, 0, 0, 0, 0, 0, 0, 0, 0, 0, 0, 0, 0, 0, 0, 0, 0, 0, 0, 0, 0, 1, 0, 1, 0, 0, 0, 0, 0, 0, 0, 0, 1, 0, 0, 0, 0, 0, 0, 0, 0, 0, 0, 0, 0, 0, 0, 0, 0, 0, 0, 0, 0, 0, 0, 0, 0, 0, 0, 0, 0], ['Producer Travel Channel', 0, 1, 0, 0, 0, 0, 0, 0, 0, 0, 0, 0, 0, 0, 0, 0, 0, 0, 0, 0, 0, 0, 1, 0, 0, 0, 0, 1, 0, 0, 0, 0, 0, 0, 0, 0, 0, 0, 0, 0, 0, 0, 0, 0, 0, 0, 0, 0, 0, 1, 0, 0, 1, 0, 0, 0, 0, 0, 0, 0, 0, 0, 0, 0, 0, 0, 0, 0, 0, 0, 0, 0, 0, 1, 0, 0, 0, 0, 0, 0, 0, 0, 0, 0, 0, 0, 0, 0, 0, 0, 0, 0, 0, 0, 0, 0, 0, 0, 0, 0, 0, 0, 0, 0, 0, 0, 0, 0, 0, 0, 0, 0, 0, 0, 0, 0, 0, 0, 0, 0, 0, 0, 0, 0, 0, 0, 0, 0, 0, 0, 0, 0, 0, 1, 0, 0, 0, 0, 0, 0, 0, 0, 0, 0, 0, 0, 0, 0, 0, 0, 0, 0, 0, 0, 0], ['Organic Lab Worker', 0, 0, 0, 0, 0, 0, 0, 0, 0, 0, 0, 0, 0, 0, 0, 0, 0, 0, 0, 0, 0, 0, 0, 0, 0, 0, 0, 0, 0, 0, 0, 0, 0, 0, 1, 0, 0, 0, 0, 0, 0, 0, 0, 0, 0, 1, 0, 0, 0, 1, 0, 0, 0, 0, 0, 0, 0, 0, 0, 1, 0, 0, 0, 0, 0, 0, 0, 0, 1, 0, 0, 0, 0, 0, 0, 0, 0, 0, 0, 0, 1, 0, 0, 0, 0, 0, 0, 0, 0, 0, 0, 0, 0, 0, 0, 0, 0, 0, 0, 0, 0, 0, 0, 0, 0, 0, 0, 0, 0, 0, 0, 0, 0, 0, 0, 0, 0, 0, 0, 0, 0, 0, 0, 0, 0, 0, 0, 0, 0, 0, 0, 0, 0, 0, 0, 0, 0, 0, 0, 0, 0, 1, 0, 0, 0, 0, 0, 0, 0, 0, 0, 0, 0, 0, 0], ['Attorney', 0, 1, 0, 0, 0, 0, 0, 0, 0, 0, 0, 0, 0, 0, 0, 0, 0, 0, 0, 0, 0, 0, 1, 0, 0, 0, 0, 0, 0, 0, 0, 0, 0, 0, 1, 0, 0, 0, 0, 0, 0, 0, 0, 0, 0, 0, 0, 0, 0, 1, 0, 1, 0, 0, 0, 0, 0, 0, 0, 1, 0, 0, 0, 0, 0, 0, 0, 0, 0, 0, 0, 0, 1, 1, 0, 0, 0, 0, 0, 0, 0, 0, 0, 0, 0, 0, 0, 0, 0, 0, 1, 0, 0, 0, 0, 0, 0, 0, 0, 0, 0, 0, 0, 0, 0, 0, 0, 0, 0, 0, 0, 0, 0, 0, 1, 0, 0, 0, 0, 0, 0, 0, 0, 0, 0, 0, 0, 0, 0, 0, 0, 0, 0, 1, 0, 0, 0, 0, 0, 0, 0, 0, 0, 0, 0, 0, 0, 0, 0, 0, 0, 0, 0, 0, 0], ['Compliance Engineer', 0, 0, 0, 0, 0, 0, 0, 0, 0, 0, 0, 0, 0, 0, 0, 0, 0, 0, 0, 0, 0, 0, 0, 0, 0, 0, 0, 0, 0, 0, 0, 0, 0, 0, 0, 0, 0, 0, 0, 0, 0, 1, 0, 0, 0, 0, 0, 0, 0, 0, 0, 0, 0, 0, 0, 0, 0, 0, 0, 0, 0, 0, 0, 0, 0, 0, 0, 0, 1, 0, 0, 0, 1, 0, 0, 0, 0, 0, 0, 0, 0, 0, 0, 0, 0, 0, 0, 0, 0, 0, 0, 0, 0, 0, 0, 0, 0, 0, 0, 0, 0, 0, 0, 0, 0, 0, 0, 0, 0, 0, 0, 0, 0, 0, 0, 0, 0, 0, 0, 0, 0, 0, 0, 0, 0, 0, 0, 0, 0, 0, 0, 0, 0, 0, 0, 0, 0, 0, 0, 0, 0, 0, 0, 0, 0, 0, 0, 0, 0, 0, 1, 0, 0, 0, 0], ['Research and Development Tester', 0, 0, 0, 0, 0, 0, 0, 0, 0, 0, 0, 0, 0, 0, 0, 0, 0, 0, 0, 0, 0, 0, 0, 0, 0, 0, 0, 0, 0, 0, 0, 0, 0, 0, 0, 0, 0, 0, 0, 0, 0, 0, 0, 0, 0, 0, 0, 0, 0, 0, 0, 0, 0, 0, 0, 0, 0, 0, 0, 0, 0, 0, 0, 0, 0, 0, 0, 0, 0, 1, 0, 0, 0, 0, 0, 0, 0, 0, 0, 0, 0, 0, 0, 0, 0, 0, 0, 0, 0, 0, 0, 0, 0, 0, 0, 0, 0, 0, 0, 0, 0, 0, 0, 0, 0, 0, 0, 0, 0, 0, 0, 0, 0, 0, 0, 0, 0, 0, 0, 0, 0, 0, 0, 0, 0, 0, 1, 0, 0, 0, 0, 0, 0, 1, 0, 0, 0, 0, 0, 0, 0, 0, 0, 0, 0, 0, 0, 0, 0, 0, 0, 0, 0, 0, 0], ['Quality Associate/Validation', 0, 0, 0, 0, 0, 0, 0, 0, 0, 0, 0, 0, 0, 0, 0, 0, 0, 0, 0, 0, 0, 0, 0, 0, 0, 0, 0, 1, 0, 0, 0, 0, 0, 0, 0, 0, 0, 0, 0, 0, 0, 0, 0, 0, 0, 0, 0, 0, 0, 0, 0, 0, 0, 0, 0, 0, 0, 0, 0, 0, 0, 0, 0, 0, 0, 0, 0, 0, 0, 0, 0, 0, 1, 0, 0, 0, 0, 0, 0, 0, 0, 0, 0, 0, 0, 0, 0, 0, 0, 0, 0, 0, 1, 0, 0, 0, 0, 0, 0, 0, 0, 0, 0, 0, 0, 0, 0, 0, 0, 0, 0, 0, 0, 0, 0, 0, 0, 0, 0, 0, 0, 0, 0, 0, 0, 0, 0, 0, 0, 0, 0, 0, 0, 0, 0, 0, 0, 0, 0, 0, 0, 0, 0, 0, 0, 0, 0, 0, 0, 0, 0, 0, 0, 0, 0], ['Chief of Career Pathways and Integrated Learning', 0, 0, 0, 0, 0, 0, 0, 0, 0, 0, 0, 0, 0, 0, 0, 0, 0, 0, 0, 0, 0, 0, 0, 0, 0, 0, 0, 0, 0, 0, 0, 0, 0, 0, 1, 0, 0, 0, 0, 0, 0, 0, 0, 0, 0, 0, 0, 0, 0, 0, 0, 0, 0, 0, 0, 0, 0, 0, 0, 0, 0, 0, 0, 0, 0, 0, 0, 0, 0, 0, 0, 0, 1, 0, 0, 0, 0, 0, 0, 0, 0, 0, 0, 0, 0, 0, 0, 0, 0, 0, 0, 0, 0, 0, 0, 0, 0, 0, 0, 0, 0, 0, 0, 0, 0, 0, 0, 0, 0, 0, 0, 0, 0, 0, 0, 0, 0, 0, 0, 0, 0, 0, 0, 0, 0, 0, 0, 0, 0, 0, 0, 0, 0, 0, 0, 0, 0, 0, 0, 0, 0, 0, 0, 0, 0, 0, 0, 0, 0, 0, 0, 0, 0, 0, 0], ['Executive Conference Manager', 0, 0, 0, 0, 0, 0, 0, 0, 0, 0, 0, 0, 0, 0, 0, 0, 0, 0, 0, 0, 0, 0, 0, 0, 0, 0, 0, 0, 0, 0, 0, 0, 0, 0, 1, 0, 0, 0, 0, 0, 0, 0, 0, 0, 0, 0, 0, 0, 0, 0, 0, 0, 0, 0, 0, 0, 0, 0, 0, 0, 0, 0, 0, 0, 0, 0, 0, 0, 0, 1, 0, 0, 0, 1, 0, 0, 0, 0, 0, 0, 0, 0, 0, 0, 0, 0, 0, 0, 0, 0, 0, 0, 0, 0, 0, 0, 0, 0, 0, 0, 0, 0, 0, 0, 0, 0, 0, 0, 0, 0, 0, 0, 0, 0, 0, 0, 0, 0, 0, 0, 0, 0, 0, 0, 0, 0, 0, 0, 0, 0, 0, 0, 0, 0, 0, 0, 0, 0, 0, 0, 0, 0, 0, 0, 0, 0, 0, 0, 0, 0, 0, 0, 0, 0, 0], ['Assistant Coach', 0, 0, 0, 0, 0, 0, 0, 0, 0, 0, 0, 0, 0, 0, 0, 0, 0, 0, 0, 0, 0, 0, 0, 0, 0, 0, 0, 0, 0, 0, 0, 0, 0, 0, 1, 0, 0, 0, 0, 0, 0, 0, 0, 0, 0, 0, 0, 0, 0, 0, 0, 0, 0, 0, 0, 0, 0, 0, 0, 0, 0, 0, 0, 0, 0, 0, 0, 0, 0, 0, 0, 0, 0, 0, 0, 0, 0, 0, 0, 0, 0, 0, 0, 0, 0, 0, 0, 0, 0, 0, 1, 0, 0, 0, 0, 0, 0, 0, 0, 0, 0, 0, 0, 0, 0, 0, 0, 0, 0, 0, 0, 0, 0, 0, 0, 0, 0, 0, 0, 0, 0, 0, 0, 0, 0, 0, 0, 0, 0, 0, 0, 0, 0, 0, 0, 0, 0, 0, 0, 0, 0, 0, 0, 0, 0, 0, 0, 0, 0, 0, 0, 0, 0, 0, 0], ['IT Support Staff', 0, 0, 0, 0, 0, 0, 0, 0, 0, 0, 0, 0, 0, 0, 0, 0, 0, 0, 0, 0, 0, 0, 1, 0, 0, 0, 0, 0, 0, 0, 0, 0, 0, 0, 0, 0, 0, 0, 0, 0, 0, 0, 0, 0, 0, 0, 0, 0, 0, 0, 0, 1, 0, 0, 0, 0, 0, 0, 0, 0, 0, 0, 0, 0, 0, 0, 0, 0, 0, 0, 0, 0, 0, 0, 0, 0, 0, 0, 0, 0, 0, 0, 0, 0, 0, 0, 0, 0, 0, 0, 0, 0, 0, 0, 0, 0, 0, 0, 0, 0, 0, 0, 0, 0, 0, 0, 0, 0, 0, 0, 0, 0, 0, 0, 0, 0, 0, 0, 0, 0, 0, 0, 0, 0, 0, 0, 0, 0, 0, 0, 0, 0, 0, 0, 0, 0, 0, 0, 0, 0, 0, 0, 0, 0, 0, 0, 0, 0, 0, 0, 0, 0, 0, 0, 0], ['Cardiovascular Operating Room Nurse', 0, 1, 0, 0, 0, 0, 0, 0, 0, 0, 0, 0, 0, 0, 0, 0, 0, 0, 0, 0, 0, 0, 1, 0, 0, 0, 0, 0, 0, 0, 0, 0, 1, 0, 0, 0, 0, 0, 0, 0, 0, 0, 1, 0, 0, 0, 0, 0, 0, 0, 0, 0, 0, 0, 0, 0, 0, 0, 0, 0, 0, 0, 0, 0, 0, 0, 0, 0, 0, 1, 0, 0, 0, 0, 0, 0, 0, 0, 1, 0, 0, 0, 0, 0, 0, 1, 0, 1, 0, 0, 0, 0, 0, 0, 0, 0, 0, 0, 0, 0, 0, 0, 0, 0, 0, 0, 0, 0, 0, 0, 0, 0, 0, 0, 0, 0, 0, 0, 0, 0, 0, 0, 0, 0, 0, 1, 1, 0, 0, 0, 0, 0, 0, 0, 0, 0, 0, 0, 0, 0, 0, 0, 0, 0, 0, 0, 0, 0, 0, 0, 0, 0, 0, 0, 0], ['Meeting Specialist', 0, 1, 0, 0, 0, 0, 0, 0, 0, 0, 0, 0, 0, 0, 0, 0, 0, 0, 0, 0, 0, 0, 0, 0, 0, 0, 0, 0, 0, 0, 0, 0, 0, 0, 0, 0, 0, 0, 0, 0, 0, 0, 0, 0, 0, 0, 0, 1, 0, 0, 0, 0, 0, 0, 0, 0, 0, 0, 0, 1, 1, 0, 0, 0, 0, 0, 0, 0, 1, 0, 0, 0, 0, 0, 0, 0, 0, 0, 0, 0, 1, 0, 0, 0, 0, 0, 0, 0, 0, 0, 0, 0, 0, 0, 0, 0, 0, 1, 0, 0, 1, 0, 0, 0, 0, 0, 0, 0, 0, 0, 0, 1, 0, 0, 0, 0, 0, 0, 0, 0, 0, 0, 0, 0, 0, 0, 0, 0, 0, 0, 0, 0, 0, 0, 0, 0, 0, 0, 0, 0, 0, 0, 0, 0, 0, 0, 0, 0, 0, 0, 0, 0, 0, 0, 0], ['Vice Principal', 0, 0, 0, 0, 0, 0, 0, 0, 0, 0, 0, 0, 0, 0, 0, 0, 0, 0, 0, 0, 0, 0, 0, 0, 0, 0, 0, 0, 0, 0, 0, 0, 0, 0, 1, 0, 0, 0, 0, 0, 0, 0, 0, 0, 0, 0, 0, 0, 0, 0, 0, 0, 0, 0, 0, 0, 0, 0, 0, 0, 0, 0, 0, 0, 0, 0, 0, 0, 0, 0, 0, 0, 0, 0, 0, 0, 0, 0, 0, 0, 0, 0, 0, 0, 0, 0, 0, 0, 0, 0, 0, 0, 0, 0, 0, 0, 0, 0, 0, 0, 0, 0, 0, 0, 0, 0, 0, 0, 0, 0, 0, 0, 0, 0, 0, 0, 0, 0, 0, 0, 0, 0, 0, 0, 0, 0, 0, 0, 0, 0, 0, 0, 0, 1, 0, 0, 0, 0, 0, 0, 0, 0, 0, 0, 0, 0, 0, 0, 0, 0, 0, 0, 0, 0, 0], ['Cyber Intelligence Watch Officer', 0, 0, 0, 0, 1, 0, 0, 0, 0, 0, 0, 1, 0, 0, 0, 1, 0, 0, 0, 0, 0, 0, 0, 0, 0, 0, 0, 0, 0, 0, 0, 0, 0, 0, 0, 0, 0, 0, 0, 0, 0, 0, 0, 0, 0, 0, 0, 1, 0, 1, 0, 0, 0, 0, 0, 0, 0, 0, 0, 0, 0, 0, 0, 1, 0, 1, 0, 0, 0, 0, 0, 0, 0, 0, 0, 0, 0, 0, 0, 0, 0, 0, 0, 0, 0, 0, 0, 0, 0, 0, 0, 0, 0, 0, 0, 0, 0, 0, 0, 0, 0, 0, 0, 0, 0, 0, 0, 0, 0, 0, 0, 0, 0, 0, 0, 0, 0, 0, 0, 0, 0, 0, 0, 0, 0, 0, 0, 0, 0, 0, 0, 0, 0, 0, 0, 0, 0, 0, 0, 0, 0, 0, 0, 0, 0, 0, 0, 0, 0, 0, 0, 0, 0, 1, 0], ['Freelance Travel Writer', 0, 0, 0, 0, 0, 0, 0, 0, 0, 0, 0, 0, 0, 0, 0, 0, 0, 0, 0, 0, 0, 0, 1, 0, 0, 0, 0, 0, 0, 0, 0, 0, 0, 0, 0, 0, 0, 0, 0, 0, 0, 0, 0, 0, 0, 0, 1, 0, 0, 1, 0, 1, 0, 0, 0, 0, 0, 0, 0, 0, 0, 0, 0, 0, 0, 0, 0, 0, 0, 0, 0, 0, 0, 0, 0, 0, 0, 0, 0, 0, 0, 0, 0, 0, 0, 0, 0, 0, 0, 0, 0, 0, 0, 0, 1, 0, 0, 0, 0, 0, 0, 0, 0, 0, 0, 0, 0, 0, 0, 0, 0, 1, 0, 0, 0, 0, 0, 0, 0, 0, 0, 0, 0, 0, 0, 0, 0, 0, 0, 0, 0, 0, 0, 0, 0, 0, 0, 0, 0, 0, 0, 0, 0, 0, 0, 0, 0, 0, 0, 0, 0, 0, 0, 0, 0], ['Assistant General Manager', 0, 1, 0, 0, 0, 0, 0, 0, 0, 0, 0, 0, 0, 0, 0, 0, 0, 0, 0, 0, 0, 0, 1, 0, 0, 0, 0, 0, 0, 0, 0, 0, 1, 0, 0, 0, 0, 0, 0, 0, 0, 0, 1, 0, 0, 0, 0, 0, 0, 0, 0, 0, 0, 0, 0, 0, 0, 0, 0, 0, 0, 0, 0, 0, 0, 0, 0, 0, 0, 1, 0, 0, 0, 0, 0, 0, 0, 0, 1, 0, 0, 0, 0, 0, 0, 1, 0, 1, 0, 0, 0, 0, 0, 0, 0, 0, 0, 0, 0, 0, 0, 0, 0, 0, 0, 0, 0, 0, 0, 0, 0, 0, 0, 0, 0, 0, 0, 0, 0, 0, 0, 0, 0, 0, 0, 1, 1, 0, 0, 0, 0, 0, 0, 0, 0, 0, 0, 0, 0, 0, 0, 0, 0, 0, 0, 0, 0, 0, 0, 0, 0, 0, 0, 0, 0], ['Account Executive', 0, 1, 0, 0, 0, 0, 1, 0, 0, 0, 0, 0, 0, 0, 0, 0, 1, 0, 0, 0, 0, 0, 1, 0, 0, 0, 0, 0, 0, 0, 0, 0, 0, 0, 1, 0, 0, 0, 0, 0, 0, 0, 0, 0, 0, 0, 0, 1, 1, 1, 0, 1, 0, 0, 0, 0, 0, 0, 0, 1, 1, 0, 0, 1, 0, 1, 0, 0, 1, 1, 0, 0, 1, 1, 0, 1, 0, 0, 0, 0, 0, 0, 0, 0, 0, 0, 1, 0, 0, 0, 1, 1, 0, 0, 0, 0, 0, 0, 0, 0, 0, 0, 0, 0, 0, 0, 0, 0, 0, 0, 0, 0, 0, 1, 1, 0, 0, 0, 1, 0, 0, 0, 0, 0, 0, 0, 0, 0, 0, 0, 0, 0, 0, 1, 0, 0, 0, 0, 0, 0, 0, 0, 0, 0, 0, 0, 0, 0, 0, 0, 0, 0, 0, 0, 0], ['Catering Account Manger', 0, 0, 0, 0, 0, 0, 0, 0, 0, 0, 0, 0, 0, 0, 0, 0, 0, 0, 0, 0, 0, 0, 0, 1, 0, 0, 0, 0, 0, 0, 0, 0, 0, 0, 0, 0, 0, 0, 0, 0, 0, 0, 0, 0, 0, 0, 0, 0, 0, 0, 0, 0, 0, 0, 0, 0, 0, 0, 0, 0, 0, 0, 0, 0, 0, 0, 0, 0, 0, 1, 0, 0, 0, 1, 0, 0, 0, 0, 0, 0, 0, 0, 0, 0, 0, 0, 0, 0, 0, 0, 0, 0, 0, 0, 1, 0, 0, 0, 0, 0, 0, 0, 0, 0, 0, 0, 0, 0, 0, 0, 0, 0, 0, 0, 0, 0, 1, 0, 0, 0, 0, 0, 0, 0, 0, 0, 0, 0, 0, 0, 0, 0, 0, 0, 0, 0, 0, 0, 0, 0, 0, 0, 0, 0, 0, 0, 0, 0, 0, 0, 0, 0, 0, 0, 0], ['Process Engineer', 0, 0, 0, 0, 0, 0, 0, 0, 0, 0, 0, 0, 0, 0, 0, 0, 0, 0, 0, 0, 0, 0, 0, 0, 0, 0, 0, 0, 0, 0, 0, 0, 0, 0, 1, 0, 0, 0, 0, 0, 0, 0, 0, 0, 0, 0, 1, 0, 0, 1, 0, 1, 0, 0, 0, 0, 0, 0, 0, 1, 0, 0, 0, 0, 0, 0, 0, 0, 1, 0, 0, 0, 0, 0, 0, 0, 0, 0, 0, 0, 1, 0, 0, 0, 0, 0, 0, 0, 0, 0, 0, 0, 0, 0, 1, 0, 0, 1, 0, 0, 0, 0, 0, 0, 0, 0, 0, 0, 0, 0, 0, 0, 0, 0, 0, 0, 0, 0, 0, 0, 0, 0, 1, 0, 0, 0, 0, 0, 0, 0, 0, 0, 0, 0, 0, 0, 0, 0, 0, 0, 0, 0, 0, 0, 0, 0, 0, 0, 0, 0, 0, 0, 0, 0, 0], ['Catering Manager', 0, 1, 0, 0, 0, 0, 0, 0, 0, 0, 0, 0, 0, 0, 0, 0, 0, 0, 0, 0, 0, 0, 1, 0, 0, 0, 0, 1, 0, 0, 0, 0, 0, 0, 0, 0, 0, 0, 0, 0, 0, 0, 0, 0, 0, 0, 0, 0, 0, 1, 0, 0, 1, 0, 0, 0, 0, 0, 0, 0, 0, 0, 0, 0, 0, 0, 0, 0, 0, 0, 0, 0, 0, 1, 0, 0, 0, 0, 0, 0, 0, 0, 0, 0, 0, 0, 0, 0, 0, 0, 0, 0, 0, 0, 0, 0, 0, 0, 0, 0, 0, 0, 0, 0, 0, 0, 0, 0, 0, 0, 0, 0, 0, 0, 0, 0, 0, 0, 0, 0, 0, 0, 0, 0, 0, 0, 0, 0, 0, 0, 0, 0, 0, 1, 0, 0, 0, 0, 0, 0, 0, 0, 0, 0, 0, 0, 0, 0, 0, 0, 0, 0, 0, 0, 0], ['Roadie', 0, 0, 0, 0, 0, 0, 0, 0, 0, 0, 0, 0, 0, 0, 0, 0, 0, 0, 0, 0, 0, 0, 1, 0, 0, 0, 0, 0, 0, 0, 0, 0, 0, 0, 0, 0, 0, 0, 0, 0, 0, 0, 0, 0, 0, 0, 0, 0, 0, 0, 0, 0, 0, 0, 0, 0, 0, 0, 0, 0, 0, 0, 0, 0, 0, 0, 0, 0, 0, 0, 0, 0, 0, 0, 0, 0, 0, 0, 0, 0, 0, 0, 0, 0, 0, 0, 0, 0, 0, 0, 0, 0, 0, 0, 0, 0, 0, 0, 0, 0, 0, 0, 0, 0, 0, 0, 0, 0, 0, 0, 0, 0, 0, 0, 0, 0, 0, 0, 0, 0, 0, 0, 0, 0, 0, 0, 0, 0, 0, 0, 0, 0, 0, 0, 0, 0, 0, 0, 0, 0, 0, 0, 0, 0, 0, 0, 0, 0, 0, 0, 0, 0, 0, 0, 0], ['Research and Development Technician', 0, 1, 0, 0, 0, 0, 0, 0, 0, 0, 0, 0, 0, 0, 0, 0, 0, 0, 0, 0, 0, 0, 1, 0, 0, 0, 0, 0, 0, 0, 0, 0, 0, 0, 0, 0, 0, 0, 0, 0, 0, 0, 0, 0, 0, 0, 0, 0, 0, 1, 0, 0, 0, 0, 0, 0, 0, 0, 0, 0, 0, 0, 0, 0, 0, 0, 0, 0, 0, 1, 0, 0, 0, 0, 0, 0, 0, 1, 0, 0, 0, 0, 0, 0, 0, 0, 0, 0, 0, 0, 0, 0, 0, 0, 1, 0, 0, 0, 0, 0, 0, 0, 0, 0, 1, 0, 0, 0, 0, 0, 0, 0, 1, 0, 0, 0, 0, 0, 0, 0, 0, 0, 0, 0, 0, 0, 1, 0, 0, 0, 0, 0, 0, 1, 0, 0, 0, 0, 0, 0, 0, 0, 1, 0, 0, 0, 0, 0, 0, 0, 0, 0, 0, 0, 0], ['Front Desk Attendant', 0, 0, 0, 0, 0, 0, 0, 0, 0, 0, 0, 0, 0, 0, 0, 0, 0, 0, 0, 0, 0, 0, 1, 0, 0, 0, 0, 0, 0, 0, 0, 0, 0, 0, 0, 0, 0, 0, 0, 0, 0, 0, 0, 0, 0, 0, 0, 0, 0, 0, 0, 0, 0, 0, 0, 0, 0, 0, 0, 0, 0, 0, 0, 0, 0, 0, 0, 0, 0, 0, 0, 0, 0, 0, 0, 0, 0, 0, 0, 0, 0, 0, 0, 0, 0, 0, 0, 0, 0, 0, 0, 0, 0, 0, 1, 0, 0, 0, 0, 0, 0, 0, 0, 0, 0, 0, 0, 0, 0, 0, 0, 0, 0, 0, 0, 0, 0, 0, 0, 0, 0, 0, 0, 0, 0, 0, 0, 0, 0, 0, 0, 0, 0, 1, 0, 0, 0, 0, 0, 0, 0, 0, 0, 0, 0, 0, 0, 0, 0, 0, 0, 0, 0, 0, 0], ['Human Resources Assistant', 0, 0, 0, 0, 0, 0, 0, 0, 0, 0, 0, 0, 0, 0, 0, 0, 0, 0, 0, 0, 0, 0, 1, 0, 0, 0, 0, 1, 0, 0, 0, 0, 0, 0, 0, 0, 0, 0, 0, 0, 0, 0, 0, 0, 0, 0, 0, 0, 0, 0, 0, 0, 0, 0, 0, 0, 0, 0, 0, 0, 0, 0, 0, 0, 0, 0, 0, 0, 0, 0, 0, 0, 0, 0, 0, 0, 0, 0, 0, 0, 0, 0, 0, 0, 0, 0, 0, 0, 0, 0, 0, 0, 0, 0, 0, 0, 0, 0, 0, 0, 0, 0, 0, 0, 0, 0, 0, 0, 0, 0, 0, 0, 0, 0, 0, 0, 0, 0, 0, 0, 0, 0, 0, 0, 0, 0, 0, 0, 0, 0, 0, 0, 0, 0, 0, 0, 0, 0, 0, 0, 0, 0, 0, 0, 0, 0, 0, 0, 0, 0, 0, 0, 0, 0, 0], ['Station Agent', 0, 0, 0, 0, 0, 0, 0, 0, 0, 0, 0, 0, 0, 0, 0, 0, 0, 0, 0, 0, 0, 0, 0, 0, 0, 0, 0, 0, 0, 0, 0, 0, 0, 0, 1, 0, 0, 0, 0, 0, 0, 0, 0, 0, 0, 0, 0, 0, 0, 0, 0, 0, 0, 0, 0, 0, 0, 0, 0, 0, 0, 0, 0, 1, 0, 0, 1, 0, 1, 0, 0, 0, 0, 0, 0, 0, 0, 0, 0, 0, 0, 0, 0, 0, 0, 0, 0, 0, 0, 0, 0, 0, 0, 0, 0, 0, 0, 0, 0, 0, 0, 0, 0, 0, 0, 0, 0, 0, 0, 0, 0, 0, 0, 0, 0, 0, 0, 0, 0, 0, 0, 0, 0, 0, 0, 0, 0, 0, 0, 0, 0, 0, 0, 0, 0, 0, 0, 0, 0, 0, 0, 0, 0, 0, 0, 1, 0, 0, 0, 0, 0, 0, 0, 0, 0], ['Sales and Marketing Coordinator', 0, 0, 0, 0, 0, 0, 0, 0, 0, 0, 0, 0, 0, 0, 0, 0, 0, 0, 0, 0, 0, 0, 0, 0, 0, 0, 0, 0, 0, 0, 0, 0, 0, 0, 0, 0, 0, 0, 0, 0, 0, 0, 0, 0, 0, 0, 0, 0, 0, 0, 0, 0, 0, 0, 0, 0, 0, 0, 0, 0, 0, 0, 0, 0, 0, 0, 0, 0, 0, 0, 0, 0, 0, 0, 0, 0, 0, 0, 0, 0, 0, 0, 0, 0, 0, 0, 0, 0, 0, 0, 0, 0, 0, 0, 1, 0, 0, 0, 0, 0, 0, 0, 0, 0, 0, 0, 0, 0, 0, 0, 0, 0, 0, 0, 0, 0, 0, 0, 0, 0, 0, 0, 0, 0, 0, 0, 0, 0, 0, 0, 0, 0, 0, 1, 0, 0, 0, 0, 0, 0, 0, 0, 0, 0, 0, 0, 0, 0, 0, 0, 0, 0, 0, 0, 0], ['Solar Installers', 0, 0, 0, 0, 0, 0, 0, 0, 0, 0, 0, 0, 0, 0, 0, 0, 0, 0, 0, 0, 0, 1, 1, 0, 0, 0, 0, 1, 0, 0, 0, 0, 0, 0, 0, 0, 0, 0, 0, 0, 0, 0, 0, 0, 0, 0, 0, 0, 0, 0, 0, 0, 0, 0, 0, 0, 1, 0, 1, 0, 0, 0, 0, 0, 0, 0, 0, 0, 0, 0, 0, 0, 0, 0, 0, 0, 0, 0, 0, 0, 0, 0, 0, 1, 0, 0, 0, 0, 0, 0, 0, 0, 1, 0, 1, 0, 0, 0, 0, 0, 0, 0, 0, 0, 0, 1, 0, 0, 0, 0, 0, 0, 0, 0, 0, 0, 0, 0, 0, 1, 0, 0, 0, 0, 0, 0, 0, 0, 0, 0, 0, 0, 0, 0, 0, 0, 0, 1, 0, 0, 0, 0, 0, 0, 0, 0, 0, 0, 0, 0, 0, 0, 0, 0, 0], ['Environmental Project Analyst', 0, 0, 0, 0, 0, 1, 0, 0, 0, 0, 0, 0, 0, 0, 0, 0, 0, 0, 0, 0, 0, 0, 0, 0, 0, 0, 0, 0, 0, 0, 0, 0, 0, 0, 1, 0, 0, 0, 0, 0, 0, 0, 0, 0, 0, 0, 0, 0, 0, 0, 0, 1, 0, 0, 0, 0, 0, 0, 0, 0, 1, 0, 0, 0, 0, 0, 0, 0, 0, 1, 0, 0, 1, 0, 0, 0, 0, 0, 0, 0, 0, 0, 0, 0, 0, 0, 0, 0, 0, 0, 0, 0, 0, 0, 1, 0, 0, 0, 0, 0, 0, 0, 0, 0, 0, 0, 0, 0, 0, 0, 0, 0, 0, 0, 0, 0, 0, 0, 0, 0, 0, 0, 0, 0, 0, 0, 0, 0, 0, 0, 0, 0, 0, 1, 0, 0, 0, 0, 0, 0, 0, 0, 0, 0, 0, 0, 0, 0, 0, 0, 0, 0, 0, 0, 0], ['Travel Consultant', 0, 0, 0, 0, 0, 0, 0, 0, 0, 0, 0, 0, 0, 0, 0, 0, 0, 0, 0, 0, 0, 0, 0, 0, 0, 0, 0, 0, 0, 0, 0, 0, 0, 0, 0, 0, 0, 0, 0, 0, 0, 0, 0, 0, 0, 0, 0, 0, 0, 0, 0, 0, 0, 0, 0, 0, 0, 0, 0, 0, 0, 0, 0, 0, 0, 0, 0, 0, 0, 0, 0, 0, 0, 0, 0, 0, 0, 0, 0, 0, 0, 0, 0, 0, 0, 0, 0, 0, 0, 0, 0, 0, 0, 0, 1, 0, 0, 0, 0, 0, 0, 0, 0, 0, 0, 0, 0, 0, 0, 0, 0, 0, 0, 0, 0, 0, 0, 0, 0, 0, 0, 0, 0, 0, 0, 0, 0, 0, 0, 0, 0, 0, 0, 0, 0, 0, 0, 0, 0, 0, 0, 0, 0, 0, 0, 0, 0, 0, 0, 0, 0, 0, 0, 0, 0], ['Stationary Engineer', 0, 0, 0, 0, 0, 0, 0, 0, 0, 0, 0, 0, 0, 0, 0, 0, 0, 0, 0, 0, 0, 0, 0, 0, 0, 0, 0, 0, 0, 0, 0, 0, 0, 0, 0, 0, 0, 0, 0, 0, 0, 0, 0, 0, 0, 0, 0, 0, 0, 1, 0, 0, 0, 0, 0, 0, 0, 0, 0, 0, 0, 0, 0, 0, 0, 0, 0, 0, 0, 0, 0, 0, 0, 0, 0, 0, 0, 0, 0, 0, 0, 0, 0, 0, 0, 0, 0, 0, 0, 0, 0, 0, 0, 0, 1, 0, 0, 0, 0, 0, 0, 0, 0, 1, 0, 0, 0, 0, 0, 0, 0, 0, 0, 0, 0, 0, 0, 0, 0, 0, 0, 0, 0, 0, 0, 0, 0, 0, 0, 0, 0, 0, 0, 1, 0, 0, 0, 0, 0, 0, 0, 0, 0, 0, 0, 0, 0, 0, 0, 0, 0, 0, 0, 0, 0], ['Material Handler', 0, 0, 0, 0, 0, 0, 0, 0, 0, 0, 0, 0, 0, 0, 0, 0, 0, 0, 0, 0, 0, 0, 0, 0, 0, 0, 0, 0, 0, 0, 0, 0, 0, 0, 0, 0, 0, 0, 0, 0, 0, 0, 0, 0, 0, 0, 0, 0, 0, 0, 0, 0, 0, 0, 0, 0, 0, 0, 0, 0, 1, 0, 0, 0, 0, 0, 0, 0, 0, 0, 0, 0, 0, 0, 0, 0, 0, 0, 0, 0, 0, 0, 0, 0, 0, 0, 0, 0, 0, 0, 0, 0, 0, 0, 0, 0, 0, 0, 0, 0, 0, 0, 0, 0, 0, 0, 0, 0, 0, 0, 0, 0, 0, 0, 0, 0, 0, 0, 0, 0, 0, 0, 0, 0, 0, 0, 0, 0, 0, 0, 0, 0, 0, 1, 0, 0, 0, 0, 0, 0, 0, 0, 0, 0, 0, 0, 0, 0, 0, 0, 0, 0, 0, 0, 0], ['Healthcare Business Intelligence Manager', 0, 0, 0, 0, 0, 0, 0, 0, 0, 0, 0, 0, 0, 0, 0, 0, 0, 0, 0, 0, 0, 0, 1, 0, 0, 0, 0, 0, 0, 0, 0, 0, 0, 0, 0, 0, 0, 0, 0, 0, 0, 0, 0, 0, 0, 0, 0, 0, 0, 0, 0, 0, 0, 0, 0, 0, 0, 0, 0, 0, 0, 0, 0, 0, 0, 0, 0, 0, 0, 0, 0, 0, 0, 0, 0, 0, 0, 0, 0, 0, 0, 0, 0, 0, 0, 0, 0, 0, 0, 0, 0, 0, 0, 0, 0, 0, 0, 0, 0, 0, 0, 0, 0, 0, 0, 0, 0, 0, 0, 0, 0, 0, 0, 0, 0, 0, 0, 0, 0, 0, 0, 0, 0, 0, 0, 0, 0, 0, 0, 0, 0, 0, 0, 0, 0, 0, 0, 0, 0, 0, 0, 0, 0, 0, 0, 0, 0, 0, 0, 0, 0, 0, 0, 0, 0], ['Senior Competitive Intelligence Manager', 0, 0, 0, 0, 0, 0, 0, 0, 0, 0, 0, 0, 0, 0, 0, 0, 0, 0, 0, 0, 0, 0, 0, 0, 0, 0, 0, 0, 0, 0, 0, 0, 0, 0, 0, 0, 0, 0, 0, 0, 0, 0, 0, 0, 0, 0, 0, 0, 0, 0, 0, 0, 0, 0, 0, 0, 0, 0, 0, 0, 0, 0, 0, 0, 0, 0, 0, 0, 0, 0, 0, 0, 0, 1, 0, 0, 0, 0, 0, 0, 0, 0, 0, 0, 0, 0, 0, 0, 0, 0, 0, 0, 0, 0, 0, 0, 0, 0, 0, 0, 0, 0, 0, 0, 0, 0, 0, 0, 0, 0, 0, 0, 0, 0, 0, 0, 0, 0, 0, 0, 0, 0, 0, 0, 0, 0, 0, 0, 0, 0, 0, 0, 0, 0, 0, 0, 0, 0, 0, 0, 0, 0, 0, 0, 0, 0, 0, 0, 0, 0, 0, 0, 0, 0, 0], ['Quality Assurance Technologist', 0, 0, 0, 0, 0, 0, 0, 0, 0, 0, 0, 0, 0, 0, 0, 0, 0, 0, 0, 0, 0, 0, 0, 0, 0, 0, 0, 0, 0, 0, 0, 0, 0, 0, 0, 0, 0, 0, 0, 0, 0, 0, 0, 0, 0, 0, 0, 0, 0, 0, 0, 0, 0, 0, 0, 0, 0, 0, 0, 0, 0, 0, 0, 0, 0, 0, 0, 0, 0, 0, 0, 0, 0, 0, 0, 0, 0, 0, 0, 0, 0, 0, 0, 0, 0, 0, 0, 0, 0, 0, 0, 0, 0, 0, 0, 0, 0, 0, 0, 0, 0, 0, 0, 0, 0, 0, 0, 0, 0, 0, 0, 0, 0, 0, 0, 0, 0, 0, 0, 0, 0, 0, 0, 0, 0, 0, 0, 0, 0, 0, 0, 0, 0, 1, 0, 0, 0, 0, 0, 0, 0, 0, 0, 0, 0, 0, 0, 0, 0, 0, 0, 0, 0, 0, 0], ['Component Engineer', 0, 0, 0, 0, 0, 0, 0, 0, 0, 0, 0, 0, 0, 0, 0, 0, 0, 0, 0, 0, 0, 0, 0, 0, 0, 0, 0, 0, 0, 0, 0, 0, 0, 0, 0, 0, 0, 0, 0, 0, 0, 0, 0, 0, 0, 0, 0, 0, 0, 0, 0, 0, 0, 0, 0, 0, 0, 0, 0, 0, 0, 0, 0, 0, 0, 0, 0, 0, 0, 0, 0, 0, 0, 1, 0, 0, 0, 0, 0, 0, 0, 0, 0, 0, 0, 0, 0, 0, 0, 0, 0, 0, 0, 0, 0, 0, 0, 0, 0, 0, 0, 0, 0, 0, 0, 0, 0, 0, 0, 0, 0, 0, 0, 0, 0, 0, 0, 0, 0, 0, 0, 0, 0, 0, 0, 0, 0, 0, 0, 0, 0, 0, 0, 1, 0, 0, 0, 0, 0, 0, 0, 0, 0, 0, 0, 0, 0, 0, 0, 0, 0, 0, 0, 0, 0], ['Threat Intelligence Analyst', 0, 0, 0, 0, 0, 0, 0, 0, 0, 0, 0, 0, 0, 0, 0, 0, 0, 0, 0, 0, 0, 0, 0, 0, 0, 0, 0, 1, 0, 0, 0, 0, 0, 0, 1, 0, 0, 0, 0, 0, 0, 0, 0, 0, 0, 0, 0, 0, 0, 0, 0, 0, 0, 0, 0, 0, 0, 0, 0, 0, 0, 0, 0, 0, 0, 0, 0, 0, 0, 0, 0, 0, 0, 0, 0, 0, 0, 0, 0, 0, 0, 0, 0, 0, 0, 0, 0, 0, 0, 0, 0, 0, 0, 0, 0, 0, 0, 0, 0, 0, 0, 0, 0, 0, 0, 0, 0, 0, 0, 0, 0, 0, 0, 0, 0, 0, 0, 0, 0, 0, 0, 0, 0, 0, 1, 0, 0, 0, 0, 0, 0, 0, 0, 0, 0, 0, 0, 0, 0, 0, 0, 0, 0, 0, 0, 0, 0, 0, 0, 0, 0, 0, 0, 0, 0], ['Staff Assistant - Accounting', 0, 0, 0, 0, 0, 1, 0, 0, 0, 0, 1, 0, 0, 0, 0, 0, 0, 0, 0, 0, 1, 0, 0, 0, 0, 0, 0, 0, 0, 0, 0, 0, 0, 0, 0, 0, 0, 0, 0, 0, 0, 0, 0, 0, 0, 0, 0, 0, 0, 1, 0, 1, 0, 0, 0, 0, 0, 0, 0, 0, 0, 0, 0, 0, 0, 0, 0, 0, 0, 1, 0, 0, 1, 1, 0, 0, 0, 0, 0, 0, 0, 1, 0, 0, 0, 0, 0, 0, 0, 1, 1, 0, 0, 0, 1, 0, 0, 0, 0, 0, 1, 0, 0, 0, 0, 0, 0, 0, 0, 0, 0, 0, 0, 0, 0, 0, 0, 0, 0, 0, 0, 0, 0, 0, 0, 0, 1, 0, 0, 1, 0, 0, 0, 1, 0, 0, 0, 0, 0, 0, 0, 0, 0, 0, 0, 0, 0, 0, 0, 0, 0, 0, 0, 0, 0], ['Metal Building Erector', 0, 0, 0, 0, 0, 0, 0, 0, 0, 0, 0, 0, 0, 0, 0, 0, 0, 0, 0, 0, 0, 0, 0, 0, 0, 0, 0, 0, 0, 0, 0, 0, 0, 0, 0, 0, 0, 0, 0, 0, 0, 0, 0, 0, 0, 0, 0, 0, 0, 0, 0, 0, 0, 0, 0, 0, 0, 0, 0, 0, 0, 0, 0, 0, 0, 0, 0, 0, 0, 0, 0, 0, 0, 0, 0, 0, 0, 0, 0, 1, 0, 0, 0, 0, 0, 0, 0, 0, 0, 0, 0, 0, 0, 0, 1, 0, 0, 0, 0, 0, 0, 0, 0, 0, 0, 0, 0, 0, 0, 0, 0, 0, 0, 0, 0, 0, 0, 0, 0, 0, 0, 0, 0, 0, 0, 0, 0, 0, 0, 0, 0, 0, 0, 0, 0, 0, 0, 0, 0, 0, 0, 0, 0, 0, 0, 0, 0, 0, 0, 0, 0, 0, 0, 0, 0], ['Environmental Services Representative', 1, 1, 0, 0, 0, 0, 0, 0, 0, 0, 1, 0, 0, 0, 0, 0, 0, 0, 0, 0, 0, 0, 0, 0, 0, 0, 0, 0, 0, 0, 0, 0, 0, 0, 1, 0, 0, 0, 0, 0, 0, 0, 0, 0, 0, 0, 0, 0, 0, 0, 0, 0, 0, 0, 0, 0, 0, 0, 0, 0, 0, 0, 0, 0, 0, 0, 0, 0, 0, 0, 0, 0, 0, 0, 0, 0, 0, 0, 0, 0, 0, 0, 0, 0, 0, 0, 0, 0, 0, 0, 0, 0, 0, 0, 0, 0, 0, 0, 0, 0, 0, 0, 0, 0, 0, 0, 0, 0, 0, 0, 0, 0, 0, 0, 0, 1, 0, 1, 0, 0, 0, 0, 0, 0, 0, 0, 1, 0, 0, 0, 0, 0, 0, 0, 0, 0, 0, 0, 0, 0, 0, 0, 0, 0, 0, 0, 0, 0, 0, 0, 0, 0, 0, 0, 0], ['Staff Engineer', 0, 0, 0, 0, 0, 0, 0, 0, 0, 0, 0, 0, 0, 0, 0, 1, 0, 0, 0, 1, 0, 0, 0, 0, 0, 0, 0, 0, 0, 0, 0, 0, 0, 0, 0, 0, 0, 0, 0, 0, 0, 0, 0, 0, 0, 0, 0, 0, 0, 0, 0, 0, 0, 0, 0, 0, 0, 0, 0, 0, 0, 0, 0, 0, 0, 1, 0, 0, 1, 0, 0, 0, 0, 0, 0, 0, 0, 0, 0, 0, 0, 0, 0, 0, 0, 0, 0, 0, 0, 0, 0, 0, 0, 0, 0, 0, 0, 0, 0, 0, 0, 0, 0, 0, 0, 0, 0, 0, 0, 0, 0, 0, 0, 0, 0, 0, 0, 0, 0, 0, 0, 0, 0, 0, 0, 0, 0, 0, 0, 0, 0, 1, 0, 0, 0, 0, 0, 0, 0, 0, 0, 0, 0, 0, 0, 0, 0, 0, 0, 0, 0, 0, 0, 0, 0], ['Assistant Technician', 0, 0, 0, 0, 0, 0, 0, 0, 1, 0, 0, 1, 0, 0, 0, 0, 0, 0, 0, 0, 0, 0, 0, 0, 0, 0, 0, 0, 0, 0, 0, 0, 0, 0, 0, 0, 0, 0, 0, 0, 0, 0, 0, 0, 0, 0, 0, 0, 0, 0, 0, 0, 0, 0, 0, 0, 0, 0, 0, 0, 0, 0, 0, 1, 0, 1, 0, 0, 0, 0, 0, 0, 0, 0, 0, 0, 0, 0, 0, 0, 0, 1, 0, 0, 0, 0, 0, 0, 0, 0, 0, 0, 0, 0, 0, 0, 0, 0, 0, 0, 0, 0, 0, 0, 0, 0, 0, 0, 0, 0, 0, 0, 0, 0, 0, 0, 0, 0, 0, 0, 0, 0, 0, 0, 0, 0, 0, 0, 0, 0, 0, 0, 0, 1, 0, 1, 0, 0, 0, 0, 0, 0, 0, 0, 0, 0, 0, 0, 0, 0, 0, 0, 0, 0, 0], ['Project Manager', 0, 0, 0, 0, 1, 0, 0, 0, 1, 0, 0, 0, 0, 1, 0, 0, 1, 0, 0, 0, 0, 0, 1, 0, 0, 0, 0, 0, 0, 0, 0, 0, 0, 0, 0, 0, 0, 0, 0, 1, 0, 0, 0, 0, 0, 0, 0, 0, 0, 0, 0, 0, 0, 0, 0, 0, 0, 0, 0, 0, 0, 0, 0, 0, 0, 1, 0, 0, 0, 1, 0, 0, 1, 0, 0, 0, 0, 0, 0, 0, 0, 0, 0, 0, 0, 0, 0, 0, 0, 0, 0, 0, 0, 0, 0, 0, 0, 0, 0, 0, 0, 0, 0, 0, 0, 0, 0, 0, 0, 0, 0, 0, 0, 0, 0, 0, 0, 0, 0, 0, 1, 0, 0, 1, 0, 0, 0, 0, 0, 0, 0, 0, 0, 1, 0, 0, 0, 0, 0, 0, 0, 0, 0, 0, 0, 0, 0, 0, 0, 0, 0, 0, 0, 1, 0], ['Maintenance Engineer', 0, 0, 0, 0, 0, 0, 0, 0, 0, 0, 0, 0, 0, 0, 0, 0, 0, 0, 0, 0, 0, 0, 0, 0, 0, 0, 0, 0, 0, 0, 0, 0, 0, 0, 0, 0, 0, 0, 0, 0, 0, 0, 0, 0, 0, 0, 0, 0, 0, 0, 0, 0, 0, 0, 0, 0, 0, 0, 0, 0, 0, 0, 0, 0, 0, 0, 0, 0, 0, 0, 0, 0, 0, 0, 0, 0, 0, 0, 0, 0, 0, 0, 0, 0, 0, 0, 0, 0, 0, 0, 1, 0, 0, 0, 0, 0, 0, 0, 0, 0, 0, 0, 0, 0, 0, 0, 0, 0, 0, 0, 0, 0, 0, 0, 0, 0, 0, 0, 0, 0, 0, 0, 0, 0, 0, 0, 0, 0, 0, 0, 0, 0, 0, 0, 0, 0, 0, 0, 0, 0, 0, 0, 0, 0, 0, 0, 0, 0, 0, 0, 0, 0, 0, 0, 1], ['Engineering Technician', 0, 0, 0, 0, 0, 0, 0, 0, 0, 0, 0, 0, 0, 0, 0, 0, 0, 0, 0, 0, 0, 0, 0, 0, 0, 0, 0, 0, 0, 0, 0, 0, 0, 0, 0, 0, 0, 0, 0, 0, 0, 0, 0, 0, 0, 0, 0, 0, 0, 1, 0, 0, 0, 0, 0, 0, 0, 0, 0, 0, 0, 0, 1, 0, 0, 0, 0, 0, 1, 0, 0, 0, 0, 0, 0, 0, 0, 0, 0, 0, 0, 0, 0, 0, 0, 0, 0, 0, 0, 0, 0, 0, 0, 0, 1, 0, 0, 1, 0, 0, 0, 0, 0, 0, 0, 0, 0, 0, 0, 0, 0, 0, 0, 0, 0, 0, 0, 0, 0, 0, 0, 0, 0, 0, 0, 0, 0, 0, 0, 0, 0, 0, 0, 0, 0, 0, 0, 0, 0, 0, 0, 0, 0, 0, 0, 0, 0, 0, 0, 0, 0, 0, 0, 0, 0], ['Director of Hotel Sales', 0, 0, 0, 0, 0, 0, 0, 0, 0, 0, 0, 0, 0, 0, 0, 0, 0, 0, 0, 0, 0, 0, 1, 0, 0, 0, 0, 0, 0, 0, 0, 0, 0, 0, 0, 0, 0, 0, 0, 0, 0, 0, 0, 0, 0, 0, 1, 0, 0, 1, 0, 1, 0, 0, 0, 0, 0, 0, 0, 0, 0, 0, 0, 0, 0, 0, 0, 0, 0, 0, 0, 0, 0, 0, 0, 0, 0, 0, 0, 0, 0, 0, 0, 0, 0, 0, 0, 0, 0, 0, 0, 0, 0, 0, 0, 0, 0, 0, 0, 0, 0, 0, 0, 0, 0, 0, 0, 0, 0, 0, 0, 1, 0, 0, 0, 0, 0, 0, 0, 0, 0, 0, 0, 0, 0, 0, 0, 0, 0, 0, 0, 0, 0, 1, 0, 0, 0, 0, 0, 0, 0, 0, 0, 0, 0, 0, 0, 0, 0, 0, 0, 0, 0, 0, 0], ['Solution Architect Business Intelligence', 0, 0, 0, 0, 0, 0, 0, 0, 0, 0, 0, 0, 0, 0, 0, 0, 0, 0, 0, 0, 0, 0, 0, 0, 0, 0, 0, 0, 0, 0, 0, 0, 0, 0, 0, 0, 0, 1, 0, 0, 1, 0, 0, 0, 0, 0, 0, 0, 0, 0, 0, 0, 0, 0, 0, 0, 0, 0, 0, 0, 0, 0, 0, 0, 0, 1, 0, 0, 1, 0, 0, 0, 0, 0, 0, 0, 0, 0, 0, 0, 0, 0, 0, 0, 0, 0, 0, 0, 0, 1, 0, 0, 0, 0, 0, 0, 0, 0, 0, 0, 0, 0, 0, 0, 0, 0, 0, 0, 0, 0, 0, 0, 0, 0, 0, 0, 0, 0, 0, 0, 0, 0, 0, 0, 0, 0, 0, 0, 0, 0, 0, 1, 0, 0, 0, 0, 0, 0, 0, 0, 0, 0, 0, 0, 0, 0, 0, 0, 0, 1, 0, 0, 1, 0, 0], ['Mutual Fund Analyst', 0, 0, 0, 0, 0, 0, 0, 0, 0, 0, 0, 0, 0, 0, 0, 0, 0, 0, 0, 0, 0, 0, 1, 0, 0, 0, 0, 0, 0, 0, 0, 0, 0, 0, 0, 0, 0, 0, 0, 0, 0, 0, 0, 0, 0, 0, 0, 0, 0, 0, 0, 1, 0, 0, 0, 0, 0, 0, 0, 0, 0, 0, 0, 0, 0, 0, 0, 0, 0, 0, 0, 0, 0, 1, 0, 0, 0, 0, 0, 0, 0, 0, 0, 0, 0, 0, 0, 0, 0, 0, 0, 0, 0, 0, 0, 0, 0, 0, 0, 0, 0, 0, 0, 0, 0, 0, 0, 0, 0, 0, 0, 0, 0, 0, 0, 0, 0, 0, 0, 0, 0, 0, 0, 0, 0, 0, 0, 0, 0, 0, 0, 0, 0, 1, 0, 0, 0, 0, 0, 0, 0, 0, 0, 0, 0, 0, 0, 0, 0, 0, 0, 0, 0, 0, 0], ['Market Access Associate', 0, 1, 0, 0, 0, 0, 0, 0, 0, 0, 0, 0, 0, 0, 0, 0, 0, 0, 0, 0, 0, 0, 0, 0, 0, 0, 0, 0, 0, 0, 0, 0, 0, 0, 0, 0, 0, 0, 0, 0, 0, 0, 0, 0, 0, 0, 0, 1, 1, 1, 0, 1, 0, 0, 0, 0, 0, 0, 0, 0, 1, 0, 0, 1, 0, 0, 0, 0, 0, 0, 0, 0, 0, 1, 0, 0, 0, 0, 0, 0, 0, 0, 0, 0, 0, 0, 0, 0, 0, 0, 0, 0, 0, 0, 0, 0, 0, 0, 0, 0, 0, 0, 0, 0, 0, 0, 0, 0, 0, 0, 0, 0, 0, 0, 0, 0, 0, 0, 0, 0, 0, 0, 0, 0, 0, 0, 0, 0, 0, 0, 0, 0, 0, 0, 0, 0, 0, 0, 0, 0, 0, 0, 0, 0, 0, 0, 0, 0, 0, 0, 0, 0, 0, 0, 0], ['Operations Research Analysis Manager', 0, 0, 0, 0, 0, 0, 0, 0, 1, 0, 0, 0, 0, 1, 0, 0, 0, 0, 0, 1, 0, 0, 0, 0, 1, 0, 0, 0, 0, 0, 0, 0, 0, 0, 0, 0, 0, 0, 0, 0, 0, 0, 0, 0, 1, 0, 0, 0, 1, 0, 0, 0, 0, 0, 0, 0, 0, 0, 0, 0, 0, 0, 0, 0, 0, 1, 0, 0, 0, 1, 0, 0, 0, 1, 1, 0, 0, 0, 0, 0, 0, 0, 0, 0, 0, 0, 0, 0, 0, 1, 0, 0, 0, 0, 0, 0, 0, 0, 1, 0, 0, 0, 0, 0, 0, 0, 0, 0, 0, 0, 0, 0, 0, 0, 0, 0, 0, 0, 0, 0, 1, 0, 0, 0, 0, 0, 0, 0, 0, 0, 0, 1, 0, 0, 0, 0, 0, 0, 0, 0, 0, 0, 0, 0, 0, 0, 0, 0, 0, 0, 0, 0, 0, 0, 1], ['Bellman', 0, 0, 0, 0, 0, 0, 0, 0, 0, 1, 0, 0, 0, 0, 0, 0, 0, 0, 0, 0, 0, 0, 0, 0, 0, 0, 0, 0, 0, 0, 0, 0, 0, 0, 0, 0, 1, 0, 0, 0, 0, 0, 0, 0, 0, 0, 0, 0, 0, 0, 0, 1, 0, 0, 0, 0, 0, 0, 0, 0, 0, 0, 0, 0, 0, 0, 0, 0, 0, 0, 0, 0, 0, 0, 0, 0, 0, 0, 0, 0, 0, 0, 0, 0, 0, 0, 0, 0, 0, 0, 0, 0, 0, 0, 0, 0, 0, 0, 0, 0, 0, 0, 0, 0, 0, 0, 1, 0, 0, 0, 0, 0, 0, 0, 0, 0, 0, 0, 0, 0, 0, 0, 0, 0, 1, 0, 0, 0, 0, 0, 0, 0, 0, 0, 0, 0, 0, 0, 0, 0, 0, 0, 0, 0, 0, 0, 0, 0, 0, 0, 0, 0, 0, 0, 0], ['Real Estate Appraiser', 0, 0, 0, 0, 0, 0, 0, 0, 1, 0, 0, 0, 0, 0, 0, 0, 0, 0, 0, 0, 0, 0, 0, 0, 0, 0, 0, 0, 0, 0, 0, 0, 0, 0, 1, 1, 0, 0, 0, 0, 0, 0, 0, 0, 1, 0, 0, 0, 0, 1, 1, 0, 0, 0, 0, 0, 0, 0, 0, 0, 1, 0, 0, 1, 0, 0, 0, 0, 0, 1, 0, 0, 1, 0, 0, 0, 0, 0, 0, 0, 0, 0, 0, 0, 0, 0, 0, 0, 0, 0, 0, 0, 0, 0, 1, 0, 0, 0, 1, 0, 0, 0, 0, 0, 0, 0, 0, 0, 0, 0, 0, 0, 0, 0, 0, 0, 0, 0, 0, 0, 0, 0, 0, 0, 0, 0, 0, 0, 0, 0, 0, 0, 0, 0, 0, 0, 0, 0, 0, 1, 0, 0, 0, 0, 0, 0, 1, 0, 0, 0, 0, 0, 0, 0, 0], ['Human Resources Director', 0, 0, 0, 0, 0, 0, 0, 0, 0, 0, 0, 0, 0, 0, 0, 0, 0, 0, 0, 0, 0, 0, 0, 0, 0, 0, 0, 0, 0, 0, 0, 0, 0, 0, 0, 0, 0, 0, 0, 0, 0, 0, 0, 0, 0, 0, 0, 0, 0, 0, 0, 0, 0, 0, 0, 0, 0, 0, 0, 0, 0, 0, 0, 0, 0, 0, 0, 0, 0, 0, 0, 0, 0, 0, 0, 0, 0, 0, 0, 0, 0, 0, 0, 0, 0, 0, 0, 0, 0, 0, 0, 0, 0, 0, 1, 0, 0, 0, 0, 0, 0, 0, 0, 0, 0, 0, 0, 0, 0, 0, 0, 0, 0, 0, 0, 0, 0, 0, 0, 0, 0, 0, 0, 0, 0, 0, 0, 0, 0, 0, 0, 0, 0, 0, 0, 0, 0, 0, 0, 0, 0, 0, 0, 0, 0, 0, 0, 0, 0, 0, 0, 0, 0, 0, 0], ['Crew Scheduling Manager', 0, 0, 0, 0, 0, 0, 0, 0, 0, 0, 0, 0, 0, 0, 0, 0, 0, 0, 0, 0, 0, 0, 1, 0, 0, 0, 0, 0, 0, 0, 0, 0, 0, 0, 0, 0, 0, 0, 0, 0, 0, 0, 0, 0, 0, 0, 0, 0, 0, 0, 0, 1, 0, 0, 0, 0, 0, 0, 0, 0, 0, 0, 0, 0, 0, 0, 0, 0, 0, 0, 0, 0, 0, 0, 0, 0, 0, 0, 0, 0, 0, 0, 0, 0, 0, 0, 0, 0, 0, 0, 0, 0, 0, 0, 0, 0, 0, 0, 0, 0, 0, 0, 0, 0, 0, 0, 0, 0, 0, 0, 0, 0, 0, 0, 0, 0, 0, 0, 0, 0, 0, 0, 0, 0, 0, 0, 0, 0, 0, 0, 0, 0, 0, 0, 0, 0, 0, 0, 0, 0, 0, 0, 0, 0, 0, 0, 0, 0, 0, 0, 0, 0, 0, 0, 0], ['Controller', 0, 0, 0, 0, 0, 0, 0, 0, 0, 0, 0, 0, 0, 0, 0, 0, 0, 0, 0, 0, 0, 0, 0, 0, 0, 0, 0, 0, 0, 0, 0, 0, 0, 0, 1, 0, 0, 0, 0, 0, 0, 0, 0, 0, 0, 0, 0, 0, 0, 0, 0, 0, 0, 0, 0, 0, 0, 0, 0, 0, 0, 0, 0, 0, 0, 0, 0, 0, 0, 0, 0, 0, 0, 0, 0, 0, 0, 0, 0, 0, 0, 0, 0, 0, 0, 0, 0, 0, 0, 0, 0, 0, 0, 0, 0, 0, 0, 0, 0, 0, 0, 0, 0, 0, 0, 0, 0, 0, 0, 0, 0, 0, 0, 0, 0, 0, 0, 0, 0, 0, 0, 0, 0, 0, 0, 0, 0, 0, 0, 0, 0, 0, 0, 0, 0, 0, 0, 0, 0, 0, 0, 0, 0, 0, 0, 0, 0, 0, 0, 0, 0, 0, 0, 0, 0], ['Senior Manager Yield and Revenue Management', 0, 0, 0, 0, 0, 0, 0, 0, 0, 0, 0, 0, 0, 0, 0, 0, 0, 0, 0, 0, 0, 0, 0, 0, 0, 0, 0, 0, 0, 0, 0, 0, 0, 0, 0, 0, 0, 0, 0, 0, 0, 0, 0, 0, 0, 0, 1, 0, 0, 0, 0, 0, 0, 0, 0, 0, 0, 0, 0, 0, 0, 0, 0, 0, 0, 0, 0, 0, 0, 0, 0, 0, 0, 1, 0, 0, 0, 0, 0, 0, 0, 0, 0, 0, 0, 0, 0, 0, 0, 0, 0, 0, 0, 0, 1, 0, 0, 0, 0, 0, 0, 0, 0, 0, 0, 0, 0, 0, 0, 0, 0, 0, 0, 0, 0, 0, 0, 0, 0, 0, 0, 0, 0, 0, 0, 0, 0, 0, 0, 0, 0, 0, 0, 0, 0, 0, 1, 0, 0, 0, 0, 0, 0, 0, 0, 0, 0, 0, 0, 0, 0, 0, 0, 0, 0], ['Transportation Project Manager', 0, 0, 0, 0, 0, 0, 0, 0, 0, 0, 0, 0, 0, 0, 0, 0, 0, 0, 0, 0, 0, 0, 0, 0, 0, 0, 0, 1, 0, 0, 0, 0, 0, 0, 0, 0, 0, 0, 0, 0, 0, 0, 0, 0, 0, 0, 1, 0, 0, 0, 0, 0, 0, 0, 0, 0, 0, 0, 0, 0, 0, 0, 0, 0, 0, 0, 0, 0, 0, 0, 0, 0, 0, 0, 0, 0, 0, 0, 0, 0, 0, 0, 0, 0, 0, 0, 0, 0, 0, 0, 0, 0, 0, 0, 1, 0, 0, 0, 0, 0, 0, 0, 0, 0, 0, 0, 0, 0, 0, 0, 0, 0, 0, 0, 0, 0, 0, 0, 0, 0, 0, 0, 0, 0, 0, 0, 0, 0, 0, 0, 0, 0, 0, 1, 0, 0, 0, 0, 0, 0, 0, 0, 0, 0, 0, 0, 0, 0, 0, 0, 0, 0, 0, 0, 0], ['Chemical Technician', 0, 1, 0, 0, 0, 0, 0, 0, 0, 0, 0, 0, 0, 0, 0, 0, 0, 0, 0, 0, 0, 0, 0, 0, 0, 0, 0, 0, 0, 0, 0, 0, 0, 0, 0, 0, 0, 0, 0, 0, 0, 0, 0, 0, 0, 0, 0, 0, 0, 0, 0, 0, 0, 0, 0, 0, 0, 0, 0, 0, 0, 0, 0, 0, 0, 0, 0, 0, 0, 0, 0, 0, 0, 0, 0, 0, 0, 0, 0, 0, 0, 0, 0, 0, 0, 0, 0, 0, 0, 0, 0, 0, 0, 0, 0, 0, 0, 0, 0, 0, 0, 0, 0, 0, 0, 0, 0, 0, 0, 0, 0, 0, 0, 0, 0, 0, 0, 0, 0, 0, 0, 0, 0, 0, 0, 0, 0, 0, 0, 0, 0, 0, 0, 0, 0, 0, 0, 0, 0, 0, 0, 0, 0, 0, 0, 0, 0, 0, 0, 0, 0, 0, 0, 0, 0], ['Investment Advisor', 0, 1, 0, 0, 0, 1, 0, 0, 0, 0, 0, 0, 0, 0, 0, 0, 1, 0, 0, 0, 0, 0, 1, 0, 0, 0, 0, 0, 0, 0, 0, 0, 0, 0, 1, 0, 0, 0, 0, 0, 0, 0, 0, 0, 0, 0, 0, 0, 0, 0, 1, 0, 0, 0, 0, 0, 0, 0, 0, 0, 0, 0, 0, 0, 0, 0, 0, 0, 0, 1, 0, 0, 1, 1, 0, 0, 0, 0, 0, 0, 0, 0, 0, 0, 0, 0, 0, 0, 0, 0, 1, 0, 0, 0, 1, 1, 0, 0, 0, 0, 0, 0, 0, 0, 0, 0, 0, 0, 0, 0, 0, 0, 0, 1, 0, 0, 0, 0, 0, 0, 0, 0, 0, 0, 0, 0, 0, 0, 0, 0, 0, 0, 0, 1, 0, 0, 1, 0, 1, 1, 0, 0, 0, 0, 0, 0, 0, 0, 0, 0, 0, 0, 0, 0, 0], ['Oceanographer', 0, 0, 0, 0, 0, 0, 0, 0, 0, 0, 0, 0, 0, 0, 0, 0, 0, 0, 0, 0, 0, 0, 0, 0, 0, 0, 0, 0, 0, 0, 0, 0, 0, 0, 0, 0, 0, 0, 0, 0, 0, 0, 0, 0, 0, 0, 0, 0, 0, 0, 0, 0, 0, 0, 0, 0, 0, 0, 0, 0, 0, 0, 0, 0, 0, 0, 0, 0, 0, 0, 0, 0, 0, 0, 0, 0, 0, 0, 0, 0, 0, 0, 0, 0, 0, 0, 0, 0, 0, 0, 0, 0, 0, 0, 0, 0, 0, 0, 0, 0, 0, 0, 0, 0, 0, 0, 0, 0, 0, 0, 0, 0, 0, 0, 0, 0, 0, 0, 0, 0, 0, 0, 0, 0, 0, 0, 0, 0, 0, 0, 0, 0, 0, 1, 0, 0, 0, 0, 0, 0, 0, 0, 0, 0, 0, 0, 0, 0, 0, 0, 0, 0, 0, 0, 0], ['Sales Coordinator', 0, 0, 0, 0, 0, 0, 0, 0, 0, 0, 0, 0, 0, 0, 0, 0, 0, 0, 0, 0, 0, 0, 0, 0, 0, 0, 0, 0, 0, 0, 0, 0, 0, 0, 0, 0, 0, 0, 0, 0, 0, 0, 0, 0, 0, 0, 0, 0, 0, 0, 0, 0, 0, 0, 0, 0, 0, 0, 0, 0, 0, 0, 0, 0, 0, 0, 0, 0, 0, 0, 0, 0, 0, 0, 0, 0, 0, 0, 0, 0, 0, 0, 0, 0, 0, 0, 0, 0, 0, 0, 0, 0, 0, 0, 1, 0, 0, 0, 0, 0, 0, 0, 0, 0, 0, 0, 0, 0, 0, 0, 0, 0, 0, 0, 0, 0, 0, 0, 0, 0, 0, 0, 0, 0, 0, 0, 0, 0, 0, 0, 0, 0, 0, 1, 0, 0, 0, 0, 0, 0, 0, 0, 0, 0, 0, 0, 0, 0, 0, 0, 0, 0, 0, 0, 0], ['Concierge', 0, 0, 0, 0, 0, 0, 0, 0, 0, 0, 0, 0, 0, 0, 0, 0, 0, 0, 0, 0, 0, 0, 0, 0, 0, 0, 0, 0, 0, 0, 0, 0, 0, 0, 0, 0, 0, 0, 0, 0, 0, 0, 0, 0, 0, 0, 0, 0, 0, 1, 0, 0, 0, 0, 0, 0, 0, 0, 0, 0, 0, 0, 0, 0, 0, 0, 0, 0, 0, 0, 0, 0, 0, 0, 0, 0, 0, 0, 0, 0, 0, 0, 0, 0, 0, 0, 0, 0, 0, 0, 0, 0, 0, 0, 0, 0, 0, 0, 0, 0, 0, 0, 0, 0, 0, 0, 0, 0, 0, 0, 0, 0, 0, 0, 0, 0, 0, 0, 0, 0, 0, 0, 0, 0, 0, 0, 0, 0, 0, 0, 0, 0, 0, 0, 0, 0, 0, 0, 0, 0, 0, 0, 0, 0, 0, 0, 0, 0, 0, 0, 0, 0, 0, 0, 0], ['Institutional Research Business Intelligence Systems Analyst', 0, 0, 0, 0, 0, 0, 0, 0, 0, 0, 0, 0, 0, 0, 0, 0, 0, 0, 0, 0, 0, 0, 1, 0, 0, 0, 0, 0, 0, 0, 0, 0, 0, 0, 0, 0, 0, 0, 0, 0, 0, 0, 0, 0, 0, 0, 0, 0, 0, 1, 0, 1, 0, 0, 0, 0, 0, 0, 0, 0, 0, 0, 0, 0, 0, 0, 0, 0, 0, 0, 0, 0, 0, 1, 0, 0, 0, 0, 0, 0, 0, 0, 0, 0, 0, 0, 0, 0, 0, 0, 0, 0, 0, 0, 0, 0, 0, 0, 0, 0, 0, 0, 0, 0, 0, 0, 0, 0, 0, 0, 0, 0, 0, 0, 0, 0, 0, 0, 0, 0, 0, 0, 0, 0, 0, 0, 0, 0, 0, 0, 0, 0, 0, 0, 0, 0, 0, 0, 0, 0, 0, 0, 0, 0, 0, 0, 0, 0, 0, 0, 0, 0, 0, 0, 0], ['Producer', 0, 0, 0, 0, 0, 0, 0, 0, 0, 0, 0, 0, 0, 0, 0, 0, 0, 0, 0, 0, 0, 0, 0, 0, 0, 0, 0, 0, 0, 0, 0, 0, 0, 0, 0, 0, 0, 0, 0, 0, 0, 0, 0, 0, 0, 0, 0, 0, 0, 1, 0, 1, 0, 0, 0, 0, 0, 0, 0, 0, 1, 0, 0, 0, 0, 0, 0, 0, 1, 0, 0, 0, 0, 0, 0, 0, 0, 0, 0, 0, 0, 1, 0, 0, 0, 0, 0, 0, 0, 0, 0, 0, 0, 1, 0, 0, 0, 0, 0, 0, 1, 0, 0, 0, 0, 0, 0, 0, 0, 0, 0, 0, 0, 0, 0, 0, 0, 0, 0, 0, 0, 0, 0, 0, 0, 0, 0, 0, 0, 0, 0, 0, 0, 0, 0, 0, 0, 0, 0, 0, 0, 0, 0, 0, 0, 0, 0, 0, 0, 0, 1, 0, 0, 0, 0], ['Commercial Sales Representative', 0, 0, 0, 0, 0, 0, 0, 0, 0, 0, 0, 0, 0, 0, 0, 0, 0, 0, 0, 0, 0, 0, 0, 0, 0, 0, 0, 0, 0, 0, 0, 0, 0, 0, 0, 0, 0, 0, 0, 0, 0, 0, 0, 0, 0, 0, 0, 0, 0, 1, 0, 0, 0, 0, 0, 0, 0, 0, 0, 0, 1, 0, 0, 0, 0, 0, 0, 0, 1, 0, 0, 0, 0, 0, 0, 0, 0, 0, 0, 0, 0, 0, 0, 0, 0, 0, 0, 0, 0, 0, 0, 0, 0, 0, 0, 0, 0, 0, 0, 0, 1, 0, 0, 0, 0, 0, 0, 0, 0, 0, 0, 0, 0, 0, 0, 0, 0, 0, 0, 0, 0, 0, 0, 0, 0, 0, 0, 0, 0, 0, 0, 0, 0, 0, 0, 0, 0, 0, 0, 0, 0, 0, 0, 0, 0, 0, 0, 0, 0, 0, 0, 0, 0, 0, 0], ['Electrical Design Engineer', 0, 0, 0, 0, 0, 0, 0, 0, 0, 0, 0, 0, 0, 0, 0, 0, 0, 0, 0, 0, 0, 0, 0, 0, 0, 0, 0, 0, 0, 0, 0, 0, 0, 0, 0, 0, 0, 0, 0, 0, 0, 0, 0, 0, 0, 0, 0, 0, 0, 0, 0, 0, 0, 0, 0, 0, 0, 0, 0, 0, 0, 0, 0, 0, 0, 0, 0, 0, 0, 0, 0, 0, 0, 1, 0, 0, 0, 0, 0, 0, 0, 0, 0, 0, 0, 0, 0, 0, 0, 0, 0, 0, 0, 0, 0, 0, 0, 0, 0, 0, 1, 0, 0, 0, 0, 0, 0, 0, 0, 0, 0, 0, 0, 0, 0, 0, 0, 0, 0, 0, 0, 0, 0, 0, 0, 0, 0, 0, 0, 0, 0, 0, 0, 1, 0, 0, 0, 0, 0, 0, 0, 0, 0, 0, 0, 0, 0, 0, 0, 0, 0, 0, 0, 0, 0], ['Marketing Consultant', 0, 0, 0, 0, 0, 0, 0, 0, 0, 0, 0, 0, 0, 0, 0, 0, 0, 0, 0, 0, 0, 0, 0, 0, 0, 0, 0, 0, 0, 0, 0, 0, 0, 0, 1, 0, 0, 0, 0, 0, 0, 0, 0, 0, 0, 0, 0, 0, 0, 0, 0, 0, 0, 0, 0, 0, 0, 0, 0, 0, 0, 0, 0, 0, 0, 0, 0, 0, 0, 0, 0, 0, 0, 1, 0, 0, 0, 0, 0, 0, 0, 0, 0, 0, 0, 0, 0, 0, 0, 0, 0, 0, 0, 0, 0, 0, 0, 0, 0, 0, 0, 0, 0, 0, 0, 0, 0, 0, 0, 0, 0, 0, 0, 0, 0, 0, 0, 0, 0, 0, 0, 0, 0, 0, 0, 0, 0, 0, 0, 0, 0, 0, 0, 1, 0, 0, 0, 0, 0, 0, 0, 0, 0, 0, 0, 0, 0, 0, 0, 0, 0, 0, 0, 0, 0], ['Senior Manager of Industry Analytics', 0, 0, 0, 0, 0, 0, 0, 0, 0, 0, 0, 0, 0, 0, 0, 0, 0, 0, 0, 0, 0, 0, 1, 0, 0, 0, 0, 0, 0, 0, 0, 0, 0, 0, 0, 0, 0, 0, 0, 0, 0, 0, 0, 0, 0, 0, 1, 0, 0, 1, 0, 1, 0, 0, 0, 0, 0, 0, 0, 0, 0, 0, 0, 0, 0, 0, 0, 0, 0, 0, 0, 0, 0, 0, 0, 0, 0, 0, 0, 0, 0, 0, 0, 0, 0, 0, 0, 0, 0, 0, 0, 0, 0, 0, 0, 0, 0, 0, 0, 0, 0, 0, 0, 0, 0, 0, 0, 0, 0, 0, 0, 1, 0, 0, 0, 0, 0, 0, 0, 0, 0, 0, 0, 0, 0, 0, 0, 0, 0, 0, 0, 0, 0, 0, 0, 0, 0, 0, 0, 0, 0, 0, 0, 0, 0, 0, 0, 0, 0, 0, 0, 0, 0, 0, 0], ['Valet Parker', 0, 0, 0, 0, 0, 1, 0, 0, 0, 0, 0, 0, 0, 0, 0, 0, 0, 0, 0, 0, 0, 0, 0, 0, 0, 0, 0, 0, 1, 0, 0, 0, 0, 0, 0, 0, 0, 0, 0, 0, 0, 0, 0, 0, 0, 0, 0, 0, 0, 0, 0, 0, 0, 0, 0, 0, 0, 0, 0, 0, 0, 0, 0, 0, 0, 0, 0, 0, 0, 0, 0, 0, 0, 0, 0, 0, 0, 0, 0, 0, 0, 0, 0, 0, 0, 0, 0, 0, 0, 0, 0, 0, 0, 0, 0, 0, 1, 0, 0, 0, 0, 0, 0, 0, 0, 0, 0, 0, 0, 0, 0, 0, 0, 0, 0, 0, 0, 0, 0, 0, 0, 0, 0, 0, 0, 0, 0, 0, 0, 0, 0, 0, 0, 0, 0, 0, 0, 0, 0, 0, 0, 0, 0, 0, 0, 0, 0, 0, 0, 0, 0, 0, 0, 0, 0], ['Organic Lab Research Assistant', 0, 0, 0, 0, 0, 0, 0, 0, 0, 0, 1, 0, 1, 0, 0, 0, 0, 0, 0, 0, 0, 0, 0, 0, 0, 0, 0, 1, 0, 0, 0, 0, 0, 0, 1, 0, 0, 0, 0, 0, 0, 0, 0, 0, 0, 0, 0, 0, 0, 0, 0, 0, 0, 1, 0, 0, 0, 0, 0, 0, 0, 1, 0, 0, 0, 0, 0, 0, 0, 0, 0, 0, 0, 0, 0, 0, 0, 0, 0, 0, 0, 0, 1, 0, 0, 0, 0, 0, 0, 0, 0, 0, 0, 0, 1, 0, 0, 0, 0, 0, 0, 0, 0, 0, 0, 0, 0, 0, 0, 0, 0, 0, 0, 0, 0, 0, 0, 0, 0, 0, 0, 0, 0, 0, 0, 0, 0, 0, 0, 0, 0, 0, 0, 0, 0, 0, 0, 0, 0, 0, 0, 0, 0, 0, 0, 0, 0, 0, 0, 0, 0, 0, 0, 0, 0], ['Pharmacy Assistant', 0, 0, 0, 0, 0, 0, 0, 0, 0, 0, 1, 0, 1, 0, 0, 0, 0, 0, 0, 0, 0, 0, 0, 0, 0, 0, 0, 1, 0, 0, 0, 0, 0, 0, 1, 0, 0, 0, 0, 0, 0, 0, 0, 0, 0, 0, 0, 0, 0, 0, 0, 1, 0, 1, 0, 0, 0, 0, 0, 0, 0, 1, 0, 0, 0, 0, 0, 0, 0, 0, 0, 0, 0, 1, 0, 0, 0, 0, 0, 0, 0, 0, 1, 0, 0, 0, 0, 0, 0, 0, 1, 0, 0, 0, 1, 0, 0, 0, 0, 0, 0, 0, 0, 0, 0, 0, 0, 0, 0, 0, 0, 1, 0, 0, 0, 0, 0, 0, 0, 0, 0, 0, 0, 0, 0, 0, 0, 0, 0, 0, 0, 0, 0, 1, 0, 0, 0, 0, 0, 0, 0, 0, 0, 0, 0, 0, 0, 0, 0, 0, 0, 0, 0, 0, 0], ['Lineman', 0, 0, 0, 0, 0, 0, 0, 0, 0, 0, 0, 0, 0, 0, 0, 0, 0, 0, 0, 0, 0, 0, 0, 0, 0, 0, 0, 0, 0, 0, 0, 0, 0, 0, 0, 0, 0, 0, 0, 0, 0, 0, 0, 0, 0, 0, 0, 0, 0, 0, 0, 1, 0, 0, 0, 0, 0, 0, 0, 0, 0, 0, 0, 0, 0, 0, 0, 0, 0, 0, 0, 0, 0, 1, 0, 0, 0, 0, 0, 0, 0, 0, 0, 0, 0, 0, 0, 0, 0, 0, 1, 0, 0, 0, 0, 0, 0, 0, 0, 0, 0, 0, 0, 0, 0, 0, 0, 0, 0, 0, 0, 0, 0, 0, 0, 0, 0, 0, 0, 0, 0, 0, 0, 0, 0, 0, 0, 0, 0, 0, 0, 0, 0, 0, 0, 0, 0, 0, 0, 0, 0, 0, 0, 0, 0, 0, 0, 0, 0, 0, 0, 0, 0, 0, 0], ['Compensation Manager', 0, 0, 1, 0, 0, 0, 0, 0, 0, 0, 0, 0, 0, 0, 0, 0, 0, 0, 0, 0, 0, 0, 1, 0, 0, 0, 0, 0, 0, 0, 0, 0, 0, 0, 0, 0, 0, 0, 0, 0, 0, 0, 0, 1, 0, 0, 0, 1, 0, 1, 0, 0, 0, 0, 0, 1, 0, 0, 0, 0, 0, 0, 0, 1, 0, 0, 1, 0, 0, 1, 0, 0, 0, 0, 0, 0, 0, 0, 0, 0, 0, 0, 0, 0, 0, 0, 0, 0, 0, 0, 1, 0, 0, 0, 0, 0, 0, 0, 0, 0, 0, 0, 0, 0, 0, 0, 0, 0, 0, 0, 0, 0, 0, 0, 0, 0, 0, 0, 0, 0, 0, 0, 0, 0, 0, 1, 0, 0, 0, 0, 0, 0, 0, 0, 0, 0, 0, 0, 0, 0, 0, 0, 0, 0, 0, 0, 0, 0, 0, 0, 0, 0, 0, 0, 0], ['Golf Pro', 0, 1, 0, 0, 0, 0, 0, 0, 0, 0, 0, 0, 0, 0, 0, 0, 0, 0, 0, 0, 0, 0, 1, 0, 0, 0, 0, 0, 0, 0, 0, 0, 0, 0, 1, 0, 0, 0, 0, 0, 0, 0, 0, 0, 0, 0, 0, 0, 0, 0, 0, 0, 0, 0, 0, 0, 0, 0, 0, 0, 0, 0, 0, 0, 0, 0, 0, 0, 1, 0, 0, 0, 0, 0, 0, 0, 0, 0, 0, 0, 0, 0, 0, 0, 0, 0, 0, 0, 0, 0, 0, 0, 0, 0, 0, 0, 0, 0, 0, 0, 0, 0, 0, 0, 0, 0, 0, 0, 0, 0, 0, 0, 0, 0, 0, 0, 0, 0, 0, 0, 0, 0, 0, 0, 0, 0, 0, 0, 0, 0, 0, 0, 0, 1, 0, 0, 0, 0, 0, 0, 0, 0, 0, 0, 0, 0, 0, 0, 0, 0, 0, 0, 0, 0, 0], ['Principal Service Engineer', 0, 0, 0, 0, 0, 0, 0, 0, 0, 0, 0, 0, 0, 0, 0, 0, 0, 0, 0, 0, 0, 0, 0, 0, 0, 0, 0, 0, 0, 0, 0, 0, 0, 0, 0, 0, 0, 0, 0, 0, 0, 0, 0, 0, 0, 0, 0, 0, 0, 1, 0, 0, 0, 0, 0, 0, 0, 0, 0, 0, 0, 0, 0, 0, 0, 0, 0, 0, 0, 0, 0, 0, 0, 0, 0, 0, 0, 0, 0, 0, 0, 0, 0, 0, 0, 0, 0, 0, 0, 0, 0, 0, 0, 0, 1, 0, 0, 0, 0, 0, 0, 0, 0, 0, 0, 0, 0, 0, 0, 0, 0, 0, 0, 0, 0, 0, 0, 0, 0, 0, 0, 0, 0, 0, 0, 0, 0, 0, 0, 0, 0, 0, 0, 0, 0, 0, 0, 0, 0, 0, 0, 0, 0, 0, 0, 0, 0, 0, 0, 0, 0, 0, 0, 0, 0], ['Retail Sales Associate', 0, 0, 0, 0, 0, 0, 0, 0, 0, 0, 0, 0, 0, 0, 0, 0, 0, 0, 0, 0, 0, 0, 0, 0, 0, 0, 0, 0, 0, 0, 0, 0, 0, 0, 1, 0, 0, 0, 0, 0, 0, 0, 0, 0, 0, 0, 0, 0, 0, 0, 0, 0, 0, 0, 0, 0, 0, 0, 0, 0, 0, 0, 0, 0, 0, 0, 0, 0, 0, 0, 0, 0, 0, 0, 0, 0, 0, 0, 0, 0, 0, 0, 0, 0, 0, 0, 0, 0, 0, 0, 0, 0, 0, 0, 0, 0, 0, 0, 0, 0, 0, 0, 0, 0, 0, 0, 0, 0, 0, 0, 0, 0, 0, 0, 0, 0, 0, 0, 0, 0, 0, 0, 0, 0, 0, 0, 0, 0, 0, 0, 0, 0, 0, 1, 0, 0, 0, 0, 0, 0, 0, 0, 0, 0, 0, 0, 0, 0, 0, 0, 0, 0, 0, 0, 0], ['Group Sales Management', 0, 1, 0, 0, 0, 0, 0, 0, 0, 0, 0, 0, 0, 0, 0, 0, 0, 0, 0, 0, 0, 0, 1, 0, 0, 0, 0, 0, 0, 0, 0, 0, 0, 0, 1, 0, 0, 0, 0, 0, 0, 0, 0, 0, 0, 0, 0, 0, 0, 1, 0, 1, 0, 0, 0, 0, 0, 0, 0, 1, 0, 0, 0, 0, 0, 0, 0, 0, 0, 0, 0, 0, 1, 1, 0, 0, 0, 0, 0, 0, 0, 0, 0, 0, 0, 0, 0, 0, 0, 0, 1, 0, 0, 0, 0, 0, 0, 0, 0, 0, 0, 0, 0, 0, 0, 0, 0, 0, 0, 0, 0, 0, 0, 0, 1, 0, 0, 0, 0, 0, 0, 0, 0, 0, 0, 0, 0, 0, 0, 0, 0, 0, 0, 1, 0, 0, 0, 0, 0, 0, 0, 0, 0, 0, 0, 0, 0, 0, 0, 0, 0, 0, 0, 0, 0], ['Club Representative', 0, 0, 0, 0, 0, 0, 0, 0, 0, 0, 0, 0, 0, 0, 0, 0, 1, 0, 0, 0, 0, 0, 1, 0, 0, 0, 1, 0, 0, 0, 0, 0, 0, 0, 0, 0, 0, 0, 0, 0, 0, 0, 0, 1, 0, 0, 0, 1, 1, 0, 0, 0, 0, 0, 1, 0, 0, 0, 0, 0, 1, 0, 0, 0, 0, 0, 1, 0, 1, 0, 1, 0, 0, 0, 0, 0, 1, 0, 0, 0, 0, 0, 0, 0, 0, 0, 0, 0, 0, 0, 0, 0, 0, 0, 0, 0, 0, 0, 0, 0, 0, 0, 0, 0, 0, 0, 0, 0, 0, 0, 0, 0, 0, 0, 0, 0, 0, 0, 0, 0, 0, 0, 0, 0, 0, 0, 0, 0, 0, 0, 0, 0, 0, 1, 0, 0, 0, 0, 0, 0, 0, 0, 0, 0, 1, 1, 0, 0, 0, 0, 0, 0, 0, 0, 0], ['Client Service Specialist', 0, 0, 0, 0, 0, 0, 0, 0, 0, 0, 0, 0, 0, 0, 0, 0, 0, 0, 0, 0, 0, 0, 1, 0, 0, 0, 0, 0, 0, 1, 0, 0, 0, 1, 1, 0, 0, 0, 0, 0, 0, 0, 0, 0, 0, 0, 0, 0, 0, 1, 0, 0, 0, 0, 0, 0, 0, 0, 0, 0, 0, 0, 0, 0, 0, 0, 0, 0, 0, 0, 0, 0, 0, 0, 0, 0, 0, 0, 0, 0, 0, 0, 0, 0, 0, 0, 0, 0, 0, 0, 0, 0, 0, 0, 1, 0, 0, 0, 0, 0, 0, 0, 0, 0, 0, 0, 1, 0, 0, 0, 0, 0, 0, 0, 0, 0, 0, 0, 0, 0, 0, 0, 0, 1, 0, 0, 0, 0, 0, 0, 0, 0, 0, 1, 0, 0, 0, 0, 0, 0, 0, 0, 0, 0, 0, 0, 0, 0, 0, 0, 0, 0, 0, 0, 0], ['Operations Agent', 0, 0, 0, 0, 0, 0, 0, 0, 0, 0, 0, 0, 0, 0, 0, 0, 0, 0, 0, 0, 0, 0, 0, 0, 0, 0, 0, 0, 0, 0, 0, 0, 0, 0, 0, 0, 0, 0, 0, 0, 0, 0, 0, 0, 0, 0, 0, 0, 0, 0, 0, 1, 0, 0, 0, 0, 0, 0, 0, 0, 0, 0, 0, 0, 0, 0, 0, 0, 0, 0, 0, 0, 0, 0, 0, 0, 0, 0, 0, 0, 0, 0, 0, 0, 0, 0, 0, 0, 0, 0, 0, 0, 0, 0, 0, 0, 0, 0, 0, 0, 0, 0, 0, 0, 0, 0, 0, 0, 0, 0, 0, 0, 0, 0, 0, 0, 0, 0, 0, 0, 0, 0, 0, 0, 0, 0, 0, 0, 0, 0, 0, 0, 0, 1, 0, 0, 0, 0, 0, 0, 0, 0, 0, 0, 0, 0, 0, 0, 0, 0, 0, 0, 0, 0, 0], ['Operations Clerk', 0, 0, 0, 0, 0, 0, 0, 0, 0, 0, 0, 0, 0, 0, 0, 0, 0, 0, 0, 0, 0, 0, 0, 0, 0, 0, 0, 1, 0, 0, 0, 0, 0, 0, 0, 0, 0, 0, 0, 0, 0, 0, 0, 0, 0, 0, 0, 0, 0, 0, 0, 0, 0, 0, 0, 0, 0, 0, 0, 0, 0, 0, 0, 0, 0, 0, 0, 0, 0, 0, 0, 0, 0, 0, 0, 0, 0, 0, 0, 0, 0, 0, 0, 0, 0, 0, 0, 0, 0, 0, 0, 0, 0, 0, 0, 0, 0, 0, 0, 0, 0, 0, 0, 0, 0, 0, 0, 0, 0, 0, 0, 0, 0, 0, 0, 0, 0, 0, 0, 0, 0, 0, 0, 0, 0, 0, 0, 0, 0, 0, 0, 0, 0, 0, 0, 0, 0, 0, 0, 0, 0, 0, 0, 0, 0, 0, 0, 0, 0, 0, 0, 0, 0, 0, 0], ['Technical Support Engineer', 0, 0, 0, 0, 0, 0, 0, 0, 0, 0, 0, 0, 0, 0, 0, 0, 0, 0, 0, 0, 0, 0, 0, 0, 0, 0, 0, 1, 0, 0, 0, 0, 0, 0, 0, 0, 0, 0, 0, 0, 0, 0, 0, 0, 0, 0, 0, 0, 0, 0, 0, 1, 0, 0, 0, 0, 0, 0, 0, 0, 0, 0, 0, 0, 0, 0, 0, 0, 0, 0, 0, 0, 0, 1, 0, 0, 0, 0, 0, 0, 0, 0, 0, 0, 0, 0, 0, 0, 0, 0, 1, 0, 0, 0, 0, 0, 0, 0, 0, 0, 0, 0, 0, 0, 0, 0, 0, 0, 0, 0, 0, 1, 0, 0, 0, 0, 0, 0, 0, 0, 0, 0, 0, 0, 0, 0, 0, 0, 0, 0, 0, 0, 0, 1, 0, 0, 0, 0, 0, 0, 0, 0, 0, 0, 0, 0, 0, 0, 0, 0, 0, 0, 0, 0, 0], ['Special Education Teacher', 0, 0, 0, 0, 0, 0, 0, 0, 0, 0, 0, 0, 0, 0, 0, 0, 0, 0, 0, 0, 0, 0, 0, 0, 0, 0, 0, 0, 0, 0, 0, 0, 0, 0, 0, 0, 0, 0, 0, 0, 0, 0, 0, 0, 0, 0, 0, 0, 0, 0, 0, 0, 0, 0, 0, 0, 0, 0, 0, 0, 0, 0, 0, 0, 0, 0, 0, 0, 0, 0, 0, 0, 0, 0, 0, 0, 0, 0, 0, 0, 0, 0, 0, 0, 0, 0, 0, 0, 0, 0, 0, 0, 0, 0, 0, 0, 0, 0, 0, 0, 0, 0, 0, 0, 0, 0, 0, 0, 0, 0, 0, 0, 0, 0, 0, 0, 0, 0, 0, 0, 0, 0, 0, 0, 0, 0, 0, 0, 0, 0, 0, 0, 0, 1, 0, 0, 0, 0, 0, 0, 0, 0, 0, 0, 0, 0, 0, 0, 0, 0, 0, 0, 0, 0, 0], ['Heavy Equipment Technician', 0, 0, 0, 0, 0, 0, 0, 0, 0, 0, 0, 0, 0, 0, 0, 1, 0, 0, 0, 0, 0, 0, 0, 0, 0, 0, 0, 0, 0, 0, 0, 0, 0, 0, 0, 0, 0, 0, 0, 0, 0, 0, 0, 0, 0, 0, 1, 1, 0, 1, 0, 1, 0, 0, 0, 0, 0, 0, 0, 0, 0, 0, 0, 1, 0, 1, 0, 0, 1, 0, 0, 0, 0, 0, 0, 0, 0, 0, 0, 0, 0, 0, 0, 0, 0, 0, 0, 0, 0, 0, 0, 0, 0, 0, 0, 0, 0, 0, 0, 0, 0, 0, 0, 0, 0, 0, 0, 0, 0, 1, 0, 0, 0, 0, 0, 0, 0, 0, 0, 0, 0, 0, 0, 0, 1, 0, 0, 0, 0, 0, 0, 0, 0, 0, 0, 0, 0, 0, 0, 0, 0, 0, 0, 0, 0, 0, 0, 0, 0, 0, 0, 0, 0, 0, 0], ['Travel Secretary', 0, 0, 0, 0, 0, 0, 0, 0, 0, 0, 0, 0, 0, 0, 0, 0, 0, 0, 0, 0, 0, 0, 0, 0, 0, 0, 0, 0, 0, 0, 0, 0, 0, 0, 0, 0, 0, 0, 0, 0, 0, 0, 0, 0, 0, 0, 0, 0, 0, 0, 0, 0, 0, 0, 0, 0, 0, 0, 0, 0, 0, 0, 0, 0, 0, 0, 0, 0, 0, 0, 0, 0, 0, 0, 0, 0, 0, 0, 0, 0, 0, 0, 0, 0, 0, 0, 0, 0, 0, 0, 0, 0, 0, 0, 1, 0, 0, 0, 0, 0, 0, 0, 0, 0, 0, 0, 0, 0, 0, 0, 0, 0, 0, 0, 0, 0, 0, 0, 0, 0, 0, 0, 0, 0, 0, 0, 0, 0, 0, 0, 0, 0, 0, 0, 0, 0, 0, 0, 0, 0, 0, 0, 0, 0, 0, 0, 0, 0, 0, 0, 0, 0, 0, 0, 0], ['Benefit Coordinator', 0, 0, 0, 0, 1, 0, 0, 0, 0, 0, 0, 0, 0, 0, 0, 0, 0, 0, 0, 0, 0, 0, 0, 0, 0, 0, 0, 0, 0, 0, 1, 0, 0, 0, 0, 0, 0, 0, 0, 0, 0, 0, 0, 0, 0, 0, 0, 1, 0, 1, 0, 0, 0, 0, 0, 0, 0, 0, 0, 1, 1, 0, 0, 0, 0, 0, 0, 0, 1, 0, 0, 0, 0, 1, 0, 0, 0, 0, 0, 0, 1, 1, 0, 0, 1, 0, 0, 0, 0, 0, 0, 0, 0, 0, 0, 0, 0, 1, 0, 0, 0, 0, 0, 0, 0, 0, 0, 0, 0, 0, 0, 0, 0, 0, 0, 0, 0, 0, 0, 0, 0, 0, 0, 1, 0, 0, 0, 0, 0, 0, 0, 0, 0, 0, 0, 0, 0, 0, 0, 0, 0, 0, 0, 0, 0, 0, 0, 0, 0, 0, 0, 0, 0, 1, 0], ['Reservoir Engineer', 0, 0, 0, 0, 0, 0, 0, 0, 0, 0, 0, 0, 0, 0, 0, 0, 0, 0, 0, 0, 0, 0, 1, 0, 0, 0, 0, 0, 0, 0, 0, 0, 0, 0, 0, 0, 0, 0, 0, 0, 0, 0, 0, 0, 0, 0, 1, 0, 0, 1, 0, 1, 0, 0, 0, 0, 0, 0, 0, 0, 0, 0, 0, 0, 0, 0, 0, 0, 0, 0, 0, 0, 0, 0, 0, 0, 0, 0, 0, 0, 0, 0, 0, 0, 0, 0, 0, 0, 0, 0, 0, 0, 0, 0, 0, 0, 0, 0, 0, 0, 0, 0, 0, 0, 0, 0, 0, 0, 0, 0, 0, 1, 0, 0, 0, 0, 0, 0, 0, 0, 0, 0, 0, 0, 0, 0, 0, 0, 0, 0, 0, 0, 0, 0, 0, 0, 0, 0, 0, 0, 0, 0, 0, 0, 0, 0, 0, 0, 0, 0, 0, 0, 0, 0, 0], ['Quality Assistant', 0, 0, 0, 0, 0, 0, 0, 0, 0, 0, 0, 0, 0, 0, 0, 0, 0, 0, 0, 0, 0, 0, 0, 0, 0, 0, 0, 0, 0, 0, 0, 0, 0, 0, 0, 0, 0, 0, 0, 0, 0, 0, 0, 0, 0, 0, 0, 0, 0, 0, 0, 0, 0, 0, 0, 0, 0, 0, 0, 0, 0, 0, 1, 0, 0, 0, 0, 0, 0, 0, 0, 0, 0, 0, 0, 0, 0, 0, 0, 0, 0, 0, 0, 0, 0, 0, 0, 0, 0, 0, 0, 0, 0, 0, 1, 0, 0, 0, 0, 0, 0, 0, 0, 0, 0, 0, 0, 0, 0, 0, 0, 0, 0, 0, 0, 0, 0, 0, 0, 0, 0, 0, 0, 0, 0, 0, 0, 0, 0, 0, 0, 0, 0, 0, 0, 0, 0, 0, 0, 0, 0, 0, 0, 0, 0, 0, 0, 0, 0, 0, 0, 0, 0, 0, 0], ['Ethics Office Business Intelligence Officer', 0, 0, 0, 0, 0, 0, 0, 0, 0, 0, 0, 0, 0, 0, 0, 0, 0, 0, 0, 0, 0, 0, 0, 0, 0, 0, 0, 0, 0, 0, 0, 0, 0, 0, 0, 0, 0, 0, 0, 0, 0, 0, 0, 0, 0, 0, 0, 0, 0, 0, 0, 0, 0, 0, 0, 0, 0, 0, 0, 0, 0, 0, 0, 0, 0, 0, 0, 0, 0, 0, 0, 0, 0, 1, 0, 0, 0, 0, 0, 0, 0, 0, 0, 0, 0, 0, 0, 0, 0, 0, 0, 0, 0, 0, 0, 0, 0, 0, 0, 0, 1, 0, 0, 0, 0, 0, 0, 0, 0, 0, 0, 0, 0, 0, 0, 0, 0, 0, 0, 0, 0, 0, 0, 0, 0, 0, 0, 0, 0, 0, 0, 0, 0, 1, 0, 0, 0, 0, 0, 0, 0, 0, 0, 0, 0, 0, 0, 0, 0, 0, 0, 0, 0, 0, 0], ['Chemical Engineer', 0, 0, 0, 0, 0, 0, 0, 0, 0, 0, 0, 0, 0, 0, 0, 0, 0, 0, 0, 0, 0, 0, 0, 0, 0, 0, 0, 0, 0, 0, 0, 0, 0, 0, 0, 0, 0, 0, 0, 0, 0, 0, 0, 0, 0, 0, 0, 0, 0, 0, 0, 0, 0, 0, 0, 0, 0, 0, 0, 0, 0, 0, 0, 0, 0, 0, 0, 0, 0, 1, 0, 0, 0, 0, 0, 0, 0, 0, 0, 0, 0, 0, 0, 0, 0, 0, 0, 0, 0, 0, 0, 0, 0, 0, 0, 0, 0, 0, 0, 0, 0, 0, 0, 0, 0, 0, 0, 0, 0, 0, 0, 0, 0, 0, 0, 0, 0, 0, 0, 0, 0, 0, 0, 0, 0, 0, 0, 0, 0, 0, 0, 0, 0, 0, 0, 0, 0, 0, 0, 0, 0, 0, 0, 0, 0, 0, 0, 0, 0, 0, 0, 0, 0, 0, 0], ['Government Contract Consultant', 0, 0, 0, 0, 0, 0, 0, 0, 0, 0, 0, 0, 0, 0, 0, 0, 0, 0, 0, 0, 0, 0, 0, 0, 0, 0, 0, 1, 0, 0, 0, 0, 0, 0, 0, 0, 0, 0, 0, 0, 0, 0, 0, 0, 0, 0, 0, 0, 0, 0, 0, 0, 0, 0, 0, 0, 0, 0, 0, 0, 0, 0, 0, 0, 0, 0, 0, 0, 0, 1, 0, 0, 0, 0, 0, 0, 0, 0, 0, 0, 0, 0, 0, 0, 0, 0, 0, 0, 0, 0, 1, 0, 0, 0, 0, 0, 0, 0, 0, 0, 0, 0, 0, 0, 0, 0, 0, 0, 0, 0, 0, 0, 0, 0, 0, 0, 0, 0, 0, 0, 0, 0, 0, 0, 0, 0, 1, 0, 0, 0, 0, 0, 0, 0, 0, 0, 0, 0, 0, 0, 0, 0, 0, 0, 0, 0, 0, 0, 0, 0, 0, 0, 0, 0, 0], ['Electronics Engineer', 0, 0, 0, 0, 0, 0, 0, 0, 0, 0, 0, 0, 0, 0, 0, 0, 0, 0, 0, 0, 0, 0, 0, 0, 0, 0, 0, 0, 0, 0, 0, 0, 0, 0, 0, 0, 0, 0, 0, 0, 0, 0, 0, 0, 0, 0, 0, 0, 0, 1, 0, 0, 0, 0, 0, 0, 0, 0, 0, 1, 1, 0, 0, 0, 0, 0, 0, 0, 0, 0, 0, 0, 0, 0, 0, 0, 0, 0, 0, 0, 1, 1, 0, 0, 0, 0, 0, 0, 0, 0, 0, 0, 0, 0, 0, 0, 0, 0, 0, 0, 0, 0, 0, 0, 0, 0, 0, 0, 0, 0, 0, 0, 0, 0, 0, 0, 0, 0, 0, 0, 0, 0, 0, 1, 0, 0, 0, 0, 0, 0, 0, 0, 0, 0, 0, 0, 0, 0, 0, 0, 0, 0, 0, 0, 0, 0, 0, 0, 0, 0, 0, 0, 0, 0, 0], ['General Manager', 0, 0, 0, 0, 0, 0, 0, 0, 0, 0, 0, 0, 0, 0, 0, 0, 0, 0, 0, 0, 0, 0, 0, 0, 0, 0, 0, 1, 0, 0, 0, 0, 0, 0, 1, 0, 0, 0, 0, 0, 0, 0, 0, 0, 0, 0, 0, 0, 0, 0, 0, 0, 0, 0, 0, 0, 0, 0, 0, 0, 0, 0, 0, 0, 0, 0, 0, 0, 0, 0, 0, 0, 1, 0, 0, 0, 0, 0, 0, 0, 0, 0, 0, 0, 0, 0, 0, 0, 0, 0, 0, 0, 0, 0, 1, 0, 0, 1, 0, 0, 0, 0, 0, 0, 0, 0, 0, 0, 0, 0, 0, 1, 0, 0, 0, 0, 0, 0, 0, 0, 0, 0, 0, 0, 0, 0, 0, 0, 0, 0, 0, 0, 0, 1, 0, 0, 0, 0, 0, 0, 0, 0, 0, 0, 0, 0, 0, 0, 0, 0, 0, 0, 0, 0, 0], ['Event Coordinator', 0, 0, 0, 0, 0, 0, 0, 0, 0, 0, 0, 0, 0, 0, 0, 0, 0, 0, 0, 0, 0, 0, 0, 0, 0, 0, 0, 1, 0, 0, 0, 0, 0, 0, 0, 0, 0, 0, 0, 0, 0, 0, 0, 0, 0, 0, 0, 0, 0, 0, 0, 1, 0, 0, 0, 0, 0, 0, 0, 0, 0, 0, 0, 0, 0, 0, 0, 0, 0, 0, 0, 0, 0, 1, 0, 0, 0, 0, 0, 0, 0, 0, 0, 0, 0, 0, 0, 0, 0, 0, 1, 0, 0, 0, 0, 0, 0, 0, 0, 0, 0, 0, 0, 0, 0, 0, 0, 0, 0, 0, 0, 1, 0, 0, 0, 0, 0, 0, 0, 0, 0, 0, 0, 0, 0, 0, 0, 0, 0, 0, 0, 0, 0, 1, 0, 0, 0, 0, 0, 0, 0, 0, 0, 0, 0, 0, 0, 0, 0, 0, 0, 0, 0, 0, 0], ['Software Developer', 0, 0, 0, 0, 0, 0, 0, 0, 0, 0, 0, 1, 0, 0, 0, 0, 0, 0, 0, 0, 0, 0, 0, 0, 0, 0, 0, 1, 0, 0, 0, 0, 0, 0, 1, 0, 0, 0, 0, 0, 0, 0, 0, 0, 0, 0, 0, 0, 0, 1, 0, 0, 0, 0, 0, 0, 0, 0, 0, 0, 0, 0, 0, 1, 0, 0, 0, 0, 0, 0, 0, 0, 0, 1, 0, 0, 0, 0, 0, 0, 0, 0, 0, 0, 0, 0, 0, 0, 0, 1, 0, 0, 0, 0, 0, 0, 0, 0, 0, 0, 0, 0, 0, 0, 0, 0, 0, 0, 0, 0, 0, 0, 0, 0, 0, 0, 0, 0, 0, 0, 0, 0, 0, 1, 0, 0, 0, 0, 0, 0, 1, 0, 0, 1, 0, 0, 0, 0, 0, 0, 0, 0, 0, 0, 0, 0, 0, 0, 0, 0, 0, 0, 0, 0, 0], ['Corporate Sales Manager', 0, 0, 0, 0, 0, 0, 0, 0, 0, 0, 0, 0, 0, 0, 0, 0, 0, 0, 0, 0, 0, 0, 0, 0, 0, 0, 0, 1, 0, 0, 0, 0, 0, 0, 1, 0, 0, 0, 0, 0, 0, 0, 0, 0, 0, 0, 0, 0, 0, 0, 0, 0, 0, 0, 0, 0, 0, 0, 0, 0, 0, 0, 0, 0, 0, 0, 0, 0, 0, 0, 0, 0, 0, 0, 0, 0, 0, 0, 0, 0, 0, 0, 0, 0, 0, 0, 0, 0, 0, 0, 0, 0, 0, 0, 0, 0, 0, 0, 0, 0, 0, 0, 0, 0, 0, 0, 0, 0, 0, 0, 0, 0, 0, 0, 0, 0, 0, 0, 0, 0, 0, 0, 0, 0, 0, 0, 0, 0, 0, 0, 0, 0, 0, 0, 0, 0, 0, 0, 0, 0, 0, 0, 0, 0, 0, 0, 0, 0, 0, 0, 0, 0, 0, 0, 0], ['Director of? Customer Success and Satisfaction', 0, 0, 0, 0, 0, 0, 0, 0, 0, 0, 0, 0, 0, 0, 0, 0, 0, 0, 0, 0, 0, 0, 1, 0, 0, 0, 0, 0, 0, 0, 0, 0, 0, 0, 0, 0, 0, 0, 0, 0, 0, 0, 0, 0, 0, 0, 0, 0, 0, 0, 0, 0, 0, 0, 0, 0, 0, 0, 0, 0, 0, 0, 0, 0, 0, 0, 0, 0, 0, 0, 0, 0, 0, 0, 0, 0, 0, 0, 0, 0, 0, 0, 0, 0, 0, 0, 0, 0, 0, 0, 0, 0, 0, 0, 0, 0, 0, 0, 0, 0, 0, 0, 0, 0, 0, 0, 0, 0, 0, 0, 0, 0, 0, 0, 0, 0, 0, 0, 0, 0, 0, 0, 0, 0, 0, 0, 0, 0, 0, 0, 0, 0, 0, 0, 0, 0, 0, 0, 0, 0, 0, 0, 0, 0, 0, 0, 0, 0, 0, 0, 0, 0, 0, 0, 0], ['Laboratory Assistant', 0, 0, 0, 0, 0, 0, 0, 0, 0, 0, 0, 0, 0, 0, 0, 0, 0, 0, 0, 0, 0, 0, 0, 0, 0, 0, 0, 1, 0, 0, 0, 0, 0, 0, 0, 0, 0, 0, 0, 0, 0, 0, 0, 0, 0, 0, 0, 0, 0, 0, 0, 0, 0, 0, 0, 0, 0, 0, 0, 0, 0, 0, 0, 0, 0, 0, 0, 0, 0, 1, 0, 0, 0, 0, 0, 0, 0, 0, 0, 0, 0, 0, 0, 0, 0, 0, 0, 0, 0, 0, 0, 0, 0, 0, 0, 0, 0, 0, 0, 0, 0, 0, 0, 0, 0, 0, 0, 0, 0, 0, 0, 0, 0, 0, 0, 0, 0, 0, 0, 0, 0, 0, 0, 0, 0, 0, 0, 0, 0, 0, 0, 0, 0, 0, 0, 0, 0, 0, 0, 0, 0, 0, 0, 0, 0, 0, 0, 0, 0, 0, 0, 0, 0, 0, 0], ['Assistant Customer Care Center Manager', 0, 1, 0, 0, 0, 0, 0, 0, 1, 0, 0, 0, 0, 0, 0, 0, 0, 0, 0, 0, 0, 0, 0, 0, 0, 0, 0, 0, 0, 0, 0, 0, 0, 0, 1, 0, 0, 0, 0, 0, 0, 0, 0, 0, 0, 0, 0, 0, 0, 0, 0, 0, 0, 0, 0, 0, 0, 0, 0, 0, 0, 0, 0, 0, 0, 0, 0, 0, 0, 0, 0, 0, 0, 0, 0, 0, 0, 0, 0, 0, 0, 0, 0, 0, 0, 0, 0, 0, 0, 0, 0, 0, 0, 0, 1, 0, 0, 0, 0, 0, 0, 0, 0, 0, 0, 0, 0, 0, 0, 0, 0, 0, 0, 0, 0, 0, 0, 0, 0, 0, 0, 0, 0, 0, 0, 0, 0, 0, 0, 0, 0, 0, 0, 1, 0, 0, 0, 0, 0, 0, 0, 0, 0, 0, 0, 0, 0, 0, 0, 0, 0, 0, 0, 0, 0], ['Technical Trainer', 0, 0, 0, 0, 0, 0, 0, 0, 0, 0, 0, 0, 0, 0, 0, 0, 0, 0, 0, 0, 0, 0, 1, 0, 0, 0, 0, 0, 0, 0, 0, 0, 0, 0, 0, 0, 0, 0, 0, 0, 0, 0, 0, 0, 0, 0, 0, 0, 0, 0, 0, 0, 0, 0, 0, 0, 0, 0, 0, 0, 0, 0, 0, 0, 0, 0, 0, 0, 0, 0, 0, 0, 1, 0, 0, 0, 0, 0, 0, 0, 0, 0, 0, 0, 0, 0, 0, 0, 0, 0, 0, 0, 0, 0, 0, 0, 0, 0, 0, 0, 0, 0, 0, 0, 0, 0, 0, 0, 0, 0, 0, 0, 0, 0, 0, 0, 0, 0, 0, 0, 0, 0, 0, 0, 0, 0, 0, 0, 0, 0, 0, 0, 0, 0, 0, 0, 0, 0, 0, 0, 0, 0, 0, 0, 0, 0, 0, 0, 0, 0, 0, 0, 0, 0, 0], ['Manufacturing Specialist', 0, 0, 0, 0, 0, 0, 0, 0, 0, 0, 0, 1, 0, 0, 0, 0, 1, 0, 0, 0, 0, 0, 0, 0, 0, 0, 0, 0, 0, 0, 0, 1, 0, 0, 0, 0, 0, 0, 0, 0, 0, 1, 0, 0, 0, 0, 0, 0, 1, 0, 0, 1, 0, 0, 0, 0, 0, 0, 0, 0, 1, 0, 0, 0, 0, 1, 0, 0, 1, 0, 0, 0, 1, 0, 0, 0, 0, 0, 0, 0, 1, 0, 0, 0, 0, 0, 0, 0, 0, 0, 1, 0, 0, 1, 0, 0, 0, 1, 0, 0, 0, 0, 0, 0, 0, 0, 0, 0, 0, 0, 0, 0, 0, 0, 0, 0, 0, 0, 0, 0, 0, 0, 0, 0, 0, 0, 0, 0, 0, 0, 0, 0, 0, 1, 0, 0, 0, 0, 0, 0, 0, 0, 0, 0, 0, 0, 0, 0, 0, 0, 0, 0, 0, 0, 0], ['Piping Stress Engineer', 0, 0, 0, 0, 0, 0, 0, 0, 0, 0, 0, 0, 0, 0, 0, 0, 0, 0, 0, 0, 0, 0, 0, 0, 0, 0, 0, 0, 0, 0, 0, 0, 0, 0, 1, 0, 0, 0, 0, 0, 0, 0, 0, 0, 0, 0, 1, 1, 0, 0, 0, 1, 0, 0, 0, 0, 0, 0, 0, 0, 1, 0, 0, 1, 0, 0, 0, 0, 0, 0, 0, 0, 0, 0, 0, 0, 1, 0, 0, 0, 0, 1, 0, 0, 0, 0, 0, 0, 0, 0, 0, 0, 0, 0, 0, 0, 0, 0, 0, 0, 0, 0, 0, 0, 0, 0, 0, 0, 0, 0, 0, 0, 0, 0, 0, 0, 0, 0, 0, 0, 0, 0, 0, 1, 0, 0, 0, 0, 0, 0, 0, 0, 0, 0, 0, 0, 0, 0, 0, 0, 0, 0, 0, 0, 0, 0, 0, 0, 0, 0, 0, 0, 0, 0, 0], ['RF Engineer', 0, 0, 0, 0, 0, 0, 0, 0, 1, 0, 0, 0, 0, 0, 0, 0, 0, 0, 0, 0, 0, 0, 0, 0, 0, 0, 0, 0, 0, 0, 0, 0, 0, 0, 0, 0, 0, 0, 0, 0, 0, 0, 0, 0, 0, 0, 0, 1, 0, 0, 0, 1, 0, 0, 0, 0, 0, 0, 0, 1, 1, 0, 0, 0, 0, 0, 0, 0, 1, 0, 0, 0, 0, 0, 0, 0, 0, 0, 0, 0, 0, 0, 0, 0, 0, 0, 0, 0, 0, 0, 0, 0, 0, 0, 0, 0, 0, 0, 0, 0, 0, 0, 0, 0, 0, 0, 0, 0, 0, 0, 0, 0, 0, 0, 1, 0, 0, 0, 0, 0, 0, 0, 0, 0, 0, 0, 0, 0, 0, 0, 0, 0, 0, 1, 0, 0, 0, 0, 0, 0, 0, 0, 0, 0, 0, 0, 0, 0, 0, 0, 0, 0, 0, 0, 0], ['Rental Representative', 0, 0, 0, 0, 0, 0, 0, 0, 0, 0, 0, 0, 0, 0, 0, 0, 0, 0, 0, 0, 0, 0, 0, 0, 0, 0, 0, 0, 0, 0, 0, 0, 0, 0, 1, 0, 0, 0, 0, 0, 0, 0, 0, 0, 0, 0, 1, 0, 0, 0, 0, 1, 0, 0, 0, 0, 0, 0, 0, 0, 0, 0, 0, 0, 0, 0, 0, 0, 0, 0, 0, 0, 0, 0, 0, 0, 1, 0, 0, 0, 0, 0, 0, 0, 0, 0, 0, 0, 0, 0, 0, 0, 0, 0, 0, 0, 0, 0, 0, 0, 0, 0, 0, 0, 0, 0, 0, 0, 0, 0, 0, 0, 0, 0, 0, 0, 0, 0, 0, 0, 0, 0, 0, 1, 0, 0, 0, 0, 0, 0, 0, 0, 0, 0, 0, 0, 0, 0, 0, 0, 0, 0, 0, 0, 0, 0, 0, 0, 0, 0, 0, 0, 0, 0, 0], ['Data Architect', 0, 1, 0, 0, 1, 0, 0, 0, 0, 0, 0, 0, 0, 0, 0, 0, 0, 1, 0, 0, 0, 0, 0, 0, 0, 0, 0, 0, 0, 0, 0, 0, 0, 0, 1, 0, 0, 0, 0, 0, 0, 0, 0, 0, 0, 0, 0, 0, 0, 1, 0, 0, 0, 0, 0, 0, 0, 0, 0, 0, 0, 0, 0, 0, 0, 0, 0, 0, 0, 1, 0, 0, 1, 0, 0, 0, 0, 0, 0, 0, 0, 0, 0, 0, 0, 0, 0, 0, 0, 0, 0, 0, 0, 0, 1, 0, 0, 0, 0, 0, 0, 0, 0, 0, 0, 0, 0, 0, 0, 0, 0, 0, 0, 0, 0, 0, 0, 0, 0, 0, 0, 0, 0, 0, 0, 0, 0, 0, 0, 0, 0, 0, 0, 1, 0, 0, 0, 0, 0, 0, 0, 0, 0, 0, 0, 0, 0, 0, 0, 0, 0, 0, 0, 1, 0], ['Organizational Development Consultant', 0, 0, 0, 0, 0, 0, 0, 0, 0, 0, 0, 0, 0, 0, 0, 0, 0, 0, 0, 0, 0, 0, 0, 0, 0, 0, 0, 0, 0, 0, 0, 0, 0, 0, 1, 0, 0, 0, 0, 0, 0, 0, 0, 0, 0, 0, 0, 0, 0, 0, 0, 0, 0, 0, 0, 0, 0, 0, 0, 0, 0, 0, 0, 0, 0, 0, 0, 0, 0, 0, 0, 0, 0, 1, 0, 0, 0, 0, 0, 0, 0, 0, 0, 0, 0, 0, 0, 0, 0, 0, 0, 0, 0, 0, 1, 0, 0, 1, 0, 0, 0, 0, 0, 0, 0, 0, 0, 0, 0, 0, 0, 0, 0, 0, 0, 0, 0, 0, 0, 0, 0, 0, 0, 0, 0, 0, 0, 0, 0, 0, 0, 0, 0, 1, 0, 0, 0, 0, 0, 0, 0, 0, 0, 0, 0, 0, 0, 0, 0, 0, 0, 0, 0, 0, 0], ['Drilling Engineer', 0, 0, 0, 0, 0, 0, 0, 0, 0, 0, 0, 0, 0, 0, 0, 0, 0, 0, 0, 0, 0, 0, 0, 0, 0, 0, 0, 0, 0, 0, 0, 0, 0, 0, 1, 0, 0, 0, 0, 0, 0, 0, 0, 0, 0, 0, 0, 0, 0, 0, 0, 0, 0, 0, 0, 0, 0, 0, 0, 0, 0, 0, 0, 0, 0, 0, 0, 0, 0, 0, 0, 0, 0, 1, 0, 0, 0, 0, 0, 0, 0, 0, 0, 0, 0, 0, 0, 0, 0, 0, 1, 0, 0, 0, 0, 0, 0, 0, 0, 0, 0, 0, 0, 0, 0, 0, 0, 0, 0, 0, 0, 0, 0, 0, 0, 0, 0, 0, 0, 0, 0, 0, 0, 0, 0, 0, 0, 0, 0, 0, 0, 0, 0, 1, 0, 0, 0, 0, 0, 0, 0, 0, 0, 0, 0, 0, 0, 0, 0, 0, 0, 0, 0, 0, 0], ['Hostess', 0, 0, 0, 0, 0, 0, 0, 0, 0, 0, 0, 0, 0, 0, 0, 0, 0, 0, 0, 0, 0, 0, 0, 0, 0, 0, 0, 1, 0, 0, 0, 0, 0, 0, 0, 0, 0, 0, 0, 0, 0, 0, 0, 0, 0, 0, 1, 0, 0, 0, 0, 0, 0, 0, 0, 0, 0, 0, 0, 0, 0, 0, 0, 0, 0, 0, 0, 0, 0, 0, 0, 0, 0, 0, 0, 0, 0, 0, 0, 0, 0, 0, 0, 0, 0, 0, 0, 0, 0, 0, 0, 0, 0, 0, 1, 0, 0, 0, 0, 0, 0, 0, 0, 0, 0, 0, 0, 0, 0, 0, 0, 0, 0, 0, 0, 0, 0, 0, 0, 0, 0, 0, 0, 0, 0, 0, 0, 0, 0, 0, 0, 0, 0, 0, 0, 0, 0, 0, 0, 0, 0, 0, 0, 0, 0, 0, 0, 0, 0, 0, 0, 0, 0, 0, 0], ['School Nurse', 0, 0, 0, 0, 0, 0, 0, 0, 0, 0, 0, 0, 0, 0, 0, 0, 0, 0, 0, 0, 0, 0, 0, 0, 0, 0, 0, 0, 0, 0, 0, 0, 0, 0, 0, 0, 0, 0, 0, 0, 0, 0, 0, 0, 0, 0, 0, 0, 0, 0, 0, 0, 0, 0, 0, 0, 0, 0, 0, 0, 0, 0, 0, 0, 0, 0, 0, 0, 0, 0, 0, 0, 0, 0, 0, 0, 0, 0, 0, 0, 0, 0, 0, 0, 0, 0, 0, 0, 0, 0, 1, 0, 0, 0, 0, 0, 0, 0, 0, 0, 0, 0, 0, 0, 0, 0, 0, 0, 0, 0, 0, 0, 0, 0, 0, 0, 0, 0, 0, 0, 0, 0, 0, 0, 0, 0, 0, 0, 0, 0, 0, 0, 0, 1, 0, 0, 0, 0, 0, 0, 0, 0, 0, 0, 0, 0, 0, 0, 0, 0, 0, 0, 0, 0, 0], ['Behavior Specialist', 0, 0, 0, 0, 0, 0, 0, 0, 0, 0, 0, 0, 0, 0, 0, 0, 0, 0, 0, 0, 0, 0, 0, 0, 0, 0, 0, 1, 0, 0, 0, 0, 0, 0, 0, 0, 0, 0, 0, 0, 0, 0, 0, 0, 0, 0, 1, 0, 0, 0, 0, 0, 0, 0, 0, 0, 0, 0, 0, 0, 0, 0, 0, 0, 0, 0, 0, 0, 0, 0, 0, 0, 0, 0, 0, 0, 0, 0, 0, 0, 0, 0, 0, 0, 0, 0, 0, 0, 0, 0, 0, 0, 0, 0, 1, 0, 0, 0, 0, 0, 0, 0, 0, 0, 0, 0, 0, 0, 0, 0, 0, 0, 0, 0, 0, 0, 0, 0, 0, 0, 0, 0, 0, 0, 0, 0, 0, 0, 0, 0, 0, 0, 0, 0, 0, 0, 0, 0, 0, 0, 0, 0, 0, 0, 0, 0, 0, 0, 0, 0, 0, 0, 0, 0, 0], ['Construction Engineer', 0, 1, 0, 0, 0, 0, 0, 0, 0, 0, 0, 0, 0, 0, 0, 0, 0, 0, 0, 0, 0, 0, 0, 0, 0, 0, 0, 0, 0, 0, 0, 0, 0, 0, 0, 0, 0, 0, 0, 0, 0, 0, 0, 0, 0, 0, 0, 0, 0, 0, 0, 0, 0, 0, 0, 0, 0, 0, 0, 0, 0, 0, 0, 0, 0, 0, 0, 0, 0, 0, 0, 0, 0, 0, 0, 0, 0, 0, 0, 0, 0, 0, 0, 0, 0, 0, 0, 0, 0, 0, 0, 0, 0, 0, 0, 0, 0, 0, 0, 0, 0, 0, 0, 0, 0, 0, 0, 0, 0, 0, 0, 0, 0, 0, 0, 0, 0, 0, 0, 0, 0, 0, 0, 0, 0, 0, 0, 0, 0, 0, 0, 0, 0, 0, 0, 0, 0, 0, 0, 0, 0, 0, 0, 0, 0, 0, 0, 0, 0, 0, 0, 0, 0, 0, 0], ['Corporate Reservations Agent', 0, 0, 0, 0, 0, 0, 0, 0, 0, 0, 0, 0, 0, 0, 0, 0, 0, 0, 0, 0, 0, 0, 0, 0, 0, 0, 0, 0, 0, 0, 0, 0, 0, 0, 0, 0, 0, 0, 0, 0, 0, 0, 0, 0, 0, 0, 1, 0, 0, 0, 0, 0, 0, 0, 0, 0, 0, 0, 0, 0, 0, 0, 0, 0, 0, 0, 0, 0, 0, 0, 0, 0, 0, 1, 0, 0, 0, 0, 0, 0, 0, 0, 0, 0, 0, 0, 0, 0, 0, 0, 0, 0, 0, 0, 0, 0, 0, 0, 0, 0, 0, 0, 0, 0, 0, 0, 0, 0, 0, 0, 0, 0, 0, 0, 0, 0, 0, 0, 0, 0, 0, 0, 0, 0, 0, 0, 0, 0, 0, 0, 0, 0, 0, 1, 0, 0, 0, 0, 0, 0, 0, 0, 0, 0, 0, 0, 0, 0, 0, 0, 0, 0, 0, 0, 0], ['Chef', 0, 0, 0, 0, 0, 0, 0, 0, 0, 0, 0, 0, 0, 0, 0, 0, 0, 0, 0, 0, 0, 0, 0, 0, 0, 0, 0, 0, 0, 0, 0, 0, 0, 0, 0, 0, 0, 0, 0, 0, 0, 0, 0, 0, 0, 0, 0, 0, 0, 0, 0, 0, 0, 0, 0, 0, 0, 0, 0, 0, 0, 0, 0, 0, 0, 0, 0, 0, 0, 0, 0, 0, 0, 0, 0, 0, 0, 0, 0, 0, 0, 0, 0, 0, 0, 0, 0, 0, 0, 0, 0, 0, 0, 0, 0, 0, 0, 0, 0, 0, 0, 0, 0, 0, 0, 0, 0, 0, 0, 0, 0, 0, 0, 1, 0, 0, 0, 0, 0, 0, 0, 0, 0, 0, 0, 0, 0, 0, 0, 0, 0, 0, 0, 0, 0, 0, 0, 0, 0, 0, 0, 0, 0, 0, 0, 0, 0, 0, 0, 0, 0, 0, 0, 0, 0], ['Athletic Scout', 0, 0, 0, 0, 0, 0, 0, 0, 0, 0, 0, 0, 0, 0, 0, 0, 0, 0, 0, 0, 0, 0, 0, 0, 0, 0, 0, 0, 0, 0, 0, 0, 0, 0, 0, 0, 0, 0, 0, 0, 0, 0, 0, 0, 0, 0, 0, 0, 0, 0, 0, 0, 0, 0, 0, 0, 0, 0, 0, 0, 0, 0, 0, 0, 0, 0, 0, 0, 0, 0, 0, 0, 0, 0, 0, 0, 0, 0, 0, 0, 0, 0, 0, 0, 0, 0, 0, 0, 0, 0, 0, 0, 0, 0, 1, 0, 0, 0, 0, 0, 0, 0, 0, 0, 0, 0, 0, 0, 0, 0, 0, 0, 0, 0, 0, 0, 0, 0, 0, 0, 0, 0, 0, 0, 0, 0, 0, 0, 0, 0, 0, 0, 0, 1, 0, 0, 0, 0, 0, 0, 0, 0, 0, 0, 0, 0, 0, 0, 0, 0, 0, 0, 0, 0, 0], ['Provisioning Agents', 0, 0, 0, 0, 0, 0, 0, 0, 0, 0, 0, 0, 0, 0, 0, 0, 0, 0, 0, 0, 0, 0, 0, 0, 0, 0, 0, 0, 0, 0, 0, 0, 0, 0, 0, 0, 0, 0, 0, 0, 0, 0, 0, 0, 0, 0, 1, 0, 0, 0, 0, 1, 0, 0, 0, 0, 0, 0, 0, 0, 0, 0, 0, 0, 0, 0, 0, 0, 0, 0, 0, 0, 0, 1, 0, 0, 0, 0, 0, 0, 0, 0, 0, 0, 0, 0, 0, 0, 0, 0, 0, 0, 0, 0, 0, 0, 0, 0, 0, 0, 0, 0, 0, 0, 0, 0, 0, 0, 0, 0, 0, 0, 0, 0, 0, 0, 0, 0, 0, 0, 0, 0, 0, 0, 0, 0, 0, 0, 0, 0, 0, 0, 0, 0, 0, 0, 0, 0, 0, 0, 0, 0, 0, 0, 0, 0, 0, 0, 0, 0, 0, 0, 0, 0, 0], ['Environmental Compliance Engineer', 0, 0, 0, 0, 0, 0, 0, 0, 0, 0, 0, 0, 0, 0, 0, 0, 0, 0, 0, 0, 0, 0, 0, 0, 0, 0, 0, 0, 0, 0, 0, 0, 0, 0, 0, 0, 0, 0, 0, 0, 0, 0, 0, 0, 0, 0, 0, 0, 0, 0, 0, 0, 1, 0, 0, 0, 0, 0, 0, 0, 0, 0, 0, 0, 0, 0, 0, 0, 0, 1, 0, 0, 0, 0, 0, 0, 0, 0, 0, 0, 0, 0, 0, 0, 0, 0, 0, 0, 0, 0, 1, 0, 0, 0, 1, 0, 0, 0, 0, 0, 0, 0, 0, 0, 0, 0, 0, 0, 0, 0, 0, 0, 0, 0, 0, 0, 0, 0, 0, 0, 0, 0, 0, 0, 0, 0, 0, 0, 0, 0, 0, 0, 0, 1, 0, 0, 0, 0, 0, 0, 0, 0, 0, 0, 0, 0, 0, 0, 0, 0, 0, 0, 0, 0, 0], ['Senior Mechanical Engineer', 0, 0, 0, 0, 0, 0, 0, 0, 0, 0, 0, 0, 0, 0, 0, 0, 0, 0, 0, 0, 0, 0, 0, 0, 0, 0, 0, 0, 0, 0, 0, 0, 0, 0, 0, 0, 0, 0, 0, 0, 0, 0, 0, 0, 0, 0, 0, 0, 0, 0, 0, 0, 0, 0, 0, 0, 0, 0, 0, 0, 0, 0, 0, 0, 0, 0, 0, 0, 0, 0, 0, 0, 0, 0, 0, 0, 0, 0, 0, 0, 0, 0, 0, 0, 0, 0, 0, 0, 0, 0, 0, 0, 0, 0, 1, 0, 0, 0, 0, 0, 0, 0, 0, 0, 0, 0, 0, 0, 0, 0, 0, 0, 0, 0, 0, 0, 0, 0, 0, 0, 0, 0, 0, 0, 0, 0, 0, 0, 0, 0, 0, 0, 0, 1, 0, 0, 0, 0, 0, 0, 0, 0, 0, 0, 0, 0, 0, 0, 0, 0, 0, 0, 0, 0, 0], ['Customer Support Associate', 0, 0, 0, 0, 0, 0, 0, 0, 0, 0, 0, 0, 0, 0, 0, 0, 0, 0, 0, 0, 0, 0, 0, 0, 0, 0, 0, 0, 0, 0, 0, 0, 0, 0, 0, 0, 0, 0, 0, 0, 0, 0, 0, 0, 0, 0, 0, 0, 0, 0, 0, 0, 0, 0, 0, 0, 0, 0, 0, 1, 0, 0, 0, 0, 0, 0, 0, 0, 0, 0, 0, 0, 0, 1, 0, 0, 0, 0, 0, 0, 1, 0, 0, 0, 0, 0, 0, 0, 0, 0, 0, 0, 0, 0, 0, 0, 0, 0, 0, 0, 0, 0, 0, 0, 0, 0, 0, 0, 0, 0, 0, 1, 0, 0, 0, 0, 0, 0, 0, 0, 0, 0, 0, 0, 0, 0, 0, 0, 0, 0, 0, 0, 0, 1, 0, 0, 0, 0, 0, 0, 0, 0, 0, 0, 0, 0, 0, 0, 0, 0, 0, 0, 0, 0, 0], ['Associate Producer Events', 0, 0, 0, 0, 0, 0, 0, 0, 0, 0, 0, 0, 0, 0, 0, 0, 0, 0, 0, 0, 0, 0, 0, 0, 0, 0, 0, 0, 0, 0, 0, 0, 0, 0, 0, 0, 0, 0, 0, 0, 0, 0, 0, 0, 0, 0, 0, 0, 0, 0, 0, 0, 0, 0, 0, 0, 0, 0, 0, 0, 0, 0, 0, 0, 0, 0, 0, 0, 0, 0, 0, 0, 0, 1, 0, 0, 0, 0, 0, 0, 0, 0, 0, 0, 0, 0, 0, 0, 0, 0, 0, 0, 0, 0, 0, 0, 0, 0, 0, 0, 0, 0, 0, 0, 0, 0, 0, 0, 0, 0, 0, 0, 0, 0, 0, 0, 0, 0, 0, 0, 0, 0, 0, 0, 0, 0, 1, 0, 0, 0, 0, 0, 0, 0, 0, 0, 0, 0, 0, 0, 0, 0, 0, 0, 0, 0, 0, 0, 0, 0, 0, 0, 0, 0, 0], ['Airline Pilot', 0, 0, 0, 0, 0, 0, 0, 0, 0, 0, 0, 0, 0, 0, 0, 0, 0, 0, 0, 0, 0, 0, 0, 0, 0, 0, 0, 0, 0, 0, 0, 0, 0, 0, 0, 0, 0, 0, 0, 0, 0, 0, 0, 0, 0, 0, 0, 0, 0, 0, 0, 0, 0, 0, 0, 0, 0, 0, 0, 0, 0, 0, 0, 0, 0, 0, 0, 0, 0, 0, 0, 0, 0, 0, 0, 0, 0, 0, 0, 1, 0, 0, 0, 0, 0, 0, 0, 0, 0, 0, 0, 0, 0, 0, 0, 0, 0, 0, 0, 0, 0, 0, 0, 0, 0, 0, 0, 0, 0, 0, 0, 0, 0, 0, 0, 0, 0, 0, 0, 0, 0, 0, 0, 0, 0, 0, 0, 0, 0, 0, 0, 0, 0, 1, 0, 0, 0, 0, 0, 0, 0, 0, 0, 0, 0, 0, 0, 0, 0, 0, 0, 0, 0, 0, 0], ['Sales Manager', 0, 0, 0, 0, 0, 0, 0, 0, 0, 0, 0, 0, 0, 0, 0, 0, 0, 0, 1, 0, 0, 0, 0, 0, 0, 0, 0, 0, 0, 0, 0, 0, 0, 0, 0, 0, 0, 0, 0, 0, 0, 0, 0, 0, 0, 0, 0, 0, 0, 0, 0, 0, 0, 0, 0, 0, 0, 0, 0, 0, 0, 0, 0, 0, 0, 0, 0, 0, 0, 0, 0, 0, 0, 0, 0, 0, 0, 0, 0, 0, 0, 0, 0, 0, 0, 0, 0, 0, 0, 0, 0, 0, 0, 0, 0, 0, 0, 0, 0, 0, 0, 0, 0, 0, 0, 0, 0, 0, 0, 0, 0, 0, 0, 0, 0, 0, 0, 0, 0, 0, 0, 0, 0, 0, 0, 0, 0, 0, 0, 0, 0, 0, 0, 0, 0, 0, 0, 0, 0, 0, 0, 0, 0, 0, 0, 0, 0, 0, 0, 0, 0, 0, 0, 0, 0], ['Computer Science Teacher', 0, 0, 0, 0, 0, 0, 0, 0, 0, 0, 0, 0, 0, 0, 0, 0, 0, 0, 0, 0, 0, 0, 0, 0, 0, 0, 0, 0, 0, 0, 0, 0, 0, 0, 1, 0, 0, 0, 0, 0, 0, 0, 0, 0, 0, 0, 0, 0, 0, 0, 0, 0, 0, 0, 0, 0, 0, 0, 0, 0, 0, 0, 0, 0, 0, 0, 0, 0, 0, 0, 0, 0, 0, 0, 0, 0, 0, 0, 0, 0, 0, 0, 0, 0, 0, 0, 0, 0, 0, 0, 0, 0, 0, 0, 0, 0, 0, 0, 0, 0, 0, 0, 0, 0, 0, 0, 0, 0, 0, 0, 0, 0, 0, 0, 0, 0, 0, 0, 0, 0, 0, 0, 0, 0, 0, 0, 0, 0, 0, 0, 0, 0, 0, 0, 0, 0, 0, 0, 0, 0, 0, 0, 0, 0, 0, 0, 0, 0, 0, 0, 0, 0, 0, 0, 0], ['Territory Service Representative', 0, 0, 0, 0, 0, 0, 0, 0, 0, 0, 0, 0, 0, 0, 0, 0, 1, 0, 0, 0, 0, 0, 1, 0, 0, 0, 0, 0, 0, 0, 0, 0, 0, 0, 0, 1, 0, 0, 0, 0, 1, 0, 0, 0, 0, 0, 1, 1, 0, 1, 0, 0, 0, 0, 0, 0, 0, 0, 0, 0, 1, 0, 0, 0, 0, 0, 0, 0, 1, 0, 0, 0, 0, 0, 0, 0, 0, 0, 0, 0, 0, 0, 0, 0, 0, 0, 0, 0, 0, 0, 1, 0, 0, 0, 0, 0, 0, 0, 0, 0, 0, 0, 0, 0, 0, 0, 0, 0, 0, 0, 0, 0, 0, 0, 0, 0, 0, 0, 0, 0, 0, 0, 0, 1, 1, 0, 0, 0, 0, 0, 0, 0, 0, 0, 1, 0, 0, 0, 0, 0, 0, 0, 0, 0, 0, 0, 1, 0, 0, 0, 0, 0, 0, 0, 0], ['Corporate Recruiter', 0, 0, 0, 0, 0, 0, 0, 0, 0, 0, 0, 0, 0, 0, 0, 0, 0, 0, 0, 0, 0, 0, 0, 0, 0, 0, 0, 0, 0, 0, 0, 0, 0, 0, 0, 0, 0, 0, 0, 0, 0, 0, 0, 0, 0, 0, 0, 0, 0, 0, 0, 0, 0, 0, 0, 0, 0, 0, 0, 0, 0, 0, 0, 0, 0, 0, 0, 0, 0, 1, 0, 0, 0, 0, 0, 0, 0, 0, 0, 0, 0, 0, 0, 0, 0, 0, 0, 0, 0, 0, 0, 0, 0, 0, 1, 0, 0, 0, 0, 0, 0, 1, 0, 0, 0, 0, 0, 0, 0, 0, 0, 0, 0, 0, 0, 0, 0, 0, 0, 0, 0, 0, 0, 0, 0, 0, 0, 0, 0, 0, 0, 0, 0, 0, 0, 0, 0, 0, 0, 0, 0, 0, 0, 0, 0, 0, 0, 0, 0, 0, 0, 0, 0, 0, 0], ['Ground Support Equipment Mechanic', 0, 0, 0, 0, 0, 0, 0, 0, 0, 0, 0, 0, 0, 0, 0, 0, 0, 0, 0, 0, 0, 0, 0, 0, 0, 0, 0, 0, 0, 0, 0, 0, 0, 0, 0, 0, 0, 0, 0, 0, 0, 0, 0, 0, 0, 0, 0, 0, 0, 0, 0, 0, 0, 0, 0, 0, 0, 0, 0, 0, 1, 0, 0, 1, 0, 0, 0, 0, 1, 0, 0, 0, 1, 0, 0, 0, 0, 0, 0, 0, 0, 0, 0, 0, 0, 0, 0, 0, 0, 0, 0, 0, 0, 1, 0, 0, 0, 0, 0, 0, 0, 0, 0, 0, 0, 0, 0, 0, 1, 0, 0, 0, 0, 0, 0, 0, 0, 0, 0, 0, 0, 0, 0, 0, 0, 0, 0, 0, 0, 0, 0, 0, 0, 0, 0, 0, 0, 0, 0, 0, 0, 0, 0, 0, 0, 0, 0, 0, 0, 0, 0, 0, 0, 0, 0], ['Software Engineer - Data Warehouse/Business Intelligence', 0, 0, 0, 0, 0, 0, 0, 0, 0, 0, 0, 0, 0, 0, 0, 0, 0, 0, 0, 0, 0, 0, 0, 0, 0, 0, 0, 1, 0, 0, 0, 0, 0, 0, 0, 0, 0, 0, 0, 0, 0, 0, 0, 0, 0, 0, 0, 0, 0, 0, 0, 1, 0, 0, 0, 0, 0, 0, 0, 0, 0, 0, 0, 0, 0, 0, 0, 0, 0, 0, 0, 0, 0, 1, 0, 0, 0, 0, 0, 0, 0, 0, 0, 0, 0, 0, 0, 0, 0, 0, 1, 0, 0, 0, 0, 0, 0, 0, 0, 0, 0, 0, 0, 0, 0, 0, 0, 0, 0, 0, 0, 1, 0, 0, 0, 0, 0, 0, 0, 0, 0, 0, 0, 0, 0, 0, 0, 0, 0, 0, 0, 0, 0, 1, 0, 0, 0, 0, 0, 0, 0, 0, 0, 0, 0, 0, 0, 0, 0, 0, 0, 0, 0, 0, 0], ['Network Engineer', 0, 0, 0, 0, 0, 0, 0, 0, 0, 0, 0, 0, 0, 0, 0, 0, 0, 0, 0, 0, 0, 0, 1, 0, 0, 0, 0, 0, 0, 0, 0, 0, 0, 0, 0, 0, 0, 0, 0, 0, 0, 0, 0, 0, 0, 0, 0, 0, 0, 0, 0, 1, 0, 0, 0, 0, 0, 0, 0, 0, 0, 0, 0, 0, 0, 0, 0, 0, 0, 0, 0, 0, 0, 1, 0, 0, 0, 0, 0, 0, 0, 0, 0, 0, 0, 0, 0, 0, 0, 0, 0, 0, 0, 0, 0, 0, 0, 0, 0, 0, 0, 0, 0, 0, 0, 0, 0, 0, 0, 0, 0, 0, 0, 0, 0, 0, 0, 0, 0, 0, 0, 0, 0, 0, 0, 0, 0, 0, 0, 0, 0, 0, 0, 1, 0, 0, 0, 0, 0, 0, 0, 0, 0, 0, 0, 0, 0, 0, 0, 0, 0, 0, 0, 0, 0], ['Global Development Specialist', 0, 0, 0, 0, 0, 0, 0, 0, 0, 0, 0, 0, 0, 0, 0, 0, 0, 0, 0, 0, 0, 0, 0, 0, 0, 0, 0, 0, 0, 0, 0, 0, 0, 0, 0, 0, 0, 0, 0, 0, 0, 0, 0, 0, 0, 0, 0, 0, 0, 0, 0, 0, 0, 0, 0, 0, 0, 0, 0, 0, 0, 0, 0, 0, 0, 0, 0, 0, 0, 1, 0, 0, 0, 0, 0, 0, 0, 0, 0, 0, 0, 0, 0, 0, 0, 0, 0, 0, 0, 0, 0, 0, 0, 0, 1, 0, 0, 0, 0, 0, 0, 0, 0, 0, 0, 0, 0, 0, 0, 0, 0, 0, 0, 0, 0, 0, 0, 0, 0, 0, 0, 0, 0, 0, 0, 0, 0, 0, 0, 0, 0, 0, 0, 0, 0, 0, 0, 0, 0, 0, 0, 0, 0, 0, 0, 0, 0, 0, 0, 0, 0, 0, 0, 0, 0], ['Fabricator', 0, 1, 0, 0, 0, 0, 0, 0, 0, 0, 0, 0, 0, 0, 0, 0, 0, 0, 0, 0, 0, 0, 1, 0, 0, 0, 0, 0, 0, 0, 0, 0, 0, 0, 1, 0, 0, 0, 0, 0, 0, 0, 0, 0, 0, 0, 0, 0, 0, 1, 0, 1, 0, 0, 0, 0, 0, 0, 0, 1, 0, 0, 0, 0, 0, 0, 0, 0, 0, 0, 0, 0, 1, 1, 0, 0, 0, 0, 0, 0, 0, 0, 0, 0, 0, 0, 0, 0, 0, 0, 1, 0, 0, 0, 0, 0, 0, 0, 0, 0, 0, 0, 0, 0, 0, 0, 0, 0, 0, 0, 0, 0, 0, 0, 1, 0, 0, 0, 0, 0, 0, 0, 0, 0, 0, 0, 0, 0, 0, 0, 0, 0, 0, 1, 0, 0, 0, 0, 0, 0, 0, 0, 0, 0, 0, 0, 0, 0, 0, 0, 0, 0, 0, 0, 0], ['Technology Consultant', 0, 0, 0, 0, 0, 0, 0, 0, 0, 0, 0, 0, 0, 0, 0, 0, 0, 0, 0, 0, 0, 0, 0, 0, 0, 0, 0, 1, 0, 0, 0, 0, 0, 0, 0, 0, 0, 0, 0, 0, 0, 0, 0, 0, 0, 0, 1, 0, 0, 0, 0, 0, 0, 0, 0, 0, 0, 0, 0, 0, 0, 0, 0, 0, 0, 0, 0, 0, 0, 0, 0, 0, 0, 0, 0, 0, 0, 0, 0, 0, 0, 0, 0, 0, 0, 0, 0, 0, 0, 0, 0, 0, 0, 0, 1, 0, 0, 0, 0, 0, 0, 0, 0, 0, 0, 0, 0, 0, 0, 0, 0, 0, 0, 0, 0, 0, 0, 0, 0, 0, 0, 0, 0, 0, 0, 0, 0, 0, 0, 0, 0, 0, 0, 0, 0, 0, 0, 0, 0, 0, 0, 0, 0, 0, 0, 0, 0, 0, 0, 0, 0, 0, 0, 0, 0], ['Patient Care Coordinator', 0, 0, 0, 0, 0, 0, 0, 0, 0, 0, 0, 0, 0, 0, 0, 0, 0, 0, 0, 0, 0, 0, 0, 0, 0, 0, 0, 0, 0, 0, 0, 0, 0, 0, 0, 0, 0, 0, 0, 0, 0, 0, 0, 0, 0, 0, 0, 0, 0, 0, 0, 0, 0, 0, 0, 0, 0, 0, 0, 0, 0, 0, 0, 0, 0, 0, 0, 0, 0, 0, 0, 0, 0, 1, 0, 0, 0, 0, 0, 0, 0, 0, 0, 0, 0, 0, 0, 0, 0, 0, 0, 0, 0, 0, 0, 0, 0, 0, 0, 0, 0, 0, 0, 0, 0, 0, 0, 0, 0, 0, 0, 0, 0, 0, 0, 0, 0, 0, 0, 0, 0, 0, 0, 0, 0, 0, 0, 0, 0, 0, 0, 0, 0, 0, 0, 0, 0, 0, 0, 0, 0, 0, 0, 0, 0, 0, 0, 0, 0, 0, 0, 0, 0, 0, 0], ['Senior Manager Product Intelligence and Cost Analytics', 0, 0, 0, 0, 0, 0, 0, 0, 0, 0, 0, 0, 0, 0, 0, 0, 0, 0, 0, 0, 0, 0, 1, 0, 0, 0, 0, 0, 0, 0, 0, 0, 0, 0, 0, 0, 0, 0, 0, 0, 0, 0, 0, 0, 0, 0, 1, 0, 0, 1, 0, 1, 0, 0, 0, 0, 0, 0, 0, 0, 0, 0, 0, 0, 0, 0, 0, 0, 0, 0, 0, 0, 0, 0, 0, 0, 0, 0, 0, 0, 0, 0, 0, 0, 0, 0, 0, 0, 0, 0, 0, 0, 0, 0, 0, 0, 0, 0, 0, 0, 0, 0, 0, 0, 0, 0, 0, 0, 0, 0, 0, 1, 0, 0, 0, 0, 0, 0, 0, 0, 0, 0, 0, 0, 0, 0, 0, 0, 0, 0, 0, 0, 0, 0, 0, 0, 0, 0, 0, 0, 0, 0, 0, 0, 0, 0, 0, 0, 0, 0, 0, 0, 0, 0, 0], ['Countertop Fabricator and Installer', 0, 1, 0, 0, 0, 0, 0, 0, 0, 0, 0, 0, 0, 0, 0, 0, 0, 0, 0, 0, 0, 0, 1, 0, 0, 0, 0, 0, 0, 0, 0, 0, 0, 0, 1, 0, 0, 0, 0, 0, 0, 0, 0, 0, 0, 0, 0, 0, 0, 0, 0, 0, 0, 0, 0, 0, 0, 0, 0, 0, 0, 0, 0, 0, 0, 0, 0, 0, 1, 0, 0, 0, 0, 0, 0, 0, 0, 0, 0, 0, 0, 0, 0, 0, 0, 0, 0, 0, 0, 0, 0, 0, 0, 0, 0, 0, 0, 0, 0, 0, 0, 0, 0, 0, 0, 0, 0, 0, 0, 0, 0, 0, 0, 0, 0, 0, 0, 0, 0, 0, 0, 0, 0, 0, 0, 0, 0, 0, 0, 0, 0, 0, 0, 1, 0, 0, 0, 0, 0, 0, 0, 0, 0, 0, 0, 0, 0, 0, 0, 0, 0, 0, 0, 0, 0], ['Cruise Ship', 0, 0, 0, 0, 0, 0, 0, 0, 0, 0, 0, 0, 0, 0, 0, 0, 0, 0, 0, 0, 0, 0, 0, 0, 0, 0, 0, 0, 0, 0, 0, 0, 0, 0, 0, 0, 0, 0, 0, 0, 0, 0, 0, 0, 0, 0, 0, 0, 0, 0, 0, 1, 0, 0, 0, 0, 0, 0, 0, 0, 0, 0, 0, 0, 0, 0, 0, 0, 0, 0, 0, 0, 0, 0, 0, 0, 0, 0, 0, 0, 0, 0, 0, 0, 0, 0, 0, 0, 0, 0, 0, 0, 0, 0, 0, 0, 0, 0, 0, 0, 0, 0, 0, 0, 0, 0, 0, 0, 0, 0, 0, 0, 0, 0, 0, 0, 0, 0, 0, 0, 0, 0, 0, 0, 0, 0, 0, 0, 0, 0, 0, 0, 0, 1, 0, 0, 0, 0, 0, 0, 0, 0, 0, 0, 0, 0, 0, 0, 0, 0, 0, 0, 0, 0, 0], ['Commercial Print Management Consultant', 0, 0, 0, 0, 0, 0, 0, 0, 0, 0, 0, 0, 0, 0, 0, 0, 0, 0, 0, 0, 0, 0, 0, 0, 0, 0, 0, 0, 0, 0, 0, 0, 0, 0, 0, 0, 0, 0, 0, 0, 0, 0, 0, 0, 0, 0, 0, 0, 0, 0, 0, 0, 0, 0, 0, 0, 0, 0, 0, 0, 0, 0, 0, 0, 0, 0, 0, 0, 0, 0, 0, 0, 0, 0, 0, 0, 0, 0, 0, 0, 0, 0, 0, 0, 0, 0, 0, 0, 0, 0, 0, 0, 0, 0, 1, 0, 0, 0, 0, 0, 0, 0, 0, 0, 0, 0, 0, 0, 0, 0, 0, 0, 0, 0, 0, 0, 0, 0, 0, 0, 0, 0, 0, 0, 0, 0, 0, 0, 0, 0, 0, 0, 0, 1, 0, 0, 0, 0, 0, 0, 0, 0, 0, 0, 0, 0, 0, 0, 0, 0, 0, 0, 0, 0, 0], ['Instrumentation Engineer', 0, 0, 0, 0, 0, 0, 0, 0, 0, 0, 0, 0, 0, 0, 0, 0, 0, 0, 0, 0, 0, 0, 0, 0, 0, 0, 0, 0, 0, 0, 0, 0, 0, 0, 0, 0, 0, 0, 0, 0, 0, 0, 0, 0, 0, 0, 0, 0, 0, 0, 0, 0, 0, 0, 0, 0, 0, 0, 0, 0, 0, 0, 0, 0, 0, 0, 0, 0, 0, 0, 0, 0, 0, 0, 0, 0, 0, 0, 0, 0, 0, 0, 0, 0, 0, 0, 0, 0, 0, 0, 0, 0, 0, 0, 0, 0, 0, 0, 0, 0, 0, 0, 0, 0, 0, 0, 0, 0, 0, 0, 0, 0, 0, 0, 0, 0, 0, 0, 0, 0, 0, 0, 0, 0, 0, 0, 0, 0, 0, 0, 0, 0, 0, 1, 0, 0, 0, 0, 0, 0, 0, 0, 0, 0, 0, 0, 0, 0, 0, 0, 0, 0, 0, 0, 0], ['Competitive Intelligence Manager', 0, 1, 0, 0, 0, 0, 0, 0, 0, 0, 0, 0, 0, 0, 0, 0, 0, 0, 0, 0, 0, 0, 1, 0, 0, 0, 0, 1, 0, 0, 0, 0, 0, 0, 0, 0, 0, 0, 0, 0, 0, 0, 0, 0, 0, 0, 1, 0, 0, 0, 0, 0, 0, 0, 0, 0, 0, 0, 0, 0, 0, 0, 0, 0, 0, 0, 0, 0, 0, 0, 0, 1, 0, 1, 0, 0, 0, 0, 0, 0, 0, 0, 0, 0, 0, 0, 0, 0, 0, 0, 0, 0, 0, 0, 1, 0, 0, 0, 0, 0, 1, 0, 0, 0, 0, 0, 0, 0, 0, 1, 0, 0, 0, 1, 0, 0, 0, 0, 0, 0, 0, 0, 0, 0, 0, 0, 0, 0, 0, 0, 0, 0, 0, 1, 0, 0, 0, 0, 0, 0, 0, 0, 0, 0, 0, 0, 0, 0, 0, 0, 0, 0, 0, 0, 0], ['Firmware Engineer', 0, 0, 0, 0, 0, 0, 0, 0, 0, 0, 0, 0, 0, 0, 0, 0, 0, 0, 0, 0, 0, 0, 0, 0, 0, 0, 0, 0, 0, 0, 0, 0, 0, 0, 0, 0, 0, 0, 0, 0, 0, 0, 0, 0, 0, 0, 0, 0, 0, 0, 0, 0, 0, 0, 0, 0, 0, 0, 0, 0, 0, 0, 0, 0, 0, 0, 0, 0, 0, 0, 0, 0, 0, 0, 0, 0, 0, 0, 0, 0, 0, 0, 0, 0, 0, 0, 0, 0, 0, 0, 0, 0, 0, 0, 1, 0, 0, 0, 0, 0, 0, 0, 0, 0, 0, 0, 0, 0, 0, 0, 0, 0, 0, 0, 0, 0, 0, 0, 0, 0, 0, 0, 0, 0, 0, 0, 0, 0, 0, 0, 0, 0, 0, 0, 0, 0, 0, 0, 0, 0, 0, 0, 0, 0, 0, 0, 0, 0, 0, 0, 0, 0, 0, 0, 0], ['Dermatology Nurse', 0, 0, 0, 0, 0, 0, 0, 0, 0, 0, 0, 0, 0, 0, 0, 0, 0, 0, 0, 0, 0, 0, 0, 0, 0, 0, 0, 1, 0, 0, 0, 0, 0, 0, 0, 0, 0, 0, 0, 0, 0, 0, 0, 0, 0, 0, 0, 0, 0, 0, 0, 0, 0, 0, 0, 0, 0, 0, 0, 0, 0, 0, 0, 0, 0, 0, 0, 0, 0, 0, 0, 0, 0, 0, 0, 0, 0, 0, 0, 0, 0, 0, 0, 0, 0, 0, 0, 0, 0, 0, 0, 0, 0, 0, 0, 0, 0, 0, 0, 0, 0, 0, 0, 0, 0, 0, 0, 0, 0, 0, 0, 0, 0, 0, 0, 0, 0, 0, 0, 0, 0, 0, 0, 0, 0, 0, 0, 0, 0, 0, 0, 0, 0, 1, 0, 0, 0, 0, 0, 0, 0, 0, 0, 0, 0, 0, 0, 0, 0, 0, 0, 0, 0, 0, 0], ['International Travel Consultant', 0, 0, 0, 0, 0, 1, 0, 0, 0, 0, 0, 0, 0, 0, 0, 0, 0, 0, 0, 0, 0, 0, 0, 0, 0, 0, 0, 1, 0, 0, 0, 0, 0, 0, 1, 0, 0, 0, 0, 0, 0, 0, 0, 0, 0, 0, 0, 0, 0, 0, 0, 0, 0, 0, 0, 0, 0, 0, 0, 0, 0, 0, 0, 0, 0, 0, 0, 0, 1, 0, 0, 0, 0, 0, 0, 0, 0, 0, 0, 0, 0, 0, 0, 0, 0, 0, 0, 0, 0, 0, 0, 0, 0, 0, 0, 0, 0, 0, 0, 0, 0, 0, 0, 0, 0, 0, 0, 0, 0, 0, 0, 0, 0, 0, 0, 0, 0, 0, 0, 0, 0, 0, 0, 0, 0, 0, 0, 0, 0, 0, 0, 0, 0, 1, 0, 0, 0, 0, 0, 0, 0, 0, 0, 0, 0, 0, 0, 0, 0, 0, 0, 0, 0, 0, 0], ['Production Assistant Events', 0, 0, 0, 0, 0, 0, 0, 0, 0, 0, 0, 0, 0, 0, 0, 0, 0, 0, 0, 0, 0, 0, 0, 0, 0, 0, 0, 0, 0, 0, 0, 0, 0, 0, 0, 0, 0, 0, 0, 0, 0, 0, 0, 0, 0, 0, 0, 0, 0, 0, 0, 0, 0, 0, 0, 1, 0, 0, 0, 0, 0, 0, 0, 0, 0, 0, 0, 0, 0, 0, 0, 0, 0, 0, 0, 0, 0, 0, 0, 0, 0, 0, 0, 0, 0, 0, 0, 1, 0, 0, 0, 0, 0, 0, 1, 0, 0, 0, 0, 0, 0, 0, 0, 0, 0, 0, 0, 0, 0, 0, 0, 0, 0, 0, 0, 0, 0, 0, 0, 0, 0, 0, 0, 0, 0, 0, 0, 0, 0, 0, 0, 0, 0, 0, 0, 0, 0, 0, 0, 0, 0, 0, 0, 0, 0, 0, 0, 0, 0, 0, 0, 0, 0, 0, 0], ['Alarm Technician', 0, 0, 0, 0, 0, 0, 0, 0, 0, 0, 0, 0, 0, 0, 0, 0, 0, 0, 0, 0, 0, 0, 0, 0, 0, 0, 0, 1, 0, 0, 0, 0, 0, 0, 0, 0, 0, 0, 0, 0, 0, 0, 0, 0, 0, 0, 1, 0, 0, 0, 0, 0, 0, 0, 0, 0, 0, 0, 0, 0, 0, 0, 0, 0, 0, 0, 0, 0, 0, 0, 0, 0, 0, 0, 0, 0, 0, 0, 0, 0, 0, 0, 0, 0, 0, 0, 0, 0, 0, 0, 0, 0, 0, 0, 1, 0, 0, 0, 0, 0, 0, 0, 0, 0, 0, 0, 0, 0, 0, 0, 0, 0, 0, 0, 0, 0, 0, 0, 0, 0, 0, 0, 0, 0, 0, 0, 0, 0, 0, 0, 0, 0, 0, 0, 0, 0, 0, 0, 0, 0, 0, 0, 0, 0, 0, 0, 0, 0, 0, 0, 0, 0, 0, 0, 0], ['Sports Physician', 0, 0, 0, 0, 0, 0, 0, 0, 0, 0, 0, 0, 0, 0, 0, 0, 0, 0, 0, 0, 0, 0, 1, 0, 0, 0, 0, 1, 0, 0, 0, 0, 0, 0, 0, 0, 0, 0, 0, 0, 0, 0, 0, 0, 0, 0, 0, 0, 0, 0, 0, 0, 0, 0, 0, 0, 0, 0, 0, 0, 0, 0, 0, 0, 0, 0, 0, 0, 0, 0, 0, 0, 0, 1, 0, 0, 0, 0, 0, 0, 0, 0, 0, 0, 0, 0, 0, 0, 0, 0, 0, 0, 0, 0, 1, 0, 0, 1, 0, 0, 0, 0, 0, 0, 0, 0, 0, 0, 0, 0, 0, 0, 0, 1, 0, 0, 0, 0, 0, 0, 0, 0, 0, 0, 0, 0, 0, 0, 0, 0, 0, 0, 0, 1, 0, 0, 0, 0, 0, 0, 0, 0, 0, 0, 0, 0, 0, 0, 0, 0, 0, 0, 0, 0, 0], ['Guest Room Sales Manager', 0, 1, 0, 0, 0, 1, 0, 0, 0, 0, 0, 0, 0, 0, 0, 0, 1, 0, 0, 0, 0, 0, 1, 0, 0, 0, 0, 0, 0, 0, 0, 0, 0, 0, 1, 0, 0, 0, 0, 0, 0, 0, 0, 0, 0, 0, 0, 0, 0, 0, 1, 0, 0, 0, 0, 0, 0, 0, 0, 0, 0, 0, 0, 0, 0, 0, 0, 0, 0, 1, 0, 0, 1, 1, 0, 0, 0, 0, 0, 0, 0, 0, 0, 0, 0, 0, 0, 0, 0, 0, 1, 0, 0, 0, 1, 1, 0, 0, 0, 0, 0, 0, 0, 0, 0, 0, 0, 0, 0, 0, 0, 0, 0, 1, 0, 0, 0, 0, 0, 0, 0, 0, 0, 0, 0, 0, 0, 0, 0, 0, 0, 0, 0, 1, 0, 0, 1, 0, 1, 1, 0, 0, 0, 0, 0, 0, 0, 0, 0, 0, 0, 0, 0, 0, 0], ['Hunting Guide', 0, 0, 0, 0, 0, 0, 0, 0, 0, 0, 0, 0, 0, 0, 0, 0, 0, 0, 0, 0, 0, 0, 1, 0, 0, 0, 0, 0, 0, 0, 0, 0, 0, 0, 0, 0, 0, 0, 0, 0, 0, 0, 0, 0, 0, 0, 0, 0, 0, 1, 0, 0, 0, 0, 0, 0, 0, 0, 0, 0, 0, 0, 0, 0, 0, 0, 0, 0, 0, 0, 0, 0, 0, 0, 0, 0, 0, 0, 0, 0, 0, 0, 0, 0, 0, 0, 0, 0, 0, 0, 0, 0, 0, 0, 0, 0, 0, 0, 0, 0, 0, 0, 0, 0, 0, 0, 0, 0, 0, 0, 0, 0, 0, 0, 0, 0, 0, 0, 0, 0, 0, 0, 0, 0, 0, 0, 0, 0, 0, 0, 0, 0, 0, 0, 0, 0, 0, 0, 0, 0, 0, 0, 0, 0, 0, 0, 0, 0, 0, 0, 0, 0, 0, 0, 0], ['Server', 0, 0, 0, 0, 0, 0, 0, 0, 0, 0, 0, 0, 0, 0, 0, 0, 0, 0, 0, 0, 0, 0, 1, 0, 0, 0, 0, 0, 0, 0, 0, 0, 0, 0, 0, 0, 0, 0, 0, 0, 0, 0, 0, 0, 0, 0, 0, 0, 0, 0, 0, 1, 0, 0, 0, 0, 0, 0, 0, 0, 0, 0, 0, 0, 0, 0, 0, 0, 0, 0, 0, 0, 0, 1, 0, 0, 0, 0, 0, 0, 0, 0, 0, 0, 0, 0, 0, 0, 0, 0, 0, 0, 0, 0, 0, 0, 0, 0, 0, 0, 0, 0, 0, 0, 0, 0, 0, 0, 0, 0, 0, 0, 0, 0, 0, 0, 0, 0, 0, 0, 0, 0, 0, 0, 0, 0, 0, 0, 0, 0, 0, 0, 0, 1, 0, 0, 0, 0, 0, 0, 0, 0, 0, 0, 0, 0, 0, 0, 0, 0, 0, 0, 0, 0, 0], ['Guest Services Agent', 0, 0, 0, 0, 0, 0, 0, 0, 0, 0, 0, 0, 0, 0, 0, 0, 0, 0, 0, 0, 0, 0, 0, 0, 0, 0, 0, 0, 0, 0, 0, 0, 0, 0, 0, 0, 0, 0, 0, 0, 0, 0, 0, 0, 0, 0, 0, 0, 0, 0, 0, 0, 0, 0, 0, 0, 0, 0, 0, 0, 0, 0, 0, 0, 0, 0, 0, 0, 0, 0, 0, 0, 0, 0, 0, 0, 0, 0, 0, 0, 0, 0, 0, 0, 0, 0, 0, 0, 0, 0, 0, 0, 0, 0, 0, 0, 0, 0, 0, 0, 0, 0, 0, 0, 0, 0, 0, 0, 0, 0, 0, 0, 0, 0, 0, 0, 0, 0, 0, 0, 0, 0, 0, 0, 0, 0, 0, 0, 0, 0, 0, 0, 0, 1, 0, 0, 0, 0, 0, 0, 0, 0, 0, 0, 0, 0, 0, 0, 0, 0, 0, 0, 0, 0, 0], ['Wedding Sales Manager', 0, 0, 0, 0, 0, 0, 0, 0, 0, 0, 0, 0, 0, 0, 0, 0, 0, 0, 0, 0, 0, 0, 0, 0, 0, 0, 0, 0, 0, 0, 0, 0, 0, 0, 0, 0, 0, 0, 0, 0, 0, 0, 0, 0, 0, 0, 1, 0, 0, 0, 0, 0, 0, 0, 0, 0, 0, 0, 0, 0, 0, 0, 0, 0, 0, 0, 0, 0, 0, 0, 0, 0, 0, 0, 0, 0, 1, 0, 0, 0, 0, 0, 0, 0, 0, 0, 0, 0, 0, 0, 0, 0, 0, 0, 1, 0, 0, 0, 0, 0, 0, 0, 0, 0, 0, 0, 0, 0, 0, 0, 0, 0, 0, 0, 0, 0, 0, 0, 0, 0, 0, 0, 0, 0, 0, 0, 0, 0, 0, 0, 0, 0, 0, 0, 0, 0, 0, 0, 0, 0, 0, 0, 0, 0, 0, 0, 0, 0, 0, 0, 0, 0, 0, 0, 0], ['Concierge?', 0, 0, 0, 0, 0, 0, 0, 0, 0, 0, 0, 0, 0, 0, 0, 0, 0, 0, 0, 0, 0, 0, 0, 0, 0, 0, 0, 0, 0, 0, 0, 0, 0, 0, 0, 0, 0, 0, 0, 0, 0, 0, 0, 0, 0, 0, 0, 0, 0, 0, 0, 0, 0, 0, 0, 0, 0, 0, 0, 0, 0, 0, 0, 0, 0, 0, 0, 0, 0, 0, 0, 0, 0, 0, 0, 0, 1, 0, 0, 0, 0, 0, 0, 0, 0, 0, 0, 0, 0, 0, 0, 0, 0, 0, 0, 0, 0, 0, 0, 0, 0, 0, 0, 0, 0, 0, 0, 0, 0, 0, 0, 0, 0, 0, 0, 0, 0, 0, 0, 0, 0, 0, 0, 0, 0, 0, 0, 0, 0, 0, 0, 0, 0, 0, 0, 0, 0, 0, 0, 0, 0, 0, 0, 0, 0, 0, 0, 0, 0, 0, 0, 0, 0, 0, 0], ['Industrial Technology Teacher', 0, 0, 0, 0, 0, 0, 0, 0, 0, 0, 0, 0, 0, 0, 0, 0, 0, 0, 0, 0, 0, 0, 0, 0, 0, 0, 0, 0, 0, 0, 0, 0, 0, 0, 0, 0, 0, 0, 0, 0, 0, 0, 0, 0, 0, 0, 0, 0, 0, 0, 0, 0, 0, 0, 0, 0, 0, 0, 0, 0, 0, 0, 0, 0, 0, 0, 0, 0, 0, 0, 0, 0, 0, 0, 0, 0, 1, 0, 0, 0, 0, 0, 0, 0, 0, 0, 0, 0, 0, 0, 0, 0, 0, 0, 0, 0, 0, 0, 0, 0, 0, 0, 0, 0, 0, 0, 0, 0, 0, 0, 0, 0, 0, 0, 0, 0, 0, 0, 0, 0, 0, 0, 0, 0, 0, 0, 0, 0, 0, 0, 0, 0, 0, 0, 0, 0, 0, 0, 0, 0, 0, 0, 0, 0, 0, 0, 0, 0, 0, 0, 0, 0, 0, 0, 0], ['Front Desk Clerk', 0, 0, 0, 0, 0, 0, 0, 0, 0, 0, 0, 0, 0, 0, 0, 0, 0, 0, 0, 0, 0, 0, 0, 0, 0, 0, 0, 0, 0, 0, 0, 0, 0, 0, 1, 0, 0, 0, 0, 0, 0, 0, 0, 0, 0, 0, 0, 0, 0, 0, 0, 0, 0, 0, 0, 0, 0, 0, 0, 0, 0, 0, 0, 0, 0, 0, 0, 0, 0, 0, 0, 0, 0, 1, 0, 0, 0, 0, 0, 0, 0, 0, 0, 0, 0, 0, 0, 0, 0, 0, 0, 0, 0, 0, 0, 0, 0, 0, 0, 0, 0, 0, 0, 0, 0, 0, 0, 0, 0, 0, 0, 0, 0, 0, 0, 0, 0, 0, 0, 0, 0, 0, 0, 0, 0, 0, 0, 0, 0, 0, 0, 0, 0, 1, 0, 0, 0, 0, 0, 0, 0, 0, 0, 0, 0, 0, 0, 0, 0, 0, 0, 0, 0, 0, 0], ['Tax Advisor', 0, 0, 0, 0, 0, 0, 0, 0, 0, 0, 0, 0, 0, 0, 0, 0, 0, 0, 0, 0, 0, 0, 0, 0, 0, 0, 0, 0, 0, 0, 0, 0, 0, 0, 0, 0, 0, 0, 0, 0, 0, 0, 0, 0, 0, 0, 0, 0, 0, 1, 0, 0, 0, 0, 0, 0, 0, 0, 0, 0, 0, 0, 0, 0, 0, 0, 0, 0, 0, 0, 0, 0, 0, 0, 0, 0, 0, 0, 0, 0, 0, 0, 0, 0, 0, 0, 0, 0, 0, 0, 0, 0, 0, 0, 1, 0, 0, 0, 0, 0, 0, 0, 0, 1, 0, 0, 0, 0, 0, 0, 0, 0, 0, 0, 0, 0, 0, 0, 0, 0, 0, 0, 0, 0, 0, 0, 0, 0, 0, 0, 0, 0, 0, 1, 0, 0, 0, 0, 0, 0, 0, 0, 0, 0, 0, 0, 0, 0, 0, 0, 0, 0, 0, 0, 0], ['Patio Room Installer', 0, 0, 0, 0, 0, 0, 0, 0, 0, 0, 0, 0, 0, 0, 0, 0, 0, 0, 0, 0, 0, 0, 0, 0, 0, 0, 0, 0, 0, 0, 0, 0, 0, 0, 1, 0, 0, 0, 0, 0, 0, 0, 0, 0, 0, 0, 0, 0, 0, 0, 0, 0, 0, 0, 0, 0, 0, 0, 0, 0, 0, 0, 0, 0, 0, 0, 0, 0, 0, 0, 0, 0, 0, 0, 0, 0, 0, 0, 0, 0, 0, 0, 0, 0, 0, 0, 0, 0, 0, 0, 0, 0, 0, 0, 0, 0, 0, 0, 0, 0, 0, 0, 0, 0, 0, 0, 0, 0, 0, 0, 0, 0, 0, 0, 0, 0, 0, 0, 0, 0, 0, 0, 0, 0, 0, 0, 0, 0, 0, 0, 0, 0, 0, 0, 0, 0, 0, 0, 0, 0, 0, 0, 0, 0, 0, 0, 0, 0, 0, 0, 0, 0, 0, 0, 0], ['Vice President of Engineering', 0, 0, 0, 0, 0, 0, 0, 0, 0, 0, 0, 0, 0, 0, 0, 0, 0, 0, 0, 0, 0, 0, 0, 0, 0, 0, 0, 1, 0, 0, 0, 0, 0, 0, 0, 0, 0, 0, 0, 0, 0, 0, 0, 0, 0, 0, 0, 0, 0, 0, 0, 0, 0, 0, 0, 0, 0, 0, 0, 0, 0, 0, 0, 0, 0, 0, 0, 0, 0, 1, 0, 0, 0, 0, 0, 0, 0, 0, 0, 0, 0, 0, 0, 0, 0, 0, 0, 0, 0, 0, 0, 0, 0, 0, 0, 0, 0, 0, 0, 0, 0, 0, 0, 0, 0, 0, 0, 0, 0, 0, 0, 0, 0, 0, 0, 0, 0, 0, 0, 0, 0, 0, 0, 0, 0, 0, 0, 0, 0, 0, 0, 0, 0, 0, 0, 0, 0, 0, 0, 0, 0, 0, 0, 0, 0, 0, 0, 0, 0, 0, 0, 0, 0, 0, 0], ['Change Management Consultant', 0, 0, 0, 0, 0, 0, 0, 0, 0, 0, 0, 0, 0, 0, 0, 0, 0, 0, 0, 0, 0, 0, 1, 0, 0, 0, 0, 0, 0, 0, 0, 0, 0, 0, 0, 0, 0, 0, 0, 0, 0, 0, 0, 0, 0, 0, 0, 0, 0, 0, 0, 1, 0, 0, 0, 0, 0, 0, 0, 0, 0, 0, 0, 0, 0, 0, 0, 0, 0, 0, 0, 0, 0, 0, 0, 0, 0, 0, 0, 0, 0, 0, 0, 0, 0, 0, 0, 0, 0, 0, 0, 0, 0, 0, 0, 0, 0, 0, 0, 0, 0, 0, 0, 0, 0, 0, 0, 0, 0, 0, 0, 0, 0, 0, 0, 0, 0, 0, 0, 0, 0, 0, 0, 0, 0, 0, 0, 0, 0, 0, 0, 0, 0, 0, 0, 0, 0, 0, 0, 0, 0, 0, 0, 0, 0, 0, 0, 0, 0, 0, 0, 0, 0, 0, 0], ['Financial Analyst', 0, 0, 0, 0, 0, 0, 0, 0, 0, 0, 0, 0, 0, 0, 0, 0, 0, 0, 0, 0, 0, 0, 0, 0, 0, 0, 0, 0, 0, 0, 0, 0, 0, 0, 0, 0, 0, 0, 0, 0, 0, 0, 0, 0, 0, 0, 0, 0, 0, 0, 0, 0, 0, 0, 0, 0, 0, 0, 0, 0, 0, 0, 0, 0, 0, 0, 0, 0, 0, 0, 0, 0, 0, 0, 0, 0, 1, 0, 0, 0, 0, 0, 0, 0, 0, 0, 0, 0, 0, 0, 0, 0, 0, 0, 0, 0, 0, 0, 0, 0, 0, 0, 0, 0, 0, 0, 0, 0, 0, 0, 0, 0, 0, 0, 0, 0, 0, 0, 0, 0, 0, 0, 0, 0, 0, 0, 0, 0, 0, 0, 0, 0, 0, 1, 0, 0, 0, 0, 0, 0, 0, 0, 0, 0, 0, 0, 0, 0, 0, 0, 0, 0, 0, 0, 0], ['Online Customer Support', 0, 0, 0, 0, 0, 0, 0, 0, 0, 0, 0, 0, 0, 0, 0, 0, 0, 0, 0, 0, 0, 0, 0, 0, 0, 0, 0, 1, 0, 0, 0, 0, 0, 0, 0, 0, 0, 0, 0, 0, 0, 0, 0, 0, 0, 0, 0, 0, 0, 0, 0, 1, 0, 0, 0, 0, 0, 0, 0, 0, 0, 0, 0, 0, 0, 0, 0, 0, 0, 0, 0, 0, 0, 1, 0, 0, 0, 0, 0, 0, 0, 0, 0, 0, 0, 0, 0, 0, 0, 0, 0, 0, 0, 0, 1, 0, 0, 0, 0, 0, 0, 0, 0, 0, 0, 0, 0, 0, 0, 0, 1, 0, 0, 0, 0, 0, 0, 0, 0, 0, 0, 0, 0, 1, 0, 0, 0, 0, 0, 0, 0, 0, 0, 1, 0, 0, 0, 0, 0, 0, 0, 0, 0, 0, 0, 0, 0, 0, 0, 0, 0, 0, 0, 0, 0], ['Cook', 0, 0, 0, 0, 0, 0, 0, 0, 0, 0, 0, 0, 0, 0, 0, 0, 0, 0, 0, 0, 0, 0, 0, 0, 0, 0, 0, 0, 0, 0, 0, 0, 0, 0, 1, 0, 0, 0, 0, 0, 0, 0, 0, 0, 0, 0, 0, 0, 0, 0, 0, 0, 0, 0, 0, 0, 0, 0, 0, 0, 0, 0, 0, 0, 0, 0, 0, 0, 0, 0, 0, 0, 0, 1, 0, 0, 0, 0, 0, 0, 0, 0, 0, 0, 0, 0, 0, 0, 0, 0, 0, 0, 0, 0, 0, 0, 0, 0, 0, 0, 0, 0, 0, 0, 0, 0, 0, 0, 0, 0, 0, 0, 0, 0, 0, 0, 0, 0, 0, 0, 0, 0, 0, 0, 0, 0, 0, 0, 0, 0, 0, 0, 0, 1, 0, 0, 0, 0, 0, 0, 0, 0, 0, 0, 0, 0, 0, 0, 0, 0, 0, 0, 0, 0, 0], ['Associate Athletic Director', 0, 1, 0, 0, 0, 0, 0, 0, 1, 0, 0, 0, 0, 0, 0, 0, 0, 0, 0, 0, 0, 0, 0, 0, 0, 0, 0, 0, 0, 0, 0, 0, 0, 0, 1, 0, 0, 0, 0, 0, 0, 0, 0, 0, 0, 0, 0, 0, 0, 0, 0, 0, 0, 0, 0, 0, 0, 0, 0, 0, 0, 0, 0, 0, 0, 0, 0, 0, 0, 0, 0, 0, 0, 0, 0, 0, 0, 0, 0, 0, 0, 0, 0, 0, 0, 0, 0, 0, 0, 0, 0, 0, 0, 0, 1, 0, 0, 0, 0, 0, 0, 0, 0, 0, 0, 0, 0, 0, 0, 0, 0, 0, 0, 0, 0, 0, 0, 0, 0, 0, 0, 0, 0, 0, 0, 0, 0, 0, 0, 0, 0, 0, 0, 1, 0, 0, 0, 0, 0, 0, 0, 0, 0, 0, 0, 0, 0, 0, 0, 0, 0, 0, 0, 0, 0], ['Front Desk Manager', 0, 1, 0, 0, 0, 0, 0, 1, 1, 0, 0, 1, 0, 0, 0, 0, 1, 0, 0, 1, 0, 0, 0, 0, 0, 0, 0, 0, 0, 0, 0, 0, 0, 0, 0, 0, 0, 1, 0, 0, 0, 0, 0, 0, 0, 0, 0, 1, 0, 1, 0, 1, 0, 0, 1, 0, 0, 0, 0, 1, 1, 0, 0, 1, 0, 0, 1, 0, 1, 0, 1, 0, 1, 0, 0, 0, 1, 0, 0, 0, 1, 1, 0, 0, 0, 0, 0, 0, 0, 0, 1, 0, 0, 1, 1, 0, 0, 1, 0, 0, 0, 0, 0, 0, 0, 0, 0, 0, 0, 0, 0, 0, 0, 0, 0, 0, 0, 0, 0, 1, 0, 0, 0, 0, 1, 1, 0, 0, 0, 0, 0, 1, 0, 0, 0, 0, 0, 0, 0, 0, 0, 0, 0, 0, 1, 0, 0, 1, 1, 0, 0, 1, 0, 0, 0], ['Tile Setter', 0, 0, 0, 0, 0, 0, 0, 0, 0, 0, 0, 0, 0, 0, 0, 0, 0, 0, 0, 0, 0, 0, 0, 0, 0, 0, 0, 0, 0, 0, 0, 0, 0, 0, 0, 0, 0, 0, 0, 0, 0, 0, 0, 0, 0, 0, 1, 0, 0, 1, 0, 0, 0, 0, 0, 0, 0, 0, 0, 0, 1, 0, 0, 0, 0, 0, 0, 1, 0, 0, 1, 0, 0, 0, 0, 0, 0, 0, 0, 0, 0, 1, 0, 0, 0, 0, 0, 0, 0, 0, 0, 0, 0, 0, 0, 0, 0, 0, 0, 0, 0, 0, 0, 0, 0, 0, 0, 0, 0, 0, 0, 0, 0, 0, 0, 0, 0, 0, 0, 0, 1, 0, 0, 0, 0, 0, 0, 0, 0, 0, 0, 0, 0, 0, 0, 0, 0, 0, 0, 0, 0, 0, 0, 1, 0, 0, 0, 0, 0, 0, 0, 0, 0, 0, 0], ['Technology Research Manager', 0, 0, 0, 0, 0, 0, 0, 0, 1, 0, 0, 0, 0, 0, 0, 0, 0, 0, 0, 0, 0, 0, 1, 0, 0, 0, 0, 0, 0, 0, 0, 1, 0, 0, 1, 0, 0, 0, 0, 0, 0, 0, 0, 0, 0, 0, 0, 1, 0, 1, 0, 1, 0, 0, 0, 0, 0, 0, 0, 1, 0, 0, 0, 0, 0, 0, 1, 0, 0, 0, 0, 0, 0, 0, 0, 0, 0, 0, 0, 0, 1, 0, 0, 0, 0, 0, 0, 0, 0, 0, 0, 0, 1, 1, 0, 0, 0, 0, 0, 0, 0, 0, 0, 0, 0, 0, 0, 0, 0, 0, 0, 0, 0, 0, 0, 0, 0, 0, 0, 0, 0, 0, 0, 1, 0, 1, 0, 0, 0, 0, 0, 0, 0, 0, 0, 0, 0, 0, 0, 0, 0, 0, 0, 0, 0, 1, 0, 0, 0, 0, 0, 0, 0, 0, 0], ['Rotating Equipment Engineer', 0, 1, 0, 0, 0, 1, 0, 0, 0, 0, 0, 0, 0, 0, 0, 0, 1, 0, 0, 0, 0, 0, 1, 0, 0, 0, 0, 0, 0, 0, 0, 0, 0, 0, 1, 0, 0, 0, 0, 0, 0, 0, 0, 0, 0, 0, 0, 0, 0, 0, 1, 0, 0, 0, 0, 0, 0, 0, 0, 0, 0, 0, 0, 0, 0, 0, 0, 0, 0, 1, 0, 0, 1, 1, 0, 0, 0, 0, 0, 0, 0, 0, 0, 0, 0, 0, 0, 0, 0, 0, 1, 0, 0, 0, 1, 1, 0, 0, 0, 0, 0, 0, 0, 0, 0, 0, 0, 0, 0, 0, 0, 0, 0, 1, 0, 0, 0, 0, 0, 0, 0, 0, 0, 0, 0, 0, 0, 0, 0, 0, 0, 0, 0, 1, 0, 0, 1, 0, 1, 1, 0, 0, 0, 0, 0, 0, 0, 0, 0, 0, 0, 0, 0, 0, 0], ['Director of Hotel Operations', 0, 0, 0, 0, 0, 0, 0, 0, 0, 0, 0, 0, 0, 0, 0, 0, 0, 0, 0, 0, 0, 0, 0, 0, 0, 0, 0, 0, 0, 0, 0, 0, 0, 0, 1, 0, 0, 0, 0, 0, 0, 0, 0, 0, 0, 0, 0, 0, 0, 0, 0, 0, 0, 0, 0, 0, 0, 0, 0, 0, 0, 0, 0, 0, 0, 0, 0, 0, 0, 0, 0, 0, 0, 0, 0, 0, 1, 0, 0, 0, 0, 0, 0, 0, 0, 0, 0, 0, 0, 0, 0, 0, 0, 0, 0, 0, 0, 0, 0, 0, 0, 0, 0, 0, 0, 0, 0, 0, 0, 0, 0, 0, 0, 0, 0, 0, 0, 0, 0, 0, 0, 0, 0, 0, 0, 0, 0, 0, 0, 0, 0, 0, 0, 1, 0, 0, 0, 0, 0, 0, 0, 0, 0, 0, 0, 0, 0, 0, 0, 0, 0, 0, 0, 0, 0], ['Front End Load Driver', 0, 0, 0, 0, 0, 0, 0, 0, 0, 0, 0, 0, 0, 0, 0, 0, 0, 0, 0, 0, 0, 0, 0, 0, 0, 0, 0, 0, 0, 0, 0, 0, 0, 0, 0, 0, 0, 0, 0, 0, 0, 0, 0, 0, 0, 0, 0, 0, 0, 0, 0, 0, 0, 0, 0, 0, 0, 0, 0, 0, 0, 0, 0, 0, 0, 0, 0, 0, 0, 0, 0, 0, 0, 0, 0, 0, 0, 0, 0, 0, 0, 0, 0, 0, 0, 0, 0, 0, 0, 0, 0, 0, 0, 0, 1, 0, 0, 0, 0, 0, 0, 0, 0, 0, 0, 0, 0, 0, 0, 0, 0, 0, 0, 0, 0, 0, 0, 0, 0, 0, 0, 0, 0, 0, 0, 0, 0, 0, 0, 0, 0, 0, 0, 0, 0, 0, 0, 0, 0, 0, 0, 0, 0, 0, 0, 0, 0, 0, 0, 0, 0, 0, 0, 0, 0], ['Oracle Technical Lead', 0, 0, 0, 0, 0, 0, 0, 0, 0, 0, 0, 0, 0, 0, 0, 0, 0, 0, 0, 0, 0, 0, 0, 0, 0, 0, 0, 0, 0, 0, 0, 0, 0, 0, 0, 0, 0, 0, 0, 0, 0, 0, 0, 0, 0, 0, 0, 0, 0, 0, 0, 0, 0, 0, 0, 0, 0, 0, 0, 0, 0, 0, 0, 0, 0, 0, 0, 0, 0, 0, 0, 0, 0, 0, 0, 0, 0, 0, 0, 0, 0, 0, 0, 0, 0, 0, 0, 0, 0, 0, 0, 0, 0, 0, 0, 0, 0, 0, 0, 0, 0, 0, 0, 0, 0, 0, 0, 0, 0, 0, 0, 0, 0, 0, 0, 0, 0, 0, 0, 0, 0, 0, 0, 0, 0, 0, 0, 0, 0, 0, 0, 0, 0, 1, 0, 0, 0, 0, 0, 0, 0, 0, 0, 0, 0, 0, 0, 0, 0, 0, 0, 0, 0, 0, 0], ['Informatica Extract Transform Load (ETL) Developer', 0, 0, 0, 0, 0, 0, 0, 0, 0, 0, 0, 0, 0, 0, 0, 0, 0, 0, 0, 0, 0, 0, 0, 0, 0, 0, 0, 0, 0, 0, 0, 0, 0, 0, 0, 0, 0, 0, 0, 0, 0, 0, 0, 0, 0, 0, 0, 0, 0, 0, 0, 1, 0, 0, 0, 0, 0, 0, 0, 0, 0, 0, 0, 0, 0, 0, 0, 0, 0, 0, 0, 0, 0, 1, 0, 0, 0, 0, 0, 0, 0, 0, 0, 0, 0, 0, 0, 0, 0, 0, 1, 0, 0, 0, 0, 0, 0, 0, 0, 0, 0, 0, 0, 0, 0, 0, 0, 0, 0, 0, 0, 0, 0, 0, 0, 0, 0, 0, 0, 0, 0, 0, 0, 0, 0, 0, 0, 0, 0, 0, 0, 0, 0, 0, 0, 0, 0, 0, 0, 0, 0, 0, 0, 0, 0, 0, 0, 0, 0, 0, 0, 0, 0, 0, 0], ['Mining Safety Engineer', 0, 0, 0, 0, 0, 0, 0, 0, 0, 0, 0, 0, 0, 0, 0, 0, 0, 0, 0, 0, 0, 0, 0, 0, 0, 0, 0, 0, 0, 0, 0, 0, 0, 0, 1, 0, 0, 0, 0, 0, 0, 0, 0, 0, 0, 0, 0, 0, 0, 0, 0, 0, 0, 0, 0, 0, 0, 0, 0, 0, 0, 0, 0, 0, 0, 0, 0, 0, 0, 0, 0, 0, 0, 0, 0, 0, 0, 0, 0, 0, 0, 0, 0, 0, 0, 0, 0, 0, 0, 0, 0, 0, 0, 0, 0, 0, 0, 0, 0, 0, 0, 0, 0, 0, 0, 0, 0, 0, 0, 0, 0, 0, 0, 0, 0, 0, 0, 0, 0, 0, 0, 0, 0, 0, 0, 0, 0, 0, 0, 0, 0, 0, 0, 1, 0, 0, 0, 0, 0, 0, 0, 0, 0, 0, 0, 0, 0, 0, 0, 0, 0, 0, 0, 0, 0], ['Passenger Service Agent', 0, 0, 0, 0, 0, 0, 0, 0, 0, 0, 0, 0, 0, 0, 0, 0, 0, 0, 0, 0, 0, 0, 0, 0, 0, 0, 0, 1, 0, 0, 0, 0, 0, 0, 0, 0, 0, 0, 0, 0, 0, 0, 0, 0, 0, 0, 0, 0, 0, 0, 0, 1, 0, 0, 0, 0, 0, 0, 0, 0, 0, 0, 0, 0, 0, 0, 0, 0, 0, 0, 0, 0, 0, 1, 0, 0, 0, 0, 0, 0, 0, 0, 0, 0, 0, 0, 0, 0, 0, 0, 1, 0, 0, 0, 0, 0, 0, 0, 0, 0, 0, 0, 0, 0, 0, 0, 0, 0, 0, 0, 0, 1, 0, 0, 0, 0, 0, 0, 0, 0, 0, 0, 0, 0, 0, 0, 0, 0, 0, 0, 0, 0, 0, 1, 0, 0, 0, 0, 0, 0, 0, 0, 0, 0, 0, 0, 0, 0, 0, 0, 0, 0, 0, 0, 0], ['Director of Guidance', 0, 0, 0, 0, 0, 0, 0, 0, 0, 0, 0, 0, 0, 0, 0, 0, 0, 0, 0, 0, 0, 0, 0, 0, 0, 0, 0, 1, 0, 0, 0, 0, 0, 0, 0, 0, 0, 0, 0, 0, 0, 0, 0, 0, 0, 0, 1, 0, 0, 0, 0, 0, 0, 0, 0, 0, 0, 0, 0, 0, 0, 0, 0, 0, 0, 0, 0, 0, 0, 0, 0, 0, 0, 0, 0, 0, 0, 0, 0, 0, 0, 0, 0, 0, 0, 0, 0, 0, 0, 0, 0, 0, 0, 0, 1, 0, 0, 0, 0, 0, 0, 0, 0, 0, 0, 0, 0, 0, 0, 0, 0, 0, 0, 0, 0, 0, 0, 0, 0, 0, 0, 0, 0, 0, 0, 0, 0, 0, 0, 0, 0, 0, 0, 0, 0, 0, 0, 0, 0, 0, 0, 0, 0, 0, 0, 0, 0, 0, 0, 0, 0, 0, 0, 0, 0], ['Service Consultant', 0, 0, 0, 0, 0, 0, 0, 0, 0, 0, 0, 0, 0, 0, 0, 0, 0, 0, 0, 0, 0, 0, 0, 0, 0, 0, 0, 0, 0, 0, 0, 0, 0, 0, 0, 0, 0, 0, 0, 0, 0, 0, 0, 0, 0, 0, 1, 0, 0, 0, 0, 0, 0, 0, 0, 0, 0, 0, 0, 0, 0, 0, 0, 0, 0, 0, 0, 0, 0, 0, 0, 0, 0, 0, 0, 0, 0, 0, 0, 0, 0, 0, 0, 0, 0, 0, 0, 0, 0, 0, 0, 0, 0, 0, 0, 0, 0, 0, 0, 0, 0, 0, 0, 0, 0, 0, 0, 0, 0, 0, 0, 0, 0, 0, 0, 0, 0, 0, 0, 0, 0, 0, 0, 0, 0, 0, 1, 0, 0, 0, 0, 0, 0, 0, 0, 0, 0, 0, 0, 0, 0, 0, 0, 0, 0, 0, 0, 0, 0, 0, 0, 0, 0, 0, 0], ['Account Manager', 0, 0, 0, 0, 0, 0, 0, 0, 0, 0, 0, 0, 0, 0, 0, 0, 0, 0, 0, 0, 0, 0, 0, 0, 0, 0, 0, 0, 0, 0, 0, 0, 0, 0, 0, 0, 0, 0, 0, 0, 0, 0, 0, 0, 0, 0, 1, 0, 0, 0, 0, 1, 0, 0, 0, 0, 0, 0, 0, 0, 0, 0, 0, 0, 0, 0, 0, 0, 0, 0, 0, 0, 0, 1, 0, 0, 0, 0, 0, 0, 0, 0, 0, 0, 0, 0, 0, 0, 0, 0, 0, 0, 0, 0, 0, 0, 0, 0, 0, 0, 0, 0, 0, 0, 0, 0, 0, 0, 0, 0, 0, 0, 0, 0, 0, 0, 0, 0, 0, 0, 0, 0, 0, 0, 0, 0, 0, 0, 0, 0, 0, 0, 0, 0, 0, 0, 0, 0, 0, 0, 0, 0, 0, 0, 0, 0, 0, 0, 0, 0, 0, 0, 0, 0, 0], ['Business Objects Architect', 0, 0, 0, 0, 0, 0, 0, 0, 0, 0, 0, 0, 0, 0, 0, 0, 0, 0, 0, 0, 0, 0, 0, 0, 0, 0, 0, 0, 0, 0, 0, 0, 0, 0, 0, 0, 0, 0, 0, 0, 0, 0, 0, 0, 0, 0, 0, 0, 0, 0, 0, 0, 0, 0, 0, 0, 0, 0, 0, 0, 0, 0, 0, 0, 0, 0, 0, 0, 0, 0, 0, 0, 0, 0, 0, 0, 0, 0, 0, 0, 0, 0, 0, 0, 0, 0, 0, 0, 0, 0, 0, 0, 0, 0, 1, 0, 0, 0, 0, 0, 0, 0, 0, 0, 0, 0, 0, 0, 0, 0, 0, 0, 0, 0, 0, 0, 0, 0, 0, 0, 0, 0, 0, 0, 0, 0, 0, 0, 0, 0, 0, 0, 0, 1, 0, 0, 0, 0, 0, 0, 0, 0, 0, 0, 0, 0, 0, 0, 0, 0, 0, 0, 0, 0, 0], ['Assistant Principal', 0, 0, 0, 0, 0, 0, 0, 0, 0, 0, 0, 0, 0, 0, 0, 0, 0, 0, 0, 0, 0, 0, 0, 0, 0, 0, 0, 0, 0, 0, 0, 0, 0, 0, 0, 0, 0, 0, 0, 0, 0, 0, 0, 0, 0, 0, 0, 0, 0, 0, 0, 0, 0, 0, 0, 0, 0, 0, 0, 0, 0, 0, 0, 0, 0, 0, 0, 0, 0, 0, 0, 0, 0, 0, 0, 0, 0, 0, 0, 0, 0, 0, 0, 0, 0, 0, 0, 0, 0, 0, 0, 0, 0, 0, 1, 0, 0, 0, 0, 0, 0, 0, 0, 0, 0, 0, 0, 0, 0, 0, 0, 0, 0, 0, 0, 0, 0, 0, 0, 0, 0, 0, 0, 0, 0, 0, 0, 0, 0, 0, 0, 0, 0, 0, 0, 0, 0, 0, 0, 0, 0, 0, 0, 0, 0, 0, 0, 0, 0, 0, 0, 0, 0, 0, 0], ['Integration/Business Intelligence Technical Lead', 0, 0, 0, 0, 0, 0, 0, 0, 0, 0, 0, 0, 0, 0, 0, 0, 0, 0, 0, 0, 0, 0, 0, 0, 0, 0, 0, 0, 0, 0, 0, 0, 0, 0, 0, 0, 0, 0, 0, 0, 0, 0, 0, 0, 0, 0, 0, 0, 0, 0, 0, 0, 0, 0, 0, 0, 0, 0, 0, 0, 0, 0, 0, 0, 0, 0, 0, 0, 0, 0, 0, 0, 0, 0, 0, 0, 0, 0, 0, 0, 0, 0, 0, 0, 0, 0, 0, 0, 0, 0, 0, 0, 0, 0, 1, 0, 0, 0, 0, 0, 0, 0, 0, 0, 0, 0, 0, 0, 0, 0, 0, 0, 0, 0, 0, 0, 0, 0, 0, 0, 0, 0, 0, 0, 0, 0, 0, 0, 0, 0, 0, 0, 0, 0, 0, 0, 0, 0, 0, 0, 0, 0, 0, 0, 0, 0, 0, 0, 0, 0, 0, 0, 0, 0, 0], ['Choral Music Teacher', 0, 0, 0, 0, 0, 0, 0, 0, 0, 0, 0, 0, 0, 0, 0, 0, 0, 0, 0, 0, 0, 0, 0, 0, 0, 0, 0, 0, 0, 0, 0, 0, 0, 0, 0, 0, 0, 0, 0, 0, 0, 0, 0, 0, 0, 0, 0, 0, 0, 0, 0, 0, 0, 0, 0, 0, 0, 0, 0, 0, 0, 0, 0, 0, 0, 0, 0, 0, 0, 0, 0, 0, 0, 1, 0, 0, 0, 0, 0, 0, 0, 0, 0, 0, 0, 0, 0, 0, 0, 0, 0, 0, 0, 0, 0, 0, 0, 0, 0, 0, 0, 0, 0, 0, 0, 0, 0, 0, 0, 0, 0, 0, 0, 0, 0, 0, 0, 0, 0, 0, 0, 0, 0, 0, 0, 0, 0, 0, 0, 0, 0, 0, 0, 0, 0, 0, 0, 0, 0, 0, 0, 0, 0, 0, 0, 0, 0, 0, 0, 0, 0, 0, 0, 0, 0], ['Quality Control Engineer', 0, 0, 0, 0, 0, 0, 0, 0, 0, 0, 0, 0, 0, 0, 0, 0, 0, 0, 0, 0, 0, 0, 0, 0, 0, 0, 0, 1, 0, 0, 0, 0, 0, 0, 0, 0, 0, 0, 0, 0, 0, 0, 0, 0, 0, 0, 1, 0, 0, 0, 0, 0, 0, 0, 0, 0, 0, 0, 0, 0, 0, 0, 0, 0, 0, 0, 0, 0, 0, 0, 0, 0, 0, 0, 0, 0, 0, 0, 0, 0, 0, 0, 0, 0, 0, 0, 0, 0, 0, 0, 0, 0, 0, 0, 1, 0, 0, 0, 0, 0, 0, 0, 0, 0, 0, 0, 0, 0, 0, 0, 0, 0, 0, 0, 0, 0, 0, 0, 0, 0, 0, 0, 0, 0, 0, 0, 0, 0, 0, 0, 0, 0, 0, 0, 0, 0, 0, 0, 0, 0, 0, 0, 0, 0, 0, 0, 0, 0, 0, 0, 0, 0, 0, 0, 0], ['Conference Coordinator', 0, 0, 0, 0, 0, 0, 0, 0, 0, 0, 0, 0, 0, 0, 1, 0, 0, 0, 0, 0, 0, 0, 0, 0, 0, 0, 0, 1, 0, 0, 0, 0, 0, 0, 0, 0, 0, 0, 0, 0, 0, 0, 0, 0, 0, 0, 0, 0, 0, 0, 0, 0, 0, 0, 0, 0, 0, 0, 0, 0, 0, 0, 0, 0, 0, 0, 0, 0, 0, 1, 0, 0, 0, 0, 0, 0, 0, 0, 0, 0, 0, 0, 0, 0, 0, 0, 0, 0, 0, 0, 0, 0, 0, 0, 0, 0, 0, 0, 0, 0, 0, 0, 0, 0, 0, 0, 0, 0, 0, 0, 0, 0, 0, 0, 0, 0, 0, 0, 0, 0, 0, 0, 0, 0, 0, 0, 0, 0, 0, 0, 0, 0, 0, 1, 0, 0, 0, 0, 0, 0, 0, 0, 0, 0, 0, 0, 0, 0, 0, 0, 0, 0, 0, 0, 0], ['Strength and Conditioning Coach', 0, 0, 0, 0, 0, 0, 0, 0, 0, 0, 0, 0, 0, 0, 0, 0, 0, 0, 0, 0, 0, 0, 0, 0, 0, 0, 0, 0, 0, 0, 0, 0, 0, 0, 1, 0, 0, 0, 0, 0, 0, 0, 0, 0, 0, 0, 0, 0, 0, 0, 0, 0, 0, 0, 0, 0, 0, 0, 0, 0, 0, 0, 0, 0, 0, 0, 0, 0, 0, 0, 0, 0, 0, 0, 0, 0, 0, 0, 0, 0, 0, 0, 0, 0, 0, 0, 0, 0, 0, 0, 0, 0, 0, 0, 0, 0, 0, 0, 0, 0, 0, 0, 0, 0, 0, 0, 0, 0, 0, 0, 0, 0, 0, 0, 0, 0, 0, 0, 0, 0, 0, 0, 0, 0, 0, 0, 0, 0, 0, 0, 0, 0, 0, 0, 0, 0, 0, 0, 0, 0, 0, 0, 0, 0, 0, 0, 0, 0, 0, 0, 0, 0, 0, 0, 0], ['Field Technician', 0, 0, 0, 0, 0, 0, 0, 0, 0, 0, 0, 0, 0, 0, 0, 0, 0, 0, 0, 0, 0, 0, 0, 0, 0, 0, 0, 1, 0, 0, 0, 0, 0, 0, 0, 0, 0, 0, 0, 0, 0, 0, 0, 0, 0, 0, 0, 0, 0, 0, 0, 0, 0, 0, 0, 0, 0, 0, 0, 0, 0, 0, 0, 0, 0, 0, 0, 0, 0, 1, 0, 0, 0, 0, 0, 0, 0, 0, 0, 0, 0, 0, 0, 0, 0, 0, 0, 0, 0, 0, 0, 0, 0, 0, 0, 0, 0, 0, 0, 0, 0, 0, 0, 0, 0, 0, 0, 0, 0, 0, 0, 0, 0, 0, 0, 0, 0, 0, 0, 0, 0, 0, 0, 0, 0, 0, 0, 0, 0, 0, 0, 0, 0, 0, 0, 0, 0, 0, 0, 0, 0, 0, 0, 0, 0, 0, 0, 0, 0, 0, 0, 0, 0, 0, 0], ['Manager Special Events', 0, 0, 0, 0, 0, 0, 0, 0, 0, 0, 0, 0, 0, 0, 0, 0, 0, 0, 0, 0, 0, 0, 0, 0, 0, 0, 0, 0, 0, 0, 0, 0, 0, 0, 0, 0, 0, 0, 0, 0, 0, 0, 0, 0, 0, 0, 0, 0, 0, 0, 0, 0, 0, 0, 0, 0, 0, 0, 0, 0, 0, 0, 0, 0, 0, 0, 0, 0, 0, 0, 0, 0, 0, 0, 0, 0, 0, 0, 0, 0, 0, 0, 0, 0, 0, 0, 0, 0, 0, 0, 0, 0, 0, 0, 1, 0, 0, 0, 0, 0, 0, 0, 0, 0, 0, 0, 0, 0, 0, 0, 0, 0, 0, 0, 0, 0, 0, 0, 0, 0, 0, 0, 0, 0, 0, 0, 0, 0, 0, 0, 0, 0, 0, 0, 0, 0, 0, 0, 0, 0, 0, 0, 0, 0, 0, 0, 0, 0, 0, 0, 0, 0, 0, 0, 0], ['Referee', 0, 0, 0, 0, 0, 0, 0, 0, 0, 0, 0, 0, 0, 0, 0, 0, 0, 0, 0, 0, 0, 0, 1, 0, 0, 0, 0, 0, 0, 0, 0, 0, 0, 0, 0, 0, 0, 0, 0, 0, 0, 0, 0, 0, 0, 0, 0, 0, 0, 0, 0, 0, 0, 0, 0, 0, 0, 0, 0, 0, 0, 0, 0, 0, 0, 0, 0, 0, 0, 0, 0, 0, 1, 0, 0, 0, 0, 0, 0, 0, 0, 0, 0, 0, 0, 0, 0, 0, 0, 0, 0, 0, 0, 0, 0, 0, 0, 0, 0, 0, 0, 0, 0, 0, 0, 0, 0, 0, 0, 0, 0, 0, 0, 0, 0, 0, 0, 0, 0, 0, 0, 0, 0, 0, 0, 0, 0, 0, 0, 0, 0, 0, 0, 0, 0, 0, 0, 0, 0, 0, 0, 0, 0, 0, 0, 0, 0, 0, 0, 0, 0, 0, 0, 0, 0], ['Controls Engineer', 0, 0, 0, 0, 0, 0, 0, 0, 0, 0, 0, 0, 0, 0, 0, 0, 0, 0, 0, 0, 0, 0, 0, 0, 0, 0, 0, 1, 0, 0, 0, 0, 0, 0, 0, 0, 0, 0, 0, 0, 0, 0, 0, 0, 0, 0, 1, 0, 0, 0, 0, 0, 0, 0, 0, 0, 0, 0, 0, 0, 0, 0, 0, 0, 0, 0, 0, 0, 0, 0, 0, 0, 0, 0, 0, 0, 0, 0, 0, 0, 0, 0, 0, 0, 0, 0, 0, 0, 0, 0, 0, 0, 0, 0, 1, 0, 0, 0, 0, 0, 0, 0, 0, 0, 0, 0, 0, 0, 0, 0, 0, 0, 0, 0, 0, 0, 0, 0, 0, 0, 0, 0, 0, 0, 0, 0, 0, 0, 0, 0, 0, 0, 0, 0, 0, 0, 0, 0, 0, 0, 0, 0, 0, 0, 0, 0, 0, 0, 0, 0, 0, 0, 0, 0, 0], ['Implementation Consultant', 0, 0, 0, 0, 0, 0, 0, 0, 0, 0, 0, 0, 0, 0, 0, 0, 0, 0, 0, 0, 0, 0, 0, 0, 0, 0, 0, 1, 0, 0, 0, 0, 0, 0, 0, 0, 0, 0, 0, 0, 0, 0, 0, 0, 0, 0, 0, 0, 0, 0, 0, 1, 0, 0, 0, 0, 0, 0, 0, 0, 0, 0, 0, 0, 0, 0, 0, 0, 0, 0, 0, 0, 0, 1, 0, 0, 0, 0, 0, 0, 0, 0, 0, 0, 0, 0, 0, 0, 0, 0, 1, 0, 0, 0, 0, 0, 0, 0, 0, 0, 0, 0, 0, 0, 0, 0, 0, 0, 0, 0, 0, 1, 0, 0, 0, 0, 0, 0, 0, 0, 0, 0, 0, 0, 0, 0, 0, 0, 0, 0, 0, 0, 0, 1, 0, 0, 0, 0, 0, 0, 0, 0, 0, 0, 0, 0, 0, 0, 0, 0, 0, 0, 0, 0, 0], ['Health/Physical Education Teacher', 0, 0, 0, 0, 0, 0, 0, 0, 0, 0, 0, 0, 0, 0, 0, 0, 0, 0, 0, 0, 0, 0, 1, 0, 0, 0, 0, 0, 0, 0, 0, 0, 0, 0, 0, 0, 0, 0, 0, 0, 0, 0, 0, 0, 0, 0, 0, 0, 0, 1, 0, 0, 0, 0, 0, 0, 0, 0, 0, 0, 0, 0, 0, 0, 0, 0, 0, 0, 0, 0, 0, 0, 0, 0, 0, 0, 0, 0, 0, 0, 0, 0, 0, 0, 0, 0, 0, 0, 0, 0, 0, 0, 0, 0, 0, 0, 0, 0, 0, 0, 0, 0, 0, 0, 0, 0, 0, 0, 0, 0, 0, 0, 0, 0, 0, 0, 0, 0, 0, 0, 0, 0, 0, 0, 0, 0, 0, 0, 0, 0, 0, 0, 0, 0, 0, 0, 0, 0, 0, 0, 0, 0, 0, 0, 0, 0, 0, 0, 0, 0, 0, 0, 0, 0, 0], ['Mechanical Engineer', 0, 0, 0, 0, 0, 0, 0, 0, 0, 0, 0, 0, 0, 0, 0, 0, 0, 0, 0, 0, 0, 0, 0, 0, 0, 0, 0, 1, 0, 0, 0, 0, 0, 0, 0, 0, 0, 0, 0, 0, 0, 0, 0, 0, 0, 0, 0, 0, 0, 0, 0, 1, 0, 0, 0, 0, 0, 0, 0, 0, 0, 0, 0, 0, 0, 0, 0, 0, 0, 0, 0, 0, 0, 1, 0, 0, 0, 0, 0, 0, 0, 0, 0, 0, 0, 0, 0, 0, 0, 0, 1, 0, 0, 0, 0, 0, 0, 0, 0, 0, 0, 0, 0, 0, 0, 0, 0, 0, 0, 0, 0, 1, 0, 0, 0, 0, 0, 0, 0, 0, 0, 0, 0, 0, 0, 0, 0, 0, 0, 0, 0, 0, 0, 1, 0, 0, 0, 0, 0, 0, 0, 0, 0, 0, 0, 0, 0, 0, 0, 0, 0, 0, 0, 0, 0]]\n",
            "len is 222\n"
          ],
          "name": "stdout"
        }
      ]
    },
    {
      "cell_type": "code",
      "metadata": {
        "colab": {
          "base_uri": "https://localhost:8080/"
        },
        "id": "L37SmbsmOKJd",
        "outputId": "10c71e6d-cd5e-4b9e-9a8a-d790430ddc4a"
      },
      "source": [
        "print(data_list[0])"
      ],
      "execution_count": null,
      "outputs": [
        {
          "output_type": "stream",
          "text": [
            "['Medical Receptionist', 0, 0, 0, 0, 0, 0, 1, 0, 0, 0, 0, 0, 0, 0, 0, 0, 1, 0, 0, 0, 0, 0, 0, 0, 0, 0, 0, 0, 0, 0, 0, 0, 0, 0, 0, 0, 0, 0, 0, 0, 0, 0, 0, 0, 0, 0, 0, 1, 1, 0, 0, 0, 0, 0, 0, 0, 0, 0, 0, 0, 1, 0, 0, 1, 0, 1, 0, 0, 1, 1, 0, 0, 0, 0, 0, 1, 0, 0, 0, 0, 0, 0, 0, 0, 0, 0, 1, 0, 0, 0, 1, 1, 0, 0, 0, 0, 0, 0, 0, 0, 0, 0, 0, 0, 0, 0, 0, 0, 0, 0, 0, 0, 0, 1, 0, 0, 0, 0, 1, 0, 0, 0, 0, 0, 0, 0, 0, 0, 0, 0, 0, 0, 0, 0, 0, 0, 0, 0, 0, 0, 0, 0, 0, 0, 0, 0, 0, 0, 0, 0, 0, 0, 0, 0, 0]\n"
          ],
          "name": "stdout"
        }
      ]
    },
    {
      "cell_type": "code",
      "metadata": {
        "colab": {
          "base_uri": "https://localhost:8080/",
          "height": 609
        },
        "id": "RXMvTLPPEDEe",
        "outputId": "8ad8719e-7290-4191-b0bf-1834afb4c1fb"
      },
      "source": [
        "#converting into dataframe:\n",
        "\n",
        "meta_data = pd.DataFrame(data_list,columns=column_headers)\n",
        "meta_data"
      ],
      "execution_count": null,
      "outputs": [
        {
          "output_type": "execute_result",
          "data": {
            "text/html": [
              "<div>\n",
              "<style scoped>\n",
              "    .dataframe tbody tr th:only-of-type {\n",
              "        vertical-align: middle;\n",
              "    }\n",
              "\n",
              "    .dataframe tbody tr th {\n",
              "        vertical-align: top;\n",
              "    }\n",
              "\n",
              "    .dataframe thead th {\n",
              "        text-align: right;\n",
              "    }\n",
              "</style>\n",
              "<table border=\"1\" class=\"dataframe\">\n",
              "  <thead>\n",
              "    <tr style=\"text-align: right;\">\n",
              "      <th></th>\n",
              "      <th>Jobs</th>\n",
              "      <th>powershell</th>\n",
              "      <th>ecommerce</th>\n",
              "      <th>solution</th>\n",
              "      <th>thinking</th>\n",
              "      <th>solving</th>\n",
              "      <th>tableau</th>\n",
              "      <th>testing</th>\n",
              "      <th>to</th>\n",
              "      <th>analytics</th>\n",
              "      <th>hive</th>\n",
              "      <th>php</th>\n",
              "      <th>analytical</th>\n",
              "      <th>vbnet</th>\n",
              "      <th>big</th>\n",
              "      <th>eclipse</th>\n",
              "      <th>collection</th>\n",
              "      <th>networks</th>\n",
              "      <th>technologies</th>\n",
              "      <th>pascal</th>\n",
              "      <th>statistical</th>\n",
              "      <th>backend</th>\n",
              "      <th>touch</th>\n",
              "      <th>mobile</th>\n",
              "      <th>iptables</th>\n",
              "      <th>mining</th>\n",
              "      <th>critical</th>\n",
              "      <th>fortran</th>\n",
              "      <th>ai</th>\n",
              "      <th>server</th>\n",
              "      <th>maven</th>\n",
              "      <th>renewable</th>\n",
              "      <th>priorities</th>\n",
              "      <th>linux</th>\n",
              "      <th>patterns</th>\n",
              "      <th>collaboration</th>\n",
              "      <th>system</th>\n",
              "      <th>hadoop</th>\n",
              "      <th>coding</th>\n",
              "      <th>control</th>\n",
              "      <th>...</th>\n",
              "      <th>visio</th>\n",
              "      <th>javascript</th>\n",
              "      <th>windows</th>\n",
              "      <th>support</th>\n",
              "      <th>less</th>\n",
              "      <th>insights</th>\n",
              "      <th>spark</th>\n",
              "      <th>tools</th>\n",
              "      <th>engineering</th>\n",
              "      <th>databases</th>\n",
              "      <th>web</th>\n",
              "      <th>html</th>\n",
              "      <th>systems</th>\n",
              "      <th>customer</th>\n",
              "      <th>frontend</th>\n",
              "      <th>matlab</th>\n",
              "      <th>analysis</th>\n",
              "      <th>assembly</th>\n",
              "      <th>communication</th>\n",
              "      <th>security</th>\n",
              "      <th>mathematics</th>\n",
              "      <th>wimax</th>\n",
              "      <th>sencha</th>\n",
              "      <th>lte</th>\n",
              "      <th>computing</th>\n",
              "      <th>multitasking</th>\n",
              "      <th>volleyball</th>\n",
              "      <th>nodejs</th>\n",
              "      <th>content</th>\n",
              "      <th>social</th>\n",
              "      <th>website</th>\n",
              "      <th>operating</th>\n",
              "      <th>attention</th>\n",
              "      <th>troubleshooting</th>\n",
              "      <th>artificial</th>\n",
              "      <th>foundation</th>\n",
              "      <th>detail</th>\n",
              "      <th>neural</th>\n",
              "      <th>problem</th>\n",
              "      <th>dom</th>\n",
              "    </tr>\n",
              "  </thead>\n",
              "  <tbody>\n",
              "    <tr>\n",
              "      <th>0</th>\n",
              "      <td>Medical Receptionist</td>\n",
              "      <td>0</td>\n",
              "      <td>0</td>\n",
              "      <td>0</td>\n",
              "      <td>0</td>\n",
              "      <td>0</td>\n",
              "      <td>0</td>\n",
              "      <td>1</td>\n",
              "      <td>0</td>\n",
              "      <td>0</td>\n",
              "      <td>0</td>\n",
              "      <td>0</td>\n",
              "      <td>0</td>\n",
              "      <td>0</td>\n",
              "      <td>0</td>\n",
              "      <td>0</td>\n",
              "      <td>0</td>\n",
              "      <td>1</td>\n",
              "      <td>0</td>\n",
              "      <td>0</td>\n",
              "      <td>0</td>\n",
              "      <td>0</td>\n",
              "      <td>0</td>\n",
              "      <td>0</td>\n",
              "      <td>0</td>\n",
              "      <td>0</td>\n",
              "      <td>0</td>\n",
              "      <td>0</td>\n",
              "      <td>0</td>\n",
              "      <td>0</td>\n",
              "      <td>0</td>\n",
              "      <td>0</td>\n",
              "      <td>0</td>\n",
              "      <td>0</td>\n",
              "      <td>0</td>\n",
              "      <td>0</td>\n",
              "      <td>0</td>\n",
              "      <td>0</td>\n",
              "      <td>0</td>\n",
              "      <td>0</td>\n",
              "      <td>...</td>\n",
              "      <td>0</td>\n",
              "      <td>0</td>\n",
              "      <td>0</td>\n",
              "      <td>1</td>\n",
              "      <td>0</td>\n",
              "      <td>0</td>\n",
              "      <td>0</td>\n",
              "      <td>0</td>\n",
              "      <td>0</td>\n",
              "      <td>0</td>\n",
              "      <td>0</td>\n",
              "      <td>0</td>\n",
              "      <td>0</td>\n",
              "      <td>0</td>\n",
              "      <td>0</td>\n",
              "      <td>0</td>\n",
              "      <td>0</td>\n",
              "      <td>0</td>\n",
              "      <td>0</td>\n",
              "      <td>0</td>\n",
              "      <td>0</td>\n",
              "      <td>0</td>\n",
              "      <td>0</td>\n",
              "      <td>0</td>\n",
              "      <td>0</td>\n",
              "      <td>0</td>\n",
              "      <td>0</td>\n",
              "      <td>0</td>\n",
              "      <td>0</td>\n",
              "      <td>0</td>\n",
              "      <td>0</td>\n",
              "      <td>0</td>\n",
              "      <td>0</td>\n",
              "      <td>0</td>\n",
              "      <td>0</td>\n",
              "      <td>0</td>\n",
              "      <td>0</td>\n",
              "      <td>0</td>\n",
              "      <td>0</td>\n",
              "      <td>0</td>\n",
              "    </tr>\n",
              "    <tr>\n",
              "      <th>1</th>\n",
              "      <td>Clinical Research Associate</td>\n",
              "      <td>0</td>\n",
              "      <td>0</td>\n",
              "      <td>0</td>\n",
              "      <td>0</td>\n",
              "      <td>0</td>\n",
              "      <td>0</td>\n",
              "      <td>0</td>\n",
              "      <td>0</td>\n",
              "      <td>0</td>\n",
              "      <td>0</td>\n",
              "      <td>0</td>\n",
              "      <td>0</td>\n",
              "      <td>0</td>\n",
              "      <td>0</td>\n",
              "      <td>0</td>\n",
              "      <td>0</td>\n",
              "      <td>0</td>\n",
              "      <td>0</td>\n",
              "      <td>0</td>\n",
              "      <td>0</td>\n",
              "      <td>0</td>\n",
              "      <td>0</td>\n",
              "      <td>0</td>\n",
              "      <td>0</td>\n",
              "      <td>0</td>\n",
              "      <td>0</td>\n",
              "      <td>0</td>\n",
              "      <td>0</td>\n",
              "      <td>0</td>\n",
              "      <td>0</td>\n",
              "      <td>0</td>\n",
              "      <td>0</td>\n",
              "      <td>0</td>\n",
              "      <td>0</td>\n",
              "      <td>0</td>\n",
              "      <td>0</td>\n",
              "      <td>0</td>\n",
              "      <td>0</td>\n",
              "      <td>0</td>\n",
              "      <td>...</td>\n",
              "      <td>0</td>\n",
              "      <td>0</td>\n",
              "      <td>0</td>\n",
              "      <td>0</td>\n",
              "      <td>0</td>\n",
              "      <td>0</td>\n",
              "      <td>0</td>\n",
              "      <td>0</td>\n",
              "      <td>0</td>\n",
              "      <td>0</td>\n",
              "      <td>0</td>\n",
              "      <td>0</td>\n",
              "      <td>0</td>\n",
              "      <td>0</td>\n",
              "      <td>0</td>\n",
              "      <td>0</td>\n",
              "      <td>0</td>\n",
              "      <td>0</td>\n",
              "      <td>1</td>\n",
              "      <td>0</td>\n",
              "      <td>0</td>\n",
              "      <td>0</td>\n",
              "      <td>0</td>\n",
              "      <td>0</td>\n",
              "      <td>0</td>\n",
              "      <td>0</td>\n",
              "      <td>0</td>\n",
              "      <td>0</td>\n",
              "      <td>0</td>\n",
              "      <td>0</td>\n",
              "      <td>0</td>\n",
              "      <td>0</td>\n",
              "      <td>0</td>\n",
              "      <td>0</td>\n",
              "      <td>0</td>\n",
              "      <td>0</td>\n",
              "      <td>0</td>\n",
              "      <td>0</td>\n",
              "      <td>0</td>\n",
              "      <td>0</td>\n",
              "    </tr>\n",
              "    <tr>\n",
              "      <th>2</th>\n",
              "      <td>Territory Sales Representative</td>\n",
              "      <td>0</td>\n",
              "      <td>1</td>\n",
              "      <td>0</td>\n",
              "      <td>0</td>\n",
              "      <td>0</td>\n",
              "      <td>0</td>\n",
              "      <td>0</td>\n",
              "      <td>0</td>\n",
              "      <td>0</td>\n",
              "      <td>0</td>\n",
              "      <td>0</td>\n",
              "      <td>0</td>\n",
              "      <td>0</td>\n",
              "      <td>0</td>\n",
              "      <td>0</td>\n",
              "      <td>0</td>\n",
              "      <td>0</td>\n",
              "      <td>0</td>\n",
              "      <td>0</td>\n",
              "      <td>0</td>\n",
              "      <td>0</td>\n",
              "      <td>0</td>\n",
              "      <td>0</td>\n",
              "      <td>0</td>\n",
              "      <td>0</td>\n",
              "      <td>0</td>\n",
              "      <td>0</td>\n",
              "      <td>0</td>\n",
              "      <td>0</td>\n",
              "      <td>0</td>\n",
              "      <td>0</td>\n",
              "      <td>0</td>\n",
              "      <td>0</td>\n",
              "      <td>0</td>\n",
              "      <td>0</td>\n",
              "      <td>0</td>\n",
              "      <td>0</td>\n",
              "      <td>0</td>\n",
              "      <td>0</td>\n",
              "      <td>...</td>\n",
              "      <td>0</td>\n",
              "      <td>0</td>\n",
              "      <td>0</td>\n",
              "      <td>0</td>\n",
              "      <td>0</td>\n",
              "      <td>0</td>\n",
              "      <td>0</td>\n",
              "      <td>0</td>\n",
              "      <td>0</td>\n",
              "      <td>0</td>\n",
              "      <td>0</td>\n",
              "      <td>0</td>\n",
              "      <td>0</td>\n",
              "      <td>0</td>\n",
              "      <td>0</td>\n",
              "      <td>0</td>\n",
              "      <td>0</td>\n",
              "      <td>0</td>\n",
              "      <td>1</td>\n",
              "      <td>0</td>\n",
              "      <td>0</td>\n",
              "      <td>0</td>\n",
              "      <td>0</td>\n",
              "      <td>0</td>\n",
              "      <td>0</td>\n",
              "      <td>0</td>\n",
              "      <td>0</td>\n",
              "      <td>0</td>\n",
              "      <td>0</td>\n",
              "      <td>0</td>\n",
              "      <td>0</td>\n",
              "      <td>0</td>\n",
              "      <td>0</td>\n",
              "      <td>0</td>\n",
              "      <td>0</td>\n",
              "      <td>0</td>\n",
              "      <td>0</td>\n",
              "      <td>0</td>\n",
              "      <td>0</td>\n",
              "      <td>0</td>\n",
              "    </tr>\n",
              "    <tr>\n",
              "      <th>3</th>\n",
              "      <td>Endoscopy Nurse</td>\n",
              "      <td>0</td>\n",
              "      <td>1</td>\n",
              "      <td>0</td>\n",
              "      <td>0</td>\n",
              "      <td>0</td>\n",
              "      <td>0</td>\n",
              "      <td>0</td>\n",
              "      <td>0</td>\n",
              "      <td>0</td>\n",
              "      <td>0</td>\n",
              "      <td>0</td>\n",
              "      <td>0</td>\n",
              "      <td>0</td>\n",
              "      <td>0</td>\n",
              "      <td>0</td>\n",
              "      <td>0</td>\n",
              "      <td>0</td>\n",
              "      <td>0</td>\n",
              "      <td>0</td>\n",
              "      <td>0</td>\n",
              "      <td>0</td>\n",
              "      <td>0</td>\n",
              "      <td>0</td>\n",
              "      <td>0</td>\n",
              "      <td>0</td>\n",
              "      <td>0</td>\n",
              "      <td>0</td>\n",
              "      <td>0</td>\n",
              "      <td>0</td>\n",
              "      <td>0</td>\n",
              "      <td>0</td>\n",
              "      <td>0</td>\n",
              "      <td>0</td>\n",
              "      <td>0</td>\n",
              "      <td>0</td>\n",
              "      <td>0</td>\n",
              "      <td>0</td>\n",
              "      <td>0</td>\n",
              "      <td>0</td>\n",
              "      <td>...</td>\n",
              "      <td>0</td>\n",
              "      <td>0</td>\n",
              "      <td>0</td>\n",
              "      <td>0</td>\n",
              "      <td>0</td>\n",
              "      <td>0</td>\n",
              "      <td>0</td>\n",
              "      <td>0</td>\n",
              "      <td>0</td>\n",
              "      <td>0</td>\n",
              "      <td>0</td>\n",
              "      <td>0</td>\n",
              "      <td>0</td>\n",
              "      <td>0</td>\n",
              "      <td>0</td>\n",
              "      <td>0</td>\n",
              "      <td>0</td>\n",
              "      <td>0</td>\n",
              "      <td>0</td>\n",
              "      <td>0</td>\n",
              "      <td>0</td>\n",
              "      <td>0</td>\n",
              "      <td>0</td>\n",
              "      <td>0</td>\n",
              "      <td>0</td>\n",
              "      <td>0</td>\n",
              "      <td>0</td>\n",
              "      <td>0</td>\n",
              "      <td>0</td>\n",
              "      <td>0</td>\n",
              "      <td>0</td>\n",
              "      <td>0</td>\n",
              "      <td>0</td>\n",
              "      <td>0</td>\n",
              "      <td>0</td>\n",
              "      <td>0</td>\n",
              "      <td>0</td>\n",
              "      <td>0</td>\n",
              "      <td>0</td>\n",
              "      <td>0</td>\n",
              "    </tr>\n",
              "    <tr>\n",
              "      <th>4</th>\n",
              "      <td>Bus Driver</td>\n",
              "      <td>0</td>\n",
              "      <td>0</td>\n",
              "      <td>0</td>\n",
              "      <td>0</td>\n",
              "      <td>0</td>\n",
              "      <td>0</td>\n",
              "      <td>0</td>\n",
              "      <td>0</td>\n",
              "      <td>0</td>\n",
              "      <td>0</td>\n",
              "      <td>0</td>\n",
              "      <td>0</td>\n",
              "      <td>0</td>\n",
              "      <td>0</td>\n",
              "      <td>0</td>\n",
              "      <td>0</td>\n",
              "      <td>0</td>\n",
              "      <td>0</td>\n",
              "      <td>0</td>\n",
              "      <td>0</td>\n",
              "      <td>0</td>\n",
              "      <td>0</td>\n",
              "      <td>1</td>\n",
              "      <td>0</td>\n",
              "      <td>0</td>\n",
              "      <td>0</td>\n",
              "      <td>0</td>\n",
              "      <td>1</td>\n",
              "      <td>0</td>\n",
              "      <td>0</td>\n",
              "      <td>0</td>\n",
              "      <td>0</td>\n",
              "      <td>0</td>\n",
              "      <td>0</td>\n",
              "      <td>0</td>\n",
              "      <td>0</td>\n",
              "      <td>0</td>\n",
              "      <td>0</td>\n",
              "      <td>0</td>\n",
              "      <td>...</td>\n",
              "      <td>0</td>\n",
              "      <td>0</td>\n",
              "      <td>0</td>\n",
              "      <td>0</td>\n",
              "      <td>0</td>\n",
              "      <td>0</td>\n",
              "      <td>0</td>\n",
              "      <td>0</td>\n",
              "      <td>0</td>\n",
              "      <td>0</td>\n",
              "      <td>0</td>\n",
              "      <td>0</td>\n",
              "      <td>0</td>\n",
              "      <td>0</td>\n",
              "      <td>0</td>\n",
              "      <td>0</td>\n",
              "      <td>0</td>\n",
              "      <td>0</td>\n",
              "      <td>1</td>\n",
              "      <td>0</td>\n",
              "      <td>0</td>\n",
              "      <td>0</td>\n",
              "      <td>0</td>\n",
              "      <td>0</td>\n",
              "      <td>0</td>\n",
              "      <td>0</td>\n",
              "      <td>0</td>\n",
              "      <td>0</td>\n",
              "      <td>0</td>\n",
              "      <td>0</td>\n",
              "      <td>0</td>\n",
              "      <td>0</td>\n",
              "      <td>0</td>\n",
              "      <td>0</td>\n",
              "      <td>0</td>\n",
              "      <td>0</td>\n",
              "      <td>0</td>\n",
              "      <td>0</td>\n",
              "      <td>0</td>\n",
              "      <td>0</td>\n",
              "    </tr>\n",
              "    <tr>\n",
              "      <th>...</th>\n",
              "      <td>...</td>\n",
              "      <td>...</td>\n",
              "      <td>...</td>\n",
              "      <td>...</td>\n",
              "      <td>...</td>\n",
              "      <td>...</td>\n",
              "      <td>...</td>\n",
              "      <td>...</td>\n",
              "      <td>...</td>\n",
              "      <td>...</td>\n",
              "      <td>...</td>\n",
              "      <td>...</td>\n",
              "      <td>...</td>\n",
              "      <td>...</td>\n",
              "      <td>...</td>\n",
              "      <td>...</td>\n",
              "      <td>...</td>\n",
              "      <td>...</td>\n",
              "      <td>...</td>\n",
              "      <td>...</td>\n",
              "      <td>...</td>\n",
              "      <td>...</td>\n",
              "      <td>...</td>\n",
              "      <td>...</td>\n",
              "      <td>...</td>\n",
              "      <td>...</td>\n",
              "      <td>...</td>\n",
              "      <td>...</td>\n",
              "      <td>...</td>\n",
              "      <td>...</td>\n",
              "      <td>...</td>\n",
              "      <td>...</td>\n",
              "      <td>...</td>\n",
              "      <td>...</td>\n",
              "      <td>...</td>\n",
              "      <td>...</td>\n",
              "      <td>...</td>\n",
              "      <td>...</td>\n",
              "      <td>...</td>\n",
              "      <td>...</td>\n",
              "      <td>...</td>\n",
              "      <td>...</td>\n",
              "      <td>...</td>\n",
              "      <td>...</td>\n",
              "      <td>...</td>\n",
              "      <td>...</td>\n",
              "      <td>...</td>\n",
              "      <td>...</td>\n",
              "      <td>...</td>\n",
              "      <td>...</td>\n",
              "      <td>...</td>\n",
              "      <td>...</td>\n",
              "      <td>...</td>\n",
              "      <td>...</td>\n",
              "      <td>...</td>\n",
              "      <td>...</td>\n",
              "      <td>...</td>\n",
              "      <td>...</td>\n",
              "      <td>...</td>\n",
              "      <td>...</td>\n",
              "      <td>...</td>\n",
              "      <td>...</td>\n",
              "      <td>...</td>\n",
              "      <td>...</td>\n",
              "      <td>...</td>\n",
              "      <td>...</td>\n",
              "      <td>...</td>\n",
              "      <td>...</td>\n",
              "      <td>...</td>\n",
              "      <td>...</td>\n",
              "      <td>...</td>\n",
              "      <td>...</td>\n",
              "      <td>...</td>\n",
              "      <td>...</td>\n",
              "      <td>...</td>\n",
              "      <td>...</td>\n",
              "      <td>...</td>\n",
              "      <td>...</td>\n",
              "      <td>...</td>\n",
              "      <td>...</td>\n",
              "      <td>...</td>\n",
              "    </tr>\n",
              "    <tr>\n",
              "      <th>217</th>\n",
              "      <td>Referee</td>\n",
              "      <td>0</td>\n",
              "      <td>0</td>\n",
              "      <td>0</td>\n",
              "      <td>0</td>\n",
              "      <td>0</td>\n",
              "      <td>0</td>\n",
              "      <td>0</td>\n",
              "      <td>0</td>\n",
              "      <td>0</td>\n",
              "      <td>0</td>\n",
              "      <td>0</td>\n",
              "      <td>0</td>\n",
              "      <td>0</td>\n",
              "      <td>0</td>\n",
              "      <td>0</td>\n",
              "      <td>0</td>\n",
              "      <td>0</td>\n",
              "      <td>0</td>\n",
              "      <td>0</td>\n",
              "      <td>0</td>\n",
              "      <td>0</td>\n",
              "      <td>0</td>\n",
              "      <td>1</td>\n",
              "      <td>0</td>\n",
              "      <td>0</td>\n",
              "      <td>0</td>\n",
              "      <td>0</td>\n",
              "      <td>0</td>\n",
              "      <td>0</td>\n",
              "      <td>0</td>\n",
              "      <td>0</td>\n",
              "      <td>0</td>\n",
              "      <td>0</td>\n",
              "      <td>0</td>\n",
              "      <td>0</td>\n",
              "      <td>0</td>\n",
              "      <td>0</td>\n",
              "      <td>0</td>\n",
              "      <td>0</td>\n",
              "      <td>...</td>\n",
              "      <td>0</td>\n",
              "      <td>0</td>\n",
              "      <td>0</td>\n",
              "      <td>0</td>\n",
              "      <td>0</td>\n",
              "      <td>0</td>\n",
              "      <td>0</td>\n",
              "      <td>0</td>\n",
              "      <td>0</td>\n",
              "      <td>0</td>\n",
              "      <td>0</td>\n",
              "      <td>0</td>\n",
              "      <td>0</td>\n",
              "      <td>0</td>\n",
              "      <td>0</td>\n",
              "      <td>0</td>\n",
              "      <td>0</td>\n",
              "      <td>0</td>\n",
              "      <td>0</td>\n",
              "      <td>0</td>\n",
              "      <td>0</td>\n",
              "      <td>0</td>\n",
              "      <td>0</td>\n",
              "      <td>0</td>\n",
              "      <td>0</td>\n",
              "      <td>0</td>\n",
              "      <td>0</td>\n",
              "      <td>0</td>\n",
              "      <td>0</td>\n",
              "      <td>0</td>\n",
              "      <td>0</td>\n",
              "      <td>0</td>\n",
              "      <td>0</td>\n",
              "      <td>0</td>\n",
              "      <td>0</td>\n",
              "      <td>0</td>\n",
              "      <td>0</td>\n",
              "      <td>0</td>\n",
              "      <td>0</td>\n",
              "      <td>0</td>\n",
              "    </tr>\n",
              "    <tr>\n",
              "      <th>218</th>\n",
              "      <td>Controls Engineer</td>\n",
              "      <td>0</td>\n",
              "      <td>0</td>\n",
              "      <td>0</td>\n",
              "      <td>0</td>\n",
              "      <td>0</td>\n",
              "      <td>0</td>\n",
              "      <td>0</td>\n",
              "      <td>0</td>\n",
              "      <td>0</td>\n",
              "      <td>0</td>\n",
              "      <td>0</td>\n",
              "      <td>0</td>\n",
              "      <td>0</td>\n",
              "      <td>0</td>\n",
              "      <td>0</td>\n",
              "      <td>0</td>\n",
              "      <td>0</td>\n",
              "      <td>0</td>\n",
              "      <td>0</td>\n",
              "      <td>0</td>\n",
              "      <td>0</td>\n",
              "      <td>0</td>\n",
              "      <td>0</td>\n",
              "      <td>0</td>\n",
              "      <td>0</td>\n",
              "      <td>0</td>\n",
              "      <td>0</td>\n",
              "      <td>1</td>\n",
              "      <td>0</td>\n",
              "      <td>0</td>\n",
              "      <td>0</td>\n",
              "      <td>0</td>\n",
              "      <td>0</td>\n",
              "      <td>0</td>\n",
              "      <td>0</td>\n",
              "      <td>0</td>\n",
              "      <td>0</td>\n",
              "      <td>0</td>\n",
              "      <td>0</td>\n",
              "      <td>...</td>\n",
              "      <td>0</td>\n",
              "      <td>0</td>\n",
              "      <td>0</td>\n",
              "      <td>0</td>\n",
              "      <td>0</td>\n",
              "      <td>0</td>\n",
              "      <td>0</td>\n",
              "      <td>0</td>\n",
              "      <td>0</td>\n",
              "      <td>0</td>\n",
              "      <td>0</td>\n",
              "      <td>0</td>\n",
              "      <td>0</td>\n",
              "      <td>0</td>\n",
              "      <td>0</td>\n",
              "      <td>0</td>\n",
              "      <td>0</td>\n",
              "      <td>0</td>\n",
              "      <td>0</td>\n",
              "      <td>0</td>\n",
              "      <td>0</td>\n",
              "      <td>0</td>\n",
              "      <td>0</td>\n",
              "      <td>0</td>\n",
              "      <td>0</td>\n",
              "      <td>0</td>\n",
              "      <td>0</td>\n",
              "      <td>0</td>\n",
              "      <td>0</td>\n",
              "      <td>0</td>\n",
              "      <td>0</td>\n",
              "      <td>0</td>\n",
              "      <td>0</td>\n",
              "      <td>0</td>\n",
              "      <td>0</td>\n",
              "      <td>0</td>\n",
              "      <td>0</td>\n",
              "      <td>0</td>\n",
              "      <td>0</td>\n",
              "      <td>0</td>\n",
              "    </tr>\n",
              "    <tr>\n",
              "      <th>219</th>\n",
              "      <td>Implementation Consultant</td>\n",
              "      <td>0</td>\n",
              "      <td>0</td>\n",
              "      <td>0</td>\n",
              "      <td>0</td>\n",
              "      <td>0</td>\n",
              "      <td>0</td>\n",
              "      <td>0</td>\n",
              "      <td>0</td>\n",
              "      <td>0</td>\n",
              "      <td>0</td>\n",
              "      <td>0</td>\n",
              "      <td>0</td>\n",
              "      <td>0</td>\n",
              "      <td>0</td>\n",
              "      <td>0</td>\n",
              "      <td>0</td>\n",
              "      <td>0</td>\n",
              "      <td>0</td>\n",
              "      <td>0</td>\n",
              "      <td>0</td>\n",
              "      <td>0</td>\n",
              "      <td>0</td>\n",
              "      <td>0</td>\n",
              "      <td>0</td>\n",
              "      <td>0</td>\n",
              "      <td>0</td>\n",
              "      <td>0</td>\n",
              "      <td>1</td>\n",
              "      <td>0</td>\n",
              "      <td>0</td>\n",
              "      <td>0</td>\n",
              "      <td>0</td>\n",
              "      <td>0</td>\n",
              "      <td>0</td>\n",
              "      <td>0</td>\n",
              "      <td>0</td>\n",
              "      <td>0</td>\n",
              "      <td>0</td>\n",
              "      <td>0</td>\n",
              "      <td>...</td>\n",
              "      <td>0</td>\n",
              "      <td>0</td>\n",
              "      <td>0</td>\n",
              "      <td>0</td>\n",
              "      <td>0</td>\n",
              "      <td>0</td>\n",
              "      <td>0</td>\n",
              "      <td>0</td>\n",
              "      <td>0</td>\n",
              "      <td>0</td>\n",
              "      <td>0</td>\n",
              "      <td>0</td>\n",
              "      <td>0</td>\n",
              "      <td>0</td>\n",
              "      <td>0</td>\n",
              "      <td>0</td>\n",
              "      <td>0</td>\n",
              "      <td>0</td>\n",
              "      <td>1</td>\n",
              "      <td>0</td>\n",
              "      <td>0</td>\n",
              "      <td>0</td>\n",
              "      <td>0</td>\n",
              "      <td>0</td>\n",
              "      <td>0</td>\n",
              "      <td>0</td>\n",
              "      <td>0</td>\n",
              "      <td>0</td>\n",
              "      <td>0</td>\n",
              "      <td>0</td>\n",
              "      <td>0</td>\n",
              "      <td>0</td>\n",
              "      <td>0</td>\n",
              "      <td>0</td>\n",
              "      <td>0</td>\n",
              "      <td>0</td>\n",
              "      <td>0</td>\n",
              "      <td>0</td>\n",
              "      <td>0</td>\n",
              "      <td>0</td>\n",
              "    </tr>\n",
              "    <tr>\n",
              "      <th>220</th>\n",
              "      <td>Health/Physical Education Teacher</td>\n",
              "      <td>0</td>\n",
              "      <td>0</td>\n",
              "      <td>0</td>\n",
              "      <td>0</td>\n",
              "      <td>0</td>\n",
              "      <td>0</td>\n",
              "      <td>0</td>\n",
              "      <td>0</td>\n",
              "      <td>0</td>\n",
              "      <td>0</td>\n",
              "      <td>0</td>\n",
              "      <td>0</td>\n",
              "      <td>0</td>\n",
              "      <td>0</td>\n",
              "      <td>0</td>\n",
              "      <td>0</td>\n",
              "      <td>0</td>\n",
              "      <td>0</td>\n",
              "      <td>0</td>\n",
              "      <td>0</td>\n",
              "      <td>0</td>\n",
              "      <td>0</td>\n",
              "      <td>1</td>\n",
              "      <td>0</td>\n",
              "      <td>0</td>\n",
              "      <td>0</td>\n",
              "      <td>0</td>\n",
              "      <td>0</td>\n",
              "      <td>0</td>\n",
              "      <td>0</td>\n",
              "      <td>0</td>\n",
              "      <td>0</td>\n",
              "      <td>0</td>\n",
              "      <td>0</td>\n",
              "      <td>0</td>\n",
              "      <td>0</td>\n",
              "      <td>0</td>\n",
              "      <td>0</td>\n",
              "      <td>0</td>\n",
              "      <td>...</td>\n",
              "      <td>0</td>\n",
              "      <td>0</td>\n",
              "      <td>0</td>\n",
              "      <td>0</td>\n",
              "      <td>0</td>\n",
              "      <td>0</td>\n",
              "      <td>0</td>\n",
              "      <td>0</td>\n",
              "      <td>0</td>\n",
              "      <td>0</td>\n",
              "      <td>0</td>\n",
              "      <td>0</td>\n",
              "      <td>0</td>\n",
              "      <td>0</td>\n",
              "      <td>0</td>\n",
              "      <td>0</td>\n",
              "      <td>0</td>\n",
              "      <td>0</td>\n",
              "      <td>0</td>\n",
              "      <td>0</td>\n",
              "      <td>0</td>\n",
              "      <td>0</td>\n",
              "      <td>0</td>\n",
              "      <td>0</td>\n",
              "      <td>0</td>\n",
              "      <td>0</td>\n",
              "      <td>0</td>\n",
              "      <td>0</td>\n",
              "      <td>0</td>\n",
              "      <td>0</td>\n",
              "      <td>0</td>\n",
              "      <td>0</td>\n",
              "      <td>0</td>\n",
              "      <td>0</td>\n",
              "      <td>0</td>\n",
              "      <td>0</td>\n",
              "      <td>0</td>\n",
              "      <td>0</td>\n",
              "      <td>0</td>\n",
              "      <td>0</td>\n",
              "    </tr>\n",
              "    <tr>\n",
              "      <th>221</th>\n",
              "      <td>Mechanical Engineer</td>\n",
              "      <td>0</td>\n",
              "      <td>0</td>\n",
              "      <td>0</td>\n",
              "      <td>0</td>\n",
              "      <td>0</td>\n",
              "      <td>0</td>\n",
              "      <td>0</td>\n",
              "      <td>0</td>\n",
              "      <td>0</td>\n",
              "      <td>0</td>\n",
              "      <td>0</td>\n",
              "      <td>0</td>\n",
              "      <td>0</td>\n",
              "      <td>0</td>\n",
              "      <td>0</td>\n",
              "      <td>0</td>\n",
              "      <td>0</td>\n",
              "      <td>0</td>\n",
              "      <td>0</td>\n",
              "      <td>0</td>\n",
              "      <td>0</td>\n",
              "      <td>0</td>\n",
              "      <td>0</td>\n",
              "      <td>0</td>\n",
              "      <td>0</td>\n",
              "      <td>0</td>\n",
              "      <td>0</td>\n",
              "      <td>1</td>\n",
              "      <td>0</td>\n",
              "      <td>0</td>\n",
              "      <td>0</td>\n",
              "      <td>0</td>\n",
              "      <td>0</td>\n",
              "      <td>0</td>\n",
              "      <td>0</td>\n",
              "      <td>0</td>\n",
              "      <td>0</td>\n",
              "      <td>0</td>\n",
              "      <td>0</td>\n",
              "      <td>...</td>\n",
              "      <td>0</td>\n",
              "      <td>0</td>\n",
              "      <td>0</td>\n",
              "      <td>0</td>\n",
              "      <td>0</td>\n",
              "      <td>0</td>\n",
              "      <td>0</td>\n",
              "      <td>0</td>\n",
              "      <td>0</td>\n",
              "      <td>0</td>\n",
              "      <td>0</td>\n",
              "      <td>0</td>\n",
              "      <td>0</td>\n",
              "      <td>0</td>\n",
              "      <td>0</td>\n",
              "      <td>0</td>\n",
              "      <td>0</td>\n",
              "      <td>0</td>\n",
              "      <td>1</td>\n",
              "      <td>0</td>\n",
              "      <td>0</td>\n",
              "      <td>0</td>\n",
              "      <td>0</td>\n",
              "      <td>0</td>\n",
              "      <td>0</td>\n",
              "      <td>0</td>\n",
              "      <td>0</td>\n",
              "      <td>0</td>\n",
              "      <td>0</td>\n",
              "      <td>0</td>\n",
              "      <td>0</td>\n",
              "      <td>0</td>\n",
              "      <td>0</td>\n",
              "      <td>0</td>\n",
              "      <td>0</td>\n",
              "      <td>0</td>\n",
              "      <td>0</td>\n",
              "      <td>0</td>\n",
              "      <td>0</td>\n",
              "      <td>0</td>\n",
              "    </tr>\n",
              "  </tbody>\n",
              "</table>\n",
              "<p>222 rows × 156 columns</p>\n",
              "</div>"
            ],
            "text/plain": [
              "                                  Jobs  powershell  ...  problem  dom\n",
              "0                 Medical Receptionist           0  ...        0    0\n",
              "1          Clinical Research Associate           0  ...        0    0\n",
              "2       Territory Sales Representative           0  ...        0    0\n",
              "3                      Endoscopy Nurse           0  ...        0    0\n",
              "4                           Bus Driver           0  ...        0    0\n",
              "..                                 ...         ...  ...      ...  ...\n",
              "217                            Referee           0  ...        0    0\n",
              "218                  Controls Engineer           0  ...        0    0\n",
              "219          Implementation Consultant           0  ...        0    0\n",
              "220  Health/Physical Education Teacher           0  ...        0    0\n",
              "221                Mechanical Engineer           0  ...        0    0\n",
              "\n",
              "[222 rows x 156 columns]"
            ]
          },
          "metadata": {
            "tags": []
          },
          "execution_count": 55
        }
      ]
    },
    {
      "cell_type": "code",
      "metadata": {
        "id": "1-1eJJJiObDs",
        "colab": {
          "base_uri": "https://localhost:8080/"
        },
        "outputId": "228efd18-6156-47fd-8bc5-684599048179"
      },
      "source": [
        "#Now after creating dataframe \n",
        "\n",
        "#Now we have to create matrix\n",
        "\n",
        "#converting dataframe into matrix\n",
        "meta_data_matrix= np.array(meta_data)\n",
        "meta_data_matrix\n"
      ],
      "execution_count": null,
      "outputs": [
        {
          "output_type": "execute_result",
          "data": {
            "text/plain": [
              "array([['Medical Receptionist', 0, 0, ..., 0, 0, 0],\n",
              "       ['Clinical Research Associate', 0, 0, ..., 0, 0, 0],\n",
              "       ['Territory Sales Representative', 0, 1, ..., 0, 0, 0],\n",
              "       ...,\n",
              "       ['Implementation Consultant', 0, 0, ..., 0, 0, 0],\n",
              "       ['Health/Physical Education Teacher', 0, 0, ..., 0, 0, 0],\n",
              "       ['Mechanical Engineer', 0, 0, ..., 0, 0, 0]], dtype=object)"
            ]
          },
          "metadata": {
            "tags": []
          },
          "execution_count": 56
        }
      ]
    },
    {
      "cell_type": "markdown",
      "metadata": {
        "id": "45Sgg5u38Jev"
      },
      "source": [
        "# **Tanimoto/Jaccard Similarity**"
      ]
    },
    {
      "cell_type": "markdown",
      "metadata": {
        "id": "9ySqA5R18uqt"
      },
      "source": [
        "Calculating Union"
      ]
    },
    {
      "cell_type": "code",
      "metadata": {
        "id": "PtvxA2BF9Pvd"
      },
      "source": [
        "def union(job1,job2):\n",
        "    #Calculating Union\n",
        "    result = list(set(job1) | set(job2))\n",
        "    return result\n"
      ],
      "execution_count": null,
      "outputs": []
    },
    {
      "cell_type": "markdown",
      "metadata": {
        "id": "PWgyEfNz8zgF"
      },
      "source": [
        "Calculating Intersection"
      ]
    },
    {
      "cell_type": "code",
      "metadata": {
        "id": "Ocl52Xe58zFz"
      },
      "source": [
        "def intersection(job1,job2):\n",
        "    #Calculating intersection\n",
        "    result = list(set(job1) & set(job2))\n",
        "    return result"
      ],
      "execution_count": null,
      "outputs": []
    },
    {
      "cell_type": "markdown",
      "metadata": {
        "id": "6FApPq5H8_JH"
      },
      "source": [
        "Calculating similarity between jobs"
      ]
    },
    {
      "cell_type": "code",
      "metadata": {
        "colab": {
          "base_uri": "https://localhost:8080/"
        },
        "id": "5s3spSLV8-2G",
        "outputId": "0cfa621a-c8f5-4ba7-f0d7-bb39fa91b133"
      },
      "source": [
        "def calculate_tanimoto_similarity():\n",
        "    #Function to Calculate tanimoto similarity\n",
        "    \n",
        "    #Dictionary to store tanimoto similarity for each job with other in key:value format.\n",
        "    dict_tanimoto_val={}\n",
        "    for index, obj in enumerate(skills):\n",
        "        # print(obj)\n",
        "        inner_list=[]\n",
        "        for next_index,next_obj in enumerate(skills):\n",
        "            if(index==next_index):\n",
        "                #because if job is same then 100% similarity\n",
        "                inner_list.append(1.0)\n",
        "                # continue\n",
        "            \n",
        "            else:\n",
        "                # print(obj)\n",
        "                union_result=union(obj, next_obj)\n",
        "                # print(\"length of union result\",len(union_result))\n",
        "                intersection_result=intersection(obj, next_obj)\n",
        "                # print(\"length of intersection result\",len(intersection_result))\n",
        "\n",
        "                inner_list.append(len(intersection_result)/len(union_result))\n",
        "\n",
        "        dict_tanimoto_val[jobs[index]] = inner_list\n",
        "\n",
        "     \n",
        "    return dict_tanimoto_val\n",
        "tanimoto_sim_dict=calculate_tanimoto_similarity()\n",
        "print(tanimoto_sim_dict)\n"
      ],
      "execution_count": null,
      "outputs": [
        {
          "output_type": "stream",
          "text": [
            "{'Medical Receptionist': [1.0, 0.0, 0.0, 0.0, 0.0, 0.1935483870967742, 0.04, 0.1724137931034483, 0.0, 0.17647058823529413, 0.0625, 0.13043478260869565, 0.0, 0.0, 0.0, 0.05555555555555555, 0.0, 0.0, 0.05263157894736842, 0.09090909090909091, 0.0, 0.0, 0.0, 0.0, 0.1111111111111111, 0.13636363636363635, 0.21739130434782608, 0.09523809523809523, 0.0, 0.0, 0.0, 0.047619047619047616, 0.0, 0.038461538461538464, 0.04, 0.14285714285714285, 0.0, 0.0, 0.047619047619047616, 0.04, 0.05555555555555555, 0.058823529411764705, 0.0, 0.0, 0.058823529411764705, 0.0625, 0.0, 0.041666666666666664, 0.14285714285714285, 0.0, 0.15, 0.0, 0.041666666666666664, 0.6, 0.05263157894736842, 0.041666666666666664, 0.0, 0.0, 0.04, 0.0, 0.0, 0.1111111111111111, 0.0, 0.0, 0.09523809523809523, 0.0, 0.0, 0.0625, 0.0, 0.0, 0.0, 0.0, 0.0, 0.06896551724137931, 0.0, 0.0, 0.1111111111111111, 0.1, 0.12, 0.0625, 0.05263157894736842, 0.0, 0.09523809523809523, 0.0, 0.21052631578947367, 0.1111111111111111, 0.0, 0.11538461538461539, 0.0, 0.0, 0.0, 0.0, 0.0, 0.0, 0.14285714285714285, 0.0, 0.0, 0.0, 0.0, 0.09523809523809523, 0.11764705882352941, 0.0, 0.0, 0.0, 0.0, 0.0, 0.037037037037037035, 0.058823529411764705, 0.18181818181818182, 0.05263157894736842, 0.0, 0.0, 0.04, 0.2, 0.0, 0.0, 0.0, 0.05, 0.0, 0.19047619047619047, 0.0, 0.11538461538461539, 0.0, 0.0, 0.0, 0.06666666666666667, 0.11764705882352941, 0.05, 0.0, 0.05, 0.041666666666666664, 0.0, 0.0, 0.0625, 0.0, 0.0, 0.25, 0.14285714285714285, 0.15, 0.0, 0.041666666666666664, 0.0, 0.05555555555555555, 0.0, 0.0625, 0.0, 0.0, 0.0, 0.06666666666666667, 0.0, 0.0, 0.1111111111111111, 0.0, 0.0, 0.0, 0.0, 0.0, 0.0, 0.20833333333333334, 0.058823529411764705, 0.16666666666666666, 0.05, 0.0, 0.0625, 0.04, 0.0, 0.0, 0.0, 0.05263157894736842, 0.0, 0.0, 0.0, 0.04, 0.0, 0.0, 0.05263157894736842, 0.0, 0.0, 0.047619047619047616, 0.14285714285714285, 0.0, 0.0, 0.0, 0.0, 0.0, 0.0, 0.0, 0.0, 0.0, 0.0625, 0.0, 0.0, 0.0, 0.0, 0.0, 0.14285714285714285, 0.045454545454545456, 0.034482758620689655, 0.14285714285714285, 0.0, 0.0, 0.0, 0.058823529411764705, 0.0, 0.05, 0.0, 0.0, 0.0, 0.0, 0.0, 0.0, 0.0, 0.0, 0.05555555555555555, 0.0, 0.0625, 0.0, 0.0, 0.0, 0.05, 0.0, 0.05], 'Clinical Research Associate': [0.0, 1.0, 0.25, 0.0, 0.14285714285714285, 0.08695652173913043, 0.07692307692307693, 0.047619047619047616, 0.25, 0.0, 0.0, 0.0, 0.2, 0.0, 0.0, 0.16666666666666666, 0.0, 0.25, 0.14285714285714285, 0.0, 1.0, 0.25, 0.0, 0.0, 0.07692307692307693, 0.0, 0.06666666666666667, 0.0, 0.14285714285714285, 0.14285714285714285, 0.0, 0.25, 0.0, 0.15384615384615385, 0.16666666666666666, 0.05263157894736842, 0.0, 0.25, 0.0, 0.16666666666666666, 0.0, 0.2, 0.0, 0.0, 0.2, 0.0, 0.0, 0.0, 0.0, 0.25, 0.0, 0.125, 0.0, 0.07692307692307693, 0.14285714285714285, 0.08333333333333333, 0.25, 0.0, 0.07692307692307693, 0.2, 0.0, 0.0, 0.25, 0.0, 0.1, 0.0, 0.16666666666666666, 0.25, 0.0, 0.3333333333333333, 0.3333333333333333, 0.6666666666666666, 0.0, 0.11764705882352941, 0.0, 0.0, 0.0, 0.1111111111111111, 0.06666666666666667, 0.0, 0.0, 0.2857142857142857, 0.0, 0.4, 0.1, 0.058823529411764705, 0.0, 0.0, 0.0, 0.0, 0.0, 0.4, 0.4, 0.0, 0.1111111111111111, 0.3333333333333333, 0.25, 0.0, 0.16666666666666666, 0.0, 0.0, 0.5, 0.5, 0.14285714285714285, 0.0, 0.0, 0.14285714285714285, 0.2, 0.0, 0.14285714285714285, 0.0, 0.25, 0.16666666666666666, 0.058823529411764705, 0.09090909090909091, 0.25, 0.0, 0.2857142857142857, 0.3333333333333333, 0.08333333333333333, 0.0, 0.0625, 0.14285714285714285, 0.0, 0.5, 0.0, 0.0, 0.0, 0.1111111111111111, 0.2857142857142857, 0.18181818181818182, 0.0, 0.0, 0.0, 0.14285714285714285, 0.0, 0.058823529411764705, 0.09090909090909091, 0.1, 0.14285714285714285, 0.08333333333333333, 0.3333333333333333, 0.4, 0.2, 0.25, 0.2, 0.0, 1.0, 0.0, 0.25, 0.5, 0.14285714285714285, 0.25, 0.3333333333333333, 0.25, 0.25, 0.0, 0.0, 0.0625, 0.0, 0.0, 0.2857142857142857, 0.4, 0.0, 0.16666666666666666, 0.2, 0.3333333333333333, 0.14285714285714285, 0.14285714285714285, 0.25, 0.25, 0.3333333333333333, 0.2727272727272727, 0.0, 0.25, 0.14285714285714285, 0.0, 0.2, 0.25, 0.1111111111111111, 0.0, 0.4, 0.3333333333333333, 0.2, 0.0, 0.0, 0.5, 0.16666666666666666, 0.0, 0.0, 0.0, 0.25, 0.25, 0.5, 0.14285714285714285, 0.0, 0.1, 0.0, 0.1111111111111111, 0.2, 0.0, 0.3333333333333333, 0.2, 0.25, 0.2857142857142857, 0.2, 0.25, 0.5, 0.25, 0.0, 0.0, 0.3333333333333333, 0.2, 0.16666666666666666, 0.0, 0.0, 0.0, 0.0, 0.2, 0.2857142857142857, 0.0, 0.2857142857142857], 'Territory Sales Representative': [0.0, 0.25, 1.0, 0.5, 0.16666666666666666, 0.043478260869565216, 0.18181818181818182, 0.10526315789473684, 0.3333333333333333, 0.038461538461538464, 0.0, 0.0, 0.25, 0.0, 0.0, 0.5, 0.0, 0.0, 0.16666666666666666, 0.1, 0.25, 0.0, 0.0, 0.125, 0.038461538461538464, 0.09090909090909091, 0.07142857142857142, 0.0, 0.0, 0.0, 0.0, 0.125, 0.0, 0.07692307692307693, 0.18181818181818182, 0.05555555555555555, 0.125, 0.2857142857142857, 0.0, 0.18181818181818182, 0.0, 0.25, 0.0, 0.0, 0.0, 0.0, 0.0, 0.09090909090909091, 0.1, 0.3333333333333333, 0.0, 0.0, 0.09090909090909091, 0.08, 0.0, 0.0, 0.2857142857142857, 0.0, 0.18181818181818182, 0.25, 0.0, 0.0, 0.3333333333333333, 0.0, 0.1111111111111111, 0.0, 0.2, 0.3333333333333333, 0.0, 0.0, 0.5, 0.3333333333333333, 0.0, 0.058823529411764705, 0.0, 0.125, 0.0, 0.125, 0.07142857142857142, 0.0, 0.0, 0.14285714285714285, 0.0, 0.2, 0.1111111111111111, 0.0, 0.0, 0.0, 0.0, 0.0, 0.0, 0.0, 0.2, 0.5, 0.11764705882352941, 0.5, 0.3333333333333333, 0.0, 0.0, 0.0, 0.0, 0.25, 0.25, 0.0, 0.0, 0.0, 0.07142857142857142, 0.0, 0.0, 0.4, 0.0, 0.3333333333333333, 0.18181818181818182, 0.0625, 0.1, 0.3333333333333333, 0.0, 0.14285714285714285, 0.5, 0.0, 0.0, 0.0, 0.0, 0.0, 0.25, 0.0, 0.0, 0.0, 0.125, 0.14285714285714285, 0.09090909090909091, 0.0, 0.0, 0.0, 0.4, 0.0, 0.0625, 0.0, 0.1111111111111111, 0.0, 0.2, 0.16666666666666666, 0.2, 0.0, 0.3333333333333333, 0.0, 0.5, 0.25, 0.0, 0.3333333333333333, 0.0, 0.16666666666666666, 0.3333333333333333, 0.16666666666666666, 0.0, 0.3333333333333333, 0.0, 0.0, 0.0, 0.0, 0.0, 0.14285714285714285, 0.2, 0.0, 0.18181818181818182, 0.0, 0.0, 0.0, 0.4, 0.3333333333333333, 0.3333333333333333, 0.5, 0.18181818181818182, 0.0, 0.3333333333333333, 0.16666666666666666, 0.0, 0.0, 0.125, 0.11764705882352941, 0.0, 0.2, 0.5, 0.0, 0.0, 0.0, 0.25, 0.2, 0.0, 0.0, 0.0, 0.3333333333333333, 0.125, 0.25, 0.4, 0.029411764705882353, 0.0, 0.0, 0.11764705882352941, 0.25, 0.0, 0.5, 0.0, 0.3333333333333333, 0.14285714285714285, 0.0, 0.0, 0.0, 0.3333333333333333, 0.0, 0.0, 0.0, 0.0, 0.2, 0.0, 0.0, 0.0, 0.0, 0.0, 0.14285714285714285, 0.0, 0.14285714285714285], 'Endoscopy Nurse': [0.0, 0.0, 0.5, 1.0, 0.0, 0.0, 0.09090909090909091, 0.05263157894736842, 0.0, 0.04, 0.0, 0.0, 0.0, 0.0, 0.0, 0.25, 0.0, 0.0, 0.0, 0.1111111111111111, 0.0, 0.0, 0.0, 0.14285714285714285, 0.0, 0.1, 0.0, 0.0, 0.0, 0.0, 0.0, 0.0, 0.0, 0.0, 0.09090909090909091, 0.0, 0.14285714285714285, 0.14285714285714285, 0.0, 0.09090909090909091, 0.0, 0.0, 0.0, 0.0, 0.0, 0.0, 0.0, 0.1, 0.1111111111111111, 0.0, 0.0, 0.0, 0.1, 0.04, 0.0, 0.0, 0.14285714285714285, 0.0, 0.09090909090909091, 0.0, 0.0, 0.0, 0.0, 0.0, 0.0, 0.0, 0.0, 0.0, 0.0, 0.0, 0.0, 0.0, 0.0, 0.0, 0.0, 0.14285714285714285, 0.0, 0.0, 0.0, 0.0, 0.0, 0.0, 0.0, 0.0, 0.125, 0.0, 0.0, 0.0, 0.0, 0.0, 0.0, 0.0, 0.0, 1.0, 0.058823529411764705, 0.0, 0.0, 0.0, 0.0, 0.0, 0.0, 0.0, 0.0, 0.0, 0.0, 0.0, 0.0, 0.0, 0.0, 0.2, 0.0, 0.0, 0.09090909090909091, 0.0, 0.0, 0.0, 0.0, 0.0, 0.0, 0.0, 0.0, 0.0, 0.0, 0.0, 0.0, 0.0, 0.0, 0.0, 0.0, 0.0, 0.0, 0.0, 0.0, 0.0, 0.2, 0.0, 0.0, 0.0, 0.0, 0.0, 0.1, 0.0, 0.0, 0.0, 0.0, 0.0, 1.0, 0.0, 0.0, 0.0, 0.0, 0.0, 0.0, 0.0, 0.0, 0.0, 0.0, 0.0, 0.0, 0.0, 0.0, 0.0, 0.0, 0.0, 0.09090909090909091, 0.0, 0.0, 0.0, 0.2, 0.0, 0.0, 0.0, 0.09090909090909091, 0.0, 0.0, 0.0, 0.0, 0.0, 0.0, 0.058823529411764705, 0.0, 0.0, 0.0, 0.0, 0.0, 0.0, 0.0, 0.0, 0.0, 0.0, 0.0, 0.0, 0.0, 0.0, 0.2, 0.030303030303030304, 0.0, 0.0, 0.058823529411764705, 0.0, 0.0, 0.0, 0.0, 0.0, 0.0, 0.0, 0.0, 0.0, 0.0, 0.0, 0.0, 0.0, 0.0, 0.0, 0.0, 0.0, 0.0, 0.0, 0.0, 0.0, 0.0, 0.0], 'Bus Driver': [0.0, 0.14285714285714285, 0.16666666666666666, 0.0, 1.0, 0.08, 0.23076923076923078, 0.14285714285714285, 0.16666666666666666, 0.07142857142857142, 0.0, 0.06666666666666667, 0.6, 0.2, 0.14285714285714285, 0.125, 0.16666666666666666, 0.0, 0.25, 0.0, 0.14285714285714285, 0.0, 0.16666666666666666, 0.0, 0.1111111111111111, 0.0, 0.125, 0.08333333333333333, 0.25, 0.25, 0.0, 0.2, 0.0, 0.13333333333333333, 0.23076923076923078, 0.1, 0.0, 0.5, 0.09090909090909091, 0.23076923076923078, 0.0, 0.14285714285714285, 0.14285714285714285, 0.0, 0.0, 0.0, 0.16666666666666666, 0.07142857142857142, 0.0, 0.16666666666666666, 0.08333333333333333, 0.2222222222222222, 0.07142857142857142, 0.1111111111111111, 0.0, 0.07142857142857142, 0.5, 0.2, 0.23076923076923078, 0.3333333333333333, 0.4, 0.0, 0.16666666666666666, 0.14285714285714285, 0.08333333333333333, 0.0, 0.5, 0.16666666666666666, 0.2, 0.0, 0.2, 0.16666666666666666, 0.14285714285714285, 0.10526315789473684, 0.0, 0.0, 0.0, 0.09090909090909091, 0.125, 0.0, 0.1111111111111111, 0.375, 0.0, 0.2857142857142857, 0.08333333333333333, 0.0, 0.0, 0.05555555555555555, 0.0, 0.16666666666666666, 0.0, 0.0, 0.2857142857142857, 0.0, 0.1, 0.2, 0.16666666666666666, 0.2, 0.2857142857142857, 0.08333333333333333, 0.125, 0.14285714285714285, 0.14285714285714285, 0.25, 0.0, 0.08333333333333333, 0.125, 0.0, 0.14285714285714285, 0.25, 0.16666666666666666, 0.16666666666666666, 0.23076923076923078, 0.1111111111111111, 0.2727272727272727, 0.16666666666666666, 0.2, 0.2222222222222222, 0.2, 0.07142857142857142, 0.0, 0.05555555555555555, 0.25, 0.0, 0.14285714285714285, 0.0, 0.125, 0.1, 0.2, 0.2222222222222222, 0.25, 0.16666666666666666, 0.2, 0.16666666666666666, 0.1111111111111111, 0.16666666666666666, 0.05263157894736842, 0.0, 0.08333333333333333, 0.0, 0.15384615384615385, 0.1111111111111111, 0.125, 0.14285714285714285, 0.16666666666666666, 0.14285714285714285, 0.0, 0.14285714285714285, 0.0, 0.16666666666666666, 0.0, 0.1111111111111111, 0.16666666666666666, 0.1111111111111111, 0.0, 0.16666666666666666, 0.0, 0.0, 0.11764705882352941, 0.0, 0.0, 0.2222222222222222, 0.2857142857142857, 0.0, 0.23076923076923078, 0.14285714285714285, 0.0, 0.25, 0.25, 0.16666666666666666, 0.16666666666666666, 0.2, 0.23076923076923078, 0.0, 0.4, 0.25, 0.0, 0.14285714285714285, 0.3333333333333333, 0.1, 0.4, 0.2857142857142857, 0.2, 0.0, 0.0, 0.0, 0.14285714285714285, 0.5, 0.0, 0.16666666666666666, 0.16666666666666666, 0.16666666666666666, 0.2, 0.14285714285714285, 0.1111111111111111, 0.02702702702702703, 0.08333333333333333, 0.1111111111111111, 0.1, 0.14285714285714285, 0.0, 0.2, 0.0, 0.16666666666666666, 0.2222222222222222, 0.14285714285714285, 0.0, 0.0, 0.16666666666666666, 0.0, 0.0, 0.0, 0.14285714285714285, 0.2857142857142857, 0.0, 0.16666666666666666, 0.0, 0.16666666666666666, 0.14285714285714285, 0.2222222222222222, 0.4, 0.2222222222222222], 'Foreign Service Officer': [0.1935483870967742, 0.08695652173913043, 0.043478260869565216, 0.0, 0.08, 1.0, 0.13793103448275862, 0.20588235294117646, 0.043478260869565216, 0.175, 0.0, 0.13793103448275862, 0.08695652173913043, 0.045454545454545456, 0.041666666666666664, 0.04, 0.043478260869565216, 0.043478260869565216, 0.125, 0.14814814814814814, 0.08695652173913043, 0.0, 0.0, 0.11538461538461539, 0.23684210526315788, 0.18518518518518517, 0.16666666666666666, 0.1111111111111111, 0.125, 0.125, 0.045454545454545456, 0.07407407407407407, 0.045454545454545456, 0.21428571428571427, 0.1, 0.18181818181818182, 0.11538461538461539, 0.07407407407407407, 0.11538461538461539, 0.1, 0.04, 0.08695652173913043, 0.0, 0.043478260869565216, 0.041666666666666664, 0.043478260869565216, 0.0, 0.06666666666666667, 0.14814814814814814, 0.09090909090909091, 0.1111111111111111, 0.16666666666666666, 0.06666666666666667, 0.23684210526315788, 0.038461538461538464, 0.18518518518518517, 0.07407407407407407, 0.0, 0.13793103448275862, 0.08695652173913043, 0.0, 0.17391304347826086, 0.09090909090909091, 0.03125, 0.15384615384615385, 0.045454545454545456, 0.13043478260869565, 0.09090909090909091, 0.0, 0.0, 0.045454545454545456, 0.043478260869565216, 0.041666666666666664, 0.1875, 0.043478260869565216, 0.11538461538461539, 0.038461538461538464, 0.07407407407407407, 0.06060606060606061, 0.0, 0.125, 0.16666666666666666, 0.07142857142857142, 0.04, 0.2, 0.027777777777777776, 0.0, 0.16129032258064516, 0.045454545454545456, 0.0, 0.045454545454545456, 0.08333333333333333, 0.13043478260869565, 0.0, 0.11428571428571428, 0.045454545454545456, 0.09090909090909091, 0.045454545454545456, 0.04, 0.1111111111111111, 0.13043478260869565, 0.041666666666666664, 0.08695652173913043, 0.125, 0.0, 0.1111111111111111, 0.16666666666666666, 0.0, 0.17857142857142858, 0.125, 0.09090909090909091, 0.09090909090909091, 0.1, 0.23333333333333334, 0.14814814814814814, 0.043478260869565216, 0.0, 0.07692307692307693, 0.045454545454545456, 0.18518518518518517, 0.045454545454545456, 0.125, 0.125, 0.043478260869565216, 0.041666666666666664, 0.0, 0.04, 0.07692307692307693, 0.16, 0.07692307692307693, 0.14285714285714285, 0.043478260869565216, 0.0, 0.0, 0.125, 0.0, 0.15625, 0.19230769230769232, 0.15384615384615385, 0.08, 0.14285714285714285, 0.125, 0.08333333333333333, 0.08695652173913043, 0.043478260869565216, 0.08695652173913043, 0.0, 0.08695652173913043, 0.0, 0.09090909090909091, 0.041666666666666664, 0.08, 0.09090909090909091, 0.08, 0.043478260869565216, 0.043478260869565216, 0.0, 0.045454545454545456, 0.2, 0.041666666666666664, 0.12, 0.07692307692307693, 0.04, 0.043478260869565216, 0.1, 0.08695652173913043, 0.0, 0.125, 0.125, 0.043478260869565216, 0.09090909090909091, 0.045454545454545456, 0.1, 0.045454545454545456, 0.043478260869565216, 0.125, 0.041666666666666664, 0.08695652173913043, 0.07407407407407407, 0.11428571428571428, 0.043478260869565216, 0.04, 0.045454545454545456, 0.08695652173913043, 0.0, 0.0, 0.08695652173913043, 0.13043478260869565, 0.045454545454545456, 0.0, 0.0, 0.043478260869565216, 0.11538461538461539, 0.08695652173913043, 0.125, 0.25, 0.1111111111111111, 0.15625, 0.11428571428571428, 0.08695652173913043, 0.045454545454545456, 0.045454545454545456, 0.0, 0.09090909090909091, 0.07692307692307693, 0.08695652173913043, 0.09090909090909091, 0.041666666666666664, 0.09090909090909091, 0.045454545454545456, 0.045454545454545456, 0.0, 0.08695652173913043, 0.04, 0.045454545454545456, 0.0, 0.045454545454545456, 0.0, 0.08695652173913043, 0.07692307692307693, 0.043478260869565216, 0.07692307692307693], 'Sales Analyst': [0.04, 0.07692307692307693, 0.18181818181818182, 0.09090909090909091, 0.23076923076923078, 0.13793103448275862, 1.0, 0.15384615384615385, 0.08333333333333333, 0.16129032258064516, 0.0, 0.047619047619047616, 0.2727272727272727, 0.09090909090909091, 0.16666666666666666, 0.25, 0.08333333333333333, 0.08333333333333333, 0.14285714285714285, 0.17647058823529413, 0.07692307692307693, 0.0, 0.08333333333333333, 0.125, 0.125, 0.10526315789473684, 0.14285714285714285, 0.05555555555555555, 0.14285714285714285, 0.14285714285714285, 0.09090909090909091, 0.058823529411764705, 0.0, 0.15, 0.2222222222222222, 0.12, 0.125, 0.2857142857142857, 0.058823529411764705, 0.2222222222222222, 0.0, 0.2727272727272727, 0.0, 0.0, 0.07692307692307693, 0.0, 0.08333333333333333, 0.23529411764705882, 0.05263157894736842, 0.08333333333333333, 0.05555555555555555, 0.21428571428571427, 0.23529411764705882, 0.16129032258064516, 0.14285714285714285, 0.10526315789473684, 0.2857142857142857, 0.09090909090909091, 1.0, 0.2727272727272727, 0.08333333333333333, 0.0, 0.18181818181818182, 0.1, 0.1875, 0.09090909090909091, 0.25, 0.08333333333333333, 0.09090909090909091, 0.0, 0.09090909090909091, 0.08333333333333333, 0.0, 0.22727272727272727, 0.08333333333333333, 0.125, 0.0, 0.058823529411764705, 0.14285714285714285, 0.0, 0.14285714285714285, 0.21428571428571427, 0.0, 0.15384615384615385, 0.11764705882352941, 0.04, 0.0, 0.13636363636363635, 0.09090909090909091, 0.08333333333333333, 0.0, 0.07142857142857142, 0.15384615384615385, 0.09090909090909091, 0.21739130434782608, 0.09090909090909091, 0.18181818181818182, 0.09090909090909091, 0.15384615384615385, 0.05555555555555555, 0.07142857142857142, 0.07692307692307693, 0.07692307692307693, 0.14285714285714285, 0.0, 0.05555555555555555, 0.09090909090909091, 0.0, 0.15789473684210525, 0.23076923076923078, 0.18181818181818182, 0.08333333333333333, 0.2222222222222222, 0.08333333333333333, 0.25, 0.08333333333333333, 0.0, 0.0625, 0.09090909090909091, 0.05, 0.09090909090909091, 0.041666666666666664, 0.14285714285714285, 0.08333333333333333, 0.07692307692307693, 0.09090909090909091, 0.15384615384615385, 0.0625, 0.125, 0.0625, 0.10526315789473684, 0.0, 0.09090909090909091, 0.08333333333333333, 0.23076923076923078, 0.08333333333333333, 0.04, 0.0, 0.05555555555555555, 0.0, 0.3125, 0.14285714285714285, 0.07142857142857142, 0.07692307692307693, 0.08333333333333333, 0.07692307692307693, 0.09090909090909091, 0.07692307692307693, 0.0, 0.18181818181818182, 0.0, 0.23076923076923078, 0.18181818181818182, 0.06666666666666667, 0.08333333333333333, 0.08333333333333333, 0.0, 0.0, 0.08695652173913043, 0.16666666666666666, 0.0, 0.0625, 0.15384615384615385, 0.18181818181818182, 0.2222222222222222, 0.07692307692307693, 0.0, 0.14285714285714285, 0.23076923076923078, 0.08333333333333333, 0.18181818181818182, 0.09090909090909091, 0.2222222222222222, 0.09090909090909091, 0.08333333333333333, 0.06666666666666667, 0.07692307692307693, 0.07692307692307693, 0.2, 0.21739130434782608, 0.18181818181818182, 0.15384615384615385, 0.09090909090909091, 0.07692307692307693, 0.0, 0.0, 0.07692307692307693, 0.25, 0.0, 0.08333333333333333, 0.08333333333333333, 0.08333333333333333, 0.125, 0.07692307692307693, 0.23076923076923078, 0.07317073170731707, 0.05555555555555555, 0.08333333333333333, 0.21739130434782608, 0.07692307692307693, 0.09090909090909091, 0.09090909090909091, 0.0, 0.08333333333333333, 0.0625, 0.07692307692307693, 0.08333333333333333, 0.0, 0.18181818181818182, 0.09090909090909091, 0.09090909090909091, 0.0, 0.07692307692307693, 0.15384615384615385, 0.0, 0.08333333333333333, 0.09090909090909091, 0.08333333333333333, 0.07692307692307693, 0.0625, 0.18181818181818182, 0.0625], 'Strategy Consultant?': [0.1724137931034483, 0.047619047619047616, 0.10526315789473684, 0.05263157894736842, 0.14285714285714285, 0.20588235294117646, 0.15384615384615385, 1.0, 0.05, 0.3333333333333333, 0.0, 0.1111111111111111, 0.15789473684210525, 0.05263157894736842, 0.1, 0.15, 0.10526315789473684, 0.0, 0.14285714285714285, 0.12, 0.047619047619047616, 0.0, 0.05, 0.08333333333333333, 0.15789473684210525, 0.20833333333333334, 0.18518518518518517, 0.17391304347826086, 0.09090909090909091, 0.09090909090909091, 0.0, 0.08333333333333333, 0.05263157894736842, 0.19230769230769232, 0.25, 0.2, 0.08333333333333333, 0.18181818181818182, 0.13043478260869565, 0.25, 0.09523809523809523, 0.047619047619047616, 0.047619047619047616, 0.10526315789473684, 0.047619047619047616, 0.05, 0.05, 0.07407407407407407, 0.21739130434782608, 0.10526315789473684, 0.17391304347826086, 0.08695652173913043, 0.07407407407407407, 0.3333333333333333, 0.0, 0.11538461538461539, 0.18181818181818182, 0.05263157894736842, 0.15384615384615385, 0.1, 0.05, 0.09090909090909091, 0.05, 0.034482758620689655, 0.17391304347826086, 0.0, 0.09523809523809523, 0.10526315789473684, 0.05263157894736842, 0.0, 0.05263157894736842, 0.05, 0.047619047619047616, 0.12903225806451613, 0.0, 0.08333333333333333, 0.14285714285714285, 0.13043478260869565, 0.18518518518518517, 0.0, 0.09090909090909091, 0.13636363636363635, 0.08, 0.09523809523809523, 0.22727272727272727, 0.1724137931034483, 0.0, 0.2222222222222222, 0.0, 0.05, 0.05263157894736842, 0.0, 0.045454545454545456, 0.05263157894736842, 0.16129032258064516, 0.05263157894736842, 0.05, 0.05263157894736842, 0.09523809523809523, 0.17391304347826086, 0.21052631578947367, 0.1, 0.1, 0.09090909090909091, 0.0, 0.038461538461538464, 0.06666666666666667, 0.0, 0.1111111111111111, 0.2631578947368421, 0.05, 0.10526315789473684, 0.25, 0.21428571428571427, 0.21739130434782608, 0.05, 0.0, 0.041666666666666664, 0.05263157894736842, 0.20833333333333334, 0.0, 0.17857142857142858, 0.09090909090909091, 0.0, 0.1, 0.0, 0.0, 0.13636363636363635, 0.13043478260869565, 0.041666666666666664, 0.16, 0.05, 0.05263157894736842, 0.0, 0.14285714285714285, 0.10526315789473684, 0.21428571428571427, 0.16666666666666666, 0.17391304347826086, 0.09090909090909091, 0.20833333333333334, 0.09090909090909091, 0.09523809523809523, 0.0, 0.05, 0.0, 0.05263157894736842, 0.047619047619047616, 0.0, 0.05, 0.0, 0.043478260869565216, 0.05, 0.043478260869565216, 0.0, 0.05, 0.0, 0.05263157894736842, 0.2222222222222222, 0.0, 0.13636363636363635, 0.041666666666666664, 0.09523809523809523, 0.0, 0.25, 0.0, 0.0, 0.09090909090909091, 0.2631578947368421, 0.05, 0.05, 0.05263157894736842, 0.15384615384615385, 0.0, 0.05, 0.14285714285714285, 0.0, 0.0, 0.08333333333333333, 0.16129032258064516, 0.10526315789473684, 0.09523809523809523, 0.05263157894736842, 0.0, 0.0, 0.0, 0.1, 0.09523809523809523, 0.05263157894736842, 0.0, 0.05, 0.05, 0.08333333333333333, 0.1, 0.14285714285714285, 0.13043478260869565, 0.08, 0.1724137931034483, 0.16129032258064516, 0.1, 0.0, 0.05263157894736842, 0.0, 0.10526315789473684, 0.041666666666666664, 0.0, 0.0, 0.0, 0.05, 0.0, 0.0, 0.0, 0.0, 0.045454545454545456, 0.05263157894736842, 0.0, 0.0, 0.10526315789473684, 0.0, 0.041666666666666664, 0.10526315789473684, 0.041666666666666664], 'Pipeline Engineer': [0.0, 0.25, 0.3333333333333333, 0.0, 0.16666666666666666, 0.043478260869565216, 0.08333333333333333, 0.05, 1.0, 0.0, 0.0, 0.0, 0.25, 0.0, 0.0, 0.2, 0.0, 0.0, 0.16666666666666666, 0.0, 0.25, 0.3333333333333333, 0.3333333333333333, 0.0, 0.038461538461538464, 0.0, 0.07142857142857142, 0.1111111111111111, 0.16666666666666666, 0.16666666666666666, 0.0, 0.2857142857142857, 0.0, 0.16666666666666666, 0.18181818181818182, 0.05555555555555555, 0.0, 0.125, 0.0, 0.18181818181818182, 0.0, 0.25, 0.0, 0.0, 0.0, 0.0, 0.3333333333333333, 0.0, 0.0, 0.3333333333333333, 0.0, 0.14285714285714285, 0.0, 0.08, 0.0, 0.09090909090909091, 0.125, 0.0, 0.08333333333333333, 0.25, 0.0, 0.0, 0.3333333333333333, 0.0, 0.25, 0.0, 0.2, 0.3333333333333333, 0.0, 0.0, 0.5, 0.3333333333333333, 0.0, 0.125, 0.0, 0.0, 0.0, 0.125, 0.07142857142857142, 0.0, 0.0, 0.3333333333333333, 0.0, 0.5, 0.1111111111111111, 0.0, 0.16666666666666666, 0.0, 0.0, 0.3333333333333333, 0.0, 0.0, 0.2, 0.0, 0.05555555555555555, 0.5, 0.3333333333333333, 0.0, 0.2, 0.1111111111111111, 0.0, 0.25, 0.25, 0.16666666666666666, 0.0, 0.0, 0.15384615384615385, 0.25, 0.0, 0.16666666666666666, 0.0, 0.3333333333333333, 0.18181818181818182, 0.0625, 0.1, 1.0, 0.0, 0.3333333333333333, 0.5, 0.09090909090909091, 0.0, 0.0, 0.16666666666666666, 0.0, 0.25, 0.0, 0.0, 0.0, 0.125, 0.3333333333333333, 0.09090909090909091, 0.0, 0.0, 0.0, 0.16666666666666666, 0.0, 0.13333333333333333, 0.1, 0.25, 0.16666666666666666, 0.09090909090909091, 0.16666666666666666, 0.2, 0.0, 0.3333333333333333, 0.0, 0.0, 0.25, 0.0, 0.3333333333333333, 0.25, 0.16666666666666666, 0.3333333333333333, 0.16666666666666666, 0.0, 0.3333333333333333, 0.0, 0.0, 0.0, 0.0, 0.0, 0.3333333333333333, 0.5, 0.0, 0.18181818181818182, 0.0, 0.0, 0.16666666666666666, 0.16666666666666666, 1.0, 0.3333333333333333, 0.5, 0.08333333333333333, 0.0, 0.3333333333333333, 0.16666666666666666, 0.0, 0.0, 0.125, 0.05555555555555555, 0.0, 0.5, 0.5, 0.0, 0.0, 0.0, 0.25, 0.2, 0.0, 0.0, 0.3333333333333333, 0.3333333333333333, 0.2857142857142857, 0.25, 0.16666666666666666, 0.029411764705882353, 0.0, 0.0625, 0.05555555555555555, 0.25, 0.0, 0.5, 0.25, 0.3333333333333333, 0.3333333333333333, 0.0, 0.0, 0.25, 0.3333333333333333, 0.0, 0.0, 0.0, 0.0, 0.2, 0.0, 0.0, 0.0, 0.0, 0.0, 0.3333333333333333, 0.0, 0.3333333333333333], 'Cost Engineer': [0.17647058823529413, 0.0, 0.038461538461538464, 0.04, 0.07142857142857142, 0.175, 0.16129032258064516, 0.3333333333333333, 0.0, 1.0, 0.0, 0.16129032258064516, 0.07692307692307693, 0.04, 0.07692307692307693, 0.07407407407407407, 0.038461538461538464, 0.0, 0.15384615384615385, 0.13333333333333333, 0.0, 0.0, 0.038461538461538464, 0.10344827586206896, 0.16279069767441862, 0.09375, 0.15151515151515152, 0.17857142857142858, 0.07142857142857142, 0.07142857142857142, 0.0, 0.0, 0.04, 0.12121212121212122, 0.16129032258064516, 0.2, 0.10344827586206896, 0.10344827586206896, 0.10344827586206896, 0.16129032258064516, 0.07407407407407407, 0.07692307692307693, 0.037037037037037035, 0.08, 0.07692307692307693, 0.038461538461538464, 0.038461538461538464, 0.12903225806451613, 0.0967741935483871, 0.038461538461538464, 0.2222222222222222, 0.06896551724137931, 0.12903225806451613, 0.28205128205128205, 0.034482758620689655, 0.09375, 0.10344827586206896, 0.04, 0.16129032258064516, 0.037037037037037035, 0.038461538461538464, 0.1111111111111111, 0.0, 0.02857142857142857, 0.13793103448275862, 0.0, 0.03571428571428571, 0.038461538461538464, 0.04, 0.0, 0.0, 0.0, 0.037037037037037035, 0.17142857142857143, 0.0, 0.10344827586206896, 0.2, 0.14285714285714285, 0.26666666666666666, 0.0, 0.07142857142857142, 0.06896551724137931, 0.13793103448275862, 0.03571428571428571, 0.13793103448275862, 0.14285714285714285, 0.0, 0.18181818181818182, 0.0, 0.038461538461538464, 0.04, 0.0, 0.0, 0.04, 0.16666666666666666, 0.0, 0.0, 0.04, 0.07407407407407407, 0.17857142857142858, 0.11538461538461539, 0.0, 0.037037037037037035, 0.07142857142857142, 0.0, 0.03125, 0.02702702702702703, 0.0, 0.16129032258064516, 0.15384615384615385, 0.038461538461538464, 0.038461538461538464, 0.16129032258064516, 0.14285714285714285, 0.13333333333333333, 0.0, 0.0, 0.0, 0.0, 0.16666666666666666, 0.0, 0.21875, 0.07142857142857142, 0.0, 0.0, 0.04, 0.07407407407407407, 0.14814814814814814, 0.06666666666666667, 0.0, 0.16666666666666666, 0.038461538461538464, 0.04, 0.038461538461538464, 0.07142857142857142, 0.08, 0.21212121212121213, 0.21428571428571427, 0.06451612903225806, 0.1111111111111111, 0.25, 0.034482758620689655, 0.03571428571428571, 0.0, 0.0, 0.0, 0.04, 0.0, 0.0, 0.0, 0.0, 0.034482758620689655, 0.0, 0.0, 0.038461538461538464, 0.0, 0.0, 0.04, 0.18181818181818182, 0.037037037037037035, 0.19230769230769232, 0.0, 0.03571428571428571, 0.038461538461538464, 0.16129032258064516, 0.0, 0.0, 0.07142857142857142, 0.15384615384615385, 0.0, 0.0, 0.0, 0.058823529411764705, 0.0, 0.0, 0.07142857142857142, 0.037037037037037035, 0.0, 0.03225806451612903, 0.16666666666666666, 0.08, 0.03571428571428571, 0.0, 0.037037037037037035, 0.04, 0.04, 0.037037037037037035, 0.03571428571428571, 0.04, 0.038461538461538464, 0.038461538461538464, 0.038461538461538464, 0.03225806451612903, 0.037037037037037035, 0.07142857142857142, 0.2608695652173913, 0.1, 0.17647058823529413, 0.16666666666666666, 0.07692307692307693, 0.0, 0.0, 0.0, 0.038461538461538464, 0.0, 0.0, 0.038461538461538464, 0.0, 0.0, 0.0, 0.0, 0.0, 0.0, 0.03571428571428571, 0.04, 0.038461538461538464, 0.0, 0.08, 0.0, 0.0, 0.08, 0.0], 'Technical Writer': [0.0625, 0.0, 0.0, 0.0, 0.0, 0.0, 0.0, 0.0, 0.0, 0.0, 1.0, 0.0, 0.0, 0.0, 0.0, 0.0, 0.0, 0.0, 0.0, 0.0, 0.0, 0.0, 0.0, 0.0, 0.038461538461538464, 0.0, 0.07142857142857142, 0.0, 0.0, 0.0, 0.0, 0.125, 0.0, 0.0, 0.08333333333333333, 0.0, 0.0, 0.0, 0.0, 0.08333333333333333, 0.0, 0.0, 0.0, 0.0, 0.0, 0.3333333333333333, 0.0, 0.0, 0.0, 0.0, 0.0, 0.0, 0.0, 0.038461538461538464, 0.0, 0.0, 0.0, 0.0, 0.0, 0.0, 0.0, 0.0, 0.0, 0.0, 0.0, 0.0, 0.0, 0.0, 0.0, 0.0, 0.0, 0.0, 0.0, 0.058823529411764705, 0.0, 0.0, 0.0, 0.0, 0.0, 1.0, 0.0, 0.0, 0.0, 0.0, 0.0, 0.0625, 0.0, 0.0, 0.0, 0.0, 0.0, 0.0, 0.0, 0.0, 0.05555555555555555, 0.0, 0.0, 0.0, 0.0, 0.0, 0.0, 0.0, 0.0, 0.0, 0.0, 0.0, 0.07142857142857142, 0.25, 0.08333333333333333, 0.0, 0.0, 0.0, 0.08333333333333333, 0.0, 0.0, 0.0, 0.0, 0.14285714285714285, 0.0, 0.0, 0.0, 0.0, 0.0, 0.0, 0.0, 0.0, 0.2, 0.0, 0.0, 0.14285714285714285, 0.0, 0.0, 0.0, 0.0, 0.0, 0.0, 0.0625, 0.0, 0.0, 0.0, 0.0, 0.0, 0.2, 0.0, 0.3333333333333333, 0.0, 0.0, 0.0, 0.0, 0.0, 0.0, 0.16666666666666666, 0.0, 0.0, 0.0, 0.0, 0.0, 0.0, 0.06666666666666667, 0.0, 0.0, 0.14285714285714285, 0.0, 0.0, 0.08333333333333333, 0.0, 0.0, 0.0, 0.0, 0.0, 0.0, 0.0, 0.0, 0.0, 0.0, 0.0, 0.0, 0.0, 0.0, 0.05555555555555555, 0.0, 0.0, 0.0, 0.0, 0.0, 0.0, 0.0, 0.0, 0.0, 0.0, 0.0, 0.0, 0.0, 0.0, 0.0, 0.029411764705882353, 0.0, 0.0, 0.05555555555555555, 0.0, 0.0, 0.0, 0.25, 0.0, 0.14285714285714285, 0.0, 0.0, 0.0, 0.0, 0.0, 0.0, 0.0, 0.0, 0.0, 0.0, 0.0, 0.0, 0.0, 0.0, 0.14285714285714285, 0.0, 0.14285714285714285], 'Solutions Consultant - Electrical Engineering': [0.13043478260869565, 0.0, 0.0, 0.0, 0.06666666666666667, 0.13793103448275862, 0.047619047619047616, 0.1111111111111111, 0.0, 0.16129032258064516, 0.0, 1.0, 0.07692307692307693, 0.09090909090909091, 0.07692307692307693, 0.0, 0.08333333333333333, 0.0, 0.14285714285714285, 0.0, 0.0, 0.0, 0.0, 0.0, 0.058823529411764705, 0.10526315789473684, 0.2, 0.26666666666666666, 0.06666666666666667, 0.06666666666666667, 0.0, 0.0, 0.0, 0.09523809523809523, 0.047619047619047616, 0.2727272727272727, 0.0, 0.058823529411764705, 0.125, 0.047619047619047616, 0.07142857142857142, 0.0, 0.0, 0.0, 0.0, 0.0, 0.0, 0.0, 0.1111111111111111, 0.0, 0.1875, 0.0625, 0.0, 0.125, 0.0, 0.10526315789473684, 0.058823529411764705, 0.0, 0.047619047619047616, 0.0, 0.0, 0.14285714285714285, 0.0, 0.0, 0.05555555555555555, 0.0, 0.07142857142857142, 0.08333333333333333, 0.0, 0.0, 0.0, 0.0, 0.07692307692307693, 0.038461538461538464, 0.0, 0.0, 0.06666666666666667, 0.125, 0.0, 0.0, 0.14285714285714285, 0.0625, 0.05555555555555555, 0.0, 0.1875, 0.0, 0.06666666666666667, 0.13636363636363635, 0.0, 0.0, 0.0, 0.0, 0.0, 0.0, 0.0, 0.0, 0.0, 0.09090909090909091, 0.07142857142857142, 0.26666666666666666, 0.25, 0.0, 0.0, 0.06666666666666667, 0.0, 0.0, 0.0, 0.0, 0.1, 0.06666666666666667, 0.08333333333333333, 0.0, 0.047619047619047616, 0.08333333333333333, 0.05263157894736842, 0.0, 0.0, 0.0, 0.0, 0.23529411764705882, 0.0, 0.13636363636363635, 0.06666666666666667, 0.0, 0.0, 0.0, 0.0, 0.13333333333333333, 0.0, 0.0, 0.16666666666666666, 0.0, 0.0, 0.0, 0.0, 0.0, 0.18181818181818182, 0.1111111111111111, 0.11764705882352941, 0.0, 0.05, 0.0, 0.0, 0.0, 0.0, 0.0, 0.0, 0.0, 0.0, 0.0, 0.0, 0.0, 0.0, 0.0, 0.0, 0.0, 0.0, 0.0, 0.19047619047619047, 0.0, 0.3076923076923077, 0.0, 0.0, 0.0, 0.047619047619047616, 0.0, 0.0, 0.06666666666666667, 0.06666666666666667, 0.0, 0.0, 0.0, 0.0, 0.0, 0.0, 0.06666666666666667, 0.0, 0.0, 0.0, 0.0, 0.08333333333333333, 0.0, 0.0, 0.0, 0.0, 0.0, 0.0, 0.07142857142857142, 0.0, 0.0, 0.0, 0.0, 0.0, 0.0, 0.0, 0.1891891891891892, 0.11764705882352941, 0.08333333333333333, 0.0, 0.0, 0.0, 0.0, 0.0, 0.0, 0.0, 0.0, 0.0, 0.0, 0.0, 0.0, 0.0, 0.0, 0.0, 0.0, 0.0, 0.0, 0.0, 0.0, 0.0, 0.0, 0.08333333333333333, 0.0], 'Power Regulator': [0.0, 0.2, 0.25, 0.0, 0.6, 0.08695652173913043, 0.2727272727272727, 0.15789473684210525, 0.25, 0.07692307692307693, 0.0, 0.07692307692307693, 1.0, 0.3333333333333333, 0.2, 0.16666666666666666, 0.25, 0.0, 0.3333333333333333, 0.0, 0.2, 0.0, 0.25, 0.0, 0.12, 0.0, 0.14285714285714285, 0.1, 0.3333333333333333, 0.3333333333333333, 0.0, 0.1111111111111111, 0.0, 0.15384615384615385, 0.2727272727272727, 0.1111111111111111, 0.0, 0.42857142857142855, 0.1111111111111111, 0.2727272727272727, 0.0, 0.2, 0.0, 0.0, 0.0, 0.0, 0.25, 0.08333333333333333, 0.0, 0.25, 0.1, 0.2857142857142857, 0.08333333333333333, 0.12, 0.0, 0.08333333333333333, 0.42857142857142855, 0.3333333333333333, 0.2727272727272727, 0.5, 0.25, 0.0, 0.25, 0.07692307692307693, 0.1, 0.0, 0.4, 0.25, 0.3333333333333333, 0.0, 0.3333333333333333, 0.25, 0.0, 0.11764705882352941, 0.0, 0.0, 0.0, 0.1111111111111111, 0.14285714285714285, 0.0, 0.14285714285714285, 0.5, 0.0, 0.4, 0.1, 0.0, 0.0, 0.0625, 0.0, 0.25, 0.0, 0.0, 0.16666666666666666, 0.0, 0.1111111111111111, 0.3333333333333333, 0.25, 0.3333333333333333, 0.4, 0.1, 0.16666666666666666, 0.2, 0.2, 0.3333333333333333, 0.0, 0.0, 0.06666666666666667, 0.0, 0.16666666666666666, 0.3333333333333333, 0.25, 0.25, 0.2727272727272727, 0.125, 0.3333333333333333, 0.25, 0.0, 0.125, 0.3333333333333333, 0.08333333333333333, 0.0, 0.0625, 0.3333333333333333, 0.0, 0.2, 0.0, 0.0, 0.125, 0.1111111111111111, 0.125, 0.18181818181818182, 0.0, 0.3333333333333333, 0.0, 0.14285714285714285, 0.25, 0.058823529411764705, 0.0, 0.1, 0.0, 0.18181818181818182, 0.14285714285714285, 0.16666666666666666, 0.0, 0.25, 0.0, 0.0, 0.2, 0.0, 0.25, 0.0, 0.14285714285714285, 0.25, 0.14285714285714285, 0.0, 0.25, 0.0, 0.0, 0.13333333333333333, 0.0, 0.0, 0.125, 0.4, 0.0, 0.2727272727272727, 0.0, 0.0, 0.3333333333333333, 0.3333333333333333, 0.25, 0.25, 0.3333333333333333, 0.16666666666666666, 0.0, 0.25, 0.14285714285714285, 0.0, 0.0, 0.25, 0.1111111111111111, 0.6666666666666666, 0.4, 0.3333333333333333, 0.0, 0.0, 0.0, 0.2, 0.4, 0.0, 0.0, 0.25, 0.25, 0.1111111111111111, 0.2, 0.14285714285714285, 0.02857142857142857, 0.1, 0.125, 0.1111111111111111, 0.2, 0.0, 0.3333333333333333, 0.0, 0.25, 0.125, 0.0, 0.0, 0.0, 0.25, 0.0, 0.0, 0.0, 0.0, 0.16666666666666666, 0.0, 0.0, 0.0, 0.25, 0.0, 0.125, 0.6666666666666666, 0.125], 'Conservation Technician': [0.0, 0.0, 0.0, 0.0, 0.2, 0.045454545454545456, 0.09090909090909091, 0.05263157894736842, 0.0, 0.04, 0.0, 0.09090909090909091, 0.3333333333333333, 1.0, 0.3333333333333333, 0.0, 0.5, 0.0, 0.2, 0.0, 0.0, 0.0, 0.0, 0.0, 0.04, 0.0, 0.07692307692307693, 0.125, 0.2, 0.2, 0.0, 0.0, 0.0, 0.08333333333333333, 0.09090909090909091, 0.058823529411764705, 0.0, 0.14285714285714285, 0.14285714285714285, 0.09090909090909091, 0.0, 0.0, 0.0, 0.0, 0.0, 0.0, 0.0, 0.0, 0.0, 0.0, 0.125, 0.16666666666666666, 0.0, 0.04, 0.0, 0.1, 0.14285714285714285, 0.0, 0.09090909090909091, 0.0, 0.0, 0.0, 0.0, 0.0, 0.0, 0.0, 0.25, 0.0, 0.0, 0.0, 0.0, 0.0, 0.0, 0.0625, 0.0, 0.0, 0.0, 0.0, 0.0, 0.0, 0.2, 0.16666666666666666, 0.0, 0.0, 0.125, 0.0, 0.0, 0.07142857142857142, 0.0, 0.0, 0.0, 0.0, 0.0, 0.0, 0.0, 0.0, 0.0, 1.0, 0.25, 0.125, 0.25, 0.0, 0.0, 0.2, 0.0, 0.0, 0.0, 0.0, 0.09090909090909091, 0.0, 0.5, 0.0, 0.09090909090909091, 0.0, 0.1111111111111111, 0.0, 0.0, 0.0, 0.0, 0.1, 0.0, 0.07142857142857142, 0.2, 0.0, 0.0, 0.0, 0.0, 0.16666666666666666, 0.0, 0.0, 0.1, 0.0, 0.0, 0.0, 0.0, 0.0, 0.0, 0.0, 0.0, 0.0, 0.1, 0.0, 0.0, 0.0, 0.0, 0.0, 0.0, 0.0, 0.0, 0.0, 0.0, 0.0, 0.0, 0.0, 0.0, 0.0, 0.0, 0.0, 0.07142857142857142, 0.0, 0.0, 0.0, 0.0, 0.0, 0.09090909090909091, 0.0, 0.0, 0.2, 0.0, 0.0, 0.0, 0.0, 0.0, 0.0, 0.0, 0.0, 0.0, 0.0, 0.0, 0.0, 0.5, 0.0, 0.0, 0.0, 0.0, 0.0, 0.0, 0.25, 0.0, 0.0, 0.0, 0.0, 0.0, 0.0, 0.0, 0.030303030303030304, 0.125, 0.06666666666666667, 0.0, 0.0, 0.0, 0.0, 0.0, 0.0, 0.0, 0.0, 0.0, 0.0, 0.0, 0.0, 0.0, 0.0, 0.0, 0.0, 0.0, 0.0, 0.0, 0.0, 0.0, 0.0, 0.5, 0.0], 'Manager of Engineering': [0.0, 0.0, 0.0, 0.0, 0.14285714285714285, 0.041666666666666664, 0.16666666666666666, 0.1, 0.0, 0.07692307692307693, 0.0, 0.07692307692307693, 0.2, 0.3333333333333333, 1.0, 0.0, 0.25, 0.0, 0.14285714285714285, 0.0, 0.0, 0.0, 0.0, 0.0, 0.07692307692307693, 0.0, 0.06666666666666667, 0.1, 0.14285714285714285, 0.14285714285714285, 0.0, 0.0, 0.0, 0.07142857142857142, 0.07692307692307693, 0.05263157894736842, 0.0, 0.1111111111111111, 0.1111111111111111, 0.07692307692307693, 0.0, 0.0, 0.0, 0.0, 0.0, 0.0, 0.0, 0.0, 0.0, 0.0, 0.1, 0.125, 0.0, 0.037037037037037035, 0.0, 0.08333333333333333, 0.1111111111111111, 0.0, 0.16666666666666666, 0.0, 0.0, 0.0, 0.0, 0.0, 0.0, 0.0, 0.16666666666666666, 0.0, 0.0, 0.0, 0.0, 0.0, 0.0, 0.05555555555555555, 0.0, 0.0, 0.0, 0.0, 0.06666666666666667, 0.0, 0.14285714285714285, 0.125, 0.0, 0.0, 0.1, 0.0, 0.0, 0.0625, 0.0, 0.0, 0.0, 0.0, 0.0, 0.0, 0.0, 0.0, 0.0, 0.3333333333333333, 0.16666666666666666, 0.1, 0.16666666666666666, 0.0, 0.0, 0.14285714285714285, 0.0, 0.0, 0.0, 0.0, 0.07692307692307693, 0.0, 0.25, 0.0, 0.07692307692307693, 0.0, 0.2, 0.0, 0.0, 0.0, 0.0, 0.08333333333333333, 0.0, 0.13333333333333333, 0.14285714285714285, 0.0, 0.0, 0.0, 0.0, 0.2857142857142857, 0.0, 0.0, 0.18181818181818182, 0.0, 0.0, 0.0, 0.0, 0.0, 0.0, 0.09090909090909091, 0.0, 0.14285714285714285, 0.08333333333333333, 0.0, 0.0, 0.0, 0.0, 0.0, 0.0, 0.0, 0.0, 0.0, 0.0, 0.0, 0.0, 0.0, 0.0, 0.0, 0.0, 0.0, 0.13333333333333333, 0.0, 0.0, 0.0, 0.0, 0.0, 0.07692307692307693, 0.0, 0.0, 0.14285714285714285, 0.0, 0.0, 0.0, 0.0, 0.0, 0.0, 0.0, 0.0, 0.0, 0.0, 0.0, 0.0, 0.25, 0.0, 0.0, 0.0, 0.0, 0.0, 0.0, 0.16666666666666666, 0.0, 0.0, 0.0, 0.0, 0.1111111111111111, 0.0, 0.0, 0.02857142857142857, 0.1, 0.125, 0.0, 0.0, 0.0, 0.0, 0.0, 0.0, 0.0, 0.0, 0.0, 0.0, 0.0, 0.0, 0.0, 0.0, 0.0, 0.0, 0.0, 0.0, 0.0, 0.0, 0.0, 0.0, 0.25, 0.0], 'Forecast Systems Manager': [0.05555555555555555, 0.16666666666666666, 0.5, 0.25, 0.125, 0.04, 0.25, 0.15, 0.2, 0.07407407407407407, 0.0, 0.0, 0.16666666666666666, 0.0, 0.0, 1.0, 0.2, 0.0, 0.125, 0.18181818181818182, 0.16666666666666666, 0.0, 0.0, 0.1, 0.03571428571428571, 0.16666666666666666, 0.13333333333333333, 0.09090909090909091, 0.0, 0.0, 0.0, 0.2222222222222222, 0.0, 0.06666666666666667, 0.15384615384615385, 0.10526315789473684, 0.1, 0.2222222222222222, 0.0, 0.15384615384615385, 0.0, 0.4, 0.0, 0.0, 0.16666666666666666, 0.0, 0.0, 0.16666666666666666, 0.18181818181818182, 0.2, 0.0, 0.0, 0.16666666666666666, 0.11538461538461539, 0.125, 0.0, 0.2222222222222222, 0.0, 0.25, 0.16666666666666666, 0.0, 0.0, 0.2, 0.0, 0.2, 0.0, 0.14285714285714285, 0.2, 0.0, 0.0, 0.25, 0.2, 0.0, 0.17647058823529413, 0.0, 0.1, 0.0, 0.1, 0.13333333333333333, 0.0, 0.0, 0.1111111111111111, 0.0, 0.14285714285714285, 0.09090909090909091, 0.05555555555555555, 0.0, 0.058823529411764705, 0.0, 0.0, 0.0, 0.0, 0.14285714285714285, 0.25, 0.16666666666666666, 0.25, 0.2, 0.0, 0.0, 0.09090909090909091, 0.14285714285714285, 0.4, 0.16666666666666666, 0.0, 0.0, 0.0, 0.0625, 0.0, 0.07142857142857142, 0.2857142857142857, 0.0, 0.2, 0.15384615384615385, 0.05555555555555555, 0.08333333333333333, 0.2, 0.0, 0.1111111111111111, 0.25, 0.0, 0.0, 0.0, 0.0, 0.0, 0.4, 0.25, 0.14285714285714285, 0.0, 0.1, 0.1111111111111111, 0.07692307692307693, 0.0, 0.0, 0.2, 0.2857142857142857, 0.0, 0.05555555555555555, 0.0, 0.09090909090909091, 0.0, 0.2727272727272727, 0.125, 0.14285714285714285, 0.0, 0.2, 0.0, 0.25, 0.16666666666666666, 0.0, 0.2, 0.0, 0.2857142857142857, 0.2, 0.125, 0.0, 0.2, 0.0, 0.0, 0.0, 0.16666666666666666, 0.0, 0.1111111111111111, 0.14285714285714285, 0.2, 0.15384615384615385, 0.0, 0.0, 0.0, 0.2857142857142857, 0.2, 0.2, 0.25, 0.25, 0.0, 0.2, 0.125, 0.0, 0.0, 0.1, 0.16666666666666666, 0.0, 0.14285714285714285, 0.25, 0.0, 0.0, 0.0, 0.16666666666666666, 0.14285714285714285, 0.0, 0.2, 0.0, 0.2, 0.1, 0.16666666666666666, 0.2857142857142857, 0.027777777777777776, 0.0, 0.0, 0.16666666666666666, 0.16666666666666666, 0.0, 0.25, 0.0, 0.2, 0.1111111111111111, 0.0, 0.0, 0.0, 0.2, 0.0, 0.0, 0.0, 0.0, 0.3333333333333333, 0.0, 0.2, 0.0, 0.0, 0.0, 0.1111111111111111, 0.0, 0.1111111111111111], 'Water Services Technician': [0.0, 0.0, 0.0, 0.0, 0.16666666666666666, 0.043478260869565216, 0.08333333333333333, 0.10526315789473684, 0.0, 0.038461538461538464, 0.0, 0.08333333333333333, 0.25, 0.5, 0.25, 0.2, 1.0, 0.0, 0.16666666666666666, 0.0, 0.0, 0.0, 0.0, 0.0, 0.038461538461538464, 0.09090909090909091, 0.07142857142857142, 0.25, 0.16666666666666666, 0.16666666666666666, 0.0, 0.125, 0.0, 0.07692307692307693, 0.08333333333333333, 0.05555555555555555, 0.0, 0.125, 0.125, 0.08333333333333333, 0.0, 0.0, 0.0, 0.0, 0.0, 0.0, 0.0, 0.0, 0.1, 0.0, 0.1111111111111111, 0.14285714285714285, 0.0, 0.038461538461538464, 0.0, 0.09090909090909091, 0.125, 0.0, 0.08333333333333333, 0.0, 0.0, 0.0, 0.0, 0.0, 0.0, 0.0, 0.2, 0.0, 0.0, 0.0, 0.0, 0.0, 0.0, 0.125, 0.0, 0.0, 0.0, 0.0, 0.0, 0.0, 0.16666666666666666, 0.14285714285714285, 0.0, 0.0, 0.1111111111111111, 0.0, 0.0, 0.06666666666666667, 0.0, 0.0, 0.0, 0.0, 0.0, 0.0, 0.0, 0.0, 0.0, 0.5, 0.2, 0.25, 0.5, 0.25, 0.0, 0.16666666666666666, 0.0, 0.0, 0.0, 0.0, 0.08333333333333333, 0.0, 0.3333333333333333, 0.0, 0.08333333333333333, 0.0, 0.1, 0.0, 0.0, 0.0, 0.0, 0.09090909090909091, 0.0, 0.06666666666666667, 0.16666666666666666, 0.0, 0.25, 0.0, 0.0, 0.14285714285714285, 0.0, 0.0, 0.09090909090909091, 0.0, 0.0, 0.0, 0.0, 0.0, 0.0, 0.0, 0.0, 0.0, 0.09090909090909091, 0.0, 0.0, 0.0, 0.0, 0.0, 0.0, 0.0, 0.0, 0.0, 0.0, 0.0, 0.0, 0.0, 0.0, 0.0, 0.0, 0.0, 0.06666666666666667, 0.0, 0.0, 0.0, 0.0, 0.0, 0.08333333333333333, 0.0, 0.0, 0.16666666666666666, 0.0, 0.0, 0.0, 0.0, 0.08333333333333333, 0.0, 0.0, 0.0, 0.0, 0.0, 0.0, 0.0, 0.3333333333333333, 0.0, 0.0, 0.0, 0.0, 0.0, 0.0, 0.2, 0.0, 0.0, 0.0, 0.0, 0.0, 0.0, 0.0, 0.029411764705882353, 0.1111111111111111, 0.0625, 0.0, 0.0, 0.0, 0.0, 0.0, 0.0, 0.0, 0.0, 0.0, 0.0, 0.0, 0.0, 0.0, 0.0, 0.0, 0.0, 0.0, 0.0, 0.0, 0.0, 0.0, 0.0, 0.3333333333333333, 0.0], 'Front Desk Associate': [0.0, 0.25, 0.0, 0.0, 0.0, 0.043478260869565216, 0.08333333333333333, 0.0, 0.0, 0.0, 0.0, 0.0, 0.0, 0.0, 0.0, 0.0, 0.0, 1.0, 0.0, 0.0, 0.25, 0.3333333333333333, 0.0, 0.0, 0.038461538461538464, 0.09090909090909091, 0.0, 0.0, 0.0, 0.0, 0.5, 0.125, 0.0, 0.07692307692307693, 0.08333333333333333, 0.0, 0.0, 0.125, 0.0, 0.08333333333333333, 0.0, 0.0, 0.0, 0.0, 0.25, 0.0, 0.0, 0.0, 0.0, 0.0, 0.0, 0.14285714285714285, 0.0, 0.038461538461538464, 0.4, 0.09090909090909091, 0.125, 0.0, 0.08333333333333333, 0.25, 0.0, 0.0, 0.3333333333333333, 0.08333333333333333, 0.1111111111111111, 0.5, 0.2, 0.0, 0.0, 0.5, 0.0, 0.3333333333333333, 0.0, 0.125, 0.3333333333333333, 0.0, 0.0, 0.0, 0.0, 0.0, 0.16666666666666666, 0.0, 0.0, 0.2, 0.1111111111111111, 0.0625, 0.0, 0.06666666666666667, 0.5, 0.0, 0.0, 0.5, 0.2, 0.0, 0.11764705882352941, 0.0, 0.3333333333333333, 0.0, 0.2, 0.0, 0.0, 0.25, 0.25, 0.0, 0.0, 0.1111111111111111, 0.15384615384615385, 0.25, 0.0, 0.0, 0.3333333333333333, 0.0, 0.08333333333333333, 0.0, 0.1, 0.0, 0.0, 0.14285714285714285, 0.0, 0.0, 0.5, 0.06666666666666667, 0.0, 0.3333333333333333, 0.25, 0.0, 0.0, 0.0, 0.125, 0.14285714285714285, 0.09090909090909091, 0.0, 0.0, 0.0, 0.16666666666666666, 0.0, 0.0, 0.0, 0.0, 0.0, 0.09090909090909091, 0.4, 0.2, 0.25, 0.0, 0.25, 0.0, 0.25, 0.0, 0.3333333333333333, 0.25, 0.16666666666666666, 0.3333333333333333, 0.16666666666666666, 0.3333333333333333, 0.0, 0.0, 0.0, 0.0, 0.25, 0.0, 0.14285714285714285, 0.2, 0.3333333333333333, 0.08333333333333333, 0.25, 0.5, 0.0, 0.0, 0.0, 0.3333333333333333, 0.0, 0.18181818181818182, 0.5, 0.0, 0.0, 0.25, 0.25, 0.2857142857142857, 0.11764705882352941, 0.0, 0.2, 0.0, 0.25, 0.0, 0.0, 0.25, 0.2, 0.0, 0.0, 0.0, 0.0, 0.2857142857142857, 0.25, 0.16666666666666666, 0.029411764705882353, 0.0, 0.0, 0.11764705882352941, 0.0, 0.5, 0.0, 0.25, 0.0, 0.14285714285714285, 0.25, 0.0, 0.25, 0.3333333333333333, 0.5, 0.5, 0.5, 0.25, 0.0, 0.0, 0.0, 0.5, 0.0, 0.25, 0.14285714285714285, 0.0, 0.14285714285714285], 'Senior Analyst Retail Analytics and Reporting': [0.05263157894736842, 0.14285714285714285, 0.16666666666666666, 0.0, 0.25, 0.125, 0.14285714285714285, 0.14285714285714285, 0.16666666666666666, 0.15384615384615385, 0.0, 0.14285714285714285, 0.3333333333333333, 0.2, 0.14285714285714285, 0.125, 0.16666666666666666, 0.0, 1.0, 0.0, 0.14285714285714285, 0.0, 0.0, 0.0, 0.1111111111111111, 0.0, 0.2, 0.18181818181818182, 0.1111111111111111, 0.1111111111111111, 0.0, 0.09090909090909091, 0.0, 0.21428571428571427, 0.23076923076923078, 0.15789473684210525, 0.0, 0.2, 0.09090909090909091, 0.23076923076923078, 0.125, 0.14285714285714285, 0.14285714285714285, 0.16666666666666666, 0.0, 0.0, 0.0, 0.0, 0.0, 0.16666666666666666, 0.08333333333333333, 0.1, 0.0, 0.15384615384615385, 0.0, 0.07142857142857142, 0.2, 0.0, 0.14285714285714285, 0.14285714285714285, 0.0, 0.0, 0.16666666666666666, 0.0, 0.18181818181818182, 0.0, 0.2857142857142857, 0.16666666666666666, 0.0, 0.0, 0.2, 0.16666666666666666, 0.0, 0.16666666666666666, 0.0, 0.0, 0.0, 0.09090909090909091, 0.2, 0.0, 0.1111111111111111, 0.2222222222222222, 0.0, 0.125, 0.08333333333333333, 0.0, 0.0, 0.11764705882352941, 0.0, 0.0, 0.0, 0.0, 0.125, 0.0, 0.15789473684210525, 0.2, 0.16666666666666666, 0.2, 0.125, 0.18181818181818182, 0.125, 0.14285714285714285, 0.14285714285714285, 0.1111111111111111, 0.0, 0.0, 0.058823529411764705, 0.0, 0.06666666666666667, 0.1111111111111111, 0.16666666666666666, 0.16666666666666666, 0.23076923076923078, 0.1111111111111111, 0.16666666666666666, 0.16666666666666666, 0.0, 0.1, 0.2, 0.07142857142857142, 0.0, 0.05555555555555555, 0.1111111111111111, 0.0, 0.14285714285714285, 0.0, 0.0, 0.1, 0.2, 0.1, 0.15384615384615385, 0.0, 0.0, 0.0, 0.1111111111111111, 0.16666666666666666, 0.25, 0.0, 0.08333333333333333, 0.0, 0.25, 0.1111111111111111, 0.125, 0.0, 0.16666666666666666, 0.0, 0.0, 0.14285714285714285, 0.0, 0.16666666666666666, 0.0, 0.1111111111111111, 0.16666666666666666, 0.1111111111111111, 0.0, 0.16666666666666666, 0.0, 0.0, 0.11764705882352941, 0.0, 0.2222222222222222, 0.1, 0.125, 0.0, 0.23076923076923078, 0.0, 0.0, 0.1111111111111111, 0.1111111111111111, 0.16666666666666666, 0.16666666666666666, 0.2, 0.06666666666666667, 0.0, 0.16666666666666666, 0.1111111111111111, 0.0, 0.0, 0.09090909090909091, 0.15789473684210525, 0.16666666666666666, 0.125, 0.2, 0.0, 0.0, 0.0, 0.14285714285714285, 0.2857142857142857, 0.0, 0.0, 0.0, 0.16666666666666666, 0.09090909090909091, 0.14285714285714285, 0.1111111111111111, 0.11764705882352941, 0.08333333333333333, 0.1111111111111111, 0.15789473684210525, 0.14285714285714285, 0.0, 0.2, 0.0, 0.16666666666666666, 0.1, 0.0, 0.0, 0.0, 0.16666666666666666, 0.0, 0.0, 0.0, 0.0, 0.125, 0.0, 0.0, 0.0, 0.16666666666666666, 0.0, 0.1, 0.16666666666666666, 0.1], 'Total Quality Management Director': [0.09090909090909091, 0.0, 0.1, 0.1111111111111111, 0.0, 0.14814814814814814, 0.17647058823529413, 0.12, 0.0, 0.13333333333333333, 0.0, 0.0, 0.0, 0.0, 0.0, 0.18181818181818182, 0.0, 0.0, 0.0, 1.0, 0.0, 0.0, 0.0, 0.7777777777777778, 0.0, 0.05555555555555555, 0.047619047619047616, 0.0, 0.0, 0.0, 0.0, 0.0, 0.1111111111111111, 0.05, 0.1111111111111111, 0.08333333333333333, 0.7777777777777778, 0.06666666666666667, 0.06666666666666667, 0.1111111111111111, 0.0, 0.2, 0.0, 0.1, 0.2, 0.1, 0.0, 0.1875, 0.058823529411764705, 0.1, 0.0, 0.0, 0.1875, 0.13333333333333333, 0.07692307692307693, 0.05555555555555555, 0.06666666666666667, 0.0, 0.17647058823529413, 0.0, 0.0, 0.07692307692307693, 0.0, 0.0, 0.13333333333333333, 0.0, 0.0, 0.0, 0.0, 0.0, 0.0, 0.0, 0.09090909090909091, 0.13636363636363635, 0.0, 0.7777777777777778, 0.0, 0.0, 0.047619047619047616, 0.0, 0.0, 0.0, 0.0, 0.0, 0.13333333333333333, 0.09090909090909091, 0.0, 0.09523809523809523, 0.0, 0.0, 0.1111111111111111, 0.0, 0.0, 0.1111111111111111, 0.13043478260869565, 0.0, 0.0, 0.0, 0.0, 0.0, 0.0, 0.0, 0.09090909090909091, 0.0, 0.0, 0.13333333333333333, 0.1, 0.0, 0.05263157894736842, 0.16666666666666666, 0.0, 0.1, 0.1111111111111111, 0.043478260869565216, 0.058823529411764705, 0.0, 0.0, 0.0, 0.0, 0.0, 0.0, 0.0, 0.0, 0.0, 0.0, 0.1111111111111111, 0.18181818181818182, 0.0, 0.06666666666666667, 0.0, 0.05555555555555555, 0.1, 0.0, 0.1, 0.16666666666666666, 0.0, 0.043478260869565216, 0.058823529411764705, 0.0, 0.07692307692307693, 0.1875, 0.07692307692307693, 0.08333333333333333, 0.0, 0.0, 0.0, 0.1111111111111111, 0.0, 0.0, 0.0, 0.0, 0.07692307692307693, 0.0, 0.0, 0.1, 0.0, 0.0, 0.1111111111111111, 0.0, 0.09090909090909091, 0.0, 0.0, 0.0, 0.1, 0.1111111111111111, 0.0, 0.0, 0.0, 0.16666666666666666, 0.0, 0.0, 0.0, 0.05263157894736842, 0.0, 0.0, 0.07692307692307693, 0.0, 0.0, 0.0, 0.13043478260869565, 0.0, 0.0, 0.0, 0.0, 0.0, 0.0, 0.09090909090909091, 0.0, 0.1111111111111111, 0.1, 0.0, 0.0, 0.0, 0.09090909090909091, 0.16666666666666666, 0.024390243902439025, 0.0, 0.043478260869565216, 0.13043478260869565, 0.09090909090909091, 0.0, 0.0, 0.0, 0.1, 0.0, 0.0, 0.1, 0.0, 0.0, 0.0, 0.0, 0.0, 0.0, 0.08333333333333333, 0.1111111111111111, 0.1, 0.0, 0.0, 0.0, 0.0, 0.0, 0.0], 'Aviation Inside Sales': [0.0, 1.0, 0.25, 0.0, 0.14285714285714285, 0.08695652173913043, 0.07692307692307693, 0.047619047619047616, 0.25, 0.0, 0.0, 0.0, 0.2, 0.0, 0.0, 0.16666666666666666, 0.0, 0.25, 0.14285714285714285, 0.0, 1.0, 0.25, 0.0, 0.0, 0.07692307692307693, 0.0, 0.06666666666666667, 0.0, 0.14285714285714285, 0.14285714285714285, 0.0, 0.25, 0.0, 0.15384615384615385, 0.16666666666666666, 0.05263157894736842, 0.0, 0.25, 0.0, 0.16666666666666666, 0.0, 0.2, 0.0, 0.0, 0.2, 0.0, 0.0, 0.0, 0.0, 0.25, 0.0, 0.125, 0.0, 0.07692307692307693, 0.14285714285714285, 0.08333333333333333, 0.25, 0.0, 0.07692307692307693, 0.2, 0.0, 0.0, 0.25, 0.0, 0.1, 0.0, 0.16666666666666666, 0.25, 0.0, 0.3333333333333333, 0.3333333333333333, 0.6666666666666666, 0.0, 0.11764705882352941, 0.0, 0.0, 0.0, 0.1111111111111111, 0.06666666666666667, 0.0, 0.0, 0.2857142857142857, 0.0, 0.4, 0.1, 0.058823529411764705, 0.0, 0.0, 0.0, 0.0, 0.0, 0.4, 0.4, 0.0, 0.1111111111111111, 0.3333333333333333, 0.25, 0.0, 0.16666666666666666, 0.0, 0.0, 0.5, 0.5, 0.14285714285714285, 0.0, 0.0, 0.14285714285714285, 0.2, 0.0, 0.14285714285714285, 0.0, 0.25, 0.16666666666666666, 0.058823529411764705, 0.09090909090909091, 0.25, 0.0, 0.2857142857142857, 0.3333333333333333, 0.08333333333333333, 0.0, 0.0625, 0.14285714285714285, 0.0, 0.5, 0.0, 0.0, 0.0, 0.1111111111111111, 0.2857142857142857, 0.18181818181818182, 0.0, 0.0, 0.0, 0.14285714285714285, 0.0, 0.058823529411764705, 0.09090909090909091, 0.1, 0.14285714285714285, 0.08333333333333333, 0.3333333333333333, 0.4, 0.2, 0.25, 0.2, 0.0, 1.0, 0.0, 0.25, 0.5, 0.14285714285714285, 0.25, 0.3333333333333333, 0.25, 0.25, 0.0, 0.0, 0.0625, 0.0, 0.0, 0.2857142857142857, 0.4, 0.0, 0.16666666666666666, 0.2, 0.3333333333333333, 0.14285714285714285, 0.14285714285714285, 0.25, 0.25, 0.3333333333333333, 0.2727272727272727, 0.0, 0.25, 0.14285714285714285, 0.0, 0.2, 0.25, 0.1111111111111111, 0.0, 0.4, 0.3333333333333333, 0.2, 0.0, 0.0, 0.5, 0.16666666666666666, 0.0, 0.0, 0.0, 0.25, 0.25, 0.5, 0.14285714285714285, 0.0, 0.1, 0.0, 0.1111111111111111, 0.2, 0.0, 0.3333333333333333, 0.2, 0.25, 0.2857142857142857, 0.2, 0.25, 0.5, 0.25, 0.0, 0.0, 0.3333333333333333, 0.2, 0.16666666666666666, 0.0, 0.0, 0.0, 0.0, 0.2, 0.2857142857142857, 0.0, 0.2857142857142857], 'HVAC Mechanic': [0.0, 0.25, 0.0, 0.0, 0.0, 0.0, 0.0, 0.0, 0.3333333333333333, 0.0, 0.0, 0.0, 0.0, 0.0, 0.0, 0.0, 0.0, 0.3333333333333333, 0.0, 0.0, 0.25, 1.0, 0.3333333333333333, 0.0, 0.0, 0.0, 0.0, 0.1111111111111111, 0.16666666666666666, 0.16666666666666666, 0.0, 0.2857142857142857, 0.0, 0.07692307692307693, 0.18181818181818182, 0.0, 0.0, 0.125, 0.0, 0.18181818181818182, 0.0, 0.0, 0.0, 0.0, 0.25, 0.0, 0.3333333333333333, 0.0, 0.0, 0.0, 0.0, 0.14285714285714285, 0.0, 0.08, 0.16666666666666666, 0.09090909090909091, 0.125, 0.0, 0.0, 0.0, 0.0, 0.0, 0.0, 0.0, 0.1111111111111111, 0.0, 0.0, 0.0, 0.0, 0.5, 0.0, 0.3333333333333333, 0.0, 0.125, 0.0, 0.0, 0.0, 0.0, 0.0, 0.0, 0.0, 0.14285714285714285, 0.0, 0.5, 0.25, 0.0625, 0.16666666666666666, 0.0, 0.0, 0.3333333333333333, 0.0, 0.2, 0.0, 0.0, 0.05555555555555555, 0.0, 0.0, 0.0, 0.5, 0.1111111111111111, 0.0, 0.25, 0.25, 0.16666666666666666, 0.0, 0.0, 0.15384615384615385, 0.6666666666666666, 0.0, 0.0, 0.0, 0.0, 0.18181818181818182, 0.0, 0.0, 0.3333333333333333, 0.0, 0.3333333333333333, 0.0, 0.09090909090909091, 0.0, 0.06666666666666667, 0.16666666666666666, 0.0, 0.25, 0.0, 0.0, 0.0, 0.0, 0.3333333333333333, 0.09090909090909091, 0.0, 0.0, 0.0, 0.0, 0.0, 0.0625, 0.1, 0.1111111111111111, 0.16666666666666666, 0.0, 0.16666666666666666, 0.2, 0.0, 0.0, 0.0, 0.0, 0.25, 0.0, 0.0, 0.6666666666666666, 0.0, 0.0, 0.16666666666666666, 0.3333333333333333, 0.0, 0.0, 0.0, 0.0, 0.0, 0.0, 0.3333333333333333, 0.5, 0.0, 0.18181818181818182, 0.0, 0.5, 0.16666666666666666, 0.0, 0.3333333333333333, 0.0, 0.0, 0.08333333333333333, 0.0, 0.0, 0.0, 0.0, 0.0, 0.125, 0.05555555555555555, 0.0, 0.5, 0.0, 0.0, 0.0, 0.0, 0.25, 0.0, 0.0, 0.0, 0.3333333333333333, 0.0, 0.2857142857142857, 0.25, 0.0, 0.029411764705882353, 0.0, 0.0625, 0.05555555555555555, 0.0, 0.0, 0.0, 0.6666666666666666, 0.0, 0.3333333333333333, 0.0, 0.0, 0.6666666666666666, 0.0, 0.0, 0.0, 0.5, 0.0, 0.0, 0.0, 0.0, 0.0, 0.0, 0.0, 0.3333333333333333, 0.0, 0.3333333333333333], 'Cognos Business Development Architect': [0.0, 0.0, 0.0, 0.0, 0.16666666666666666, 0.0, 0.08333333333333333, 0.05, 0.3333333333333333, 0.038461538461538464, 0.0, 0.0, 0.25, 0.0, 0.0, 0.0, 0.0, 0.0, 0.0, 0.0, 0.0, 0.3333333333333333, 1.0, 0.0, 0.038461538461538464, 0.0, 0.0, 0.1111111111111111, 0.4, 0.4, 0.0, 0.125, 0.0, 0.07692307692307693, 0.18181818181818182, 0.0, 0.0, 0.125, 0.0, 0.18181818181818182, 0.0, 0.0, 0.0, 0.0, 0.0, 0.0, 1.0, 0.09090909090909091, 0.0, 0.0, 0.0, 0.3333333333333333, 0.09090909090909091, 0.08, 0.0, 0.09090909090909091, 0.125, 0.5, 0.08333333333333333, 0.25, 0.3333333333333333, 0.0, 0.0, 0.08333333333333333, 0.1111111111111111, 0.0, 0.0, 0.0, 0.5, 0.0, 0.0, 0.0, 0.0, 0.058823529411764705, 0.0, 0.0, 0.0, 0.0, 0.07142857142857142, 0.0, 0.0, 0.3333333333333333, 0.0, 0.5, 0.1111111111111111, 0.0, 0.16666666666666666, 0.0, 0.0, 1.0, 0.0, 0.0, 0.0, 0.0, 0.05555555555555555, 0.0, 0.0, 0.0, 0.5, 0.1111111111111111, 0.0, 0.0, 0.0, 0.4, 0.0, 0.0, 0.07142857142857142, 0.25, 0.08333333333333333, 0.16666666666666666, 0.0, 0.0, 0.18181818181818182, 0.0625, 0.1, 0.3333333333333333, 0.0, 0.14285714285714285, 0.0, 0.09090909090909091, 0.0, 0.0, 0.4, 0.0, 0.0, 0.0, 0.0, 0.0, 0.0, 0.14285714285714285, 0.0, 0.0, 0.5, 0.0, 0.0, 0.3333333333333333, 0.0625, 0.1, 0.1111111111111111, 0.16666666666666666, 0.0, 0.0, 0.0, 0.0, 0.0, 0.0, 0.0, 0.0, 0.0, 0.0, 0.25, 0.0, 0.0, 0.0, 0.0, 0.0, 0.0, 0.0, 0.06666666666666667, 0.0, 0.0, 0.14285714285714285, 0.5, 0.0, 0.18181818181818182, 0.0, 0.0, 0.4, 0.16666666666666666, 0.3333333333333333, 0.0, 0.0, 0.08333333333333333, 0.0, 0.0, 0.0, 0.0, 0.0, 0.125, 0.05555555555555555, 0.3333333333333333, 0.5, 0.0, 0.0, 0.0, 0.0, 0.0, 0.0, 0.0, 0.0, 1.0, 0.0, 0.125, 0.0, 0.0, 0.029411764705882353, 0.0, 0.13333333333333333, 0.05555555555555555, 0.0, 0.0, 0.0, 0.25, 0.0, 0.14285714285714285, 0.0, 0.0, 0.25, 0.0, 0.0, 0.0, 0.0, 0.0, 0.0, 0.0, 0.0, 0.0, 0.3333333333333333, 0.0, 0.14285714285714285, 0.3333333333333333, 0.14285714285714285], 'School Social Worker': [0.0, 0.0, 0.125, 0.14285714285714285, 0.0, 0.11538461538461539, 0.125, 0.08333333333333333, 0.0, 0.10344827586206896, 0.0, 0.0, 0.0, 0.0, 0.0, 0.1, 0.0, 0.0, 0.0, 0.7777777777777778, 0.0, 0.0, 0.0, 1.0, 0.0, 0.0625, 0.0, 0.0, 0.0, 0.0, 0.0, 0.0, 0.14285714285714285, 0.05555555555555555, 0.125, 0.043478260869565216, 1.0, 0.07692307692307693, 0.07692307692307693, 0.125, 0.0, 0.1111111111111111, 0.0, 0.125, 0.1111111111111111, 0.125, 0.0, 0.13333333333333333, 0.06666666666666667, 0.125, 0.0, 0.0, 0.13333333333333333, 0.06666666666666667, 0.0, 0.0625, 0.07692307692307693, 0.0, 0.125, 0.0, 0.0, 0.09090909090909091, 0.0, 0.0, 0.07142857142857142, 0.0, 0.0, 0.0, 0.0, 0.0, 0.0, 0.0, 0.1111111111111111, 0.09523809523809523, 0.0, 1.0, 0.0, 0.0, 0.0, 0.0, 0.0, 0.0, 0.0, 0.0, 0.07142857142857142, 0.0, 0.0, 0.05, 0.0, 0.0, 0.14285714285714285, 0.0, 0.0, 0.14285714285714285, 0.09090909090909091, 0.0, 0.0, 0.0, 0.0, 0.0, 0.0, 0.0, 0.1111111111111111, 0.0, 0.0, 0.15384615384615385, 0.1111111111111111, 0.0, 0.0, 0.2, 0.0, 0.125, 0.125, 0.0, 0.06666666666666667, 0.0, 0.0, 0.0, 0.0, 0.0, 0.0, 0.0, 0.0, 0.0, 0.0, 0.0, 0.1, 0.0, 0.07692307692307693, 0.0, 0.0625, 0.125, 0.0, 0.0, 0.2, 0.0, 0.0, 0.06666666666666667, 0.0, 0.09090909090909091, 0.13333333333333333, 0.09090909090909091, 0.1, 0.0, 0.0, 0.0, 0.14285714285714285, 0.0, 0.0, 0.0, 0.0, 0.0, 0.0, 0.0, 0.125, 0.0, 0.0, 0.14285714285714285, 0.0, 0.0, 0.0, 0.0, 0.0, 0.0, 0.125, 0.0, 0.0, 0.0, 0.2, 0.0, 0.0, 0.0, 0.058823529411764705, 0.0, 0.0, 0.09090909090909091, 0.0, 0.0, 0.0, 0.09090909090909091, 0.0, 0.0, 0.0, 0.0, 0.0, 0.0, 0.1111111111111111, 0.0, 0.14285714285714285, 0.0, 0.0, 0.0, 0.0, 0.1111111111111111, 0.2, 0.02564102564102564, 0.0, 0.047619047619047616, 0.09090909090909091, 0.1111111111111111, 0.0, 0.0, 0.0, 0.125, 0.0, 0.0, 0.125, 0.0, 0.0, 0.0, 0.0, 0.0, 0.0, 0.0, 0.14285714285714285, 0.0, 0.0, 0.0, 0.0, 0.0, 0.0, 0.0], 'International Education Coordinator': [0.1111111111111111, 0.07692307692307693, 0.038461538461538464, 0.0, 0.1111111111111111, 0.23684210526315788, 0.125, 0.15789473684210525, 0.038461538461538464, 0.16279069767441862, 0.038461538461538464, 0.058823529411764705, 0.12, 0.04, 0.07692307692307693, 0.03571428571428571, 0.038461538461538464, 0.038461538461538464, 0.1111111111111111, 0.0, 0.07692307692307693, 0.0, 0.038461538461538464, 0.0, 1.0, 0.20689655172413793, 0.26666666666666666, 0.06451612903225806, 0.1111111111111111, 0.1111111111111111, 0.04, 0.06666666666666667, 0.0, 0.27586206896551724, 0.16129032258064516, 0.2, 0.0, 0.10344827586206896, 0.14285714285714285, 0.16129032258064516, 0.03571428571428571, 0.037037037037037035, 0.0, 0.0, 0.0, 0.038461538461538464, 0.038461538461538464, 0.029411764705882353, 0.1724137931034483, 0.038461538461538464, 0.13793103448275862, 0.14814814814814814, 0.029411764705882353, 0.19047619047619047, 0.034482758620689655, 0.25, 0.10344827586206896, 0.04, 0.125, 0.12, 0.038461538461538464, 0.034482758620689655, 0.08, 0.058823529411764705, 0.06451612903225806, 0.04, 0.11538461538461539, 0.038461538461538464, 0.04, 0.0, 0.04, 0.038461538461538464, 0.0, 0.10810810810810811, 0.08, 0.0, 0.034482758620689655, 0.03225806451612903, 0.1875, 0.038461538461538464, 0.15384615384615385, 0.14814814814814814, 0.03125, 0.07407407407407407, 0.06451612903225806, 0.0, 0.0, 0.05405405405405406, 0.04, 0.038461538461538464, 0.0, 0.07407407407407407, 0.11538461538461539, 0.0, 0.13513513513513514, 0.04, 0.08, 0.04, 0.07407407407407407, 0.06451612903225806, 0.07407407407407407, 0.037037037037037035, 0.037037037037037035, 0.1111111111111111, 0.0, 0.03125, 0.08571428571428572, 0.037037037037037035, 0.125, 0.1111111111111111, 0.08, 0.038461538461538464, 0.16129032258064516, 0.14285714285714285, 0.1724137931034483, 0.038461538461538464, 0.0, 0.06896551724137931, 0.04, 0.12903225806451613, 0.04, 0.3, 0.1111111111111111, 0.038461538461538464, 0.037037037037037035, 0.0, 0.03571428571428571, 0.14814814814814814, 0.10344827586206896, 0.06896551724137931, 0.09375, 0.0, 0.04, 0.0, 0.07142857142857142, 0.038461538461538464, 0.17647058823529413, 0.0967741935483871, 0.13793103448275862, 0.07142857142857142, 0.16666666666666666, 0.1111111111111111, 0.07407407407407407, 0.07692307692307693, 0.08, 0.07692307692307693, 0.0, 0.07692307692307693, 0.0, 0.08, 0.037037037037037035, 0.1111111111111111, 0.08, 0.1111111111111111, 0.0, 0.08, 0.0, 0.0, 0.25806451612903225, 0.037037037037037035, 0.06896551724137931, 0.06896551724137931, 0.07407407407407407, 0.038461538461538464, 0.16129032258064516, 0.07692307692307693, 0.0, 0.1111111111111111, 0.1111111111111111, 0.038461538461538464, 0.08, 0.04, 0.125, 0.04, 0.038461538461538464, 0.07142857142857142, 0.037037037037037035, 0.07692307692307693, 0.14285714285714285, 0.13513513513513514, 0.08, 0.07407407407407407, 0.04, 0.07692307692307693, 0.0, 0.0, 0.037037037037037035, 0.11538461538461539, 0.0, 0.0, 0.038461538461538464, 0.038461538461538464, 0.10344827586206896, 0.037037037037037035, 0.07142857142857142, 0.20833333333333334, 0.06451612903225806, 0.17647058823529413, 0.13513513513513514, 0.037037037037037035, 0.04, 0.04, 0.037037037037037035, 0.038461538461538464, 0.06896551724137931, 0.07692307692307693, 0.038461538461538464, 0.037037037037037035, 0.08, 0.04, 0.04, 0.0, 0.07692307692307693, 0.03571428571428571, 0.0, 0.0, 0.04, 0.038461538461538464, 0.07692307692307693, 0.06896551724137931, 0.08, 0.06896551724137931], 'Treasurer': [0.13636363636363635, 0.0, 0.09090909090909091, 0.1, 0.0, 0.18518518518518517, 0.10526315789473684, 0.20833333333333334, 0.0, 0.09375, 0.0, 0.10526315789473684, 0.0, 0.0, 0.0, 0.16666666666666666, 0.09090909090909091, 0.09090909090909091, 0.0, 0.05555555555555555, 0.0, 0.0, 0.0, 0.0625, 0.20689655172413793, 1.0, 0.35294117647058826, 0.2, 0.07142857142857142, 0.07142857142857142, 0.1, 0.13333333333333333, 0.0, 0.29411764705882354, 0.10526315789473684, 0.2857142857142857, 0.0625, 0.0625, 0.21428571428571427, 0.10526315789473684, 0.07692307692307693, 0.0, 0.0, 0.0, 0.0, 0.0, 0.0, 0.05263157894736842, 0.9, 0.0, 0.058823529411764705, 0.14285714285714285, 0.05263157894736842, 0.16666666666666666, 0.07142857142857142, 0.3333333333333333, 0.0625, 0.0, 0.10526315789473684, 0.08333333333333333, 0.0, 0.07142857142857142, 0.09090909090909091, 0.05, 0.125, 0.1, 0.07692307692307693, 0.09090909090909091, 0.0, 0.0, 0.0, 0.0, 0.0, 0.08333333333333333, 0.09090909090909091, 0.0625, 0.07142857142857142, 0.0, 0.0, 0.0, 0.25, 0.06666666666666667, 0.058823529411764705, 0.0, 0.2, 0.0, 0.0, 0.09090909090909091, 0.1, 0.0, 0.0, 0.07692307692307693, 0.07692307692307693, 0.1, 0.08, 0.0, 0.09090909090909091, 0.0, 0.0, 0.2, 0.2727272727272727, 0.08333333333333333, 0.0, 0.07142857142857142, 0.0, 0.058823529411764705, 0.09523809523809523, 0.0, 0.05, 0.15384615384615385, 0.09090909090909091, 0.0, 0.10526315789473684, 0.13636363636363635, 0.05555555555555555, 0.0, 0.0, 0.06666666666666667, 0.0, 0.1111111111111111, 0.1, 0.3333333333333333, 0.07142857142857142, 0.09090909090909091, 0.08333333333333333, 0.0, 0.0, 0.23076923076923078, 0.21428571428571427, 0.06666666666666667, 0.0, 0.0, 0.0, 0.0, 0.15384615384615385, 0.0, 0.19047619047619047, 0.11764705882352941, 0.2857142857142857, 0.0, 0.1111111111111111, 0.15384615384615385, 0.0, 0.08333333333333333, 0.0, 0.08333333333333333, 0.1, 0.0, 0.0, 0.09090909090909091, 0.0, 0.07142857142857142, 0.09090909090909091, 0.25, 0.0, 0.0, 0.0, 0.0, 0.14285714285714285, 0.08333333333333333, 0.14285714285714285, 0.06666666666666667, 0.0, 0.09090909090909091, 0.10526315789473684, 0.08333333333333333, 0.0, 0.07142857142857142, 0.15384615384615385, 0.0, 0.09090909090909091, 0.0, 0.16666666666666666, 0.1, 0.0, 0.07142857142857142, 0.08333333333333333, 0.08333333333333333, 0.13333333333333333, 0.08, 0.0, 0.0, 0.0, 0.08333333333333333, 0.0, 0.0, 0.0, 0.07692307692307693, 0.0, 0.0, 0.0, 0.0, 0.0625, 0.0, 0.15384615384615385, 0.22857142857142856, 0.058823529411764705, 0.13636363636363635, 0.08, 0.0, 0.1, 0.0, 0.0, 0.0, 0.06666666666666667, 0.08333333333333333, 0.0, 0.0, 0.09090909090909091, 0.1, 0.1, 0.0, 0.08333333333333333, 0.0, 0.0, 0.0, 0.1, 0.0, 0.08333333333333333, 0.06666666666666667, 0.0, 0.06666666666666667], 'Pipefitter': [0.21739130434782608, 0.06666666666666667, 0.07142857142857142, 0.0, 0.125, 0.16666666666666666, 0.14285714285714285, 0.18518518518518517, 0.07142857142857142, 0.15151515151515152, 0.07142857142857142, 0.2, 0.14285714285714285, 0.07692307692307693, 0.06666666666666667, 0.13333333333333333, 0.07142857142857142, 0.0, 0.2, 0.047619047619047616, 0.06666666666666667, 0.0, 0.0, 0.0, 0.26666666666666666, 0.35294117647058826, 1.0, 0.23529411764705882, 0.058823529411764705, 0.058823529411764705, 0.0, 0.1111111111111111, 0.0, 0.3157894736842105, 0.2, 0.42857142857142855, 0.0, 0.1111111111111111, 0.25, 0.2, 0.0625, 0.14285714285714285, 0.0, 0.0, 0.06666666666666667, 0.07142857142857142, 0.0, 0.045454545454545456, 0.375, 0.07142857142857142, 0.10526315789473684, 0.05555555555555555, 0.045454545454545456, 0.26666666666666666, 0.058823529411764705, 0.2777777777777778, 0.1111111111111111, 0.0, 0.14285714285714285, 0.06666666666666667, 0.0, 0.058823529411764705, 0.07142857142857142, 0.0, 0.16666666666666666, 0.0, 0.13333333333333333, 0.15384615384615385, 0.0, 0.0, 0.07692307692307693, 0.07142857142857142, 0.0, 0.16, 0.0, 0.0, 0.058823529411764705, 0.05263157894736842, 0.08333333333333333, 0.07142857142857142, 0.2, 0.11764705882352941, 0.05, 0.0625, 0.16666666666666666, 0.037037037037037035, 0.0, 0.22727272727272727, 0.0, 0.0, 0.0, 0.0, 0.0625, 0.0, 0.2, 0.07692307692307693, 0.07142857142857142, 0.07692307692307693, 0.0625, 0.23529411764705882, 0.21428571428571427, 0.06666666666666667, 0.06666666666666667, 0.058823529411764705, 0.0, 0.0, 0.08333333333333333, 0.06666666666666667, 0.2, 0.125, 0.07142857142857142, 0.07142857142857142, 0.2, 0.16666666666666666, 0.1, 0.07142857142857142, 0.0, 0.11764705882352941, 0.07692307692307693, 0.15, 0.0, 0.35, 0.058823529411764705, 0.0, 0.06666666666666667, 0.07692307692307693, 0.13333333333333333, 0.26666666666666666, 0.1111111111111111, 0.11764705882352941, 0.09523809523809523, 0.0, 0.0, 0.07142857142857142, 0.058823529411764705, 0.0, 0.3333333333333333, 0.1, 0.3125, 0.0, 0.15, 0.125, 0.13333333333333333, 0.0, 0.15384615384615385, 0.0, 0.0, 0.06666666666666667, 0.0, 0.07142857142857142, 0.0, 0.2, 0.07142857142857142, 0.2, 0.0, 0.07142857142857142, 0.0, 0.0, 0.22727272727272727, 0.06666666666666667, 0.1875, 0.11764705882352941, 0.0625, 0.07142857142857142, 0.2, 0.0, 0.0, 0.058823529411764705, 0.125, 0.07142857142857142, 0.07142857142857142, 0.07692307692307693, 0.043478260869565216, 0.0, 0.07142857142857142, 0.125, 0.0, 0.0, 0.1111111111111111, 0.2, 0.07142857142857142, 0.0625, 0.07692307692307693, 0.0, 0.0, 0.0, 0.06666666666666667, 0.13333333333333333, 0.0, 0.07142857142857142, 0.0, 0.07142857142857142, 0.05263157894736842, 0.06666666666666667, 0.058823529411764705, 0.24324324324324326, 0.10526315789473684, 0.21739130434782608, 0.2, 0.06666666666666667, 0.0, 0.07692307692307693, 0.06666666666666667, 0.07142857142857142, 0.11764705882352941, 0.0, 0.0, 0.0, 0.07142857142857142, 0.0, 0.0, 0.0, 0.0, 0.13333333333333333, 0.0, 0.07142857142857142, 0.0, 0.0, 0.0, 0.11764705882352941, 0.07142857142857142, 0.11764705882352941], 'Manufacturing Customer Service Representative': [0.09523809523809523, 0.0, 0.0, 0.0, 0.08333333333333333, 0.1111111111111111, 0.05555555555555555, 0.17391304347826086, 0.1111111111111111, 0.17857142857142858, 0.0, 0.26666666666666666, 0.1, 0.125, 0.1, 0.09090909090909091, 0.25, 0.0, 0.18181818181818182, 0.0, 0.0, 0.1111111111111111, 0.1111111111111111, 0.0, 0.06451612903225806, 0.2, 0.23529411764705882, 1.0, 0.18181818181818182, 0.18181818181818182, 0.0, 0.15384615384615385, 0.0, 0.17647058823529413, 0.11764705882352941, 0.19047619047619047, 0.0, 0.07142857142857142, 0.15384615384615385, 0.11764705882352941, 0.2, 0.0, 0.0, 0.0, 0.0, 0.0, 0.1111111111111111, 0.0, 0.21428571428571427, 0.0, 0.06666666666666667, 0.16666666666666666, 0.0, 0.13793103448275862, 0.0, 0.2, 0.07142857142857142, 0.0, 0.05555555555555555, 0.0, 0.0, 0.08333333333333333, 0.0, 0.0, 0.14285714285714285, 0.0, 0.09090909090909091, 0.1111111111111111, 0.0, 0.0, 0.0, 0.0, 0.0, 0.2, 0.0, 0.0, 0.08333333333333333, 0.07142857142857142, 0.0, 0.0, 0.18181818181818182, 0.16666666666666666, 0.06666666666666667, 0.09090909090909091, 0.23076923076923078, 0.0, 0.08333333333333333, 0.1, 0.0, 0.1111111111111111, 0.0, 0.0, 0.0, 0.0, 0.0, 0.0, 0.0, 0.125, 0.2, 1.0, 0.5, 0.1, 0.0, 0.18181818181818182, 0.0, 0.0, 0.05, 0.1, 0.05555555555555555, 0.08333333333333333, 0.1111111111111111, 0.0, 0.11764705882352941, 0.09523809523809523, 0.0625, 0.1111111111111111, 0.0, 0.07692307692307693, 0.0, 0.2, 0.0, 0.2222222222222222, 0.18181818181818182, 0.0, 0.1, 0.0, 0.0, 0.2727272727272727, 0.0, 0.07692307692307693, 0.058823529411764705, 0.0, 0.0, 0.0, 0.0, 0.0, 0.21052631578947367, 0.21428571428571427, 0.23076923076923078, 0.08333333333333333, 0.058823529411764705, 0.0, 0.0, 0.0, 0.0, 0.0, 0.0, 0.0, 0.0, 0.0, 0.1, 0.0, 0.0, 0.0, 0.0, 0.0, 0.0, 0.0, 0.15789473684210525, 0.0, 0.2727272727272727, 0.07692307692307693, 0.09090909090909091, 0.0, 0.11764705882352941, 0.0, 0.0, 0.18181818181818182, 0.08333333333333333, 0.1111111111111111, 0.0, 0.0, 0.05555555555555555, 0.0, 0.0, 0.08333333333333333, 0.0, 0.0, 0.0, 0.0, 0.1111111111111111, 0.09090909090909091, 0.0, 0.0, 0.0, 0.0, 0.0, 0.09090909090909091, 0.0, 0.0, 0.1111111111111111, 0.0, 0.07142857142857142, 0.0, 0.0, 0.17142857142857143, 0.23076923076923078, 0.15, 0.0, 0.0, 0.0, 0.0, 0.1, 0.0, 0.07692307692307693, 0.0, 0.0, 0.1, 0.0, 0.0, 0.0, 0.0, 0.0, 0.0, 0.0, 0.0, 0.0, 0.0, 0.0, 0.07692307692307693, 0.1111111111111111, 0.07692307692307693], 'Laboratory Sales Consultant': [0.0, 0.14285714285714285, 0.0, 0.0, 0.25, 0.125, 0.14285714285714285, 0.09090909090909091, 0.16666666666666666, 0.07142857142857142, 0.0, 0.06666666666666667, 0.3333333333333333, 0.2, 0.14285714285714285, 0.0, 0.16666666666666666, 0.0, 0.1111111111111111, 0.0, 0.14285714285714285, 0.16666666666666666, 0.4, 0.0, 0.1111111111111111, 0.07142857142857142, 0.058823529411764705, 0.18181818181818182, 1.0, 1.0, 0.0, 0.2, 0.0, 0.21428571428571427, 0.23076923076923078, 0.1, 0.0, 0.2, 0.09090909090909091, 0.23076923076923078, 0.0, 0.0, 0.0, 0.0, 0.0, 0.0, 0.4, 0.07142857142857142, 0.07692307692307693, 0.0, 0.08333333333333333, 0.8333333333333334, 0.07142857142857142, 0.1111111111111111, 0.0, 0.25, 0.2, 0.2, 0.14285714285714285, 0.14285714285714285, 0.16666666666666666, 0.0, 0.0, 0.06666666666666667, 0.08333333333333333, 0.0, 0.125, 0.0, 0.2, 0.0, 0.0, 0.0, 0.0, 0.10526315789473684, 0.0, 0.0, 0.0, 0.0, 0.058823529411764705, 0.0, 0.1111111111111111, 0.8333333333333334, 0.0, 0.2857142857142857, 0.18181818181818182, 0.0, 0.1111111111111111, 0.05555555555555555, 0.0, 0.4, 0.0, 0.125, 0.125, 0.0, 0.047619047619047616, 0.0, 0.0, 0.2, 0.5, 0.18181818181818182, 0.125, 0.0, 0.0, 1.0, 0.0, 0.0, 0.125, 0.14285714285714285, 0.14285714285714285, 0.1111111111111111, 0.16666666666666666, 0.0, 0.23076923076923078, 0.05263157894736842, 0.16666666666666666, 0.16666666666666666, 0.0, 0.2222222222222222, 0.0, 0.25, 0.0, 0.05555555555555555, 1.0, 0.0, 0.0, 0.0, 0.0, 0.1, 0.09090909090909091, 0.2222222222222222, 0.07142857142857142, 0.0, 0.2, 0.0, 0.0, 0.16666666666666666, 0.05263157894736842, 0.16666666666666666, 0.08333333333333333, 0.25, 0.07142857142857142, 0.0, 0.0, 0.14285714285714285, 0.0, 0.14285714285714285, 0.0, 0.14285714285714285, 0.0, 0.0, 0.3333333333333333, 0.0, 0.0, 0.1111111111111111, 0.0, 0.0, 0.0, 0.0, 0.1875, 0.0, 0.0, 0.2222222222222222, 0.2857142857142857, 0.0, 0.23076923076923078, 0.14285714285714285, 0.0, 1.0, 0.1111111111111111, 0.16666666666666666, 0.0, 0.0, 0.14285714285714285, 0.0, 0.0, 0.0, 0.0, 0.14285714285714285, 0.09090909090909091, 0.047619047619047616, 0.4, 0.2857142857142857, 0.0, 0.14285714285714285, 0.0, 0.0, 0.0, 0.125, 0.0, 0.0, 0.4, 0.0, 0.09090909090909091, 0.0, 0.0, 0.05555555555555555, 0.18181818181818182, 0.17647058823529413, 0.047619047619047616, 0.0, 0.0, 0.0, 0.14285714285714285, 0.0, 0.2222222222222222, 0.14285714285714285, 0.16666666666666666, 0.3333333333333333, 0.0, 0.0, 0.0, 0.0, 0.14285714285714285, 0.0, 0.0, 0.0, 0.0, 0.16666666666666666, 0.14285714285714285, 0.2222222222222222, 0.4, 0.2222222222222222], 'Quality Assurance Manager': [0.0, 0.14285714285714285, 0.0, 0.0, 0.25, 0.125, 0.14285714285714285, 0.09090909090909091, 0.16666666666666666, 0.07142857142857142, 0.0, 0.06666666666666667, 0.3333333333333333, 0.2, 0.14285714285714285, 0.0, 0.16666666666666666, 0.0, 0.1111111111111111, 0.0, 0.14285714285714285, 0.16666666666666666, 0.4, 0.0, 0.1111111111111111, 0.07142857142857142, 0.058823529411764705, 0.18181818181818182, 1.0, 1.0, 0.0, 0.2, 0.0, 0.21428571428571427, 0.23076923076923078, 0.1, 0.0, 0.2, 0.09090909090909091, 0.23076923076923078, 0.0, 0.0, 0.0, 0.0, 0.0, 0.0, 0.4, 0.07142857142857142, 0.07692307692307693, 0.0, 0.08333333333333333, 0.8333333333333334, 0.07142857142857142, 0.1111111111111111, 0.0, 0.25, 0.2, 0.2, 0.14285714285714285, 0.14285714285714285, 0.16666666666666666, 0.0, 0.0, 0.06666666666666667, 0.08333333333333333, 0.0, 0.125, 0.0, 0.2, 0.0, 0.0, 0.0, 0.0, 0.10526315789473684, 0.0, 0.0, 0.0, 0.0, 0.058823529411764705, 0.0, 0.1111111111111111, 0.8333333333333334, 0.0, 0.2857142857142857, 0.18181818181818182, 0.0, 0.1111111111111111, 0.05555555555555555, 0.0, 0.4, 0.0, 0.125, 0.125, 0.0, 0.047619047619047616, 0.0, 0.0, 0.2, 0.5, 0.18181818181818182, 0.125, 0.0, 0.0, 1.0, 0.0, 0.0, 0.125, 0.14285714285714285, 0.14285714285714285, 0.1111111111111111, 0.16666666666666666, 0.0, 0.23076923076923078, 0.05263157894736842, 0.16666666666666666, 0.16666666666666666, 0.0, 0.2222222222222222, 0.0, 0.25, 0.0, 0.05555555555555555, 1.0, 0.0, 0.0, 0.0, 0.0, 0.1, 0.09090909090909091, 0.2222222222222222, 0.07142857142857142, 0.0, 0.2, 0.0, 0.0, 0.16666666666666666, 0.05263157894736842, 0.16666666666666666, 0.08333333333333333, 0.25, 0.07142857142857142, 0.0, 0.0, 0.14285714285714285, 0.0, 0.14285714285714285, 0.0, 0.14285714285714285, 0.0, 0.0, 0.3333333333333333, 0.0, 0.0, 0.1111111111111111, 0.0, 0.0, 0.0, 0.0, 0.1875, 0.0, 0.0, 0.2222222222222222, 0.2857142857142857, 0.0, 0.23076923076923078, 0.14285714285714285, 0.0, 1.0, 0.1111111111111111, 0.16666666666666666, 0.0, 0.0, 0.14285714285714285, 0.0, 0.0, 0.0, 0.0, 0.14285714285714285, 0.09090909090909091, 0.047619047619047616, 0.4, 0.2857142857142857, 0.0, 0.14285714285714285, 0.0, 0.0, 0.0, 0.125, 0.0, 0.0, 0.4, 0.0, 0.09090909090909091, 0.0, 0.0, 0.05555555555555555, 0.18181818181818182, 0.17647058823529413, 0.047619047619047616, 0.0, 0.0, 0.0, 0.14285714285714285, 0.0, 0.2222222222222222, 0.14285714285714285, 0.16666666666666666, 0.3333333333333333, 0.0, 0.0, 0.0, 0.0, 0.14285714285714285, 0.0, 0.0, 0.0, 0.0, 0.16666666666666666, 0.14285714285714285, 0.2222222222222222, 0.4, 0.2222222222222222], 'Customer Service Agent': [0.0, 0.0, 0.0, 0.0, 0.0, 0.045454545454545456, 0.09090909090909091, 0.0, 0.0, 0.0, 0.0, 0.0, 0.0, 0.0, 0.0, 0.0, 0.0, 0.5, 0.0, 0.0, 0.0, 0.0, 0.0, 0.0, 0.04, 0.1, 0.0, 0.0, 0.0, 0.0, 1.0, 0.0, 0.0, 0.08333333333333333, 0.0, 0.0, 0.0, 0.0, 0.0, 0.0, 0.0, 0.0, 0.0, 0.0, 0.0, 0.0, 0.0, 0.0, 0.0, 0.0, 0.0, 0.16666666666666666, 0.0, 0.0, 0.2, 0.1, 0.0, 0.0, 0.09090909090909091, 0.3333333333333333, 0.0, 0.0, 0.5, 0.09090909090909091, 0.125, 1.0, 0.25, 0.0, 0.0, 0.0, 0.0, 0.0, 0.0, 0.0625, 0.5, 0.0, 0.0, 0.0, 0.0, 0.0, 0.2, 0.0, 0.0, 0.0, 0.0, 0.0, 0.0, 0.07142857142857142, 1.0, 0.0, 0.0, 0.25, 0.25, 0.0, 0.058823529411764705, 0.0, 0.5, 0.0, 0.0, 0.0, 0.0, 0.0, 0.0, 0.0, 0.0, 0.125, 0.07692307692307693, 0.0, 0.0, 0.0, 0.5, 0.0, 0.0, 0.0, 0.1111111111111111, 0.0, 0.0, 0.0, 0.0, 0.0, 1.0, 0.0, 0.0, 0.5, 0.0, 0.0, 0.0, 0.0, 0.14285714285714285, 0.0, 0.0, 0.0, 0.0, 0.0, 0.2, 0.0, 0.0, 0.0, 0.0, 0.0, 0.1, 0.2, 0.0, 0.3333333333333333, 0.0, 0.3333333333333333, 0.0, 0.0, 0.0, 0.5, 0.0, 0.2, 0.5, 0.0, 0.0, 0.0, 0.0, 0.0, 0.0, 0.3333333333333333, 0.0, 0.0, 0.0, 0.5, 0.0, 0.3333333333333333, 0.0, 0.0, 0.0, 0.0, 0.5, 0.0, 0.09090909090909091, 1.0, 0.0, 0.0, 0.3333333333333333, 0.3333333333333333, 0.14285714285714285, 0.058823529411764705, 0.0, 0.0, 0.0, 0.3333333333333333, 0.0, 0.0, 0.0, 0.25, 0.0, 0.0, 0.0, 0.0, 0.14285714285714285, 0.0, 0.2, 0.030303030303030304, 0.0, 0.0, 0.058823529411764705, 0.0, 1.0, 0.0, 0.0, 0.0, 0.0, 0.3333333333333333, 0.0, 0.0, 0.5, 1.0, 1.0, 0.0, 0.3333333333333333, 0.0, 0.0, 0.0, 1.0, 0.0, 0.3333333333333333, 0.0, 0.0, 0.0], 'Night Auditor': [0.047619047619047616, 0.25, 0.125, 0.0, 0.2, 0.07407407407407407, 0.058823529411764705, 0.08333333333333333, 0.2857142857142857, 0.0, 0.125, 0.0, 0.1111111111111111, 0.0, 0.0, 0.2222222222222222, 0.125, 0.125, 0.09090909090909091, 0.0, 0.25, 0.2857142857142857, 0.125, 0.0, 0.06666666666666667, 0.13333333333333333, 0.1111111111111111, 0.15384615384615385, 0.2, 0.2, 0.0, 1.0, 0.0, 0.11764705882352941, 0.2857142857142857, 0.09090909090909091, 0.0, 0.2727272727272727, 0.0, 0.2857142857142857, 0.0, 0.1111111111111111, 0.1111111111111111, 0.0, 0.1111111111111111, 0.125, 0.125, 0.0, 0.14285714285714285, 0.125, 0.0, 0.18181818181818182, 0.0, 0.14285714285714285, 0.09090909090909091, 0.0625, 0.2727272727272727, 0.0, 0.058823529411764705, 0.1111111111111111, 0.125, 0.0, 0.125, 0.058823529411764705, 0.15384615384615385, 0.0, 0.1, 0.125, 0.0, 0.14285714285714285, 0.14285714285714285, 0.2857142857142857, 0.1111111111111111, 0.2777777777777778, 0.0, 0.0, 0.0, 0.07692307692307693, 0.05263157894736842, 0.125, 0.0, 0.3, 0.0, 0.375, 0.15384615384615385, 0.047619047619047616, 0.09090909090909091, 0.0, 0.0, 0.125, 0.0, 0.1, 0.2222222222222222, 0.0, 0.14285714285714285, 0.14285714285714285, 0.125, 0.0, 0.2222222222222222, 0.15384615384615385, 0.1, 0.42857142857142855, 0.25, 0.2, 0.0, 0.07142857142857142, 0.42857142857142855, 0.42857142857142855, 0.058823529411764705, 0.09090909090909091, 0.0, 0.125, 0.2857142857142857, 0.047619047619047616, 0.06666666666666667, 0.2857142857142857, 0.14285714285714285, 0.8571428571428571, 0.14285714285714285, 0.0625, 0.0, 0.05, 0.2, 0.0, 0.42857142857142855, 0.0, 0.2222222222222222, 0.0, 0.2727272727272727, 0.8571428571428571, 0.21428571428571427, 0.125, 0.0, 0.125, 0.09090909090909091, 0.0, 0.15789473684210525, 0.06666666666666667, 0.15384615384615385, 0.09090909090909091, 0.0625, 0.2, 0.375, 0.1111111111111111, 0.2857142857142857, 0.1111111111111111, 0.0, 0.25, 0.0, 0.125, 0.25, 0.2, 0.125, 0.3333333333333333, 0.125, 0.125, 0.0, 0.0, 0.05, 0.0, 0.0, 0.8571428571428571, 0.375, 0.0, 0.2857142857142857, 0.1111111111111111, 0.14285714285714285, 0.2, 0.09090909090909091, 0.2857142857142857, 0.125, 0.14285714285714285, 0.2857142857142857, 0.0, 0.2857142857142857, 0.2, 0.0, 0.1111111111111111, 0.2727272727272727, 0.14285714285714285, 0.0, 0.375, 0.14285714285714285, 0.0, 0.0, 0.0, 0.25, 0.1, 0.0, 0.125, 0.125, 0.125, 0.4, 0.25, 0.09090909090909091, 0.05263157894736842, 0.0, 0.047619047619047616, 0.14285714285714285, 0.1111111111111111, 0.0, 0.14285714285714285, 0.42857142857142855, 0.125, 0.8571428571428571, 0.1111111111111111, 0.0, 0.25, 0.125, 0.0, 0.0, 0.14285714285714285, 0.1111111111111111, 0.2222222222222222, 0.0, 0.125, 0.0, 0.0, 0.1111111111111111, 0.8571428571428571, 0.0, 0.8571428571428571], 'Process Control Engineer': [0.0, 0.0, 0.0, 0.0, 0.0, 0.045454545454545456, 0.0, 0.05263157894736842, 0.0, 0.04, 0.0, 0.0, 0.0, 0.0, 0.0, 0.0, 0.0, 0.0, 0.0, 0.1111111111111111, 0.0, 0.0, 0.0, 0.14285714285714285, 0.0, 0.0, 0.0, 0.0, 0.0, 0.0, 0.0, 0.0, 1.0, 0.08333333333333333, 0.09090909090909091, 0.058823529411764705, 0.14285714285714285, 0.0, 0.14285714285714285, 0.09090909090909091, 0.0, 0.0, 0.0, 0.5, 0.3333333333333333, 0.5, 0.0, 0.0, 0.0, 0.5, 0.0, 0.0, 0.0, 0.04, 0.0, 0.1, 0.0, 0.0, 0.0, 0.0, 0.0, 0.2, 0.0, 0.0, 0.125, 0.0, 0.0, 0.0, 0.0, 0.0, 0.0, 0.0, 0.3333333333333333, 0.0, 0.0, 0.14285714285714285, 0.0, 0.0, 0.0, 0.0, 0.0, 0.0, 0.0, 0.0, 0.0, 0.0, 0.0, 0.07142857142857142, 0.0, 0.0, 1.0, 0.0, 0.0, 0.0, 0.058823529411764705, 0.0, 0.0, 0.0, 0.0, 0.0, 0.0, 0.0, 0.3333333333333333, 0.0, 0.0, 0.125, 0.07692307692307693, 0.0, 0.0, 0.2, 0.0, 0.5, 0.09090909090909091, 0.0, 0.1111111111111111, 0.0, 0.0, 0.0, 0.0, 0.0, 0.0, 0.0, 0.0, 0.0, 0.0, 0.0, 0.0, 0.0, 0.14285714285714285, 0.0, 0.1, 0.5, 0.0, 0.0, 0.2, 0.0, 0.0, 0.1111111111111111, 0.0, 0.2, 0.1, 0.2, 0.25, 0.0, 0.0, 0.0, 0.0, 0.0, 0.0, 0.0, 0.0, 0.0, 0.0, 0.0, 0.0, 0.0, 0.0, 1.0, 0.0, 0.0, 0.0, 0.0, 0.0, 0.0, 0.09090909090909091, 0.0, 0.0, 0.0, 0.2, 0.0, 0.0, 0.0, 0.0, 0.0, 0.0, 0.2, 0.0, 0.0, 0.0, 0.058823529411764705, 0.0, 0.0, 0.0, 0.0, 0.0, 0.0, 0.3333333333333333, 0.0, 1.0, 0.0, 0.0, 0.0, 0.0, 0.3333333333333333, 0.2, 0.0, 0.0, 0.06666666666666667, 0.058823529411764705, 0.3333333333333333, 0.0, 0.0, 0.0, 0.5, 0.0, 0.0, 0.0, 0.0, 0.0, 0.0, 0.0, 0.0, 0.0, 0.0, 1.0, 0.0, 0.0, 0.0, 0.0, 0.0, 0.0, 0.0], 'Business Intelligence Developer': [0.038461538461538464, 0.15384615384615385, 0.07692307692307693, 0.0, 0.13333333333333333, 0.21428571428571427, 0.15, 0.19230769230769232, 0.16666666666666666, 0.12121212121212122, 0.0, 0.09523809523809523, 0.15384615384615385, 0.08333333333333333, 0.07142857142857142, 0.06666666666666667, 0.07692307692307693, 0.07692307692307693, 0.21428571428571427, 0.05, 0.15384615384615385, 0.07692307692307693, 0.07692307692307693, 0.05555555555555555, 0.27586206896551724, 0.29411764705882354, 0.3157894736842105, 0.17647058823529413, 0.21428571428571427, 0.21428571428571427, 0.08333333333333333, 0.11764705882352941, 0.08333333333333333, 1.0, 0.35294117647058826, 0.3181818181818182, 0.05555555555555555, 0.11764705882352941, 0.35714285714285715, 0.35294117647058826, 0.14285714285714285, 0.07142857142857142, 0.07142857142857142, 0.16666666666666666, 0.07142857142857142, 0.07692307692307693, 0.07692307692307693, 0.0, 0.23529411764705882, 0.16666666666666666, 0.05263157894736842, 0.2857142857142857, 0.0, 0.23333333333333334, 0.0625, 0.8333333333333334, 0.11764705882352941, 0.0, 0.15, 0.15384615384615385, 0.0, 0.13333333333333333, 0.16666666666666666, 0.045454545454545456, 0.3333333333333333, 0.08333333333333333, 0.23076923076923078, 0.07692307692307693, 0.0, 0.0, 0.08333333333333333, 0.07692307692307693, 0.07142857142857142, 0.21739130434782608, 0.07692307692307693, 0.05555555555555555, 0.0625, 0.05555555555555555, 0.08695652173913043, 0.0, 0.3076923076923077, 0.2857142857142857, 0.05263157894736842, 0.14285714285714285, 0.1111111111111111, 0.0, 0.0625, 0.18181818181818182, 0.08333333333333333, 0.07692307692307693, 0.08333333333333333, 0.14285714285714285, 0.23076923076923078, 0.0, 0.16, 0.08333333333333333, 0.16666666666666666, 0.08333333333333333, 0.14285714285714285, 0.17647058823529413, 0.14285714285714285, 0.07142857142857142, 0.15384615384615385, 0.21428571428571427, 0.0, 0.1111111111111111, 0.19047619047619047, 0.07142857142857142, 0.045454545454545456, 0.21428571428571427, 0.16666666666666666, 0.16666666666666666, 0.35294117647058826, 0.08, 0.23529411764705882, 0.16666666666666666, 0.0, 0.125, 0.08333333333333333, 0.2222222222222222, 0.08333333333333333, 0.23809523809523808, 0.21428571428571427, 0.07692307692307693, 0.07142857142857142, 0.0, 0.0, 0.2, 0.35714285714285715, 0.125, 0.15789473684210525, 0.07692307692307693, 0.0, 0.0, 0.21428571428571427, 0.07692307692307693, 0.2857142857142857, 0.16666666666666666, 0.25, 0.21428571428571427, 0.29411764705882354, 0.3076923076923077, 0.14285714285714285, 0.15384615384615385, 0.07692307692307693, 0.15384615384615385, 0.0, 0.15384615384615385, 0.0, 0.16666666666666666, 0.15384615384615385, 0.13333333333333333, 0.16666666666666666, 0.21428571428571427, 0.0, 0.07692307692307693, 0.0, 0.08333333333333333, 0.13043478260869565, 0.07142857142857142, 0.125, 0.125, 0.14285714285714285, 0.07692307692307693, 0.35294117647058826, 0.15384615384615385, 0.0, 0.21428571428571427, 0.21428571428571427, 0.16666666666666666, 0.16666666666666666, 0.08333333333333333, 0.15, 0.08333333333333333, 0.07692307692307693, 0.21428571428571427, 0.07142857142857142, 0.15384615384615385, 0.1875, 0.16, 0.07692307692307693, 0.14285714285714285, 0.08333333333333333, 0.15384615384615385, 0.0, 0.0, 0.15384615384615385, 0.23076923076923078, 0.08333333333333333, 0.0, 0.07692307692307693, 0.07692307692307693, 0.1875, 0.15384615384615385, 0.21428571428571427, 0.21621621621621623, 0.1111111111111111, 0.22727272727272727, 0.16, 0.15384615384615385, 0.08333333333333333, 0.08333333333333333, 0.07142857142857142, 0.16666666666666666, 0.125, 0.15384615384615385, 0.07692307692307693, 0.15384615384615385, 0.16666666666666666, 0.08333333333333333, 0.08333333333333333, 0.0, 0.15384615384615385, 0.06666666666666667, 0.08333333333333333, 0.0, 0.08333333333333333, 0.07692307692307693, 0.15384615384615385, 0.125, 0.07692307692307693, 0.125], 'Concrete Finisher': [0.04, 0.16666666666666666, 0.18181818181818182, 0.09090909090909091, 0.23076923076923078, 0.1, 0.2222222222222222, 0.25, 0.18181818181818182, 0.16129032258064516, 0.08333333333333333, 0.047619047619047616, 0.2727272727272727, 0.09090909090909091, 0.07692307692307693, 0.15384615384615385, 0.08333333333333333, 0.08333333333333333, 0.23076923076923078, 0.1111111111111111, 0.16666666666666666, 0.18181818181818182, 0.18181818181818182, 0.125, 0.16129032258064516, 0.10526315789473684, 0.2, 0.11764705882352941, 0.23076923076923078, 0.23076923076923078, 0.0, 0.2857142857142857, 0.09090909090909091, 0.35294117647058826, 1.0, 0.16666666666666666, 0.125, 0.38461538461538464, 0.2, 1.0, 0.07142857142857142, 0.07692307692307693, 0.07692307692307693, 0.18181818181818182, 0.16666666666666666, 0.18181818181818182, 0.18181818181818182, 0.10526315789473684, 0.1111111111111111, 0.18181818181818182, 0.05555555555555555, 0.21428571428571427, 0.10526315789473684, 0.44, 0.06666666666666667, 0.23529411764705882, 0.38461538461538464, 0.09090909090909091, 0.2222222222222222, 0.16666666666666666, 0.08333333333333333, 0.06666666666666667, 0.08333333333333333, 0.047619047619047616, 0.26666666666666666, 0.0, 0.15384615384615385, 0.08333333333333333, 0.09090909090909091, 0.09090909090909091, 0.09090909090909091, 0.18181818181818182, 0.07692307692307693, 0.2857142857142857, 0.0, 0.125, 0.0, 0.058823529411764705, 0.14285714285714285, 0.08333333333333333, 0.06666666666666667, 0.3076923076923077, 0.0, 0.36363636363636365, 0.26666666666666666, 0.04, 0.06666666666666667, 0.13636363636363635, 0.0, 0.18181818181818182, 0.09090909090909091, 0.07142857142857142, 0.07142857142857142, 0.09090909090909091, 0.3333333333333333, 0.09090909090909091, 0.08333333333333333, 0.09090909090909091, 0.36363636363636365, 0.11764705882352941, 0.07142857142857142, 0.16666666666666666, 0.2727272727272727, 0.23076923076923078, 0.0, 0.05555555555555555, 0.2631578947368421, 0.2727272727272727, 0.15789473684210525, 0.3333333333333333, 0.08333333333333333, 0.18181818181818182, 1.0, 0.08333333333333333, 0.25, 0.18181818181818182, 0.0, 0.3076923076923077, 0.09090909090909091, 0.10526315789473684, 0.0, 0.13636363636363635, 0.23076923076923078, 0.0, 0.16666666666666666, 0.0, 0.07142857142857142, 0.13333333333333333, 0.2, 0.3076923076923077, 0.23529411764705882, 0.08333333333333333, 0.09090909090909091, 0.0, 0.23076923076923078, 0.18181818181818182, 0.18181818181818182, 0.1111111111111111, 0.26666666666666666, 0.14285714285714285, 0.3125, 0.23076923076923078, 0.36363636363636365, 0.0, 0.18181818181818182, 0.0, 0.09090909090909091, 0.16666666666666666, 0.0, 0.08333333333333333, 0.16666666666666666, 0.14285714285714285, 0.08333333333333333, 0.23076923076923078, 0.08333333333333333, 0.08333333333333333, 0.0, 0.09090909090909091, 0.13636363636363635, 0.0, 0.0625, 0.3076923076923077, 0.36363636363636365, 0.0, 1.0, 0.0, 0.09090909090909091, 0.23076923076923078, 0.3333333333333333, 0.18181818181818182, 0.08333333333333333, 0.09090909090909091, 0.2222222222222222, 0.0, 0.08333333333333333, 0.14285714285714285, 0.0, 0.0, 0.2, 0.3333333333333333, 0.18181818181818182, 0.36363636363636365, 0.09090909090909091, 0.0, 0.0, 0.0, 0.2727272727272727, 0.15384615384615385, 0.09090909090909091, 0.0, 0.18181818181818182, 0.08333333333333333, 0.2, 0.2727272727272727, 0.23076923076923078, 0.15789473684210525, 0.05555555555555555, 0.23809523809523808, 0.3333333333333333, 0.16666666666666666, 0.0, 0.09090909090909091, 0.2727272727272727, 0.18181818181818182, 0.3076923076923077, 0.0, 0.0, 0.16666666666666666, 0.08333333333333333, 0.0, 0.0, 0.09090909090909091, 0.0, 0.07142857142857142, 0.09090909090909091, 0.0, 0.0, 0.18181818181818182, 0.0, 0.3076923076923077, 0.18181818181818182, 0.3076923076923077], 'Solid Waste Field Technician': [0.14285714285714285, 0.05263157894736842, 0.05555555555555555, 0.0, 0.1, 0.18181818181818182, 0.12, 0.2, 0.05555555555555555, 0.2, 0.0, 0.2727272727272727, 0.1111111111111111, 0.058823529411764705, 0.05263157894736842, 0.10526315789473684, 0.05555555555555555, 0.0, 0.15789473684210525, 0.08333333333333333, 0.05263157894736842, 0.0, 0.0, 0.043478260869565216, 0.2, 0.2857142857142857, 0.42857142857142855, 0.19047619047619047, 0.1, 0.1, 0.0, 0.09090909090909091, 0.058823529411764705, 0.3181818181818182, 0.16666666666666666, 1.0, 0.043478260869565216, 0.09090909090909091, 0.2631578947368421, 0.16666666666666666, 0.05, 0.1111111111111111, 0.0, 0.05555555555555555, 0.1111111111111111, 0.05555555555555555, 0.0, 0.038461538461538464, 0.3, 0.11764705882352941, 0.08695652173913043, 0.09523809523809523, 0.038461538461538464, 0.23529411764705882, 0.047619047619047616, 0.2857142857142857, 0.09090909090909091, 0.0, 0.12, 0.05263157894736842, 0.0, 0.1, 0.05555555555555555, 0.0, 0.19047619047619047, 0.0, 0.10526315789473684, 0.11764705882352941, 0.0, 0.0, 0.058823529411764705, 0.05555555555555555, 0.05263157894736842, 0.1, 0.0, 0.043478260869565216, 0.1, 0.14285714285714285, 0.15384615384615385, 0.0, 0.15789473684210525, 0.15, 0.08695652173913043, 0.05, 0.08695652173913043, 0.10344827586206896, 0.0, 0.19230769230769232, 0.0, 0.0, 0.058823529411764705, 0.0, 0.05, 0.0, 0.0967741935483871, 0.058823529411764705, 0.05555555555555555, 0.058823529411764705, 0.05, 0.19047619047619047, 0.16666666666666666, 0.05263157894736842, 0.1111111111111111, 0.1, 0.0, 0.041666666666666664, 0.1111111111111111, 0.0, 0.07692307692307693, 0.15789473684210525, 0.05555555555555555, 0.11764705882352941, 0.16666666666666666, 0.10344827586206896, 0.13043478260869565, 0.05555555555555555, 0.0, 0.09523809523809523, 0.058823529411764705, 0.125, 0.0, 0.24, 0.1, 0.0, 0.05263157894736842, 0.058823529411764705, 0.05, 0.21052631578947367, 0.2, 0.09523809523809523, 0.125, 0.05555555555555555, 0.0, 0.05555555555555555, 0.15789473684210525, 0.0, 0.28, 0.08333333333333333, 0.25, 0.047619047619047616, 0.17391304347826086, 0.15789473684210525, 0.10526315789473684, 0.0, 0.05555555555555555, 0.0, 0.0, 0.05263157894736842, 0.0, 0.05555555555555555, 0.0, 0.1, 0.05555555555555555, 0.2222222222222222, 0.0, 0.05555555555555555, 0.0, 0.058823529411764705, 0.10714285714285714, 0.05263157894736842, 0.21052631578947367, 0.09523809523809523, 0.05, 0.05555555555555555, 0.16666666666666666, 0.0, 0.0, 0.1, 0.15789473684210525, 0.05555555555555555, 0.05555555555555555, 0.058823529411764705, 0.037037037037037035, 0.0, 0.05555555555555555, 0.15789473684210525, 0.0, 0.0, 0.09090909090909091, 0.0967741935483871, 0.05555555555555555, 0.05, 0.058823529411764705, 0.0, 0.0, 0.0, 0.1111111111111111, 0.10526315789473684, 0.058823529411764705, 0.05555555555555555, 0.0, 0.05555555555555555, 0.043478260869565216, 0.1111111111111111, 0.15789473684210525, 0.19047619047619047, 0.08695652173913043, 0.23076923076923078, 0.0967741935483871, 0.1111111111111111, 0.0, 0.058823529411764705, 0.0, 0.11764705882352941, 0.09523809523809523, 0.0, 0.0, 0.0, 0.05555555555555555, 0.0, 0.0, 0.0, 0.0, 0.10526315789473684, 0.058823529411764705, 0.05555555555555555, 0.0, 0.0, 0.0, 0.09523809523809523, 0.05555555555555555, 0.09523809523809523], 'Healthcare Consultant': [0.0, 0.0, 0.125, 0.14285714285714285, 0.0, 0.11538461538461539, 0.125, 0.08333333333333333, 0.0, 0.10344827586206896, 0.0, 0.0, 0.0, 0.0, 0.0, 0.1, 0.0, 0.0, 0.0, 0.7777777777777778, 0.0, 0.0, 0.0, 1.0, 0.0, 0.0625, 0.0, 0.0, 0.0, 0.0, 0.0, 0.0, 0.14285714285714285, 0.05555555555555555, 0.125, 0.043478260869565216, 1.0, 0.07692307692307693, 0.07692307692307693, 0.125, 0.0, 0.1111111111111111, 0.0, 0.125, 0.1111111111111111, 0.125, 0.0, 0.13333333333333333, 0.06666666666666667, 0.125, 0.0, 0.0, 0.13333333333333333, 0.06666666666666667, 0.0, 0.0625, 0.07692307692307693, 0.0, 0.125, 0.0, 0.0, 0.09090909090909091, 0.0, 0.0, 0.07142857142857142, 0.0, 0.0, 0.0, 0.0, 0.0, 0.0, 0.0, 0.1111111111111111, 0.09523809523809523, 0.0, 1.0, 0.0, 0.0, 0.0, 0.0, 0.0, 0.0, 0.0, 0.0, 0.07142857142857142, 0.0, 0.0, 0.05, 0.0, 0.0, 0.14285714285714285, 0.0, 0.0, 0.14285714285714285, 0.09090909090909091, 0.0, 0.0, 0.0, 0.0, 0.0, 0.0, 0.0, 0.1111111111111111, 0.0, 0.0, 0.15384615384615385, 0.1111111111111111, 0.0, 0.0, 0.2, 0.0, 0.125, 0.125, 0.0, 0.06666666666666667, 0.0, 0.0, 0.0, 0.0, 0.0, 0.0, 0.0, 0.0, 0.0, 0.0, 0.0, 0.1, 0.0, 0.07692307692307693, 0.0, 0.0625, 0.125, 0.0, 0.0, 0.2, 0.0, 0.0, 0.06666666666666667, 0.0, 0.09090909090909091, 0.13333333333333333, 0.09090909090909091, 0.1, 0.0, 0.0, 0.0, 0.14285714285714285, 0.0, 0.0, 0.0, 0.0, 0.0, 0.0, 0.0, 0.125, 0.0, 0.0, 0.14285714285714285, 0.0, 0.0, 0.0, 0.0, 0.0, 0.0, 0.125, 0.0, 0.0, 0.0, 0.2, 0.0, 0.0, 0.0, 0.058823529411764705, 0.0, 0.0, 0.09090909090909091, 0.0, 0.0, 0.0, 0.09090909090909091, 0.0, 0.0, 0.0, 0.0, 0.0, 0.0, 0.1111111111111111, 0.0, 0.14285714285714285, 0.0, 0.0, 0.0, 0.0, 0.1111111111111111, 0.2, 0.02564102564102564, 0.0, 0.047619047619047616, 0.09090909090909091, 0.1111111111111111, 0.0, 0.0, 0.0, 0.125, 0.0, 0.0, 0.125, 0.0, 0.0, 0.0, 0.0, 0.0, 0.0, 0.0, 0.14285714285714285, 0.0, 0.0, 0.0, 0.0, 0.0, 0.0, 0.0], 'Producer Travel Channel': [0.0, 0.25, 0.2857142857142857, 0.14285714285714285, 0.5, 0.07407407407407407, 0.2857142857142857, 0.18181818181818182, 0.125, 0.10344827586206896, 0.0, 0.058823529411764705, 0.42857142857142855, 0.14285714285714285, 0.1111111111111111, 0.2222222222222222, 0.125, 0.125, 0.2, 0.06666666666666667, 0.25, 0.125, 0.125, 0.07692307692307693, 0.10344827586206896, 0.0625, 0.1111111111111111, 0.07142857142857142, 0.2, 0.2, 0.0, 0.2727272727272727, 0.0, 0.11764705882352941, 0.38461538461538464, 0.09090909090909091, 0.07692307692307693, 1.0, 0.07692307692307693, 0.38461538461538464, 0.0, 0.1111111111111111, 0.1111111111111111, 0.0, 0.1111111111111111, 0.0, 0.125, 0.13333333333333333, 0.06666666666666667, 0.125, 0.07142857142857142, 0.18181818181818182, 0.13333333333333333, 0.18518518518518517, 0.09090909090909091, 0.0625, 1.0, 0.14285714285714285, 0.2857142857142857, 0.25, 0.2857142857142857, 0.0, 0.125, 0.125, 0.07142857142857142, 0.0, 0.2222222222222222, 0.125, 0.14285714285714285, 0.14285714285714285, 0.14285714285714285, 0.2857142857142857, 0.1111111111111111, 0.15, 0.0, 0.07692307692307693, 0.0, 0.07692307692307693, 0.1111111111111111, 0.0, 0.09090909090909091, 0.3, 0.0, 0.375, 0.25, 0.047619047619047616, 0.0, 0.05, 0.0, 0.125, 0.0, 0.1, 0.2222222222222222, 0.14285714285714285, 0.2, 0.14285714285714285, 0.125, 0.14285714285714285, 0.375, 0.07142857142857142, 0.1, 0.25, 0.25, 0.2, 0.0, 0.07142857142857142, 0.17647058823529413, 0.1111111111111111, 0.125, 0.3333333333333333, 0.125, 0.125, 0.38461538461538464, 0.1, 0.23076923076923078, 0.125, 0.14285714285714285, 0.3, 0.14285714285714285, 0.0625, 0.0, 0.10526315789473684, 0.2, 0.0, 0.25, 0.0, 0.1, 0.08333333333333333, 0.16666666666666666, 0.3, 0.3076923076923077, 0.125, 0.14285714285714285, 0.125, 0.2, 0.125, 0.047619047619047616, 0.0, 0.07142857142857142, 0.0, 0.21428571428571427, 0.2, 0.2222222222222222, 0.1111111111111111, 0.125, 0.1111111111111111, 0.14285714285714285, 0.25, 0.0, 0.125, 0.1111111111111111, 0.2, 0.125, 0.2, 0.125, 0.125, 0.0, 0.0, 0.10526315789473684, 0.0, 0.0, 0.3, 0.375, 0.0, 0.38461538461538464, 0.1111111111111111, 0.14285714285714285, 0.2, 0.3333333333333333, 0.125, 0.125, 0.14285714285714285, 0.38461538461538464, 0.0, 0.2857142857142857, 0.2, 0.0, 0.1111111111111111, 0.4, 0.2, 0.2857142857142857, 0.375, 0.14285714285714285, 0.0, 0.0, 0.0, 0.25, 0.2222222222222222, 0.0, 0.125, 0.125, 0.125, 0.2727272727272727, 0.25, 0.2, 0.05263157894736842, 0.07142857142857142, 0.1, 0.2, 0.1111111111111111, 0.0, 0.14285714285714285, 0.1111111111111111, 0.125, 0.3, 0.1111111111111111, 0.0, 0.1111111111111111, 0.125, 0.0, 0.0, 0.14285714285714285, 0.1111111111111111, 0.2222222222222222, 0.0, 0.125, 0.0, 0.125, 0.1111111111111111, 0.3, 0.2857142857142857, 0.3], 'Organic Lab Worker': [0.047619047619047616, 0.0, 0.0, 0.0, 0.09090909090909091, 0.11538461538461539, 0.058823529411764705, 0.13043478260869565, 0.0, 0.10344827586206896, 0.0, 0.125, 0.1111111111111111, 0.14285714285714285, 0.1111111111111111, 0.0, 0.125, 0.0, 0.09090909090909091, 0.06666666666666667, 0.0, 0.0, 0.0, 0.07692307692307693, 0.14285714285714285, 0.21428571428571427, 0.25, 0.15384615384615385, 0.09090909090909091, 0.09090909090909091, 0.0, 0.0, 0.14285714285714285, 0.35714285714285715, 0.2, 0.2631578947368421, 0.07692307692307693, 0.07692307692307693, 1.0, 0.2, 0.1, 0.0, 0.0, 0.125, 0.1111111111111111, 0.125, 0.0, 0.0, 0.23076923076923078, 0.125, 0.07142857142857142, 0.08333333333333333, 0.0, 0.14285714285714285, 0.0, 0.4166666666666667, 0.07692307692307693, 0.0, 0.058823529411764705, 0.0, 0.0, 0.2, 0.0, 0.0, 0.07142857142857142, 0.0, 0.1, 0.0, 0.0, 0.0, 0.0, 0.0, 0.1111111111111111, 0.045454545454545456, 0.0, 0.07692307692307693, 0.09090909090909091, 0.0, 0.0, 0.0, 0.2, 0.08333333333333333, 0.07142857142857142, 0.0, 0.07142857142857142, 0.0, 0.0, 0.10526315789473684, 0.0, 0.0, 0.14285714285714285, 0.0, 0.0, 0.0, 0.043478260869565216, 0.0, 0.0, 0.14285714285714285, 0.1, 0.15384615384615385, 0.2222222222222222, 0.0, 0.1111111111111111, 0.09090909090909091, 0.0, 0.07142857142857142, 0.05263157894736842, 0.0, 0.058823529411764705, 0.2, 0.125, 0.125, 0.2, 0.047619047619047616, 0.14285714285714285, 0.0, 0.0, 0.0, 0.0, 0.13333333333333333, 0.0, 0.23529411764705882, 0.09090909090909091, 0.0, 0.0, 0.0, 0.0, 0.3, 0.07692307692307693, 0.0, 0.13333333333333333, 0.125, 0.0, 0.0, 0.09090909090909091, 0.0, 0.1, 0.06666666666666667, 0.15384615384615385, 0.09090909090909091, 0.13333333333333333, 0.09090909090909091, 0.1, 0.0, 0.0, 0.0, 0.0, 0.0, 0.0, 0.0, 0.0, 0.0, 0.0, 0.2, 0.0, 0.0, 0.0, 0.14285714285714285, 0.10526315789473684, 0.0, 0.08333333333333333, 0.0, 0.0, 0.0, 0.2, 0.0, 0.0, 0.09090909090909091, 0.2, 0.0, 0.0, 0.0, 0.0, 0.0, 0.0, 0.2, 0.0, 0.0, 0.0, 0.043478260869565216, 0.125, 0.0, 0.0, 0.0, 0.0, 0.0, 0.1111111111111111, 0.1, 0.14285714285714285, 0.0, 0.0, 0.0, 0.0, 0.1111111111111111, 0.09090909090909091, 0.1111111111111111, 0.07142857142857142, 0.2222222222222222, 0.043478260869565216, 0.1111111111111111, 0.0, 0.0, 0.0, 0.125, 0.0, 0.0, 0.0, 0.0, 0.0, 0.0, 0.0, 0.0, 0.0, 0.0, 0.14285714285714285, 0.0, 0.0, 0.0, 0.0, 0.0, 0.125, 0.0], 'Attorney': [0.04, 0.16666666666666666, 0.18181818181818182, 0.09090909090909091, 0.23076923076923078, 0.1, 0.2222222222222222, 0.25, 0.18181818181818182, 0.16129032258064516, 0.08333333333333333, 0.047619047619047616, 0.2727272727272727, 0.09090909090909091, 0.07692307692307693, 0.15384615384615385, 0.08333333333333333, 0.08333333333333333, 0.23076923076923078, 0.1111111111111111, 0.16666666666666666, 0.18181818181818182, 0.18181818181818182, 0.125, 0.16129032258064516, 0.10526315789473684, 0.2, 0.11764705882352941, 0.23076923076923078, 0.23076923076923078, 0.0, 0.2857142857142857, 0.09090909090909091, 0.35294117647058826, 1.0, 0.16666666666666666, 0.125, 0.38461538461538464, 0.2, 1.0, 0.07142857142857142, 0.07692307692307693, 0.07692307692307693, 0.18181818181818182, 0.16666666666666666, 0.18181818181818182, 0.18181818181818182, 0.10526315789473684, 0.1111111111111111, 0.18181818181818182, 0.05555555555555555, 0.21428571428571427, 0.10526315789473684, 0.44, 0.06666666666666667, 0.23529411764705882, 0.38461538461538464, 0.09090909090909091, 0.2222222222222222, 0.16666666666666666, 0.08333333333333333, 0.06666666666666667, 0.08333333333333333, 0.047619047619047616, 0.26666666666666666, 0.0, 0.15384615384615385, 0.08333333333333333, 0.09090909090909091, 0.09090909090909091, 0.09090909090909091, 0.18181818181818182, 0.07692307692307693, 0.2857142857142857, 0.0, 0.125, 0.0, 0.058823529411764705, 0.14285714285714285, 0.08333333333333333, 0.06666666666666667, 0.3076923076923077, 0.0, 0.36363636363636365, 0.26666666666666666, 0.04, 0.06666666666666667, 0.13636363636363635, 0.0, 0.18181818181818182, 0.09090909090909091, 0.07142857142857142, 0.07142857142857142, 0.09090909090909091, 0.3333333333333333, 0.09090909090909091, 0.08333333333333333, 0.09090909090909091, 0.36363636363636365, 0.11764705882352941, 0.07142857142857142, 0.16666666666666666, 0.2727272727272727, 0.23076923076923078, 0.0, 0.05555555555555555, 0.2631578947368421, 0.2727272727272727, 0.15789473684210525, 0.3333333333333333, 0.08333333333333333, 0.18181818181818182, 1.0, 0.08333333333333333, 0.25, 0.18181818181818182, 0.0, 0.3076923076923077, 0.09090909090909091, 0.10526315789473684, 0.0, 0.13636363636363635, 0.23076923076923078, 0.0, 0.16666666666666666, 0.0, 0.07142857142857142, 0.13333333333333333, 0.2, 0.3076923076923077, 0.23529411764705882, 0.08333333333333333, 0.09090909090909091, 0.0, 0.23076923076923078, 0.18181818181818182, 0.18181818181818182, 0.1111111111111111, 0.26666666666666666, 0.14285714285714285, 0.3125, 0.23076923076923078, 0.36363636363636365, 0.0, 0.18181818181818182, 0.0, 0.09090909090909091, 0.16666666666666666, 0.0, 0.08333333333333333, 0.16666666666666666, 0.14285714285714285, 0.08333333333333333, 0.23076923076923078, 0.08333333333333333, 0.08333333333333333, 0.0, 0.09090909090909091, 0.13636363636363635, 0.0, 0.0625, 0.3076923076923077, 0.36363636363636365, 0.0, 1.0, 0.0, 0.09090909090909091, 0.23076923076923078, 0.3333333333333333, 0.18181818181818182, 0.08333333333333333, 0.09090909090909091, 0.2222222222222222, 0.0, 0.08333333333333333, 0.14285714285714285, 0.0, 0.0, 0.2, 0.3333333333333333, 0.18181818181818182, 0.36363636363636365, 0.09090909090909091, 0.0, 0.0, 0.0, 0.2727272727272727, 0.15384615384615385, 0.09090909090909091, 0.0, 0.18181818181818182, 0.08333333333333333, 0.2, 0.2727272727272727, 0.23076923076923078, 0.15789473684210525, 0.05555555555555555, 0.23809523809523808, 0.3333333333333333, 0.16666666666666666, 0.0, 0.09090909090909091, 0.2727272727272727, 0.18181818181818182, 0.3076923076923077, 0.0, 0.0, 0.16666666666666666, 0.08333333333333333, 0.0, 0.0, 0.09090909090909091, 0.0, 0.07142857142857142, 0.09090909090909091, 0.0, 0.0, 0.18181818181818182, 0.0, 0.3076923076923077, 0.18181818181818182, 0.3076923076923077], 'Compliance Engineer': [0.05555555555555555, 0.0, 0.0, 0.0, 0.0, 0.04, 0.0, 0.09523809523809523, 0.0, 0.07407407407407407, 0.0, 0.07142857142857142, 0.0, 0.0, 0.0, 0.0, 0.0, 0.0, 0.125, 0.0, 0.0, 0.0, 0.0, 0.0, 0.03571428571428571, 0.07692307692307693, 0.0625, 0.2, 0.0, 0.0, 0.0, 0.0, 0.0, 0.14285714285714285, 0.07142857142857142, 0.05, 0.0, 0.0, 0.1, 0.07142857142857142, 1.0, 0.0, 0.16666666666666666, 0.2, 0.0, 0.0, 0.0, 0.0, 0.08333333333333333, 0.0, 0.0, 0.0, 0.0, 0.07407407407407407, 0.0, 0.07692307692307693, 0.0, 0.0, 0.0, 0.0, 0.0, 0.125, 0.0, 0.0, 0.09090909090909091, 0.0, 0.0, 0.0, 0.0, 0.0, 0.0, 0.0, 0.0, 0.05263157894736842, 0.0, 0.0, 0.125, 0.0, 0.0625, 0.0, 0.125, 0.0, 0.09090909090909091, 0.0, 0.0, 0.0, 0.0, 0.058823529411764705, 0.0, 0.0, 0.0, 0.0, 0.0, 0.0, 0.05, 0.0, 0.0, 0.0, 0.0, 0.2, 0.14285714285714285, 0.0, 0.0, 0.0, 0.0, 0.0, 0.0, 0.0, 0.0, 0.125, 0.0, 0.0, 0.07142857142857142, 0.05555555555555555, 0.0, 0.0, 0.0, 0.0, 0.0, 0.07692307692307693, 0.0, 0.058823529411764705, 0.0, 0.0, 0.0, 0.0, 0.0, 0.0, 0.1, 0.0, 0.0, 0.0, 0.0, 0.0, 0.0, 0.2, 0.1875, 0.0, 0.09090909090909091, 0.0, 0.07692307692307693, 0.0, 0.0, 0.0, 0.0, 0.0, 0.0, 0.0, 0.0, 0.0, 0.0, 0.0, 0.0, 0.0, 0.0, 0.0, 0.0, 0.0, 0.058823529411764705, 0.0, 0.25, 0.0, 0.0, 0.0, 0.07142857142857142, 0.0, 0.0, 0.0, 0.125, 0.0, 0.0, 0.0, 0.0, 0.0, 0.0, 0.125, 0.0, 0.0, 0.0, 0.05, 0.0, 0.0, 0.0, 0.0, 0.0, 0.0, 0.0, 0.0, 0.0, 0.0, 0.0, 0.0, 0.0, 0.0, 0.0, 0.05714285714285714, 0.0, 0.0, 0.05, 0.0, 0.0, 0.0, 0.0, 0.0, 0.0, 0.0, 0.0, 0.0, 0.0, 0.0, 0.0, 0.0, 0.0, 0.0, 0.0, 0.0, 0.0, 0.2, 0.0, 0.0, 0.0, 0.0], 'Research and Development Tester': [0.058823529411764705, 0.2, 0.25, 0.0, 0.14285714285714285, 0.08695652173913043, 0.2727272727272727, 0.047619047619047616, 0.25, 0.07692307692307693, 0.0, 0.0, 0.2, 0.0, 0.0, 0.4, 0.0, 0.0, 0.14285714285714285, 0.2, 0.2, 0.0, 0.0, 0.1111111111111111, 0.037037037037037035, 0.0, 0.14285714285714285, 0.0, 0.0, 0.0, 0.0, 0.1111111111111111, 0.0, 0.07142857142857142, 0.07692307692307693, 0.1111111111111111, 0.1111111111111111, 0.1111111111111111, 0.0, 0.07692307692307693, 0.0, 1.0, 0.0, 0.0, 0.2, 0.0, 0.0, 0.18181818181818182, 0.0, 0.25, 0.0, 0.0, 0.18181818181818182, 0.07692307692307693, 0.14285714285714285, 0.0, 0.1111111111111111, 0.0, 0.2727272727272727, 0.2, 0.0, 0.0, 0.25, 0.0, 0.2222222222222222, 0.0, 0.16666666666666666, 0.25, 0.0, 0.0, 0.3333333333333333, 0.25, 0.0, 0.1875, 0.0, 0.1111111111111111, 0.0, 0.1111111111111111, 0.14285714285714285, 0.0, 0.0, 0.125, 0.0, 0.16666666666666666, 0.0, 0.058823529411764705, 0.0, 0.0625, 0.0, 0.0, 0.0, 0.0, 0.16666666666666666, 0.0, 0.1111111111111111, 0.3333333333333333, 0.25, 0.0, 0.0, 0.0, 0.0, 0.2, 0.2, 0.0, 0.0, 0.0, 0.06666666666666667, 0.0, 0.07692307692307693, 0.14285714285714285, 0.0, 0.25, 0.07692307692307693, 0.058823529411764705, 0.09090909090909091, 0.25, 0.0, 0.125, 0.3333333333333333, 0.0, 0.0, 0.0, 0.0, 0.0, 0.2, 0.3333333333333333, 0.4, 0.0, 0.1111111111111111, 0.125, 0.08333333333333333, 0.0, 0.0, 0.25, 0.14285714285714285, 0.0, 0.058823529411764705, 0.0, 0.1, 0.0, 0.18181818181818182, 0.14285714285714285, 0.16666666666666666, 0.0, 0.25, 0.0, 0.0, 0.2, 0.0, 0.25, 0.0, 0.3333333333333333, 0.25, 0.14285714285714285, 0.25, 0.25, 0.0, 0.0, 0.0, 0.2, 0.0, 0.125, 0.16666666666666666, 0.25, 0.07692307692307693, 0.0, 0.0, 0.0, 0.14285714285714285, 0.25, 0.25, 0.3333333333333333, 0.07692307692307693, 0.0, 0.25, 0.14285714285714285, 0.0, 0.0, 0.1111111111111111, 0.1111111111111111, 0.0, 0.16666666666666666, 0.3333333333333333, 0.0, 0.0, 0.0, 0.2, 0.16666666666666666, 0.0, 0.25, 0.0, 0.25, 0.1111111111111111, 0.2, 0.14285714285714285, 0.0, 0.0, 0.0, 0.1111111111111111, 0.2, 0.0, 0.3333333333333333, 0.0, 0.25, 0.125, 0.0, 0.25, 0.0, 0.25, 0.0, 0.0, 0.0, 0.0, 0.4, 0.0, 0.25, 0.0, 0.0, 0.0, 0.125, 0.0, 0.125], 'Quality Associate/Validation': [0.0, 0.0, 0.0, 0.0, 0.14285714285714285, 0.0, 0.0, 0.047619047619047616, 0.0, 0.037037037037037035, 0.0, 0.0, 0.0, 0.0, 0.0, 0.0, 0.0, 0.0, 0.14285714285714285, 0.0, 0.0, 0.0, 0.0, 0.0, 0.0, 0.0, 0.0, 0.0, 0.0, 0.0, 0.0, 0.1111111111111111, 0.0, 0.07142857142857142, 0.07692307692307693, 0.0, 0.0, 0.1111111111111111, 0.0, 0.07692307692307693, 0.16666666666666666, 0.0, 1.0, 0.25, 0.0, 0.0, 0.0, 0.0, 0.0, 0.0, 0.0, 0.0, 0.0, 0.037037037037037035, 0.0, 0.0, 0.1111111111111111, 0.0, 0.0, 0.0, 0.25, 0.0, 0.0, 0.16666666666666666, 0.1, 0.0, 0.0, 0.0, 0.0, 0.0, 0.0, 0.0, 0.2, 0.05555555555555555, 0.0, 0.0, 0.0, 0.0, 0.06666666666666667, 0.0, 0.0, 0.0, 0.0, 0.0, 0.0, 0.0, 0.0, 0.0625, 0.0, 0.0, 0.0, 0.0, 0.16666666666666666, 0.0, 0.05263157894736842, 0.0, 0.0, 0.0, 0.0, 0.0, 0.0, 0.0, 0.0, 0.0, 0.0, 0.1, 0.06666666666666667, 0.0, 0.0, 0.0, 0.0, 0.0, 0.07692307692307693, 0.0, 0.0, 0.0, 0.3333333333333333, 0.125, 0.0, 0.0, 0.0, 0.0, 0.0, 0.0, 0.0, 0.0, 0.16666666666666666, 0.0, 0.25, 0.125, 0.08333333333333333, 0.25, 0.0, 0.25, 0.0, 0.25, 0.058823529411764705, 0.0, 0.0, 0.0, 0.08333333333333333, 0.0, 0.0, 0.2, 0.0, 0.2, 0.0, 0.0, 0.0, 0.0, 0.0, 0.0, 0.0, 0.0, 0.0, 0.0, 0.0, 0.0, 0.0, 0.0, 0.125, 0.125, 0.0, 0.0, 0.07692307692307693, 0.2, 0.0, 0.0, 0.0, 0.0, 0.0, 0.0, 0.07692307692307693, 0.0, 0.25, 0.14285714285714285, 0.0, 0.2, 0.1111111111111111, 0.05263157894736842, 0.0, 0.0, 0.0, 0.0, 0.0, 0.0, 0.0, 0.0, 0.0, 0.25, 0.0, 0.0, 0.1111111111111111, 0.0, 0.0, 0.02857142857142857, 0.0, 0.058823529411764705, 0.05263157894736842, 0.0, 0.0, 0.0, 0.0, 0.0, 0.125, 0.2, 0.0, 0.0, 0.0, 0.0, 0.0, 0.0, 0.2, 0.16666666666666666, 0.0, 0.25, 0.0, 0.25, 0.2, 0.125, 0.0, 0.125], 'Chief of Career Pathways and Integrated Learning': [0.0, 0.0, 0.0, 0.0, 0.0, 0.043478260869565216, 0.0, 0.10526315789473684, 0.0, 0.08, 0.0, 0.0, 0.0, 0.0, 0.0, 0.0, 0.0, 0.0, 0.16666666666666666, 0.1, 0.0, 0.0, 0.0, 0.125, 0.0, 0.0, 0.0, 0.0, 0.0, 0.0, 0.0, 0.0, 0.5, 0.16666666666666666, 0.18181818181818182, 0.05555555555555555, 0.125, 0.0, 0.125, 0.18181818181818182, 0.2, 0.0, 0.25, 1.0, 0.25, 0.3333333333333333, 0.0, 0.0, 0.0, 0.3333333333333333, 0.0, 0.0, 0.0, 0.08, 0.0, 0.09090909090909091, 0.0, 0.0, 0.0, 0.0, 0.0, 0.16666666666666666, 0.0, 0.0, 0.25, 0.0, 0.0, 0.0, 0.0, 0.0, 0.0, 0.0, 0.25, 0.058823529411764705, 0.0, 0.125, 0.0, 0.0, 0.07142857142857142, 0.0, 0.0, 0.0, 0.0, 0.0, 0.0, 0.0, 0.0, 0.14285714285714285, 0.0, 0.0, 0.5, 0.0, 0.0, 0.0, 0.11764705882352941, 0.0, 0.0, 0.0, 0.0, 0.0, 0.0, 0.0, 0.25, 0.0, 0.0, 0.1111111111111111, 0.07142857142857142, 0.0, 0.0, 0.16666666666666666, 0.0, 0.3333333333333333, 0.18181818181818182, 0.0, 0.1, 0.0, 0.0, 0.0, 0.0, 0.0, 0.0, 0.0, 0.0, 0.0, 0.0, 0.0, 0.0, 0.0, 0.2857142857142857, 0.0, 0.09090909090909091, 0.3333333333333333, 0.0, 0.0, 0.16666666666666666, 0.3333333333333333, 0.0625, 0.1, 0.0, 0.16666666666666666, 0.2, 0.16666666666666666, 0.2, 0.0, 0.0, 0.0, 0.0, 0.0, 0.0, 0.0, 0.0, 0.0, 0.0, 0.0, 0.0, 0.0, 0.0, 0.5, 0.0, 0.0, 0.14285714285714285, 0.0, 0.0, 0.0, 0.18181818181818182, 0.0, 0.0, 0.0, 0.16666666666666666, 0.0, 0.0, 0.0, 0.0, 0.0, 0.0, 0.16666666666666666, 0.0, 0.0, 0.0, 0.11764705882352941, 0.0, 0.0, 0.0, 0.0, 0.0, 0.0, 0.25, 0.0, 0.5, 0.0, 0.0, 0.0, 0.0, 0.25, 0.16666666666666666, 0.029411764705882353, 0.0, 0.0625, 0.11764705882352941, 0.25, 0.0, 0.0, 0.0, 0.3333333333333333, 0.0, 0.0, 0.0, 0.0, 0.0, 0.0, 0.0, 0.0, 0.0, 0.0, 0.5, 0.0, 0.0, 0.3333333333333333, 0.0, 0.0, 0.0, 0.0], 'Executive Conference Manager': [0.058823529411764705, 0.2, 0.0, 0.0, 0.0, 0.041666666666666664, 0.07692307692307693, 0.047619047619047616, 0.0, 0.07692307692307693, 0.0, 0.0, 0.0, 0.0, 0.0, 0.16666666666666666, 0.0, 0.25, 0.0, 0.2, 0.2, 0.25, 0.0, 0.1111111111111111, 0.0, 0.0, 0.06666666666666667, 0.0, 0.0, 0.0, 0.0, 0.1111111111111111, 0.3333333333333333, 0.07142857142857142, 0.16666666666666666, 0.1111111111111111, 0.1111111111111111, 0.1111111111111111, 0.1111111111111111, 0.16666666666666666, 0.0, 0.2, 0.0, 0.25, 1.0, 0.25, 0.0, 0.08333333333333333, 0.0, 0.25, 0.0, 0.0, 0.08333333333333333, 0.12, 0.3333333333333333, 0.08333333333333333, 0.1111111111111111, 0.0, 0.07692307692307693, 0.0, 0.0, 0.14285714285714285, 0.0, 0.0, 0.2222222222222222, 0.0, 0.0, 0.0, 0.0, 0.3333333333333333, 0.0, 0.25, 0.2, 0.11764705882352941, 0.0, 0.1111111111111111, 0.0, 0.0, 0.06666666666666667, 0.0, 0.0, 0.0, 0.0, 0.16666666666666666, 0.1, 0.125, 0.0, 0.13333333333333333, 0.0, 0.0, 0.3333333333333333, 0.16666666666666666, 0.0, 0.0, 0.17647058823529413, 0.0, 0.0, 0.0, 0.16666666666666666, 0.0, 0.0, 0.2, 0.5, 0.0, 0.0, 0.1, 0.14285714285714285, 0.2, 0.07692307692307693, 0.14285714285714285, 0.0, 0.25, 0.16666666666666666, 0.0, 0.09090909090909091, 0.0, 0.0, 0.125, 0.0, 0.0, 0.0, 0.0625, 0.0, 0.0, 0.2, 0.3333333333333333, 0.16666666666666666, 0.0, 0.1111111111111111, 0.125, 0.18181818181818182, 0.25, 0.0, 0.25, 0.14285714285714285, 0.0, 0.0, 0.09090909090909091, 0.0, 0.14285714285714285, 0.18181818181818182, 0.3333333333333333, 0.4, 0.0, 0.0, 0.0, 0.0, 0.2, 0.0, 0.0, 0.2, 0.14285714285714285, 0.0, 0.14285714285714285, 0.25, 0.0, 0.0, 0.3333333333333333, 0.0, 0.2, 0.0, 0.125, 0.16666666666666666, 0.25, 0.16666666666666666, 0.0, 0.3333333333333333, 0.0, 0.14285714285714285, 0.0, 0.0, 0.0, 0.07692307692307693, 0.0, 0.0, 0.14285714285714285, 0.0, 0.0, 0.1111111111111111, 0.17647058823529413, 0.0, 0.16666666666666666, 0.0, 0.0, 0.0, 0.0, 0.5, 0.0, 0.3333333333333333, 0.25, 0.0, 0.0, 0.1111111111111111, 0.5, 0.14285714285714285, 0.0, 0.0, 0.058823529411764705, 0.17647058823529413, 0.2, 0.0, 0.0, 0.2, 0.25, 0.125, 0.0, 0.0, 0.2, 0.0, 0.0, 0.0, 0.3333333333333333, 0.0, 0.16666666666666666, 0.3333333333333333, 0.25, 0.0, 0.0, 0.0, 0.125, 0.0, 0.125], 'Assistant Coach': [0.0625, 0.0, 0.0, 0.0, 0.0, 0.043478260869565216, 0.0, 0.05, 0.0, 0.038461538461538464, 0.3333333333333333, 0.0, 0.0, 0.0, 0.0, 0.0, 0.0, 0.0, 0.0, 0.1, 0.0, 0.0, 0.0, 0.125, 0.038461538461538464, 0.0, 0.07142857142857142, 0.0, 0.0, 0.0, 0.0, 0.125, 0.5, 0.07692307692307693, 0.18181818181818182, 0.05555555555555555, 0.125, 0.0, 0.125, 0.18181818181818182, 0.0, 0.0, 0.0, 0.3333333333333333, 0.25, 1.0, 0.0, 0.0, 0.0, 0.3333333333333333, 0.0, 0.0, 0.0, 0.08, 0.0, 0.09090909090909091, 0.0, 0.0, 0.0, 0.0, 0.0, 0.16666666666666666, 0.0, 0.0, 0.1111111111111111, 0.0, 0.0, 0.0, 0.0, 0.0, 0.0, 0.0, 0.25, 0.058823529411764705, 0.0, 0.125, 0.0, 0.0, 0.0, 0.3333333333333333, 0.0, 0.0, 0.0, 0.0, 0.0, 0.0, 0.0, 0.06666666666666667, 0.0, 0.0, 0.5, 0.0, 0.0, 0.0, 0.11764705882352941, 0.0, 0.0, 0.0, 0.0, 0.0, 0.0, 0.0, 0.25, 0.0, 0.0, 0.1111111111111111, 0.15384615384615385, 0.25, 0.08333333333333333, 0.16666666666666666, 0.0, 0.3333333333333333, 0.18181818181818182, 0.0, 0.1, 0.0, 0.0, 0.14285714285714285, 0.0, 0.0, 0.0, 0.0, 0.0, 0.0, 0.0, 0.0, 0.2, 0.0, 0.125, 0.14285714285714285, 0.09090909090909091, 0.3333333333333333, 0.0, 0.0, 0.16666666666666666, 0.0, 0.0625, 0.1, 0.0, 0.16666666666666666, 0.09090909090909091, 0.16666666666666666, 0.5, 0.0, 0.3333333333333333, 0.0, 0.0, 0.0, 0.0, 0.0, 0.0, 0.16666666666666666, 0.0, 0.0, 0.0, 0.0, 0.0, 0.5, 0.06666666666666667, 0.0, 0.0, 0.14285714285714285, 0.0, 0.0, 0.18181818181818182, 0.0, 0.0, 0.0, 0.16666666666666666, 0.0, 0.0, 0.0, 0.0, 0.0, 0.0, 0.16666666666666666, 0.0, 0.0, 0.0, 0.11764705882352941, 0.0, 0.0, 0.0, 0.0, 0.0, 0.0, 0.25, 0.0, 0.5, 0.0, 0.0, 0.0, 0.0, 0.25, 0.16666666666666666, 0.029411764705882353, 0.0, 0.0625, 0.11764705882352941, 0.25, 0.0, 0.0, 0.25, 0.3333333333333333, 0.14285714285714285, 0.0, 0.0, 0.0, 0.0, 0.0, 0.0, 0.0, 0.0, 0.0, 0.5, 0.0, 0.0, 0.0, 0.0, 0.14285714285714285, 0.0, 0.14285714285714285], 'IT Support Staff': [0.0, 0.0, 0.0, 0.0, 0.16666666666666666, 0.0, 0.08333333333333333, 0.05, 0.3333333333333333, 0.038461538461538464, 0.0, 0.0, 0.25, 0.0, 0.0, 0.0, 0.0, 0.0, 0.0, 0.0, 0.0, 0.3333333333333333, 1.0, 0.0, 0.038461538461538464, 0.0, 0.0, 0.1111111111111111, 0.4, 0.4, 0.0, 0.125, 0.0, 0.07692307692307693, 0.18181818181818182, 0.0, 0.0, 0.125, 0.0, 0.18181818181818182, 0.0, 0.0, 0.0, 0.0, 0.0, 0.0, 1.0, 0.09090909090909091, 0.0, 0.0, 0.0, 0.3333333333333333, 0.09090909090909091, 0.08, 0.0, 0.09090909090909091, 0.125, 0.5, 0.08333333333333333, 0.25, 0.3333333333333333, 0.0, 0.0, 0.08333333333333333, 0.1111111111111111, 0.0, 0.0, 0.0, 0.5, 0.0, 0.0, 0.0, 0.0, 0.058823529411764705, 0.0, 0.0, 0.0, 0.0, 0.07142857142857142, 0.0, 0.0, 0.3333333333333333, 0.0, 0.5, 0.1111111111111111, 0.0, 0.16666666666666666, 0.0, 0.0, 1.0, 0.0, 0.0, 0.0, 0.0, 0.05555555555555555, 0.0, 0.0, 0.0, 0.5, 0.1111111111111111, 0.0, 0.0, 0.0, 0.4, 0.0, 0.0, 0.07142857142857142, 0.25, 0.08333333333333333, 0.16666666666666666, 0.0, 0.0, 0.18181818181818182, 0.0625, 0.1, 0.3333333333333333, 0.0, 0.14285714285714285, 0.0, 0.09090909090909091, 0.0, 0.0, 0.4, 0.0, 0.0, 0.0, 0.0, 0.0, 0.0, 0.14285714285714285, 0.0, 0.0, 0.5, 0.0, 0.0, 0.3333333333333333, 0.0625, 0.1, 0.1111111111111111, 0.16666666666666666, 0.0, 0.0, 0.0, 0.0, 0.0, 0.0, 0.0, 0.0, 0.0, 0.0, 0.25, 0.0, 0.0, 0.0, 0.0, 0.0, 0.0, 0.0, 0.06666666666666667, 0.0, 0.0, 0.14285714285714285, 0.5, 0.0, 0.18181818181818182, 0.0, 0.0, 0.4, 0.16666666666666666, 0.3333333333333333, 0.0, 0.0, 0.08333333333333333, 0.0, 0.0, 0.0, 0.0, 0.0, 0.125, 0.05555555555555555, 0.3333333333333333, 0.5, 0.0, 0.0, 0.0, 0.0, 0.0, 0.0, 0.0, 0.0, 1.0, 0.0, 0.125, 0.0, 0.0, 0.029411764705882353, 0.0, 0.13333333333333333, 0.05555555555555555, 0.0, 0.0, 0.0, 0.25, 0.0, 0.14285714285714285, 0.0, 0.0, 0.25, 0.0, 0.0, 0.0, 0.0, 0.0, 0.0, 0.0, 0.0, 0.0, 0.3333333333333333, 0.0, 0.14285714285714285, 0.3333333333333333, 0.14285714285714285], 'Cardiovascular Operating Room Nurse': [0.041666666666666664, 0.0, 0.09090909090909091, 0.1, 0.07142857142857142, 0.06666666666666667, 0.23529411764705882, 0.07407407407407407, 0.0, 0.12903225806451613, 0.0, 0.0, 0.08333333333333333, 0.0, 0.0, 0.16666666666666666, 0.0, 0.0, 0.0, 0.1875, 0.0, 0.0, 0.09090909090909091, 0.13333333333333333, 0.029411764705882353, 0.05263157894736842, 0.045454545454545456, 0.0, 0.07142857142857142, 0.07142857142857142, 0.0, 0.0, 0.0, 0.0, 0.10526315789473684, 0.038461538461538464, 0.13333333333333333, 0.13333333333333333, 0.0, 0.10526315789473684, 0.0, 0.18181818181818182, 0.0, 0.0, 0.08333333333333333, 0.0, 0.09090909090909091, 1.0, 0.05555555555555555, 0.0, 0.0, 0.06666666666666667, 1.0, 0.09375, 0.07142857142857142, 0.0, 0.13333333333333333, 0.1, 0.23529411764705882, 0.08333333333333333, 0.09090909090909091, 0.0, 0.0, 0.05, 0.058823529411764705, 0.0, 0.0, 0.0, 0.1, 0.0, 0.0, 0.0, 0.0, 0.08333333333333333, 0.0, 0.13333333333333333, 0.0, 0.0, 0.09523809523809523, 0.0, 0.0, 0.06666666666666667, 0.0, 0.07692307692307693, 0.058823529411764705, 0.041666666666666664, 0.0, 0.043478260869565216, 0.0, 0.09090909090909091, 0.0, 0.0, 0.0, 0.1, 0.125, 0.0, 0.0, 0.0, 0.07692307692307693, 0.0, 0.0, 0.0, 0.0, 0.07142857142857142, 0.0, 0.0, 0.0, 0.0, 0.16666666666666666, 0.15384615384615385, 0.0, 0.0, 0.10526315789473684, 0.041666666666666664, 0.05555555555555555, 0.0, 0.0, 0.0, 0.0, 0.0, 0.0, 0.0, 0.07142857142857142, 0.0, 0.0, 0.1, 0.16666666666666666, 0.0, 0.0, 0.0, 0.0, 0.0, 0.1, 0.09090909090909091, 0.07142857142857142, 0.09090909090909091, 0.0, 0.0, 0.0, 0.0, 0.1111111111111111, 0.0, 0.0, 0.0, 0.0, 0.0, 0.1, 0.0, 0.0, 0.0, 0.0, 0.07142857142857142, 0.0, 0.0, 0.09090909090909091, 0.0, 0.0, 0.0, 0.043478260869565216, 0.08333333333333333, 0.0, 0.0, 0.07692307692307693, 0.09090909090909091, 0.10526315789473684, 0.0, 0.0, 0.07142857142857142, 0.15384615384615385, 0.0, 0.0, 0.0, 0.10526315789473684, 0.0, 0.0, 0.0, 0.08333333333333333, 0.0, 0.0625, 0.125, 0.09090909090909091, 0.07692307692307693, 0.0, 0.0, 0.0, 0.0, 0.0, 0.0, 0.0, 0.09090909090909091, 0.09090909090909091, 0.0, 0.0, 0.0, 0.07142857142857142, 0.04878048780487805, 0.0, 0.08695652173913043, 0.125, 0.0, 0.0, 0.0, 0.0, 0.0, 0.0, 0.0, 0.09090909090909091, 0.0, 0.0, 0.0, 0.0, 0.0, 0.0, 0.07692307692307693, 0.0, 0.09090909090909091, 0.0, 0.09090909090909091, 0.0, 0.0, 0.09090909090909091, 0.0], 'Meeting Specialist': [0.14285714285714285, 0.0, 0.1, 0.1111111111111111, 0.0, 0.14814814814814814, 0.05263157894736842, 0.21739130434782608, 0.0, 0.0967741935483871, 0.0, 0.1111111111111111, 0.0, 0.0, 0.0, 0.18181818181818182, 0.1, 0.0, 0.0, 0.058823529411764705, 0.0, 0.0, 0.0, 0.06666666666666667, 0.1724137931034483, 0.9, 0.375, 0.21428571428571427, 0.07692307692307693, 0.07692307692307693, 0.0, 0.14285714285714285, 0.0, 0.23529411764705882, 0.1111111111111111, 0.3, 0.06666666666666667, 0.06666666666666667, 0.23076923076923078, 0.1111111111111111, 0.08333333333333333, 0.0, 0.0, 0.0, 0.0, 0.0, 0.0, 0.05555555555555555, 1.0, 0.0, 0.0625, 0.07142857142857142, 0.05555555555555555, 0.1724137931034483, 0.0, 0.26666666666666666, 0.06666666666666667, 0.0, 0.05263157894736842, 0.0, 0.0, 0.07692307692307693, 0.0, 0.0, 0.0625, 0.0, 0.0, 0.1, 0.0, 0.0, 0.0, 0.0, 0.0, 0.041666666666666664, 0.0, 0.06666666666666667, 0.07692307692307693, 0.0, 0.0, 0.0, 0.16666666666666666, 0.07142857142857142, 0.0625, 0.0, 0.21428571428571427, 0.0, 0.0, 0.045454545454545456, 0.0, 0.0, 0.0, 0.0, 0.0, 0.1111111111111111, 0.04, 0.0, 0.0, 0.0, 0.0, 0.21428571428571427, 0.3, 0.09090909090909091, 0.0, 0.07692307692307693, 0.0, 0.0, 0.047619047619047616, 0.0, 0.05263157894736842, 0.16666666666666666, 0.0, 0.0, 0.1111111111111111, 0.14285714285714285, 0.0, 0.0, 0.0, 0.07142857142857142, 0.0, 0.11764705882352941, 0.0, 0.35294117647058826, 0.07692307692307693, 0.0, 0.09090909090909091, 0.0, 0.0, 0.25, 0.14285714285714285, 0.07142857142857142, 0.0, 0.0, 0.0, 0.0, 0.07692307692307693, 0.0, 0.2, 0.125, 0.3076923076923077, 0.0, 0.05555555555555555, 0.07692307692307693, 0.0, 0.0, 0.0, 0.0, 0.1111111111111111, 0.0, 0.0, 0.0, 0.0, 0.0, 0.0, 0.2727272727272727, 0.0, 0.0, 0.0, 0.0, 0.15, 0.0, 0.15384615384615385, 0.07142857142857142, 0.0, 0.0, 0.1111111111111111, 0.0, 0.0, 0.07692307692307693, 0.16666666666666666, 0.0, 0.0, 0.0, 0.1111111111111111, 0.0, 0.0, 0.07692307692307693, 0.0, 0.0, 0.06666666666666667, 0.04, 0.0, 0.0, 0.0, 0.0, 0.0, 0.0, 0.0, 0.0, 0.0, 0.0, 0.0, 0.0, 0.0, 0.0, 0.07692307692307693, 0.2, 0.0625, 0.14285714285714285, 0.04, 0.0, 0.0, 0.0, 0.0, 0.0, 0.07142857142857142, 0.0, 0.0, 0.0, 0.0, 0.0, 0.0, 0.0, 0.0, 0.0, 0.0, 0.0, 0.0, 0.0, 0.0, 0.07142857142857142, 0.0, 0.07142857142857142], 'Vice Principal': [0.0, 0.25, 0.3333333333333333, 0.0, 0.16666666666666666, 0.09090909090909091, 0.08333333333333333, 0.10526315789473684, 0.3333333333333333, 0.038461538461538464, 0.0, 0.0, 0.25, 0.0, 0.0, 0.2, 0.0, 0.0, 0.16666666666666666, 0.1, 0.25, 0.0, 0.0, 0.125, 0.038461538461538464, 0.0, 0.07142857142857142, 0.0, 0.0, 0.0, 0.0, 0.125, 0.5, 0.16666666666666666, 0.18181818181818182, 0.11764705882352941, 0.125, 0.125, 0.125, 0.18181818181818182, 0.0, 0.25, 0.0, 0.3333333333333333, 0.25, 0.3333333333333333, 0.0, 0.0, 0.0, 1.0, 0.0, 0.0, 0.0, 0.08, 0.0, 0.09090909090909091, 0.125, 0.0, 0.08333333333333333, 0.25, 0.0, 0.16666666666666666, 0.3333333333333333, 0.0, 0.25, 0.0, 0.2, 0.3333333333333333, 0.0, 0.0, 0.5, 0.3333333333333333, 0.25, 0.058823529411764705, 0.0, 0.125, 0.0, 0.125, 0.07142857142857142, 0.0, 0.0, 0.14285714285714285, 0.0, 0.2, 0.0, 0.0, 0.0, 0.06666666666666667, 0.0, 0.0, 0.5, 0.0, 0.2, 0.0, 0.11764705882352941, 0.5, 0.3333333333333333, 0.0, 0.0, 0.0, 0.0, 0.25, 0.6666666666666666, 0.0, 0.0, 0.1111111111111111, 0.15384615384615385, 0.0, 0.0, 0.4, 0.0, 1.0, 0.18181818181818182, 0.0625, 0.2222222222222222, 0.3333333333333333, 0.0, 0.14285714285714285, 0.5, 0.0, 0.0, 0.0, 0.0, 0.0, 0.25, 0.0, 0.0, 0.0, 0.2857142857142857, 0.14285714285714285, 0.2, 0.3333333333333333, 0.0, 0.0, 0.4, 0.0, 0.0625, 0.1, 0.1111111111111111, 0.16666666666666666, 0.2, 0.4, 0.5, 0.0, 0.3333333333333333, 0.0, 0.0, 0.25, 0.0, 0.3333333333333333, 0.0, 0.16666666666666666, 0.3333333333333333, 0.16666666666666666, 0.0, 0.3333333333333333, 0.0, 0.5, 0.0, 0.0, 0.0, 0.14285714285714285, 0.2, 0.0, 0.18181818181818182, 0.0, 0.0, 0.0, 0.4, 0.3333333333333333, 0.3333333333333333, 0.5, 0.08333333333333333, 0.0, 0.3333333333333333, 0.4, 0.0, 0.0, 0.125, 0.11764705882352941, 0.0, 0.2, 0.5, 0.0, 0.0, 0.0, 0.6666666666666666, 0.2, 0.5, 0.0, 0.0, 0.3333333333333333, 0.125, 0.6666666666666666, 0.4, 0.0, 0.0, 0.0625, 0.11764705882352941, 0.6666666666666666, 0.0, 0.5, 0.0, 1.0, 0.14285714285714285, 0.0, 0.0, 0.0, 0.3333333333333333, 0.0, 0.0, 0.0, 0.0, 0.2, 0.5, 0.0, 0.0, 0.0, 0.0, 0.14285714285714285, 0.0, 0.14285714285714285], 'Cyber Intelligence Watch Officer': [0.15, 0.0, 0.0, 0.0, 0.08333333333333333, 0.1111111111111111, 0.05555555555555555, 0.17391304347826086, 0.0, 0.2222222222222222, 0.0, 0.1875, 0.1, 0.125, 0.1, 0.0, 0.1111111111111111, 0.0, 0.08333333333333333, 0.0, 0.0, 0.0, 0.0, 0.0, 0.13793103448275862, 0.058823529411764705, 0.10526315789473684, 0.06666666666666667, 0.08333333333333333, 0.08333333333333333, 0.0, 0.0, 0.0, 0.05263157894736842, 0.05555555555555555, 0.08695652173913043, 0.0, 0.07142857142857142, 0.07142857142857142, 0.05555555555555555, 0.0, 0.0, 0.0, 0.0, 0.0, 0.0, 0.0, 0.0, 0.0625, 0.0, 1.0, 0.07692307692307693, 0.0, 0.13793103448275862, 0.0, 0.058823529411764705, 0.07142857142857142, 0.0, 0.05555555555555555, 0.0, 0.0, 0.08333333333333333, 0.0, 0.0, 0.0, 0.0, 0.09090909090909091, 0.0, 0.0, 0.0, 0.0, 0.0, 0.0, 0.043478260869565216, 0.0, 0.0, 0.18181818181818182, 0.25, 0.16666666666666666, 0.0, 0.08333333333333333, 0.07692307692307693, 0.06666666666666667, 0.0, 0.23076923076923078, 0.045454545454545456, 0.0, 0.1, 0.0, 0.0, 0.0, 0.0, 0.0, 0.0, 0.0, 0.0, 0.0, 0.125, 0.09090909090909091, 0.06666666666666667, 0.09090909090909091, 0.0, 0.0, 0.08333333333333333, 0.0, 0.0, 0.0, 0.0, 0.1875, 0.0, 0.1111111111111111, 0.0, 0.05555555555555555, 0.045454545454545456, 0.0625, 0.0, 0.0, 0.0, 0.0, 0.38461538461538464, 0.0, 0.2222222222222222, 0.08333333333333333, 0.0, 0.0, 0.0, 0.0, 0.07692307692307693, 0.0, 0.0, 0.2, 0.0, 0.0, 0.0, 0.0, 0.0, 0.09523809523809523, 0.13333333333333333, 0.06666666666666667, 0.0, 0.2, 0.0, 0.0, 0.0, 0.0, 0.0, 0.0, 0.0, 0.0, 0.0, 0.0, 0.0, 0.0, 0.0, 0.0, 0.0, 0.0, 0.0, 0.1, 0.0, 0.07692307692307693, 0.0, 0.0, 0.0, 0.05555555555555555, 0.0, 0.0, 0.08333333333333333, 0.0, 0.0, 0.0, 0.0, 0.0, 0.0, 0.0, 0.0, 0.0, 0.0, 0.0, 0.0, 0.1111111111111111, 0.0, 0.0, 0.0, 0.0, 0.0, 0.0, 0.09090909090909091, 0.0, 0.0, 0.0, 0.0, 0.0, 0.0, 0.0, 0.10810810810810811, 0.06666666666666667, 0.09523809523809523, 0.0, 0.0, 0.0, 0.0, 0.0, 0.0, 0.0, 0.0, 0.0, 0.0, 0.0, 0.0, 0.0, 0.0, 0.0, 0.0, 0.0, 0.0, 0.0, 0.0, 0.0, 0.0, 0.1111111111111111, 0.0], 'Freelance Travel Writer': [0.0, 0.125, 0.0, 0.0, 0.2222222222222222, 0.16666666666666666, 0.21428571428571427, 0.08695652173913043, 0.14285714285714285, 0.06896551724137931, 0.0, 0.0625, 0.2857142857142857, 0.16666666666666666, 0.125, 0.0, 0.14285714285714285, 0.14285714285714285, 0.1, 0.0, 0.125, 0.14285714285714285, 0.3333333333333333, 0.0, 0.14814814814814814, 0.14285714285714285, 0.05555555555555555, 0.16666666666666666, 0.8333333333333334, 0.8333333333333334, 0.16666666666666666, 0.18181818181818182, 0.0, 0.2857142857142857, 0.21428571428571427, 0.09523809523809523, 0.0, 0.18181818181818182, 0.08333333333333333, 0.21428571428571427, 0.0, 0.0, 0.0, 0.0, 0.0, 0.0, 0.3333333333333333, 0.06666666666666667, 0.07142857142857142, 0.0, 0.07692307692307693, 1.0, 0.06666666666666667, 0.10714285714285714, 0.1, 0.3333333333333333, 0.18181818181818182, 0.16666666666666666, 0.21428571428571427, 0.2857142857142857, 0.14285714285714285, 0.0, 0.14285714285714285, 0.13333333333333333, 0.16666666666666666, 0.16666666666666666, 0.25, 0.0, 0.16666666666666666, 0.0, 0.0, 0.0, 0.0, 0.15789473684210525, 0.14285714285714285, 0.0, 0.0, 0.0, 0.05555555555555555, 0.0, 0.2222222222222222, 0.7142857142857143, 0.0, 0.25, 0.16666666666666666, 0.0, 0.1, 0.1111111111111111, 0.16666666666666666, 0.3333333333333333, 0.0, 0.25, 0.25, 0.0, 0.09523809523809523, 0.0, 0.14285714285714285, 0.16666666666666666, 0.42857142857142855, 0.16666666666666666, 0.1111111111111111, 0.0, 0.0, 0.8333333333333334, 0.0, 0.07692307692307693, 0.1875, 0.125, 0.13333333333333333, 0.1, 0.3333333333333333, 0.0, 0.21428571428571427, 0.05, 0.25, 0.14285714285714285, 0.0, 0.2, 0.0, 0.23076923076923078, 0.16666666666666666, 0.05263157894736842, 0.8333333333333334, 0.14285714285714285, 0.0, 0.0, 0.0, 0.09090909090909091, 0.18181818181818182, 0.2, 0.06666666666666667, 0.0, 0.16666666666666666, 0.0, 0.1, 0.14285714285714285, 0.05, 0.15384615384615385, 0.07692307692307693, 0.2222222222222222, 0.14285714285714285, 0.1, 0.0, 0.2857142857142857, 0.0, 0.2857142857142857, 0.0, 0.125, 0.0, 0.14285714285714285, 0.2857142857142857, 0.1, 0.14285714285714285, 0.1, 0.0, 0.0, 0.0, 0.0, 0.17647058823529413, 0.125, 0.0, 0.2, 0.25, 0.14285714285714285, 0.21428571428571427, 0.2857142857142857, 0.0, 0.8333333333333334, 0.1, 0.14285714285714285, 0.14285714285714285, 0.0, 0.21428571428571427, 0.16666666666666666, 0.0, 0.0, 0.125, 0.2857142857142857, 0.18181818181818182, 0.09523809523809523, 0.3333333333333333, 0.25, 0.0, 0.2857142857142857, 0.0, 0.0, 0.0, 0.25, 0.0, 0.0, 0.3333333333333333, 0.0, 0.18181818181818182, 0.0, 0.1, 0.08333333333333333, 0.16666666666666666, 0.16666666666666666, 0.09523809523809523, 0.0, 0.16666666666666666, 0.0, 0.125, 0.0, 0.2, 0.2857142857142857, 0.14285714285714285, 0.2857142857142857, 0.14285714285714285, 0.16666666666666666, 0.16666666666666666, 0.0, 0.2857142857142857, 0.0, 0.0, 0.0, 0.16666666666666666, 0.14285714285714285, 0.2857142857142857, 0.2, 0.3333333333333333, 0.2], 'Assistant General Manager': [0.041666666666666664, 0.0, 0.09090909090909091, 0.1, 0.07142857142857142, 0.06666666666666667, 0.23529411764705882, 0.07407407407407407, 0.0, 0.12903225806451613, 0.0, 0.0, 0.08333333333333333, 0.0, 0.0, 0.16666666666666666, 0.0, 0.0, 0.0, 0.1875, 0.0, 0.0, 0.09090909090909091, 0.13333333333333333, 0.029411764705882353, 0.05263157894736842, 0.045454545454545456, 0.0, 0.07142857142857142, 0.07142857142857142, 0.0, 0.0, 0.0, 0.0, 0.10526315789473684, 0.038461538461538464, 0.13333333333333333, 0.13333333333333333, 0.0, 0.10526315789473684, 0.0, 0.18181818181818182, 0.0, 0.0, 0.08333333333333333, 0.0, 0.09090909090909091, 1.0, 0.05555555555555555, 0.0, 0.0, 0.06666666666666667, 1.0, 0.09375, 0.07142857142857142, 0.0, 0.13333333333333333, 0.1, 0.23529411764705882, 0.08333333333333333, 0.09090909090909091, 0.0, 0.0, 0.05, 0.058823529411764705, 0.0, 0.0, 0.0, 0.1, 0.0, 0.0, 0.0, 0.0, 0.08333333333333333, 0.0, 0.13333333333333333, 0.0, 0.0, 0.09523809523809523, 0.0, 0.0, 0.06666666666666667, 0.0, 0.07692307692307693, 0.058823529411764705, 0.041666666666666664, 0.0, 0.043478260869565216, 0.0, 0.09090909090909091, 0.0, 0.0, 0.0, 0.1, 0.125, 0.0, 0.0, 0.0, 0.07692307692307693, 0.0, 0.0, 0.0, 0.0, 0.07142857142857142, 0.0, 0.0, 0.0, 0.0, 0.16666666666666666, 0.15384615384615385, 0.0, 0.0, 0.10526315789473684, 0.041666666666666664, 0.05555555555555555, 0.0, 0.0, 0.0, 0.0, 0.0, 0.0, 0.0, 0.07142857142857142, 0.0, 0.0, 0.1, 0.16666666666666666, 0.0, 0.0, 0.0, 0.0, 0.0, 0.1, 0.09090909090909091, 0.07142857142857142, 0.09090909090909091, 0.0, 0.0, 0.0, 0.0, 0.1111111111111111, 0.0, 0.0, 0.0, 0.0, 0.0, 0.1, 0.0, 0.0, 0.0, 0.0, 0.07142857142857142, 0.0, 0.0, 0.09090909090909091, 0.0, 0.0, 0.0, 0.043478260869565216, 0.08333333333333333, 0.0, 0.0, 0.07692307692307693, 0.09090909090909091, 0.10526315789473684, 0.0, 0.0, 0.07142857142857142, 0.15384615384615385, 0.0, 0.0, 0.0, 0.10526315789473684, 0.0, 0.0, 0.0, 0.08333333333333333, 0.0, 0.0625, 0.125, 0.09090909090909091, 0.07692307692307693, 0.0, 0.0, 0.0, 0.0, 0.0, 0.0, 0.0, 0.09090909090909091, 0.09090909090909091, 0.0, 0.0, 0.0, 0.07142857142857142, 0.04878048780487805, 0.0, 0.08695652173913043, 0.125, 0.0, 0.0, 0.0, 0.0, 0.0, 0.0, 0.0, 0.09090909090909091, 0.0, 0.0, 0.0, 0.0, 0.0, 0.0, 0.07692307692307693, 0.0, 0.09090909090909091, 0.0, 0.09090909090909091, 0.0, 0.0, 0.09090909090909091, 0.0], 'Account Executive': [0.6, 0.07692307692307693, 0.08, 0.04, 0.1111111111111111, 0.23684210526315788, 0.16129032258064516, 0.3333333333333333, 0.08, 0.28205128205128205, 0.038461538461538464, 0.125, 0.12, 0.04, 0.037037037037037035, 0.11538461538461539, 0.038461538461538464, 0.038461538461538464, 0.15384615384615385, 0.13333333333333333, 0.07692307692307693, 0.08, 0.08, 0.06666666666666667, 0.19047619047619047, 0.16666666666666666, 0.26666666666666666, 0.13793103448275862, 0.1111111111111111, 0.1111111111111111, 0.0, 0.14285714285714285, 0.04, 0.23333333333333334, 0.44, 0.23529411764705882, 0.06666666666666667, 0.18518518518518517, 0.14285714285714285, 0.44, 0.07407407407407407, 0.07692307692307693, 0.037037037037037035, 0.08, 0.12, 0.08, 0.08, 0.09375, 0.1724137931034483, 0.08, 0.13793103448275862, 0.10714285714285714, 0.09375, 1.0, 0.07142857142857142, 0.16666666666666666, 0.18518518518518517, 0.04, 0.16129032258064516, 0.07692307692307693, 0.038461538461538464, 0.1111111111111111, 0.038461538461538464, 0.02857142857142857, 0.2222222222222222, 0.0, 0.07407407407407407, 0.08, 0.04, 0.04, 0.04, 0.08, 0.037037037037037035, 0.20588235294117646, 0.0, 0.06666666666666667, 0.07142857142857142, 0.10344827586206896, 0.1875, 0.038461538461538464, 0.07142857142857142, 0.14814814814814814, 0.06451612903225806, 0.16, 0.32, 0.1111111111111111, 0.034482758620689655, 0.18181818181818182, 0.0, 0.08, 0.04, 0.03571428571428571, 0.03571428571428571, 0.04, 0.3125, 0.04, 0.038461538461538464, 0.04, 0.16, 0.13793103448275862, 0.11538461538461539, 0.07692307692307693, 0.12, 0.1111111111111111, 0.0, 0.03125, 0.15151515151515152, 0.12, 0.2, 0.2, 0.038461538461538464, 0.08, 0.44, 0.21212121212121213, 0.13333333333333333, 0.08, 0.0, 0.14814814814814814, 0.04, 0.20689655172413793, 0.0, 0.18181818181818182, 0.1111111111111111, 0.0, 0.07692307692307693, 0.04, 0.07407407407407407, 0.10714285714285714, 0.10344827586206896, 0.14814814814814814, 0.16666666666666666, 0.038461538461538464, 0.04, 0.038461538461538464, 0.1111111111111111, 0.08, 0.2903225806451613, 0.1724137931034483, 0.2692307692307692, 0.07142857142857142, 0.20689655172413793, 0.1111111111111111, 0.16, 0.0, 0.08, 0.0, 0.04, 0.07692307692307693, 0.04, 0.038461538461538464, 0.07692307692307693, 0.1111111111111111, 0.038461538461538464, 0.1111111111111111, 0.038461538461538464, 0.038461538461538464, 0.0, 0.04, 0.21875, 0.037037037037037035, 0.14814814814814814, 0.14814814814814814, 0.16, 0.038461538461538464, 0.44, 0.0, 0.04, 0.1111111111111111, 0.2, 0.08, 0.038461538461538464, 0.04, 0.16129032258064516, 0.0, 0.038461538461538464, 0.1111111111111111, 0.0, 0.0, 0.14285714285714285, 0.3125, 0.08, 0.16, 0.04, 0.0, 0.0, 0.0, 0.12, 0.07407407407407407, 0.04, 0.038461538461538464, 0.08, 0.038461538461538464, 0.10344827586206896, 0.12, 0.1111111111111111, 0.23404255319148937, 0.06451612903225806, 0.17647058823529413, 0.3125, 0.07692307692307693, 0.0, 0.04, 0.12, 0.08, 0.14814814814814814, 0.0, 0.0, 0.07692307692307693, 0.038461538461538464, 0.0, 0.0, 0.04, 0.0, 0.07407407407407407, 0.04, 0.038461538461538464, 0.0, 0.08, 0.0, 0.14814814814814814, 0.08, 0.14814814814814814], 'Catering Account Manger': [0.05263157894736842, 0.14285714285714285, 0.0, 0.0, 0.0, 0.038461538461538464, 0.14285714285714285, 0.0, 0.0, 0.034482758620689655, 0.0, 0.0, 0.0, 0.0, 0.0, 0.125, 0.0, 0.4, 0.0, 0.07692307692307693, 0.14285714285714285, 0.16666666666666666, 0.0, 0.0, 0.034482758620689655, 0.07142857142857142, 0.058823529411764705, 0.0, 0.0, 0.0, 0.2, 0.09090909090909091, 0.0, 0.0625, 0.06666666666666667, 0.047619047619047616, 0.0, 0.09090909090909091, 0.0, 0.06666666666666667, 0.0, 0.14285714285714285, 0.0, 0.0, 0.3333333333333333, 0.0, 0.0, 0.07142857142857142, 0.0, 0.0, 0.0, 0.1, 0.07142857142857142, 0.07142857142857142, 1.0, 0.07142857142857142, 0.09090909090909091, 0.0, 0.14285714285714285, 0.14285714285714285, 0.0, 0.0, 0.16666666666666666, 0.06666666666666667, 0.18181818181818182, 0.2, 0.125, 0.0, 0.0, 0.2, 0.0, 0.16666666666666666, 0.0, 0.16666666666666666, 0.16666666666666666, 0.0, 0.0, 0.0, 0.058823529411764705, 0.0, 0.1111111111111111, 0.0, 0.0, 0.125, 0.08333333333333333, 0.1111111111111111, 0.0, 0.11764705882352941, 0.2, 0.0, 0.0, 0.2857142857142857, 0.125, 0.0, 0.15789473684210525, 0.0, 0.16666666666666666, 0.0, 0.125, 0.0, 0.0, 0.14285714285714285, 0.14285714285714285, 0.0, 0.0, 0.08333333333333333, 0.125, 0.14285714285714285, 0.06666666666666667, 0.0, 0.16666666666666666, 0.0, 0.06666666666666667, 0.0, 0.07692307692307693, 0.0, 0.0, 0.1, 0.0, 0.0, 0.2, 0.05555555555555555, 0.0, 0.16666666666666666, 0.14285714285714285, 0.2, 0.125, 0.0, 0.09090909090909091, 0.1, 0.07142857142857142, 0.0, 0.0, 0.16666666666666666, 0.1111111111111111, 0.0, 0.0, 0.0, 0.0, 0.0, 0.15384615384615385, 0.25, 0.125, 0.14285714285714285, 0.0, 0.14285714285714285, 0.0, 0.14285714285714285, 0.0, 0.16666666666666666, 0.14285714285714285, 0.25, 0.16666666666666666, 0.1111111111111111, 0.16666666666666666, 0.0, 0.0, 0.0, 0.0, 0.3333333333333333, 0.0, 0.1, 0.125, 0.4, 0.06666666666666667, 0.14285714285714285, 0.2, 0.0, 0.0, 0.0, 0.16666666666666666, 0.0, 0.14285714285714285, 0.2, 0.0, 0.0, 0.14285714285714285, 0.14285714285714285, 0.2, 0.15789473684210525, 0.0, 0.125, 0.0, 0.14285714285714285, 0.0, 0.0, 0.14285714285714285, 0.125, 0.0, 0.16666666666666666, 0.0, 0.0, 0.2, 0.14285714285714285, 0.1111111111111111, 0.02702702702702703, 0.0, 0.0, 0.15789473684210525, 0.0, 0.2, 0.0, 0.14285714285714285, 0.0, 0.1, 0.14285714285714285, 0.0, 0.14285714285714285, 0.16666666666666666, 0.2, 0.2, 0.2, 0.14285714285714285, 0.125, 0.0, 0.16666666666666666, 0.2, 0.0, 0.14285714285714285, 0.1, 0.0, 0.1], 'Process Engineer': [0.041666666666666664, 0.08333333333333333, 0.0, 0.0, 0.07142857142857142, 0.18518518518518517, 0.10526315789473684, 0.11538461538461539, 0.09090909090909091, 0.09375, 0.0, 0.10526315789473684, 0.08333333333333333, 0.1, 0.08333333333333333, 0.0, 0.09090909090909091, 0.09090909090909091, 0.07142857142857142, 0.05555555555555555, 0.08333333333333333, 0.09090909090909091, 0.09090909090909091, 0.0625, 0.25, 0.3333333333333333, 0.2777777777777778, 0.2, 0.25, 0.25, 0.1, 0.0625, 0.1, 0.8333333333333334, 0.23529411764705882, 0.2857142857142857, 0.0625, 0.0625, 0.4166666666666667, 0.23529411764705882, 0.07692307692307693, 0.0, 0.0, 0.09090909090909091, 0.08333333333333333, 0.09090909090909091, 0.09090909090909091, 0.0, 0.26666666666666666, 0.09090909090909091, 0.058823529411764705, 0.3333333333333333, 0.0, 0.16666666666666666, 0.07142857142857142, 1.0, 0.0625, 0.0, 0.10526315789473684, 0.08333333333333333, 0.0, 0.15384615384615385, 0.09090909090909091, 0.05, 0.2, 0.1, 0.16666666666666666, 0.0, 0.0, 0.0, 0.0, 0.0, 0.08333333333333333, 0.13043478260869565, 0.09090909090909091, 0.0625, 0.07142857142857142, 0.0, 0.0, 0.0, 0.36363636363636365, 0.23076923076923078, 0.058823529411764705, 0.07692307692307693, 0.125, 0.0, 0.07142857142857142, 0.14285714285714285, 0.1, 0.09090909090909091, 0.1, 0.16666666666666666, 0.16666666666666666, 0.0, 0.08, 0.0, 0.09090909090909091, 0.1, 0.16666666666666666, 0.2, 0.16666666666666666, 0.0, 0.08333333333333333, 0.25, 0.0, 0.125, 0.15, 0.08333333333333333, 0.05, 0.15384615384615385, 0.2, 0.09090909090909091, 0.23529411764705882, 0.041666666666666664, 0.1875, 0.09090909090909091, 0.0, 0.06666666666666667, 0.0, 0.25, 0.1, 0.2631578947368421, 0.25, 0.09090909090909091, 0.0, 0.0, 0.0, 0.23076923076923078, 0.21428571428571427, 0.06666666666666667, 0.1111111111111111, 0.09090909090909091, 0.0, 0.0, 0.15384615384615385, 0.0, 0.19047619047619047, 0.1875, 0.2, 0.25, 0.17647058823529413, 0.25, 0.07692307692307693, 0.18181818181818182, 0.0, 0.18181818181818182, 0.0, 0.08333333333333333, 0.0, 0.09090909090909091, 0.18181818181818182, 0.07142857142857142, 0.09090909090909091, 0.15384615384615385, 0.0, 0.0, 0.0, 0.1, 0.14285714285714285, 0.08333333333333333, 0.06666666666666667, 0.06666666666666667, 0.07692307692307693, 0.09090909090909091, 0.23529411764705882, 0.18181818181818182, 0.0, 0.25, 0.15384615384615385, 0.09090909090909091, 0.09090909090909091, 0.0, 0.10526315789473684, 0.1, 0.0, 0.15384615384615385, 0.08333333333333333, 0.18181818181818182, 0.13333333333333333, 0.08, 0.09090909090909091, 0.07692307692307693, 0.0, 0.18181818181818182, 0.0, 0.0, 0.08333333333333333, 0.16666666666666666, 0.1, 0.0, 0.09090909090909091, 0.0, 0.13333333333333333, 0.08333333333333333, 0.15384615384615385, 0.19444444444444445, 0.125, 0.25, 0.08, 0.08333333333333333, 0.1, 0.0, 0.08333333333333333, 0.09090909090909091, 0.06666666666666667, 0.18181818181818182, 0.09090909090909091, 0.18181818181818182, 0.09090909090909091, 0.1, 0.1, 0.0, 0.18181818181818182, 0.0, 0.1, 0.0, 0.1, 0.0, 0.18181818181818182, 0.06666666666666667, 0.09090909090909091, 0.06666666666666667], 'Catering Manager': [0.0, 0.25, 0.2857142857142857, 0.14285714285714285, 0.5, 0.07407407407407407, 0.2857142857142857, 0.18181818181818182, 0.125, 0.10344827586206896, 0.0, 0.058823529411764705, 0.42857142857142855, 0.14285714285714285, 0.1111111111111111, 0.2222222222222222, 0.125, 0.125, 0.2, 0.06666666666666667, 0.25, 0.125, 0.125, 0.07692307692307693, 0.10344827586206896, 0.0625, 0.1111111111111111, 0.07142857142857142, 0.2, 0.2, 0.0, 0.2727272727272727, 0.0, 0.11764705882352941, 0.38461538461538464, 0.09090909090909091, 0.07692307692307693, 1.0, 0.07692307692307693, 0.38461538461538464, 0.0, 0.1111111111111111, 0.1111111111111111, 0.0, 0.1111111111111111, 0.0, 0.125, 0.13333333333333333, 0.06666666666666667, 0.125, 0.07142857142857142, 0.18181818181818182, 0.13333333333333333, 0.18518518518518517, 0.09090909090909091, 0.0625, 1.0, 0.14285714285714285, 0.2857142857142857, 0.25, 0.2857142857142857, 0.0, 0.125, 0.125, 0.07142857142857142, 0.0, 0.2222222222222222, 0.125, 0.14285714285714285, 0.14285714285714285, 0.14285714285714285, 0.2857142857142857, 0.1111111111111111, 0.15, 0.0, 0.07692307692307693, 0.0, 0.07692307692307693, 0.1111111111111111, 0.0, 0.09090909090909091, 0.3, 0.0, 0.375, 0.25, 0.047619047619047616, 0.0, 0.05, 0.0, 0.125, 0.0, 0.1, 0.2222222222222222, 0.14285714285714285, 0.2, 0.14285714285714285, 0.125, 0.14285714285714285, 0.375, 0.07142857142857142, 0.1, 0.25, 0.25, 0.2, 0.0, 0.07142857142857142, 0.17647058823529413, 0.1111111111111111, 0.125, 0.3333333333333333, 0.125, 0.125, 0.38461538461538464, 0.1, 0.23076923076923078, 0.125, 0.14285714285714285, 0.3, 0.14285714285714285, 0.0625, 0.0, 0.10526315789473684, 0.2, 0.0, 0.25, 0.0, 0.1, 0.08333333333333333, 0.16666666666666666, 0.3, 0.3076923076923077, 0.125, 0.14285714285714285, 0.125, 0.2, 0.125, 0.047619047619047616, 0.0, 0.07142857142857142, 0.0, 0.21428571428571427, 0.2, 0.2222222222222222, 0.1111111111111111, 0.125, 0.1111111111111111, 0.14285714285714285, 0.25, 0.0, 0.125, 0.1111111111111111, 0.2, 0.125, 0.2, 0.125, 0.125, 0.0, 0.0, 0.10526315789473684, 0.0, 0.0, 0.3, 0.375, 0.0, 0.38461538461538464, 0.1111111111111111, 0.14285714285714285, 0.2, 0.3333333333333333, 0.125, 0.125, 0.14285714285714285, 0.38461538461538464, 0.0, 0.2857142857142857, 0.2, 0.0, 0.1111111111111111, 0.4, 0.2, 0.2857142857142857, 0.375, 0.14285714285714285, 0.0, 0.0, 0.0, 0.25, 0.2222222222222222, 0.0, 0.125, 0.125, 0.125, 0.2727272727272727, 0.25, 0.2, 0.05263157894736842, 0.07142857142857142, 0.1, 0.2, 0.1111111111111111, 0.0, 0.14285714285714285, 0.1111111111111111, 0.125, 0.3, 0.1111111111111111, 0.0, 0.1111111111111111, 0.125, 0.0, 0.0, 0.14285714285714285, 0.1111111111111111, 0.2222222222222222, 0.0, 0.125, 0.0, 0.125, 0.1111111111111111, 0.3, 0.2857142857142857, 0.3], 'Roadie': [0.0, 0.0, 0.0, 0.0, 0.2, 0.0, 0.09090909090909091, 0.05263157894736842, 0.0, 0.04, 0.0, 0.0, 0.3333333333333333, 0.0, 0.0, 0.0, 0.0, 0.0, 0.0, 0.0, 0.0, 0.0, 0.5, 0.0, 0.04, 0.0, 0.0, 0.0, 0.2, 0.2, 0.0, 0.0, 0.0, 0.0, 0.09090909090909091, 0.0, 0.0, 0.14285714285714285, 0.0, 0.09090909090909091, 0.0, 0.0, 0.0, 0.0, 0.0, 0.0, 0.5, 0.1, 0.0, 0.0, 0.0, 0.16666666666666666, 0.1, 0.04, 0.0, 0.0, 0.14285714285714285, 1.0, 0.09090909090909091, 0.3333333333333333, 0.5, 0.0, 0.0, 0.09090909090909091, 0.0, 0.0, 0.0, 0.0, 1.0, 0.0, 0.0, 0.0, 0.0, 0.0, 0.0, 0.0, 0.0, 0.0, 0.07692307692307693, 0.0, 0.0, 0.16666666666666666, 0.0, 0.25, 0.0, 0.0, 0.0, 0.0, 0.0, 0.5, 0.0, 0.0, 0.0, 0.0, 0.058823529411764705, 0.0, 0.0, 0.0, 0.25, 0.0, 0.0, 0.0, 0.0, 0.2, 0.0, 0.0, 0.0, 0.0, 0.09090909090909091, 0.2, 0.0, 0.0, 0.09090909090909091, 0.06666666666666667, 0.1111111111111111, 0.0, 0.0, 0.0, 0.0, 0.0, 0.0, 0.0, 0.2, 0.0, 0.0, 0.0, 0.0, 0.0, 0.0, 0.0, 0.0, 0.0, 1.0, 0.0, 0.0, 0.5, 0.0, 0.0, 0.0, 0.0, 0.0, 0.0, 0.0, 0.0, 0.0, 0.0, 0.0, 0.0, 0.0, 0.0, 0.0, 0.0, 0.0, 0.0, 0.0, 0.0, 0.0, 0.0, 0.07142857142857142, 0.0, 0.0, 0.0, 0.25, 0.0, 0.09090909090909091, 0.0, 0.0, 0.2, 0.2, 0.0, 0.0, 0.0, 0.09090909090909091, 0.0, 0.0, 0.0, 0.0, 0.0, 0.14285714285714285, 0.058823529411764705, 0.5, 0.25, 0.0, 0.0, 0.0, 0.0, 0.0, 0.0, 0.0, 0.0, 0.5, 0.0, 0.0, 0.0, 0.0, 0.0, 0.0, 0.06666666666666667, 0.058823529411764705, 0.0, 0.0, 0.0, 0.0, 0.0, 0.0, 0.0, 0.0, 0.0, 0.0, 0.0, 0.0, 0.0, 0.0, 0.0, 0.0, 0.0, 0.0, 0.5, 0.0, 0.0, 0.5, 0.0], 'Research and Development Technician': [0.04, 0.07692307692307693, 0.18181818181818182, 0.09090909090909091, 0.23076923076923078, 0.13793103448275862, 1.0, 0.15384615384615385, 0.08333333333333333, 0.16129032258064516, 0.0, 0.047619047619047616, 0.2727272727272727, 0.09090909090909091, 0.16666666666666666, 0.25, 0.08333333333333333, 0.08333333333333333, 0.14285714285714285, 0.17647058823529413, 0.07692307692307693, 0.0, 0.08333333333333333, 0.125, 0.125, 0.10526315789473684, 0.14285714285714285, 0.05555555555555555, 0.14285714285714285, 0.14285714285714285, 0.09090909090909091, 0.058823529411764705, 0.0, 0.15, 0.2222222222222222, 0.12, 0.125, 0.2857142857142857, 0.058823529411764705, 0.2222222222222222, 0.0, 0.2727272727272727, 0.0, 0.0, 0.07692307692307693, 0.0, 0.08333333333333333, 0.23529411764705882, 0.05263157894736842, 0.08333333333333333, 0.05555555555555555, 0.21428571428571427, 0.23529411764705882, 0.16129032258064516, 0.14285714285714285, 0.10526315789473684, 0.2857142857142857, 0.09090909090909091, 1.0, 0.2727272727272727, 0.08333333333333333, 0.0, 0.18181818181818182, 0.1, 0.1875, 0.09090909090909091, 0.25, 0.08333333333333333, 0.09090909090909091, 0.0, 0.09090909090909091, 0.08333333333333333, 0.0, 0.22727272727272727, 0.08333333333333333, 0.125, 0.0, 0.058823529411764705, 0.14285714285714285, 0.0, 0.14285714285714285, 0.21428571428571427, 0.0, 0.15384615384615385, 0.11764705882352941, 0.04, 0.0, 0.13636363636363635, 0.09090909090909091, 0.08333333333333333, 0.0, 0.07142857142857142, 0.15384615384615385, 0.09090909090909091, 0.21739130434782608, 0.09090909090909091, 0.18181818181818182, 0.09090909090909091, 0.15384615384615385, 0.05555555555555555, 0.07142857142857142, 0.07692307692307693, 0.07692307692307693, 0.14285714285714285, 0.0, 0.05555555555555555, 0.09090909090909091, 0.0, 0.15789473684210525, 0.23076923076923078, 0.18181818181818182, 0.08333333333333333, 0.2222222222222222, 0.08333333333333333, 0.25, 0.08333333333333333, 0.0, 0.0625, 0.09090909090909091, 0.05, 0.09090909090909091, 0.041666666666666664, 0.14285714285714285, 0.08333333333333333, 0.07692307692307693, 0.09090909090909091, 0.15384615384615385, 0.0625, 0.125, 0.0625, 0.10526315789473684, 0.0, 0.09090909090909091, 0.08333333333333333, 0.23076923076923078, 0.08333333333333333, 0.04, 0.0, 0.05555555555555555, 0.0, 0.3125, 0.14285714285714285, 0.07142857142857142, 0.07692307692307693, 0.08333333333333333, 0.07692307692307693, 0.09090909090909091, 0.07692307692307693, 0.0, 0.18181818181818182, 0.0, 0.23076923076923078, 0.18181818181818182, 0.06666666666666667, 0.08333333333333333, 0.08333333333333333, 0.0, 0.0, 0.08695652173913043, 0.16666666666666666, 0.0, 0.0625, 0.15384615384615385, 0.18181818181818182, 0.2222222222222222, 0.07692307692307693, 0.0, 0.14285714285714285, 0.23076923076923078, 0.08333333333333333, 0.18181818181818182, 0.09090909090909091, 0.2222222222222222, 0.09090909090909091, 0.08333333333333333, 0.06666666666666667, 0.07692307692307693, 0.07692307692307693, 0.2, 0.21739130434782608, 0.18181818181818182, 0.15384615384615385, 0.09090909090909091, 0.07692307692307693, 0.0, 0.0, 0.07692307692307693, 0.25, 0.0, 0.08333333333333333, 0.08333333333333333, 0.08333333333333333, 0.125, 0.07692307692307693, 0.23076923076923078, 0.07317073170731707, 0.05555555555555555, 0.08333333333333333, 0.21739130434782608, 0.07692307692307693, 0.09090909090909091, 0.09090909090909091, 0.0, 0.08333333333333333, 0.0625, 0.07692307692307693, 0.08333333333333333, 0.0, 0.18181818181818182, 0.09090909090909091, 0.09090909090909091, 0.0, 0.07692307692307693, 0.15384615384615385, 0.0, 0.08333333333333333, 0.09090909090909091, 0.08333333333333333, 0.07692307692307693, 0.0625, 0.18181818181818182, 0.0625], 'Front Desk Attendant': [0.0, 0.2, 0.25, 0.0, 0.3333333333333333, 0.08695652173913043, 0.2727272727272727, 0.1, 0.25, 0.037037037037037035, 0.0, 0.0, 0.5, 0.0, 0.0, 0.16666666666666666, 0.0, 0.25, 0.14285714285714285, 0.0, 0.2, 0.0, 0.25, 0.0, 0.12, 0.08333333333333333, 0.06666666666666667, 0.0, 0.14285714285714285, 0.14285714285714285, 0.3333333333333333, 0.1111111111111111, 0.0, 0.15384615384615385, 0.16666666666666666, 0.05263157894736842, 0.0, 0.25, 0.0, 0.16666666666666666, 0.0, 0.2, 0.0, 0.0, 0.0, 0.0, 0.25, 0.08333333333333333, 0.0, 0.25, 0.0, 0.2857142857142857, 0.08333333333333333, 0.07692307692307693, 0.14285714285714285, 0.08333333333333333, 0.25, 0.3333333333333333, 0.2727272727272727, 1.0, 0.25, 0.0, 0.6666666666666666, 0.16666666666666666, 0.2222222222222222, 0.3333333333333333, 0.4, 0.25, 0.3333333333333333, 0.0, 0.3333333333333333, 0.25, 0.0, 0.11764705882352941, 0.25, 0.0, 0.0, 0.1111111111111111, 0.14285714285714285, 0.0, 0.14285714285714285, 0.2857142857142857, 0.0, 0.4, 0.0, 0.0, 0.0, 0.0625, 0.3333333333333333, 0.25, 0.0, 0.16666666666666666, 0.4, 0.0, 0.17647058823529413, 0.3333333333333333, 0.6666666666666666, 0.0, 0.16666666666666666, 0.0, 0.0, 0.2, 0.2, 0.14285714285714285, 0.0, 0.1, 0.14285714285714285, 0.0, 0.07692307692307693, 0.3333333333333333, 0.25, 0.25, 0.16666666666666666, 0.125, 0.3333333333333333, 0.25, 0.0, 0.125, 0.3333333333333333, 0.0, 0.3333333333333333, 0.0, 0.14285714285714285, 0.25, 0.2, 0.0, 0.0, 0.0, 0.25, 0.125, 0.08333333333333333, 0.0, 0.3333333333333333, 0.0, 0.3333333333333333, 0.25, 0.058823529411764705, 0.0, 0.1, 0.0, 0.18181818181818182, 0.3333333333333333, 0.16666666666666666, 0.2, 0.25, 0.2, 0.0, 0.2, 0.0, 0.6666666666666666, 0.0, 0.3333333333333333, 0.6666666666666666, 0.14285714285714285, 0.0, 0.25, 0.0, 0.0, 0.0625, 0.2, 0.0, 0.125, 0.4, 0.25, 0.16666666666666666, 0.2, 0.0, 0.14285714285714285, 0.3333333333333333, 0.25, 0.6666666666666666, 0.3333333333333333, 0.2727272727272727, 0.3333333333333333, 0.25, 0.14285714285714285, 0.2, 0.2, 0.42857142857142855, 0.17647058823529413, 0.25, 0.4, 0.3333333333333333, 0.2, 0.0, 0.0, 0.2, 0.4, 0.0, 0.0, 0.25, 0.25, 0.25, 0.2, 0.3333333333333333, 0.02857142857142857, 0.0, 0.058823529411764705, 0.17647058823529413, 0.2, 0.3333333333333333, 0.3333333333333333, 0.0, 0.25, 0.125, 0.2, 0.0, 0.0, 0.6666666666666666, 0.3333333333333333, 0.3333333333333333, 0.0, 0.2, 0.16666666666666666, 0.0, 0.0, 0.3333333333333333, 0.25, 0.2, 0.125, 0.25, 0.125], 'Human Resources Assistant': [0.0, 0.0, 0.0, 0.0, 0.4, 0.0, 0.08333333333333333, 0.05, 0.0, 0.038461538461538464, 0.0, 0.0, 0.25, 0.0, 0.0, 0.0, 0.0, 0.0, 0.0, 0.0, 0.0, 0.0, 0.3333333333333333, 0.0, 0.038461538461538464, 0.0, 0.0, 0.0, 0.16666666666666666, 0.16666666666666666, 0.0, 0.125, 0.0, 0.0, 0.08333333333333333, 0.0, 0.0, 0.2857142857142857, 0.0, 0.08333333333333333, 0.0, 0.0, 0.25, 0.0, 0.0, 0.0, 0.3333333333333333, 0.09090909090909091, 0.0, 0.0, 0.0, 0.14285714285714285, 0.09090909090909091, 0.038461538461538464, 0.0, 0.0, 0.2857142857142857, 0.5, 0.08333333333333333, 0.25, 1.0, 0.0, 0.0, 0.18181818181818182, 0.0, 0.0, 0.0, 0.0, 0.5, 0.0, 0.0, 0.0, 0.25, 0.0, 0.0, 0.0, 0.0, 0.0, 0.07142857142857142, 0.0, 0.0, 0.14285714285714285, 0.0, 0.2, 0.0, 0.0, 0.0, 0.0, 0.0, 0.3333333333333333, 0.0, 0.0, 0.2, 0.0, 0.05555555555555555, 0.0, 0.0, 0.0, 0.2, 0.0, 0.0, 0.0, 0.0, 0.16666666666666666, 0.0, 0.1111111111111111, 0.07142857142857142, 0.0, 0.08333333333333333, 0.16666666666666666, 0.0, 0.0, 0.08333333333333333, 0.0625, 0.1, 0.0, 0.5, 0.14285714285714285, 0.0, 0.0, 0.0, 0.0, 0.16666666666666666, 0.0, 0.0, 0.0, 0.2, 0.0, 0.125, 0.14285714285714285, 0.09090909090909091, 0.3333333333333333, 0.5, 0.3333333333333333, 0.0, 0.3333333333333333, 0.0, 0.0, 0.0, 0.0, 0.0, 0.0, 0.0, 0.25, 0.0, 0.25, 0.0, 0.0, 0.0, 0.0, 0.0, 0.0, 0.0, 0.0, 0.0, 0.0, 0.0, 0.0, 0.06666666666666667, 0.0, 0.0, 0.14285714285714285, 0.2, 0.0, 0.08333333333333333, 0.25, 0.0, 0.16666666666666666, 0.16666666666666666, 0.0, 0.0, 0.0, 0.18181818181818182, 0.0, 0.3333333333333333, 0.16666666666666666, 0.0, 0.25, 0.2857142857142857, 0.05555555555555555, 0.3333333333333333, 0.2, 0.0, 0.0, 0.0, 0.0, 0.0, 0.0, 0.0, 0.3333333333333333, 0.3333333333333333, 0.0, 0.125, 0.0, 0.0, 0.0, 0.0, 0.0625, 0.05555555555555555, 0.0, 0.0, 0.0, 0.0, 0.0, 0.14285714285714285, 0.25, 0.0, 0.0, 0.0, 0.0, 0.0, 0.0, 0.25, 0.2, 0.0, 0.3333333333333333, 0.0, 0.3333333333333333, 0.25, 0.14285714285714285, 0.3333333333333333, 0.14285714285714285], 'Station Agent': [0.1111111111111111, 0.0, 0.0, 0.0, 0.0, 0.17391304347826086, 0.0, 0.09090909090909091, 0.0, 0.1111111111111111, 0.0, 0.14285714285714285, 0.0, 0.0, 0.0, 0.0, 0.0, 0.0, 0.0, 0.07692307692307693, 0.0, 0.0, 0.0, 0.09090909090909091, 0.034482758620689655, 0.07142857142857142, 0.058823529411764705, 0.08333333333333333, 0.0, 0.0, 0.0, 0.0, 0.2, 0.13333333333333333, 0.06666666666666667, 0.1, 0.09090909090909091, 0.0, 0.2, 0.06666666666666667, 0.125, 0.0, 0.0, 0.16666666666666666, 0.14285714285714285, 0.16666666666666666, 0.0, 0.0, 0.07692307692307693, 0.16666666666666666, 0.08333333333333333, 0.0, 0.0, 0.1111111111111111, 0.0, 0.15384615384615385, 0.0, 0.0, 0.0, 0.0, 0.0, 1.0, 0.0, 0.0, 0.08333333333333333, 0.0, 0.0, 0.0, 0.0, 0.0, 0.0, 0.0, 0.14285714285714285, 0.0, 0.0, 0.09090909090909091, 0.1111111111111111, 0.09090909090909091, 0.0, 0.0, 0.1111111111111111, 0.0, 0.08333333333333333, 0.0, 0.08333333333333333, 0.0, 0.0, 0.11764705882352941, 0.0, 0.0, 0.2, 0.0, 0.0, 0.0, 0.047619047619047616, 0.0, 0.0, 0.0, 0.0, 0.08333333333333333, 0.125, 0.0, 0.14285714285714285, 0.0, 0.0, 0.08333333333333333, 0.058823529411764705, 0.0, 0.14285714285714285, 0.25, 0.0, 0.16666666666666666, 0.06666666666666667, 0.17647058823529413, 0.07692307692307693, 0.0, 0.0, 0.0, 0.0, 0.15384615384615385, 0.0, 0.05555555555555555, 0.0, 0.0, 0.0, 0.0, 0.0, 0.0, 0.09090909090909091, 0.0, 0.15384615384615385, 0.16666666666666666, 0.0, 0.0, 0.1111111111111111, 0.0, 0.05263157894736842, 0.16666666666666666, 0.08333333333333333, 0.1111111111111111, 0.07142857142857142, 0.1111111111111111, 0.125, 0.0, 0.0, 0.0, 0.0, 0.0, 0.0, 0.0, 0.0, 0.0, 0.0, 0.0, 0.0, 0.0, 0.0, 0.2, 0.05555555555555555, 0.0, 0.2222222222222222, 0.0, 0.0, 0.0, 0.06666666666666667, 0.0, 0.0, 0.0, 0.25, 0.0, 0.0, 0.0, 0.0, 0.0, 0.0, 0.25, 0.0, 0.0, 0.0, 0.047619047619047616, 0.0, 0.0, 0.0, 0.0, 0.0, 0.0, 0.14285714285714285, 0.0, 0.2, 0.0, 0.0, 0.0, 0.0, 0.14285714285714285, 0.1111111111111111, 0.08571428571428572, 0.0, 0.17647058823529413, 0.047619047619047616, 0.14285714285714285, 0.0, 0.0, 0.0, 0.16666666666666666, 0.0, 0.0, 0.0, 0.0, 0.0, 0.0, 0.0, 0.0, 0.0, 0.0, 0.2, 0.0, 0.0, 0.0, 0.0, 0.0, 0.0, 0.0], 'Sales and Marketing Coordinator': [0.0, 0.25, 0.3333333333333333, 0.0, 0.16666666666666666, 0.09090909090909091, 0.18181818181818182, 0.05, 0.3333333333333333, 0.0, 0.0, 0.0, 0.25, 0.0, 0.0, 0.2, 0.0, 0.3333333333333333, 0.16666666666666666, 0.0, 0.25, 0.0, 0.0, 0.0, 0.08, 0.09090909090909091, 0.07142857142857142, 0.0, 0.0, 0.0, 0.5, 0.125, 0.0, 0.16666666666666666, 0.08333333333333333, 0.05555555555555555, 0.0, 0.125, 0.0, 0.08333333333333333, 0.0, 0.25, 0.0, 0.0, 0.0, 0.0, 0.0, 0.0, 0.0, 0.3333333333333333, 0.0, 0.14285714285714285, 0.0, 0.038461538461538464, 0.16666666666666666, 0.09090909090909091, 0.125, 0.0, 0.18181818181818182, 0.6666666666666666, 0.0, 0.0, 1.0, 0.08333333333333333, 0.25, 0.5, 0.5, 0.3333333333333333, 0.0, 0.0, 0.5, 0.3333333333333333, 0.0, 0.125, 0.3333333333333333, 0.0, 0.0, 0.125, 0.07142857142857142, 0.0, 0.16666666666666666, 0.14285714285714285, 0.0, 0.2, 0.0, 0.0, 0.0, 0.06666666666666667, 0.5, 0.0, 0.0, 0.2, 0.5, 0.0, 0.11764705882352941, 0.5, 1.0, 0.0, 0.0, 0.0, 0.0, 0.25, 0.25, 0.0, 0.0, 0.1111111111111111, 0.15384615384615385, 0.0, 0.0, 0.16666666666666666, 0.3333333333333333, 0.3333333333333333, 0.08333333333333333, 0.0625, 0.2222222222222222, 0.3333333333333333, 0.0, 0.14285714285714285, 0.5, 0.0, 0.5, 0.0, 0.0, 0.3333333333333333, 0.25, 0.0, 0.0, 0.0, 0.2857142857142857, 0.14285714285714285, 0.09090909090909091, 0.0, 0.0, 0.0, 0.4, 0.0, 0.0625, 0.0, 0.1111111111111111, 0.0, 0.2, 0.4, 0.2, 0.25, 0.3333333333333333, 0.25, 0.0, 0.25, 0.0, 1.0, 0.0, 0.4, 1.0, 0.16666666666666666, 0.0, 0.3333333333333333, 0.0, 0.0, 0.0, 0.25, 0.0, 0.14285714285714285, 0.2, 0.3333333333333333, 0.08333333333333333, 0.25, 0.0, 0.0, 0.16666666666666666, 0.3333333333333333, 1.0, 0.5, 0.18181818181818182, 0.5, 0.3333333333333333, 0.16666666666666666, 0.25, 0.25, 0.2857142857142857, 0.11764705882352941, 0.0, 0.2, 0.5, 0.25, 0.0, 0.0, 0.25, 0.5, 0.0, 0.0, 0.0, 0.3333333333333333, 0.2857142857142857, 0.25, 0.4, 0.029411764705882353, 0.0, 0.0, 0.11764705882352941, 0.25, 0.5, 0.5, 0.0, 0.3333333333333333, 0.14285714285714285, 0.25, 0.0, 0.0, 1.0, 0.5, 0.5, 0.0, 0.25, 0.2, 0.0, 0.0, 0.5, 0.0, 0.25, 0.14285714285714285, 0.0, 0.14285714285714285], 'Solar Installers': [0.0, 0.0, 0.0, 0.0, 0.14285714285714285, 0.03125, 0.1, 0.034482758620689655, 0.0, 0.02857142857142857, 0.0, 0.0, 0.07692307692307693, 0.0, 0.0, 0.0, 0.0, 0.08333333333333333, 0.0, 0.0, 0.0, 0.0, 0.08333333333333333, 0.0, 0.058823529411764705, 0.05, 0.0, 0.0, 0.06666666666666667, 0.06666666666666667, 0.09090909090909091, 0.058823529411764705, 0.0, 0.045454545454545456, 0.047619047619047616, 0.0, 0.0, 0.125, 0.0, 0.047619047619047616, 0.0, 0.0, 0.16666666666666666, 0.0, 0.0, 0.0, 0.08333333333333333, 0.05, 0.0, 0.0, 0.0, 0.13333333333333333, 0.05, 0.02857142857142857, 0.06666666666666667, 0.05, 0.125, 0.09090909090909091, 0.1, 0.16666666666666666, 0.18181818181818182, 0.0, 0.08333333333333333, 1.0, 0.05555555555555555, 0.09090909090909091, 0.07142857142857142, 0.0, 0.09090909090909091, 0.0, 0.0, 0.0, 0.07692307692307693, 0.038461538461538464, 0.08333333333333333, 0.0, 0.0, 0.0, 0.043478260869565216, 0.0, 0.06666666666666667, 0.0625, 0.0, 0.07142857142857142, 0.0, 0.0, 0.0, 0.041666666666666664, 0.09090909090909091, 0.08333333333333333, 0.0, 0.07142857142857142, 0.15384615384615385, 0.0, 0.07692307692307693, 0.0, 0.08333333333333333, 0.0, 0.07142857142857142, 0.0, 0.0, 0.0, 0.0, 0.06666666666666667, 0.0, 0.11764705882352941, 0.09090909090909091, 0.0, 0.047619047619047616, 0.06666666666666667, 0.08333333333333333, 0.0, 0.047619047619047616, 0.04, 0.1111111111111111, 0.0, 0.09090909090909091, 0.0625, 0.0, 0.0, 0.09090909090909091, 0.0, 0.06666666666666667, 0.08333333333333333, 0.0, 0.0, 0.07142857142857142, 0.0, 0.125, 0.0625, 0.05, 0.08333333333333333, 0.09090909090909091, 0.08333333333333333, 0.06666666666666667, 0.08333333333333333, 0.0, 0.0, 0.0, 0.0, 0.05, 0.06666666666666667, 0.0, 0.16666666666666666, 0.0, 0.16666666666666666, 0.0, 0.0, 0.0, 0.08333333333333333, 0.0, 0.06666666666666667, 0.08333333333333333, 0.0, 0.0, 0.0, 0.0, 0.0, 0.041666666666666664, 0.07692307692307693, 0.0, 0.0625, 0.07142857142857142, 0.08333333333333333, 0.047619047619047616, 0.16666666666666666, 0.0, 0.06666666666666667, 0.06666666666666667, 0.0, 0.08333333333333333, 0.0, 0.15789473684210525, 0.09090909090909091, 0.08333333333333333, 0.06666666666666667, 0.07692307692307693, 0.16666666666666666, 0.2, 0.07692307692307693, 0.08333333333333333, 0.07142857142857142, 0.0, 0.07692307692307693, 0.0, 0.0, 0.0, 0.07142857142857142, 0.0, 0.08333333333333333, 0.08333333333333333, 0.0, 0.125, 0.0, 0.06666666666666667, 0.047619047619047616, 0.0, 0.08333333333333333, 0.07692307692307693, 0.0, 0.09090909090909091, 0.0, 0.0, 0.0, 0.0625, 0.16666666666666666, 0.0, 0.0, 0.08333333333333333, 0.09090909090909091, 0.09090909090909091, 0.0, 0.16666666666666666, 0.07142857142857142, 0.0, 0.08333333333333333, 0.09090909090909091, 0.08333333333333333, 0.16666666666666666, 0.0625, 0.08333333333333333, 0.0625], 'Environmental Project Analyst': [0.09523809523809523, 0.1, 0.1111111111111111, 0.0, 0.08333333333333333, 0.15384615384615385, 0.1875, 0.17391304347826086, 0.25, 0.13793103448275862, 0.0, 0.05555555555555555, 0.1, 0.0, 0.0, 0.2, 0.0, 0.1111111111111111, 0.18181818181818182, 0.13333333333333333, 0.1, 0.1111111111111111, 0.1111111111111111, 0.07142857142857142, 0.06451612903225806, 0.125, 0.16666666666666666, 0.14285714285714285, 0.08333333333333333, 0.08333333333333333, 0.125, 0.15384615384615385, 0.125, 0.3333333333333333, 0.26666666666666666, 0.19047619047619047, 0.07142857142857142, 0.07142857142857142, 0.07142857142857142, 0.26666666666666666, 0.09090909090909091, 0.2222222222222222, 0.1, 0.25, 0.2222222222222222, 0.1111111111111111, 0.1111111111111111, 0.058823529411764705, 0.0625, 0.25, 0.0, 0.16666666666666666, 0.058823529411764705, 0.2222222222222222, 0.18181818181818182, 0.2, 0.07142857142857142, 0.0, 0.1875, 0.2222222222222222, 0.0, 0.08333333333333333, 0.25, 0.05555555555555555, 1.0, 0.125, 0.2, 0.25, 0.0, 0.0, 0.125, 0.1111111111111111, 0.1, 0.3333333333333333, 0.1111111111111111, 0.07142857142857142, 0.0, 0.07142857142857142, 0.16666666666666666, 0.0, 0.08333333333333333, 0.16666666666666666, 0.0, 0.2, 0.14285714285714285, 0.045454545454545456, 0.08333333333333333, 0.29411764705882354, 0.125, 0.1111111111111111, 0.125, 0.09090909090909091, 0.2, 0.0, 0.3157894736842105, 0.125, 0.25, 0.0, 0.09090909090909091, 0.14285714285714285, 0.09090909090909091, 0.1, 0.2222222222222222, 0.08333333333333333, 0.1, 0.14285714285714285, 0.23529411764705882, 0.1, 0.05555555555555555, 0.18181818181818182, 0.1111111111111111, 0.25, 0.26666666666666666, 0.09523809523809523, 0.21428571428571427, 0.25, 0.0, 0.16666666666666666, 0.125, 0.058823529411764705, 0.125, 0.047619047619047616, 0.08333333333333333, 0.1111111111111111, 0.1, 0.125, 0.09090909090909091, 0.07692307692307693, 0.36363636363636365, 0.16666666666666666, 0.125, 0.1111111111111111, 0.0, 0.1111111111111111, 0.3, 0.1111111111111111, 0.21052631578947367, 0.21428571428571427, 0.23076923076923078, 0.18181818181818182, 0.38461538461538464, 0.3, 0.2, 0.1, 0.1111111111111111, 0.1, 0.0, 0.1, 0.0, 0.25, 0.1, 0.3, 0.25, 0.08333333333333333, 0.0, 0.1111111111111111, 0.0, 0.125, 0.047619047619047616, 0.2222222222222222, 0.16666666666666666, 0.16666666666666666, 0.2, 0.25, 0.26666666666666666, 0.1, 0.0, 0.08333333333333333, 0.18181818181818182, 0.25, 0.25, 0.125, 0.11764705882352941, 0.125, 0.1111111111111111, 0.3, 0.1, 0.1, 0.15384615384615385, 0.3157894736842105, 0.0, 0.2, 0.125, 0.1, 0.0, 0.0, 0.2222222222222222, 0.2, 0.125, 0.1111111111111111, 0.1111111111111111, 0.1111111111111111, 0.25, 0.2222222222222222, 0.3, 0.10810810810810811, 0.06666666666666667, 0.09523809523809523, 0.3157894736842105, 0.2222222222222222, 0.125, 0.125, 0.1, 0.25, 0.16666666666666666, 0.1, 0.0, 0.1, 0.25, 0.125, 0.125, 0.0, 0.1, 0.2, 0.125, 0.1111111111111111, 0.125, 0.1111111111111111, 0.1, 0.16666666666666666, 0.0, 0.16666666666666666], 'Travel Consultant': [0.0, 0.0, 0.0, 0.0, 0.0, 0.045454545454545456, 0.09090909090909091, 0.0, 0.0, 0.0, 0.0, 0.0, 0.0, 0.0, 0.0, 0.0, 0.0, 0.5, 0.0, 0.0, 0.0, 0.0, 0.0, 0.0, 0.04, 0.1, 0.0, 0.0, 0.0, 0.0, 1.0, 0.0, 0.0, 0.08333333333333333, 0.0, 0.0, 0.0, 0.0, 0.0, 0.0, 0.0, 0.0, 0.0, 0.0, 0.0, 0.0, 0.0, 0.0, 0.0, 0.0, 0.0, 0.16666666666666666, 0.0, 0.0, 0.2, 0.1, 0.0, 0.0, 0.09090909090909091, 0.3333333333333333, 0.0, 0.0, 0.5, 0.09090909090909091, 0.125, 1.0, 0.25, 0.0, 0.0, 0.0, 0.0, 0.0, 0.0, 0.0625, 0.5, 0.0, 0.0, 0.0, 0.0, 0.0, 0.2, 0.0, 0.0, 0.0, 0.0, 0.0, 0.0, 0.07142857142857142, 1.0, 0.0, 0.0, 0.25, 0.25, 0.0, 0.058823529411764705, 0.0, 0.5, 0.0, 0.0, 0.0, 0.0, 0.0, 0.0, 0.0, 0.0, 0.125, 0.07692307692307693, 0.0, 0.0, 0.0, 0.5, 0.0, 0.0, 0.0, 0.1111111111111111, 0.0, 0.0, 0.0, 0.0, 0.0, 1.0, 0.0, 0.0, 0.5, 0.0, 0.0, 0.0, 0.0, 0.14285714285714285, 0.0, 0.0, 0.0, 0.0, 0.0, 0.2, 0.0, 0.0, 0.0, 0.0, 0.0, 0.1, 0.2, 0.0, 0.3333333333333333, 0.0, 0.3333333333333333, 0.0, 0.0, 0.0, 0.5, 0.0, 0.2, 0.5, 0.0, 0.0, 0.0, 0.0, 0.0, 0.0, 0.3333333333333333, 0.0, 0.0, 0.0, 0.5, 0.0, 0.3333333333333333, 0.0, 0.0, 0.0, 0.0, 0.5, 0.0, 0.09090909090909091, 1.0, 0.0, 0.0, 0.3333333333333333, 0.3333333333333333, 0.14285714285714285, 0.058823529411764705, 0.0, 0.0, 0.0, 0.3333333333333333, 0.0, 0.0, 0.0, 0.25, 0.0, 0.0, 0.0, 0.0, 0.14285714285714285, 0.0, 0.2, 0.030303030303030304, 0.0, 0.0, 0.058823529411764705, 0.0, 1.0, 0.0, 0.0, 0.0, 0.0, 0.3333333333333333, 0.0, 0.0, 0.5, 1.0, 1.0, 0.0, 0.3333333333333333, 0.0, 0.0, 0.0, 1.0, 0.0, 0.3333333333333333, 0.0, 0.0, 0.0], 'Stationary Engineer': [0.0, 0.16666666666666666, 0.2, 0.0, 0.5, 0.13043478260869565, 0.25, 0.09523809523809523, 0.2, 0.03571428571428571, 0.0, 0.07142857142857142, 0.4, 0.25, 0.16666666666666666, 0.14285714285714285, 0.2, 0.2, 0.2857142857142857, 0.0, 0.16666666666666666, 0.0, 0.0, 0.0, 0.11538461538461539, 0.07692307692307693, 0.13333333333333333, 0.09090909090909091, 0.125, 0.125, 0.25, 0.1, 0.0, 0.23076923076923078, 0.15384615384615385, 0.10526315789473684, 0.0, 0.2222222222222222, 0.1, 0.15384615384615385, 0.0, 0.16666666666666666, 0.0, 0.0, 0.0, 0.0, 0.0, 0.0, 0.0, 0.2, 0.09090909090909091, 0.25, 0.0, 0.07407407407407407, 0.125, 0.16666666666666666, 0.2222222222222222, 0.0, 0.25, 0.4, 0.0, 0.0, 0.5, 0.07142857142857142, 0.2, 0.25, 1.0, 0.2, 0.0, 0.0, 0.25, 0.2, 0.0, 0.17647058823529413, 0.2, 0.0, 0.0, 0.1, 0.0625, 0.0, 0.2857142857142857, 0.25, 0.0, 0.14285714285714285, 0.09090909090909091, 0.0, 0.0, 0.125, 0.25, 0.0, 0.0, 0.14285714285714285, 0.3333333333333333, 0.0, 0.10526315789473684, 0.25, 0.5, 0.25, 0.14285714285714285, 0.09090909090909091, 0.14285714285714285, 0.16666666666666666, 0.16666666666666666, 0.125, 0.0, 0.09090909090909091, 0.13333333333333333, 0.0, 0.07142857142857142, 0.125, 0.5, 0.2, 0.15384615384615385, 0.05555555555555555, 0.3, 0.2, 0.0, 0.1111111111111111, 0.25, 0.07692307692307693, 0.25, 0.058823529411764705, 0.125, 0.2, 0.16666666666666666, 0.0, 0.0, 0.1111111111111111, 0.2222222222222222, 0.1111111111111111, 0.16666666666666666, 0.0, 0.0, 0.0, 0.2857142857142857, 0.0, 0.05555555555555555, 0.0, 0.09090909090909091, 0.0, 0.2727272727272727, 0.2857142857142857, 0.14285714285714285, 0.16666666666666666, 0.2, 0.16666666666666666, 0.0, 0.16666666666666666, 0.0, 0.5, 0.0, 0.2857142857142857, 0.5, 0.125, 0.0, 0.2, 0.0, 0.0, 0.058823529411764705, 0.16666666666666666, 0.0, 0.1111111111111111, 0.14285714285714285, 0.2, 0.15384615384615385, 0.16666666666666666, 0.0, 0.125, 0.125, 0.2, 0.5, 0.25, 0.15384615384615385, 0.25, 0.2, 0.125, 0.16666666666666666, 0.16666666666666666, 0.2222222222222222, 0.10526315789473684, 0.2, 0.14285714285714285, 0.25, 0.16666666666666666, 0.0, 0.0, 0.16666666666666666, 1.0, 0.0, 0.0, 0.0, 0.2, 0.2222222222222222, 0.16666666666666666, 0.2857142857142857, 0.05714285714285714, 0.09090909090909091, 0.05555555555555555, 0.10526315789473684, 0.16666666666666666, 0.25, 0.25, 0.0, 0.2, 0.1111111111111111, 0.16666666666666666, 0.0, 0.0, 0.5, 0.25, 0.25, 0.0, 0.16666666666666666, 0.14285714285714285, 0.0, 0.0, 0.25, 0.0, 0.16666666666666666, 0.1111111111111111, 0.2, 0.1111111111111111], 'Material Handler': [0.0625, 0.25, 0.3333333333333333, 0.0, 0.16666666666666666, 0.09090909090909091, 0.08333333333333333, 0.10526315789473684, 0.3333333333333333, 0.038461538461538464, 0.0, 0.08333333333333333, 0.25, 0.0, 0.0, 0.2, 0.0, 0.0, 0.16666666666666666, 0.0, 0.25, 0.0, 0.0, 0.0, 0.038461538461538464, 0.09090909090909091, 0.15384615384615385, 0.1111111111111111, 0.0, 0.0, 0.0, 0.125, 0.0, 0.07692307692307693, 0.08333333333333333, 0.11764705882352941, 0.0, 0.125, 0.0, 0.08333333333333333, 0.0, 0.25, 0.0, 0.0, 0.0, 0.0, 0.0, 0.0, 0.1, 0.3333333333333333, 0.0, 0.0, 0.0, 0.08, 0.0, 0.0, 0.125, 0.0, 0.08333333333333333, 0.25, 0.0, 0.0, 0.3333333333333333, 0.0, 0.25, 0.0, 0.2, 1.0, 0.0, 0.0, 0.5, 0.3333333333333333, 0.0, 0.058823529411764705, 0.0, 0.0, 0.0, 0.125, 0.07142857142857142, 0.0, 0.0, 0.14285714285714285, 0.0, 0.2, 0.1111111111111111, 0.0, 0.0, 0.06666666666666667, 0.0, 0.0, 0.0, 0.0, 0.2, 0.0, 0.05555555555555555, 0.5, 0.3333333333333333, 0.0, 0.0, 0.1111111111111111, 0.2, 0.25, 0.25, 0.0, 0.0, 0.0, 0.07142857142857142, 0.0, 0.0, 0.16666666666666666, 0.0, 0.3333333333333333, 0.08333333333333333, 0.13333333333333333, 0.1, 0.3333333333333333, 0.0, 0.14285714285714285, 0.5, 0.0, 0.0, 0.06666666666666667, 0.0, 0.0, 0.25, 0.0, 0.0, 0.14285714285714285, 0.125, 0.14285714285714285, 0.09090909090909091, 0.0, 0.0, 0.0, 0.16666666666666666, 0.0, 0.13333333333333333, 0.1, 0.25, 0.0, 0.09090909090909091, 0.16666666666666666, 0.2, 0.0, 0.3333333333333333, 0.0, 0.0, 0.25, 0.0, 0.3333333333333333, 0.0, 0.16666666666666666, 0.3333333333333333, 0.16666666666666666, 0.0, 0.3333333333333333, 0.0, 0.0, 0.06666666666666667, 0.0, 0.14285714285714285, 0.14285714285714285, 0.2, 0.0, 0.08333333333333333, 0.0, 0.0, 0.0, 0.16666666666666666, 0.3333333333333333, 0.3333333333333333, 0.5, 0.08333333333333333, 0.0, 0.3333333333333333, 0.16666666666666666, 0.0, 0.0, 0.125, 0.05555555555555555, 0.0, 0.2, 0.5, 0.0, 0.0, 0.0, 0.25, 0.2, 0.0, 0.0, 0.0, 0.3333333333333333, 0.125, 0.25, 0.16666666666666666, 0.029411764705882353, 0.1111111111111111, 0.0, 0.05555555555555555, 0.25, 0.0, 0.5, 0.0, 0.3333333333333333, 0.14285714285714285, 0.0, 0.0, 0.0, 0.3333333333333333, 0.0, 0.0, 0.0, 0.0, 0.2, 0.0, 0.0, 0.0, 0.0, 0.0, 0.14285714285714285, 0.0, 0.14285714285714285], 'Healthcare Business Intelligence Manager': [0.0, 0.0, 0.0, 0.0, 0.2, 0.0, 0.09090909090909091, 0.05263157894736842, 0.0, 0.04, 0.0, 0.0, 0.3333333333333333, 0.0, 0.0, 0.0, 0.0, 0.0, 0.0, 0.0, 0.0, 0.0, 0.5, 0.0, 0.04, 0.0, 0.0, 0.0, 0.2, 0.2, 0.0, 0.0, 0.0, 0.0, 0.09090909090909091, 0.0, 0.0, 0.14285714285714285, 0.0, 0.09090909090909091, 0.0, 0.0, 0.0, 0.0, 0.0, 0.0, 0.5, 0.1, 0.0, 0.0, 0.0, 0.16666666666666666, 0.1, 0.04, 0.0, 0.0, 0.14285714285714285, 1.0, 0.09090909090909091, 0.3333333333333333, 0.5, 0.0, 0.0, 0.09090909090909091, 0.0, 0.0, 0.0, 0.0, 1.0, 0.0, 0.0, 0.0, 0.0, 0.0, 0.0, 0.0, 0.0, 0.0, 0.07692307692307693, 0.0, 0.0, 0.16666666666666666, 0.0, 0.25, 0.0, 0.0, 0.0, 0.0, 0.0, 0.5, 0.0, 0.0, 0.0, 0.0, 0.058823529411764705, 0.0, 0.0, 0.0, 0.25, 0.0, 0.0, 0.0, 0.0, 0.2, 0.0, 0.0, 0.0, 0.0, 0.09090909090909091, 0.2, 0.0, 0.0, 0.09090909090909091, 0.06666666666666667, 0.1111111111111111, 0.0, 0.0, 0.0, 0.0, 0.0, 0.0, 0.0, 0.2, 0.0, 0.0, 0.0, 0.0, 0.0, 0.0, 0.0, 0.0, 0.0, 1.0, 0.0, 0.0, 0.5, 0.0, 0.0, 0.0, 0.0, 0.0, 0.0, 0.0, 0.0, 0.0, 0.0, 0.0, 0.0, 0.0, 0.0, 0.0, 0.0, 0.0, 0.0, 0.0, 0.0, 0.0, 0.0, 0.07142857142857142, 0.0, 0.0, 0.0, 0.25, 0.0, 0.09090909090909091, 0.0, 0.0, 0.2, 0.2, 0.0, 0.0, 0.0, 0.09090909090909091, 0.0, 0.0, 0.0, 0.0, 0.0, 0.14285714285714285, 0.058823529411764705, 0.5, 0.25, 0.0, 0.0, 0.0, 0.0, 0.0, 0.0, 0.0, 0.0, 0.5, 0.0, 0.0, 0.0, 0.0, 0.0, 0.0, 0.06666666666666667, 0.058823529411764705, 0.0, 0.0, 0.0, 0.0, 0.0, 0.0, 0.0, 0.0, 0.0, 0.0, 0.0, 0.0, 0.0, 0.0, 0.0, 0.0, 0.0, 0.0, 0.5, 0.0, 0.0, 0.5, 0.0], 'Senior Competitive Intelligence Manager': [0.0, 0.3333333333333333, 0.0, 0.0, 0.0, 0.0, 0.0, 0.0, 0.0, 0.0, 0.0, 0.0, 0.0, 0.0, 0.0, 0.0, 0.0, 0.5, 0.0, 0.0, 0.3333333333333333, 0.5, 0.0, 0.0, 0.0, 0.0, 0.0, 0.0, 0.0, 0.0, 0.0, 0.14285714285714285, 0.0, 0.0, 0.09090909090909091, 0.0, 0.0, 0.14285714285714285, 0.0, 0.09090909090909091, 0.0, 0.0, 0.0, 0.0, 0.3333333333333333, 0.0, 0.0, 0.0, 0.0, 0.0, 0.0, 0.0, 0.0, 0.04, 0.2, 0.0, 0.14285714285714285, 0.0, 0.0, 0.0, 0.0, 0.0, 0.0, 0.0, 0.0, 0.0, 0.0, 0.0, 0.0, 1.0, 0.0, 0.5, 0.0, 0.0625, 0.0, 0.0, 0.0, 0.0, 0.0, 0.0, 0.0, 0.0, 0.0, 0.25, 0.125, 0.06666666666666667, 0.0, 0.0, 0.0, 0.0, 0.0, 0.25, 0.0, 0.0, 0.058823529411764705, 0.0, 0.0, 0.0, 0.25, 0.0, 0.0, 0.3333333333333333, 0.3333333333333333, 0.0, 0.0, 0.0, 0.07692307692307693, 0.3333333333333333, 0.0, 0.0, 0.0, 0.0, 0.09090909090909091, 0.0, 0.0, 0.0, 0.0, 0.16666666666666666, 0.0, 0.0, 0.0, 0.07142857142857142, 0.0, 0.0, 0.3333333333333333, 0.0, 0.0, 0.0, 0.0, 0.16666666666666666, 0.1, 0.0, 0.0, 0.0, 0.0, 0.0, 0.0, 0.0, 0.0, 0.0, 0.0, 0.2, 0.25, 0.0, 0.0, 0.0, 0.0, 0.3333333333333333, 0.0, 0.0, 0.3333333333333333, 0.0, 0.0, 0.2, 0.5, 0.0, 0.0, 0.0, 0.0, 0.0, 0.0, 0.16666666666666666, 0.25, 0.0, 0.09090909090909091, 0.0, 1.0, 0.0, 0.0, 0.0, 0.0, 0.0, 0.09090909090909091, 0.0, 0.0, 0.0, 0.0, 0.0, 0.14285714285714285, 0.058823529411764705, 0.0, 0.25, 0.0, 0.0, 0.0, 0.0, 0.3333333333333333, 0.0, 0.0, 0.0, 0.0, 0.0, 0.14285714285714285, 0.3333333333333333, 0.0, 0.0, 0.0, 0.0, 0.058823529411764705, 0.0, 0.0, 0.0, 0.3333333333333333, 0.0, 0.16666666666666666, 0.0, 0.0, 0.3333333333333333, 0.0, 0.0, 0.0, 1.0, 0.0, 0.0, 0.0, 0.0, 0.0, 0.0, 0.0, 0.16666666666666666, 0.0, 0.16666666666666666], 'Quality Assurance Technologist': [0.0, 0.3333333333333333, 0.5, 0.0, 0.2, 0.045454545454545456, 0.09090909090909091, 0.05263157894736842, 0.5, 0.0, 0.0, 0.0, 0.3333333333333333, 0.0, 0.0, 0.25, 0.0, 0.0, 0.2, 0.0, 0.3333333333333333, 0.0, 0.0, 0.0, 0.04, 0.0, 0.07692307692307693, 0.0, 0.0, 0.0, 0.0, 0.14285714285714285, 0.0, 0.08333333333333333, 0.09090909090909091, 0.058823529411764705, 0.0, 0.14285714285714285, 0.0, 0.09090909090909091, 0.0, 0.3333333333333333, 0.0, 0.0, 0.0, 0.0, 0.0, 0.0, 0.0, 0.5, 0.0, 0.0, 0.0, 0.04, 0.0, 0.0, 0.14285714285714285, 0.0, 0.09090909090909091, 0.3333333333333333, 0.0, 0.0, 0.5, 0.0, 0.125, 0.0, 0.25, 0.5, 0.0, 0.0, 1.0, 0.5, 0.0, 0.0625, 0.0, 0.0, 0.0, 0.14285714285714285, 0.07692307692307693, 0.0, 0.0, 0.16666666666666666, 0.0, 0.25, 0.0, 0.0, 0.0, 0.0, 0.0, 0.0, 0.0, 0.0, 0.25, 0.0, 0.058823529411764705, 1.0, 0.5, 0.0, 0.0, 0.0, 0.0, 0.3333333333333333, 0.3333333333333333, 0.0, 0.0, 0.0, 0.07692307692307693, 0.0, 0.0, 0.2, 0.0, 0.5, 0.09090909090909091, 0.06666666666666667, 0.1111111111111111, 0.5, 0.0, 0.16666666666666666, 1.0, 0.0, 0.0, 0.0, 0.0, 0.0, 0.3333333333333333, 0.0, 0.0, 0.0, 0.14285714285714285, 0.16666666666666666, 0.1, 0.0, 0.0, 0.0, 0.2, 0.0, 0.06666666666666667, 0.0, 0.125, 0.0, 0.1, 0.2, 0.25, 0.0, 0.5, 0.0, 0.0, 0.3333333333333333, 0.0, 0.5, 0.0, 0.2, 0.5, 0.2, 0.0, 0.5, 0.0, 0.0, 0.0, 0.0, 0.0, 0.16666666666666666, 0.25, 0.0, 0.09090909090909091, 0.0, 0.0, 0.0, 0.2, 0.5, 0.5, 1.0, 0.09090909090909091, 0.0, 0.5, 0.2, 0.0, 0.0, 0.14285714285714285, 0.058823529411764705, 0.0, 0.25, 1.0, 0.0, 0.0, 0.0, 0.3333333333333333, 0.25, 0.0, 0.0, 0.0, 0.5, 0.14285714285714285, 0.3333333333333333, 0.2, 0.0, 0.0, 0.0, 0.058823529411764705, 0.3333333333333333, 0.0, 1.0, 0.0, 0.5, 0.16666666666666666, 0.0, 0.0, 0.0, 0.5, 0.0, 0.0, 0.0, 0.0, 0.25, 0.0, 0.0, 0.0, 0.0, 0.0, 0.16666666666666666, 0.0, 0.16666666666666666], 'Component Engineer': [0.0, 0.6666666666666666, 0.3333333333333333, 0.0, 0.16666666666666666, 0.043478260869565216, 0.08333333333333333, 0.05, 0.3333333333333333, 0.0, 0.0, 0.0, 0.25, 0.0, 0.0, 0.2, 0.0, 0.3333333333333333, 0.16666666666666666, 0.0, 0.6666666666666666, 0.3333333333333333, 0.0, 0.0, 0.038461538461538464, 0.0, 0.07142857142857142, 0.0, 0.0, 0.0, 0.0, 0.2857142857142857, 0.0, 0.07692307692307693, 0.18181818181818182, 0.05555555555555555, 0.0, 0.2857142857142857, 0.0, 0.18181818181818182, 0.0, 0.25, 0.0, 0.0, 0.25, 0.0, 0.0, 0.0, 0.0, 0.3333333333333333, 0.0, 0.0, 0.0, 0.08, 0.16666666666666666, 0.0, 0.2857142857142857, 0.0, 0.08333333333333333, 0.25, 0.0, 0.0, 0.3333333333333333, 0.0, 0.1111111111111111, 0.0, 0.2, 0.3333333333333333, 0.0, 0.5, 0.5, 1.0, 0.0, 0.125, 0.0, 0.0, 0.0, 0.125, 0.07142857142857142, 0.0, 0.0, 0.14285714285714285, 0.0, 0.5, 0.1111111111111111, 0.0625, 0.0, 0.0, 0.0, 0.0, 0.0, 0.2, 0.2, 0.0, 0.11764705882352941, 0.5, 0.3333333333333333, 0.0, 0.2, 0.0, 0.0, 0.6666666666666666, 0.6666666666666666, 0.0, 0.0, 0.0, 0.15384615384615385, 0.25, 0.0, 0.16666666666666666, 0.0, 0.3333333333333333, 0.18181818181818182, 0.0625, 0.1, 0.3333333333333333, 0.0, 0.3333333333333333, 0.5, 0.0, 0.0, 0.06666666666666667, 0.0, 0.0, 0.6666666666666666, 0.0, 0.0, 0.0, 0.125, 0.3333333333333333, 0.2, 0.0, 0.0, 0.0, 0.16666666666666666, 0.0, 0.0625, 0.0, 0.1111111111111111, 0.0, 0.09090909090909091, 0.4, 0.5, 0.0, 0.3333333333333333, 0.0, 0.0, 0.6666666666666666, 0.0, 0.3333333333333333, 0.25, 0.16666666666666666, 0.3333333333333333, 0.4, 0.3333333333333333, 0.3333333333333333, 0.0, 0.0, 0.0, 0.0, 0.0, 0.3333333333333333, 0.5, 0.0, 0.18181818181818182, 0.0, 0.5, 0.0, 0.16666666666666666, 0.3333333333333333, 0.3333333333333333, 0.5, 0.18181818181818182, 0.0, 0.3333333333333333, 0.16666666666666666, 0.0, 0.0, 0.2857142857142857, 0.11764705882352941, 0.0, 0.5, 0.5, 0.0, 0.0, 0.0, 0.6666666666666666, 0.2, 0.0, 0.0, 0.0, 0.3333333333333333, 0.2857142857142857, 0.6666666666666666, 0.16666666666666666, 0.0, 0.0, 0.0, 0.11764705882352941, 0.25, 0.0, 0.5, 0.25, 0.3333333333333333, 0.3333333333333333, 0.0, 0.0, 0.25, 0.3333333333333333, 0.0, 0.0, 0.5, 0.0, 0.2, 0.0, 0.0, 0.0, 0.0, 0.0, 0.3333333333333333, 0.0, 0.3333333333333333], 'Threat Intelligence Analyst': [0.0, 0.0, 0.0, 0.0, 0.14285714285714285, 0.041666666666666664, 0.0, 0.047619047619047616, 0.0, 0.037037037037037035, 0.0, 0.07692307692307693, 0.0, 0.0, 0.0, 0.0, 0.0, 0.0, 0.0, 0.09090909090909091, 0.0, 0.0, 0.0, 0.1111111111111111, 0.0, 0.0, 0.0, 0.0, 0.0, 0.0, 0.0, 0.1111111111111111, 0.3333333333333333, 0.07142857142857142, 0.07692307692307693, 0.05263157894736842, 0.1111111111111111, 0.1111111111111111, 0.1111111111111111, 0.07692307692307693, 0.0, 0.0, 0.2, 0.25, 0.2, 0.25, 0.0, 0.0, 0.0, 0.25, 0.0, 0.0, 0.0, 0.037037037037037035, 0.0, 0.08333333333333333, 0.1111111111111111, 0.0, 0.0, 0.0, 0.25, 0.14285714285714285, 0.0, 0.07692307692307693, 0.1, 0.0, 0.0, 0.0, 0.0, 0.0, 0.0, 0.0, 1.0, 0.0, 0.0, 0.1111111111111111, 0.0, 0.0, 0.0, 0.0, 0.0, 0.0, 0.0, 0.0, 0.0, 0.0, 0.14285714285714285, 0.0625, 0.0, 0.0, 0.3333333333333333, 0.0, 0.16666666666666666, 0.0, 0.05263157894736842, 0.0, 0.0, 0.0, 0.0, 0.0, 0.0, 0.0, 0.2, 0.0, 0.0, 0.2222222222222222, 0.14285714285714285, 0.0, 0.0, 0.14285714285714285, 0.0, 0.25, 0.07692307692307693, 0.0, 0.09090909090909091, 0.0, 0.3333333333333333, 0.125, 0.0, 0.08333333333333333, 0.0, 0.0, 0.0, 0.0, 0.0, 0.0, 0.16666666666666666, 0.0, 0.25, 0.125, 0.18181818181818182, 0.6666666666666666, 0.0, 0.25, 0.14285714285714285, 0.0, 0.0, 0.09090909090909091, 0.0, 0.14285714285714285, 0.08333333333333333, 0.14285714285714285, 0.16666666666666666, 0.2, 0.0, 0.2, 0.0, 0.0, 0.0, 0.0, 0.0, 0.0, 0.0, 0.0, 0.0, 0.0, 0.0, 0.3333333333333333, 0.0625, 0.0, 0.0, 0.125, 0.0, 0.0, 0.07692307692307693, 0.2, 0.0, 0.0, 0.14285714285714285, 0.0, 0.0, 0.0, 0.07692307692307693, 0.0, 0.25, 0.3333333333333333, 0.0, 0.2, 0.1111111111111111, 0.05263157894736842, 0.0, 0.0, 0.0, 0.0, 0.0, 0.0, 0.2, 0.0, 0.3333333333333333, 0.25, 0.0, 0.0, 0.1111111111111111, 0.2, 0.14285714285714285, 0.02857142857142857, 0.0, 0.058823529411764705, 0.05263157894736842, 0.2, 0.0, 0.0, 0.0, 0.25, 0.125, 0.2, 0.0, 0.0, 0.0, 0.0, 0.0, 0.0, 0.2, 0.16666666666666666, 0.3333333333333333, 0.25, 0.0, 0.0, 0.2, 0.125, 0.0, 0.125], 'Staff Assistant - Accounting': [0.06896551724137931, 0.11764705882352941, 0.058823529411764705, 0.0, 0.10526315789473684, 0.1875, 0.22727272727272727, 0.12903225806451613, 0.125, 0.17142857142857143, 0.058823529411764705, 0.038461538461538464, 0.11764705882352941, 0.0625, 0.05555555555555555, 0.17647058823529413, 0.125, 0.125, 0.16666666666666666, 0.13636363636363635, 0.11764705882352941, 0.125, 0.058823529411764705, 0.09523809523809523, 0.10810810810810811, 0.08333333333333333, 0.16, 0.2, 0.10526315789473684, 0.10526315789473684, 0.0625, 0.2777777777777778, 0.0, 0.21739130434782608, 0.2857142857142857, 0.1, 0.09523809523809523, 0.15, 0.045454545454545456, 0.2857142857142857, 0.05263157894736842, 0.1875, 0.05555555555555555, 0.058823529411764705, 0.11764705882352941, 0.058823529411764705, 0.058823529411764705, 0.08333333333333333, 0.041666666666666664, 0.058823529411764705, 0.043478260869565216, 0.15789473684210525, 0.08333333333333333, 0.20588235294117646, 0.16666666666666666, 0.13043478260869565, 0.15, 0.0, 0.22727272727272727, 0.11764705882352941, 0.0, 0.0, 0.125, 0.038461538461538464, 0.3333333333333333, 0.0625, 0.17647058823529413, 0.058823529411764705, 0.0, 0.0625, 0.0625, 0.125, 0.0, 1.0, 0.058823529411764705, 0.09523809523809523, 0.0, 0.09523809523809523, 0.11538461538461539, 0.058823529411764705, 0.10526315789473684, 0.15789473684210525, 0.043478260869565216, 0.17647058823529413, 0.14285714285714285, 0.10714285714285714, 0.05, 0.15384615384615385, 0.0625, 0.058823529411764705, 0.0, 0.1111111111111111, 0.1111111111111111, 0.0, 0.2692307692307692, 0.0625, 0.125, 0.0625, 0.17647058823529413, 0.2, 0.1111111111111111, 0.1875, 0.11764705882352941, 0.10526315789473684, 0.05555555555555555, 0.09090909090909091, 0.2608695652173913, 0.1875, 0.125, 0.05, 0.125, 0.058823529411764705, 0.2857142857142857, 0.03333333333333333, 0.13636363636363635, 0.125, 0.0, 0.2222222222222222, 0.0625, 0.08333333333333333, 0.0625, 0.1111111111111111, 0.10526315789473684, 0.058823529411764705, 0.1875, 0.0625, 0.17647058823529413, 0.1, 0.15, 0.2222222222222222, 0.18181818181818182, 0.0, 0.0, 0.058823529411764705, 0.10526315789473684, 0.058823529411764705, 0.14814814814814814, 0.08695652173913043, 0.09090909090909091, 0.05, 0.23809523809523808, 0.16666666666666666, 0.17647058823529413, 0.05555555555555555, 0.125, 0.05555555555555555, 0.0, 0.11764705882352941, 0.0, 0.125, 0.11764705882352941, 0.23529411764705882, 0.125, 0.10526315789473684, 0.125, 0.058823529411764705, 0.0, 0.0, 0.07142857142857142, 0.11764705882352941, 0.047619047619047616, 0.2222222222222222, 0.17647058823529413, 0.125, 0.2857142857142857, 0.05555555555555555, 0.0625, 0.10526315789473684, 0.05, 0.125, 0.125, 0.0625, 0.17391304347826086, 0.0625, 0.058823529411764705, 0.10526315789473684, 0.05555555555555555, 0.05555555555555555, 0.15, 0.2692307692307692, 0.058823529411764705, 0.17647058823529413, 0.0625, 0.05555555555555555, 0.0, 0.0, 0.11764705882352941, 0.17647058823529413, 0.0, 0.058823529411764705, 0.058823529411764705, 0.058823529411764705, 0.21052631578947367, 0.11764705882352941, 0.10526315789473684, 0.13953488372093023, 0.09090909090909091, 0.06896551724137931, 0.2692307692307692, 0.05555555555555555, 0.0625, 0.0625, 0.1875, 0.058823529411764705, 0.2222222222222222, 0.05555555555555555, 0.058823529411764705, 0.11764705882352941, 0.125, 0.0625, 0.0625, 0.0625, 0.05555555555555555, 0.1111111111111111, 0.0, 0.058823529411764705, 0.0625, 0.058823529411764705, 0.05555555555555555, 0.2222222222222222, 0.058823529411764705, 0.2222222222222222], 'Metal Building Erector': [0.0, 0.0, 0.0, 0.0, 0.0, 0.043478260869565216, 0.08333333333333333, 0.0, 0.0, 0.0, 0.0, 0.0, 0.0, 0.0, 0.0, 0.0, 0.0, 0.3333333333333333, 0.0, 0.0, 0.0, 0.0, 0.0, 0.0, 0.08, 0.09090909090909091, 0.0, 0.0, 0.0, 0.0, 0.5, 0.0, 0.0, 0.07692307692307693, 0.0, 0.0, 0.0, 0.0, 0.0, 0.0, 0.0, 0.0, 0.0, 0.0, 0.0, 0.0, 0.0, 0.0, 0.0, 0.0, 0.0, 0.14285714285714285, 0.0, 0.0, 0.16666666666666666, 0.09090909090909091, 0.0, 0.0, 0.08333333333333333, 0.25, 0.0, 0.0, 0.3333333333333333, 0.08333333333333333, 0.1111111111111111, 0.5, 0.2, 0.0, 0.0, 0.0, 0.0, 0.0, 0.0, 0.058823529411764705, 1.0, 0.0, 0.0, 0.0, 0.0, 0.0, 0.16666666666666666, 0.0, 0.0, 0.0, 0.0, 0.0, 0.0, 0.06666666666666667, 0.5, 0.0, 0.0, 0.2, 0.2, 0.0, 0.05555555555555555, 0.0, 0.3333333333333333, 0.0, 0.0, 0.0, 0.0, 0.0, 0.0, 0.0, 0.0, 0.1111111111111111, 0.07142857142857142, 0.0, 0.0, 0.0, 0.3333333333333333, 0.0, 0.0, 0.0, 0.1, 0.0, 0.0, 0.0, 0.0, 0.0, 0.5, 0.0, 0.0, 0.3333333333333333, 0.0, 0.0, 0.0, 0.0, 0.125, 0.0, 0.0, 0.0, 0.0, 0.0, 0.16666666666666666, 0.0, 0.0, 0.0, 0.0, 0.0, 0.09090909090909091, 0.16666666666666666, 0.0, 0.25, 0.0, 0.25, 0.0, 0.0, 0.0, 0.3333333333333333, 0.0, 0.16666666666666666, 0.3333333333333333, 0.0, 0.0, 0.3333333333333333, 0.0, 0.0, 0.0, 0.25, 0.0, 0.0, 0.0, 0.3333333333333333, 0.0, 0.25, 0.0, 0.0, 0.0, 0.0, 0.3333333333333333, 0.0, 0.08333333333333333, 0.5, 0.0, 0.0, 0.25, 0.25, 0.125, 0.05555555555555555, 0.0, 0.0, 0.0, 0.25, 0.0, 0.0, 0.0, 0.2, 0.0, 0.0, 0.0, 0.0, 0.125, 0.0, 0.16666666666666666, 0.029411764705882353, 0.0, 0.0, 0.05555555555555555, 0.0, 0.5, 0.0, 0.0, 0.0, 0.0, 0.25, 0.0, 0.0, 0.3333333333333333, 0.5, 0.5, 0.0, 0.25, 0.0, 0.0, 0.0, 0.5, 0.0, 0.25, 0.0, 0.0, 0.0], 'Environmental Services Representative': [0.0, 0.0, 0.125, 0.14285714285714285, 0.0, 0.11538461538461539, 0.125, 0.08333333333333333, 0.0, 0.10344827586206896, 0.0, 0.0, 0.0, 0.0, 0.0, 0.1, 0.0, 0.0, 0.0, 0.7777777777777778, 0.0, 0.0, 0.0, 1.0, 0.0, 0.0625, 0.0, 0.0, 0.0, 0.0, 0.0, 0.0, 0.14285714285714285, 0.05555555555555555, 0.125, 0.043478260869565216, 1.0, 0.07692307692307693, 0.07692307692307693, 0.125, 0.0, 0.1111111111111111, 0.0, 0.125, 0.1111111111111111, 0.125, 0.0, 0.13333333333333333, 0.06666666666666667, 0.125, 0.0, 0.0, 0.13333333333333333, 0.06666666666666667, 0.0, 0.0625, 0.07692307692307693, 0.0, 0.125, 0.0, 0.0, 0.09090909090909091, 0.0, 0.0, 0.07142857142857142, 0.0, 0.0, 0.0, 0.0, 0.0, 0.0, 0.0, 0.1111111111111111, 0.09523809523809523, 0.0, 1.0, 0.0, 0.0, 0.0, 0.0, 0.0, 0.0, 0.0, 0.0, 0.07142857142857142, 0.0, 0.0, 0.05, 0.0, 0.0, 0.14285714285714285, 0.0, 0.0, 0.14285714285714285, 0.09090909090909091, 0.0, 0.0, 0.0, 0.0, 0.0, 0.0, 0.0, 0.1111111111111111, 0.0, 0.0, 0.15384615384615385, 0.1111111111111111, 0.0, 0.0, 0.2, 0.0, 0.125, 0.125, 0.0, 0.06666666666666667, 0.0, 0.0, 0.0, 0.0, 0.0, 0.0, 0.0, 0.0, 0.0, 0.0, 0.0, 0.1, 0.0, 0.07692307692307693, 0.0, 0.0625, 0.125, 0.0, 0.0, 0.2, 0.0, 0.0, 0.06666666666666667, 0.0, 0.09090909090909091, 0.13333333333333333, 0.09090909090909091, 0.1, 0.0, 0.0, 0.0, 0.14285714285714285, 0.0, 0.0, 0.0, 0.0, 0.0, 0.0, 0.0, 0.125, 0.0, 0.0, 0.14285714285714285, 0.0, 0.0, 0.0, 0.0, 0.0, 0.0, 0.125, 0.0, 0.0, 0.0, 0.2, 0.0, 0.0, 0.0, 0.058823529411764705, 0.0, 0.0, 0.09090909090909091, 0.0, 0.0, 0.0, 0.09090909090909091, 0.0, 0.0, 0.0, 0.0, 0.0, 0.0, 0.1111111111111111, 0.0, 0.14285714285714285, 0.0, 0.0, 0.0, 0.0, 0.1111111111111111, 0.2, 0.02564102564102564, 0.0, 0.047619047619047616, 0.09090909090909091, 0.1111111111111111, 0.0, 0.0, 0.0, 0.125, 0.0, 0.0, 0.125, 0.0, 0.0, 0.0, 0.0, 0.0, 0.0, 0.0, 0.14285714285714285, 0.0, 0.0, 0.0, 0.0, 0.0, 0.0, 0.0], 'Staff Engineer': [0.1111111111111111, 0.0, 0.0, 0.0, 0.0, 0.038461538461538464, 0.0, 0.14285714285714285, 0.0, 0.2, 0.0, 0.06666666666666667, 0.0, 0.0, 0.0, 0.0, 0.0, 0.0, 0.0, 0.0, 0.0, 0.0, 0.0, 0.0, 0.034482758620689655, 0.07142857142857142, 0.058823529411764705, 0.08333333333333333, 0.0, 0.0, 0.0, 0.0, 0.0, 0.0625, 0.0, 0.1, 0.0, 0.0, 0.09090909090909091, 0.0, 0.125, 0.0, 0.0, 0.0, 0.0, 0.0, 0.0, 0.0, 0.07692307692307693, 0.0, 0.18181818181818182, 0.0, 0.0, 0.07142857142857142, 0.0, 0.07142857142857142, 0.0, 0.0, 0.0, 0.0, 0.0, 0.1111111111111111, 0.0, 0.0, 0.0, 0.0, 0.0, 0.0, 0.0, 0.0, 0.0, 0.0, 0.0, 0.0, 0.0, 0.0, 1.0, 0.09090909090909091, 0.058823529411764705, 0.0, 0.1111111111111111, 0.0, 0.3, 0.0, 0.0, 0.17647058823529413, 0.0, 0.0, 0.0, 0.0, 0.0, 0.0, 0.0, 0.0, 0.0, 0.0, 0.0, 0.0, 0.0, 0.08333333333333333, 0.125, 0.0, 0.0, 0.0, 0.0, 0.0, 0.0, 0.0, 0.0, 0.1111111111111111, 0.0, 0.0, 0.0, 0.05263157894736842, 0.0, 0.0, 0.0, 0.0, 0.0, 0.25, 0.0, 0.05555555555555555, 0.0, 0.0, 0.0, 0.0, 0.0, 0.0, 0.0, 0.0, 0.0, 0.0, 0.0, 0.0, 0.0, 0.0, 0.1111111111111111, 0.0, 0.08333333333333333, 0.0, 0.0, 0.0, 0.0, 0.0, 0.0, 0.0, 0.0, 0.0, 0.0, 0.0, 0.0, 0.0, 0.0, 0.0, 0.0, 0.0, 0.0, 0.0, 0.05555555555555555, 0.0, 0.1, 0.0, 0.0, 0.0, 0.0, 0.0, 0.0, 0.0, 0.1111111111111111, 0.0, 0.0, 0.0, 0.0, 0.0, 0.0, 0.1111111111111111, 0.0, 0.0, 0.0, 0.0, 0.0, 0.0, 0.0, 0.0, 0.0, 0.0, 0.0, 0.0, 0.0, 0.0, 0.0, 0.0, 0.0, 0.0, 0.0, 0.08571428571428572, 0.0, 0.0, 0.0, 0.0, 0.0, 0.0, 0.0, 0.0, 0.0, 0.0, 0.0, 0.0, 0.0, 0.0, 0.0, 0.0, 0.0, 0.0, 0.0, 0.0, 0.0, 0.0, 0.0, 0.0, 0.0, 0.0], 'Assistant Technician': [0.1, 0.1111111111111111, 0.125, 0.0, 0.09090909090909091, 0.07407407407407407, 0.058823529411764705, 0.13043478260869565, 0.125, 0.14285714285714285, 0.0, 0.125, 0.1111111111111111, 0.0, 0.0, 0.1, 0.0, 0.0, 0.09090909090909091, 0.0, 0.1111111111111111, 0.0, 0.0, 0.0, 0.03225806451612903, 0.0, 0.05263157894736842, 0.07142857142857142, 0.0, 0.0, 0.0, 0.07692307692307693, 0.0, 0.05555555555555555, 0.058823529411764705, 0.14285714285714285, 0.0, 0.07692307692307693, 0.0, 0.058823529411764705, 0.0, 0.1111111111111111, 0.0, 0.0, 0.0, 0.0, 0.0, 0.0, 0.0, 0.125, 0.25, 0.0, 0.0, 0.10344827586206896, 0.0, 0.0, 0.07692307692307693, 0.0, 0.058823529411764705, 0.1111111111111111, 0.0, 0.09090909090909091, 0.125, 0.0, 0.07142857142857142, 0.0, 0.1, 0.125, 0.0, 0.0, 0.14285714285714285, 0.125, 0.0, 0.09523809523809523, 0.0, 0.0, 0.09090909090909091, 1.0, 0.17647058823529413, 0.0, 0.0, 0.08333333333333333, 0.07142857142857142, 0.1, 0.07142857142857142, 0.1, 0.0, 0.10526315789473684, 0.0, 0.0, 0.0, 0.0, 0.1, 0.0, 0.043478260869565216, 0.14285714285714285, 0.125, 0.0, 0.0, 0.07142857142857142, 0.0, 0.1111111111111111, 0.1111111111111111, 0.0, 0.0, 0.0, 0.05263157894736842, 0.0, 0.058823529411764705, 0.09090909090909091, 0.0, 0.125, 0.058823529411764705, 0.047619047619047616, 0.06666666666666667, 0.125, 0.0, 0.08333333333333333, 0.14285714285714285, 0.13333333333333333, 0.0, 0.05, 0.0, 0.0, 0.1111111111111111, 0.0, 0.0, 0.08333333333333333, 0.07692307692307693, 0.08333333333333333, 0.21428571428571427, 0.0, 0.0, 0.0, 0.2, 0.0, 0.15789473684210525, 0.14285714285714285, 0.15384615384615385, 0.0, 0.0625, 0.09090909090909091, 0.1, 0.0, 0.125, 0.0, 0.0, 0.1111111111111111, 0.0, 0.125, 0.0, 0.09090909090909091, 0.125, 0.09090909090909091, 0.0, 0.125, 0.0, 0.0, 0.0, 0.0, 0.08333333333333333, 0.08333333333333333, 0.1, 0.0, 0.058823529411764705, 0.0, 0.0, 0.0, 0.09090909090909091, 0.125, 0.125, 0.14285714285714285, 0.058823529411764705, 0.0, 0.125, 0.09090909090909091, 0.0, 0.0, 0.07692307692307693, 0.043478260869565216, 0.0, 0.1, 0.14285714285714285, 0.0, 0.0, 0.0, 0.1111111111111111, 0.1, 0.0, 0.0, 0.0, 0.125, 0.07692307692307693, 0.1111111111111111, 0.2, 0.1111111111111111, 0.07142857142857142, 0.047619047619047616, 0.043478260869565216, 0.1111111111111111, 0.0, 0.14285714285714285, 0.0, 0.125, 0.08333333333333333, 0.0, 0.0, 0.0, 0.125, 0.0, 0.0, 0.0, 0.0, 0.1, 0.0, 0.0, 0.0, 0.0, 0.0, 0.08333333333333333, 0.0, 0.08333333333333333], 'Project Manager': [0.12, 0.06666666666666667, 0.07142857142857142, 0.0, 0.125, 0.06060606060606061, 0.14285714285714285, 0.18518518518518517, 0.07142857142857142, 0.26666666666666666, 0.0, 0.0, 0.14285714285714285, 0.0, 0.06666666666666667, 0.13333333333333333, 0.0, 0.0, 0.2, 0.047619047619047616, 0.06666666666666667, 0.0, 0.07142857142857142, 0.0, 0.1875, 0.0, 0.08333333333333333, 0.0, 0.058823529411764705, 0.058823529411764705, 0.0, 0.05263157894736842, 0.0, 0.08695652173913043, 0.14285714285714285, 0.15384615384615385, 0.0, 0.1111111111111111, 0.0, 0.14285714285714285, 0.0625, 0.14285714285714285, 0.06666666666666667, 0.07142857142857142, 0.06666666666666667, 0.0, 0.07142857142857142, 0.09523809523809523, 0.0, 0.07142857142857142, 0.16666666666666666, 0.05555555555555555, 0.09523809523809523, 0.1875, 0.058823529411764705, 0.0, 0.1111111111111111, 0.07692307692307693, 0.14285714285714285, 0.14285714285714285, 0.07142857142857142, 0.0, 0.07142857142857142, 0.043478260869565216, 0.16666666666666666, 0.0, 0.0625, 0.07142857142857142, 0.07692307692307693, 0.0, 0.07692307692307693, 0.07142857142857142, 0.0, 0.11538461538461539, 0.0, 0.0, 0.058823529411764705, 0.17647058823529413, 1.0, 0.0, 0.0, 0.11764705882352941, 0.05, 0.13333333333333333, 0.0, 0.21739130434782608, 0.0, 0.125, 0.0, 0.07142857142857142, 0.0, 0.0, 0.0625, 0.0, 0.2, 0.07692307692307693, 0.07142857142857142, 0.0, 0.0625, 0.0, 0.0, 0.06666666666666667, 0.06666666666666667, 0.058823529411764705, 0.0, 0.0, 0.04, 0.0, 0.09090909090909091, 0.125, 0.0, 0.07142857142857142, 0.14285714285714285, 0.12, 0.15789473684210525, 0.07142857142857142, 0.0, 0.05555555555555555, 0.07692307692307693, 0.045454545454545456, 0.0, 0.125, 0.058823529411764705, 0.0, 0.06666666666666667, 0.07692307692307693, 0.0625, 0.05555555555555555, 0.1111111111111111, 0.05555555555555555, 0.09523809523809523, 0.0, 0.07692307692307693, 0.07142857142857142, 0.125, 0.15384615384615385, 0.16666666666666666, 0.047619047619047616, 0.10526315789473684, 0.058823529411764705, 0.2777777777777778, 0.058823529411764705, 0.0625, 0.0, 0.07142857142857142, 0.0, 0.0, 0.06666666666666667, 0.0, 0.07142857142857142, 0.0, 0.125, 0.07142857142857142, 0.058823529411764705, 0.0, 0.07142857142857142, 0.0, 0.0, 0.125, 0.06666666666666667, 0.05555555555555555, 0.05555555555555555, 0.13333333333333333, 0.07142857142857142, 0.14285714285714285, 0.0, 0.0, 0.058823529411764705, 0.125, 0.07142857142857142, 0.07142857142857142, 0.07692307692307693, 0.09090909090909091, 0.0, 0.07142857142857142, 0.058823529411764705, 0.0, 0.0, 0.1111111111111111, 0.2, 0.07142857142857142, 0.13333333333333333, 0.07692307692307693, 0.0, 0.0, 0.0, 0.06666666666666667, 0.0625, 0.0, 0.07142857142857142, 0.07142857142857142, 0.07142857142857142, 0.1111111111111111, 0.06666666666666667, 0.125, 0.06976744186046512, 0.05, 0.12, 0.2, 0.06666666666666667, 0.0, 0.07692307692307693, 0.0, 0.07142857142857142, 0.05555555555555555, 0.0, 0.0, 0.0, 0.07142857142857142, 0.0, 0.0, 0.0, 0.0, 0.13333333333333333, 0.0, 0.07142857142857142, 0.0, 0.15384615384615385, 0.0, 0.05555555555555555, 0.07142857142857142, 0.05555555555555555], 'Maintenance Engineer': [0.0625, 0.0, 0.0, 0.0, 0.0, 0.0, 0.0, 0.0, 0.0, 0.0, 1.0, 0.0, 0.0, 0.0, 0.0, 0.0, 0.0, 0.0, 0.0, 0.0, 0.0, 0.0, 0.0, 0.0, 0.038461538461538464, 0.0, 0.07142857142857142, 0.0, 0.0, 0.0, 0.0, 0.125, 0.0, 0.0, 0.08333333333333333, 0.0, 0.0, 0.0, 0.0, 0.08333333333333333, 0.0, 0.0, 0.0, 0.0, 0.0, 0.3333333333333333, 0.0, 0.0, 0.0, 0.0, 0.0, 0.0, 0.0, 0.038461538461538464, 0.0, 0.0, 0.0, 0.0, 0.0, 0.0, 0.0, 0.0, 0.0, 0.0, 0.0, 0.0, 0.0, 0.0, 0.0, 0.0, 0.0, 0.0, 0.0, 0.058823529411764705, 0.0, 0.0, 0.0, 0.0, 0.0, 1.0, 0.0, 0.0, 0.0, 0.0, 0.0, 0.0625, 0.0, 0.0, 0.0, 0.0, 0.0, 0.0, 0.0, 0.0, 0.05555555555555555, 0.0, 0.0, 0.0, 0.0, 0.0, 0.0, 0.0, 0.0, 0.0, 0.0, 0.0, 0.07142857142857142, 0.25, 0.08333333333333333, 0.0, 0.0, 0.0, 0.08333333333333333, 0.0, 0.0, 0.0, 0.0, 0.14285714285714285, 0.0, 0.0, 0.0, 0.0, 0.0, 0.0, 0.0, 0.0, 0.2, 0.0, 0.0, 0.14285714285714285, 0.0, 0.0, 0.0, 0.0, 0.0, 0.0, 0.0625, 0.0, 0.0, 0.0, 0.0, 0.0, 0.2, 0.0, 0.3333333333333333, 0.0, 0.0, 0.0, 0.0, 0.0, 0.0, 0.16666666666666666, 0.0, 0.0, 0.0, 0.0, 0.0, 0.0, 0.06666666666666667, 0.0, 0.0, 0.14285714285714285, 0.0, 0.0, 0.08333333333333333, 0.0, 0.0, 0.0, 0.0, 0.0, 0.0, 0.0, 0.0, 0.0, 0.0, 0.0, 0.0, 0.0, 0.0, 0.05555555555555555, 0.0, 0.0, 0.0, 0.0, 0.0, 0.0, 0.0, 0.0, 0.0, 0.0, 0.0, 0.0, 0.0, 0.0, 0.0, 0.029411764705882353, 0.0, 0.0, 0.05555555555555555, 0.0, 0.0, 0.0, 0.25, 0.0, 0.14285714285714285, 0.0, 0.0, 0.0, 0.0, 0.0, 0.0, 0.0, 0.0, 0.0, 0.0, 0.0, 0.0, 0.0, 0.0, 0.14285714285714285, 0.0, 0.14285714285714285], 'Engineering Technician': [0.05263157894736842, 0.0, 0.0, 0.0, 0.1111111111111111, 0.125, 0.14285714285714285, 0.09090909090909091, 0.0, 0.07142857142857142, 0.0, 0.14285714285714285, 0.14285714285714285, 0.2, 0.14285714285714285, 0.0, 0.16666666666666666, 0.16666666666666666, 0.1111111111111111, 0.0, 0.0, 0.0, 0.0, 0.0, 0.15384615384615385, 0.25, 0.2, 0.18181818181818182, 0.1111111111111111, 0.1111111111111111, 0.2, 0.0, 0.0, 0.3076923076923077, 0.06666666666666667, 0.15789473684210525, 0.0, 0.09090909090909091, 0.2, 0.06666666666666667, 0.125, 0.0, 0.0, 0.0, 0.0, 0.0, 0.0, 0.0, 0.16666666666666666, 0.0, 0.08333333333333333, 0.2222222222222222, 0.0, 0.07142857142857142, 0.1111111111111111, 0.36363636363636365, 0.09090909090909091, 0.0, 0.14285714285714285, 0.14285714285714285, 0.0, 0.1111111111111111, 0.16666666666666666, 0.06666666666666667, 0.08333333333333333, 0.2, 0.2857142857142857, 0.0, 0.0, 0.0, 0.0, 0.0, 0.0, 0.10526315789473684, 0.16666666666666666, 0.0, 0.1111111111111111, 0.0, 0.0, 0.0, 1.0, 0.1, 0.08333333333333333, 0.0, 0.08333333333333333, 0.0, 0.0, 0.11764705882352941, 0.2, 0.0, 0.0, 0.125, 0.125, 0.0, 0.047619047619047616, 0.0, 0.16666666666666666, 0.2, 0.125, 0.18181818181818182, 0.2857142857142857, 0.0, 0.0, 0.1111111111111111, 0.0, 0.08333333333333333, 0.058823529411764705, 0.0, 0.06666666666666667, 0.1111111111111111, 0.4, 0.0, 0.06666666666666667, 0.05263157894736842, 0.16666666666666666, 0.0, 0.0, 0.0, 0.0, 0.15384615384615385, 0.2, 0.1875, 0.1111111111111111, 0.4, 0.0, 0.0, 0.0, 0.1, 0.2, 0.0, 0.07142857142857142, 0.0, 0.0, 0.0, 0.1111111111111111, 0.0, 0.1111111111111111, 0.0, 0.08333333333333333, 0.0, 0.15384615384615385, 0.25, 0.0, 0.14285714285714285, 0.0, 0.14285714285714285, 0.0, 0.0, 0.0, 0.16666666666666666, 0.0, 0.1111111111111111, 0.16666666666666666, 0.0, 0.0, 0.0, 0.0, 0.0, 0.11764705882352941, 0.14285714285714285, 0.1, 0.0, 0.0, 0.16666666666666666, 0.06666666666666667, 0.14285714285714285, 0.0, 0.1111111111111111, 0.1111111111111111, 0.0, 0.16666666666666666, 0.0, 0.06666666666666667, 0.2, 0.0, 0.1111111111111111, 0.14285714285714285, 0.14285714285714285, 0.2, 0.047619047619047616, 0.16666666666666666, 0.0, 0.0, 0.14285714285714285, 0.0, 0.0, 0.0, 0.2857142857142857, 0.0, 0.0, 0.0, 0.0, 0.09090909090909091, 0.0, 0.1111111111111111, 0.11764705882352941, 0.08333333333333333, 0.05263157894736842, 0.047619047619047616, 0.0, 0.2, 0.0, 0.0, 0.0, 0.0, 0.14285714285714285, 0.0, 0.0, 0.16666666666666666, 0.2, 0.2, 0.0, 0.14285714285714285, 0.0, 0.0, 0.0, 0.2, 0.0, 0.14285714285714285, 0.0, 0.16666666666666666, 0.0], 'Director of Hotel Sales': [0.0, 0.2857142857142857, 0.14285714285714285, 0.0, 0.375, 0.16666666666666666, 0.21428571428571427, 0.13636363636363635, 0.3333333333333333, 0.06896551724137931, 0.0, 0.0625, 0.5, 0.16666666666666666, 0.125, 0.1111111111111111, 0.14285714285714285, 0.0, 0.2222222222222222, 0.0, 0.2857142857142857, 0.14285714285714285, 0.3333333333333333, 0.0, 0.14814814814814814, 0.06666666666666667, 0.11764705882352941, 0.16666666666666666, 0.8333333333333334, 0.8333333333333334, 0.0, 0.3, 0.0, 0.2857142857142857, 0.3076923076923077, 0.15, 0.0, 0.3, 0.08333333333333333, 0.3076923076923077, 0.0, 0.125, 0.0, 0.0, 0.0, 0.0, 0.3333333333333333, 0.06666666666666667, 0.07142857142857142, 0.14285714285714285, 0.07692307692307693, 0.7142857142857143, 0.06666666666666667, 0.14814814814814814, 0.0, 0.23076923076923078, 0.3, 0.16666666666666666, 0.21428571428571427, 0.2857142857142857, 0.14285714285714285, 0.0, 0.14285714285714285, 0.0625, 0.16666666666666666, 0.0, 0.25, 0.14285714285714285, 0.16666666666666666, 0.0, 0.16666666666666666, 0.14285714285714285, 0.0, 0.15789473684210525, 0.0, 0.0, 0.0, 0.08333333333333333, 0.11764705882352941, 0.0, 0.1, 1.0, 0.0, 0.42857142857142855, 0.16666666666666666, 0.0, 0.1, 0.05263157894736842, 0.0, 0.3333333333333333, 0.0, 0.1111111111111111, 0.25, 0.0, 0.09523809523809523, 0.16666666666666666, 0.14285714285714285, 0.16666666666666666, 0.42857142857142855, 0.16666666666666666, 0.1111111111111111, 0.125, 0.125, 0.8333333333333334, 0.0, 0.0, 0.1875, 0.125, 0.13333333333333333, 0.2222222222222222, 0.14285714285714285, 0.14285714285714285, 0.3076923076923077, 0.10526315789473684, 0.25, 0.3333333333333333, 0.0, 0.3333333333333333, 0.16666666666666666, 0.23076923076923078, 0.0, 0.05263157894736842, 0.8333333333333334, 0.0, 0.125, 0.0, 0.0, 0.09090909090909091, 0.18181818181818182, 0.3333333333333333, 0.14285714285714285, 0.0, 0.16666666666666666, 0.0, 0.1, 0.14285714285714285, 0.10526315789473684, 0.15384615384615385, 0.16666666666666666, 0.2222222222222222, 0.14285714285714285, 0.1, 0.1111111111111111, 0.125, 0.14285714285714285, 0.125, 0.0, 0.2857142857142857, 0.0, 0.14285714285714285, 0.2857142857142857, 0.1, 0.14285714285714285, 0.2222222222222222, 0.0, 0.14285714285714285, 0.0, 0.0, 0.17647058823529413, 0.0, 0.0, 0.3333333333333333, 0.42857142857142855, 0.0, 0.3076923076923077, 0.125, 0.0, 0.8333333333333334, 0.2222222222222222, 0.3333333333333333, 0.14285714285714285, 0.16666666666666666, 0.21428571428571427, 0.0, 0.14285714285714285, 0.1, 0.0, 0.125, 0.18181818181818182, 0.09523809523809523, 0.3333333333333333, 0.42857142857142855, 0.16666666666666666, 0.125, 0.0, 0.0, 0.125, 0.25, 0.0, 0.0, 0.3333333333333333, 0.14285714285714285, 0.18181818181818182, 0.125, 0.1, 0.05405405405405406, 0.16666666666666666, 0.16666666666666666, 0.09523809523809523, 0.125, 0.0, 0.16666666666666666, 0.125, 0.14285714285714285, 0.3333333333333333, 0.125, 0.14285714285714285, 0.2857142857142857, 0.14285714285714285, 0.0, 0.0, 0.0, 0.125, 0.1111111111111111, 0.0, 0.0, 0.0, 0.14285714285714285, 0.125, 0.3333333333333333, 0.3333333333333333, 0.3333333333333333], 'Solution Architect Business Intelligence': [0.09523809523809523, 0.0, 0.0, 0.0, 0.0, 0.07142857142857142, 0.0, 0.08, 0.0, 0.13793103448275862, 0.0, 0.05555555555555555, 0.0, 0.0, 0.0, 0.0, 0.0, 0.0, 0.0, 0.0, 0.0, 0.0, 0.0, 0.0, 0.03125, 0.058823529411764705, 0.05, 0.06666666666666667, 0.0, 0.0, 0.0, 0.0, 0.0, 0.05263157894736842, 0.0, 0.08695652173913043, 0.0, 0.0, 0.07142857142857142, 0.0, 0.09090909090909091, 0.0, 0.0, 0.0, 0.0, 0.0, 0.0, 0.0, 0.0625, 0.0, 0.06666666666666667, 0.0, 0.0, 0.06451612903225806, 0.0, 0.058823529411764705, 0.0, 0.0, 0.0, 0.0, 0.0, 0.08333333333333333, 0.0, 0.0, 0.0, 0.0, 0.0, 0.0, 0.0, 0.0, 0.0, 0.0, 0.0, 0.043478260869565216, 0.0, 0.0, 0.3, 0.07142857142857142, 0.05, 0.0, 0.08333333333333333, 0.0, 1.0, 0.0, 0.0, 0.15, 0.0, 0.0, 0.0, 0.0, 0.0, 0.0, 0.0, 0.0, 0.0, 0.0, 0.0, 0.0, 0.0, 0.06666666666666667, 0.09090909090909091, 0.0, 0.0, 0.0, 0.0, 0.0, 0.0, 0.0, 0.0, 0.08333333333333333, 0.0, 0.0, 0.0, 0.045454545454545456, 0.0, 0.0, 0.0, 0.0, 0.0, 0.125, 0.0, 0.047619047619047616, 0.0, 0.0, 0.0, 0.0, 0.0, 0.0, 0.0, 0.0, 0.058823529411764705, 0.0, 0.0, 0.0, 0.0, 0.0, 0.09523809523809523, 0.0, 0.06666666666666667, 0.0, 0.0, 0.0, 0.0, 0.0, 0.0, 0.0, 0.0, 0.0, 0.0, 0.0, 0.0, 0.0, 0.0, 0.0, 0.0, 0.0, 0.0, 0.0, 0.1, 0.0, 0.07692307692307693, 0.0, 0.0, 0.0, 0.0, 0.0, 0.0, 0.0, 0.08333333333333333, 0.0, 0.0, 0.0, 0.0, 0.0, 0.0, 0.08333333333333333, 0.0, 0.0, 0.0, 0.0, 0.0, 0.0, 0.0, 0.0, 0.0, 0.0, 0.0, 0.0, 0.0, 0.0, 0.0, 0.0, 0.0, 0.0, 0.0, 0.07894736842105263, 0.0, 0.0, 0.0, 0.0, 0.0, 0.0, 0.0, 0.0, 0.0, 0.0, 0.0, 0.0, 0.0, 0.0, 0.0, 0.0, 0.0, 0.0, 0.0, 0.0, 0.0, 0.0, 0.0, 0.0, 0.0, 0.0], 'Mutual Fund Analyst': [0.0, 0.4, 0.2, 0.0, 0.2857142857142857, 0.04, 0.15384615384615385, 0.09523809523809523, 0.5, 0.03571428571428571, 0.0, 0.0, 0.4, 0.0, 0.0, 0.14285714285714285, 0.0, 0.2, 0.125, 0.0, 0.4, 0.5, 0.5, 0.0, 0.07407407407407407, 0.0, 0.0625, 0.09090909090909091, 0.2857142857142857, 0.2857142857142857, 0.0, 0.375, 0.0, 0.14285714285714285, 0.36363636363636365, 0.05, 0.0, 0.375, 0.0, 0.36363636363636365, 0.0, 0.16666666666666666, 0.0, 0.0, 0.16666666666666666, 0.0, 0.5, 0.07692307692307693, 0.0, 0.2, 0.0, 0.25, 0.07692307692307693, 0.16, 0.125, 0.07692307692307693, 0.375, 0.25, 0.15384615384615385, 0.4, 0.2, 0.0, 0.2, 0.07142857142857142, 0.2, 0.0, 0.14285714285714285, 0.2, 0.25, 0.25, 0.25, 0.5, 0.0, 0.17647058823529413, 0.0, 0.0, 0.0, 0.1, 0.13333333333333333, 0.0, 0.0, 0.42857142857142855, 0.0, 1.0, 0.2, 0.05555555555555555, 0.125, 0.0, 0.0, 0.5, 0.0, 0.14285714285714285, 0.14285714285714285, 0.0, 0.16666666666666666, 0.25, 0.2, 0.0, 0.6, 0.09090909090909091, 0.0, 0.4, 0.4, 0.2857142857142857, 0.0, 0.0, 0.21428571428571427, 0.4, 0.07142857142857142, 0.2857142857142857, 0.0, 0.2, 0.36363636363636365, 0.11764705882352941, 0.18181818181818182, 0.5, 0.0, 0.42857142857142855, 0.25, 0.07692307692307693, 0.0, 0.058823529411764705, 0.2857142857142857, 0.0, 0.4, 0.0, 0.0, 0.0, 0.1, 0.42857142857142855, 0.16666666666666666, 0.0, 0.25, 0.0, 0.125, 0.2, 0.11764705882352941, 0.08333333333333333, 0.2, 0.125, 0.07692307692307693, 0.2857142857142857, 0.3333333333333333, 0.0, 0.2, 0.0, 0.0, 0.4, 0.0, 0.2, 0.4, 0.125, 0.2, 0.2857142857142857, 0.2, 0.2, 0.0, 0.0, 0.058823529411764705, 0.0, 0.0, 0.42857142857142855, 1.0, 0.0, 0.36363636363636365, 0.0, 0.25, 0.2857142857142857, 0.2857142857142857, 0.5, 0.2, 0.25, 0.25, 0.0, 0.2, 0.125, 0.0, 0.0, 0.375, 0.16666666666666666, 0.2, 1.0, 0.25, 0.0, 0.0, 0.0, 0.4, 0.14285714285714285, 0.0, 0.0, 0.5, 0.2, 0.375, 0.4, 0.125, 0.027777777777777776, 0.0, 0.11764705882352941, 0.16666666666666666, 0.16666666666666666, 0.0, 0.25, 0.4, 0.2, 0.42857142857142855, 0.0, 0.0, 0.4, 0.2, 0.0, 0.0, 0.25, 0.0, 0.14285714285714285, 0.0, 0.0, 0.0, 0.2, 0.0, 0.42857142857142855, 0.2, 0.42857142857142855], 'Market Access Associate': [0.21052631578947367, 0.1, 0.1111111111111111, 0.125, 0.08333333333333333, 0.2, 0.11764705882352941, 0.22727272727272727, 0.1111111111111111, 0.13793103448275862, 0.0, 0.1875, 0.1, 0.125, 0.1, 0.09090909090909091, 0.1111111111111111, 0.1111111111111111, 0.08333333333333333, 0.13333333333333333, 0.1, 0.25, 0.1111111111111111, 0.07142857142857142, 0.06451612903225806, 0.2, 0.16666666666666666, 0.23076923076923078, 0.18181818181818182, 0.18181818181818182, 0.0, 0.15384615384615385, 0.0, 0.1111111111111111, 0.26666666666666666, 0.08695652173913043, 0.07142857142857142, 0.25, 0.07142857142857142, 0.26666666666666666, 0.0, 0.0, 0.0, 0.0, 0.1, 0.0, 0.1111111111111111, 0.058823529411764705, 0.21428571428571427, 0.0, 0.23076923076923078, 0.16666666666666666, 0.058823529411764705, 0.32, 0.08333333333333333, 0.125, 0.25, 0.0, 0.11764705882352941, 0.0, 0.0, 0.08333333333333333, 0.0, 0.0, 0.14285714285714285, 0.0, 0.09090909090909091, 0.1111111111111111, 0.0, 0.125, 0.0, 0.1111111111111111, 0.0, 0.14285714285714285, 0.0, 0.07142857142857142, 0.0, 0.07142857142857142, 0.0, 0.0, 0.08333333333333333, 0.16666666666666666, 0.0, 0.2, 1.0, 0.09523809523809523, 0.08333333333333333, 0.15789473684210525, 0.0, 0.1111111111111111, 0.0, 0.09090909090909091, 0.0, 0.125, 0.08695652173913043, 0.0, 0.0, 0.125, 0.3333333333333333, 0.23076923076923078, 0.2, 0.1, 0.1, 0.18181818181818182, 0.0, 0.0, 0.10526315789473684, 0.2222222222222222, 0.1875, 0.08333333333333333, 0.1111111111111111, 0.0, 0.26666666666666666, 0.15, 0.0625, 0.1111111111111111, 0.0, 0.16666666666666666, 0.0, 0.2857142857142857, 0.0, 0.2222222222222222, 0.18181818181818182, 0.0, 0.1, 0.0, 0.0, 0.16666666666666666, 0.0, 0.16666666666666666, 0.2, 0.0, 0.0, 0.0, 0.08333333333333333, 0.0, 0.15, 0.3076923076923077, 0.23076923076923078, 0.08333333333333333, 0.125, 0.08333333333333333, 0.09090909090909091, 0.0, 0.0, 0.0, 0.125, 0.1, 0.0, 0.0, 0.2222222222222222, 0.0, 0.0, 0.08333333333333333, 0.1111111111111111, 0.0, 0.0, 0.0, 0.15789473684210525, 0.0, 0.16666666666666666, 0.16666666666666666, 0.2, 0.0, 0.26666666666666666, 0.0, 0.125, 0.18181818181818182, 0.08333333333333333, 0.1111111111111111, 0.0, 0.0, 0.11764705882352941, 0.0, 0.0, 0.0, 0.0, 0.0, 0.07142857142857142, 0.08695652173913043, 0.1111111111111111, 0.2, 0.0, 0.0, 0.0, 0.0, 0.1, 0.09090909090909091, 0.0, 0.0, 0.1111111111111111, 0.0, 0.15384615384615385, 0.1, 0.08333333333333333, 0.17142857142857143, 0.14285714285714285, 0.15, 0.08695652173913043, 0.0, 0.0, 0.0, 0.2222222222222222, 0.0, 0.16666666666666666, 0.0, 0.0, 0.2222222222222222, 0.0, 0.0, 0.0, 0.125, 0.0, 0.0, 0.0, 0.0, 0.0, 0.0, 0.0, 0.16666666666666666, 0.1111111111111111, 0.16666666666666666], 'Operations Research Analysis Manager': [0.1111111111111111, 0.058823529411764705, 0.0, 0.0, 0.0, 0.027777777777777776, 0.04, 0.1724137931034483, 0.0, 0.14285714285714285, 0.0625, 0.0, 0.0, 0.0, 0.0, 0.05555555555555555, 0.0, 0.0625, 0.0, 0.09090909090909091, 0.058823529411764705, 0.0625, 0.0, 0.0, 0.0, 0.0, 0.037037037037037035, 0.0, 0.0, 0.0, 0.0, 0.047619047619047616, 0.0, 0.0, 0.04, 0.10344827586206896, 0.0, 0.047619047619047616, 0.0, 0.04, 0.0, 0.058823529411764705, 0.0, 0.0, 0.125, 0.0, 0.0, 0.041666666666666664, 0.0, 0.0, 0.045454545454545456, 0.0, 0.041666666666666664, 0.1111111111111111, 0.1111111111111111, 0.0, 0.047619047619047616, 0.0, 0.04, 0.0, 0.0, 0.0, 0.0, 0.0, 0.045454545454545456, 0.0, 0.0, 0.0, 0.0, 0.06666666666666667, 0.0, 0.0625, 0.0, 0.10714285714285714, 0.0, 0.0, 0.17647058823529413, 0.1, 0.21739130434782608, 0.0625, 0.0, 0.0, 0.15, 0.05555555555555555, 0.09523809523809523, 1.0, 0.0, 0.16, 0.0, 0.0, 0.0, 0.05555555555555555, 0.0, 0.0, 0.06666666666666667, 0.0, 0.0, 0.0, 0.05555555555555555, 0.0, 0.0, 0.058823529411764705, 0.058823529411764705, 0.0, 0.0, 0.0, 0.037037037037037035, 0.058823529411764705, 0.04, 0.0, 0.0, 0.0, 0.04, 0.034482758620689655, 0.0, 0.0, 0.0, 0.05, 0.0, 0.041666666666666664, 0.0, 0.03571428571428571, 0.0, 0.0, 0.058823529411764705, 0.06666666666666667, 0.05555555555555555, 0.0, 0.0, 0.05, 0.08695652173913043, 0.0, 0.0, 0.0625, 0.05263157894736842, 0.0, 0.07142857142857142, 0.0, 0.045454545454545456, 0.0, 0.041666666666666664, 0.05263157894736842, 0.05555555555555555, 0.0, 0.0, 0.0, 0.0, 0.058823529411764705, 0.0, 0.0, 0.058823529411764705, 0.05263157894736842, 0.0, 0.05263157894736842, 0.0625, 0.0, 0.0, 0.0, 0.0, 0.058823529411764705, 0.0, 0.05, 0.05555555555555555, 0.0625, 0.04, 0.0, 0.06666666666666667, 0.0, 0.0, 0.0, 0.0, 0.0, 0.04, 0.0, 0.0, 0.0, 0.0, 0.0, 0.047619047619047616, 0.06666666666666667, 0.0, 0.05555555555555555, 0.0, 0.0, 0.0, 0.0, 0.058823529411764705, 0.0, 0.0, 0.0625, 0.0, 0.0, 0.047619047619047616, 0.058823529411764705, 0.05263157894736842, 0.06666666666666667, 0.045454545454545456, 0.034482758620689655, 0.06666666666666667, 0.0, 0.0, 0.0, 0.058823529411764705, 0.0, 0.05, 0.0, 0.0, 0.058823529411764705, 0.0, 0.0, 0.0, 0.06666666666666667, 0.0, 0.05555555555555555, 0.0, 0.0625, 0.0, 0.0, 0.0, 0.05, 0.0, 0.05], 'Bellman': [0.0, 0.0, 0.0, 0.0, 0.0, 0.0, 0.0, 0.0, 0.16666666666666666, 0.0, 0.0, 0.06666666666666667, 0.0, 0.0, 0.0, 0.0, 0.0, 0.0, 0.0, 0.0, 0.0, 0.16666666666666666, 0.16666666666666666, 0.0, 0.0, 0.0, 0.0, 0.08333333333333333, 0.1111111111111111, 0.1111111111111111, 0.0, 0.09090909090909091, 0.0, 0.0625, 0.06666666666666667, 0.0, 0.0, 0.0, 0.0, 0.06666666666666667, 0.0, 0.0, 0.0, 0.0, 0.0, 0.0, 0.16666666666666666, 0.0, 0.0, 0.0, 0.0, 0.1, 0.0, 0.034482758620689655, 0.0, 0.07142857142857142, 0.0, 0.0, 0.0, 0.0, 0.0, 0.0, 0.0, 0.0, 0.08333333333333333, 0.0, 0.0, 0.0, 0.0, 0.0, 0.0, 0.0, 0.14285714285714285, 0.05, 0.0, 0.0, 0.0, 0.0, 0.0, 0.0, 0.0, 0.1, 0.0, 0.125, 0.08333333333333333, 0.0, 1.0, 0.0, 0.0, 0.16666666666666666, 0.0, 0.0, 0.0, 0.0, 0.0, 0.0, 0.0, 0.0, 0.125, 0.08333333333333333, 0.0, 0.0, 0.0, 0.1111111111111111, 0.0, 0.0, 0.058823529411764705, 0.14285714285714285, 0.0, 0.0, 0.0, 0.0, 0.06666666666666667, 0.0, 0.07692307692307693, 0.16666666666666666, 0.0, 0.1, 0.0, 0.15384615384615385, 0.0, 0.0, 0.1111111111111111, 0.0, 0.0, 0.0, 0.0, 0.0, 0.0, 0.1, 0.0, 0.0, 0.0, 0.0, 0.0, 0.0, 0.05263157894736842, 0.07692307692307693, 0.08333333333333333, 0.1111111111111111, 0.0, 0.0, 0.0, 0.0, 0.0, 0.0, 0.0, 0.0, 0.0, 0.0, 0.14285714285714285, 0.0, 0.0, 0.0, 0.0, 0.0, 0.0, 0.0, 0.05555555555555555, 0.0, 0.0, 0.1, 0.125, 0.0, 0.06666666666666667, 0.0, 0.0, 0.1111111111111111, 0.0, 0.16666666666666666, 0.0, 0.0, 0.0, 0.0, 0.0, 0.0, 0.0, 0.0, 0.0, 0.0, 0.0, 0.125, 0.0, 0.0, 0.0, 0.0, 0.0, 0.0, 0.0, 0.0, 0.16666666666666666, 0.0, 0.09090909090909091, 0.0, 0.0, 0.05555555555555555, 0.0, 0.05263157894736842, 0.0, 0.0, 0.0, 0.0, 0.14285714285714285, 0.0, 0.1, 0.0, 0.0, 0.14285714285714285, 0.0, 0.0, 0.0, 0.0, 0.0, 0.0, 0.0, 0.0, 0.0, 0.0, 0.0, 0.1, 0.0, 0.1], 'Real Estate Appraiser': [0.11538461538461539, 0.0, 0.0, 0.0, 0.05555555555555555, 0.16129032258064516, 0.13636363636363635, 0.2222222222222222, 0.0, 0.18181818181818182, 0.0, 0.13636363636363635, 0.0625, 0.07142857142857142, 0.0625, 0.058823529411764705, 0.06666666666666667, 0.06666666666666667, 0.11764705882352941, 0.09523809523809523, 0.0, 0.0, 0.0, 0.05, 0.05405405405405406, 0.09090909090909091, 0.22727272727272727, 0.1, 0.05555555555555555, 0.05555555555555555, 0.07142857142857142, 0.0, 0.07142857142857142, 0.18181818181818182, 0.13636363636363635, 0.19230769230769232, 0.05, 0.05, 0.10526315789473684, 0.13636363636363635, 0.058823529411764705, 0.0625, 0.0625, 0.14285714285714285, 0.13333333333333333, 0.06666666666666667, 0.0, 0.043478260869565216, 0.045454545454545456, 0.06666666666666667, 0.1, 0.1111111111111111, 0.043478260869565216, 0.18181818181818182, 0.11764705882352941, 0.14285714285714285, 0.05, 0.0, 0.13636363636363635, 0.0625, 0.0, 0.11764705882352941, 0.06666666666666667, 0.041666666666666664, 0.29411764705882354, 0.07142857142857142, 0.125, 0.06666666666666667, 0.0, 0.0, 0.0, 0.0, 0.0625, 0.15384615384615385, 0.06666666666666667, 0.05, 0.0, 0.10526315789473684, 0.125, 0.0, 0.11764705882352941, 0.05263157894736842, 0.0, 0.0, 0.15789473684210525, 0.16, 0.0, 1.0, 0.07142857142857142, 0.0, 0.07142857142857142, 0.058823529411764705, 0.058823529411764705, 0.0, 0.24, 0.0, 0.06666666666666667, 0.07142857142857142, 0.058823529411764705, 0.1, 0.125, 0.0, 0.0625, 0.05555555555555555, 0.0, 0.1, 0.08, 0.0, 0.13636363636363635, 0.05555555555555555, 0.14285714285714285, 0.06666666666666667, 0.13636363636363635, 0.03571428571428571, 0.15, 0.0, 0.0, 0.0, 0.0, 0.09090909090909091, 0.07142857142857142, 0.07692307692307693, 0.05555555555555555, 0.06666666666666667, 0.0, 0.07142857142857142, 0.058823529411764705, 0.1111111111111111, 0.16666666666666666, 0.0, 0.14285714285714285, 0.06666666666666667, 0.0, 0.06666666666666667, 0.1875, 0.06666666666666667, 0.07407407407407407, 0.15, 0.1, 0.05555555555555555, 0.2631578947368421, 0.11764705882352941, 0.058823529411764705, 0.0625, 0.0, 0.0625, 0.0, 0.0, 0.0, 0.06666666666666667, 0.0, 0.11764705882352941, 0.06666666666666667, 0.0, 0.0, 0.0, 0.0, 0.07142857142857142, 0.16666666666666666, 0.13333333333333333, 0.17647058823529413, 0.0, 0.0, 0.14285714285714285, 0.13636363636363635, 0.0625, 0.0, 0.05555555555555555, 0.05555555555555555, 0.0, 0.06666666666666667, 0.0, 0.041666666666666664, 0.07142857142857142, 0.0, 0.05555555555555555, 0.0625, 0.0625, 0.05, 0.24, 0.06666666666666667, 0.0, 0.0, 0.0625, 0.0, 0.0, 0.0625, 0.125, 0.07142857142857142, 0.06666666666666667, 0.0, 0.0, 0.05, 0.0625, 0.1875, 0.14634146341463414, 0.1, 0.11538461538461539, 0.24, 0.0625, 0.07142857142857142, 0.0, 0.0, 0.06666666666666667, 0.0, 0.0625, 0.0, 0.0, 0.06666666666666667, 0.07142857142857142, 0.07142857142857142, 0.0, 0.0625, 0.058823529411764705, 0.07142857142857142, 0.06666666666666667, 0.07142857142857142, 0.06666666666666667, 0.0625, 0.0, 0.06666666666666667, 0.0], 'Human Resources Director': [0.0, 0.0, 0.0, 0.0, 0.0, 0.045454545454545456, 0.09090909090909091, 0.0, 0.0, 0.0, 0.0, 0.0, 0.0, 0.0, 0.0, 0.0, 0.0, 0.5, 0.0, 0.0, 0.0, 0.0, 0.0, 0.0, 0.04, 0.1, 0.0, 0.0, 0.0, 0.0, 1.0, 0.0, 0.0, 0.08333333333333333, 0.0, 0.0, 0.0, 0.0, 0.0, 0.0, 0.0, 0.0, 0.0, 0.0, 0.0, 0.0, 0.0, 0.0, 0.0, 0.0, 0.0, 0.16666666666666666, 0.0, 0.0, 0.2, 0.1, 0.0, 0.0, 0.09090909090909091, 0.3333333333333333, 0.0, 0.0, 0.5, 0.09090909090909091, 0.125, 1.0, 0.25, 0.0, 0.0, 0.0, 0.0, 0.0, 0.0, 0.0625, 0.5, 0.0, 0.0, 0.0, 0.0, 0.0, 0.2, 0.0, 0.0, 0.0, 0.0, 0.0, 0.0, 0.07142857142857142, 1.0, 0.0, 0.0, 0.25, 0.25, 0.0, 0.058823529411764705, 0.0, 0.5, 0.0, 0.0, 0.0, 0.0, 0.0, 0.0, 0.0, 0.0, 0.125, 0.07692307692307693, 0.0, 0.0, 0.0, 0.5, 0.0, 0.0, 0.0, 0.1111111111111111, 0.0, 0.0, 0.0, 0.0, 0.0, 1.0, 0.0, 0.0, 0.5, 0.0, 0.0, 0.0, 0.0, 0.14285714285714285, 0.0, 0.0, 0.0, 0.0, 0.0, 0.2, 0.0, 0.0, 0.0, 0.0, 0.0, 0.1, 0.2, 0.0, 0.3333333333333333, 0.0, 0.3333333333333333, 0.0, 0.0, 0.0, 0.5, 0.0, 0.2, 0.5, 0.0, 0.0, 0.0, 0.0, 0.0, 0.0, 0.3333333333333333, 0.0, 0.0, 0.0, 0.5, 0.0, 0.3333333333333333, 0.0, 0.0, 0.0, 0.0, 0.5, 0.0, 0.09090909090909091, 1.0, 0.0, 0.0, 0.3333333333333333, 0.3333333333333333, 0.14285714285714285, 0.058823529411764705, 0.0, 0.0, 0.0, 0.3333333333333333, 0.0, 0.0, 0.0, 0.25, 0.0, 0.0, 0.0, 0.0, 0.14285714285714285, 0.0, 0.2, 0.030303030303030304, 0.0, 0.0, 0.058823529411764705, 0.0, 1.0, 0.0, 0.0, 0.0, 0.0, 0.3333333333333333, 0.0, 0.0, 0.5, 1.0, 1.0, 0.0, 0.3333333333333333, 0.0, 0.0, 0.0, 1.0, 0.0, 0.3333333333333333, 0.0, 0.0, 0.0], 'Crew Scheduling Manager': [0.0, 0.0, 0.0, 0.0, 0.16666666666666666, 0.0, 0.08333333333333333, 0.05, 0.3333333333333333, 0.038461538461538464, 0.0, 0.0, 0.25, 0.0, 0.0, 0.0, 0.0, 0.0, 0.0, 0.0, 0.0, 0.3333333333333333, 1.0, 0.0, 0.038461538461538464, 0.0, 0.0, 0.1111111111111111, 0.4, 0.4, 0.0, 0.125, 0.0, 0.07692307692307693, 0.18181818181818182, 0.0, 0.0, 0.125, 0.0, 0.18181818181818182, 0.0, 0.0, 0.0, 0.0, 0.0, 0.0, 1.0, 0.09090909090909091, 0.0, 0.0, 0.0, 0.3333333333333333, 0.09090909090909091, 0.08, 0.0, 0.09090909090909091, 0.125, 0.5, 0.08333333333333333, 0.25, 0.3333333333333333, 0.0, 0.0, 0.08333333333333333, 0.1111111111111111, 0.0, 0.0, 0.0, 0.5, 0.0, 0.0, 0.0, 0.0, 0.058823529411764705, 0.0, 0.0, 0.0, 0.0, 0.07142857142857142, 0.0, 0.0, 0.3333333333333333, 0.0, 0.5, 0.1111111111111111, 0.0, 0.16666666666666666, 0.0, 0.0, 1.0, 0.0, 0.0, 0.0, 0.0, 0.05555555555555555, 0.0, 0.0, 0.0, 0.5, 0.1111111111111111, 0.0, 0.0, 0.0, 0.4, 0.0, 0.0, 0.07142857142857142, 0.25, 0.08333333333333333, 0.16666666666666666, 0.0, 0.0, 0.18181818181818182, 0.0625, 0.1, 0.3333333333333333, 0.0, 0.14285714285714285, 0.0, 0.09090909090909091, 0.0, 0.0, 0.4, 0.0, 0.0, 0.0, 0.0, 0.0, 0.0, 0.14285714285714285, 0.0, 0.0, 0.5, 0.0, 0.0, 0.3333333333333333, 0.0625, 0.1, 0.1111111111111111, 0.16666666666666666, 0.0, 0.0, 0.0, 0.0, 0.0, 0.0, 0.0, 0.0, 0.0, 0.0, 0.25, 0.0, 0.0, 0.0, 0.0, 0.0, 0.0, 0.0, 0.06666666666666667, 0.0, 0.0, 0.14285714285714285, 0.5, 0.0, 0.18181818181818182, 0.0, 0.0, 0.4, 0.16666666666666666, 0.3333333333333333, 0.0, 0.0, 0.08333333333333333, 0.0, 0.0, 0.0, 0.0, 0.0, 0.125, 0.05555555555555555, 0.3333333333333333, 0.5, 0.0, 0.0, 0.0, 0.0, 0.0, 0.0, 0.0, 0.0, 1.0, 0.0, 0.125, 0.0, 0.0, 0.029411764705882353, 0.0, 0.13333333333333333, 0.05555555555555555, 0.0, 0.0, 0.0, 0.25, 0.0, 0.14285714285714285, 0.0, 0.0, 0.25, 0.0, 0.0, 0.0, 0.0, 0.0, 0.0, 0.0, 0.0, 0.0, 0.3333333333333333, 0.0, 0.14285714285714285, 0.3333333333333333, 0.14285714285714285], 'Controller': [0.0, 0.0, 0.0, 0.0, 0.0, 0.045454545454545456, 0.0, 0.05263157894736842, 0.0, 0.04, 0.0, 0.0, 0.0, 0.0, 0.0, 0.0, 0.0, 0.0, 0.0, 0.1111111111111111, 0.0, 0.0, 0.0, 0.14285714285714285, 0.0, 0.0, 0.0, 0.0, 0.0, 0.0, 0.0, 0.0, 1.0, 0.08333333333333333, 0.09090909090909091, 0.058823529411764705, 0.14285714285714285, 0.0, 0.14285714285714285, 0.09090909090909091, 0.0, 0.0, 0.0, 0.5, 0.3333333333333333, 0.5, 0.0, 0.0, 0.0, 0.5, 0.0, 0.0, 0.0, 0.04, 0.0, 0.1, 0.0, 0.0, 0.0, 0.0, 0.0, 0.2, 0.0, 0.0, 0.125, 0.0, 0.0, 0.0, 0.0, 0.0, 0.0, 0.0, 0.3333333333333333, 0.0, 0.0, 0.14285714285714285, 0.0, 0.0, 0.0, 0.0, 0.0, 0.0, 0.0, 0.0, 0.0, 0.0, 0.0, 0.07142857142857142, 0.0, 0.0, 1.0, 0.0, 0.0, 0.0, 0.058823529411764705, 0.0, 0.0, 0.0, 0.0, 0.0, 0.0, 0.0, 0.3333333333333333, 0.0, 0.0, 0.125, 0.07692307692307693, 0.0, 0.0, 0.2, 0.0, 0.5, 0.09090909090909091, 0.0, 0.1111111111111111, 0.0, 0.0, 0.0, 0.0, 0.0, 0.0, 0.0, 0.0, 0.0, 0.0, 0.0, 0.0, 0.0, 0.14285714285714285, 0.0, 0.1, 0.5, 0.0, 0.0, 0.2, 0.0, 0.0, 0.1111111111111111, 0.0, 0.2, 0.1, 0.2, 0.25, 0.0, 0.0, 0.0, 0.0, 0.0, 0.0, 0.0, 0.0, 0.0, 0.0, 0.0, 0.0, 0.0, 0.0, 1.0, 0.0, 0.0, 0.0, 0.0, 0.0, 0.0, 0.09090909090909091, 0.0, 0.0, 0.0, 0.2, 0.0, 0.0, 0.0, 0.0, 0.0, 0.0, 0.2, 0.0, 0.0, 0.0, 0.058823529411764705, 0.0, 0.0, 0.0, 0.0, 0.0, 0.0, 0.3333333333333333, 0.0, 1.0, 0.0, 0.0, 0.0, 0.0, 0.3333333333333333, 0.2, 0.0, 0.0, 0.06666666666666667, 0.058823529411764705, 0.3333333333333333, 0.0, 0.0, 0.0, 0.5, 0.0, 0.0, 0.0, 0.0, 0.0, 0.0, 0.0, 0.0, 0.0, 0.0, 1.0, 0.0, 0.0, 0.0, 0.0, 0.0, 0.0, 0.0], 'Senior Manager Yield and Revenue Management': [0.0, 0.4, 0.0, 0.0, 0.0, 0.08333333333333333, 0.07142857142857142, 0.0, 0.0, 0.0, 0.0, 0.0, 0.0, 0.0, 0.0, 0.0, 0.0, 0.5, 0.0, 0.0, 0.4, 0.2, 0.0, 0.0, 0.07407407407407407, 0.07692307692307693, 0.0, 0.0, 0.125, 0.125, 0.25, 0.1, 0.0, 0.14285714285714285, 0.07142857142857142, 0.0, 0.0, 0.1, 0.0, 0.07142857142857142, 0.0, 0.0, 0.0, 0.0, 0.16666666666666666, 0.0, 0.0, 0.0, 0.0, 0.0, 0.0, 0.25, 0.0, 0.03571428571428571, 0.2857142857142857, 0.16666666666666666, 0.1, 0.0, 0.07142857142857142, 0.16666666666666666, 0.0, 0.0, 0.2, 0.07142857142857142, 0.09090909090909091, 0.25, 0.14285714285714285, 0.0, 0.0, 0.25, 0.0, 0.2, 0.0, 0.1111111111111111, 0.2, 0.0, 0.0, 0.0, 0.0, 0.0, 0.125, 0.1111111111111111, 0.0, 0.14285714285714285, 0.09090909090909091, 0.05555555555555555, 0.0, 0.058823529411764705, 0.25, 0.0, 0.0, 1.0, 0.3333333333333333, 0.0, 0.16666666666666666, 0.0, 0.2, 0.0, 0.14285714285714285, 0.0, 0.0, 0.16666666666666666, 0.16666666666666666, 0.125, 0.0, 0.09090909090909091, 0.13333333333333333, 0.16666666666666666, 0.0, 0.0, 0.2, 0.0, 0.07142857142857142, 0.0, 0.08333333333333333, 0.0, 0.0, 0.1111111111111111, 0.0, 0.07692307692307693, 0.25, 0.058823529411764705, 0.125, 0.2, 0.16666666666666666, 0.0, 0.0, 0.0, 0.1, 0.1111111111111111, 0.07692307692307693, 0.0, 0.0, 0.0, 0.125, 0.0, 0.0, 0.08333333333333333, 0.0, 0.125, 0.07692307692307693, 0.2857142857142857, 0.14285714285714285, 0.4, 0.0, 0.4, 0.0, 0.4, 0.0, 0.2, 0.4, 0.125, 0.2, 0.125, 0.2, 0.0, 0.0, 0.0, 0.058823529411764705, 0.16666666666666666, 0.0, 0.1111111111111111, 0.14285714285714285, 0.2, 0.07142857142857142, 0.4, 0.25, 0.125, 0.0, 0.0, 0.2, 0.0, 0.25, 0.25, 0.0, 0.0, 0.16666666666666666, 0.4, 0.2222222222222222, 0.16666666666666666, 0.0, 0.14285714285714285, 0.0, 0.4, 0.0, 0.0, 0.16666666666666666, 0.14285714285714285, 0.0, 0.0, 0.0, 0.0, 0.2222222222222222, 0.16666666666666666, 0.125, 0.027777777777777776, 0.09090909090909091, 0.0, 0.16666666666666666, 0.0, 0.25, 0.0, 0.16666666666666666, 0.0, 0.1111111111111111, 0.4, 0.2, 0.4, 0.2, 0.25, 0.25, 0.25, 0.4, 0.0, 0.0, 0.0, 0.25, 0.0, 0.4, 0.1111111111111111, 0.0, 0.1111111111111111], 'Transportation Project Manager': [0.0, 0.4, 0.2, 0.0, 0.2857142857142857, 0.13043478260869565, 0.15384615384615385, 0.045454545454545456, 0.2, 0.0, 0.0, 0.0, 0.16666666666666666, 0.0, 0.0, 0.14285714285714285, 0.0, 0.2, 0.125, 0.0, 0.4, 0.0, 0.0, 0.0, 0.11538461538461539, 0.07692307692307693, 0.0625, 0.0, 0.125, 0.125, 0.25, 0.2222222222222222, 0.0, 0.23076923076923078, 0.07142857142857142, 0.05, 0.0, 0.2222222222222222, 0.0, 0.07142857142857142, 0.0, 0.16666666666666666, 0.16666666666666666, 0.0, 0.0, 0.0, 0.0, 0.0, 0.0, 0.2, 0.0, 0.25, 0.0, 0.03571428571428571, 0.125, 0.16666666666666666, 0.2222222222222222, 0.0, 0.15384615384615385, 0.4, 0.2, 0.0, 0.5, 0.15384615384615385, 0.2, 0.25, 0.3333333333333333, 0.2, 0.0, 0.0, 0.25, 0.2, 0.16666666666666666, 0.1111111111111111, 0.2, 0.0, 0.0, 0.1, 0.0625, 0.0, 0.125, 0.25, 0.0, 0.14285714285714285, 0.0, 0.0, 0.0, 0.058823529411764705, 0.25, 0.0, 0.0, 0.3333333333333333, 1.0, 0.0, 0.10526315789473684, 0.25, 0.5, 0.0, 0.0, 0.0, 0.0, 0.16666666666666666, 0.16666666666666666, 0.125, 0.0, 0.2, 0.21428571428571427, 0.0, 0.0, 0.125, 0.2, 0.2, 0.07142857142857142, 0.05555555555555555, 0.18181818181818182, 0.2, 0.25, 0.25, 0.25, 0.07692307692307693, 0.25, 0.0, 0.125, 0.2, 0.16666666666666666, 0.0, 0.14285714285714285, 0.0, 0.375, 0.25, 0.16666666666666666, 0.2, 0.0, 0.2, 0.2857142857142857, 0.0, 0.05555555555555555, 0.08333333333333333, 0.09090909090909091, 0.125, 0.16666666666666666, 0.2857142857142857, 0.14285714285714285, 0.75, 0.2, 0.75, 0.0, 0.4, 0.0, 0.5, 0.16666666666666666, 0.2857142857142857, 0.5, 0.125, 0.0, 0.2, 0.0, 0.0, 0.058823529411764705, 0.16666666666666666, 0.0, 0.25, 0.14285714285714285, 0.2, 0.07142857142857142, 0.75, 0.0, 0.125, 0.125, 0.2, 0.5, 0.25, 0.36363636363636365, 0.25, 0.5, 0.2857142857142857, 0.16666666666666666, 0.75, 0.375, 0.10526315789473684, 0.0, 0.14285714285714285, 0.25, 0.4, 0.0, 0.0, 0.16666666666666666, 0.3333333333333333, 0.0, 0.2, 0.0, 0.2, 0.375, 0.16666666666666666, 0.2857142857142857, 0.027777777777777776, 0.09090909090909091, 0.0, 0.10526315789473684, 0.16666666666666666, 0.25, 0.25, 0.0, 0.2, 0.25, 0.75, 0.2, 0.16666666666666666, 0.5, 0.25, 0.25, 0.0, 0.75, 0.3333333333333333, 0.0, 0.2, 0.25, 0.0, 0.75, 0.25, 0.0, 0.25], 'Chemical Technician': [0.0, 0.0, 0.5, 1.0, 0.0, 0.0, 0.09090909090909091, 0.05263157894736842, 0.0, 0.04, 0.0, 0.0, 0.0, 0.0, 0.0, 0.25, 0.0, 0.0, 0.0, 0.1111111111111111, 0.0, 0.0, 0.0, 0.14285714285714285, 0.0, 0.1, 0.0, 0.0, 0.0, 0.0, 0.0, 0.0, 0.0, 0.0, 0.09090909090909091, 0.0, 0.14285714285714285, 0.14285714285714285, 0.0, 0.09090909090909091, 0.0, 0.0, 0.0, 0.0, 0.0, 0.0, 0.0, 0.1, 0.1111111111111111, 0.0, 0.0, 0.0, 0.1, 0.04, 0.0, 0.0, 0.14285714285714285, 0.0, 0.09090909090909091, 0.0, 0.0, 0.0, 0.0, 0.0, 0.0, 0.0, 0.0, 0.0, 0.0, 0.0, 0.0, 0.0, 0.0, 0.0, 0.0, 0.14285714285714285, 0.0, 0.0, 0.0, 0.0, 0.0, 0.0, 0.0, 0.0, 0.125, 0.0, 0.0, 0.0, 0.0, 0.0, 0.0, 0.0, 0.0, 1.0, 0.058823529411764705, 0.0, 0.0, 0.0, 0.0, 0.0, 0.0, 0.0, 0.0, 0.0, 0.0, 0.0, 0.0, 0.0, 0.0, 0.2, 0.0, 0.0, 0.09090909090909091, 0.0, 0.0, 0.0, 0.0, 0.0, 0.0, 0.0, 0.0, 0.0, 0.0, 0.0, 0.0, 0.0, 0.0, 0.0, 0.0, 0.0, 0.0, 0.0, 0.0, 0.0, 0.2, 0.0, 0.0, 0.0, 0.0, 0.0, 0.1, 0.0, 0.0, 0.0, 0.0, 0.0, 1.0, 0.0, 0.0, 0.0, 0.0, 0.0, 0.0, 0.0, 0.0, 0.0, 0.0, 0.0, 0.0, 0.0, 0.0, 0.0, 0.0, 0.0, 0.09090909090909091, 0.0, 0.0, 0.0, 0.2, 0.0, 0.0, 0.0, 0.09090909090909091, 0.0, 0.0, 0.0, 0.0, 0.0, 0.0, 0.058823529411764705, 0.0, 0.0, 0.0, 0.0, 0.0, 0.0, 0.0, 0.0, 0.0, 0.0, 0.0, 0.0, 0.0, 0.0, 0.2, 0.030303030303030304, 0.0, 0.0, 0.058823529411764705, 0.0, 0.0, 0.0, 0.0, 0.0, 0.0, 0.0, 0.0, 0.0, 0.0, 0.0, 0.0, 0.0, 0.0, 0.0, 0.0, 0.0, 0.0, 0.0, 0.0, 0.0, 0.0, 0.0], 'Investment Advisor': [0.14285714285714285, 0.1111111111111111, 0.11764705882352941, 0.058823529411764705, 0.1, 0.11428571428571428, 0.21739130434782608, 0.16129032258064516, 0.05555555555555555, 0.16666666666666666, 0.05555555555555555, 0.0, 0.1111111111111111, 0.0, 0.0, 0.16666666666666666, 0.0, 0.11764705882352941, 0.15789473684210525, 0.13043478260869565, 0.1111111111111111, 0.05555555555555555, 0.05555555555555555, 0.09090909090909091, 0.13513513513513514, 0.08, 0.2, 0.0, 0.047619047619047616, 0.047619047619047616, 0.058823529411764705, 0.14285714285714285, 0.058823529411764705, 0.16, 0.3333333333333333, 0.0967741935483871, 0.09090909090909091, 0.2, 0.043478260869565216, 0.3333333333333333, 0.05, 0.1111111111111111, 0.05263157894736842, 0.11764705882352941, 0.17647058823529413, 0.11764705882352941, 0.05555555555555555, 0.125, 0.04, 0.11764705882352941, 0.0, 0.09523809523809523, 0.125, 0.3125, 0.15789473684210525, 0.08, 0.2, 0.058823529411764705, 0.21739130434782608, 0.17647058823529413, 0.05555555555555555, 0.047619047619047616, 0.11764705882352941, 0.07692307692307693, 0.3157894736842105, 0.058823529411764705, 0.10526315789473684, 0.05555555555555555, 0.058823529411764705, 0.058823529411764705, 0.058823529411764705, 0.11764705882352941, 0.05263157894736842, 0.2692307692307692, 0.05555555555555555, 0.09090909090909091, 0.0, 0.043478260869565216, 0.2, 0.05555555555555555, 0.047619047619047616, 0.09523809523809523, 0.0, 0.16666666666666666, 0.08695652173913043, 0.06666666666666667, 0.0, 0.24, 0.058823529411764705, 0.05555555555555555, 0.058823529411764705, 0.16666666666666666, 0.10526315789473684, 0.058823529411764705, 1.0, 0.058823529411764705, 0.11764705882352941, 0.0, 0.10526315789473684, 0.0, 0.0, 0.1111111111111111, 0.17647058823529413, 0.047619047619047616, 0.05263157894736842, 0.08695652173913043, 0.2, 0.1111111111111111, 0.12, 0.2222222222222222, 0.05555555555555555, 0.11764705882352941, 0.3333333333333333, 0.10344827586206896, 0.18181818181818182, 0.05555555555555555, 0.0, 0.15, 0.058823529411764705, 0.0, 0.058823529411764705, 0.03333333333333333, 0.047619047619047616, 0.05555555555555555, 0.1111111111111111, 0.058823529411764705, 0.10526315789473684, 0.0, 0.2, 0.15, 0.125, 0.05555555555555555, 0.058823529411764705, 0.05555555555555555, 0.2222222222222222, 0.11764705882352941, 0.14285714285714285, 0.04, 0.041666666666666664, 0.047619047619047616, 0.2857142857142857, 0.2222222222222222, 0.23529411764705882, 0.05263157894736842, 0.11764705882352941, 0.05263157894736842, 0.058823529411764705, 0.1111111111111111, 0.058823529411764705, 0.11764705882352941, 0.05263157894736842, 0.2222222222222222, 0.11764705882352941, 0.1, 0.05555555555555555, 0.05555555555555555, 0.0, 0.058823529411764705, 0.10714285714285714, 0.1111111111111111, 0.045454545454545456, 0.15, 0.16666666666666666, 0.11764705882352941, 0.3333333333333333, 0.05263157894736842, 0.058823529411764705, 0.047619047619047616, 0.2222222222222222, 0.05555555555555555, 0.11764705882352941, 0.058823529411764705, 0.2727272727272727, 0.058823529411764705, 0.05555555555555555, 0.15789473684210525, 0.05263157894736842, 0.05263157894736842, 0.2631578947368421, 1.0, 0.05555555555555555, 0.16666666666666666, 0.058823529411764705, 0.05263157894736842, 0.0, 0.0, 0.17647058823529413, 0.10526315789473684, 0.058823529411764705, 0.05555555555555555, 0.05555555555555555, 0.05555555555555555, 0.14285714285714285, 0.17647058823529413, 0.2222222222222222, 0.1111111111111111, 0.0, 0.06666666666666667, 1.0, 0.1111111111111111, 0.058823529411764705, 0.058823529411764705, 0.1111111111111111, 0.11764705882352941, 0.15, 0.05263157894736842, 0.0, 0.05263157894736842, 0.11764705882352941, 0.058823529411764705, 0.058823529411764705, 0.058823529411764705, 0.05263157894736842, 0.10526315789473684, 0.058823529411764705, 0.05555555555555555, 0.058823529411764705, 0.11764705882352941, 0.05263157894736842, 0.15, 0.05555555555555555, 0.15], 'Oceanographer': [0.0, 0.3333333333333333, 0.5, 0.0, 0.2, 0.045454545454545456, 0.09090909090909091, 0.05263157894736842, 0.5, 0.0, 0.0, 0.0, 0.3333333333333333, 0.0, 0.0, 0.25, 0.0, 0.0, 0.2, 0.0, 0.3333333333333333, 0.0, 0.0, 0.0, 0.04, 0.0, 0.07692307692307693, 0.0, 0.0, 0.0, 0.0, 0.14285714285714285, 0.0, 0.08333333333333333, 0.09090909090909091, 0.058823529411764705, 0.0, 0.14285714285714285, 0.0, 0.09090909090909091, 0.0, 0.3333333333333333, 0.0, 0.0, 0.0, 0.0, 0.0, 0.0, 0.0, 0.5, 0.0, 0.0, 0.0, 0.04, 0.0, 0.0, 0.14285714285714285, 0.0, 0.09090909090909091, 0.3333333333333333, 0.0, 0.0, 0.5, 0.0, 0.125, 0.0, 0.25, 0.5, 0.0, 0.0, 1.0, 0.5, 0.0, 0.0625, 0.0, 0.0, 0.0, 0.14285714285714285, 0.07692307692307693, 0.0, 0.0, 0.16666666666666666, 0.0, 0.25, 0.0, 0.0, 0.0, 0.0, 0.0, 0.0, 0.0, 0.0, 0.25, 0.0, 0.058823529411764705, 1.0, 0.5, 0.0, 0.0, 0.0, 0.0, 0.3333333333333333, 0.3333333333333333, 0.0, 0.0, 0.0, 0.07692307692307693, 0.0, 0.0, 0.2, 0.0, 0.5, 0.09090909090909091, 0.06666666666666667, 0.1111111111111111, 0.5, 0.0, 0.16666666666666666, 1.0, 0.0, 0.0, 0.0, 0.0, 0.0, 0.3333333333333333, 0.0, 0.0, 0.0, 0.14285714285714285, 0.16666666666666666, 0.1, 0.0, 0.0, 0.0, 0.2, 0.0, 0.06666666666666667, 0.0, 0.125, 0.0, 0.1, 0.2, 0.25, 0.0, 0.5, 0.0, 0.0, 0.3333333333333333, 0.0, 0.5, 0.0, 0.2, 0.5, 0.2, 0.0, 0.5, 0.0, 0.0, 0.0, 0.0, 0.0, 0.16666666666666666, 0.25, 0.0, 0.09090909090909091, 0.0, 0.0, 0.0, 0.2, 0.5, 0.5, 1.0, 0.09090909090909091, 0.0, 0.5, 0.2, 0.0, 0.0, 0.14285714285714285, 0.058823529411764705, 0.0, 0.25, 1.0, 0.0, 0.0, 0.0, 0.3333333333333333, 0.25, 0.0, 0.0, 0.0, 0.5, 0.14285714285714285, 0.3333333333333333, 0.2, 0.0, 0.0, 0.0, 0.058823529411764705, 0.3333333333333333, 0.0, 1.0, 0.0, 0.5, 0.16666666666666666, 0.0, 0.0, 0.0, 0.5, 0.0, 0.0, 0.0, 0.0, 0.25, 0.0, 0.0, 0.0, 0.0, 0.0, 0.16666666666666666, 0.0, 0.16666666666666666], 'Sales Coordinator': [0.0, 0.25, 0.3333333333333333, 0.0, 0.16666666666666666, 0.09090909090909091, 0.18181818181818182, 0.05, 0.3333333333333333, 0.0, 0.0, 0.0, 0.25, 0.0, 0.0, 0.2, 0.0, 0.3333333333333333, 0.16666666666666666, 0.0, 0.25, 0.0, 0.0, 0.0, 0.08, 0.09090909090909091, 0.07142857142857142, 0.0, 0.0, 0.0, 0.5, 0.125, 0.0, 0.16666666666666666, 0.08333333333333333, 0.05555555555555555, 0.0, 0.125, 0.0, 0.08333333333333333, 0.0, 0.25, 0.0, 0.0, 0.0, 0.0, 0.0, 0.0, 0.0, 0.3333333333333333, 0.0, 0.14285714285714285, 0.0, 0.038461538461538464, 0.16666666666666666, 0.09090909090909091, 0.125, 0.0, 0.18181818181818182, 0.6666666666666666, 0.0, 0.0, 1.0, 0.08333333333333333, 0.25, 0.5, 0.5, 0.3333333333333333, 0.0, 0.0, 0.5, 0.3333333333333333, 0.0, 0.125, 0.3333333333333333, 0.0, 0.0, 0.125, 0.07142857142857142, 0.0, 0.16666666666666666, 0.14285714285714285, 0.0, 0.2, 0.0, 0.0, 0.0, 0.06666666666666667, 0.5, 0.0, 0.0, 0.2, 0.5, 0.0, 0.11764705882352941, 0.5, 1.0, 0.0, 0.0, 0.0, 0.0, 0.25, 0.25, 0.0, 0.0, 0.1111111111111111, 0.15384615384615385, 0.0, 0.0, 0.16666666666666666, 0.3333333333333333, 0.3333333333333333, 0.08333333333333333, 0.0625, 0.2222222222222222, 0.3333333333333333, 0.0, 0.14285714285714285, 0.5, 0.0, 0.5, 0.0, 0.0, 0.3333333333333333, 0.25, 0.0, 0.0, 0.0, 0.2857142857142857, 0.14285714285714285, 0.09090909090909091, 0.0, 0.0, 0.0, 0.4, 0.0, 0.0625, 0.0, 0.1111111111111111, 0.0, 0.2, 0.4, 0.2, 0.25, 0.3333333333333333, 0.25, 0.0, 0.25, 0.0, 1.0, 0.0, 0.4, 1.0, 0.16666666666666666, 0.0, 0.3333333333333333, 0.0, 0.0, 0.0, 0.25, 0.0, 0.14285714285714285, 0.2, 0.3333333333333333, 0.08333333333333333, 0.25, 0.0, 0.0, 0.16666666666666666, 0.3333333333333333, 1.0, 0.5, 0.18181818181818182, 0.5, 0.3333333333333333, 0.16666666666666666, 0.25, 0.25, 0.2857142857142857, 0.11764705882352941, 0.0, 0.2, 0.5, 0.25, 0.0, 0.0, 0.25, 0.5, 0.0, 0.0, 0.0, 0.3333333333333333, 0.2857142857142857, 0.25, 0.4, 0.029411764705882353, 0.0, 0.0, 0.11764705882352941, 0.25, 0.5, 0.5, 0.0, 0.3333333333333333, 0.14285714285714285, 0.25, 0.0, 0.0, 1.0, 0.5, 0.5, 0.0, 0.25, 0.2, 0.0, 0.0, 0.5, 0.0, 0.25, 0.14285714285714285, 0.0, 0.14285714285714285], 'Concierge': [0.0, 0.0, 0.0, 0.0, 0.2, 0.045454545454545456, 0.09090909090909091, 0.05263157894736842, 0.0, 0.04, 0.0, 0.09090909090909091, 0.3333333333333333, 1.0, 0.3333333333333333, 0.0, 0.5, 0.0, 0.2, 0.0, 0.0, 0.0, 0.0, 0.0, 0.04, 0.0, 0.07692307692307693, 0.125, 0.2, 0.2, 0.0, 0.0, 0.0, 0.08333333333333333, 0.09090909090909091, 0.058823529411764705, 0.0, 0.14285714285714285, 0.14285714285714285, 0.09090909090909091, 0.0, 0.0, 0.0, 0.0, 0.0, 0.0, 0.0, 0.0, 0.0, 0.0, 0.125, 0.16666666666666666, 0.0, 0.04, 0.0, 0.1, 0.14285714285714285, 0.0, 0.09090909090909091, 0.0, 0.0, 0.0, 0.0, 0.0, 0.0, 0.0, 0.25, 0.0, 0.0, 0.0, 0.0, 0.0, 0.0, 0.0625, 0.0, 0.0, 0.0, 0.0, 0.0, 0.0, 0.2, 0.16666666666666666, 0.0, 0.0, 0.125, 0.0, 0.0, 0.07142857142857142, 0.0, 0.0, 0.0, 0.0, 0.0, 0.0, 0.0, 0.0, 0.0, 1.0, 0.25, 0.125, 0.25, 0.0, 0.0, 0.2, 0.0, 0.0, 0.0, 0.0, 0.09090909090909091, 0.0, 0.5, 0.0, 0.09090909090909091, 0.0, 0.1111111111111111, 0.0, 0.0, 0.0, 0.0, 0.1, 0.0, 0.07142857142857142, 0.2, 0.0, 0.0, 0.0, 0.0, 0.16666666666666666, 0.0, 0.0, 0.1, 0.0, 0.0, 0.0, 0.0, 0.0, 0.0, 0.0, 0.0, 0.0, 0.1, 0.0, 0.0, 0.0, 0.0, 0.0, 0.0, 0.0, 0.0, 0.0, 0.0, 0.0, 0.0, 0.0, 0.0, 0.0, 0.0, 0.0, 0.07142857142857142, 0.0, 0.0, 0.0, 0.0, 0.0, 0.09090909090909091, 0.0, 0.0, 0.2, 0.0, 0.0, 0.0, 0.0, 0.0, 0.0, 0.0, 0.0, 0.0, 0.0, 0.0, 0.0, 0.5, 0.0, 0.0, 0.0, 0.0, 0.0, 0.0, 0.25, 0.0, 0.0, 0.0, 0.0, 0.0, 0.0, 0.0, 0.030303030303030304, 0.125, 0.06666666666666667, 0.0, 0.0, 0.0, 0.0, 0.0, 0.0, 0.0, 0.0, 0.0, 0.0, 0.0, 0.0, 0.0, 0.0, 0.0, 0.0, 0.0, 0.0, 0.0, 0.0, 0.0, 0.0, 0.5, 0.0], 'Institutional Research Business Intelligence Systems Analyst': [0.0, 0.16666666666666666, 0.0, 0.0, 0.2857142857142857, 0.04, 0.15384615384615385, 0.09523809523809523, 0.2, 0.07407407407407407, 0.0, 0.07142857142857142, 0.4, 0.25, 0.16666666666666666, 0.0, 0.2, 0.2, 0.125, 0.0, 0.16666666666666666, 0.5, 0.5, 0.0, 0.07407407407407407, 0.0, 0.0625, 0.2, 0.5, 0.5, 0.0, 0.2222222222222222, 0.0, 0.14285714285714285, 0.36363636363636365, 0.05, 0.0, 0.375, 0.1, 0.36363636363636365, 0.0, 0.0, 0.0, 0.0, 0.16666666666666666, 0.0, 0.5, 0.07692307692307693, 0.0, 0.0, 0.09090909090909091, 0.42857142857142855, 0.07692307692307693, 0.16, 0.125, 0.16666666666666666, 0.375, 0.25, 0.15384615384615385, 0.16666666666666666, 0.2, 0.0, 0.0, 0.07142857142857142, 0.09090909090909091, 0.0, 0.14285714285714285, 0.0, 0.25, 0.25, 0.0, 0.2, 0.0, 0.17647058823529413, 0.0, 0.0, 0.0, 0.0, 0.0625, 0.0, 0.125, 0.42857142857142855, 0.0, 0.6, 0.3333333333333333, 0.05555555555555555, 0.125, 0.058823529411764705, 0.0, 0.5, 0.0, 0.14285714285714285, 0.0, 0.0, 0.10526315789473684, 0.0, 0.0, 0.25, 1.0, 0.2, 0.14285714285714285, 0.16666666666666666, 0.16666666666666666, 0.5, 0.0, 0.0, 0.13333333333333333, 0.4, 0.15384615384615385, 0.125, 0.2, 0.0, 0.36363636363636365, 0.05555555555555555, 0.18181818181818182, 0.2, 0.0, 0.25, 0.0, 0.16666666666666666, 0.0, 0.125, 0.5, 0.0, 0.16666666666666666, 0.0, 0.0, 0.1111111111111111, 0.0, 0.25, 0.16666666666666666, 0.0, 0.25, 0.0, 0.0, 0.2, 0.05555555555555555, 0.08333333333333333, 0.09090909090909091, 0.125, 0.07692307692307693, 0.125, 0.14285714285714285, 0.0, 0.0, 0.0, 0.0, 0.16666666666666666, 0.0, 0.0, 0.4, 0.0, 0.0, 0.125, 0.2, 0.0, 0.0, 0.0, 0.125, 0.0, 0.0, 0.25, 0.6, 0.0, 0.36363636363636365, 0.0, 0.25, 0.5, 0.125, 0.2, 0.0, 0.0, 0.15384615384615385, 0.0, 0.0, 0.0, 0.0, 0.0, 0.2222222222222222, 0.10526315789473684, 0.5, 0.6, 0.0, 0.0, 0.0, 0.0, 0.16666666666666666, 0.14285714285714285, 0.0, 0.0, 0.5, 0.0, 0.2222222222222222, 0.16666666666666666, 0.0, 0.05714285714285714, 0.09090909090909091, 0.1875, 0.10526315789473684, 0.0, 0.0, 0.0, 0.4, 0.0, 0.25, 0.0, 0.0, 0.4, 0.0, 0.0, 0.0, 0.25, 0.0, 0.0, 0.0, 0.0, 0.0, 0.2, 0.0, 0.25, 0.5, 0.25], 'Producer': [0.09523809523809523, 0.0, 0.0, 0.0, 0.08333333333333333, 0.1111111111111111, 0.05555555555555555, 0.17391304347826086, 0.1111111111111111, 0.17857142857142858, 0.0, 0.26666666666666666, 0.1, 0.125, 0.1, 0.09090909090909091, 0.25, 0.0, 0.18181818181818182, 0.0, 0.0, 0.1111111111111111, 0.1111111111111111, 0.0, 0.06451612903225806, 0.2, 0.23529411764705882, 1.0, 0.18181818181818182, 0.18181818181818182, 0.0, 0.15384615384615385, 0.0, 0.17647058823529413, 0.11764705882352941, 0.19047619047619047, 0.0, 0.07142857142857142, 0.15384615384615385, 0.11764705882352941, 0.2, 0.0, 0.0, 0.0, 0.0, 0.0, 0.1111111111111111, 0.0, 0.21428571428571427, 0.0, 0.06666666666666667, 0.16666666666666666, 0.0, 0.13793103448275862, 0.0, 0.2, 0.07142857142857142, 0.0, 0.05555555555555555, 0.0, 0.0, 0.08333333333333333, 0.0, 0.0, 0.14285714285714285, 0.0, 0.09090909090909091, 0.1111111111111111, 0.0, 0.0, 0.0, 0.0, 0.0, 0.2, 0.0, 0.0, 0.08333333333333333, 0.07142857142857142, 0.0, 0.0, 0.18181818181818182, 0.16666666666666666, 0.06666666666666667, 0.09090909090909091, 0.23076923076923078, 0.0, 0.08333333333333333, 0.1, 0.0, 0.1111111111111111, 0.0, 0.0, 0.0, 0.0, 0.0, 0.0, 0.0, 0.125, 0.2, 1.0, 0.5, 0.1, 0.0, 0.18181818181818182, 0.0, 0.0, 0.05, 0.1, 0.05555555555555555, 0.08333333333333333, 0.1111111111111111, 0.0, 0.11764705882352941, 0.09523809523809523, 0.0625, 0.1111111111111111, 0.0, 0.07692307692307693, 0.0, 0.2, 0.0, 0.2222222222222222, 0.18181818181818182, 0.0, 0.1, 0.0, 0.0, 0.2727272727272727, 0.0, 0.07692307692307693, 0.058823529411764705, 0.0, 0.0, 0.0, 0.0, 0.0, 0.21052631578947367, 0.21428571428571427, 0.23076923076923078, 0.08333333333333333, 0.058823529411764705, 0.0, 0.0, 0.0, 0.0, 0.0, 0.0, 0.0, 0.0, 0.0, 0.1, 0.0, 0.0, 0.0, 0.0, 0.0, 0.0, 0.0, 0.15789473684210525, 0.0, 0.2727272727272727, 0.07692307692307693, 0.09090909090909091, 0.0, 0.11764705882352941, 0.0, 0.0, 0.18181818181818182, 0.08333333333333333, 0.1111111111111111, 0.0, 0.0, 0.05555555555555555, 0.0, 0.0, 0.08333333333333333, 0.0, 0.0, 0.0, 0.0, 0.1111111111111111, 0.09090909090909091, 0.0, 0.0, 0.0, 0.0, 0.0, 0.09090909090909091, 0.0, 0.0, 0.1111111111111111, 0.0, 0.07142857142857142, 0.0, 0.0, 0.17142857142857143, 0.23076923076923078, 0.15, 0.0, 0.0, 0.0, 0.0, 0.1, 0.0, 0.07692307692307693, 0.0, 0.0, 0.1, 0.0, 0.0, 0.0, 0.0, 0.0, 0.0, 0.0, 0.0, 0.0, 0.0, 0.0, 0.07692307692307693, 0.1111111111111111, 0.07692307692307693], 'Commercial Sales Representative': [0.11764705882352941, 0.0, 0.0, 0.0, 0.125, 0.13043478260869565, 0.07142857142857142, 0.21052631578947367, 0.0, 0.11538461538461539, 0.0, 0.25, 0.16666666666666666, 0.25, 0.16666666666666666, 0.14285714285714285, 0.5, 0.0, 0.125, 0.0, 0.0, 0.0, 0.0, 0.0, 0.07407407407407407, 0.2727272727272727, 0.21428571428571427, 0.5, 0.125, 0.125, 0.0, 0.1, 0.0, 0.14285714285714285, 0.07142857142857142, 0.16666666666666666, 0.0, 0.1, 0.2222222222222222, 0.07142857142857142, 0.14285714285714285, 0.0, 0.0, 0.0, 0.0, 0.0, 0.0, 0.0, 0.3, 0.0, 0.09090909090909091, 0.1111111111111111, 0.0, 0.11538461538461539, 0.0, 0.16666666666666666, 0.1, 0.0, 0.07142857142857142, 0.0, 0.0, 0.125, 0.0, 0.0, 0.09090909090909091, 0.0, 0.14285714285714285, 0.2, 0.0, 0.0, 0.0, 0.0, 0.0, 0.1111111111111111, 0.0, 0.0, 0.125, 0.0, 0.0, 0.0, 0.2857142857142857, 0.1111111111111111, 0.09090909090909091, 0.0, 0.2, 0.0, 0.0, 0.125, 0.0, 0.0, 0.0, 0.0, 0.0, 0.0, 0.0, 0.0, 0.0, 0.25, 0.14285714285714285, 0.5, 1.0, 0.16666666666666666, 0.0, 0.125, 0.0, 0.0, 0.0, 0.0, 0.07142857142857142, 0.125, 0.2, 0.0, 0.07142857142857142, 0.11764705882352941, 0.08333333333333333, 0.0, 0.0, 0.0, 0.0, 0.16666666666666666, 0.0, 0.2, 0.125, 0.0, 0.16666666666666666, 0.0, 0.0, 0.25, 0.0, 0.0, 0.07692307692307693, 0.0, 0.0, 0.0, 0.0, 0.0, 0.11764705882352941, 0.08333333333333333, 0.2, 0.0, 0.07692307692307693, 0.0, 0.0, 0.0, 0.0, 0.0, 0.0, 0.0, 0.0, 0.0, 0.0, 0.0, 0.0, 0.0, 0.0, 0.0, 0.0, 0.0, 0.2, 0.0, 0.25, 0.0, 0.0, 0.0, 0.07142857142857142, 0.0, 0.0, 0.125, 0.125, 0.0, 0.0, 0.0, 0.07142857142857142, 0.0, 0.0, 0.125, 0.0, 0.0, 0.0, 0.0, 0.2, 0.0, 0.0, 0.0, 0.0, 0.0, 0.0, 0.14285714285714285, 0.0, 0.0, 0.0, 0.0, 0.0, 0.0, 0.0, 0.08823529411764706, 0.2, 0.05555555555555555, 0.0, 0.0, 0.0, 0.0, 0.0, 0.0, 0.0, 0.0, 0.0, 0.0, 0.0, 0.0, 0.0, 0.0, 0.0, 0.0, 0.0, 0.0, 0.0, 0.0, 0.0, 0.0, 0.2, 0.0], 'Electrical Design Engineer': [0.0, 0.5, 0.25, 0.0, 0.14285714285714285, 0.041666666666666664, 0.07692307692307693, 0.1, 0.25, 0.0, 0.0, 0.0, 0.2, 0.0, 0.0, 0.4, 0.25, 0.25, 0.14285714285714285, 0.0, 0.5, 0.25, 0.0, 0.0, 0.037037037037037035, 0.08333333333333333, 0.06666666666666667, 0.1, 0.0, 0.0, 0.0, 0.42857142857142855, 0.0, 0.07142857142857142, 0.16666666666666666, 0.05263157894736842, 0.0, 0.25, 0.0, 0.16666666666666666, 0.0, 0.2, 0.0, 0.0, 0.2, 0.0, 0.0, 0.0, 0.09090909090909091, 0.25, 0.0, 0.0, 0.0, 0.07692307692307693, 0.14285714285714285, 0.0, 0.25, 0.0, 0.07692307692307693, 0.2, 0.0, 0.0, 0.25, 0.0, 0.1, 0.0, 0.16666666666666666, 0.25, 0.0, 0.3333333333333333, 0.3333333333333333, 0.6666666666666666, 0.0, 0.1875, 0.0, 0.0, 0.0, 0.1111111111111111, 0.06666666666666667, 0.0, 0.0, 0.125, 0.0, 0.4, 0.1, 0.058823529411764705, 0.0, 0.0, 0.0, 0.0, 0.0, 0.16666666666666666, 0.16666666666666666, 0.0, 0.1111111111111111, 0.3333333333333333, 0.25, 0.0, 0.16666666666666666, 0.1, 0.16666666666666666, 1.0, 0.5, 0.0, 0.0, 0.0, 0.14285714285714285, 0.2, 0.0, 0.14285714285714285, 0.0, 0.25, 0.16666666666666666, 0.058823529411764705, 0.09090909090909091, 0.25, 0.0, 0.2857142857142857, 0.3333333333333333, 0.0, 0.0, 0.0625, 0.0, 0.0, 1.0, 0.0, 0.0, 0.0, 0.1111111111111111, 0.2857142857142857, 0.18181818181818182, 0.0, 0.0, 0.0, 0.14285714285714285, 0.0, 0.058823529411764705, 0.0, 0.1, 0.0, 0.08333333333333333, 0.3333333333333333, 0.4, 0.0, 0.25, 0.0, 0.0, 0.5, 0.0, 0.25, 0.2, 0.14285714285714285, 0.25, 0.3333333333333333, 0.25, 0.25, 0.0, 0.0, 0.0, 0.0, 0.0, 0.2857142857142857, 0.4, 0.0, 0.16666666666666666, 0.0, 0.3333333333333333, 0.0, 0.14285714285714285, 0.25, 0.25, 0.3333333333333333, 0.2727272727272727, 0.0, 0.25, 0.14285714285714285, 0.0, 0.0, 0.25, 0.1111111111111111, 0.0, 0.4, 0.3333333333333333, 0.0, 0.0, 0.0, 0.5, 0.16666666666666666, 0.0, 0.0, 0.0, 0.25, 0.25, 0.5, 0.14285714285714285, 0.0, 0.0, 0.0, 0.1111111111111111, 0.2, 0.0, 0.3333333333333333, 0.2, 0.25, 0.2857142857142857, 0.0, 0.0, 0.2, 0.25, 0.0, 0.0, 0.3333333333333333, 0.0, 0.16666666666666666, 0.0, 0.0, 0.0, 0.0, 0.0, 0.2857142857142857, 0.0, 0.2857142857142857], 'Marketing Consultant': [0.0, 0.5, 0.25, 0.0, 0.14285714285714285, 0.08695652173913043, 0.07692307692307693, 0.1, 0.25, 0.037037037037037035, 0.0, 0.0, 0.2, 0.0, 0.0, 0.16666666666666666, 0.0, 0.25, 0.14285714285714285, 0.09090909090909091, 0.5, 0.25, 0.0, 0.1111111111111111, 0.037037037037037035, 0.0, 0.06666666666666667, 0.0, 0.0, 0.0, 0.0, 0.25, 0.3333333333333333, 0.15384615384615385, 0.2727272727272727, 0.1111111111111111, 0.1111111111111111, 0.25, 0.1111111111111111, 0.2727272727272727, 0.0, 0.2, 0.0, 0.25, 0.5, 0.25, 0.0, 0.0, 0.0, 0.6666666666666666, 0.0, 0.0, 0.0, 0.12, 0.14285714285714285, 0.08333333333333333, 0.25, 0.0, 0.07692307692307693, 0.2, 0.0, 0.14285714285714285, 0.25, 0.0, 0.2222222222222222, 0.0, 0.16666666666666666, 0.25, 0.0, 0.3333333333333333, 0.3333333333333333, 0.6666666666666666, 0.2, 0.11764705882352941, 0.0, 0.1111111111111111, 0.0, 0.1111111111111111, 0.06666666666666667, 0.0, 0.0, 0.125, 0.0, 0.4, 0.1, 0.058823529411764705, 0.0, 0.0625, 0.0, 0.0, 0.3333333333333333, 0.16666666666666666, 0.16666666666666666, 0.0, 0.17647058823529413, 0.3333333333333333, 0.25, 0.0, 0.16666666666666666, 0.0, 0.0, 0.5, 1.0, 0.0, 0.0, 0.1, 0.23076923076923078, 0.2, 0.0, 0.3333333333333333, 0.0, 0.6666666666666666, 0.2727272727272727, 0.058823529411764705, 0.2, 0.25, 0.0, 0.2857142857142857, 0.3333333333333333, 0.0, 0.0, 0.0625, 0.0, 0.0, 0.5, 0.0, 0.0, 0.0, 0.25, 0.2857142857142857, 0.3, 0.25, 0.0, 0.0, 0.3333333333333333, 0.0, 0.058823529411764705, 0.09090909090909091, 0.1, 0.14285714285714285, 0.18181818181818182, 0.6, 0.75, 0.0, 0.25, 0.0, 0.0, 0.5, 0.0, 0.25, 0.2, 0.14285714285714285, 0.25, 0.3333333333333333, 0.25, 0.25, 0.0, 0.3333333333333333, 0.0, 0.0, 0.0, 0.2857142857142857, 0.4, 0.0, 0.2727272727272727, 0.0, 0.3333333333333333, 0.0, 0.3333333333333333, 0.25, 0.25, 0.3333333333333333, 0.16666666666666666, 0.0, 0.25, 0.3333333333333333, 0.0, 0.0, 0.25, 0.17647058823529413, 0.0, 0.4, 0.3333333333333333, 0.0, 0.0, 0.0, 1.0, 0.16666666666666666, 0.3333333333333333, 0.0, 0.0, 0.25, 0.25, 1.0, 0.3333333333333333, 0.0, 0.0, 0.058823529411764705, 0.17647058823529413, 0.5, 0.0, 0.3333333333333333, 0.2, 0.6666666666666666, 0.2857142857142857, 0.0, 0.0, 0.2, 0.25, 0.0, 0.0, 0.3333333333333333, 0.0, 0.16666666666666666, 0.3333333333333333, 0.0, 0.0, 0.0, 0.0, 0.2857142857142857, 0.0, 0.2857142857142857], 'Senior Manager of Industry Analytics': [0.0, 0.14285714285714285, 0.0, 0.0, 0.25, 0.125, 0.14285714285714285, 0.09090909090909091, 0.16666666666666666, 0.07142857142857142, 0.0, 0.06666666666666667, 0.3333333333333333, 0.2, 0.14285714285714285, 0.0, 0.16666666666666666, 0.0, 0.1111111111111111, 0.0, 0.14285714285714285, 0.16666666666666666, 0.4, 0.0, 0.1111111111111111, 0.07142857142857142, 0.058823529411764705, 0.18181818181818182, 1.0, 1.0, 0.0, 0.2, 0.0, 0.21428571428571427, 0.23076923076923078, 0.1, 0.0, 0.2, 0.09090909090909091, 0.23076923076923078, 0.0, 0.0, 0.0, 0.0, 0.0, 0.0, 0.4, 0.07142857142857142, 0.07692307692307693, 0.0, 0.08333333333333333, 0.8333333333333334, 0.07142857142857142, 0.1111111111111111, 0.0, 0.25, 0.2, 0.2, 0.14285714285714285, 0.14285714285714285, 0.16666666666666666, 0.0, 0.0, 0.06666666666666667, 0.08333333333333333, 0.0, 0.125, 0.0, 0.2, 0.0, 0.0, 0.0, 0.0, 0.10526315789473684, 0.0, 0.0, 0.0, 0.0, 0.058823529411764705, 0.0, 0.1111111111111111, 0.8333333333333334, 0.0, 0.2857142857142857, 0.18181818181818182, 0.0, 0.1111111111111111, 0.05555555555555555, 0.0, 0.4, 0.0, 0.125, 0.125, 0.0, 0.047619047619047616, 0.0, 0.0, 0.2, 0.5, 0.18181818181818182, 0.125, 0.0, 0.0, 1.0, 0.0, 0.0, 0.125, 0.14285714285714285, 0.14285714285714285, 0.1111111111111111, 0.16666666666666666, 0.0, 0.23076923076923078, 0.05263157894736842, 0.16666666666666666, 0.16666666666666666, 0.0, 0.2222222222222222, 0.0, 0.25, 0.0, 0.05555555555555555, 1.0, 0.0, 0.0, 0.0, 0.0, 0.1, 0.09090909090909091, 0.2222222222222222, 0.07142857142857142, 0.0, 0.2, 0.0, 0.0, 0.16666666666666666, 0.05263157894736842, 0.16666666666666666, 0.08333333333333333, 0.25, 0.07142857142857142, 0.0, 0.0, 0.14285714285714285, 0.0, 0.14285714285714285, 0.0, 0.14285714285714285, 0.0, 0.0, 0.3333333333333333, 0.0, 0.0, 0.1111111111111111, 0.0, 0.0, 0.0, 0.0, 0.1875, 0.0, 0.0, 0.2222222222222222, 0.2857142857142857, 0.0, 0.23076923076923078, 0.14285714285714285, 0.0, 1.0, 0.1111111111111111, 0.16666666666666666, 0.0, 0.0, 0.14285714285714285, 0.0, 0.0, 0.0, 0.0, 0.14285714285714285, 0.09090909090909091, 0.047619047619047616, 0.4, 0.2857142857142857, 0.0, 0.14285714285714285, 0.0, 0.0, 0.0, 0.125, 0.0, 0.0, 0.4, 0.0, 0.09090909090909091, 0.0, 0.0, 0.05555555555555555, 0.18181818181818182, 0.17647058823529413, 0.047619047619047616, 0.0, 0.0, 0.0, 0.14285714285714285, 0.0, 0.2222222222222222, 0.14285714285714285, 0.16666666666666666, 0.3333333333333333, 0.0, 0.0, 0.0, 0.0, 0.14285714285714285, 0.0, 0.0, 0.0, 0.0, 0.16666666666666666, 0.14285714285714285, 0.2222222222222222, 0.4, 0.2222222222222222], 'Valet Parker': [0.0, 0.0, 0.0, 0.0, 0.0, 0.0, 0.0, 0.0, 0.0, 0.0, 0.0, 0.0, 0.0, 0.0, 0.0, 0.0, 0.0, 0.0, 0.0, 0.0, 0.0, 0.0, 0.0, 0.0, 0.0, 0.0, 0.0, 0.0, 0.0, 0.0, 0.0, 0.0, 0.0, 0.0, 0.0, 0.0, 0.0, 0.0, 0.0, 0.0, 0.0, 0.0, 0.0, 0.0, 0.0, 0.0, 0.0, 0.0, 0.0, 0.0, 0.0, 0.0, 0.0, 0.0, 0.0, 0.0, 0.0, 0.0, 0.0, 0.0, 0.0, 0.0, 0.0, 0.0, 0.1, 0.0, 0.0, 0.0, 0.0, 0.0, 0.0, 0.0, 0.0, 0.05555555555555555, 0.0, 0.0, 0.0, 0.0, 0.0, 0.0, 0.0, 0.0, 0.0, 0.0, 0.0, 0.0, 0.0, 0.0, 0.0, 0.0, 0.0, 0.0, 0.0, 0.0, 0.05263157894736842, 0.0, 0.0, 0.0, 0.0, 0.0, 0.0, 0.0, 0.0, 0.0, 1.0, 0.0, 0.0, 0.0, 0.0, 0.0, 0.0, 0.0, 0.0, 0.0, 0.0, 0.0, 0.0, 0.0, 0.0, 0.0, 0.0, 0.0, 0.0, 0.0, 0.0, 0.0, 0.0, 0.0, 0.0, 0.0, 0.0, 0.0, 0.0, 0.0, 0.0, 0.0, 0.0, 0.0, 0.0, 0.0, 0.0, 0.0, 0.0, 0.0, 0.0, 0.0, 0.0, 0.0, 0.0, 0.0, 0.0, 0.0, 0.0, 0.0, 0.0, 0.0, 0.0, 0.0, 0.0, 0.0, 0.0, 0.0, 0.0, 0.0, 0.0, 0.0, 0.0, 0.0, 0.0, 0.0, 0.0, 0.0, 0.0, 0.0, 0.0, 0.14285714285714285, 0.0, 0.0, 0.0, 0.05263157894736842, 0.0, 0.0, 0.0, 0.0, 0.0, 0.0, 0.0, 0.0, 0.0, 0.0, 0.0, 0.0, 0.0, 0.0, 0.0, 0.0, 0.0, 0.0, 0.05263157894736842, 0.0, 0.0, 0.0, 0.0, 0.0, 0.0, 0.0, 0.0, 0.0, 0.0, 0.0, 0.0, 0.0, 0.0, 0.0, 0.0, 0.0, 0.0, 0.0, 0.0, 0.0, 0.0, 0.0], 'Organic Lab Research Assistant': [0.0, 0.0, 0.0, 0.0, 0.08333333333333333, 0.1111111111111111, 0.05555555555555555, 0.038461538461538464, 0.0, 0.03125, 0.0, 0.0, 0.0, 0.0, 0.0, 0.0, 0.0, 0.1111111111111111, 0.0, 0.13333333333333333, 0.0, 0.0, 0.0, 0.15384615384615385, 0.03125, 0.058823529411764705, 0.0, 0.0, 0.0, 0.0, 0.125, 0.07142857142857142, 0.125, 0.1111111111111111, 0.05555555555555555, 0.041666666666666664, 0.15384615384615385, 0.07142857142857142, 0.07142857142857142, 0.05555555555555555, 0.0, 0.0, 0.1, 0.1111111111111111, 0.1, 0.1111111111111111, 0.0, 0.0, 0.0, 0.1111111111111111, 0.0, 0.07692307692307693, 0.0, 0.03125, 0.08333333333333333, 0.125, 0.07142857142857142, 0.0, 0.05555555555555555, 0.1, 0.1111111111111111, 0.08333333333333333, 0.1111111111111111, 0.11764705882352941, 0.14285714285714285, 0.125, 0.09090909090909091, 0.0, 0.0, 0.0, 0.0, 0.0, 0.2222222222222222, 0.09090909090909091, 0.1111111111111111, 0.15384615384615385, 0.0, 0.0, 0.0, 0.0, 0.08333333333333333, 0.0, 0.0, 0.0, 0.0, 0.0, 0.0, 0.1, 0.125, 0.0, 0.125, 0.09090909090909091, 0.2, 0.0, 0.08695652173913043, 0.0, 0.1111111111111111, 0.0, 0.0, 0.0, 0.0, 0.0, 0.1, 0.0, 0.0, 1.0, 0.6153846153846154, 0.0, 0.0, 0.08333333333333333, 0.1111111111111111, 0.1111111111111111, 0.05555555555555555, 0.0, 0.13333333333333333, 0.0, 0.125, 0.07692307692307693, 0.0, 0.0, 0.125, 0.0, 0.0, 0.1111111111111111, 0.0, 0.0, 0.09090909090909091, 0.0, 0.25, 0.07692307692307693, 0.125, 0.25, 0.0, 0.1111111111111111, 0.18181818181818182, 0.0, 0.0, 0.0625, 0.0, 0.08333333333333333, 0.125, 0.18181818181818182, 0.09090909090909091, 0.2222222222222222, 0.0, 0.2222222222222222, 0.0, 0.0, 0.0, 0.1111111111111111, 0.0, 0.08333333333333333, 0.1111111111111111, 0.0, 0.0, 0.0, 0.0, 0.125, 0.0, 0.1, 0.0, 0.07692307692307693, 0.0, 0.1111111111111111, 0.05555555555555555, 0.2222222222222222, 0.0, 0.0, 0.08333333333333333, 0.0, 0.1111111111111111, 0.0, 0.11764705882352941, 0.125, 0.1111111111111111, 0.18181818181818182, 0.1, 0.2222222222222222, 0.15384615384615385, 0.08695652173913043, 0.0, 0.0, 0.0, 0.1, 0.0, 0.0, 0.1, 0.09090909090909091, 0.125, 0.1111111111111111, 0.0, 0.0, 0.15384615384615385, 0.1, 0.18181818181818182, 0.025, 0.0, 0.045454545454545456, 0.08695652173913043, 0.1, 0.125, 0.0, 0.0, 0.1111111111111111, 0.07692307692307693, 0.2222222222222222, 0.0, 0.0, 0.1111111111111111, 0.125, 0.125, 0.0, 0.2222222222222222, 0.09090909090909091, 0.125, 0.1111111111111111, 0.125, 0.0, 0.2222222222222222, 0.07692307692307693, 0.0, 0.07692307692307693], 'Pharmacy Assistant': [0.037037037037037035, 0.14285714285714285, 0.07142857142857142, 0.0, 0.125, 0.16666666666666666, 0.09090909090909091, 0.06666666666666667, 0.15384615384615385, 0.02702702702702703, 0.07142857142857142, 0.0, 0.06666666666666667, 0.0, 0.0, 0.0625, 0.0, 0.15384615384615385, 0.058823529411764705, 0.1, 0.14285714285714285, 0.15384615384615385, 0.07142857142857142, 0.1111111111111111, 0.08571428571428572, 0.09523809523809523, 0.08333333333333333, 0.05, 0.125, 0.125, 0.07692307692307693, 0.42857142857142855, 0.07692307692307693, 0.19047619047619047, 0.2631578947368421, 0.1111111111111111, 0.1111111111111111, 0.17647058823529413, 0.05263157894736842, 0.2631578947368421, 0.0, 0.06666666666666667, 0.06666666666666667, 0.07142857142857142, 0.14285714285714285, 0.15384615384615385, 0.07142857142857142, 0.0, 0.047619047619047616, 0.15384615384615385, 0.0, 0.1875, 0.0, 0.15151515151515152, 0.125, 0.15, 0.17647058823529413, 0.0, 0.09090909090909091, 0.14285714285714285, 0.07142857142857142, 0.058823529411764705, 0.15384615384615385, 0.09090909090909091, 0.23529411764705882, 0.07692307692307693, 0.13333333333333333, 0.07142857142857142, 0.0, 0.07692307692307693, 0.07692307692307693, 0.15384615384615385, 0.14285714285714285, 0.2608695652173913, 0.07142857142857142, 0.1111111111111111, 0.0, 0.05263157894736842, 0.04, 0.07142857142857142, 0.058823529411764705, 0.1875, 0.0, 0.21428571428571427, 0.10526315789473684, 0.037037037037037035, 0.058823529411764705, 0.08, 0.07692307692307693, 0.07142857142857142, 0.07692307692307693, 0.13333333333333333, 0.21428571428571427, 0.0, 0.2, 0.07692307692307693, 0.15384615384615385, 0.0, 0.13333333333333333, 0.05, 0.0, 0.14285714285714285, 0.23076923076923078, 0.125, 0.0, 0.6153846153846154, 1.0, 0.23076923076923078, 0.043478260869565216, 0.125, 0.07142857142857142, 0.15384615384615385, 0.2631578947368421, 0.037037037037037035, 0.15789473684210525, 0.15384615384615385, 0.07692307692307693, 0.46153846153846156, 0.07692307692307693, 0.045454545454545456, 0.07692307692307693, 0.038461538461538464, 0.125, 0.07142857142857142, 0.14285714285714285, 0.0, 0.13333333333333333, 0.0, 0.3333333333333333, 0.46153846153846156, 0.21052631578947367, 0.15384615384615385, 0.0, 0.07142857142857142, 0.2, 0.0, 0.12, 0.1, 0.10526315789473684, 0.125, 0.15, 0.2857142857142857, 0.3076923076923077, 0.14285714285714285, 0.15384615384615385, 0.14285714285714285, 0.0, 0.14285714285714285, 0.0, 0.15384615384615385, 0.14285714285714285, 0.2, 0.15384615384615385, 0.2, 0.07142857142857142, 0.07142857142857142, 0.0, 0.07692307692307693, 0.038461538461538464, 0.06666666666666667, 0.0, 0.46153846153846156, 0.21428571428571427, 0.07142857142857142, 0.2631578947368421, 0.14285714285714285, 0.07692307692307693, 0.125, 0.125, 0.15384615384615385, 0.15384615384615385, 0.07692307692307693, 0.2, 0.07692307692307693, 0.15384615384615385, 0.2, 0.06666666666666667, 0.14285714285714285, 0.25, 0.2, 0.0, 0.21428571428571427, 0.07692307692307693, 0.06666666666666667, 0.0, 0.0, 0.23076923076923078, 0.13333333333333333, 0.07692307692307693, 0.07142857142857142, 0.07142857142857142, 0.07142857142857142, 0.3333333333333333, 0.23076923076923078, 0.2, 0.06976744186046512, 0.0, 0.07692307692307693, 0.2, 0.14285714285714285, 0.07692307692307693, 0.07692307692307693, 0.23076923076923078, 0.15384615384615385, 0.46153846153846156, 0.14285714285714285, 0.0, 0.14285714285714285, 0.15384615384615385, 0.07692307692307693, 0.07692307692307693, 0.07692307692307693, 0.14285714285714285, 0.13333333333333333, 0.07692307692307693, 0.07142857142857142, 0.07692307692307693, 0.0, 0.14285714285714285, 0.46153846153846156, 0.0, 0.46153846153846156], 'Lineman': [0.058823529411764705, 0.2, 0.0, 0.0, 0.0, 0.0, 0.0, 0.0, 0.25, 0.0, 0.25, 0.0, 0.0, 0.0, 0.0, 0.0, 0.0, 0.25, 0.0, 0.0, 0.2, 0.6666666666666666, 0.25, 0.0, 0.037037037037037035, 0.0, 0.06666666666666667, 0.1, 0.14285714285714285, 0.14285714285714285, 0.0, 0.42857142857142855, 0.0, 0.07142857142857142, 0.2727272727272727, 0.0, 0.0, 0.1111111111111111, 0.0, 0.2727272727272727, 0.0, 0.0, 0.0, 0.0, 0.2, 0.25, 0.25, 0.0, 0.0, 0.0, 0.0, 0.125, 0.0, 0.12, 0.14285714285714285, 0.08333333333333333, 0.1111111111111111, 0.0, 0.0, 0.0, 0.0, 0.0, 0.0, 0.0, 0.1, 0.0, 0.0, 0.0, 0.0, 0.3333333333333333, 0.0, 0.25, 0.0, 0.1875, 0.0, 0.0, 0.0, 0.0, 0.0, 0.25, 0.0, 0.125, 0.0, 0.4, 0.2222222222222222, 0.058823529411764705, 0.14285714285714285, 0.0, 0.0, 0.25, 0.0, 0.16666666666666666, 0.0, 0.0, 0.1111111111111111, 0.0, 0.0, 0.0, 0.4, 0.1, 0.0, 0.2, 0.2, 0.14285714285714285, 0.0, 0.0, 0.23076923076923078, 1.0, 0.07692307692307693, 0.0, 0.0, 0.0, 0.2727272727272727, 0.0, 0.0, 0.25, 0.0, 0.5, 0.0, 0.08333333333333333, 0.0, 0.0625, 0.14285714285714285, 0.0, 0.2, 0.0, 0.16666666666666666, 0.0, 0.0, 0.5, 0.08333333333333333, 0.0, 0.0, 0.0, 0.0, 0.0, 0.125, 0.09090909090909091, 0.1, 0.14285714285714285, 0.0, 0.14285714285714285, 0.4, 0.0, 0.25, 0.0, 0.0, 0.2, 0.0, 0.0, 0.5, 0.14285714285714285, 0.0, 0.14285714285714285, 0.25, 0.0, 0.0, 0.0, 0.0625, 0.0, 0.0, 0.5, 0.4, 0.0, 0.2727272727272727, 0.0, 0.3333333333333333, 0.14285714285714285, 0.0, 0.25, 0.0, 0.0, 0.07692307692307693, 0.0, 0.0, 0.0, 0.0, 0.0, 0.1111111111111111, 0.1111111111111111, 0.0, 0.4, 0.0, 0.0, 0.0, 0.0, 0.2, 0.0, 0.0, 0.0, 0.25, 0.0, 0.25, 0.2, 0.0, 0.058823529411764705, 0.0, 0.058823529411764705, 0.1111111111111111, 0.0, 0.0, 0.0, 1.0, 0.0, 0.5, 0.0, 0.0, 0.5, 0.0, 0.0, 0.0, 0.3333333333333333, 0.0, 0.0, 0.0, 0.0, 0.0, 0.0, 0.0, 0.5, 0.0, 0.5], 'Compensation Manager': [0.18181818181818182, 0.0, 0.0, 0.0, 0.14285714285714285, 0.17857142857142858, 0.15789473684210525, 0.1111111111111111, 0.0, 0.16129032258064516, 0.08333333333333333, 0.1, 0.16666666666666666, 0.09090909090909091, 0.07692307692307693, 0.07142857142857142, 0.08333333333333333, 0.0, 0.06666666666666667, 0.05263157894736842, 0.0, 0.0, 0.08333333333333333, 0.0, 0.125, 0.05, 0.2, 0.05555555555555555, 0.14285714285714285, 0.14285714285714285, 0.0, 0.058823529411764705, 0.0, 0.045454545454545456, 0.15789473684210525, 0.07692307692307693, 0.0, 0.125, 0.058823529411764705, 0.15789473684210525, 0.0, 0.07692307692307693, 0.0, 0.0, 0.07692307692307693, 0.08333333333333333, 0.08333333333333333, 0.16666666666666666, 0.05263157894736842, 0.0, 0.1875, 0.13333333333333333, 0.16666666666666666, 0.2, 0.06666666666666667, 0.05, 0.125, 0.09090909090909091, 0.15789473684210525, 0.07692307692307693, 0.08333333333333333, 0.14285714285714285, 0.0, 0.047619047619047616, 0.05555555555555555, 0.0, 0.07142857142857142, 0.0, 0.09090909090909091, 0.0, 0.0, 0.0, 0.0, 0.125, 0.0, 0.0, 0.0, 0.058823529411764705, 0.09090909090909091, 0.08333333333333333, 0.06666666666666667, 0.13333333333333333, 0.0, 0.07142857142857142, 0.1875, 0.04, 0.0, 0.13636363636363635, 0.0, 0.08333333333333333, 0.0, 0.0, 0.0, 0.0, 0.12, 0.0, 0.0, 0.09090909090909091, 0.15384615384615385, 0.05555555555555555, 0.07142857142857142, 0.0, 0.0, 0.14285714285714285, 0.0, 0.0, 0.043478260869565216, 0.07692307692307693, 1.0, 0.06666666666666667, 0.08333333333333333, 0.0, 0.15789473684210525, 0.18181818181818182, 0.1111111111111111, 0.0, 0.0, 0.0625, 0.0, 0.16666666666666666, 0.0, 0.08695652173913043, 0.14285714285714285, 0.0, 0.0, 0.09090909090909091, 0.15384615384615385, 0.0625, 0.0, 0.0625, 0.10526315789473684, 0.0, 0.09090909090909091, 0.08333333333333333, 0.0, 0.08333333333333333, 0.04, 0.1111111111111111, 0.05555555555555555, 0.0, 0.10526315789473684, 0.0, 0.07142857142857142, 0.0, 0.08333333333333333, 0.0, 0.0, 0.0, 0.0, 0.0, 0.0, 0.14285714285714285, 0.0, 0.0, 0.0, 0.0, 0.0, 0.0, 0.19047619047619047, 0.07692307692307693, 0.0625, 0.0625, 0.07142857142857142, 0.08333333333333333, 0.15789473684210525, 0.0, 0.0, 0.14285714285714285, 0.06666666666666667, 0.0, 0.0, 0.0, 0.047619047619047616, 0.0, 0.0, 0.0, 0.07692307692307693, 0.0, 0.058823529411764705, 0.12, 0.18181818181818182, 0.07142857142857142, 0.0, 0.0, 0.0, 0.0, 0.0, 0.07142857142857142, 0.0, 0.08333333333333333, 0.08333333333333333, 0.0, 0.0, 0.0, 0.0, 0.15789473684210525, 0.05555555555555555, 0.23809523809523808, 0.12, 0.0, 0.0, 0.0, 0.07692307692307693, 0.0, 0.0625, 0.0, 0.0, 0.0, 0.0, 0.0, 0.0, 0.0, 0.0, 0.07142857142857142, 0.0, 0.08333333333333333, 0.0, 0.08333333333333333, 0.0, 0.0625, 0.18181818181818182, 0.0625], 'Golf Pro': [0.05263157894736842, 0.14285714285714285, 0.4, 0.2, 0.25, 0.125, 0.23076923076923078, 0.2631578947368421, 0.16666666666666666, 0.15384615384615385, 0.0, 0.06666666666666667, 0.3333333333333333, 0.0, 0.0, 0.2857142857142857, 0.0, 0.0, 0.1111111111111111, 0.16666666666666666, 0.14285714285714285, 0.0, 0.16666666666666666, 0.2, 0.1111111111111111, 0.15384615384615385, 0.125, 0.08333333333333333, 0.1111111111111111, 0.1111111111111111, 0.0, 0.09090909090909091, 0.2, 0.21428571428571427, 0.3333333333333333, 0.15789473684210525, 0.2, 0.3333333333333333, 0.2, 0.3333333333333333, 0.125, 0.14285714285714285, 0.0, 0.16666666666666666, 0.14285714285714285, 0.16666666666666666, 0.16666666666666666, 0.15384615384615385, 0.16666666666666666, 0.4, 0.0, 0.1, 0.15384615384615385, 0.2, 0.0, 0.15384615384615385, 0.3333333333333333, 0.2, 0.23076923076923078, 0.3333333333333333, 0.16666666666666666, 0.25, 0.16666666666666666, 0.06666666666666667, 0.18181818181818182, 0.0, 0.125, 0.16666666666666666, 0.2, 0.0, 0.2, 0.16666666666666666, 0.14285714285714285, 0.05, 0.0, 0.2, 0.1111111111111111, 0.09090909090909091, 0.125, 0.0, 0.1111111111111111, 0.2222222222222222, 0.08333333333333333, 0.2857142857142857, 0.08333333333333333, 0.0, 0.0, 0.05555555555555555, 0.0, 0.16666666666666666, 0.2, 0.0, 0.125, 0.2, 0.2222222222222222, 0.2, 0.16666666666666666, 0.0, 0.125, 0.08333333333333333, 0.125, 0.14285714285714285, 0.3333333333333333, 0.1111111111111111, 0.0, 0.08333333333333333, 0.125, 0.0, 0.06666666666666667, 1.0, 0.0, 0.4, 0.3333333333333333, 0.17647058823529413, 0.2727272727272727, 0.16666666666666666, 0.0, 0.1, 0.2, 0.07142857142857142, 0.0, 0.05555555555555555, 0.1111111111111111, 0.0, 0.14285714285714285, 0.0, 0.0, 0.0, 0.2, 0.1, 0.15384615384615385, 0.16666666666666666, 0.2, 0.0, 0.42857142857142855, 0.16666666666666666, 0.1111111111111111, 0.07692307692307693, 0.18181818181818182, 0.1111111111111111, 0.25, 0.25, 0.2857142857142857, 0.0, 0.16666666666666666, 0.0, 0.2, 0.14285714285714285, 0.0, 0.16666666666666666, 0.0, 0.1111111111111111, 0.16666666666666666, 0.1111111111111111, 0.0, 0.16666666666666666, 0.0, 0.2, 0.11764705882352941, 0.0, 0.1, 0.1, 0.2857142857142857, 0.0, 0.3333333333333333, 0.0, 0.0, 0.1111111111111111, 1.0, 0.16666666666666666, 0.16666666666666666, 0.2, 0.23076923076923078, 0.0, 0.16666666666666666, 0.42857142857142855, 0.0, 0.0, 0.2, 0.2222222222222222, 0.16666666666666666, 0.2857142857142857, 0.2, 0.0, 0.0, 0.0, 0.3333333333333333, 0.125, 0.2, 0.0, 0.16666666666666666, 0.16666666666666666, 0.09090909090909091, 0.3333333333333333, 0.42857142857142855, 0.05555555555555555, 0.0, 0.1111111111111111, 0.2222222222222222, 0.3333333333333333, 0.0, 0.2, 0.0, 0.4, 0.1, 0.0, 0.0, 0.0, 0.16666666666666666, 0.0, 0.0, 0.0, 0.0, 0.125, 0.2, 0.0, 0.0, 0.16666666666666666, 0.0, 0.1, 0.16666666666666666, 0.1], 'Principal Service Engineer': [0.0, 0.0, 0.0, 0.0, 0.16666666666666666, 0.09090909090909091, 0.18181818181818182, 0.05, 0.0, 0.038461538461538464, 0.0, 0.08333333333333333, 0.25, 0.5, 0.25, 0.0, 0.3333333333333333, 0.3333333333333333, 0.16666666666666666, 0.0, 0.0, 0.0, 0.0, 0.0, 0.08, 0.09090909090909091, 0.07142857142857142, 0.1111111111111111, 0.16666666666666666, 0.16666666666666666, 0.5, 0.0, 0.0, 0.16666666666666666, 0.08333333333333333, 0.05555555555555555, 0.0, 0.125, 0.125, 0.08333333333333333, 0.0, 0.0, 0.0, 0.0, 0.0, 0.0, 0.0, 0.0, 0.0, 0.0, 0.1111111111111111, 0.3333333333333333, 0.0, 0.038461538461538464, 0.16666666666666666, 0.2, 0.125, 0.0, 0.18181818181818182, 0.25, 0.0, 0.0, 0.3333333333333333, 0.08333333333333333, 0.1111111111111111, 0.5, 0.5, 0.0, 0.0, 0.0, 0.0, 0.0, 0.0, 0.125, 0.3333333333333333, 0.0, 0.0, 0.0, 0.0, 0.0, 0.4, 0.14285714285714285, 0.0, 0.0, 0.1111111111111111, 0.0, 0.0, 0.14285714285714285, 0.5, 0.0, 0.0, 0.2, 0.2, 0.0, 0.05555555555555555, 0.0, 0.3333333333333333, 0.5, 0.2, 0.1111111111111111, 0.2, 0.0, 0.0, 0.16666666666666666, 0.0, 0.1111111111111111, 0.07142857142857142, 0.0, 0.08333333333333333, 0.0, 1.0, 0.0, 0.08333333333333333, 0.0, 0.2222222222222222, 0.0, 0.0, 0.0, 0.0, 0.09090909090909091, 0.5, 0.06666666666666667, 0.16666666666666666, 0.3333333333333333, 0.0, 0.0, 0.0, 0.14285714285714285, 0.125, 0.0, 0.09090909090909091, 0.0, 0.0, 0.0, 0.16666666666666666, 0.0, 0.0, 0.0, 0.0, 0.0, 0.2, 0.16666666666666666, 0.0, 0.25, 0.0, 0.25, 0.0, 0.0, 0.0, 0.3333333333333333, 0.0, 0.16666666666666666, 0.3333333333333333, 0.0, 0.0, 0.0, 0.0, 0.0, 0.06666666666666667, 0.25, 0.0, 0.0, 0.0, 0.3333333333333333, 0.08333333333333333, 0.25, 0.0, 0.16666666666666666, 0.0, 0.0, 0.3333333333333333, 0.0, 0.08333333333333333, 0.5, 0.0, 0.0, 0.25, 0.25, 0.125, 0.05555555555555555, 0.3333333333333333, 0.0, 0.0, 0.25, 0.0, 0.0, 0.0, 0.5, 0.0, 0.0, 0.0, 0.0, 0.125, 0.0, 0.16666666666666666, 0.06060606060606061, 0.1111111111111111, 0.0625, 0.05555555555555555, 0.0, 0.5, 0.0, 0.0, 0.0, 0.0, 0.25, 0.0, 0.0, 0.3333333333333333, 0.5, 0.5, 0.0, 0.25, 0.0, 0.0, 0.0, 0.5, 0.0, 0.25, 0.0, 0.3333333333333333, 0.0], 'Retail Sales Associate': [0.0, 0.25, 0.3333333333333333, 0.0, 0.16666666666666666, 0.09090909090909091, 0.08333333333333333, 0.10526315789473684, 0.3333333333333333, 0.038461538461538464, 0.0, 0.0, 0.25, 0.0, 0.0, 0.2, 0.0, 0.0, 0.16666666666666666, 0.1, 0.25, 0.0, 0.0, 0.125, 0.038461538461538464, 0.0, 0.07142857142857142, 0.0, 0.0, 0.0, 0.0, 0.125, 0.5, 0.16666666666666666, 0.18181818181818182, 0.11764705882352941, 0.125, 0.125, 0.125, 0.18181818181818182, 0.0, 0.25, 0.0, 0.3333333333333333, 0.25, 0.3333333333333333, 0.0, 0.0, 0.0, 1.0, 0.0, 0.0, 0.0, 0.08, 0.0, 0.09090909090909091, 0.125, 0.0, 0.08333333333333333, 0.25, 0.0, 0.16666666666666666, 0.3333333333333333, 0.0, 0.25, 0.0, 0.2, 0.3333333333333333, 0.0, 0.0, 0.5, 0.3333333333333333, 0.25, 0.058823529411764705, 0.0, 0.125, 0.0, 0.125, 0.07142857142857142, 0.0, 0.0, 0.14285714285714285, 0.0, 0.2, 0.0, 0.0, 0.0, 0.06666666666666667, 0.0, 0.0, 0.5, 0.0, 0.2, 0.0, 0.11764705882352941, 0.5, 0.3333333333333333, 0.0, 0.0, 0.0, 0.0, 0.25, 0.6666666666666666, 0.0, 0.0, 0.1111111111111111, 0.15384615384615385, 0.0, 0.0, 0.4, 0.0, 1.0, 0.18181818181818182, 0.0625, 0.2222222222222222, 0.3333333333333333, 0.0, 0.14285714285714285, 0.5, 0.0, 0.0, 0.0, 0.0, 0.0, 0.25, 0.0, 0.0, 0.0, 0.2857142857142857, 0.14285714285714285, 0.2, 0.3333333333333333, 0.0, 0.0, 0.4, 0.0, 0.0625, 0.1, 0.1111111111111111, 0.16666666666666666, 0.2, 0.4, 0.5, 0.0, 0.3333333333333333, 0.0, 0.0, 0.25, 0.0, 0.3333333333333333, 0.0, 0.16666666666666666, 0.3333333333333333, 0.16666666666666666, 0.0, 0.3333333333333333, 0.0, 0.5, 0.0, 0.0, 0.0, 0.14285714285714285, 0.2, 0.0, 0.18181818181818182, 0.0, 0.0, 0.0, 0.4, 0.3333333333333333, 0.3333333333333333, 0.5, 0.08333333333333333, 0.0, 0.3333333333333333, 0.4, 0.0, 0.0, 0.125, 0.11764705882352941, 0.0, 0.2, 0.5, 0.0, 0.0, 0.0, 0.6666666666666666, 0.2, 0.5, 0.0, 0.0, 0.3333333333333333, 0.125, 0.6666666666666666, 0.4, 0.0, 0.0, 0.0625, 0.11764705882352941, 0.6666666666666666, 0.0, 0.5, 0.0, 1.0, 0.14285714285714285, 0.0, 0.0, 0.0, 0.3333333333333333, 0.0, 0.0, 0.0, 0.0, 0.2, 0.5, 0.0, 0.0, 0.0, 0.0, 0.14285714285714285, 0.0, 0.14285714285714285], 'Group Sales Management': [0.04, 0.16666666666666666, 0.18181818181818182, 0.09090909090909091, 0.23076923076923078, 0.1, 0.2222222222222222, 0.25, 0.18181818181818182, 0.16129032258064516, 0.08333333333333333, 0.047619047619047616, 0.2727272727272727, 0.09090909090909091, 0.07692307692307693, 0.15384615384615385, 0.08333333333333333, 0.08333333333333333, 0.23076923076923078, 0.1111111111111111, 0.16666666666666666, 0.18181818181818182, 0.18181818181818182, 0.125, 0.16129032258064516, 0.10526315789473684, 0.2, 0.11764705882352941, 0.23076923076923078, 0.23076923076923078, 0.0, 0.2857142857142857, 0.09090909090909091, 0.35294117647058826, 1.0, 0.16666666666666666, 0.125, 0.38461538461538464, 0.2, 1.0, 0.07142857142857142, 0.07692307692307693, 0.07692307692307693, 0.18181818181818182, 0.16666666666666666, 0.18181818181818182, 0.18181818181818182, 0.10526315789473684, 0.1111111111111111, 0.18181818181818182, 0.05555555555555555, 0.21428571428571427, 0.10526315789473684, 0.44, 0.06666666666666667, 0.23529411764705882, 0.38461538461538464, 0.09090909090909091, 0.2222222222222222, 0.16666666666666666, 0.08333333333333333, 0.06666666666666667, 0.08333333333333333, 0.047619047619047616, 0.26666666666666666, 0.0, 0.15384615384615385, 0.08333333333333333, 0.09090909090909091, 0.09090909090909091, 0.09090909090909091, 0.18181818181818182, 0.07692307692307693, 0.2857142857142857, 0.0, 0.125, 0.0, 0.058823529411764705, 0.14285714285714285, 0.08333333333333333, 0.06666666666666667, 0.3076923076923077, 0.0, 0.36363636363636365, 0.26666666666666666, 0.04, 0.06666666666666667, 0.13636363636363635, 0.0, 0.18181818181818182, 0.09090909090909091, 0.07142857142857142, 0.07142857142857142, 0.09090909090909091, 0.3333333333333333, 0.09090909090909091, 0.08333333333333333, 0.09090909090909091, 0.36363636363636365, 0.11764705882352941, 0.07142857142857142, 0.16666666666666666, 0.2727272727272727, 0.23076923076923078, 0.0, 0.05555555555555555, 0.2631578947368421, 0.2727272727272727, 0.15789473684210525, 0.3333333333333333, 0.08333333333333333, 0.18181818181818182, 1.0, 0.08333333333333333, 0.25, 0.18181818181818182, 0.0, 0.3076923076923077, 0.09090909090909091, 0.10526315789473684, 0.0, 0.13636363636363635, 0.23076923076923078, 0.0, 0.16666666666666666, 0.0, 0.07142857142857142, 0.13333333333333333, 0.2, 0.3076923076923077, 0.23529411764705882, 0.08333333333333333, 0.09090909090909091, 0.0, 0.23076923076923078, 0.18181818181818182, 0.18181818181818182, 0.1111111111111111, 0.26666666666666666, 0.14285714285714285, 0.3125, 0.23076923076923078, 0.36363636363636365, 0.0, 0.18181818181818182, 0.0, 0.09090909090909091, 0.16666666666666666, 0.0, 0.08333333333333333, 0.16666666666666666, 0.14285714285714285, 0.08333333333333333, 0.23076923076923078, 0.08333333333333333, 0.08333333333333333, 0.0, 0.09090909090909091, 0.13636363636363635, 0.0, 0.0625, 0.3076923076923077, 0.36363636363636365, 0.0, 1.0, 0.0, 0.09090909090909091, 0.23076923076923078, 0.3333333333333333, 0.18181818181818182, 0.08333333333333333, 0.09090909090909091, 0.2222222222222222, 0.0, 0.08333333333333333, 0.14285714285714285, 0.0, 0.0, 0.2, 0.3333333333333333, 0.18181818181818182, 0.36363636363636365, 0.09090909090909091, 0.0, 0.0, 0.0, 0.2727272727272727, 0.15384615384615385, 0.09090909090909091, 0.0, 0.18181818181818182, 0.08333333333333333, 0.2, 0.2727272727272727, 0.23076923076923078, 0.15789473684210525, 0.05555555555555555, 0.23809523809523808, 0.3333333333333333, 0.16666666666666666, 0.0, 0.09090909090909091, 0.2727272727272727, 0.18181818181818182, 0.3076923076923077, 0.0, 0.0, 0.16666666666666666, 0.08333333333333333, 0.0, 0.0, 0.09090909090909091, 0.0, 0.07142857142857142, 0.09090909090909091, 0.0, 0.0, 0.18181818181818182, 0.0, 0.3076923076923077, 0.18181818181818182, 0.3076923076923077], 'Club Representative': [0.2, 0.058823529411764705, 0.0625, 0.0, 0.1111111111111111, 0.23333333333333334, 0.08333333333333333, 0.21428571428571427, 0.0625, 0.14285714285714285, 0.0, 0.08333333333333333, 0.125, 0.0, 0.0, 0.05555555555555555, 0.0, 0.0, 0.1111111111111111, 0.043478260869565216, 0.058823529411764705, 0.0, 0.0625, 0.0, 0.14285714285714285, 0.13636363636363635, 0.16666666666666666, 0.09523809523809523, 0.05263157894736842, 0.05263157894736842, 0.0, 0.047619047619047616, 0.0, 0.08, 0.08333333333333333, 0.10344827586206896, 0.0, 0.1, 0.047619047619047616, 0.08333333333333333, 0.05555555555555555, 0.058823529411764705, 0.0, 0.0, 0.0, 0.0, 0.0625, 0.041666666666666664, 0.14285714285714285, 0.0625, 0.045454545454545456, 0.05, 0.041666666666666664, 0.21212121212121213, 0.0, 0.041666666666666664, 0.1, 0.06666666666666667, 0.08333333333333333, 0.125, 0.0625, 0.17647058823529413, 0.0625, 0.04, 0.09523809523809523, 0.0, 0.05555555555555555, 0.13333333333333333, 0.06666666666666667, 0.0, 0.06666666666666667, 0.0625, 0.0, 0.03333333333333333, 0.0, 0.0, 0.05263157894736842, 0.047619047619047616, 0.12, 0.0, 0.05263157894736842, 0.10526315789473684, 0.045454545454545456, 0.11764705882352941, 0.15, 0.034482758620689655, 0.0, 0.03571428571428571, 0.0, 0.0625, 0.0, 0.0, 0.05555555555555555, 0.0, 0.10344827586206896, 0.06666666666666667, 0.0625, 0.0, 0.05555555555555555, 0.09523809523809523, 0.11764705882352941, 0.058823529411764705, 0.058823529411764705, 0.05263157894736842, 0.0, 0.0, 0.037037037037037035, 0.0, 0.18181818181818182, 0.17647058823529413, 0.0, 0.0625, 0.08333333333333333, 1.0, 0.09090909090909091, 0.0625, 0.0, 0.05, 0.06666666666666667, 0.08695652173913043, 0.0, 0.11538461538461539, 0.05263157894736842, 0.0, 0.058823529411764705, 0.0, 0.0, 0.05, 0.047619047619047616, 0.05, 0.041666666666666664, 0.0, 0.06666666666666667, 0.0, 0.05263157894736842, 0.0625, 0.2, 0.14285714285714285, 0.21052631578947367, 0.05263157894736842, 0.041666666666666664, 0.05263157894736842, 0.05555555555555555, 0.0, 0.0625, 0.0, 0.0, 0.058823529411764705, 0.0, 0.0625, 0.0, 0.05263157894736842, 0.0625, 0.05263157894736842, 0.0, 0.0625, 0.0, 0.0, 0.20833333333333334, 0.0, 0.10526315789473684, 0.05, 0.11764705882352941, 0.0, 0.08333333333333333, 0.0, 0.0, 0.05263157894736842, 0.17647058823529413, 0.0625, 0.0625, 0.06666666666666667, 0.08333333333333333, 0.0, 0.0625, 0.1111111111111111, 0.0, 0.0, 0.1, 0.10344827586206896, 0.0625, 0.11764705882352941, 0.06666666666666667, 0.058823529411764705, 0.06666666666666667, 0.06666666666666667, 0.058823529411764705, 0.05555555555555555, 0.0, 0.0, 0.0625, 0.13333333333333333, 0.047619047619047616, 0.058823529411764705, 0.05263157894736842, 0.23076923076923078, 0.09523809523809523, 0.15384615384615385, 0.10344827586206896, 0.125, 0.0, 0.06666666666666667, 0.0, 0.0625, 0.05, 0.0, 0.0, 0.0, 0.0625, 0.0, 0.0, 0.0, 0.0, 0.05555555555555555, 0.0, 0.0, 0.0, 0.0625, 0.0, 0.05, 0.0625, 0.05], 'Client Service Specialist': [0.0, 0.09090909090909091, 0.1, 0.0, 0.2727272727272727, 0.14814814814814814, 0.25, 0.21739130434782608, 0.1, 0.13333333333333333, 0.0, 0.05263157894736842, 0.3333333333333333, 0.1111111111111111, 0.2, 0.08333333333333333, 0.1, 0.1, 0.16666666666666666, 0.058823529411764705, 0.09090909090909091, 0.0, 0.1, 0.06666666666666667, 0.1724137931034483, 0.05555555555555555, 0.1, 0.0625, 0.16666666666666666, 0.16666666666666666, 0.1111111111111111, 0.06666666666666667, 0.1111111111111111, 0.23529411764705882, 0.25, 0.13043478260869565, 0.06666666666666667, 0.23076923076923078, 0.14285714285714285, 0.25, 0.0, 0.09090909090909091, 0.0, 0.1, 0.09090909090909091, 0.1, 0.1, 0.05555555555555555, 0.0, 0.2222222222222222, 0.0625, 0.25, 0.05555555555555555, 0.13333333333333333, 0.07692307692307693, 0.1875, 0.23076923076923078, 0.1111111111111111, 0.25, 0.3333333333333333, 0.1, 0.07692307692307693, 0.2222222222222222, 0.1111111111111111, 0.21428571428571427, 0.1111111111111111, 0.3, 0.1, 0.1111111111111111, 0.0, 0.1111111111111111, 0.1, 0.09090909090909091, 0.13636363636363635, 0.1, 0.06666666666666667, 0.0, 0.06666666666666667, 0.15789473684210525, 0.0, 0.16666666666666666, 0.25, 0.0, 0.18181818181818182, 0.0625, 0.0, 0.07692307692307693, 0.15, 0.1111111111111111, 0.1, 0.1111111111111111, 0.08333333333333333, 0.18181818181818182, 0.0, 0.18181818181818182, 0.1111111111111111, 0.2222222222222222, 0.1111111111111111, 0.18181818181818182, 0.0625, 0.08333333333333333, 0.09090909090909091, 0.2, 0.16666666666666666, 0.0, 0.13333333333333333, 0.15789473684210525, 0.0, 0.1111111111111111, 0.2727272727272727, 0.2222222222222222, 0.2222222222222222, 0.25, 0.09090909090909091, 1.0, 0.1, 0.0, 0.07142857142857142, 0.1111111111111111, 0.05555555555555555, 0.1111111111111111, 0.09523809523809523, 0.16666666666666666, 0.1, 0.09090909090909091, 0.0, 0.0, 0.15384615384615385, 0.23076923076923078, 0.07142857142857142, 0.26666666666666666, 0.1, 0.1111111111111111, 0.0, 0.2727272727272727, 0.1, 0.043478260869565216, 0.125, 0.0625, 0.16666666666666666, 0.26666666666666666, 0.2727272727272727, 0.18181818181818182, 0.09090909090909091, 0.1, 0.09090909090909091, 0.0, 0.09090909090909091, 0.0, 0.2222222222222222, 0.0, 0.16666666666666666, 0.2222222222222222, 0.07692307692307693, 0.0, 0.1, 0.0, 0.1111111111111111, 0.15, 0.09090909090909091, 0.0, 0.07142857142857142, 0.18181818181818182, 0.1, 0.25, 0.09090909090909091, 0.0, 0.16666666666666666, 0.2727272727272727, 0.1, 0.2222222222222222, 0.1111111111111111, 0.17647058823529413, 0.1111111111111111, 0.1, 0.16666666666666666, 0.09090909090909091, 0.09090909090909091, 0.23076923076923078, 0.18181818181818182, 0.2222222222222222, 0.18181818181818182, 0.1111111111111111, 0.09090909090909091, 0.0, 0.0, 0.2, 0.3, 0.1111111111111111, 0.0, 0.1, 0.1, 0.23076923076923078, 0.2, 0.2727272727272727, 0.05, 0.0625, 0.2, 0.18181818181818182, 0.2, 0.1111111111111111, 0.1111111111111111, 0.0, 0.2222222222222222, 0.07142857142857142, 0.09090909090909091, 0.0, 0.0, 0.2222222222222222, 0.1111111111111111, 0.1111111111111111, 0.0, 0.09090909090909091, 0.08333333333333333, 0.1111111111111111, 0.0, 0.1111111111111111, 0.1, 0.09090909090909091, 0.07142857142857142, 0.2222222222222222, 0.07142857142857142], 'Operations Agent': [0.0, 0.25, 0.3333333333333333, 0.0, 0.16666666666666666, 0.043478260869565216, 0.08333333333333333, 0.05, 1.0, 0.0, 0.0, 0.0, 0.25, 0.0, 0.0, 0.2, 0.0, 0.0, 0.16666666666666666, 0.0, 0.25, 0.3333333333333333, 0.3333333333333333, 0.0, 0.038461538461538464, 0.0, 0.07142857142857142, 0.1111111111111111, 0.16666666666666666, 0.16666666666666666, 0.0, 0.2857142857142857, 0.0, 0.16666666666666666, 0.18181818181818182, 0.05555555555555555, 0.0, 0.125, 0.0, 0.18181818181818182, 0.0, 0.25, 0.0, 0.0, 0.0, 0.0, 0.3333333333333333, 0.0, 0.0, 0.3333333333333333, 0.0, 0.14285714285714285, 0.0, 0.08, 0.0, 0.09090909090909091, 0.125, 0.0, 0.08333333333333333, 0.25, 0.0, 0.0, 0.3333333333333333, 0.0, 0.25, 0.0, 0.2, 0.3333333333333333, 0.0, 0.0, 0.5, 0.3333333333333333, 0.0, 0.125, 0.0, 0.0, 0.0, 0.125, 0.07142857142857142, 0.0, 0.0, 0.3333333333333333, 0.0, 0.5, 0.1111111111111111, 0.0, 0.16666666666666666, 0.0, 0.0, 0.3333333333333333, 0.0, 0.0, 0.2, 0.0, 0.05555555555555555, 0.5, 0.3333333333333333, 0.0, 0.2, 0.1111111111111111, 0.0, 0.25, 0.25, 0.16666666666666666, 0.0, 0.0, 0.15384615384615385, 0.25, 0.0, 0.16666666666666666, 0.0, 0.3333333333333333, 0.18181818181818182, 0.0625, 0.1, 1.0, 0.0, 0.3333333333333333, 0.5, 0.09090909090909091, 0.0, 0.0, 0.16666666666666666, 0.0, 0.25, 0.0, 0.0, 0.0, 0.125, 0.3333333333333333, 0.09090909090909091, 0.0, 0.0, 0.0, 0.16666666666666666, 0.0, 0.13333333333333333, 0.1, 0.25, 0.16666666666666666, 0.09090909090909091, 0.16666666666666666, 0.2, 0.0, 0.3333333333333333, 0.0, 0.0, 0.25, 0.0, 0.3333333333333333, 0.25, 0.16666666666666666, 0.3333333333333333, 0.16666666666666666, 0.0, 0.3333333333333333, 0.0, 0.0, 0.0, 0.0, 0.0, 0.3333333333333333, 0.5, 0.0, 0.18181818181818182, 0.0, 0.0, 0.16666666666666666, 0.16666666666666666, 1.0, 0.3333333333333333, 0.5, 0.08333333333333333, 0.0, 0.3333333333333333, 0.16666666666666666, 0.0, 0.0, 0.125, 0.05555555555555555, 0.0, 0.5, 0.5, 0.0, 0.0, 0.0, 0.25, 0.2, 0.0, 0.0, 0.3333333333333333, 0.3333333333333333, 0.2857142857142857, 0.25, 0.16666666666666666, 0.029411764705882353, 0.0, 0.0625, 0.05555555555555555, 0.25, 0.0, 0.5, 0.25, 0.3333333333333333, 0.3333333333333333, 0.0, 0.0, 0.25, 0.3333333333333333, 0.0, 0.0, 0.0, 0.0, 0.2, 0.0, 0.0, 0.0, 0.0, 0.0, 0.3333333333333333, 0.0, 0.3333333333333333], 'Operations Clerk': [0.0, 0.0, 0.0, 0.0, 0.2, 0.0, 0.0, 0.0, 0.0, 0.0, 0.0, 0.0, 0.0, 0.0, 0.0, 0.0, 0.0, 0.0, 0.0, 0.0, 0.0, 0.0, 0.0, 0.0, 0.0, 0.0, 0.0, 0.0, 0.0, 0.0, 0.0, 0.14285714285714285, 0.0, 0.0, 0.0, 0.0, 0.0, 0.14285714285714285, 0.0, 0.0, 0.0, 0.0, 0.3333333333333333, 0.0, 0.0, 0.0, 0.0, 0.0, 0.0, 0.0, 0.0, 0.0, 0.0, 0.0, 0.0, 0.0, 0.14285714285714285, 0.0, 0.0, 0.0, 0.5, 0.0, 0.0, 0.09090909090909091, 0.0, 0.0, 0.0, 0.0, 0.0, 0.0, 0.0, 0.0, 0.3333333333333333, 0.0, 0.0, 0.0, 0.0, 0.0, 0.0, 0.0, 0.0, 0.0, 0.0, 0.0, 0.0, 0.0, 0.0, 0.0, 0.0, 0.0, 0.0, 0.0, 0.25, 0.0, 0.0, 0.0, 0.0, 0.0, 0.0, 0.0, 0.0, 0.0, 0.0, 0.0, 0.0, 0.125, 0.07692307692307693, 0.0, 0.0, 0.0, 0.0, 0.0, 0.0, 0.0, 0.0, 0.0, 1.0, 0.16666666666666666, 0.0, 0.0, 0.0, 0.0, 0.0, 0.0, 0.0, 0.0, 0.25, 0.0, 0.14285714285714285, 0.16666666666666666, 0.1, 0.5, 0.0, 0.5, 0.0, 0.0, 0.0, 0.0, 0.0, 0.0, 0.0, 0.0, 0.0, 0.3333333333333333, 0.0, 0.3333333333333333, 0.0, 0.0, 0.0, 0.0, 0.0, 0.0, 0.0, 0.0, 0.0, 0.0, 0.0, 0.0, 0.0, 0.0, 0.0, 0.16666666666666666, 0.0, 0.0, 0.0, 0.3333333333333333, 0.0, 0.0, 0.0, 0.0, 0.0, 0.0, 0.09090909090909091, 0.0, 0.5, 0.2, 0.0, 0.3333333333333333, 0.14285714285714285, 0.0, 0.0, 0.0, 0.0, 0.0, 0.0, 0.0, 0.0, 0.0, 0.0, 0.5, 0.0, 0.0, 0.14285714285714285, 0.0, 0.0, 0.0, 0.0, 0.0, 0.0, 0.0, 0.0, 0.0, 0.0, 0.0, 0.16666666666666666, 0.3333333333333333, 0.0, 0.0, 0.0, 0.0, 0.0, 0.0, 0.3333333333333333, 0.25, 0.0, 0.5, 0.0, 0.0, 0.3333333333333333, 0.16666666666666666, 0.0, 0.16666666666666666], 'Technical Support Engineer': [0.05, 0.2857142857142857, 0.14285714285714285, 0.0, 0.2222222222222222, 0.07692307692307693, 0.0625, 0.041666666666666664, 0.3333333333333333, 0.0, 0.14285714285714285, 0.0, 0.125, 0.0, 0.0, 0.1111111111111111, 0.0, 0.14285714285714285, 0.1, 0.0, 0.2857142857142857, 0.3333333333333333, 0.14285714285714285, 0.0, 0.06896551724137931, 0.06666666666666667, 0.11764705882352941, 0.07692307692307693, 0.2222222222222222, 0.2222222222222222, 0.0, 0.8571428571428571, 0.0, 0.125, 0.3076923076923077, 0.09523809523809523, 0.0, 0.3, 0.0, 0.3076923076923077, 0.0, 0.125, 0.125, 0.0, 0.125, 0.14285714285714285, 0.14285714285714285, 0.0, 0.07142857142857142, 0.14285714285714285, 0.0, 0.2, 0.0, 0.14814814814814814, 0.1, 0.06666666666666667, 0.3, 0.0, 0.0625, 0.125, 0.14285714285714285, 0.0, 0.14285714285714285, 0.0625, 0.16666666666666666, 0.0, 0.1111111111111111, 0.14285714285714285, 0.0, 0.16666666666666666, 0.16666666666666666, 0.3333333333333333, 0.125, 0.2222222222222222, 0.0, 0.0, 0.0, 0.08333333333333333, 0.05555555555555555, 0.14285714285714285, 0.0, 0.3333333333333333, 0.0, 0.42857142857142855, 0.16666666666666666, 0.05, 0.1, 0.0, 0.0, 0.14285714285714285, 0.0, 0.1111111111111111, 0.25, 0.0, 0.15, 0.16666666666666666, 0.14285714285714285, 0.0, 0.25, 0.07692307692307693, 0.0, 0.2857142857142857, 0.2857142857142857, 0.2222222222222222, 0.0, 0.07692307692307693, 0.46153846153846156, 0.5, 0.0625, 0.1, 0.0, 0.14285714285714285, 0.3076923076923077, 0.05, 0.07142857142857142, 0.3333333333333333, 0.16666666666666666, 1.0, 0.16666666666666666, 0.06666666666666667, 0.0, 0.05263157894736842, 0.2222222222222222, 0.0, 0.2857142857142857, 0.0, 0.25, 0.0, 0.3, 1.0, 0.23076923076923078, 0.14285714285714285, 0.0, 0.14285714285714285, 0.1, 0.0, 0.16666666666666666, 0.07142857142857142, 0.16666666666666666, 0.1, 0.06666666666666667, 0.2222222222222222, 0.42857142857142855, 0.125, 0.3333333333333333, 0.125, 0.0, 0.2857142857142857, 0.0, 0.14285714285714285, 0.2857142857142857, 0.2222222222222222, 0.14285714285714285, 0.375, 0.14285714285714285, 0.14285714285714285, 0.0, 0.0, 0.05263157894736842, 0.0, 0.0, 1.0, 0.42857142857142855, 0.0, 0.3076923076923077, 0.125, 0.16666666666666666, 0.2222222222222222, 0.1, 0.3333333333333333, 0.14285714285714285, 0.16666666666666666, 0.21428571428571427, 0.0, 0.3333333333333333, 0.2222222222222222, 0.0, 0.125, 0.3, 0.15, 0.0, 0.42857142857142855, 0.16666666666666666, 0.0, 0.0, 0.0, 0.2857142857142857, 0.1111111111111111, 0.0, 0.14285714285714285, 0.14285714285714285, 0.14285714285714285, 0.4444444444444444, 0.2857142857142857, 0.1, 0.05405405405405406, 0.0, 0.05, 0.15, 0.125, 0.0, 0.16666666666666666, 0.5, 0.14285714285714285, 1.0, 0.125, 0.0, 0.2857142857142857, 0.14285714285714285, 0.0, 0.0, 0.16666666666666666, 0.125, 0.25, 0.0, 0.14285714285714285, 0.0, 0.0, 0.125, 1.0, 0.0, 1.0], 'Special Education Teacher': [0.0, 0.3333333333333333, 0.5, 0.0, 0.2, 0.045454545454545456, 0.09090909090909091, 0.05263157894736842, 0.5, 0.0, 0.0, 0.0, 0.3333333333333333, 0.0, 0.0, 0.25, 0.0, 0.0, 0.2, 0.0, 0.3333333333333333, 0.0, 0.0, 0.0, 0.04, 0.0, 0.07692307692307693, 0.0, 0.0, 0.0, 0.0, 0.14285714285714285, 0.0, 0.08333333333333333, 0.09090909090909091, 0.058823529411764705, 0.0, 0.14285714285714285, 0.0, 0.09090909090909091, 0.0, 0.3333333333333333, 0.0, 0.0, 0.0, 0.0, 0.0, 0.0, 0.0, 0.5, 0.0, 0.0, 0.0, 0.04, 0.0, 0.0, 0.14285714285714285, 0.0, 0.09090909090909091, 0.3333333333333333, 0.0, 0.0, 0.5, 0.0, 0.125, 0.0, 0.25, 0.5, 0.0, 0.0, 1.0, 0.5, 0.0, 0.0625, 0.0, 0.0, 0.0, 0.14285714285714285, 0.07692307692307693, 0.0, 0.0, 0.16666666666666666, 0.0, 0.25, 0.0, 0.0, 0.0, 0.0, 0.0, 0.0, 0.0, 0.0, 0.25, 0.0, 0.058823529411764705, 1.0, 0.5, 0.0, 0.0, 0.0, 0.0, 0.3333333333333333, 0.3333333333333333, 0.0, 0.0, 0.0, 0.07692307692307693, 0.0, 0.0, 0.2, 0.0, 0.5, 0.09090909090909091, 0.06666666666666667, 0.1111111111111111, 0.5, 0.0, 0.16666666666666666, 1.0, 0.0, 0.0, 0.0, 0.0, 0.0, 0.3333333333333333, 0.0, 0.0, 0.0, 0.14285714285714285, 0.16666666666666666, 0.1, 0.0, 0.0, 0.0, 0.2, 0.0, 0.06666666666666667, 0.0, 0.125, 0.0, 0.1, 0.2, 0.25, 0.0, 0.5, 0.0, 0.0, 0.3333333333333333, 0.0, 0.5, 0.0, 0.2, 0.5, 0.2, 0.0, 0.5, 0.0, 0.0, 0.0, 0.0, 0.0, 0.16666666666666666, 0.25, 0.0, 0.09090909090909091, 0.0, 0.0, 0.0, 0.2, 0.5, 0.5, 1.0, 0.09090909090909091, 0.0, 0.5, 0.2, 0.0, 0.0, 0.14285714285714285, 0.058823529411764705, 0.0, 0.25, 1.0, 0.0, 0.0, 0.0, 0.3333333333333333, 0.25, 0.0, 0.0, 0.0, 0.5, 0.14285714285714285, 0.3333333333333333, 0.2, 0.0, 0.0, 0.0, 0.058823529411764705, 0.3333333333333333, 0.0, 1.0, 0.0, 0.5, 0.16666666666666666, 0.0, 0.0, 0.0, 0.5, 0.0, 0.0, 0.0, 0.0, 0.25, 0.0, 0.0, 0.0, 0.0, 0.0, 0.16666666666666666, 0.0, 0.16666666666666666], 'Heavy Equipment Technician': [0.19047619047619047, 0.08333333333333333, 0.0, 0.0, 0.07142857142857142, 0.18518518518518517, 0.05, 0.20833333333333334, 0.09090909090909091, 0.16666666666666666, 0.0, 0.23529411764705882, 0.08333333333333333, 0.1, 0.08333333333333333, 0.0, 0.09090909090909091, 0.0, 0.07142857142857142, 0.0, 0.08333333333333333, 0.09090909090909091, 0.09090909090909091, 0.0, 0.12903225806451613, 0.1111111111111111, 0.15, 0.2, 0.25, 0.25, 0.0, 0.0625, 0.0, 0.2222222222222222, 0.10526315789473684, 0.125, 0.0, 0.0625, 0.13333333333333333, 0.10526315789473684, 0.07692307692307693, 0.0, 0.0, 0.0, 0.0, 0.0, 0.09090909090909091, 0.0, 0.11764705882352941, 0.0, 0.38461538461538464, 0.23076923076923078, 0.0, 0.20689655172413793, 0.0, 0.25, 0.0625, 0.0, 0.05, 0.0, 0.0, 0.15384615384615385, 0.0, 0.0, 0.058823529411764705, 0.0, 0.07692307692307693, 0.0, 0.0, 0.0, 0.0, 0.0, 0.08333333333333333, 0.08333333333333333, 0.0, 0.0, 0.25, 0.13333333333333333, 0.045454545454545456, 0.0, 0.15384615384615385, 0.23076923076923078, 0.125, 0.07692307692307693, 0.2857142857142857, 0.041666666666666664, 0.15384615384615385, 0.09090909090909091, 0.0, 0.09090909090909091, 0.0, 0.07692307692307693, 0.07692307692307693, 0.0, 0.0, 0.0, 0.0, 0.1, 0.16666666666666666, 0.2, 0.16666666666666666, 0.0, 0.0, 0.25, 0.0, 0.0, 0.045454545454545456, 0.08333333333333333, 0.16666666666666666, 0.07142857142857142, 0.09090909090909091, 0.0, 0.10526315789473684, 0.08695652173913043, 0.05555555555555555, 0.09090909090909091, 0.0, 0.06666666666666667, 0.0, 1.0, 0.0, 0.14285714285714285, 0.25, 0.0, 0.0, 0.0, 0.0, 0.06666666666666667, 0.0, 0.06666666666666667, 0.1111111111111111, 0.0, 0.0, 0.0, 0.0, 0.0, 0.13636363636363635, 0.26666666666666666, 0.2, 0.15384615384615385, 0.05263157894736842, 0.0, 0.0, 0.08333333333333333, 0.0, 0.08333333333333333, 0.0, 0.08333333333333333, 0.0, 0.0, 0.18181818181818182, 0.0, 0.0, 0.0, 0.0, 0.0, 0.0, 0.0, 0.2631578947368421, 0.0, 0.14285714285714285, 0.06666666666666667, 0.07692307692307693, 0.0, 0.10526315789473684, 0.08333333333333333, 0.0, 0.25, 0.07142857142857142, 0.09090909090909091, 0.0, 0.0, 0.10526315789473684, 0.0, 0.0, 0.07142857142857142, 0.0, 0.08333333333333333, 0.0, 0.0, 0.09090909090909091, 0.07692307692307693, 0.0, 0.08333333333333333, 0.0, 0.0, 0.0, 0.07692307692307693, 0.0, 0.0, 0.09090909090909091, 0.0, 0.0625, 0.0, 0.0, 0.16216216216216217, 0.125, 0.13636363636363635, 0.0, 0.0, 0.0, 0.0, 0.08333333333333333, 0.0, 0.06666666666666667, 0.08333333333333333, 0.09090909090909091, 0.18181818181818182, 0.0, 0.0, 0.0, 0.0, 0.08333333333333333, 0.0, 0.0, 0.0, 0.0, 0.0, 0.08333333333333333, 0.06666666666666667, 0.09090909090909091, 0.06666666666666667], 'Travel Secretary': [0.0, 0.0, 0.0, 0.0, 0.0, 0.045454545454545456, 0.09090909090909091, 0.0, 0.0, 0.0, 0.0, 0.0, 0.0, 0.0, 0.0, 0.0, 0.0, 0.5, 0.0, 0.0, 0.0, 0.0, 0.0, 0.0, 0.04, 0.1, 0.0, 0.0, 0.0, 0.0, 1.0, 0.0, 0.0, 0.08333333333333333, 0.0, 0.0, 0.0, 0.0, 0.0, 0.0, 0.0, 0.0, 0.0, 0.0, 0.0, 0.0, 0.0, 0.0, 0.0, 0.0, 0.0, 0.16666666666666666, 0.0, 0.0, 0.2, 0.1, 0.0, 0.0, 0.09090909090909091, 0.3333333333333333, 0.0, 0.0, 0.5, 0.09090909090909091, 0.125, 1.0, 0.25, 0.0, 0.0, 0.0, 0.0, 0.0, 0.0, 0.0625, 0.5, 0.0, 0.0, 0.0, 0.0, 0.0, 0.2, 0.0, 0.0, 0.0, 0.0, 0.0, 0.0, 0.07142857142857142, 1.0, 0.0, 0.0, 0.25, 0.25, 0.0, 0.058823529411764705, 0.0, 0.5, 0.0, 0.0, 0.0, 0.0, 0.0, 0.0, 0.0, 0.0, 0.125, 0.07692307692307693, 0.0, 0.0, 0.0, 0.5, 0.0, 0.0, 0.0, 0.1111111111111111, 0.0, 0.0, 0.0, 0.0, 0.0, 1.0, 0.0, 0.0, 0.5, 0.0, 0.0, 0.0, 0.0, 0.14285714285714285, 0.0, 0.0, 0.0, 0.0, 0.0, 0.2, 0.0, 0.0, 0.0, 0.0, 0.0, 0.1, 0.2, 0.0, 0.3333333333333333, 0.0, 0.3333333333333333, 0.0, 0.0, 0.0, 0.5, 0.0, 0.2, 0.5, 0.0, 0.0, 0.0, 0.0, 0.0, 0.0, 0.3333333333333333, 0.0, 0.0, 0.0, 0.5, 0.0, 0.3333333333333333, 0.0, 0.0, 0.0, 0.0, 0.5, 0.0, 0.09090909090909091, 1.0, 0.0, 0.0, 0.3333333333333333, 0.3333333333333333, 0.14285714285714285, 0.058823529411764705, 0.0, 0.0, 0.0, 0.3333333333333333, 0.0, 0.0, 0.0, 0.25, 0.0, 0.0, 0.0, 0.0, 0.14285714285714285, 0.0, 0.2, 0.030303030303030304, 0.0, 0.0, 0.058823529411764705, 0.0, 1.0, 0.0, 0.0, 0.0, 0.0, 0.3333333333333333, 0.0, 0.0, 0.5, 1.0, 1.0, 0.0, 0.3333333333333333, 0.0, 0.0, 0.0, 1.0, 0.0, 0.3333333333333333, 0.0, 0.0, 0.0], 'Benefit Coordinator': [0.11538461538461539, 0.0625, 0.0, 0.0, 0.05555555555555555, 0.125, 0.041666666666666664, 0.17857142857142858, 0.0, 0.21875, 0.0, 0.13636363636363635, 0.0625, 0.07142857142857142, 0.13333333333333333, 0.0, 0.06666666666666667, 0.06666666666666667, 0.05555555555555555, 0.0, 0.0625, 0.06666666666666667, 0.0, 0.0, 0.3, 0.3333333333333333, 0.35, 0.2222222222222222, 0.05555555555555555, 0.05555555555555555, 0.0, 0.05, 0.0, 0.23809523809523808, 0.13636363636363635, 0.24, 0.0, 0.10526315789473684, 0.23529411764705882, 0.13636363636363635, 0.058823529411764705, 0.0, 0.0, 0.0, 0.0625, 0.0, 0.0, 0.0, 0.35294117647058826, 0.0, 0.2222222222222222, 0.05263157894736842, 0.0, 0.18181818181818182, 0.05555555555555555, 0.2631578947368421, 0.10526315789473684, 0.0, 0.041666666666666664, 0.0, 0.0, 0.05555555555555555, 0.0, 0.0, 0.047619047619047616, 0.0, 0.058823529411764705, 0.06666666666666667, 0.0, 0.07142857142857142, 0.0, 0.06666666666666667, 0.0, 0.1111111111111111, 0.0, 0.0, 0.05555555555555555, 0.05, 0.125, 0.0, 0.1875, 0.05263157894736842, 0.047619047619047616, 0.058823529411764705, 0.2222222222222222, 0.03571428571428571, 0.0, 0.07692307692307693, 0.0, 0.0, 0.0, 0.058823529411764705, 0.0, 0.0, 0.03333333333333333, 0.0, 0.0, 0.07142857142857142, 0.125, 0.2222222222222222, 0.2, 0.0625, 0.0625, 0.05555555555555555, 0.0, 0.0, 0.038461538461538464, 0.0625, 0.08695652173913043, 0.05555555555555555, 0.06666666666666667, 0.0, 0.13636363636363635, 0.11538461538461539, 0.09523809523809523, 0.0, 0.0, 0.05263157894736842, 0.0, 0.14285714285714285, 0.0, 1.0, 0.05555555555555555, 0.0, 0.0625, 0.0, 0.0, 0.42857142857142855, 0.05, 0.05263157894736842, 0.14285714285714285, 0.0, 0.0, 0.0, 0.0, 0.0, 0.16, 0.21052631578947367, 0.2222222222222222, 0.05555555555555555, 0.14285714285714285, 0.11764705882352941, 0.058823529411764705, 0.0, 0.0, 0.0, 0.0, 0.0625, 0.0, 0.0, 0.0625, 0.0, 0.0, 0.1875, 0.06666666666666667, 0.0, 0.0, 0.0, 0.21739130434782608, 0.0, 0.1111111111111111, 0.05263157894736842, 0.058823529411764705, 0.0, 0.13636363636363635, 0.0, 0.07142857142857142, 0.05555555555555555, 0.05555555555555555, 0.0, 0.0, 0.0, 0.041666666666666664, 0.0, 0.0, 0.05555555555555555, 0.0, 0.0, 0.10526315789473684, 0.03333333333333333, 0.06666666666666667, 0.058823529411764705, 0.0, 0.0, 0.0, 0.0, 0.0625, 0.058823529411764705, 0.0, 0.0, 0.0, 0.0, 0.10526315789473684, 0.0625, 0.0, 0.20512820512820512, 0.15789473684210525, 0.20833333333333334, 0.03333333333333333, 0.0, 0.0, 0.0, 0.0625, 0.0, 0.05263157894736842, 0.0, 0.0, 0.0625, 0.0, 0.0, 0.0, 0.07142857142857142, 0.0, 0.0, 0.0, 0.0, 0.0, 0.0, 0.0, 0.05263157894736842, 0.06666666666666667, 0.05263157894736842], 'Reservoir Engineer': [0.0, 0.14285714285714285, 0.0, 0.0, 0.25, 0.125, 0.14285714285714285, 0.09090909090909091, 0.16666666666666666, 0.07142857142857142, 0.0, 0.06666666666666667, 0.3333333333333333, 0.2, 0.14285714285714285, 0.0, 0.16666666666666666, 0.0, 0.1111111111111111, 0.0, 0.14285714285714285, 0.16666666666666666, 0.4, 0.0, 0.1111111111111111, 0.07142857142857142, 0.058823529411764705, 0.18181818181818182, 1.0, 1.0, 0.0, 0.2, 0.0, 0.21428571428571427, 0.23076923076923078, 0.1, 0.0, 0.2, 0.09090909090909091, 0.23076923076923078, 0.0, 0.0, 0.0, 0.0, 0.0, 0.0, 0.4, 0.07142857142857142, 0.07692307692307693, 0.0, 0.08333333333333333, 0.8333333333333334, 0.07142857142857142, 0.1111111111111111, 0.0, 0.25, 0.2, 0.2, 0.14285714285714285, 0.14285714285714285, 0.16666666666666666, 0.0, 0.0, 0.06666666666666667, 0.08333333333333333, 0.0, 0.125, 0.0, 0.2, 0.0, 0.0, 0.0, 0.0, 0.10526315789473684, 0.0, 0.0, 0.0, 0.0, 0.058823529411764705, 0.0, 0.1111111111111111, 0.8333333333333334, 0.0, 0.2857142857142857, 0.18181818181818182, 0.0, 0.1111111111111111, 0.05555555555555555, 0.0, 0.4, 0.0, 0.125, 0.125, 0.0, 0.047619047619047616, 0.0, 0.0, 0.2, 0.5, 0.18181818181818182, 0.125, 0.0, 0.0, 1.0, 0.0, 0.0, 0.125, 0.14285714285714285, 0.14285714285714285, 0.1111111111111111, 0.16666666666666666, 0.0, 0.23076923076923078, 0.05263157894736842, 0.16666666666666666, 0.16666666666666666, 0.0, 0.2222222222222222, 0.0, 0.25, 0.0, 0.05555555555555555, 1.0, 0.0, 0.0, 0.0, 0.0, 0.1, 0.09090909090909091, 0.2222222222222222, 0.07142857142857142, 0.0, 0.2, 0.0, 0.0, 0.16666666666666666, 0.05263157894736842, 0.16666666666666666, 0.08333333333333333, 0.25, 0.07142857142857142, 0.0, 0.0, 0.14285714285714285, 0.0, 0.14285714285714285, 0.0, 0.14285714285714285, 0.0, 0.0, 0.3333333333333333, 0.0, 0.0, 0.1111111111111111, 0.0, 0.0, 0.0, 0.0, 0.1875, 0.0, 0.0, 0.2222222222222222, 0.2857142857142857, 0.0, 0.23076923076923078, 0.14285714285714285, 0.0, 1.0, 0.1111111111111111, 0.16666666666666666, 0.0, 0.0, 0.14285714285714285, 0.0, 0.0, 0.0, 0.0, 0.14285714285714285, 0.09090909090909091, 0.047619047619047616, 0.4, 0.2857142857142857, 0.0, 0.14285714285714285, 0.0, 0.0, 0.0, 0.125, 0.0, 0.0, 0.4, 0.0, 0.09090909090909091, 0.0, 0.0, 0.05555555555555555, 0.18181818181818182, 0.17647058823529413, 0.047619047619047616, 0.0, 0.0, 0.0, 0.14285714285714285, 0.0, 0.2222222222222222, 0.14285714285714285, 0.16666666666666666, 0.3333333333333333, 0.0, 0.0, 0.0, 0.0, 0.14285714285714285, 0.0, 0.0, 0.0, 0.0, 0.16666666666666666, 0.14285714285714285, 0.2222222222222222, 0.4, 0.2222222222222222], 'Quality Assistant': [0.0, 0.0, 0.0, 0.0, 0.0, 0.043478260869565216, 0.08333333333333333, 0.0, 0.0, 0.0, 0.0, 0.0, 0.0, 0.0, 0.0, 0.0, 0.0, 0.3333333333333333, 0.0, 0.0, 0.0, 0.0, 0.0, 0.0, 0.038461538461538464, 0.09090909090909091, 0.0, 0.0, 0.0, 0.0, 0.5, 0.0, 0.0, 0.07692307692307693, 0.0, 0.0, 0.0, 0.0, 0.0, 0.0, 0.0, 0.0, 0.0, 0.0, 0.0, 0.0, 0.0, 0.0, 0.0, 0.0, 0.0, 0.14285714285714285, 0.0, 0.0, 0.16666666666666666, 0.09090909090909091, 0.0, 0.0, 0.08333333333333333, 0.25, 0.0, 0.0, 0.3333333333333333, 0.08333333333333333, 0.1111111111111111, 0.5, 0.2, 0.0, 0.0, 0.0, 0.0, 0.0, 0.0, 0.058823529411764705, 0.3333333333333333, 0.0, 0.0, 0.0, 0.0, 0.0, 0.4, 0.0, 0.0, 0.0, 0.0, 0.0, 0.0, 0.06666666666666667, 0.5, 0.0, 0.0, 0.2, 0.2, 0.0, 0.05555555555555555, 0.0, 0.3333333333333333, 0.0, 0.0, 0.0, 0.0, 0.0, 0.0, 0.0, 0.0, 0.1111111111111111, 0.07142857142857142, 0.0, 0.0, 0.0, 0.3333333333333333, 0.0, 0.0, 0.0, 0.1, 0.0, 0.0, 0.0, 0.0, 0.0, 0.5, 0.0, 0.0, 1.0, 0.0, 0.0, 0.0, 0.0, 0.125, 0.0, 0.0, 0.0, 0.0, 0.0, 0.16666666666666666, 0.0, 0.0, 0.0, 0.0, 0.0, 0.09090909090909091, 0.16666666666666666, 0.0, 0.25, 0.0, 0.25, 0.0, 0.0, 0.0, 0.3333333333333333, 0.0, 0.16666666666666666, 0.3333333333333333, 0.0, 0.0, 0.0, 0.0, 0.0, 0.0, 0.25, 0.0, 0.0, 0.0, 0.3333333333333333, 0.0, 0.25, 0.0, 0.0, 0.0, 0.0, 0.3333333333333333, 0.0, 0.08333333333333333, 0.5, 0.0, 0.0, 0.25, 0.25, 0.125, 0.05555555555555555, 0.0, 0.0, 0.0, 0.25, 0.0, 0.0, 0.0, 0.2, 0.0, 0.0, 0.0, 0.0, 0.125, 0.0, 0.16666666666666666, 0.029411764705882353, 0.0, 0.0, 0.05555555555555555, 0.0, 0.5, 0.0, 0.0, 0.0, 0.0, 0.25, 0.0, 0.0, 0.3333333333333333, 0.5, 0.5, 0.0, 0.25, 0.0, 0.0, 0.0, 0.5, 0.0, 0.25, 0.0, 0.0, 0.0], 'Ethics Office Business Intelligence Officer': [0.0, 0.5, 0.25, 0.0, 0.14285714285714285, 0.041666666666666664, 0.07692307692307693, 0.1, 0.25, 0.0, 0.0, 0.0, 0.2, 0.0, 0.0, 0.4, 0.25, 0.25, 0.14285714285714285, 0.0, 0.5, 0.25, 0.0, 0.0, 0.037037037037037035, 0.08333333333333333, 0.06666666666666667, 0.1, 0.0, 0.0, 0.0, 0.42857142857142855, 0.0, 0.07142857142857142, 0.16666666666666666, 0.05263157894736842, 0.0, 0.25, 0.0, 0.16666666666666666, 0.0, 0.2, 0.0, 0.0, 0.2, 0.0, 0.0, 0.0, 0.09090909090909091, 0.25, 0.0, 0.0, 0.0, 0.07692307692307693, 0.14285714285714285, 0.0, 0.25, 0.0, 0.07692307692307693, 0.2, 0.0, 0.0, 0.25, 0.0, 0.1, 0.0, 0.16666666666666666, 0.25, 0.0, 0.3333333333333333, 0.3333333333333333, 0.6666666666666666, 0.0, 0.1875, 0.0, 0.0, 0.0, 0.1111111111111111, 0.06666666666666667, 0.0, 0.0, 0.125, 0.0, 0.4, 0.1, 0.058823529411764705, 0.0, 0.0, 0.0, 0.0, 0.0, 0.16666666666666666, 0.16666666666666666, 0.0, 0.1111111111111111, 0.3333333333333333, 0.25, 0.0, 0.16666666666666666, 0.1, 0.16666666666666666, 1.0, 0.5, 0.0, 0.0, 0.0, 0.14285714285714285, 0.2, 0.0, 0.14285714285714285, 0.0, 0.25, 0.16666666666666666, 0.058823529411764705, 0.09090909090909091, 0.25, 0.0, 0.2857142857142857, 0.3333333333333333, 0.0, 0.0, 0.0625, 0.0, 0.0, 1.0, 0.0, 0.0, 0.0, 0.1111111111111111, 0.2857142857142857, 0.18181818181818182, 0.0, 0.0, 0.0, 0.14285714285714285, 0.0, 0.058823529411764705, 0.0, 0.1, 0.0, 0.08333333333333333, 0.3333333333333333, 0.4, 0.0, 0.25, 0.0, 0.0, 0.5, 0.0, 0.25, 0.2, 0.14285714285714285, 0.25, 0.3333333333333333, 0.25, 0.25, 0.0, 0.0, 0.0, 0.0, 0.0, 0.2857142857142857, 0.4, 0.0, 0.16666666666666666, 0.0, 0.3333333333333333, 0.0, 0.14285714285714285, 0.25, 0.25, 0.3333333333333333, 0.2727272727272727, 0.0, 0.25, 0.14285714285714285, 0.0, 0.0, 0.25, 0.1111111111111111, 0.0, 0.4, 0.3333333333333333, 0.0, 0.0, 0.0, 0.5, 0.16666666666666666, 0.0, 0.0, 0.0, 0.25, 0.25, 0.5, 0.14285714285714285, 0.0, 0.0, 0.0, 0.1111111111111111, 0.2, 0.0, 0.3333333333333333, 0.2, 0.25, 0.2857142857142857, 0.0, 0.0, 0.2, 0.25, 0.0, 0.0, 0.3333333333333333, 0.0, 0.16666666666666666, 0.0, 0.0, 0.0, 0.0, 0.0, 0.2857142857142857, 0.0, 0.2857142857142857], 'Chemical Engineer': [0.06666666666666667, 0.0, 0.0, 0.0, 0.0, 0.0, 0.09090909090909091, 0.0, 0.0, 0.04, 0.0, 0.0, 0.0, 0.0, 0.0, 0.25, 0.0, 0.0, 0.0, 0.1111111111111111, 0.0, 0.0, 0.0, 0.0, 0.0, 0.0, 0.07692307692307693, 0.0, 0.0, 0.0, 0.0, 0.0, 0.0, 0.0, 0.0, 0.058823529411764705, 0.0, 0.0, 0.0, 0.0, 0.0, 0.3333333333333333, 0.0, 0.0, 0.3333333333333333, 0.0, 0.0, 0.1, 0.0, 0.0, 0.0, 0.0, 0.1, 0.04, 0.2, 0.0, 0.0, 0.0, 0.09090909090909091, 0.0, 0.0, 0.0, 0.0, 0.0, 0.125, 0.0, 0.0, 0.0, 0.0, 0.0, 0.0, 0.0, 0.0, 0.0625, 0.0, 0.0, 0.0, 0.0, 0.07692307692307693, 0.0, 0.0, 0.0, 0.0, 0.0, 0.0, 0.06666666666666667, 0.0, 0.07142857142857142, 0.0, 0.0, 0.0, 0.0, 0.0, 0.0, 0.058823529411764705, 0.0, 0.0, 0.0, 0.0, 0.0, 0.0, 0.0, 0.0, 0.0, 0.0, 0.0, 0.0, 0.0, 0.09090909090909091, 0.0, 0.0, 0.0, 0.0, 0.0, 0.0, 0.0, 0.0, 0.0, 0.0, 0.0, 0.0, 0.0, 0.0, 0.0, 0.0, 1.0, 0.25, 0.0, 0.0, 0.0, 0.0, 0.0, 0.0, 0.5, 0.0, 0.0, 0.0, 0.0, 0.0, 0.0, 0.1, 0.0, 0.0, 0.0, 0.0, 0.0, 0.0, 0.0, 0.0, 0.0, 0.0, 0.2, 0.0, 0.0, 0.0, 0.0, 0.0, 0.0, 0.0, 0.3333333333333333, 0.0, 0.0, 0.0, 0.5, 0.0, 0.0, 0.0, 0.0, 0.0, 0.0, 0.0, 0.0, 0.0, 0.0, 0.0, 0.0, 0.0, 0.0, 0.0, 0.058823529411764705, 0.0, 0.0, 0.0, 0.0, 0.0, 0.0, 0.0, 0.0, 0.0, 0.5, 0.0, 0.0, 0.0, 0.0, 0.0, 0.0, 0.0, 0.0, 0.058823529411764705, 0.0, 0.0, 0.0, 0.0, 0.0, 0.0, 0.0, 0.0, 0.0, 0.0, 0.0, 0.0, 0.0, 0.0, 0.25, 0.0, 0.5, 0.0, 0.0, 0.0, 0.0, 0.0, 0.0], 'Government Contract Consultant': [0.11764705882352941, 0.0, 0.0, 0.0, 0.125, 0.04, 0.15384615384615385, 0.0, 0.0, 0.07407407407407407, 0.2, 0.0, 0.0, 0.0, 0.0, 0.14285714285714285, 0.0, 0.0, 0.0, 0.18181818181818182, 0.0, 0.0, 0.0, 0.1, 0.03571428571428571, 0.0, 0.13333333333333333, 0.0, 0.0, 0.0, 0.0, 0.2222222222222222, 0.0, 0.0, 0.07142857142857142, 0.05, 0.1, 0.1, 0.0, 0.07142857142857142, 0.0, 0.4, 0.16666666666666666, 0.0, 0.16666666666666666, 0.2, 0.0, 0.16666666666666666, 0.0, 0.0, 0.0, 0.0, 0.16666666666666666, 0.07407407407407407, 0.125, 0.0, 0.1, 0.0, 0.15384615384615385, 0.0, 0.2, 0.0, 0.0, 0.07142857142857142, 0.09090909090909091, 0.0, 0.0, 0.0, 0.0, 0.0, 0.0, 0.0, 0.16666666666666666, 0.17647058823529413, 0.0, 0.1, 0.0, 0.0, 0.0625, 0.2, 0.0, 0.0, 0.0, 0.0, 0.0, 0.05555555555555555, 0.0, 0.058823529411764705, 0.0, 0.0, 0.0, 0.0, 0.14285714285714285, 0.0, 0.10526315789473684, 0.0, 0.0, 0.0, 0.0, 0.0, 0.0, 0.0, 0.0, 0.0, 0.0, 0.09090909090909091, 0.13333333333333333, 0.16666666666666666, 0.15384615384615385, 0.0, 0.0, 0.0, 0.07142857142857142, 0.0, 0.0, 0.0, 0.25, 0.25, 0.0, 0.0, 0.0, 0.0, 0.0, 0.0, 0.0, 0.25, 1.0, 0.0, 0.1, 0.25, 0.07692307692307693, 0.2, 0.0, 0.5, 0.0, 0.0, 0.05555555555555555, 0.0, 0.0, 0.0, 0.07692307692307693, 0.0, 0.14285714285714285, 0.16666666666666666, 0.2, 0.16666666666666666, 0.0, 0.0, 0.0, 0.0, 0.0, 0.2857142857142857, 0.0, 0.0, 0.2, 0.0, 0.0, 0.0, 0.058823529411764705, 0.16666666666666666, 0.0, 0.25, 0.0, 0.2, 0.07142857142857142, 0.16666666666666666, 0.0, 0.0, 0.0, 0.0, 0.0, 0.0, 0.07142857142857142, 0.0, 0.2, 0.125, 0.0, 0.16666666666666666, 0.1, 0.10526315789473684, 0.0, 0.0, 0.0, 0.0, 0.0, 0.0, 0.0, 0.0, 0.0, 0.5, 0.0, 0.0, 0.1, 0.0, 0.0, 0.027777777777777776, 0.0, 0.0, 0.10526315789473684, 0.0, 0.0, 0.0, 0.16666666666666666, 0.0, 0.25, 0.16666666666666666, 0.2, 0.0, 0.0, 0.0, 0.0, 0.0, 0.16666666666666666, 0.3333333333333333, 0.0, 0.5, 0.0, 0.0, 0.16666666666666666, 0.25, 0.0, 0.25], 'Electronics Engineer': [0.05, 0.0, 0.0, 0.0, 0.1, 0.07692307692307693, 0.0625, 0.13636363636363635, 0.0, 0.14814814814814814, 0.0, 0.13333333333333333, 0.125, 0.16666666666666666, 0.2857142857142857, 0.0, 0.14285714285714285, 0.0, 0.1, 0.0, 0.0, 0.0, 0.0, 0.0, 0.14814814814814814, 0.23076923076923078, 0.26666666666666666, 0.2727272727272727, 0.1, 0.1, 0.0, 0.0, 0.0, 0.2, 0.13333333333333333, 0.21052631578947367, 0.0, 0.08333333333333333, 0.3, 0.13333333333333333, 0.0, 0.0, 0.0, 0.0, 0.0, 0.0, 0.0, 0.0, 0.25, 0.0, 0.07692307692307693, 0.09090909090909091, 0.0, 0.10714285714285714, 0.0, 0.23076923076923078, 0.08333333333333333, 0.0, 0.0625, 0.0, 0.0, 0.0, 0.0, 0.0, 0.07692307692307693, 0.0, 0.1111111111111111, 0.14285714285714285, 0.0, 0.0, 0.0, 0.0, 0.0, 0.1, 0.0, 0.0, 0.0, 0.08333333333333333, 0.05555555555555555, 0.0, 0.1, 0.09090909090909091, 0.0, 0.0, 0.16666666666666666, 0.0, 0.0, 0.1111111111111111, 0.0, 0.0, 0.0, 0.0, 0.0, 0.0, 0.0, 0.0, 0.0, 0.16666666666666666, 0.1111111111111111, 0.2727272727272727, 0.25, 0.0, 0.0, 0.1, 0.0, 0.0, 0.0, 0.0, 0.0625, 0.0, 0.14285714285714285, 0.0, 0.13333333333333333, 0.05, 0.15384615384615385, 0.0, 0.0, 0.0, 0.0, 0.06666666666666667, 0.0, 0.42857142857142855, 0.1, 0.0, 0.0, 0.0, 0.0, 1.0, 0.0, 0.0, 0.14285714285714285, 0.0, 0.0, 0.0, 0.0, 0.0, 0.10526315789473684, 0.25, 0.16666666666666666, 0.1, 0.06666666666666667, 0.0, 0.0, 0.0, 0.0, 0.0, 0.0, 0.0, 0.0, 0.0, 0.0, 0.0, 0.0, 0.2222222222222222, 0.0, 0.0, 0.0, 0.0, 0.17647058823529413, 0.0, 0.09090909090909091, 0.0, 0.0, 0.0, 0.13333333333333333, 0.0, 0.0, 0.1, 0.0, 0.0, 0.0, 0.0, 0.0, 0.0, 0.0, 0.0, 0.0, 0.0, 0.0, 0.0, 0.14285714285714285, 0.0, 0.0, 0.0, 0.0, 0.0, 0.0, 0.1111111111111111, 0.0, 0.0, 0.0, 0.0, 0.08333333333333333, 0.0, 0.0, 0.14705882352941177, 0.2727272727272727, 0.23529411764705882, 0.0, 0.0, 0.0, 0.0, 0.0, 0.0, 0.0, 0.0, 0.0, 0.0, 0.0, 0.0, 0.0, 0.0, 0.0, 0.0, 0.0, 0.0, 0.0, 0.0, 0.0, 0.0, 0.14285714285714285, 0.0], 'General Manager': [0.0, 0.1111111111111111, 0.125, 0.0, 0.2, 0.16, 0.125, 0.13043478260869565, 0.125, 0.06666666666666667, 0.0, 0.0, 0.1111111111111111, 0.0, 0.0, 0.1, 0.0, 0.125, 0.2, 0.06666666666666667, 0.1111111111111111, 0.0, 0.0, 0.07692307692307693, 0.10344827586206896, 0.21428571428571427, 0.1111111111111111, 0.0, 0.09090909090909091, 0.09090909090909091, 0.14285714285714285, 0.2727272727272727, 0.14285714285714285, 0.35714285714285715, 0.2, 0.2, 0.07692307692307693, 0.16666666666666666, 0.07692307692307693, 0.2, 0.1, 0.1111111111111111, 0.25, 0.2857142857142857, 0.1111111111111111, 0.125, 0.0, 0.0, 0.14285714285714285, 0.2857142857142857, 0.0, 0.18181818181818182, 0.0, 0.10344827586206896, 0.09090909090909091, 0.21428571428571427, 0.16666666666666666, 0.0, 0.125, 0.25, 0.125, 0.09090909090909091, 0.2857142857142857, 0.125, 0.36363636363636365, 0.14285714285714285, 0.2222222222222222, 0.125, 0.0, 0.0, 0.14285714285714285, 0.125, 0.25, 0.15, 0.125, 0.07692307692307693, 0.0, 0.07692307692307693, 0.1111111111111111, 0.0, 0.2, 0.18181818181818182, 0.0, 0.1, 0.0, 0.0, 0.0, 0.16666666666666666, 0.14285714285714285, 0.0, 0.14285714285714285, 0.1, 0.375, 0.0, 0.2, 0.14285714285714285, 0.2857142857142857, 0.0, 0.0, 0.0, 0.0, 0.1111111111111111, 0.25, 0.09090909090909091, 0.0, 0.25, 0.3333333333333333, 0.0, 0.0, 0.2, 0.125, 0.2857142857142857, 0.2, 0.047619047619047616, 0.23076923076923078, 0.125, 0.14285714285714285, 0.3, 0.14285714285714285, 0.0, 0.14285714285714285, 0.05, 0.09090909090909091, 0.125, 0.1111111111111111, 0.0, 0.1, 0.0, 1.0, 0.3, 0.21428571428571427, 0.2857142857142857, 0.0, 0.125, 0.3333333333333333, 0.125, 0.15789473684210525, 0.06666666666666667, 0.07142857142857142, 0.09090909090909091, 0.3076923076923077, 0.5, 0.2222222222222222, 0.25, 0.125, 0.25, 0.0, 0.1111111111111111, 0.0, 0.2857142857142857, 0.0, 0.2, 0.2857142857142857, 0.2, 0.0, 0.125, 0.0, 0.14285714285714285, 0.0, 0.1111111111111111, 0.08333333333333333, 0.3, 0.1, 0.125, 0.2, 0.25, 0.0, 0.09090909090909091, 0.2, 0.125, 0.2857142857142857, 0.14285714285714285, 0.2, 0.14285714285714285, 0.2857142857142857, 0.3333333333333333, 0.1111111111111111, 0.25, 0.4, 0.2, 0.0, 0.1, 0.14285714285714285, 0.1111111111111111, 0.0, 0.0, 0.25, 0.2222222222222222, 0.14285714285714285, 0.125, 0.0, 0.125, 0.2727272727272727, 0.25, 0.3333333333333333, 0.08108108108108109, 0.0, 0.047619047619047616, 0.2, 0.25, 0.14285714285714285, 0.14285714285714285, 0.0, 0.2857142857142857, 0.3, 0.25, 0.0, 0.0, 0.2857142857142857, 0.14285714285714285, 0.14285714285714285, 0.0, 0.25, 0.2222222222222222, 0.14285714285714285, 0.125, 0.14285714285714285, 0.125, 0.25, 0.3, 0.0, 0.3], 'Event Coordinator': [0.05, 0.2857142857142857, 0.14285714285714285, 0.0, 0.2222222222222222, 0.07692307692307693, 0.0625, 0.041666666666666664, 0.3333333333333333, 0.0, 0.14285714285714285, 0.0, 0.125, 0.0, 0.0, 0.1111111111111111, 0.0, 0.14285714285714285, 0.1, 0.0, 0.2857142857142857, 0.3333333333333333, 0.14285714285714285, 0.0, 0.06896551724137931, 0.06666666666666667, 0.11764705882352941, 0.07692307692307693, 0.2222222222222222, 0.2222222222222222, 0.0, 0.8571428571428571, 0.0, 0.125, 0.3076923076923077, 0.09523809523809523, 0.0, 0.3, 0.0, 0.3076923076923077, 0.0, 0.125, 0.125, 0.0, 0.125, 0.14285714285714285, 0.14285714285714285, 0.0, 0.07142857142857142, 0.14285714285714285, 0.0, 0.2, 0.0, 0.14814814814814814, 0.1, 0.06666666666666667, 0.3, 0.0, 0.0625, 0.125, 0.14285714285714285, 0.0, 0.14285714285714285, 0.0625, 0.16666666666666666, 0.0, 0.1111111111111111, 0.14285714285714285, 0.0, 0.16666666666666666, 0.16666666666666666, 0.3333333333333333, 0.125, 0.2222222222222222, 0.0, 0.0, 0.0, 0.08333333333333333, 0.05555555555555555, 0.14285714285714285, 0.0, 0.3333333333333333, 0.0, 0.42857142857142855, 0.16666666666666666, 0.05, 0.1, 0.0, 0.0, 0.14285714285714285, 0.0, 0.1111111111111111, 0.25, 0.0, 0.15, 0.16666666666666666, 0.14285714285714285, 0.0, 0.25, 0.07692307692307693, 0.0, 0.2857142857142857, 0.2857142857142857, 0.2222222222222222, 0.0, 0.07692307692307693, 0.46153846153846156, 0.5, 0.0625, 0.1, 0.0, 0.14285714285714285, 0.3076923076923077, 0.05, 0.07142857142857142, 0.3333333333333333, 0.16666666666666666, 1.0, 0.16666666666666666, 0.06666666666666667, 0.0, 0.05263157894736842, 0.2222222222222222, 0.0, 0.2857142857142857, 0.0, 0.25, 0.0, 0.3, 1.0, 0.23076923076923078, 0.14285714285714285, 0.0, 0.14285714285714285, 0.1, 0.0, 0.16666666666666666, 0.07142857142857142, 0.16666666666666666, 0.1, 0.06666666666666667, 0.2222222222222222, 0.42857142857142855, 0.125, 0.3333333333333333, 0.125, 0.0, 0.2857142857142857, 0.0, 0.14285714285714285, 0.2857142857142857, 0.2222222222222222, 0.14285714285714285, 0.375, 0.14285714285714285, 0.14285714285714285, 0.0, 0.0, 0.05263157894736842, 0.0, 0.0, 1.0, 0.42857142857142855, 0.0, 0.3076923076923077, 0.125, 0.16666666666666666, 0.2222222222222222, 0.1, 0.3333333333333333, 0.14285714285714285, 0.16666666666666666, 0.21428571428571427, 0.0, 0.3333333333333333, 0.2222222222222222, 0.0, 0.125, 0.3, 0.15, 0.0, 0.42857142857142855, 0.16666666666666666, 0.0, 0.0, 0.0, 0.2857142857142857, 0.1111111111111111, 0.0, 0.14285714285714285, 0.14285714285714285, 0.14285714285714285, 0.4444444444444444, 0.2857142857142857, 0.1, 0.05405405405405406, 0.0, 0.05, 0.15, 0.125, 0.0, 0.16666666666666666, 0.5, 0.14285714285714285, 1.0, 0.125, 0.0, 0.2857142857142857, 0.14285714285714285, 0.0, 0.0, 0.16666666666666666, 0.125, 0.25, 0.0, 0.14285714285714285, 0.0, 0.0, 0.125, 1.0, 0.0, 1.0], 'Software Developer': [0.041666666666666664, 0.18181818181818182, 0.09090909090909091, 0.0, 0.25, 0.14285714285714285, 0.10526315789473684, 0.16, 0.09090909090909091, 0.16666666666666666, 0.0, 0.16666666666666666, 0.18181818181818182, 0.1, 0.18181818181818182, 0.07692307692307693, 0.09090909090909091, 0.09090909090909091, 0.15384615384615385, 0.05555555555555555, 0.18181818181818182, 0.09090909090909091, 0.0, 0.0625, 0.09375, 0.0, 0.09523809523809523, 0.058823529411764705, 0.07142857142857142, 0.07142857142857142, 0.0, 0.21428571428571427, 0.1, 0.15789473684210525, 0.23529411764705882, 0.125, 0.0625, 0.3076923076923077, 0.13333333333333333, 0.23529411764705882, 0.0, 0.08333333333333333, 0.08333333333333333, 0.09090909090909091, 0.18181818181818182, 0.09090909090909091, 0.0, 0.0, 0.0, 0.2, 0.2, 0.06666666666666667, 0.0, 0.16666666666666666, 0.07142857142857142, 0.1111111111111111, 0.3076923076923077, 0.0, 0.10526315789473684, 0.08333333333333333, 0.09090909090909091, 0.15384615384615385, 0.09090909090909091, 0.05, 0.125, 0.0, 0.16666666666666666, 0.09090909090909091, 0.0, 0.1, 0.1, 0.2, 0.18181818181818182, 0.18181818181818182, 0.0, 0.0625, 0.0, 0.21428571428571427, 0.09523809523809523, 0.0, 0.07142857142857142, 0.14285714285714285, 0.058823529411764705, 0.16666666666666666, 0.2, 0.08695652173913043, 0.0, 0.14285714285714285, 0.0, 0.0, 0.1, 0.07692307692307693, 0.16666666666666666, 0.0, 0.125, 0.1, 0.09090909090909091, 0.1, 0.16666666666666666, 0.058823529411764705, 0.07692307692307693, 0.18181818181818182, 0.3, 0.07142857142857142, 0.0, 0.125, 0.21052631578947367, 0.08333333333333333, 0.10526315789473684, 0.15384615384615385, 0.09090909090909091, 0.2, 0.23529411764705882, 0.041666666666666664, 0.26666666666666666, 0.09090909090909091, 0.1, 0.23076923076923078, 0.1, 0.1111111111111111, 0.0, 0.14285714285714285, 0.07142857142857142, 0.0, 0.18181818181818182, 0.0, 0.07692307692307693, 0.14285714285714285, 0.21428571428571427, 0.23076923076923078, 1.0, 0.2, 0.0, 0.09090909090909091, 0.15384615384615385, 0.0, 0.08695652173913043, 0.1875, 0.058823529411764705, 0.15384615384615385, 0.17647058823529413, 0.25, 0.2727272727272727, 0.08333333333333333, 0.09090909090909091, 0.08333333333333333, 0.0, 0.18181818181818182, 0.0, 0.09090909090909091, 0.08333333333333333, 0.07142857142857142, 0.09090909090909091, 0.15384615384615385, 0.09090909090909091, 0.09090909090909091, 0.0, 0.1, 0.09090909090909091, 0.0, 0.06666666666666667, 0.23076923076923078, 0.16666666666666666, 0.0, 0.23529411764705882, 0.08333333333333333, 0.1, 0.07142857142857142, 0.15384615384615385, 0.09090909090909091, 0.09090909090909091, 0.1, 0.16666666666666666, 0.0, 0.2, 0.25, 0.0, 0.08333333333333333, 0.21428571428571427, 0.125, 0.09090909090909091, 0.16666666666666666, 0.1, 0.0, 0.0, 0.0, 0.3, 0.16666666666666666, 0.1, 0.09090909090909091, 0.0, 0.09090909090909091, 0.3076923076923077, 0.3, 0.15384615384615385, 0.075, 0.058823529411764705, 0.13636363636363635, 0.125, 0.18181818181818182, 0.0, 0.1, 0.08333333333333333, 0.2, 0.23076923076923078, 0.08333333333333333, 0.0, 0.08333333333333333, 0.09090909090909091, 0.0, 0.0, 0.1, 0.08333333333333333, 0.16666666666666666, 0.1, 0.09090909090909091, 0.0, 0.0, 0.08333333333333333, 0.23076923076923078, 0.09090909090909091, 0.23076923076923078], 'Corporate Sales Manager': [0.0, 0.0, 0.0, 0.0, 0.16666666666666666, 0.043478260869565216, 0.0, 0.05, 0.0, 0.038461538461538464, 0.0, 0.0, 0.0, 0.0, 0.0, 0.0, 0.0, 0.0, 0.0, 0.1, 0.0, 0.0, 0.0, 0.125, 0.0, 0.0, 0.0, 0.0, 0.0, 0.0, 0.0, 0.125, 0.5, 0.07692307692307693, 0.08333333333333333, 0.05555555555555555, 0.125, 0.125, 0.125, 0.08333333333333333, 0.0, 0.0, 0.25, 0.3333333333333333, 0.25, 0.3333333333333333, 0.0, 0.0, 0.0, 0.3333333333333333, 0.0, 0.0, 0.0, 0.038461538461538464, 0.0, 0.09090909090909091, 0.125, 0.0, 0.0, 0.0, 0.3333333333333333, 0.16666666666666666, 0.0, 0.08333333333333333, 0.1111111111111111, 0.0, 0.0, 0.0, 0.0, 0.0, 0.0, 0.0, 0.6666666666666666, 0.0, 0.0, 0.125, 0.0, 0.0, 0.0, 0.0, 0.0, 0.0, 0.0, 0.0, 0.0, 0.0, 0.0, 0.06666666666666667, 0.0, 0.0, 0.5, 0.0, 0.2, 0.0, 0.05555555555555555, 0.0, 0.0, 0.0, 0.0, 0.0, 0.0, 0.0, 0.25, 0.0, 0.0, 0.25, 0.15384615384615385, 0.0, 0.0, 0.16666666666666666, 0.0, 0.3333333333333333, 0.08333333333333333, 0.0, 0.1, 0.0, 0.5, 0.14285714285714285, 0.0, 0.0, 0.0, 0.0, 0.0, 0.0, 0.0, 0.0, 0.2, 0.0, 0.2857142857142857, 0.14285714285714285, 0.2, 1.0, 0.0, 0.3333333333333333, 0.16666666666666666, 0.0, 0.0, 0.1, 0.0, 0.16666666666666666, 0.09090909090909091, 0.16666666666666666, 0.2, 0.25, 0.0, 0.25, 0.0, 0.0, 0.0, 0.0, 0.0, 0.0, 0.0, 0.0, 0.0, 0.0, 0.0, 0.5, 0.0, 0.0, 0.0, 0.14285714285714285, 0.0, 0.0, 0.08333333333333333, 0.25, 0.0, 0.0, 0.16666666666666666, 0.0, 0.0, 0.0, 0.08333333333333333, 0.0, 0.3333333333333333, 0.4, 0.0, 0.25, 0.125, 0.05555555555555555, 0.0, 0.0, 0.0, 0.0, 0.0, 0.0, 0.25, 0.0, 0.5, 0.3333333333333333, 0.0, 0.0, 0.125, 0.25, 0.16666666666666666, 0.0, 0.0, 0.0625, 0.05555555555555555, 0.25, 0.0, 0.0, 0.0, 0.3333333333333333, 0.14285714285714285, 0.25, 0.0, 0.0, 0.0, 0.0, 0.0, 0.0, 0.25, 0.2, 0.5, 0.3333333333333333, 0.0, 0.0, 0.25, 0.14285714285714285, 0.0, 0.14285714285714285], 'Director of? Customer Success and Satisfaction': [0.0, 0.0, 0.0, 0.0, 0.2, 0.0, 0.09090909090909091, 0.05263157894736842, 0.0, 0.04, 0.0, 0.0, 0.3333333333333333, 0.0, 0.0, 0.0, 0.0, 0.0, 0.0, 0.0, 0.0, 0.0, 0.5, 0.0, 0.04, 0.0, 0.0, 0.0, 0.2, 0.2, 0.0, 0.0, 0.0, 0.0, 0.09090909090909091, 0.0, 0.0, 0.14285714285714285, 0.0, 0.09090909090909091, 0.0, 0.0, 0.0, 0.0, 0.0, 0.0, 0.5, 0.1, 0.0, 0.0, 0.0, 0.16666666666666666, 0.1, 0.04, 0.0, 0.0, 0.14285714285714285, 1.0, 0.09090909090909091, 0.3333333333333333, 0.5, 0.0, 0.0, 0.09090909090909091, 0.0, 0.0, 0.0, 0.0, 1.0, 0.0, 0.0, 0.0, 0.0, 0.0, 0.0, 0.0, 0.0, 0.0, 0.07692307692307693, 0.0, 0.0, 0.16666666666666666, 0.0, 0.25, 0.0, 0.0, 0.0, 0.0, 0.0, 0.5, 0.0, 0.0, 0.0, 0.0, 0.058823529411764705, 0.0, 0.0, 0.0, 0.25, 0.0, 0.0, 0.0, 0.0, 0.2, 0.0, 0.0, 0.0, 0.0, 0.09090909090909091, 0.2, 0.0, 0.0, 0.09090909090909091, 0.06666666666666667, 0.1111111111111111, 0.0, 0.0, 0.0, 0.0, 0.0, 0.0, 0.0, 0.2, 0.0, 0.0, 0.0, 0.0, 0.0, 0.0, 0.0, 0.0, 0.0, 1.0, 0.0, 0.0, 0.5, 0.0, 0.0, 0.0, 0.0, 0.0, 0.0, 0.0, 0.0, 0.0, 0.0, 0.0, 0.0, 0.0, 0.0, 0.0, 0.0, 0.0, 0.0, 0.0, 0.0, 0.0, 0.0, 0.07142857142857142, 0.0, 0.0, 0.0, 0.25, 0.0, 0.09090909090909091, 0.0, 0.0, 0.2, 0.2, 0.0, 0.0, 0.0, 0.09090909090909091, 0.0, 0.0, 0.0, 0.0, 0.0, 0.14285714285714285, 0.058823529411764705, 0.5, 0.25, 0.0, 0.0, 0.0, 0.0, 0.0, 0.0, 0.0, 0.0, 0.5, 0.0, 0.0, 0.0, 0.0, 0.0, 0.0, 0.06666666666666667, 0.058823529411764705, 0.0, 0.0, 0.0, 0.0, 0.0, 0.0, 0.0, 0.0, 0.0, 0.0, 0.0, 0.0, 0.0, 0.0, 0.0, 0.0, 0.0, 0.0, 0.5, 0.0, 0.0, 0.5, 0.0], 'Laboratory Assistant': [0.0625, 0.0, 0.0, 0.0, 0.16666666666666666, 0.0, 0.08333333333333333, 0.0, 0.0, 0.038461538461538464, 0.0, 0.0, 0.0, 0.0, 0.0, 0.2, 0.0, 0.0, 0.0, 0.1, 0.0, 0.0, 0.0, 0.0, 0.0, 0.0, 0.07142857142857142, 0.0, 0.0, 0.0, 0.0, 0.125, 0.0, 0.0, 0.0, 0.05555555555555555, 0.0, 0.125, 0.0, 0.0, 0.0, 0.25, 0.25, 0.0, 0.25, 0.0, 0.0, 0.09090909090909091, 0.0, 0.0, 0.0, 0.0, 0.09090909090909091, 0.038461538461538464, 0.16666666666666666, 0.0, 0.125, 0.0, 0.08333333333333333, 0.0, 0.3333333333333333, 0.0, 0.0, 0.08333333333333333, 0.1111111111111111, 0.0, 0.0, 0.0, 0.0, 0.0, 0.0, 0.0, 0.25, 0.058823529411764705, 0.0, 0.0, 0.0, 0.0, 0.07142857142857142, 0.0, 0.0, 0.0, 0.0, 0.0, 0.0, 0.0625, 0.0, 0.06666666666666667, 0.0, 0.0, 0.0, 0.0, 0.2, 0.0, 0.05555555555555555, 0.0, 0.0, 0.0, 0.0, 0.0, 0.0, 0.0, 0.0, 0.0, 0.0, 0.1111111111111111, 0.07142857142857142, 0.0, 0.08333333333333333, 0.0, 0.0, 0.0, 0.0, 0.0, 0.0, 0.0, 0.5, 0.14285714285714285, 0.0, 0.0, 0.0, 0.0, 0.0, 0.0, 0.0, 0.5, 0.5, 0.0, 0.125, 0.14285714285714285, 0.09090909090909091, 0.3333333333333333, 0.0, 1.0, 0.0, 0.0, 0.0, 0.0, 0.0, 0.0, 0.09090909090909091, 0.0, 0.0, 0.25, 0.0, 0.25, 0.0, 0.0, 0.0, 0.0, 0.0, 0.16666666666666666, 0.0, 0.0, 0.0, 0.0, 0.0, 0.0, 0.0, 0.25, 0.0, 0.14285714285714285, 0.0, 0.3333333333333333, 0.0, 0.25, 0.0, 0.0, 0.0, 0.0, 0.0, 0.0, 0.08333333333333333, 0.0, 0.3333333333333333, 0.16666666666666666, 0.0, 0.25, 0.125, 0.05555555555555555, 0.0, 0.0, 0.0, 0.0, 0.0, 0.0, 0.0, 0.0, 0.0, 1.0, 0.0, 0.0, 0.125, 0.0, 0.0, 0.0, 0.0, 0.0, 0.05555555555555555, 0.0, 0.0, 0.0, 0.0, 0.0, 0.14285714285714285, 0.25, 0.0, 0.0, 0.0, 0.0, 0.0, 0.0, 0.25, 0.5, 0.0, 1.0, 0.0, 0.0, 0.25, 0.14285714285714285, 0.0, 0.14285714285714285], 'Assistant Customer Care Center Manager': [0.0, 0.14285714285714285, 0.4, 0.2, 0.1111111111111111, 0.125, 0.23076923076923078, 0.14285714285714285, 0.16666666666666666, 0.07142857142857142, 0.0, 0.0, 0.14285714285714285, 0.0, 0.0, 0.2857142857142857, 0.0, 0.16666666666666666, 0.1111111111111111, 0.16666666666666666, 0.14285714285714285, 0.0, 0.0, 0.2, 0.07142857142857142, 0.15384615384615385, 0.058823529411764705, 0.0, 0.0, 0.0, 0.2, 0.09090909090909091, 0.2, 0.21428571428571427, 0.23076923076923078, 0.15789473684210525, 0.2, 0.2, 0.09090909090909091, 0.23076923076923078, 0.0, 0.14285714285714285, 0.0, 0.16666666666666666, 0.14285714285714285, 0.16666666666666666, 0.0, 0.07142857142857142, 0.07692307692307693, 0.4, 0.0, 0.1, 0.07142857142857142, 0.1111111111111111, 0.1111111111111111, 0.15384615384615385, 0.2, 0.0, 0.23076923076923078, 0.3333333333333333, 0.0, 0.1111111111111111, 0.4, 0.06666666666666667, 0.3, 0.2, 0.2857142857142857, 0.16666666666666666, 0.0, 0.0, 0.2, 0.16666666666666666, 0.14285714285714285, 0.10526315789473684, 0.16666666666666666, 0.2, 0.0, 0.2, 0.125, 0.0, 0.1111111111111111, 0.1, 0.0, 0.125, 0.08333333333333333, 0.05263157894736842, 0.0, 0.1875, 0.2, 0.0, 0.2, 0.125, 0.2857142857142857, 0.2, 0.2222222222222222, 0.2, 0.4, 0.0, 0.0, 0.0, 0.0, 0.14285714285714285, 0.3333333333333333, 0.0, 0.0, 0.18181818181818182, 0.2, 0.0, 0.0, 0.42857142857142855, 0.16666666666666666, 0.4, 0.23076923076923078, 0.05263157894736842, 0.2727272727272727, 0.16666666666666666, 0.0, 0.1, 0.2, 0.0, 0.2, 0.0, 0.0, 0.16666666666666666, 0.14285714285714285, 0.0, 0.0, 0.0, 0.3333333333333333, 0.1, 0.15384615384615385, 0.16666666666666666, 0.0, 0.0, 1.0, 0.0, 0.05263157894736842, 0.07692307692307693, 0.18181818181818182, 0.1111111111111111, 0.36363636363636365, 0.42857142857142855, 0.2857142857142857, 0.14285714285714285, 0.16666666666666666, 0.14285714285714285, 0.2, 0.14285714285714285, 0.0, 0.4, 0.0, 0.25, 0.4, 0.1111111111111111, 0.0, 0.16666666666666666, 0.0, 0.2, 0.0, 0.14285714285714285, 0.0, 0.1, 0.125, 0.16666666666666666, 0.23076923076923078, 0.14285714285714285, 0.0, 0.0, 0.42857142857142855, 0.16666666666666666, 0.4, 0.2, 0.23076923076923078, 0.2, 0.16666666666666666, 0.25, 0.14285714285714285, 0.14285714285714285, 0.2, 0.2222222222222222, 0.0, 0.125, 0.2, 0.14285714285714285, 0.0, 0.0, 0.3333333333333333, 0.2857142857142857, 0.2, 0.0, 0.0, 0.16666666666666666, 0.2, 0.3333333333333333, 1.0, 0.08571428571428572, 0.0, 0.1111111111111111, 0.2222222222222222, 0.3333333333333333, 0.2, 0.2, 0.0, 0.4, 0.1, 0.14285714285714285, 0.0, 0.0, 0.4, 0.2, 0.2, 0.0, 0.14285714285714285, 0.125, 0.2, 0.0, 0.2, 0.0, 0.14285714285714285, 0.1, 0.0, 0.1], 'Technical Trainer': [0.0, 0.0, 0.0, 0.0, 0.16666666666666666, 0.0, 0.08333333333333333, 0.10526315789473684, 0.0, 0.08, 0.0, 0.0, 0.25, 0.0, 0.0, 0.0, 0.0, 0.0, 0.16666666666666666, 0.0, 0.0, 0.0, 0.3333333333333333, 0.0, 0.038461538461538464, 0.0, 0.0, 0.0, 0.16666666666666666, 0.16666666666666666, 0.0, 0.0, 0.0, 0.07692307692307693, 0.18181818181818182, 0.0, 0.0, 0.125, 0.0, 0.18181818181818182, 0.2, 0.0, 0.25, 0.3333333333333333, 0.0, 0.0, 0.3333333333333333, 0.09090909090909091, 0.0, 0.0, 0.0, 0.14285714285714285, 0.09090909090909091, 0.08, 0.0, 0.0, 0.125, 0.5, 0.08333333333333333, 0.25, 0.3333333333333333, 0.0, 0.0, 0.08333333333333333, 0.1111111111111111, 0.0, 0.0, 0.0, 0.5, 0.0, 0.0, 0.0, 0.0, 0.058823529411764705, 0.0, 0.0, 0.0, 0.0, 0.15384615384615385, 0.0, 0.0, 0.14285714285714285, 0.0, 0.2, 0.0, 0.0, 0.0, 0.06666666666666667, 0.0, 0.3333333333333333, 0.0, 0.0, 0.0, 0.0, 0.11764705882352941, 0.0, 0.0, 0.0, 0.2, 0.0, 0.0, 0.0, 0.0, 0.16666666666666666, 0.0, 0.0, 0.0, 0.0, 0.08333333333333333, 0.16666666666666666, 0.0, 0.0, 0.18181818181818182, 0.0625, 0.1, 0.0, 0.0, 0.0, 0.0, 0.0, 0.0, 0.0, 0.16666666666666666, 0.0, 0.0, 0.0, 0.0, 0.0, 0.125, 0.0, 0.0, 0.0, 0.5, 0.0, 0.0, 1.0, 0.0625, 0.0, 0.0, 0.0, 0.09090909090909091, 0.0, 0.0, 0.0, 0.0, 0.0, 0.0, 0.0, 0.0, 0.0, 0.0, 0.0, 0.0, 0.0, 0.0, 0.0, 0.0, 0.0, 0.06666666666666667, 0.0, 0.14285714285714285, 0.0, 0.2, 0.0, 0.18181818181818182, 0.0, 0.0, 0.16666666666666666, 0.16666666666666666, 0.0, 0.0, 0.0, 0.08333333333333333, 0.0, 0.0, 0.0, 0.0, 0.0, 0.125, 0.11764705882352941, 0.3333333333333333, 0.2, 0.0, 0.0, 0.0, 0.0, 0.0, 0.0, 0.0, 0.0, 0.3333333333333333, 0.0, 0.0, 0.0, 0.0, 0.029411764705882353, 0.0, 0.0625, 0.11764705882352941, 0.0, 0.0, 0.0, 0.0, 0.0, 0.0, 0.0, 0.0, 0.0, 0.0, 0.0, 0.0, 0.0, 0.0, 0.0, 0.0, 0.0, 0.0, 1.0, 0.0, 0.0, 0.3333333333333333, 0.0], 'Manufacturing Specialist': [0.25, 0.058823529411764705, 0.0625, 0.0, 0.05263157894736842, 0.15625, 0.04, 0.21428571428571427, 0.13333333333333333, 0.21212121212121213, 0.0625, 0.18181818181818182, 0.058823529411764705, 0.0, 0.0, 0.05555555555555555, 0.0, 0.0, 0.25, 0.043478260869565216, 0.058823529411764705, 0.0625, 0.0625, 0.0, 0.17647058823529413, 0.19047619047619047, 0.3333333333333333, 0.21052631578947367, 0.05263157894736842, 0.05263157894736842, 0.0, 0.15789473684210525, 0.0, 0.2857142857142857, 0.18181818181818182, 0.28, 0.0, 0.047619047619047616, 0.1, 0.18181818181818182, 0.1875, 0.058823529411764705, 0.058823529411764705, 0.0625, 0.0, 0.0625, 0.0625, 0.0, 0.2, 0.0625, 0.09523809523809523, 0.05, 0.0, 0.2903225806451613, 0.0, 0.19047619047619047, 0.047619047619047616, 0.0, 0.04, 0.058823529411764705, 0.0, 0.05263157894736842, 0.0625, 0.0, 0.21052631578947367, 0.0, 0.05555555555555555, 0.13333333333333333, 0.0, 0.0, 0.06666666666666667, 0.0625, 0.0, 0.14814814814814814, 0.0, 0.0, 0.1111111111111111, 0.15789473684210525, 0.16666666666666666, 0.0625, 0.1111111111111111, 0.10526315789473684, 0.09523809523809523, 0.11764705882352941, 0.15, 0.07142857142857142, 0.05263157894736842, 0.07407407407407407, 0.0, 0.0625, 0.0, 0.0, 0.05555555555555555, 0.0, 0.14285714285714285, 0.06666666666666667, 0.0625, 0.0, 0.05555555555555555, 0.21052631578947367, 0.11764705882352941, 0.058823529411764705, 0.058823529411764705, 0.05263157894736842, 0.0, 0.0, 0.12, 0.125, 0.04, 0.1111111111111111, 0.0, 0.0625, 0.18181818181818182, 0.2, 0.043478260869565216, 0.13333333333333333, 0.0, 0.16666666666666666, 0.06666666666666667, 0.13636363636363635, 0.0, 0.16, 0.05263157894736842, 0.0, 0.058823529411764705, 0.0, 0.05555555555555555, 0.10526315789473684, 0.15789473684210525, 0.16666666666666666, 0.08695652173913043, 0.0, 0.0, 0.0, 0.05263157894736842, 0.0625, 1.0, 0.09090909090909091, 0.21052631578947367, 0.05263157894736842, 0.08695652173913043, 0.1111111111111111, 0.11764705882352941, 0.0, 0.13333333333333333, 0.0, 0.0, 0.058823529411764705, 0.0, 0.0625, 0.058823529411764705, 0.1111111111111111, 0.0625, 0.1111111111111111, 0.0, 0.0625, 0.0, 0.0, 0.16, 0.0, 0.23529411764705882, 0.16666666666666666, 0.11764705882352941, 0.0, 0.18181818181818182, 0.0, 0.0, 0.05263157894736842, 0.1111111111111111, 0.13333333333333333, 0.0625, 0.06666666666666667, 0.04, 0.0, 0.0625, 0.1111111111111111, 0.0, 0.0, 0.1, 0.14285714285714285, 0.0, 0.11764705882352941, 0.06666666666666667, 0.0, 0.0, 0.0, 0.058823529411764705, 0.05555555555555555, 0.0, 0.0, 0.0625, 0.0625, 0.1, 0.058823529411764705, 0.05263157894736842, 0.2631578947368421, 0.045454545454545456, 0.15384615384615385, 0.14285714285714285, 0.058823529411764705, 0.0, 0.06666666666666667, 0.125, 0.0625, 0.16666666666666666, 0.0, 0.0, 0.058823529411764705, 0.0625, 0.0, 0.0, 0.0, 0.0, 0.05555555555555555, 0.0, 0.0, 0.0, 0.0625, 0.0, 0.16666666666666666, 0.0, 0.16666666666666666], 'Piping Stress Engineer': [0.14285714285714285, 0.09090909090909091, 0.0, 0.0, 0.0, 0.19230769230769232, 0.0, 0.16666666666666666, 0.1, 0.21428571428571427, 0.0, 0.1111111111111111, 0.0, 0.0, 0.09090909090909091, 0.0, 0.0, 0.0, 0.0, 0.058823529411764705, 0.09090909090909091, 0.1, 0.1, 0.06666666666666667, 0.0967741935483871, 0.11764705882352941, 0.1, 0.21428571428571427, 0.16666666666666666, 0.16666666666666666, 0.0, 0.06666666666666667, 0.1111111111111111, 0.16666666666666666, 0.1111111111111111, 0.08333333333333333, 0.06666666666666667, 0.0, 0.06666666666666667, 0.1111111111111111, 0.0, 0.0, 0.0, 0.1, 0.09090909090909091, 0.1, 0.1, 0.0, 0.125, 0.1, 0.13333333333333333, 0.15384615384615385, 0.0, 0.1724137931034483, 0.0, 0.1875, 0.0, 0.0, 0.0, 0.0, 0.0, 0.16666666666666666, 0.0, 0.0, 0.21428571428571427, 0.0, 0.0, 0.1, 0.0, 0.0, 0.0, 0.0, 0.09090909090909091, 0.08695652173913043, 0.0, 0.06666666666666667, 0.0, 0.14285714285714285, 0.047619047619047616, 0.0, 0.0, 0.15384615384615385, 0.0, 0.08333333333333333, 0.3076923076923077, 0.0, 0.07692307692307693, 0.15, 0.0, 0.1, 0.1111111111111111, 0.08333333333333333, 0.08333333333333333, 0.0, 0.04, 0.0, 0.0, 0.0, 0.08333333333333333, 0.21428571428571427, 0.08333333333333333, 0.0, 0.09090909090909091, 0.16666666666666666, 0.0, 0.0625, 0.1, 0.09090909090909091, 0.1111111111111111, 0.07692307692307693, 0.0, 0.1, 0.1111111111111111, 0.14285714285714285, 0.125, 0.1, 0.0, 0.07142857142857142, 0.0, 0.26666666666666666, 0.0, 0.21052631578947367, 0.16666666666666666, 0.0, 0.0, 0.0, 0.0, 0.25, 0.06666666666666667, 0.07142857142857142, 0.1875, 0.1, 0.0, 0.0, 0.07692307692307693, 0.0, 0.09090909090909091, 1.0, 0.21428571428571427, 0.5555555555555556, 0.05555555555555555, 0.07692307692307693, 0.08333333333333333, 0.09090909090909091, 0.0, 0.09090909090909091, 0.0, 0.09090909090909091, 0.0, 0.0, 0.2, 0.0, 0.0, 0.0, 0.0, 0.0, 0.0, 0.1111111111111111, 0.21052631578947367, 0.0, 0.15384615384615385, 0.07142857142857142, 0.08333333333333333, 0.0, 0.1111111111111111, 0.09090909090909091, 0.0, 0.16666666666666666, 0.07692307692307693, 0.1, 0.0, 0.0, 0.05263157894736842, 0.0, 0.0, 0.07692307692307693, 0.0, 0.09090909090909091, 0.0, 0.04, 0.0, 0.08333333333333333, 0.0, 0.2, 0.1111111111111111, 0.1111111111111111, 0.09090909090909091, 0.0, 0.1111111111111111, 0.0, 0.1, 0.1, 0.14285714285714285, 0.09090909090909091, 0.07692307692307693, 0.16666666666666666, 0.21428571428571427, 0.2, 0.04, 0.2, 0.0, 0.0, 0.09090909090909091, 0.1, 0.07142857142857142, 0.09090909090909091, 0.1, 0.2, 0.0, 0.0, 0.0, 0.0, 0.09090909090909091, 0.0, 0.1111111111111111, 0.0, 0.0, 0.0, 0.09090909090909091, 0.07142857142857142, 0.0, 0.07142857142857142], 'RF Engineer': [0.15, 0.1, 0.1111111111111111, 0.0, 0.08333333333333333, 0.15384615384615385, 0.05555555555555555, 0.17391304347826086, 0.25, 0.06451612903225806, 0.0, 0.11764705882352941, 0.1, 0.0, 0.0, 0.09090909090909091, 0.0, 0.0, 0.08333333333333333, 0.0, 0.1, 0.1111111111111111, 0.1111111111111111, 0.0, 0.13793103448275862, 0.2857142857142857, 0.3125, 0.23076923076923078, 0.08333333333333333, 0.08333333333333333, 0.0, 0.15384615384615385, 0.0, 0.25, 0.26666666666666666, 0.25, 0.0, 0.07142857142857142, 0.15384615384615385, 0.26666666666666666, 0.09090909090909091, 0.1, 0.0, 0.0, 0.0, 0.0, 0.1111111111111111, 0.0, 0.3076923076923077, 0.1111111111111111, 0.06666666666666667, 0.07692307692307693, 0.0, 0.2692307692307692, 0.0, 0.2, 0.07142857142857142, 0.0, 0.05555555555555555, 0.1, 0.0, 0.08333333333333333, 0.1111111111111111, 0.0, 0.23076923076923078, 0.0, 0.09090909090909091, 0.25, 0.0, 0.0, 0.125, 0.1111111111111111, 0.0, 0.09090909090909091, 0.0, 0.0, 0.08333333333333333, 0.15384615384615385, 0.10526315789473684, 0.0, 0.08333333333333333, 0.16666666666666666, 0.06666666666666667, 0.2, 0.23076923076923078, 0.045454545454545456, 0.08333333333333333, 0.1, 0.0, 0.1111111111111111, 0.0, 0.0, 0.09090909090909091, 0.0, 0.041666666666666664, 0.125, 0.1111111111111111, 0.0, 0.09090909090909091, 0.23076923076923078, 0.2, 0.1, 0.1, 0.08333333333333333, 0.0, 0.0, 0.10526315789473684, 0.1, 0.05555555555555555, 0.18181818181818182, 0.0, 0.1111111111111111, 0.26666666666666666, 0.21052631578947367, 0.0625, 0.25, 0.0, 0.16666666666666666, 0.125, 0.2, 0.0, 0.2222222222222222, 0.08333333333333333, 0.0, 0.1, 0.0, 0.0, 0.16666666666666666, 0.07142857142857142, 0.16666666666666666, 0.058823529411764705, 0.0, 0.0, 0.0, 0.18181818181818182, 0.0, 0.21052631578947367, 0.21428571428571427, 1.0, 0.08333333333333333, 0.058823529411764705, 0.08333333333333333, 0.09090909090909091, 0.0, 0.1111111111111111, 0.0, 0.0, 0.1, 0.0, 0.1111111111111111, 0.1, 0.08333333333333333, 0.1111111111111111, 0.18181818181818182, 0.0, 0.1111111111111111, 0.0, 0.0, 0.15789473684210525, 0.0, 0.16666666666666666, 0.16666666666666666, 0.2, 0.0, 0.26666666666666666, 0.0, 0.0, 0.08333333333333333, 0.18181818181818182, 0.25, 0.1111111111111111, 0.125, 0.05555555555555555, 0.0, 0.1111111111111111, 0.18181818181818182, 0.0, 0.0, 0.07142857142857142, 0.041666666666666664, 0.0, 0.2, 0.125, 0.0, 0.0, 0.0, 0.1, 0.09090909090909091, 0.0, 0.0, 0.1111111111111111, 0.1111111111111111, 0.15384615384615385, 0.1, 0.18181818181818182, 0.17142857142857143, 0.06666666666666667, 0.21052631578947367, 0.041666666666666664, 0.1, 0.0, 0.125, 0.1, 0.1111111111111111, 0.16666666666666666, 0.0, 0.0, 0.1, 0.1111111111111111, 0.0, 0.0, 0.0, 0.0, 0.09090909090909091, 0.0, 0.0, 0.0, 0.0, 0.0, 0.16666666666666666, 0.0, 0.16666666666666666], 'Rental Representative': [0.0, 0.14285714285714285, 0.0, 0.0, 0.0, 0.08, 0.0, 0.09090909090909091, 0.16666666666666666, 0.1111111111111111, 0.0, 0.0, 0.0, 0.0, 0.14285714285714285, 0.0, 0.0, 0.0, 0.0, 0.07692307692307693, 0.14285714285714285, 0.16666666666666666, 0.16666666666666666, 0.09090909090909091, 0.07142857142857142, 0.0, 0.0, 0.08333333333333333, 0.25, 0.25, 0.0, 0.09090909090909091, 0.2, 0.21428571428571427, 0.14285714285714285, 0.047619047619047616, 0.09090909090909091, 0.0, 0.09090909090909091, 0.14285714285714285, 0.0, 0.0, 0.0, 0.16666666666666666, 0.14285714285714285, 0.16666666666666666, 0.16666666666666666, 0.0, 0.0, 0.16666666666666666, 0.0, 0.2222222222222222, 0.0, 0.07142857142857142, 0.0, 0.25, 0.0, 0.0, 0.0, 0.0, 0.0, 0.1111111111111111, 0.0, 0.0, 0.18181818181818182, 0.0, 0.0, 0.0, 0.0, 0.0, 0.0, 0.0, 0.14285714285714285, 0.05, 0.0, 0.09090909090909091, 0.0, 0.0, 0.058823529411764705, 0.0, 0.0, 0.2222222222222222, 0.0, 0.125, 0.08333333333333333, 0.0, 0.1111111111111111, 0.05555555555555555, 0.0, 0.16666666666666666, 0.2, 0.125, 0.125, 0.0, 0.047619047619047616, 0.0, 0.0, 0.0, 0.125, 0.08333333333333333, 0.0, 0.0, 0.14285714285714285, 0.25, 0.0, 0.08333333333333333, 0.125, 0.14285714285714285, 0.0, 0.1111111111111111, 0.0, 0.16666666666666666, 0.14285714285714285, 0.05263157894736842, 0.16666666666666666, 0.16666666666666666, 0.0, 0.1, 0.0, 0.15384615384615385, 0.0, 0.05555555555555555, 0.25, 0.0, 0.0, 0.0, 0.0, 0.1, 0.09090909090909091, 0.1, 0.15384615384615385, 0.16666666666666666, 0.0, 0.0, 0.1111111111111111, 0.0, 0.05263157894736842, 0.5555555555555556, 0.08333333333333333, 1.0, 0.07142857142857142, 0.1111111111111111, 0.125, 0.14285714285714285, 0.0, 0.14285714285714285, 0.0, 0.14285714285714285, 0.0, 0.0, 0.3333333333333333, 0.0, 0.0, 0.0, 0.0, 0.0, 0.0, 0.2, 0.11764705882352941, 0.0, 0.0, 0.1, 0.125, 0.0, 0.14285714285714285, 0.14285714285714285, 0.0, 0.25, 0.1111111111111111, 0.16666666666666666, 0.0, 0.0, 0.06666666666666667, 0.0, 0.0, 0.1111111111111111, 0.0, 0.14285714285714285, 0.0, 0.047619047619047616, 0.0, 0.125, 0.0, 0.3333333333333333, 0.2, 0.2, 0.14285714285714285, 0.0, 0.2, 0.0, 0.16666666666666666, 0.16666666666666666, 0.2, 0.14285714285714285, 0.1111111111111111, 0.05555555555555555, 0.08333333333333333, 0.17647058823529413, 0.047619047619047616, 0.3333333333333333, 0.0, 0.0, 0.14285714285714285, 0.16666666666666666, 0.1, 0.14285714285714285, 0.16666666666666666, 0.3333333333333333, 0.0, 0.0, 0.0, 0.0, 0.14285714285714285, 0.0, 0.2, 0.0, 0.0, 0.0, 0.14285714285714285, 0.1, 0.0, 0.1], 'Data Architect': [0.041666666666666664, 0.08333333333333333, 0.2, 0.1, 0.15384615384615385, 0.14285714285714285, 0.3125, 0.20833333333333334, 0.09090909090909091, 0.25, 0.0, 0.05, 0.18181818181818182, 0.1, 0.08333333333333333, 0.2727272727272727, 0.09090909090909091, 0.09090909090909091, 0.25, 0.1875, 0.08333333333333333, 0.0, 0.0, 0.13333333333333333, 0.16666666666666666, 0.1111111111111111, 0.15, 0.058823529411764705, 0.07142857142857142, 0.07142857142857142, 0.1, 0.0625, 0.1, 0.29411764705882354, 0.3125, 0.17391304347826086, 0.13333333333333333, 0.21428571428571427, 0.13333333333333333, 0.3125, 0.07692307692307693, 0.18181818181818182, 0.08333333333333333, 0.2, 0.18181818181818182, 0.09090909090909091, 0.0, 0.1111111111111111, 0.05555555555555555, 0.2, 0.2, 0.14285714285714285, 0.1111111111111111, 0.20689655172413793, 0.15384615384615385, 0.17647058823529413, 0.21428571428571427, 0.0, 0.3125, 0.18181818181818182, 0.0, 0.07142857142857142, 0.2, 0.05, 0.38461538461538464, 0.1, 0.2727272727272727, 0.09090909090909091, 0.0, 0.0, 0.1, 0.09090909090909091, 0.08333333333333333, 0.23809523809523808, 0.09090909090909091, 0.13333333333333333, 0.0, 0.0625, 0.2777777777777778, 0.0, 0.15384615384615385, 0.14285714285714285, 0.0, 0.07692307692307693, 0.125, 0.041666666666666664, 0.0, 0.2631578947368421, 0.1, 0.0, 0.1, 0.07692307692307693, 0.16666666666666666, 0.1, 0.2857142857142857, 0.1, 0.2, 0.1, 0.07692307692307693, 0.058823529411764705, 0.07692307692307693, 0.08333333333333333, 0.18181818181818182, 0.07142857142857142, 0.0, 0.125, 0.15, 0.0, 0.10526315789473684, 0.25, 0.2, 0.2, 0.3125, 0.041666666666666664, 0.26666666666666666, 0.09090909090909091, 0.0, 0.06666666666666667, 0.1, 0.05263157894736842, 0.1, 0.14285714285714285, 0.07142857142857142, 0.09090909090909091, 0.08333333333333333, 0.1, 0.07692307692307693, 0.06666666666666667, 0.3076923076923077, 0.06666666666666667, 0.17647058823529413, 0.09090909090909091, 0.0, 0.09090909090909091, 0.36363636363636365, 0.09090909090909091, 0.08695652173913043, 0.05555555555555555, 0.058823529411764705, 0.07142857142857142, 1.0, 0.25, 0.16666666666666666, 0.08333333333333333, 0.09090909090909091, 0.08333333333333333, 0.1, 0.08333333333333333, 0.0, 0.2, 0.0, 0.25, 0.2, 0.07142857142857142, 0.0, 0.09090909090909091, 0.0, 0.1, 0.043478260869565216, 0.18181818181818182, 0.06666666666666667, 0.06666666666666667, 0.07692307692307693, 0.2, 0.3125, 0.08333333333333333, 0.0, 0.07142857142857142, 0.25, 0.09090909090909091, 0.2, 0.1, 0.16666666666666666, 0.1, 0.09090909090909091, 0.15384615384615385, 0.08333333333333333, 0.08333333333333333, 0.13333333333333333, 0.2857142857142857, 0.09090909090909091, 0.07692307692307693, 0.1, 0.08333333333333333, 0.0, 0.0, 0.18181818181818182, 0.2727272727272727, 0.1, 0.09090909090909091, 0.0, 0.09090909090909091, 0.13333333333333333, 0.18181818181818182, 0.36363636363636365, 0.10256410256410256, 0.058823529411764705, 0.08695652173913043, 0.2857142857142857, 0.18181818181818182, 0.1, 0.1, 0.0, 0.2, 0.06666666666666667, 0.08333333333333333, 0.0, 0.0, 0.2, 0.1, 0.1, 0.0, 0.08333333333333333, 0.16666666666666666, 0.1, 0.09090909090909091, 0.1, 0.09090909090909091, 0.08333333333333333, 0.06666666666666667, 0.09090909090909091, 0.06666666666666667], 'Organizational Development Consultant': [0.0, 0.3333333333333333, 0.16666666666666666, 0.0, 0.1111111111111111, 0.125, 0.14285714285714285, 0.09090909090909091, 0.16666666666666666, 0.034482758620689655, 0.0, 0.0, 0.14285714285714285, 0.0, 0.0, 0.125, 0.0, 0.4, 0.1111111111111111, 0.07692307692307693, 0.3333333333333333, 0.16666666666666666, 0.0, 0.09090909090909091, 0.1111111111111111, 0.15384615384615385, 0.125, 0.0, 0.0, 0.0, 0.2, 0.2, 0.2, 0.3076923076923077, 0.23076923076923078, 0.15789473684210525, 0.09090909090909091, 0.2, 0.09090909090909091, 0.23076923076923078, 0.0, 0.14285714285714285, 0.0, 0.16666666666666666, 0.3333333333333333, 0.16666666666666666, 0.0, 0.0, 0.07692307692307693, 0.4, 0.0, 0.1, 0.0, 0.1111111111111111, 0.25, 0.25, 0.2, 0.0, 0.14285714285714285, 0.3333333333333333, 0.0, 0.1111111111111111, 0.4, 0.06666666666666667, 0.3, 0.2, 0.2857142857142857, 0.16666666666666666, 0.0, 0.2, 0.2, 0.4, 0.14285714285714285, 0.16666666666666666, 0.16666666666666666, 0.09090909090909091, 0.0, 0.09090909090909091, 0.058823529411764705, 0.0, 0.25, 0.1, 0.0, 0.2857142857142857, 0.08333333333333333, 0.05263157894736842, 0.0, 0.11764705882352941, 0.2, 0.0, 0.2, 0.2857142857142857, 0.2857142857142857, 0.0, 0.2222222222222222, 0.2, 0.4, 0.0, 0.125, 0.0, 0.0, 0.3333333333333333, 0.6, 0.0, 0.0, 0.18181818181818182, 0.2857142857142857, 0.14285714285714285, 0.0, 0.25, 0.16666666666666666, 0.4, 0.23076923076923078, 0.05263157894736842, 0.2727272727272727, 0.16666666666666666, 0.0, 0.2222222222222222, 0.2, 0.0, 0.2, 0.11764705882352941, 0.0, 0.16666666666666666, 0.3333333333333333, 0.0, 0.0, 0.0, 0.5, 0.2222222222222222, 0.25, 0.16666666666666666, 0.0, 0.0, 0.42857142857142855, 0.0, 0.1111111111111111, 0.07692307692307693, 0.08333333333333333, 0.1111111111111111, 0.25, 1.0, 0.5, 0.14285714285714285, 0.16666666666666666, 0.14285714285714285, 0.0, 0.3333333333333333, 0.0, 0.4, 0.14285714285714285, 0.25, 0.4, 0.25, 0.16666666666666666, 0.16666666666666666, 0.0, 0.2, 0.0, 0.14285714285714285, 0.0, 0.2222222222222222, 0.2857142857142857, 0.16666666666666666, 0.23076923076923078, 0.14285714285714285, 0.2, 0.0, 0.25, 0.16666666666666666, 0.4, 0.2, 0.23076923076923078, 0.2, 0.16666666666666666, 0.25, 0.14285714285714285, 0.14285714285714285, 0.5, 0.2222222222222222, 0.0, 0.2857142857142857, 0.2, 0.14285714285714285, 0.0, 0.0, 0.6, 0.2857142857142857, 0.2, 0.0, 0.0, 0.16666666666666666, 0.3333333333333333, 0.6, 0.42857142857142855, 0.05555555555555555, 0.0, 0.05263157894736842, 0.2222222222222222, 0.3333333333333333, 0.2, 0.2, 0.14285714285714285, 0.4, 0.2222222222222222, 0.14285714285714285, 0.0, 0.14285714285714285, 0.4, 0.2, 0.2, 0.2, 0.14285714285714285, 0.125, 0.2, 0.0, 0.2, 0.0, 0.14285714285714285, 0.2222222222222222, 0.0, 0.2222222222222222], 'Drilling Engineer': [0.05555555555555555, 0.4, 0.2, 0.0, 0.125, 0.08333333333333333, 0.07142857142857142, 0.09523809523809523, 0.2, 0.03571428571428571, 0.2, 0.0, 0.16666666666666666, 0.0, 0.0, 0.14285714285714285, 0.0, 0.2, 0.125, 0.08333333333333333, 0.4, 0.2, 0.0, 0.1, 0.07407407407407407, 0.0, 0.13333333333333333, 0.0, 0.0, 0.0, 0.0, 0.375, 0.25, 0.14285714285714285, 0.36363636363636365, 0.10526315789473684, 0.1, 0.2222222222222222, 0.1, 0.36363636363636365, 0.0, 0.16666666666666666, 0.0, 0.2, 0.4, 0.5, 0.0, 0.0, 0.0, 0.5, 0.0, 0.0, 0.0, 0.16, 0.125, 0.07692307692307693, 0.2222222222222222, 0.0, 0.07142857142857142, 0.16666666666666666, 0.0, 0.125, 0.2, 0.0, 0.2, 0.0, 0.14285714285714285, 0.2, 0.0, 0.25, 0.25, 0.5, 0.16666666666666666, 0.17647058823529413, 0.0, 0.1, 0.0, 0.1, 0.0625, 0.2, 0.0, 0.1111111111111111, 0.0, 0.3333333333333333, 0.09090909090909091, 0.05555555555555555, 0.0, 0.058823529411764705, 0.0, 0.0, 0.25, 0.14285714285714285, 0.14285714285714285, 0.0, 0.23529411764705882, 0.25, 0.2, 0.0, 0.14285714285714285, 0.0, 0.0, 0.4, 0.75, 0.0, 0.0, 0.09090909090909091, 0.3076923076923077, 0.4, 0.07142857142857142, 0.2857142857142857, 0.0, 0.5, 0.36363636363636365, 0.05555555555555555, 0.18181818181818182, 0.2, 0.0, 0.42857142857142855, 0.25, 0.0, 0.0, 0.058823529411764705, 0.0, 0.0, 0.4, 0.0, 0.14285714285714285, 0.0, 0.2222222222222222, 0.42857142857142855, 0.2727272727272727, 0.2, 0.0, 0.0, 0.2857142857142857, 0.0, 0.11764705882352941, 0.08333333333333333, 0.09090909090909091, 0.125, 0.16666666666666666, 0.5, 1.0, 0.0, 0.5, 0.0, 0.0, 0.4, 0.0, 0.2, 0.16666666666666666, 0.2857142857142857, 0.2, 0.2857142857142857, 0.2, 0.2, 0.0, 0.25, 0.058823529411764705, 0.0, 0.0, 0.42857142857142855, 0.3333333333333333, 0.0, 0.36363636363636365, 0.0, 0.25, 0.0, 0.2857142857142857, 0.2, 0.2, 0.25, 0.15384615384615385, 0.0, 0.2, 0.2857142857142857, 0.0, 0.0, 0.2222222222222222, 0.23529411764705882, 0.0, 0.3333333333333333, 0.25, 0.0, 0.0, 0.0, 0.75, 0.14285714285714285, 0.25, 0.0, 0.0, 0.2, 0.2222222222222222, 0.75, 0.2857142857142857, 0.027777777777777776, 0.0, 0.05555555555555555, 0.23529411764705882, 0.4, 0.0, 0.25, 0.4, 0.5, 0.42857142857142855, 0.0, 0.0, 0.16666666666666666, 0.2, 0.0, 0.0, 0.25, 0.0, 0.14285714285714285, 0.25, 0.0, 0.0, 0.0, 0.0, 0.42857142857142855, 0.0, 0.42857142857142855], 'Hostess': [0.0, 0.2, 0.0, 0.0, 0.14285714285714285, 0.08695652173913043, 0.07692307692307693, 0.0, 0.0, 0.0, 0.0, 0.0, 0.0, 0.0, 0.0, 0.0, 0.0, 0.25, 0.0, 0.0, 0.2, 0.0, 0.0, 0.0, 0.07692307692307693, 0.08333333333333333, 0.0, 0.0, 0.14285714285714285, 0.14285714285714285, 0.3333333333333333, 0.1111111111111111, 0.0, 0.15384615384615385, 0.0, 0.0, 0.0, 0.1111111111111111, 0.0, 0.0, 0.0, 0.0, 0.2, 0.0, 0.0, 0.0, 0.0, 0.0, 0.0, 0.0, 0.0, 0.2857142857142857, 0.0, 0.0, 0.14285714285714285, 0.18181818181818182, 0.1111111111111111, 0.0, 0.07692307692307693, 0.2, 0.25, 0.0, 0.25, 0.16666666666666666, 0.1, 0.3333333333333333, 0.16666666666666666, 0.0, 0.0, 0.0, 0.0, 0.0, 0.2, 0.05555555555555555, 0.25, 0.0, 0.0, 0.0, 0.0, 0.0, 0.14285714285714285, 0.125, 0.0, 0.0, 0.0, 0.0, 0.0, 0.0625, 0.3333333333333333, 0.0, 0.0, 0.4, 0.75, 0.0, 0.05263157894736842, 0.0, 0.25, 0.0, 0.0, 0.0, 0.0, 0.0, 0.0, 0.14285714285714285, 0.0, 0.2222222222222222, 0.14285714285714285, 0.0, 0.0, 0.0, 0.25, 0.0, 0.0, 0.0, 0.09090909090909091, 0.0, 0.3333333333333333, 0.125, 0.0, 0.08333333333333333, 0.3333333333333333, 0.0, 0.14285714285714285, 0.25, 0.0, 0.0, 0.16666666666666666, 0.0, 0.25, 0.125, 0.08333333333333333, 0.25, 0.0, 0.25, 0.14285714285714285, 0.0, 0.0, 0.09090909090909091, 0.0, 0.14285714285714285, 0.08333333333333333, 0.14285714285714285, 0.0, 1.0, 0.0, 1.0, 0.0, 0.2, 0.0, 0.25, 0.2, 0.14285714285714285, 0.25, 0.0, 0.0, 0.0, 0.0, 0.0, 0.0625, 0.2, 0.0, 0.125, 0.0, 0.25, 0.0, 1.0, 0.0, 0.14285714285714285, 0.0, 0.0, 0.25, 0.0, 0.2727272727272727, 0.3333333333333333, 0.25, 0.14285714285714285, 0.2, 1.0, 0.25, 0.05263157894736842, 0.0, 0.0, 0.0, 0.5, 0.0, 0.0, 0.0, 0.16666666666666666, 0.0, 0.25, 0.0, 0.0, 0.25, 0.0, 0.14285714285714285, 0.02857142857142857, 0.1, 0.0, 0.05263157894736842, 0.0, 0.3333333333333333, 0.0, 0.0, 0.0, 0.125, 1.0, 0.25, 0.2, 0.25, 0.3333333333333333, 0.3333333333333333, 0.0, 1.0, 0.16666666666666666, 0.0, 0.25, 0.3333333333333333, 0.0, 1.0, 0.125, 0.0, 0.125], 'School Nurse': [0.0625, 0.25, 0.3333333333333333, 0.0, 0.16666666666666666, 0.043478260869565216, 0.08333333333333333, 0.05, 0.3333333333333333, 0.0, 0.3333333333333333, 0.0, 0.25, 0.0, 0.0, 0.2, 0.0, 0.0, 0.16666666666666666, 0.0, 0.25, 0.0, 0.0, 0.0, 0.08, 0.0, 0.15384615384615385, 0.0, 0.0, 0.0, 0.0, 0.2857142857142857, 0.0, 0.07692307692307693, 0.18181818181818182, 0.05555555555555555, 0.0, 0.125, 0.0, 0.18181818181818182, 0.0, 0.25, 0.0, 0.0, 0.0, 0.3333333333333333, 0.0, 0.0, 0.0, 0.3333333333333333, 0.0, 0.0, 0.0, 0.08, 0.0, 0.0, 0.125, 0.0, 0.08333333333333333, 0.25, 0.0, 0.0, 0.3333333333333333, 0.0, 0.1111111111111111, 0.0, 0.2, 0.3333333333333333, 0.0, 0.0, 0.5, 0.3333333333333333, 0.0, 0.125, 0.0, 0.0, 0.0, 0.125, 0.07142857142857142, 0.3333333333333333, 0.0, 0.14285714285714285, 0.0, 0.2, 0.0, 0.0, 0.0, 0.0, 0.0, 0.0, 0.0, 0.0, 0.2, 0.0, 0.11764705882352941, 0.5, 0.3333333333333333, 0.0, 0.0, 0.0, 0.0, 0.25, 0.25, 0.0, 0.0, 0.0, 0.15384615384615385, 0.25, 0.08333333333333333, 0.16666666666666666, 0.0, 0.3333333333333333, 0.18181818181818182, 0.0625, 0.1, 0.3333333333333333, 0.0, 0.3333333333333333, 0.5, 0.0, 0.0, 0.0, 0.0, 0.0, 0.25, 0.0, 0.2, 0.0, 0.125, 0.3333333333333333, 0.09090909090909091, 0.0, 0.0, 0.0, 0.16666666666666666, 0.0, 0.13333333333333333, 0.0, 0.1111111111111111, 0.0, 0.09090909090909091, 0.16666666666666666, 0.5, 0.0, 1.0, 0.0, 0.0, 0.25, 0.0, 0.3333333333333333, 0.0, 0.4, 0.3333333333333333, 0.16666666666666666, 0.0, 0.3333333333333333, 0.0, 0.0, 0.06666666666666667, 0.0, 0.0, 0.3333333333333333, 0.2, 0.0, 0.18181818181818182, 0.0, 0.0, 0.0, 0.16666666666666666, 0.3333333333333333, 0.3333333333333333, 0.5, 0.08333333333333333, 0.0, 0.3333333333333333, 0.16666666666666666, 0.0, 0.0, 0.125, 0.11764705882352941, 0.0, 0.2, 0.5, 0.0, 0.0, 0.0, 0.25, 0.2, 0.0, 0.0, 0.0, 0.3333333333333333, 0.125, 0.25, 0.16666666666666666, 0.029411764705882353, 0.0, 0.0, 0.11764705882352941, 0.25, 0.0, 0.5, 0.25, 0.3333333333333333, 0.3333333333333333, 0.0, 0.0, 0.0, 0.3333333333333333, 0.0, 0.0, 0.0, 0.0, 0.2, 0.0, 0.0, 0.0, 0.0, 0.0, 0.3333333333333333, 0.0, 0.3333333333333333], 'Behavior Specialist': [0.0, 0.2, 0.0, 0.0, 0.14285714285714285, 0.08695652173913043, 0.07692307692307693, 0.0, 0.0, 0.0, 0.0, 0.0, 0.0, 0.0, 0.0, 0.0, 0.0, 0.25, 0.0, 0.0, 0.2, 0.0, 0.0, 0.0, 0.07692307692307693, 0.08333333333333333, 0.0, 0.0, 0.14285714285714285, 0.14285714285714285, 0.3333333333333333, 0.1111111111111111, 0.0, 0.15384615384615385, 0.0, 0.0, 0.0, 0.1111111111111111, 0.0, 0.0, 0.0, 0.0, 0.2, 0.0, 0.0, 0.0, 0.0, 0.0, 0.0, 0.0, 0.0, 0.2857142857142857, 0.0, 0.0, 0.14285714285714285, 0.18181818181818182, 0.1111111111111111, 0.0, 0.07692307692307693, 0.2, 0.25, 0.0, 0.25, 0.16666666666666666, 0.1, 0.3333333333333333, 0.16666666666666666, 0.0, 0.0, 0.0, 0.0, 0.0, 0.2, 0.05555555555555555, 0.25, 0.0, 0.0, 0.0, 0.0, 0.0, 0.14285714285714285, 0.125, 0.0, 0.0, 0.0, 0.0, 0.0, 0.0625, 0.3333333333333333, 0.0, 0.0, 0.4, 0.75, 0.0, 0.05263157894736842, 0.0, 0.25, 0.0, 0.0, 0.0, 0.0, 0.0, 0.0, 0.14285714285714285, 0.0, 0.2222222222222222, 0.14285714285714285, 0.0, 0.0, 0.0, 0.25, 0.0, 0.0, 0.0, 0.09090909090909091, 0.0, 0.3333333333333333, 0.125, 0.0, 0.08333333333333333, 0.3333333333333333, 0.0, 0.14285714285714285, 0.25, 0.0, 0.0, 0.16666666666666666, 0.0, 0.25, 0.125, 0.08333333333333333, 0.25, 0.0, 0.25, 0.14285714285714285, 0.0, 0.0, 0.09090909090909091, 0.0, 0.14285714285714285, 0.08333333333333333, 0.14285714285714285, 0.0, 1.0, 0.0, 1.0, 0.0, 0.2, 0.0, 0.25, 0.2, 0.14285714285714285, 0.25, 0.0, 0.0, 0.0, 0.0, 0.0, 0.0625, 0.2, 0.0, 0.125, 0.0, 0.25, 0.0, 1.0, 0.0, 0.14285714285714285, 0.0, 0.0, 0.25, 0.0, 0.2727272727272727, 0.3333333333333333, 0.25, 0.14285714285714285, 0.2, 1.0, 0.25, 0.05263157894736842, 0.0, 0.0, 0.0, 0.5, 0.0, 0.0, 0.0, 0.16666666666666666, 0.0, 0.25, 0.0, 0.0, 0.25, 0.0, 0.14285714285714285, 0.02857142857142857, 0.1, 0.0, 0.05263157894736842, 0.0, 0.3333333333333333, 0.0, 0.0, 0.0, 0.125, 1.0, 0.25, 0.2, 0.25, 0.3333333333333333, 0.3333333333333333, 0.0, 1.0, 0.16666666666666666, 0.0, 0.25, 0.3333333333333333, 0.0, 1.0, 0.125, 0.0, 0.125], 'Construction Engineer': [0.0, 0.0, 0.5, 1.0, 0.0, 0.0, 0.09090909090909091, 0.05263157894736842, 0.0, 0.04, 0.0, 0.0, 0.0, 0.0, 0.0, 0.25, 0.0, 0.0, 0.0, 0.1111111111111111, 0.0, 0.0, 0.0, 0.14285714285714285, 0.0, 0.1, 0.0, 0.0, 0.0, 0.0, 0.0, 0.0, 0.0, 0.0, 0.09090909090909091, 0.0, 0.14285714285714285, 0.14285714285714285, 0.0, 0.09090909090909091, 0.0, 0.0, 0.0, 0.0, 0.0, 0.0, 0.0, 0.1, 0.1111111111111111, 0.0, 0.0, 0.0, 0.1, 0.04, 0.0, 0.0, 0.14285714285714285, 0.0, 0.09090909090909091, 0.0, 0.0, 0.0, 0.0, 0.0, 0.0, 0.0, 0.0, 0.0, 0.0, 0.0, 0.0, 0.0, 0.0, 0.0, 0.0, 0.14285714285714285, 0.0, 0.0, 0.0, 0.0, 0.0, 0.0, 0.0, 0.0, 0.125, 0.0, 0.0, 0.0, 0.0, 0.0, 0.0, 0.0, 0.0, 1.0, 0.058823529411764705, 0.0, 0.0, 0.0, 0.0, 0.0, 0.0, 0.0, 0.0, 0.0, 0.0, 0.0, 0.0, 0.0, 0.0, 0.2, 0.0, 0.0, 0.09090909090909091, 0.0, 0.0, 0.0, 0.0, 0.0, 0.0, 0.0, 0.0, 0.0, 0.0, 0.0, 0.0, 0.0, 0.0, 0.0, 0.0, 0.0, 0.0, 0.0, 0.0, 0.0, 0.2, 0.0, 0.0, 0.0, 0.0, 0.0, 0.1, 0.0, 0.0, 0.0, 0.0, 0.0, 1.0, 0.0, 0.0, 0.0, 0.0, 0.0, 0.0, 0.0, 0.0, 0.0, 0.0, 0.0, 0.0, 0.0, 0.0, 0.0, 0.0, 0.0, 0.09090909090909091, 0.0, 0.0, 0.0, 0.2, 0.0, 0.0, 0.0, 0.09090909090909091, 0.0, 0.0, 0.0, 0.0, 0.0, 0.0, 0.058823529411764705, 0.0, 0.0, 0.0, 0.0, 0.0, 0.0, 0.0, 0.0, 0.0, 0.0, 0.0, 0.0, 0.0, 0.0, 0.2, 0.030303030303030304, 0.0, 0.0, 0.058823529411764705, 0.0, 0.0, 0.0, 0.0, 0.0, 0.0, 0.0, 0.0, 0.0, 0.0, 0.0, 0.0, 0.0, 0.0, 0.0, 0.0, 0.0, 0.0, 0.0, 0.0, 0.0, 0.0, 0.0], 'Corporate Reservations Agent': [0.0, 1.0, 0.25, 0.0, 0.14285714285714285, 0.08695652173913043, 0.07692307692307693, 0.047619047619047616, 0.25, 0.0, 0.0, 0.0, 0.2, 0.0, 0.0, 0.16666666666666666, 0.0, 0.25, 0.14285714285714285, 0.0, 1.0, 0.25, 0.0, 0.0, 0.07692307692307693, 0.0, 0.06666666666666667, 0.0, 0.14285714285714285, 0.14285714285714285, 0.0, 0.25, 0.0, 0.15384615384615385, 0.16666666666666666, 0.05263157894736842, 0.0, 0.25, 0.0, 0.16666666666666666, 0.0, 0.2, 0.0, 0.0, 0.2, 0.0, 0.0, 0.0, 0.0, 0.25, 0.0, 0.125, 0.0, 0.07692307692307693, 0.14285714285714285, 0.08333333333333333, 0.25, 0.0, 0.07692307692307693, 0.2, 0.0, 0.0, 0.25, 0.0, 0.1, 0.0, 0.16666666666666666, 0.25, 0.0, 0.3333333333333333, 0.3333333333333333, 0.6666666666666666, 0.0, 0.11764705882352941, 0.0, 0.0, 0.0, 0.1111111111111111, 0.06666666666666667, 0.0, 0.0, 0.2857142857142857, 0.0, 0.4, 0.1, 0.058823529411764705, 0.0, 0.0, 0.0, 0.0, 0.0, 0.4, 0.4, 0.0, 0.1111111111111111, 0.3333333333333333, 0.25, 0.0, 0.16666666666666666, 0.0, 0.0, 0.5, 0.5, 0.14285714285714285, 0.0, 0.0, 0.14285714285714285, 0.2, 0.0, 0.14285714285714285, 0.0, 0.25, 0.16666666666666666, 0.058823529411764705, 0.09090909090909091, 0.25, 0.0, 0.2857142857142857, 0.3333333333333333, 0.08333333333333333, 0.0, 0.0625, 0.14285714285714285, 0.0, 0.5, 0.0, 0.0, 0.0, 0.1111111111111111, 0.2857142857142857, 0.18181818181818182, 0.0, 0.0, 0.0, 0.14285714285714285, 0.0, 0.058823529411764705, 0.09090909090909091, 0.1, 0.14285714285714285, 0.08333333333333333, 0.3333333333333333, 0.4, 0.2, 0.25, 0.2, 0.0, 1.0, 0.0, 0.25, 0.5, 0.14285714285714285, 0.25, 0.3333333333333333, 0.25, 0.25, 0.0, 0.0, 0.0625, 0.0, 0.0, 0.2857142857142857, 0.4, 0.0, 0.16666666666666666, 0.2, 0.3333333333333333, 0.14285714285714285, 0.14285714285714285, 0.25, 0.25, 0.3333333333333333, 0.2727272727272727, 0.0, 0.25, 0.14285714285714285, 0.0, 0.2, 0.25, 0.1111111111111111, 0.0, 0.4, 0.3333333333333333, 0.2, 0.0, 0.0, 0.5, 0.16666666666666666, 0.0, 0.0, 0.0, 0.25, 0.25, 0.5, 0.14285714285714285, 0.0, 0.1, 0.0, 0.1111111111111111, 0.2, 0.0, 0.3333333333333333, 0.2, 0.25, 0.2857142857142857, 0.2, 0.25, 0.5, 0.25, 0.0, 0.0, 0.3333333333333333, 0.2, 0.16666666666666666, 0.0, 0.0, 0.0, 0.0, 0.2, 0.2857142857142857, 0.0, 0.2857142857142857], 'Chef': [0.06666666666666667, 0.0, 0.0, 0.0, 0.0, 0.0, 0.0, 0.0, 0.0, 0.0, 0.0, 0.0, 0.0, 0.0, 0.0, 0.0, 0.0, 0.0, 0.0, 0.0, 0.0, 0.0, 0.0, 0.0, 0.0, 0.0, 0.0, 0.0, 0.0, 0.0, 0.0, 0.0, 0.0, 0.0, 0.0, 0.0, 0.0, 0.0, 0.0, 0.0, 0.0, 0.0, 0.0, 0.0, 0.0, 0.0, 0.0, 0.0, 0.0, 0.0, 0.0, 0.0, 0.0, 0.04, 0.0, 0.0, 0.0, 0.0, 0.0, 0.0, 0.0, 0.0, 0.0, 0.0, 0.0, 0.0, 0.0, 0.0, 0.0, 0.0, 0.0, 0.0, 0.0, 0.0, 0.0, 0.0, 0.0, 0.0, 0.0, 0.0, 0.0, 0.0, 0.0, 0.0, 0.0, 0.0, 0.0, 0.0, 0.0, 0.0, 0.0, 0.0, 0.0, 0.0, 0.058823529411764705, 0.0, 0.0, 0.0, 0.0, 0.0, 0.0, 0.0, 0.0, 0.0, 0.0, 0.0, 0.0, 0.0, 0.0, 0.0, 0.0, 0.0, 0.0, 0.0, 0.0, 0.0, 0.0, 0.0, 0.0, 0.0, 0.0, 0.0, 0.0, 0.0, 0.0, 0.0, 0.0, 0.0, 0.0, 0.0, 0.0, 0.0, 0.0, 0.0, 0.0, 0.0, 0.0, 0.0, 0.0, 0.0, 0.0, 0.0, 0.0, 0.0, 0.0, 0.0, 0.0, 0.0, 1.0, 0.0, 0.0, 0.0, 0.0, 0.0, 0.0, 0.0, 0.0, 0.0, 0.0, 0.0, 0.0, 0.0, 0.0, 0.0, 0.0, 0.0, 0.0, 0.0, 0.0, 0.0, 0.0, 0.0, 0.09090909090909091, 0.0, 0.0, 0.0, 0.0, 0.0, 0.14285714285714285, 0.058823529411764705, 0.0, 0.0, 0.0, 0.0, 0.0, 0.0, 0.0, 0.0, 0.0, 0.0, 0.0, 0.0, 0.0, 0.0, 0.0, 0.0, 0.0, 0.0, 0.058823529411764705, 0.0, 0.0, 0.0, 0.0, 0.0, 0.0, 0.0, 0.0, 0.0, 0.0, 0.0, 0.0, 0.0, 0.0, 0.0, 0.0, 0.0, 0.0, 0.0, 0.0, 0.0, 0.0, 0.0], 'Athletic Scout': [0.0, 0.25, 0.3333333333333333, 0.0, 0.16666666666666666, 0.09090909090909091, 0.18181818181818182, 0.05, 0.3333333333333333, 0.0, 0.0, 0.0, 0.25, 0.0, 0.0, 0.2, 0.0, 0.3333333333333333, 0.16666666666666666, 0.0, 0.25, 0.0, 0.0, 0.0, 0.08, 0.09090909090909091, 0.07142857142857142, 0.0, 0.0, 0.0, 0.5, 0.125, 0.0, 0.16666666666666666, 0.08333333333333333, 0.05555555555555555, 0.0, 0.125, 0.0, 0.08333333333333333, 0.0, 0.25, 0.0, 0.0, 0.0, 0.0, 0.0, 0.0, 0.0, 0.3333333333333333, 0.0, 0.14285714285714285, 0.0, 0.038461538461538464, 0.16666666666666666, 0.09090909090909091, 0.125, 0.0, 0.18181818181818182, 0.6666666666666666, 0.0, 0.0, 1.0, 0.08333333333333333, 0.25, 0.5, 0.5, 0.3333333333333333, 0.0, 0.0, 0.5, 0.3333333333333333, 0.0, 0.125, 0.3333333333333333, 0.0, 0.0, 0.125, 0.07142857142857142, 0.0, 0.16666666666666666, 0.14285714285714285, 0.0, 0.2, 0.0, 0.0, 0.0, 0.06666666666666667, 0.5, 0.0, 0.0, 0.2, 0.5, 0.0, 0.11764705882352941, 0.5, 1.0, 0.0, 0.0, 0.0, 0.0, 0.25, 0.25, 0.0, 0.0, 0.1111111111111111, 0.15384615384615385, 0.0, 0.0, 0.16666666666666666, 0.3333333333333333, 0.3333333333333333, 0.08333333333333333, 0.0625, 0.2222222222222222, 0.3333333333333333, 0.0, 0.14285714285714285, 0.5, 0.0, 0.5, 0.0, 0.0, 0.3333333333333333, 0.25, 0.0, 0.0, 0.0, 0.2857142857142857, 0.14285714285714285, 0.09090909090909091, 0.0, 0.0, 0.0, 0.4, 0.0, 0.0625, 0.0, 0.1111111111111111, 0.0, 0.2, 0.4, 0.2, 0.25, 0.3333333333333333, 0.25, 0.0, 0.25, 0.0, 1.0, 0.0, 0.4, 1.0, 0.16666666666666666, 0.0, 0.3333333333333333, 0.0, 0.0, 0.0, 0.25, 0.0, 0.14285714285714285, 0.2, 0.3333333333333333, 0.08333333333333333, 0.25, 0.0, 0.0, 0.16666666666666666, 0.3333333333333333, 1.0, 0.5, 0.18181818181818182, 0.5, 0.3333333333333333, 0.16666666666666666, 0.25, 0.25, 0.2857142857142857, 0.11764705882352941, 0.0, 0.2, 0.5, 0.25, 0.0, 0.0, 0.25, 0.5, 0.0, 0.0, 0.0, 0.3333333333333333, 0.2857142857142857, 0.25, 0.4, 0.029411764705882353, 0.0, 0.0, 0.11764705882352941, 0.25, 0.5, 0.5, 0.0, 0.3333333333333333, 0.14285714285714285, 0.25, 0.0, 0.0, 1.0, 0.5, 0.5, 0.0, 0.25, 0.2, 0.0, 0.0, 0.5, 0.0, 0.25, 0.14285714285714285, 0.0, 0.14285714285714285], 'Provisioning Agents': [0.0, 0.5, 0.0, 0.0, 0.0, 0.041666666666666664, 0.0, 0.0, 0.25, 0.0, 0.0, 0.0, 0.0, 0.0, 0.0, 0.0, 0.0, 0.25, 0.0, 0.0, 0.5, 0.6666666666666666, 0.25, 0.0, 0.037037037037037035, 0.0, 0.0, 0.1, 0.3333333333333333, 0.3333333333333333, 0.0, 0.25, 0.0, 0.15384615384615385, 0.16666666666666666, 0.0, 0.0, 0.1111111111111111, 0.0, 0.16666666666666666, 0.0, 0.0, 0.0, 0.0, 0.2, 0.0, 0.25, 0.0, 0.0, 0.0, 0.0, 0.2857142857142857, 0.0, 0.07692307692307693, 0.14285714285714285, 0.18181818181818182, 0.1111111111111111, 0.0, 0.0, 0.0, 0.0, 0.0, 0.0, 0.0, 0.1, 0.0, 0.0, 0.0, 0.0, 0.3333333333333333, 0.0, 0.25, 0.0, 0.11764705882352941, 0.0, 0.0, 0.0, 0.0, 0.0, 0.0, 0.0, 0.2857142857142857, 0.0, 0.4, 0.2222222222222222, 0.058823529411764705, 0.14285714285714285, 0.0, 0.0, 0.25, 0.0, 0.4, 0.16666666666666666, 0.0, 0.05263157894736842, 0.0, 0.0, 0.0, 0.4, 0.1, 0.0, 0.2, 0.2, 0.3333333333333333, 0.0, 0.0, 0.14285714285714285, 0.5, 0.0, 0.0, 0.0, 0.0, 0.16666666666666666, 0.0, 0.0, 0.25, 0.0, 0.2857142857142857, 0.0, 0.18181818181818182, 0.0, 0.0625, 0.3333333333333333, 0.0, 0.2, 0.0, 0.0, 0.0, 0.0, 0.2857142857142857, 0.08333333333333333, 0.0, 0.0, 0.0, 0.0, 0.0, 0.058823529411764705, 0.2, 0.1, 0.3333333333333333, 0.0, 0.14285714285714285, 0.16666666666666666, 0.2, 0.0, 0.2, 0.0, 0.5, 0.0, 0.0, 1.0, 0.0, 0.0, 0.14285714285714285, 0.25, 0.0, 0.0, 0.0, 0.0625, 0.0, 0.0, 0.2857142857142857, 0.4, 0.0, 0.16666666666666666, 0.2, 0.3333333333333333, 0.3333333333333333, 0.0, 0.25, 0.0, 0.0, 0.16666666666666666, 0.0, 0.0, 0.0, 0.0, 0.2, 0.1111111111111111, 0.05263157894736842, 0.0, 0.4, 0.0, 0.2, 0.0, 0.0, 0.2, 0.0, 0.0, 0.0, 0.25, 0.0, 0.25, 0.2, 0.0, 0.02857142857142857, 0.1, 0.058823529411764705, 0.05263157894736842, 0.0, 0.0, 0.0, 0.5, 0.0, 0.2857142857142857, 0.2, 0.25, 1.0, 0.0, 0.0, 0.0, 0.3333333333333333, 0.2, 0.0, 0.0, 0.0, 0.0, 0.0, 0.2, 0.2857142857142857, 0.0, 0.2857142857142857], 'Environmental Compliance Engineer': [0.1111111111111111, 0.14285714285714285, 0.16666666666666666, 0.0, 0.1111111111111111, 0.08, 0.23076923076923078, 0.043478260869565216, 0.16666666666666666, 0.034482758620689655, 0.16666666666666666, 0.0, 0.14285714285714285, 0.0, 0.0, 0.2857142857142857, 0.0, 0.16666666666666666, 0.1111111111111111, 0.07692307692307693, 0.14285714285714285, 0.0, 0.0, 0.0, 0.1111111111111111, 0.07142857142857142, 0.2, 0.0, 0.0, 0.0, 0.2, 0.2, 0.0, 0.13333333333333333, 0.14285714285714285, 0.1, 0.0, 0.2, 0.0, 0.14285714285714285, 0.0, 0.3333333333333333, 0.0, 0.0, 0.14285714285714285, 0.16666666666666666, 0.0, 0.07142857142857142, 0.0, 0.16666666666666666, 0.0, 0.1, 0.07142857142857142, 0.1111111111111111, 0.25, 0.07142857142857142, 0.2, 0.0, 0.23076923076923078, 0.3333333333333333, 0.0, 0.0, 0.4, 0.06666666666666667, 0.3, 0.2, 0.2857142857142857, 0.16666666666666666, 0.0, 0.0, 0.2, 0.16666666666666666, 0.0, 0.23529411764705882, 0.16666666666666666, 0.0, 0.0, 0.09090909090909091, 0.125, 0.16666666666666666, 0.1111111111111111, 0.1, 0.0, 0.125, 0.0, 0.05263157894736842, 0.0, 0.11764705882352941, 0.2, 0.0, 0.0, 0.125, 0.2857142857142857, 0.0, 0.2222222222222222, 0.2, 0.4, 0.0, 0.0, 0.0, 0.0, 0.14285714285714285, 0.14285714285714285, 0.0, 0.0, 0.08333333333333333, 0.2, 0.14285714285714285, 0.14285714285714285, 0.1111111111111111, 0.16666666666666666, 0.16666666666666666, 0.14285714285714285, 0.05263157894736842, 0.16666666666666666, 0.16666666666666666, 0.0, 0.2222222222222222, 0.2, 0.0, 0.2, 0.0, 0.0, 0.16666666666666666, 0.14285714285714285, 0.2, 0.2857142857142857, 0.0, 0.2, 0.2222222222222222, 0.07142857142857142, 0.0, 0.0, 0.16666666666666666, 0.25, 0.0, 0.1111111111111111, 0.0, 0.08333333333333333, 0.0, 0.25, 0.25, 0.2857142857142857, 0.14285714285714285, 0.4, 0.14285714285714285, 0.0, 0.14285714285714285, 0.0, 0.4, 0.0, 1.0, 0.4, 0.1111111111111111, 0.0, 0.16666666666666666, 0.0, 0.0, 0.05555555555555555, 0.3333333333333333, 0.0, 0.2222222222222222, 0.125, 0.4, 0.14285714285714285, 0.14285714285714285, 0.0, 0.0, 0.1111111111111111, 0.16666666666666666, 0.4, 0.2, 0.14285714285714285, 0.2, 0.16666666666666666, 0.1111111111111111, 0.14285714285714285, 0.14285714285714285, 0.2, 0.2222222222222222, 0.0, 0.125, 0.2, 0.14285714285714285, 0.0, 0.0, 0.14285714285714285, 0.2857142857142857, 0.0, 0.16666666666666666, 0.0, 0.16666666666666666, 0.2, 0.14285714285714285, 0.25, 0.05555555555555555, 0.0, 0.0, 0.2222222222222222, 0.14285714285714285, 0.2, 0.2, 0.14285714285714285, 0.16666666666666666, 0.2222222222222222, 0.14285714285714285, 0.0, 0.0, 0.4, 0.2, 0.2, 0.0, 0.14285714285714285, 0.2857142857142857, 0.0, 0.16666666666666666, 0.2, 0.0, 0.14285714285714285, 0.2222222222222222, 0.0, 0.2222222222222222], 'Senior Mechanical Engineer': [0.0, 0.25, 0.3333333333333333, 0.0, 0.16666666666666666, 0.09090909090909091, 0.18181818181818182, 0.05, 0.3333333333333333, 0.0, 0.0, 0.0, 0.25, 0.0, 0.0, 0.2, 0.0, 0.3333333333333333, 0.16666666666666666, 0.0, 0.25, 0.0, 0.0, 0.0, 0.08, 0.09090909090909091, 0.07142857142857142, 0.0, 0.0, 0.0, 0.5, 0.125, 0.0, 0.16666666666666666, 0.08333333333333333, 0.05555555555555555, 0.0, 0.125, 0.0, 0.08333333333333333, 0.0, 0.25, 0.0, 0.0, 0.0, 0.0, 0.0, 0.0, 0.0, 0.3333333333333333, 0.0, 0.14285714285714285, 0.0, 0.038461538461538464, 0.16666666666666666, 0.09090909090909091, 0.125, 0.0, 0.18181818181818182, 0.6666666666666666, 0.0, 0.0, 1.0, 0.08333333333333333, 0.25, 0.5, 0.5, 0.3333333333333333, 0.0, 0.0, 0.5, 0.3333333333333333, 0.0, 0.125, 0.3333333333333333, 0.0, 0.0, 0.125, 0.07142857142857142, 0.0, 0.16666666666666666, 0.14285714285714285, 0.0, 0.2, 0.0, 0.0, 0.0, 0.06666666666666667, 0.5, 0.0, 0.0, 0.2, 0.5, 0.0, 0.11764705882352941, 0.5, 1.0, 0.0, 0.0, 0.0, 0.0, 0.25, 0.25, 0.0, 0.0, 0.1111111111111111, 0.15384615384615385, 0.0, 0.0, 0.16666666666666666, 0.3333333333333333, 0.3333333333333333, 0.08333333333333333, 0.0625, 0.2222222222222222, 0.3333333333333333, 0.0, 0.14285714285714285, 0.5, 0.0, 0.5, 0.0, 0.0, 0.3333333333333333, 0.25, 0.0, 0.0, 0.0, 0.2857142857142857, 0.14285714285714285, 0.09090909090909091, 0.0, 0.0, 0.0, 0.4, 0.0, 0.0625, 0.0, 0.1111111111111111, 0.0, 0.2, 0.4, 0.2, 0.25, 0.3333333333333333, 0.25, 0.0, 0.25, 0.0, 1.0, 0.0, 0.4, 1.0, 0.16666666666666666, 0.0, 0.3333333333333333, 0.0, 0.0, 0.0, 0.25, 0.0, 0.14285714285714285, 0.2, 0.3333333333333333, 0.08333333333333333, 0.25, 0.0, 0.0, 0.16666666666666666, 0.3333333333333333, 1.0, 0.5, 0.18181818181818182, 0.5, 0.3333333333333333, 0.16666666666666666, 0.25, 0.25, 0.2857142857142857, 0.11764705882352941, 0.0, 0.2, 0.5, 0.25, 0.0, 0.0, 0.25, 0.5, 0.0, 0.0, 0.0, 0.3333333333333333, 0.2857142857142857, 0.25, 0.4, 0.029411764705882353, 0.0, 0.0, 0.11764705882352941, 0.25, 0.5, 0.5, 0.0, 0.3333333333333333, 0.14285714285714285, 0.25, 0.0, 0.0, 1.0, 0.5, 0.5, 0.0, 0.25, 0.2, 0.0, 0.0, 0.5, 0.0, 0.25, 0.14285714285714285, 0.0, 0.14285714285714285], 'Customer Support Associate': [0.0, 0.3333333333333333, 0.16666666666666666, 0.0, 0.1111111111111111, 0.08, 0.06666666666666667, 0.043478260869565216, 0.16666666666666666, 0.0, 0.0, 0.0, 0.14285714285714285, 0.0, 0.0, 0.125, 0.0, 0.16666666666666666, 0.1111111111111111, 0.0, 0.3333333333333333, 0.16666666666666666, 0.0, 0.0, 0.1111111111111111, 0.25, 0.2, 0.0, 0.1111111111111111, 0.1111111111111111, 0.0, 0.3333333333333333, 0.0, 0.21428571428571427, 0.23076923076923078, 0.2222222222222222, 0.0, 0.2, 0.2, 0.23076923076923078, 0.0, 0.14285714285714285, 0.0, 0.0, 0.14285714285714285, 0.0, 0.0, 0.0, 0.2727272727272727, 0.16666666666666666, 0.0, 0.1, 0.0, 0.1111111111111111, 0.1111111111111111, 0.15384615384615385, 0.2, 0.0, 0.06666666666666667, 0.14285714285714285, 0.0, 0.0, 0.16666666666666666, 0.0, 0.08333333333333333, 0.0, 0.125, 0.16666666666666666, 0.0, 0.2, 0.2, 0.4, 0.0, 0.10526315789473684, 0.0, 0.0, 0.0, 0.09090909090909091, 0.058823529411764705, 0.0, 0.0, 0.2222222222222222, 0.0, 0.2857142857142857, 0.08333333333333333, 0.05263157894736842, 0.0, 0.0, 0.0, 0.0, 0.0, 0.125, 0.125, 0.0, 0.1, 0.2, 0.16666666666666666, 0.0, 0.125, 0.0, 0.0, 0.3333333333333333, 0.3333333333333333, 0.1111111111111111, 0.0, 0.0, 0.2, 0.14285714285714285, 0.0, 0.1111111111111111, 0.0, 0.16666666666666666, 0.23076923076923078, 0.05263157894736842, 0.07692307692307693, 0.16666666666666666, 0.0, 0.375, 0.2, 0.0, 0.0, 0.1875, 0.1111111111111111, 0.0, 0.3333333333333333, 0.0, 0.0, 0.2222222222222222, 0.2, 0.375, 0.15384615384615385, 0.0, 0.0, 0.0, 0.1111111111111111, 0.0, 0.1111111111111111, 0.0, 0.18181818181818182, 0.0, 0.07142857142857142, 0.25, 0.2857142857142857, 0.0, 0.16666666666666666, 0.0, 0.0, 0.3333333333333333, 0.0, 0.16666666666666666, 0.14285714285714285, 0.1111111111111111, 0.16666666666666666, 1.0, 0.16666666666666666, 0.16666666666666666, 0.0, 0.0, 0.0, 0.0, 0.0, 0.375, 0.2857142857142857, 0.0, 0.23076923076923078, 0.0, 0.2, 0.1111111111111111, 0.1111111111111111, 0.16666666666666666, 0.16666666666666666, 0.2, 0.14285714285714285, 0.0, 0.16666666666666666, 0.1111111111111111, 0.0, 0.0, 0.2, 0.1, 0.0, 0.2857142857142857, 0.2, 0.0, 0.0, 0.0, 0.3333333333333333, 0.125, 0.0, 0.0, 0.0, 0.16666666666666666, 0.2, 0.3333333333333333, 0.1111111111111111, 0.05555555555555555, 0.0, 0.1111111111111111, 0.1, 0.14285714285714285, 0.0, 0.2, 0.14285714285714285, 0.16666666666666666, 0.375, 0.0, 0.0, 0.14285714285714285, 0.16666666666666666, 0.0, 0.0, 0.2, 0.0, 0.125, 0.0, 0.0, 0.0, 0.0, 0.0, 0.375, 0.0, 0.375], 'Associate Producer Events': [0.0, 0.25, 0.0, 0.0, 0.0, 0.043478260869565216, 0.08333333333333333, 0.0, 0.0, 0.038461538461538464, 0.0, 0.0, 0.0, 0.0, 0.0, 0.0, 0.0, 0.3333333333333333, 0.0, 0.1, 0.25, 0.3333333333333333, 0.0, 0.125, 0.0, 0.0, 0.0, 0.0, 0.0, 0.0, 0.0, 0.125, 0.0, 0.0, 0.08333333333333333, 0.0, 0.125, 0.125, 0.0, 0.08333333333333333, 0.0, 0.25, 0.0, 0.0, 0.25, 0.0, 0.0, 0.09090909090909091, 0.0, 0.0, 0.0, 0.0, 0.09090909090909091, 0.038461538461538464, 0.16666666666666666, 0.0, 0.125, 0.0, 0.08333333333333333, 0.0, 0.0, 0.0, 0.0, 0.0, 0.0, 0.0, 0.0, 0.0, 0.0, 0.5, 0.0, 0.3333333333333333, 0.0, 0.125, 0.0, 0.125, 0.0, 0.0, 0.0, 0.0, 0.0, 0.0, 0.0, 0.2, 0.1111111111111111, 0.0625, 0.0, 0.0, 0.0, 0.0, 0.0, 0.2, 0.0, 0.0, 0.05555555555555555, 0.0, 0.0, 0.0, 0.2, 0.0, 0.0, 0.25, 0.25, 0.0, 0.0, 0.0, 0.07142857142857142, 0.25, 0.0, 0.0, 0.0, 0.0, 0.08333333333333333, 0.0, 0.0, 0.0, 0.0, 0.14285714285714285, 0.0, 0.0, 0.0, 0.06666666666666667, 0.0, 0.0, 0.25, 0.0, 0.2, 0.0, 0.0, 0.14285714285714285, 0.09090909090909091, 0.0, 0.0, 0.0, 0.0, 0.0, 0.0, 0.0, 0.0, 0.0, 0.0, 0.16666666666666666, 0.2, 0.0, 0.0, 0.0, 0.0, 0.25, 0.0, 0.0, 0.25, 0.0, 0.0, 0.16666666666666666, 1.0, 0.0, 0.0, 0.0, 0.0, 0.0, 0.0, 0.14285714285714285, 0.2, 0.0, 0.08333333333333333, 0.0, 0.5, 0.0, 0.0, 0.0, 0.0, 0.0, 0.08333333333333333, 0.0, 0.0, 0.0, 0.0, 0.0, 0.125, 0.05555555555555555, 0.0, 0.2, 0.0, 0.0, 0.0, 0.0, 0.25, 0.0, 0.0, 0.0, 0.0, 0.0, 0.125, 0.25, 0.0, 0.0, 0.0, 0.0, 0.05555555555555555, 0.0, 0.0, 0.0, 0.25, 0.0, 0.14285714285714285, 0.0, 0.3333333333333333, 0.25, 0.0, 0.0, 0.0, 0.5, 0.0, 0.0, 0.0, 0.0, 0.0, 0.0, 0.0, 0.14285714285714285, 0.0, 0.14285714285714285], 'Airline Pilot': [0.0, 0.25, 0.3333333333333333, 0.0, 0.16666666666666666, 0.043478260869565216, 0.08333333333333333, 0.05, 0.3333333333333333, 0.0, 0.0, 0.0, 0.25, 0.0, 0.0, 0.2, 0.0, 0.0, 0.16666666666666666, 0.0, 0.25, 0.0, 0.0, 0.0, 0.08, 0.0, 0.07142857142857142, 0.0, 0.0, 0.0, 0.0, 0.125, 0.0, 0.07692307692307693, 0.08333333333333333, 0.05555555555555555, 0.0, 0.125, 0.0, 0.08333333333333333, 0.0, 0.25, 0.0, 0.0, 0.0, 0.0, 0.0, 0.0, 0.0, 0.3333333333333333, 0.0, 0.0, 0.0, 0.038461538461538464, 0.0, 0.0, 0.125, 0.0, 0.08333333333333333, 0.25, 0.0, 0.0, 0.3333333333333333, 0.0, 0.1111111111111111, 0.0, 0.2, 0.3333333333333333, 0.0, 0.0, 0.5, 0.3333333333333333, 0.0, 0.058823529411764705, 0.3333333333333333, 0.0, 0.0, 0.125, 0.07142857142857142, 0.0, 0.0, 0.14285714285714285, 0.0, 0.2, 0.0, 0.0, 0.0, 0.0, 0.0, 0.0, 0.0, 0.0, 0.2, 0.0, 0.05555555555555555, 0.5, 0.3333333333333333, 0.0, 0.0, 0.0, 0.0, 0.25, 0.25, 0.0, 0.0, 0.0, 0.07142857142857142, 0.0, 0.0, 0.16666666666666666, 0.0, 0.3333333333333333, 0.08333333333333333, 0.0625, 0.1, 0.3333333333333333, 0.0, 0.14285714285714285, 0.5, 0.0, 0.0, 0.0, 0.0, 0.0, 0.25, 0.0, 0.0, 0.0, 0.125, 0.14285714285714285, 0.09090909090909091, 0.0, 0.0, 0.0, 0.16666666666666666, 0.0, 0.0625, 0.0, 0.1111111111111111, 0.0, 0.09090909090909091, 0.16666666666666666, 0.2, 0.0, 0.3333333333333333, 0.0, 0.0, 0.25, 0.0, 0.3333333333333333, 0.0, 0.16666666666666666, 0.3333333333333333, 0.16666666666666666, 0.0, 1.0, 0.0, 0.0, 0.0, 0.0, 0.0, 0.14285714285714285, 0.2, 0.0, 0.08333333333333333, 0.0, 0.0, 0.0, 0.16666666666666666, 0.3333333333333333, 0.3333333333333333, 0.5, 0.08333333333333333, 0.0, 0.3333333333333333, 0.16666666666666666, 0.0, 0.0, 0.125, 0.05555555555555555, 0.0, 0.2, 0.5, 0.0, 0.0, 0.0, 0.25, 0.2, 0.0, 0.0, 0.0, 0.3333333333333333, 0.125, 0.25, 0.16666666666666666, 0.0, 0.0, 0.0, 0.05555555555555555, 0.25, 0.0, 0.5, 0.0, 0.3333333333333333, 0.14285714285714285, 0.0, 0.0, 0.0, 0.3333333333333333, 0.0, 0.0, 0.0, 0.0, 0.2, 0.0, 0.0, 0.0, 0.0, 0.0, 0.14285714285714285, 0.0, 0.14285714285714285], 'Sales Manager': [0.0, 0.0, 0.0, 0.0, 0.0, 0.0, 0.0, 0.0, 0.0, 0.0, 0.0, 0.0, 0.0, 0.0, 0.0, 0.0, 0.0, 0.0, 0.0, 0.0, 0.0, 0.0, 0.0, 0.0, 0.0, 0.0, 0.0, 0.0, 0.0, 0.0, 0.0, 0.0, 0.0, 0.0, 0.0, 0.0, 0.0, 0.0, 0.0, 0.0, 0.0, 0.0, 0.0, 0.0, 0.0, 0.0, 0.0, 0.0, 0.0, 0.0, 0.0, 0.0, 0.0, 0.0, 0.0, 0.0, 0.0, 0.0, 0.0, 0.0, 0.0, 0.0, 0.0, 0.0, 0.0, 0.0, 0.0, 0.0, 0.0, 0.0, 0.0, 0.0, 0.0, 0.0, 0.0, 0.0, 0.0, 0.0, 0.0, 0.0, 0.0, 0.0, 0.0, 0.0, 0.0, 0.0, 0.0, 0.0, 0.0, 0.0, 0.0, 0.0, 0.0, 0.0, 0.0, 0.0, 0.0, 0.0, 0.0, 0.0, 0.0, 0.0, 0.0, 0.0, 0.0, 0.0, 0.0, 0.0, 0.0, 0.0, 0.0, 0.0, 0.0, 0.0, 0.0, 0.0, 0.0, 0.0, 0.0, 0.0, 0.0, 0.0, 0.0, 0.0, 0.0, 0.0, 0.0, 0.0, 0.0, 0.0, 0.0, 0.0, 0.0, 0.0, 0.0, 0.0, 0.0, 0.0, 0.0, 0.0, 0.0, 0.0, 0.0, 0.0, 0.0, 0.0, 0.0, 0.0, 0.0, 0.0, 0.0, 0.0, 0.0, 0.0, 0.0, 0.0, 1.0, 0.0, 0.0, 0.0, 0.0, 0.0, 0.0, 0.0, 0.0, 0.0, 0.0, 0.0, 0.0, 0.0, 0.0, 0.0, 0.0, 0.0, 0.0, 0.0, 0.0, 0.0, 0.0, 0.0, 0.0, 0.0, 0.0, 0.0, 0.0, 0.0, 0.0, 0.0, 0.0, 0.0, 0.0, 0.0, 0.0, 0.0, 0.0, 0.0, 0.0, 0.0, 0.0, 0.0, 0.0, 0.0, 0.0, 0.0, 0.0, 0.0, 0.0, 0.0, 0.0, 0.0, 0.0, 0.0, 0.0, 0.0, 0.0, 0.0, 0.0, 0.0, 0.0, 0.0, 0.0, 0.0], 'Computer Science Teacher': [0.0, 0.0, 0.0, 0.0, 0.0, 0.045454545454545456, 0.0, 0.05263157894736842, 0.0, 0.04, 0.0, 0.0, 0.0, 0.0, 0.0, 0.0, 0.0, 0.0, 0.0, 0.1111111111111111, 0.0, 0.0, 0.0, 0.14285714285714285, 0.0, 0.0, 0.0, 0.0, 0.0, 0.0, 0.0, 0.0, 1.0, 0.08333333333333333, 0.09090909090909091, 0.058823529411764705, 0.14285714285714285, 0.0, 0.14285714285714285, 0.09090909090909091, 0.0, 0.0, 0.0, 0.5, 0.3333333333333333, 0.5, 0.0, 0.0, 0.0, 0.5, 0.0, 0.0, 0.0, 0.04, 0.0, 0.1, 0.0, 0.0, 0.0, 0.0, 0.0, 0.2, 0.0, 0.0, 0.125, 0.0, 0.0, 0.0, 0.0, 0.0, 0.0, 0.0, 0.3333333333333333, 0.0, 0.0, 0.14285714285714285, 0.0, 0.0, 0.0, 0.0, 0.0, 0.0, 0.0, 0.0, 0.0, 0.0, 0.0, 0.07142857142857142, 0.0, 0.0, 1.0, 0.0, 0.0, 0.0, 0.058823529411764705, 0.0, 0.0, 0.0, 0.0, 0.0, 0.0, 0.0, 0.3333333333333333, 0.0, 0.0, 0.125, 0.07692307692307693, 0.0, 0.0, 0.2, 0.0, 0.5, 0.09090909090909091, 0.0, 0.1111111111111111, 0.0, 0.0, 0.0, 0.0, 0.0, 0.0, 0.0, 0.0, 0.0, 0.0, 0.0, 0.0, 0.0, 0.14285714285714285, 0.0, 0.1, 0.5, 0.0, 0.0, 0.2, 0.0, 0.0, 0.1111111111111111, 0.0, 0.2, 0.1, 0.2, 0.25, 0.0, 0.0, 0.0, 0.0, 0.0, 0.0, 0.0, 0.0, 0.0, 0.0, 0.0, 0.0, 0.0, 0.0, 1.0, 0.0, 0.0, 0.0, 0.0, 0.0, 0.0, 0.09090909090909091, 0.0, 0.0, 0.0, 0.2, 0.0, 0.0, 0.0, 0.0, 0.0, 0.0, 0.2, 0.0, 0.0, 0.0, 0.058823529411764705, 0.0, 0.0, 0.0, 0.0, 0.0, 0.0, 0.3333333333333333, 0.0, 1.0, 0.0, 0.0, 0.0, 0.0, 0.3333333333333333, 0.2, 0.0, 0.0, 0.06666666666666667, 0.058823529411764705, 0.3333333333333333, 0.0, 0.0, 0.0, 0.5, 0.0, 0.0, 0.0, 0.0, 0.0, 0.0, 0.0, 0.0, 0.0, 0.0, 1.0, 0.0, 0.0, 0.0, 0.0, 0.0, 0.0, 0.0], 'Territory Service Representative': [0.20833333333333334, 0.0625, 0.0, 0.0, 0.11764705882352941, 0.2, 0.08695652173913043, 0.2222222222222222, 0.0, 0.18181818181818182, 0.06666666666666667, 0.19047619047619047, 0.13333333333333333, 0.07142857142857142, 0.13333333333333333, 0.0, 0.06666666666666667, 0.0, 0.11764705882352941, 0.0, 0.0625, 0.0, 0.06666666666666667, 0.0, 0.25806451612903225, 0.14285714285714285, 0.22727272727272727, 0.15789473684210525, 0.1875, 0.1875, 0.0, 0.05, 0.0, 0.13043478260869565, 0.13636363636363635, 0.10714285714285714, 0.0, 0.10526315789473684, 0.10526315789473684, 0.13636363636363635, 0.058823529411764705, 0.0, 0.0, 0.0, 0.0, 0.06666666666666667, 0.06666666666666667, 0.043478260869565216, 0.15, 0.0, 0.1, 0.17647058823529413, 0.043478260869565216, 0.21875, 0.0, 0.14285714285714285, 0.10526315789473684, 0.07142857142857142, 0.08695652173913043, 0.0625, 0.06666666666666667, 0.05555555555555555, 0.0, 0.041666666666666664, 0.047619047619047616, 0.0, 0.058823529411764705, 0.06666666666666667, 0.07142857142857142, 0.0, 0.0, 0.0, 0.0625, 0.07142857142857142, 0.0, 0.0, 0.05555555555555555, 0.0, 0.125, 0.06666666666666667, 0.11764705882352941, 0.17647058823529413, 0.1, 0.058823529411764705, 0.15789473684210525, 0.0, 0.05555555555555555, 0.16666666666666666, 0.0, 0.06666666666666667, 0.0, 0.058823529411764705, 0.058823529411764705, 0.0, 0.10714285714285714, 0.0, 0.0, 0.07142857142857142, 0.125, 0.15789473684210525, 0.2, 0.0, 0.0, 0.1875, 0.0, 0.0, 0.038461538461538464, 0.0625, 0.19047619047619047, 0.11764705882352941, 0.06666666666666667, 0.0, 0.13636363636363635, 0.20833333333333334, 0.15, 0.0, 0.0, 0.05263157894736842, 0.0, 0.2631578947368421, 0.0, 0.21739130434782608, 0.1875, 0.0, 0.0, 0.0, 0.058823529411764705, 0.17647058823529413, 0.0, 0.05263157894736842, 0.09090909090909091, 0.0, 0.07142857142857142, 0.0, 0.0, 0.06666666666666667, 0.16, 0.21052631578947367, 0.15789473684210525, 0.11764705882352941, 0.043478260869565216, 0.0, 0.058823529411764705, 0.0625, 0.06666666666666667, 0.0625, 0.0, 0.0625, 0.0, 0.0, 0.0625, 0.05555555555555555, 0.0, 0.0, 0.0, 0.0, 0.0, 0.0, 1.0, 0.0, 0.1111111111111111, 0.05263157894736842, 0.058823529411764705, 0.0, 0.13636363636363635, 0.0625, 0.0, 0.1875, 0.11764705882352941, 0.0, 0.0, 0.0, 0.08695652173913043, 0.0, 0.0, 0.05555555555555555, 0.0, 0.0625, 0.05, 0.10714285714285714, 0.14285714285714285, 0.058823529411764705, 0.0, 0.0625, 0.0, 0.0, 0.0, 0.058823529411764705, 0.0, 0.0, 0.06666666666666667, 0.0, 0.05, 0.0, 0.0, 0.175, 0.15789473684210525, 0.16, 0.10714285714285714, 0.0, 0.0, 0.0, 0.0625, 0.0, 0.05263157894736842, 0.0625, 0.06666666666666667, 0.0625, 0.0, 0.0, 0.0, 0.0, 0.0625, 0.0, 0.0, 0.0, 0.0, 0.06666666666666667, 0.0625, 0.05263157894736842, 0.14285714285714285, 0.05263157894736842], 'Corporate Recruiter': [0.058823529411764705, 0.0, 0.0, 0.0, 0.0, 0.041666666666666664, 0.16666666666666666, 0.0, 0.0, 0.037037037037037035, 0.0, 0.0, 0.0, 0.0, 0.0, 0.16666666666666666, 0.0, 0.25, 0.0, 0.09090909090909091, 0.0, 0.0, 0.0, 0.0, 0.037037037037037035, 0.08333333333333333, 0.06666666666666667, 0.0, 0.0, 0.0, 0.3333333333333333, 0.0, 0.0, 0.07142857142857142, 0.0, 0.05263157894736842, 0.0, 0.0, 0.0, 0.0, 0.0, 0.2, 0.0, 0.0, 0.2, 0.0, 0.0, 0.08333333333333333, 0.0, 0.0, 0.0, 0.125, 0.08333333333333333, 0.037037037037037035, 0.3333333333333333, 0.08333333333333333, 0.0, 0.0, 0.16666666666666666, 0.2, 0.0, 0.0, 0.25, 0.07692307692307693, 0.2222222222222222, 0.3333333333333333, 0.16666666666666666, 0.0, 0.0, 0.0, 0.0, 0.0, 0.0, 0.11764705882352941, 0.25, 0.0, 0.0, 0.0, 0.06666666666666667, 0.0, 0.14285714285714285, 0.0, 0.0, 0.0, 0.0, 0.058823529411764705, 0.0, 0.13333333333333333, 0.3333333333333333, 0.0, 0.0, 0.16666666666666666, 0.16666666666666666, 0.0, 0.1111111111111111, 0.0, 0.25, 0.0, 0.0, 0.0, 0.0, 0.0, 0.0, 0.0, 0.0, 0.1, 0.06666666666666667, 0.0, 0.07692307692307693, 0.0, 0.25, 0.0, 0.0, 0.0, 0.09090909090909091, 0.0, 0.0, 0.0, 0.0, 0.0, 0.3333333333333333, 0.0, 0.0, 0.25, 0.0, 0.3333333333333333, 0.16666666666666666, 0.0, 0.1111111111111111, 0.0, 0.0, 0.0, 0.0, 0.25, 0.14285714285714285, 0.0, 0.0, 0.0, 0.0, 0.0, 0.18181818181818182, 0.14285714285714285, 0.0, 0.2, 0.0, 0.2, 0.0, 0.0, 0.0, 0.25, 0.0, 0.3333333333333333, 0.25, 0.0, 0.0, 0.0, 0.0, 0.0, 0.0, 1.0, 0.0, 0.0, 0.0, 0.6666666666666666, 0.0, 0.2, 0.0, 0.0, 0.0, 0.0, 0.25, 0.0, 0.07692307692307693, 0.3333333333333333, 0.0, 0.0, 0.2, 0.2, 0.1111111111111111, 0.1111111111111111, 0.0, 0.0, 0.0, 0.2, 0.0, 0.0, 0.0, 0.16666666666666666, 0.0, 0.25, 0.0, 0.0, 0.1111111111111111, 0.0, 0.14285714285714285, 0.02857142857142857, 0.0, 0.0, 0.1111111111111111, 0.0, 0.3333333333333333, 0.0, 0.0, 0.0, 0.0, 0.2, 0.0, 0.0, 0.25, 0.3333333333333333, 0.3333333333333333, 0.0, 0.2, 0.16666666666666666, 0.0, 0.25, 0.3333333333333333, 0.0, 0.2, 0.0, 0.0, 0.0], 'Ground Support Equipment Mechanic': [0.16666666666666666, 0.0, 0.0, 0.0, 0.0, 0.12, 0.0, 0.13636363636363635, 0.0, 0.19230769230769232, 0.0, 0.3076923076923077, 0.0, 0.0, 0.0, 0.0, 0.0, 0.0, 0.2222222222222222, 0.0, 0.0, 0.0, 0.0, 0.0, 0.06896551724137931, 0.14285714285714285, 0.1875, 0.2727272727272727, 0.0, 0.0, 0.0, 0.0, 0.0, 0.125, 0.0625, 0.21052631578947367, 0.0, 0.0, 0.08333333333333333, 0.0625, 0.25, 0.0, 0.125, 0.14285714285714285, 0.0, 0.0, 0.0, 0.0, 0.15384615384615385, 0.0, 0.07692307692307693, 0.0, 0.0, 0.14814814814814814, 0.0, 0.06666666666666667, 0.0, 0.0, 0.0, 0.0, 0.0, 0.2222222222222222, 0.0, 0.0, 0.16666666666666666, 0.0, 0.0, 0.14285714285714285, 0.0, 0.0, 0.0, 0.0, 0.0, 0.047619047619047616, 0.0, 0.0, 0.1, 0.08333333333333333, 0.05555555555555555, 0.0, 0.1, 0.0, 0.07692307692307693, 0.0, 0.16666666666666666, 0.0, 0.0, 0.17647058823529413, 0.0, 0.0, 0.0, 0.0, 0.0, 0.0, 0.045454545454545456, 0.0, 0.0, 0.0, 0.0, 0.2727272727272727, 0.25, 0.0, 0.0, 0.0, 0.0, 0.0, 0.0, 0.0, 0.0625, 0.1, 0.0, 0.0, 0.0625, 0.10526315789473684, 0.0, 0.0, 0.0, 0.0, 0.0, 0.14285714285714285, 0.0, 0.1111111111111111, 0.0, 0.0, 0.0, 0.0, 0.0, 0.09090909090909091, 0.08333333333333333, 0.0, 0.06666666666666667, 0.0, 0.0, 0.0, 0.0, 0.14285714285714285, 0.23529411764705882, 0.15384615384615385, 0.16666666666666666, 0.0, 0.06666666666666667, 0.0, 0.0, 0.0, 0.0, 0.0, 0.0, 0.0, 0.0, 0.0, 0.0, 0.0, 0.0, 0.0, 0.0, 0.0, 0.0, 0.0, 0.1111111111111111, 0.0, 1.0, 0.0, 0.0, 0.0, 0.0625, 0.0, 0.0, 0.0, 0.1, 0.0, 0.0, 0.0, 0.0, 0.0, 0.0, 0.1, 0.0, 0.0, 0.0, 0.045454545454545456, 0.0, 0.0, 0.0, 0.0, 0.0, 0.0, 0.0, 0.0, 0.0, 0.0, 0.0, 0.0, 0.0, 0.0, 0.0, 0.14705882352941177, 0.07692307692307693, 0.05, 0.045454545454545456, 0.0, 0.0, 0.0, 0.0, 0.0, 0.0, 0.0, 0.0, 0.0, 0.0, 0.0, 0.0, 0.0, 0.0, 0.0, 0.0, 0.0, 0.0, 0.14285714285714285, 0.0, 0.0, 0.0, 0.0], 'Software Engineer - Data Warehouse/Business Intelligence': [0.05, 0.2857142857142857, 0.14285714285714285, 0.0, 0.2222222222222222, 0.07692307692307693, 0.0625, 0.041666666666666664, 0.3333333333333333, 0.0, 0.14285714285714285, 0.0, 0.125, 0.0, 0.0, 0.1111111111111111, 0.0, 0.14285714285714285, 0.1, 0.0, 0.2857142857142857, 0.3333333333333333, 0.14285714285714285, 0.0, 0.06896551724137931, 0.06666666666666667, 0.11764705882352941, 0.07692307692307693, 0.2222222222222222, 0.2222222222222222, 0.0, 0.8571428571428571, 0.0, 0.125, 0.3076923076923077, 0.09523809523809523, 0.0, 0.3, 0.0, 0.3076923076923077, 0.0, 0.125, 0.125, 0.0, 0.125, 0.14285714285714285, 0.14285714285714285, 0.0, 0.07142857142857142, 0.14285714285714285, 0.0, 0.2, 0.0, 0.14814814814814814, 0.1, 0.06666666666666667, 0.3, 0.0, 0.0625, 0.125, 0.14285714285714285, 0.0, 0.14285714285714285, 0.0625, 0.16666666666666666, 0.0, 0.1111111111111111, 0.14285714285714285, 0.0, 0.16666666666666666, 0.16666666666666666, 0.3333333333333333, 0.125, 0.2222222222222222, 0.0, 0.0, 0.0, 0.08333333333333333, 0.05555555555555555, 0.14285714285714285, 0.0, 0.3333333333333333, 0.0, 0.42857142857142855, 0.16666666666666666, 0.05, 0.1, 0.0, 0.0, 0.14285714285714285, 0.0, 0.1111111111111111, 0.25, 0.0, 0.15, 0.16666666666666666, 0.14285714285714285, 0.0, 0.25, 0.07692307692307693, 0.0, 0.2857142857142857, 0.2857142857142857, 0.2222222222222222, 0.0, 0.07692307692307693, 0.46153846153846156, 0.5, 0.0625, 0.1, 0.0, 0.14285714285714285, 0.3076923076923077, 0.05, 0.07142857142857142, 0.3333333333333333, 0.16666666666666666, 1.0, 0.16666666666666666, 0.06666666666666667, 0.0, 0.05263157894736842, 0.2222222222222222, 0.0, 0.2857142857142857, 0.0, 0.25, 0.0, 0.3, 1.0, 0.23076923076923078, 0.14285714285714285, 0.0, 0.14285714285714285, 0.1, 0.0, 0.16666666666666666, 0.07142857142857142, 0.16666666666666666, 0.1, 0.06666666666666667, 0.2222222222222222, 0.42857142857142855, 0.125, 0.3333333333333333, 0.125, 0.0, 0.2857142857142857, 0.0, 0.14285714285714285, 0.2857142857142857, 0.2222222222222222, 0.14285714285714285, 0.375, 0.14285714285714285, 0.14285714285714285, 0.0, 0.0, 0.05263157894736842, 0.0, 0.0, 1.0, 0.42857142857142855, 0.0, 0.3076923076923077, 0.125, 0.16666666666666666, 0.2222222222222222, 0.1, 0.3333333333333333, 0.14285714285714285, 0.16666666666666666, 0.21428571428571427, 0.0, 0.3333333333333333, 0.2222222222222222, 0.0, 0.125, 0.3, 0.15, 0.0, 0.42857142857142855, 0.16666666666666666, 0.0, 0.0, 0.0, 0.2857142857142857, 0.1111111111111111, 0.0, 0.14285714285714285, 0.14285714285714285, 0.14285714285714285, 0.4444444444444444, 0.2857142857142857, 0.1, 0.05405405405405406, 0.0, 0.05, 0.15, 0.125, 0.0, 0.16666666666666666, 0.5, 0.14285714285714285, 1.0, 0.125, 0.0, 0.2857142857142857, 0.14285714285714285, 0.0, 0.0, 0.16666666666666666, 0.125, 0.25, 0.0, 0.14285714285714285, 0.0, 0.0, 0.125, 1.0, 0.0, 1.0], 'Network Engineer': [0.0, 0.4, 0.2, 0.0, 0.2857142857142857, 0.04, 0.15384615384615385, 0.09523809523809523, 0.5, 0.03571428571428571, 0.0, 0.0, 0.4, 0.0, 0.0, 0.14285714285714285, 0.0, 0.2, 0.125, 0.0, 0.4, 0.5, 0.5, 0.0, 0.07407407407407407, 0.0, 0.0625, 0.09090909090909091, 0.2857142857142857, 0.2857142857142857, 0.0, 0.375, 0.0, 0.14285714285714285, 0.36363636363636365, 0.05, 0.0, 0.375, 0.0, 0.36363636363636365, 0.0, 0.16666666666666666, 0.0, 0.0, 0.16666666666666666, 0.0, 0.5, 0.07692307692307693, 0.0, 0.2, 0.0, 0.25, 0.07692307692307693, 0.16, 0.125, 0.07692307692307693, 0.375, 0.25, 0.15384615384615385, 0.4, 0.2, 0.0, 0.2, 0.07142857142857142, 0.2, 0.0, 0.14285714285714285, 0.2, 0.25, 0.25, 0.25, 0.5, 0.0, 0.17647058823529413, 0.0, 0.0, 0.0, 0.1, 0.13333333333333333, 0.0, 0.0, 0.42857142857142855, 0.0, 1.0, 0.2, 0.05555555555555555, 0.125, 0.0, 0.0, 0.5, 0.0, 0.14285714285714285, 0.14285714285714285, 0.0, 0.16666666666666666, 0.25, 0.2, 0.0, 0.6, 0.09090909090909091, 0.0, 0.4, 0.4, 0.2857142857142857, 0.0, 0.0, 0.21428571428571427, 0.4, 0.07142857142857142, 0.2857142857142857, 0.0, 0.2, 0.36363636363636365, 0.11764705882352941, 0.18181818181818182, 0.5, 0.0, 0.42857142857142855, 0.25, 0.07692307692307693, 0.0, 0.058823529411764705, 0.2857142857142857, 0.0, 0.4, 0.0, 0.0, 0.0, 0.1, 0.42857142857142855, 0.16666666666666666, 0.0, 0.25, 0.0, 0.125, 0.2, 0.11764705882352941, 0.08333333333333333, 0.2, 0.125, 0.07692307692307693, 0.2857142857142857, 0.3333333333333333, 0.0, 0.2, 0.0, 0.0, 0.4, 0.0, 0.2, 0.4, 0.125, 0.2, 0.2857142857142857, 0.2, 0.2, 0.0, 0.0, 0.058823529411764705, 0.0, 0.0, 0.42857142857142855, 1.0, 0.0, 0.36363636363636365, 0.0, 0.25, 0.2857142857142857, 0.2857142857142857, 0.5, 0.2, 0.25, 0.25, 0.0, 0.2, 0.125, 0.0, 0.0, 0.375, 0.16666666666666666, 0.2, 1.0, 0.25, 0.0, 0.0, 0.0, 0.4, 0.14285714285714285, 0.0, 0.0, 0.5, 0.2, 0.375, 0.4, 0.125, 0.027777777777777776, 0.0, 0.11764705882352941, 0.16666666666666666, 0.16666666666666666, 0.0, 0.25, 0.4, 0.2, 0.42857142857142855, 0.0, 0.0, 0.4, 0.2, 0.0, 0.0, 0.25, 0.0, 0.14285714285714285, 0.0, 0.0, 0.0, 0.2, 0.0, 0.42857142857142855, 0.2, 0.42857142857142855], 'Global Development Specialist': [0.0625, 0.0, 0.0, 0.0, 0.0, 0.043478260869565216, 0.18181818181818182, 0.0, 0.0, 0.038461538461538464, 0.0, 0.0, 0.0, 0.0, 0.0, 0.2, 0.0, 0.3333333333333333, 0.0, 0.1, 0.0, 0.0, 0.0, 0.0, 0.038461538461538464, 0.09090909090909091, 0.07142857142857142, 0.0, 0.0, 0.0, 0.5, 0.0, 0.0, 0.07692307692307693, 0.0, 0.05555555555555555, 0.0, 0.0, 0.0, 0.0, 0.0, 0.25, 0.0, 0.0, 0.25, 0.0, 0.0, 0.09090909090909091, 0.0, 0.0, 0.0, 0.14285714285714285, 0.09090909090909091, 0.038461538461538464, 0.4, 0.09090909090909091, 0.0, 0.0, 0.18181818181818182, 0.25, 0.0, 0.0, 0.3333333333333333, 0.08333333333333333, 0.25, 0.5, 0.2, 0.0, 0.0, 0.0, 0.0, 0.0, 0.0, 0.125, 0.3333333333333333, 0.0, 0.0, 0.0, 0.07142857142857142, 0.0, 0.16666666666666666, 0.0, 0.0, 0.0, 0.0, 0.0625, 0.0, 0.14285714285714285, 0.5, 0.0, 0.0, 0.2, 0.2, 0.0, 0.11764705882352941, 0.0, 0.3333333333333333, 0.0, 0.0, 0.0, 0.0, 0.0, 0.0, 0.0, 0.0, 0.1111111111111111, 0.07142857142857142, 0.0, 0.08333333333333333, 0.0, 0.3333333333333333, 0.0, 0.0, 0.0, 0.1, 0.0, 0.0, 0.0, 0.0, 0.0, 0.5, 0.0, 0.0, 0.3333333333333333, 0.0, 0.5, 0.2, 0.0, 0.125, 0.0, 0.0, 0.0, 0.0, 0.3333333333333333, 0.16666666666666666, 0.0, 0.0, 0.0, 0.0, 0.0, 0.2, 0.16666666666666666, 0.0, 0.25, 0.0, 0.25, 0.0, 0.0, 0.0, 0.3333333333333333, 0.0, 0.4, 0.3333333333333333, 0.0, 0.0, 0.0, 0.0, 0.0, 0.0, 0.6666666666666666, 0.0, 0.0, 0.0, 1.0, 0.0, 0.25, 0.0, 0.0, 0.0, 0.0, 0.3333333333333333, 0.0, 0.08333333333333333, 0.5, 0.0, 0.0, 0.25, 0.25, 0.125, 0.11764705882352941, 0.0, 0.0, 0.0, 0.25, 0.0, 0.0, 0.0, 0.2, 0.0, 0.3333333333333333, 0.0, 0.0, 0.125, 0.0, 0.16666666666666666, 0.029411764705882353, 0.0, 0.0, 0.11764705882352941, 0.0, 0.5, 0.0, 0.0, 0.0, 0.0, 0.25, 0.0, 0.0, 0.3333333333333333, 0.5, 0.5, 0.0, 0.25, 0.2, 0.0, 0.3333333333333333, 0.5, 0.0, 0.25, 0.0, 0.0, 0.0], 'Fabricator': [0.04, 0.16666666666666666, 0.18181818181818182, 0.09090909090909091, 0.23076923076923078, 0.1, 0.2222222222222222, 0.25, 0.18181818181818182, 0.16129032258064516, 0.08333333333333333, 0.047619047619047616, 0.2727272727272727, 0.09090909090909091, 0.07692307692307693, 0.15384615384615385, 0.08333333333333333, 0.08333333333333333, 0.23076923076923078, 0.1111111111111111, 0.16666666666666666, 0.18181818181818182, 0.18181818181818182, 0.125, 0.16129032258064516, 0.10526315789473684, 0.2, 0.11764705882352941, 0.23076923076923078, 0.23076923076923078, 0.0, 0.2857142857142857, 0.09090909090909091, 0.35294117647058826, 1.0, 0.16666666666666666, 0.125, 0.38461538461538464, 0.2, 1.0, 0.07142857142857142, 0.07692307692307693, 0.07692307692307693, 0.18181818181818182, 0.16666666666666666, 0.18181818181818182, 0.18181818181818182, 0.10526315789473684, 0.1111111111111111, 0.18181818181818182, 0.05555555555555555, 0.21428571428571427, 0.10526315789473684, 0.44, 0.06666666666666667, 0.23529411764705882, 0.38461538461538464, 0.09090909090909091, 0.2222222222222222, 0.16666666666666666, 0.08333333333333333, 0.06666666666666667, 0.08333333333333333, 0.047619047619047616, 0.26666666666666666, 0.0, 0.15384615384615385, 0.08333333333333333, 0.09090909090909091, 0.09090909090909091, 0.09090909090909091, 0.18181818181818182, 0.07692307692307693, 0.2857142857142857, 0.0, 0.125, 0.0, 0.058823529411764705, 0.14285714285714285, 0.08333333333333333, 0.06666666666666667, 0.3076923076923077, 0.0, 0.36363636363636365, 0.26666666666666666, 0.04, 0.06666666666666667, 0.13636363636363635, 0.0, 0.18181818181818182, 0.09090909090909091, 0.07142857142857142, 0.07142857142857142, 0.09090909090909091, 0.3333333333333333, 0.09090909090909091, 0.08333333333333333, 0.09090909090909091, 0.36363636363636365, 0.11764705882352941, 0.07142857142857142, 0.16666666666666666, 0.2727272727272727, 0.23076923076923078, 0.0, 0.05555555555555555, 0.2631578947368421, 0.2727272727272727, 0.15789473684210525, 0.3333333333333333, 0.08333333333333333, 0.18181818181818182, 1.0, 0.08333333333333333, 0.25, 0.18181818181818182, 0.0, 0.3076923076923077, 0.09090909090909091, 0.10526315789473684, 0.0, 0.13636363636363635, 0.23076923076923078, 0.0, 0.16666666666666666, 0.0, 0.07142857142857142, 0.13333333333333333, 0.2, 0.3076923076923077, 0.23529411764705882, 0.08333333333333333, 0.09090909090909091, 0.0, 0.23076923076923078, 0.18181818181818182, 0.18181818181818182, 0.1111111111111111, 0.26666666666666666, 0.14285714285714285, 0.3125, 0.23076923076923078, 0.36363636363636365, 0.0, 0.18181818181818182, 0.0, 0.09090909090909091, 0.16666666666666666, 0.0, 0.08333333333333333, 0.16666666666666666, 0.14285714285714285, 0.08333333333333333, 0.23076923076923078, 0.08333333333333333, 0.08333333333333333, 0.0, 0.09090909090909091, 0.13636363636363635, 0.0, 0.0625, 0.3076923076923077, 0.36363636363636365, 0.0, 1.0, 0.0, 0.09090909090909091, 0.23076923076923078, 0.3333333333333333, 0.18181818181818182, 0.08333333333333333, 0.09090909090909091, 0.2222222222222222, 0.0, 0.08333333333333333, 0.14285714285714285, 0.0, 0.0, 0.2, 0.3333333333333333, 0.18181818181818182, 0.36363636363636365, 0.09090909090909091, 0.0, 0.0, 0.0, 0.2727272727272727, 0.15384615384615385, 0.09090909090909091, 0.0, 0.18181818181818182, 0.08333333333333333, 0.2, 0.2727272727272727, 0.23076923076923078, 0.15789473684210525, 0.05555555555555555, 0.23809523809523808, 0.3333333333333333, 0.16666666666666666, 0.0, 0.09090909090909091, 0.2727272727272727, 0.18181818181818182, 0.3076923076923077, 0.0, 0.0, 0.16666666666666666, 0.08333333333333333, 0.0, 0.0, 0.09090909090909091, 0.0, 0.07142857142857142, 0.09090909090909091, 0.0, 0.0, 0.18181818181818182, 0.0, 0.3076923076923077, 0.18181818181818182, 0.3076923076923077], 'Technology Consultant': [0.0, 0.2, 0.0, 0.0, 0.14285714285714285, 0.08695652173913043, 0.07692307692307693, 0.0, 0.0, 0.0, 0.0, 0.0, 0.0, 0.0, 0.0, 0.0, 0.0, 0.25, 0.0, 0.0, 0.2, 0.0, 0.0, 0.0, 0.07692307692307693, 0.08333333333333333, 0.0, 0.0, 0.14285714285714285, 0.14285714285714285, 0.3333333333333333, 0.1111111111111111, 0.0, 0.15384615384615385, 0.0, 0.0, 0.0, 0.1111111111111111, 0.0, 0.0, 0.0, 0.0, 0.2, 0.0, 0.0, 0.0, 0.0, 0.0, 0.0, 0.0, 0.0, 0.2857142857142857, 0.0, 0.0, 0.14285714285714285, 0.18181818181818182, 0.1111111111111111, 0.0, 0.07692307692307693, 0.2, 0.25, 0.0, 0.25, 0.16666666666666666, 0.1, 0.3333333333333333, 0.16666666666666666, 0.0, 0.0, 0.0, 0.0, 0.0, 0.2, 0.05555555555555555, 0.25, 0.0, 0.0, 0.0, 0.0, 0.0, 0.14285714285714285, 0.125, 0.0, 0.0, 0.0, 0.0, 0.0, 0.0625, 0.3333333333333333, 0.0, 0.0, 0.4, 0.75, 0.0, 0.05263157894736842, 0.0, 0.25, 0.0, 0.0, 0.0, 0.0, 0.0, 0.0, 0.14285714285714285, 0.0, 0.2222222222222222, 0.14285714285714285, 0.0, 0.0, 0.0, 0.25, 0.0, 0.0, 0.0, 0.09090909090909091, 0.0, 0.3333333333333333, 0.125, 0.0, 0.08333333333333333, 0.3333333333333333, 0.0, 0.14285714285714285, 0.25, 0.0, 0.0, 0.16666666666666666, 0.0, 0.25, 0.125, 0.08333333333333333, 0.25, 0.0, 0.25, 0.14285714285714285, 0.0, 0.0, 0.09090909090909091, 0.0, 0.14285714285714285, 0.08333333333333333, 0.14285714285714285, 0.0, 1.0, 0.0, 1.0, 0.0, 0.2, 0.0, 0.25, 0.2, 0.14285714285714285, 0.25, 0.0, 0.0, 0.0, 0.0, 0.0, 0.0625, 0.2, 0.0, 0.125, 0.0, 0.25, 0.0, 1.0, 0.0, 0.14285714285714285, 0.0, 0.0, 0.25, 0.0, 0.2727272727272727, 0.3333333333333333, 0.25, 0.14285714285714285, 0.2, 1.0, 0.25, 0.05263157894736842, 0.0, 0.0, 0.0, 0.5, 0.0, 0.0, 0.0, 0.16666666666666666, 0.0, 0.25, 0.0, 0.0, 0.25, 0.0, 0.14285714285714285, 0.02857142857142857, 0.1, 0.0, 0.05263157894736842, 0.0, 0.3333333333333333, 0.0, 0.0, 0.0, 0.125, 1.0, 0.25, 0.2, 0.25, 0.3333333333333333, 0.3333333333333333, 0.0, 1.0, 0.16666666666666666, 0.0, 0.25, 0.3333333333333333, 0.0, 1.0, 0.125, 0.0, 0.125], 'Patient Care Coordinator': [0.0, 0.3333333333333333, 0.0, 0.0, 0.0, 0.0, 0.0, 0.0, 0.0, 0.0, 0.0, 0.0, 0.0, 0.0, 0.0, 0.0, 0.0, 0.5, 0.0, 0.0, 0.3333333333333333, 0.5, 0.0, 0.0, 0.0, 0.0, 0.0, 0.0, 0.0, 0.0, 0.0, 0.14285714285714285, 0.0, 0.0, 0.09090909090909091, 0.0, 0.0, 0.14285714285714285, 0.0, 0.09090909090909091, 0.0, 0.0, 0.0, 0.0, 0.3333333333333333, 0.0, 0.0, 0.0, 0.0, 0.0, 0.0, 0.0, 0.0, 0.04, 0.2, 0.0, 0.14285714285714285, 0.0, 0.0, 0.0, 0.0, 0.0, 0.0, 0.0, 0.0, 0.0, 0.0, 0.0, 0.0, 1.0, 0.0, 0.5, 0.0, 0.0625, 0.0, 0.0, 0.0, 0.0, 0.0, 0.0, 0.0, 0.0, 0.0, 0.25, 0.125, 0.06666666666666667, 0.0, 0.0, 0.0, 0.0, 0.0, 0.25, 0.0, 0.0, 0.058823529411764705, 0.0, 0.0, 0.0, 0.25, 0.0, 0.0, 0.3333333333333333, 0.3333333333333333, 0.0, 0.0, 0.0, 0.07692307692307693, 0.3333333333333333, 0.0, 0.0, 0.0, 0.0, 0.09090909090909091, 0.0, 0.0, 0.0, 0.0, 0.16666666666666666, 0.0, 0.0, 0.0, 0.07142857142857142, 0.0, 0.0, 0.3333333333333333, 0.0, 0.0, 0.0, 0.0, 0.16666666666666666, 0.1, 0.0, 0.0, 0.0, 0.0, 0.0, 0.0, 0.0, 0.0, 0.0, 0.0, 0.2, 0.25, 0.0, 0.0, 0.0, 0.0, 0.3333333333333333, 0.0, 0.0, 0.3333333333333333, 0.0, 0.0, 0.2, 0.5, 0.0, 0.0, 0.0, 0.0, 0.0, 0.0, 0.16666666666666666, 0.25, 0.0, 0.09090909090909091, 0.0, 1.0, 0.0, 0.0, 0.0, 0.0, 0.0, 0.09090909090909091, 0.0, 0.0, 0.0, 0.0, 0.0, 0.14285714285714285, 0.058823529411764705, 0.0, 0.25, 0.0, 0.0, 0.0, 0.0, 0.3333333333333333, 0.0, 0.0, 0.0, 0.0, 0.0, 0.14285714285714285, 0.3333333333333333, 0.0, 0.0, 0.0, 0.0, 0.058823529411764705, 0.0, 0.0, 0.0, 0.3333333333333333, 0.0, 0.16666666666666666, 0.0, 0.0, 0.3333333333333333, 0.0, 0.0, 0.0, 1.0, 0.0, 0.0, 0.0, 0.0, 0.0, 0.0, 0.0, 0.16666666666666666, 0.0, 0.16666666666666666], 'Senior Manager Product Intelligence and Cost Analytics': [0.0, 0.14285714285714285, 0.0, 0.0, 0.25, 0.125, 0.14285714285714285, 0.09090909090909091, 0.16666666666666666, 0.07142857142857142, 0.0, 0.06666666666666667, 0.3333333333333333, 0.2, 0.14285714285714285, 0.0, 0.16666666666666666, 0.0, 0.1111111111111111, 0.0, 0.14285714285714285, 0.16666666666666666, 0.4, 0.0, 0.1111111111111111, 0.07142857142857142, 0.058823529411764705, 0.18181818181818182, 1.0, 1.0, 0.0, 0.2, 0.0, 0.21428571428571427, 0.23076923076923078, 0.1, 0.0, 0.2, 0.09090909090909091, 0.23076923076923078, 0.0, 0.0, 0.0, 0.0, 0.0, 0.0, 0.4, 0.07142857142857142, 0.07692307692307693, 0.0, 0.08333333333333333, 0.8333333333333334, 0.07142857142857142, 0.1111111111111111, 0.0, 0.25, 0.2, 0.2, 0.14285714285714285, 0.14285714285714285, 0.16666666666666666, 0.0, 0.0, 0.06666666666666667, 0.08333333333333333, 0.0, 0.125, 0.0, 0.2, 0.0, 0.0, 0.0, 0.0, 0.10526315789473684, 0.0, 0.0, 0.0, 0.0, 0.058823529411764705, 0.0, 0.1111111111111111, 0.8333333333333334, 0.0, 0.2857142857142857, 0.18181818181818182, 0.0, 0.1111111111111111, 0.05555555555555555, 0.0, 0.4, 0.0, 0.125, 0.125, 0.0, 0.047619047619047616, 0.0, 0.0, 0.2, 0.5, 0.18181818181818182, 0.125, 0.0, 0.0, 1.0, 0.0, 0.0, 0.125, 0.14285714285714285, 0.14285714285714285, 0.1111111111111111, 0.16666666666666666, 0.0, 0.23076923076923078, 0.05263157894736842, 0.16666666666666666, 0.16666666666666666, 0.0, 0.2222222222222222, 0.0, 0.25, 0.0, 0.05555555555555555, 1.0, 0.0, 0.0, 0.0, 0.0, 0.1, 0.09090909090909091, 0.2222222222222222, 0.07142857142857142, 0.0, 0.2, 0.0, 0.0, 0.16666666666666666, 0.05263157894736842, 0.16666666666666666, 0.08333333333333333, 0.25, 0.07142857142857142, 0.0, 0.0, 0.14285714285714285, 0.0, 0.14285714285714285, 0.0, 0.14285714285714285, 0.0, 0.0, 0.3333333333333333, 0.0, 0.0, 0.1111111111111111, 0.0, 0.0, 0.0, 0.0, 0.1875, 0.0, 0.0, 0.2222222222222222, 0.2857142857142857, 0.0, 0.23076923076923078, 0.14285714285714285, 0.0, 1.0, 0.1111111111111111, 0.16666666666666666, 0.0, 0.0, 0.14285714285714285, 0.0, 0.0, 0.0, 0.0, 0.14285714285714285, 0.09090909090909091, 0.047619047619047616, 0.4, 0.2857142857142857, 0.0, 0.14285714285714285, 0.0, 0.0, 0.0, 0.125, 0.0, 0.0, 0.4, 0.0, 0.09090909090909091, 0.0, 0.0, 0.05555555555555555, 0.18181818181818182, 0.17647058823529413, 0.047619047619047616, 0.0, 0.0, 0.0, 0.14285714285714285, 0.0, 0.2222222222222222, 0.14285714285714285, 0.16666666666666666, 0.3333333333333333, 0.0, 0.0, 0.0, 0.0, 0.14285714285714285, 0.0, 0.0, 0.0, 0.0, 0.16666666666666666, 0.14285714285714285, 0.2222222222222222, 0.4, 0.2222222222222222], 'Countertop Fabricator and Installer': [0.05263157894736842, 0.14285714285714285, 0.4, 0.2, 0.25, 0.125, 0.23076923076923078, 0.2631578947368421, 0.16666666666666666, 0.15384615384615385, 0.0, 0.06666666666666667, 0.3333333333333333, 0.0, 0.0, 0.2857142857142857, 0.0, 0.0, 0.1111111111111111, 0.16666666666666666, 0.14285714285714285, 0.0, 0.16666666666666666, 0.2, 0.1111111111111111, 0.15384615384615385, 0.125, 0.08333333333333333, 0.1111111111111111, 0.1111111111111111, 0.0, 0.09090909090909091, 0.2, 0.21428571428571427, 0.3333333333333333, 0.15789473684210525, 0.2, 0.3333333333333333, 0.2, 0.3333333333333333, 0.125, 0.14285714285714285, 0.0, 0.16666666666666666, 0.14285714285714285, 0.16666666666666666, 0.16666666666666666, 0.15384615384615385, 0.16666666666666666, 0.4, 0.0, 0.1, 0.15384615384615385, 0.2, 0.0, 0.15384615384615385, 0.3333333333333333, 0.2, 0.23076923076923078, 0.3333333333333333, 0.16666666666666666, 0.25, 0.16666666666666666, 0.06666666666666667, 0.18181818181818182, 0.0, 0.125, 0.16666666666666666, 0.2, 0.0, 0.2, 0.16666666666666666, 0.14285714285714285, 0.05, 0.0, 0.2, 0.1111111111111111, 0.09090909090909091, 0.125, 0.0, 0.1111111111111111, 0.2222222222222222, 0.08333333333333333, 0.2857142857142857, 0.08333333333333333, 0.0, 0.0, 0.05555555555555555, 0.0, 0.16666666666666666, 0.2, 0.0, 0.125, 0.2, 0.2222222222222222, 0.2, 0.16666666666666666, 0.0, 0.125, 0.08333333333333333, 0.125, 0.14285714285714285, 0.3333333333333333, 0.1111111111111111, 0.0, 0.08333333333333333, 0.125, 0.0, 0.06666666666666667, 1.0, 0.0, 0.4, 0.3333333333333333, 0.17647058823529413, 0.2727272727272727, 0.16666666666666666, 0.0, 0.1, 0.2, 0.07142857142857142, 0.0, 0.05555555555555555, 0.1111111111111111, 0.0, 0.14285714285714285, 0.0, 0.0, 0.0, 0.2, 0.1, 0.15384615384615385, 0.16666666666666666, 0.2, 0.0, 0.42857142857142855, 0.16666666666666666, 0.1111111111111111, 0.07692307692307693, 0.18181818181818182, 0.1111111111111111, 0.25, 0.25, 0.2857142857142857, 0.0, 0.16666666666666666, 0.0, 0.2, 0.14285714285714285, 0.0, 0.16666666666666666, 0.0, 0.1111111111111111, 0.16666666666666666, 0.1111111111111111, 0.0, 0.16666666666666666, 0.0, 0.2, 0.11764705882352941, 0.0, 0.1, 0.1, 0.2857142857142857, 0.0, 0.3333333333333333, 0.0, 0.0, 0.1111111111111111, 1.0, 0.16666666666666666, 0.16666666666666666, 0.2, 0.23076923076923078, 0.0, 0.16666666666666666, 0.42857142857142855, 0.0, 0.0, 0.2, 0.2222222222222222, 0.16666666666666666, 0.2857142857142857, 0.2, 0.0, 0.0, 0.0, 0.3333333333333333, 0.125, 0.2, 0.0, 0.16666666666666666, 0.16666666666666666, 0.09090909090909091, 0.3333333333333333, 0.42857142857142855, 0.05555555555555555, 0.0, 0.1111111111111111, 0.2222222222222222, 0.3333333333333333, 0.0, 0.2, 0.0, 0.4, 0.1, 0.0, 0.0, 0.0, 0.16666666666666666, 0.0, 0.0, 0.0, 0.0, 0.125, 0.2, 0.0, 0.0, 0.16666666666666666, 0.0, 0.1, 0.16666666666666666, 0.1], 'Cruise Ship': [0.0, 0.25, 0.3333333333333333, 0.0, 0.16666666666666666, 0.043478260869565216, 0.08333333333333333, 0.05, 1.0, 0.0, 0.0, 0.0, 0.25, 0.0, 0.0, 0.2, 0.0, 0.0, 0.16666666666666666, 0.0, 0.25, 0.3333333333333333, 0.3333333333333333, 0.0, 0.038461538461538464, 0.0, 0.07142857142857142, 0.1111111111111111, 0.16666666666666666, 0.16666666666666666, 0.0, 0.2857142857142857, 0.0, 0.16666666666666666, 0.18181818181818182, 0.05555555555555555, 0.0, 0.125, 0.0, 0.18181818181818182, 0.0, 0.25, 0.0, 0.0, 0.0, 0.0, 0.3333333333333333, 0.0, 0.0, 0.3333333333333333, 0.0, 0.14285714285714285, 0.0, 0.08, 0.0, 0.09090909090909091, 0.125, 0.0, 0.08333333333333333, 0.25, 0.0, 0.0, 0.3333333333333333, 0.0, 0.25, 0.0, 0.2, 0.3333333333333333, 0.0, 0.0, 0.5, 0.3333333333333333, 0.0, 0.125, 0.0, 0.0, 0.0, 0.125, 0.07142857142857142, 0.0, 0.0, 0.3333333333333333, 0.0, 0.5, 0.1111111111111111, 0.0, 0.16666666666666666, 0.0, 0.0, 0.3333333333333333, 0.0, 0.0, 0.2, 0.0, 0.05555555555555555, 0.5, 0.3333333333333333, 0.0, 0.2, 0.1111111111111111, 0.0, 0.25, 0.25, 0.16666666666666666, 0.0, 0.0, 0.15384615384615385, 0.25, 0.0, 0.16666666666666666, 0.0, 0.3333333333333333, 0.18181818181818182, 0.0625, 0.1, 1.0, 0.0, 0.3333333333333333, 0.5, 0.09090909090909091, 0.0, 0.0, 0.16666666666666666, 0.0, 0.25, 0.0, 0.0, 0.0, 0.125, 0.3333333333333333, 0.09090909090909091, 0.0, 0.0, 0.0, 0.16666666666666666, 0.0, 0.13333333333333333, 0.1, 0.25, 0.16666666666666666, 0.09090909090909091, 0.16666666666666666, 0.2, 0.0, 0.3333333333333333, 0.0, 0.0, 0.25, 0.0, 0.3333333333333333, 0.25, 0.16666666666666666, 0.3333333333333333, 0.16666666666666666, 0.0, 0.3333333333333333, 0.0, 0.0, 0.0, 0.0, 0.0, 0.3333333333333333, 0.5, 0.0, 0.18181818181818182, 0.0, 0.0, 0.16666666666666666, 0.16666666666666666, 1.0, 0.3333333333333333, 0.5, 0.08333333333333333, 0.0, 0.3333333333333333, 0.16666666666666666, 0.0, 0.0, 0.125, 0.05555555555555555, 0.0, 0.5, 0.5, 0.0, 0.0, 0.0, 0.25, 0.2, 0.0, 0.0, 0.3333333333333333, 0.3333333333333333, 0.2857142857142857, 0.25, 0.16666666666666666, 0.029411764705882353, 0.0, 0.0625, 0.05555555555555555, 0.25, 0.0, 0.5, 0.25, 0.3333333333333333, 0.3333333333333333, 0.0, 0.0, 0.25, 0.3333333333333333, 0.0, 0.0, 0.0, 0.0, 0.2, 0.0, 0.0, 0.0, 0.0, 0.0, 0.3333333333333333, 0.0, 0.3333333333333333], 'Commercial Print Management Consultant': [0.0, 0.25, 0.3333333333333333, 0.0, 0.16666666666666666, 0.09090909090909091, 0.18181818181818182, 0.05, 0.3333333333333333, 0.0, 0.0, 0.0, 0.25, 0.0, 0.0, 0.2, 0.0, 0.3333333333333333, 0.16666666666666666, 0.0, 0.25, 0.0, 0.0, 0.0, 0.08, 0.09090909090909091, 0.07142857142857142, 0.0, 0.0, 0.0, 0.5, 0.125, 0.0, 0.16666666666666666, 0.08333333333333333, 0.05555555555555555, 0.0, 0.125, 0.0, 0.08333333333333333, 0.0, 0.25, 0.0, 0.0, 0.0, 0.0, 0.0, 0.0, 0.0, 0.3333333333333333, 0.0, 0.14285714285714285, 0.0, 0.038461538461538464, 0.16666666666666666, 0.09090909090909091, 0.125, 0.0, 0.18181818181818182, 0.6666666666666666, 0.0, 0.0, 1.0, 0.08333333333333333, 0.25, 0.5, 0.5, 0.3333333333333333, 0.0, 0.0, 0.5, 0.3333333333333333, 0.0, 0.125, 0.3333333333333333, 0.0, 0.0, 0.125, 0.07142857142857142, 0.0, 0.16666666666666666, 0.14285714285714285, 0.0, 0.2, 0.0, 0.0, 0.0, 0.06666666666666667, 0.5, 0.0, 0.0, 0.2, 0.5, 0.0, 0.11764705882352941, 0.5, 1.0, 0.0, 0.0, 0.0, 0.0, 0.25, 0.25, 0.0, 0.0, 0.1111111111111111, 0.15384615384615385, 0.0, 0.0, 0.16666666666666666, 0.3333333333333333, 0.3333333333333333, 0.08333333333333333, 0.0625, 0.2222222222222222, 0.3333333333333333, 0.0, 0.14285714285714285, 0.5, 0.0, 0.5, 0.0, 0.0, 0.3333333333333333, 0.25, 0.0, 0.0, 0.0, 0.2857142857142857, 0.14285714285714285, 0.09090909090909091, 0.0, 0.0, 0.0, 0.4, 0.0, 0.0625, 0.0, 0.1111111111111111, 0.0, 0.2, 0.4, 0.2, 0.25, 0.3333333333333333, 0.25, 0.0, 0.25, 0.0, 1.0, 0.0, 0.4, 1.0, 0.16666666666666666, 0.0, 0.3333333333333333, 0.0, 0.0, 0.0, 0.25, 0.0, 0.14285714285714285, 0.2, 0.3333333333333333, 0.08333333333333333, 0.25, 0.0, 0.0, 0.16666666666666666, 0.3333333333333333, 1.0, 0.5, 0.18181818181818182, 0.5, 0.3333333333333333, 0.16666666666666666, 0.25, 0.25, 0.2857142857142857, 0.11764705882352941, 0.0, 0.2, 0.5, 0.25, 0.0, 0.0, 0.25, 0.5, 0.0, 0.0, 0.0, 0.3333333333333333, 0.2857142857142857, 0.25, 0.4, 0.029411764705882353, 0.0, 0.0, 0.11764705882352941, 0.25, 0.5, 0.5, 0.0, 0.3333333333333333, 0.14285714285714285, 0.25, 0.0, 0.0, 1.0, 0.5, 0.5, 0.0, 0.25, 0.2, 0.0, 0.0, 0.5, 0.0, 0.25, 0.14285714285714285, 0.0, 0.14285714285714285], 'Instrumentation Engineer': [0.0, 0.3333333333333333, 0.5, 0.0, 0.2, 0.045454545454545456, 0.09090909090909091, 0.05263157894736842, 0.5, 0.0, 0.0, 0.0, 0.3333333333333333, 0.0, 0.0, 0.25, 0.0, 0.0, 0.2, 0.0, 0.3333333333333333, 0.0, 0.0, 0.0, 0.04, 0.0, 0.07692307692307693, 0.0, 0.0, 0.0, 0.0, 0.14285714285714285, 0.0, 0.08333333333333333, 0.09090909090909091, 0.058823529411764705, 0.0, 0.14285714285714285, 0.0, 0.09090909090909091, 0.0, 0.3333333333333333, 0.0, 0.0, 0.0, 0.0, 0.0, 0.0, 0.0, 0.5, 0.0, 0.0, 0.0, 0.04, 0.0, 0.0, 0.14285714285714285, 0.0, 0.09090909090909091, 0.3333333333333333, 0.0, 0.0, 0.5, 0.0, 0.125, 0.0, 0.25, 0.5, 0.0, 0.0, 1.0, 0.5, 0.0, 0.0625, 0.0, 0.0, 0.0, 0.14285714285714285, 0.07692307692307693, 0.0, 0.0, 0.16666666666666666, 0.0, 0.25, 0.0, 0.0, 0.0, 0.0, 0.0, 0.0, 0.0, 0.0, 0.25, 0.0, 0.058823529411764705, 1.0, 0.5, 0.0, 0.0, 0.0, 0.0, 0.3333333333333333, 0.3333333333333333, 0.0, 0.0, 0.0, 0.07692307692307693, 0.0, 0.0, 0.2, 0.0, 0.5, 0.09090909090909091, 0.06666666666666667, 0.1111111111111111, 0.5, 0.0, 0.16666666666666666, 1.0, 0.0, 0.0, 0.0, 0.0, 0.0, 0.3333333333333333, 0.0, 0.0, 0.0, 0.14285714285714285, 0.16666666666666666, 0.1, 0.0, 0.0, 0.0, 0.2, 0.0, 0.06666666666666667, 0.0, 0.125, 0.0, 0.1, 0.2, 0.25, 0.0, 0.5, 0.0, 0.0, 0.3333333333333333, 0.0, 0.5, 0.0, 0.2, 0.5, 0.2, 0.0, 0.5, 0.0, 0.0, 0.0, 0.0, 0.0, 0.16666666666666666, 0.25, 0.0, 0.09090909090909091, 0.0, 0.0, 0.0, 0.2, 0.5, 0.5, 1.0, 0.09090909090909091, 0.0, 0.5, 0.2, 0.0, 0.0, 0.14285714285714285, 0.058823529411764705, 0.0, 0.25, 1.0, 0.0, 0.0, 0.0, 0.3333333333333333, 0.25, 0.0, 0.0, 0.0, 0.5, 0.14285714285714285, 0.3333333333333333, 0.2, 0.0, 0.0, 0.0, 0.058823529411764705, 0.3333333333333333, 0.0, 1.0, 0.0, 0.5, 0.16666666666666666, 0.0, 0.0, 0.0, 0.5, 0.0, 0.0, 0.0, 0.0, 0.25, 0.0, 0.0, 0.0, 0.0, 0.0, 0.16666666666666666, 0.0, 0.16666666666666666], 'Competitive Intelligence Manager': [0.04, 0.2727272727272727, 0.18181818181818182, 0.09090909090909091, 0.23076923076923078, 0.1, 0.2222222222222222, 0.15384615384615385, 0.08333333333333333, 0.058823529411764705, 0.0, 0.0, 0.16666666666666666, 0.0, 0.0, 0.25, 0.08333333333333333, 0.18181818181818182, 0.06666666666666667, 0.05263157894736842, 0.2727272727272727, 0.08333333333333333, 0.08333333333333333, 0.058823529411764705, 0.125, 0.16666666666666666, 0.043478260869565216, 0.05555555555555555, 0.14285714285714285, 0.14285714285714285, 0.09090909090909091, 0.2857142857142857, 0.0, 0.15, 0.2222222222222222, 0.037037037037037035, 0.058823529411764705, 0.38461538461538464, 0.0, 0.2222222222222222, 0.0, 0.07692307692307693, 0.07692307692307693, 0.0, 0.07692307692307693, 0.0, 0.08333333333333333, 0.10526315789473684, 0.1111111111111111, 0.08333333333333333, 0.0, 0.21428571428571427, 0.10526315789473684, 0.16129032258064516, 0.14285714285714285, 0.10526315789473684, 0.38461538461538464, 0.09090909090909091, 0.2222222222222222, 0.2727272727272727, 0.18181818181818182, 0.0, 0.18181818181818182, 0.15789473684210525, 0.11764705882352941, 0.09090909090909091, 0.15384615384615385, 0.08333333333333333, 0.09090909090909091, 0.09090909090909091, 0.09090909090909091, 0.18181818181818182, 0.07692307692307693, 0.17391304347826086, 0.08333333333333333, 0.058823529411764705, 0.0, 0.058823529411764705, 0.09090909090909091, 0.0, 0.06666666666666667, 0.21428571428571427, 0.0, 0.25, 0.11764705882352941, 0.04, 0.0, 0.041666666666666664, 0.09090909090909091, 0.08333333333333333, 0.0, 0.25, 0.36363636363636365, 0.09090909090909091, 0.2727272727272727, 0.09090909090909091, 0.18181818181818182, 0.0, 0.15384615384615385, 0.05555555555555555, 0.07142857142857142, 0.2727272727272727, 0.16666666666666666, 0.14285714285714285, 0.0, 0.11764705882352941, 0.2, 0.07692307692307693, 0.047619047619047616, 0.23076923076923078, 0.08333333333333333, 0.08333333333333333, 0.2222222222222222, 0.08333333333333333, 0.17647058823529413, 0.08333333333333333, 0.09090909090909091, 0.21428571428571427, 0.09090909090909091, 0.10526315789473684, 0.09090909090909091, 0.041666666666666664, 0.14285714285714285, 0.08333333333333333, 0.2727272727272727, 0.0, 0.07142857142857142, 0.0, 0.2, 0.21428571428571427, 0.16666666666666666, 0.08333333333333333, 0.09090909090909091, 0.08333333333333333, 0.23076923076923078, 0.08333333333333333, 0.04, 0.05263157894736842, 0.05555555555555555, 0.06666666666666667, 0.16666666666666666, 0.23076923076923078, 0.15384615384615385, 0.2727272727272727, 0.08333333333333333, 0.2727272727272727, 0.09090909090909091, 0.2727272727272727, 0.09090909090909091, 0.18181818181818182, 0.16666666666666666, 0.14285714285714285, 0.18181818181818182, 0.14285714285714285, 0.08333333333333333, 0.08333333333333333, 0.0, 0.0, 0.08695652173913043, 0.07692307692307693, 0.0, 0.21428571428571427, 0.25, 0.08333333333333333, 0.2222222222222222, 0.2727272727272727, 0.09090909090909091, 0.14285714285714285, 0.23076923076923078, 0.08333333333333333, 0.18181818181818182, 0.09090909090909091, 1.0, 0.09090909090909091, 0.18181818181818182, 0.14285714285714285, 0.07692307692307693, 0.2727272727272727, 0.5, 0.2727272727272727, 0.08333333333333333, 0.25, 0.09090909090909091, 0.16666666666666666, 0.0, 0.0, 0.16666666666666666, 0.15384615384615385, 0.0, 0.08333333333333333, 0.08333333333333333, 0.08333333333333333, 0.2857142857142857, 0.16666666666666666, 0.23076923076923078, 0.047619047619047616, 0.05555555555555555, 0.04, 0.2727272727272727, 0.07692307692307693, 0.09090909090909091, 0.09090909090909091, 0.07692307692307693, 0.08333333333333333, 0.21428571428571427, 0.2727272727272727, 0.08333333333333333, 0.16666666666666666, 0.18181818181818182, 0.09090909090909091, 0.09090909090909091, 0.09090909090909091, 0.2727272727272727, 0.15384615384615385, 0.0, 0.08333333333333333, 0.09090909090909091, 0.08333333333333333, 0.2727272727272727, 0.21428571428571427, 0.08333333333333333, 0.21428571428571427], 'Firmware Engineer': [0.0, 0.0, 0.0, 0.0, 0.0, 0.045454545454545456, 0.09090909090909091, 0.0, 0.0, 0.0, 0.0, 0.0, 0.0, 0.0, 0.0, 0.0, 0.0, 0.5, 0.0, 0.0, 0.0, 0.0, 0.0, 0.0, 0.04, 0.1, 0.0, 0.0, 0.0, 0.0, 1.0, 0.0, 0.0, 0.08333333333333333, 0.0, 0.0, 0.0, 0.0, 0.0, 0.0, 0.0, 0.0, 0.0, 0.0, 0.0, 0.0, 0.0, 0.0, 0.0, 0.0, 0.0, 0.16666666666666666, 0.0, 0.0, 0.2, 0.1, 0.0, 0.0, 0.09090909090909091, 0.3333333333333333, 0.0, 0.0, 0.5, 0.09090909090909091, 0.125, 1.0, 0.25, 0.0, 0.0, 0.0, 0.0, 0.0, 0.0, 0.0625, 0.5, 0.0, 0.0, 0.0, 0.0, 0.0, 0.2, 0.0, 0.0, 0.0, 0.0, 0.0, 0.0, 0.07142857142857142, 1.0, 0.0, 0.0, 0.25, 0.25, 0.0, 0.058823529411764705, 0.0, 0.5, 0.0, 0.0, 0.0, 0.0, 0.0, 0.0, 0.0, 0.0, 0.125, 0.07692307692307693, 0.0, 0.0, 0.0, 0.5, 0.0, 0.0, 0.0, 0.1111111111111111, 0.0, 0.0, 0.0, 0.0, 0.0, 1.0, 0.0, 0.0, 0.5, 0.0, 0.0, 0.0, 0.0, 0.14285714285714285, 0.0, 0.0, 0.0, 0.0, 0.0, 0.2, 0.0, 0.0, 0.0, 0.0, 0.0, 0.1, 0.2, 0.0, 0.3333333333333333, 0.0, 0.3333333333333333, 0.0, 0.0, 0.0, 0.5, 0.0, 0.2, 0.5, 0.0, 0.0, 0.0, 0.0, 0.0, 0.0, 0.3333333333333333, 0.0, 0.0, 0.0, 0.5, 0.0, 0.3333333333333333, 0.0, 0.0, 0.0, 0.0, 0.5, 0.0, 0.09090909090909091, 1.0, 0.0, 0.0, 0.3333333333333333, 0.3333333333333333, 0.14285714285714285, 0.058823529411764705, 0.0, 0.0, 0.0, 0.3333333333333333, 0.0, 0.0, 0.0, 0.25, 0.0, 0.0, 0.0, 0.0, 0.14285714285714285, 0.0, 0.2, 0.030303030303030304, 0.0, 0.0, 0.058823529411764705, 0.0, 1.0, 0.0, 0.0, 0.0, 0.0, 0.3333333333333333, 0.0, 0.0, 0.5, 1.0, 1.0, 0.0, 0.3333333333333333, 0.0, 0.0, 0.0, 1.0, 0.0, 0.3333333333333333, 0.0, 0.0, 0.0], 'Dermatology Nurse': [0.0, 0.25, 0.3333333333333333, 0.0, 0.4, 0.043478260869565216, 0.08333333333333333, 0.05, 0.3333333333333333, 0.0, 0.0, 0.0, 0.25, 0.0, 0.0, 0.2, 0.0, 0.0, 0.16666666666666666, 0.0, 0.25, 0.0, 0.0, 0.0, 0.038461538461538464, 0.0, 0.07142857142857142, 0.0, 0.0, 0.0, 0.0, 0.2857142857142857, 0.0, 0.07692307692307693, 0.08333333333333333, 0.05555555555555555, 0.0, 0.2857142857142857, 0.0, 0.08333333333333333, 0.0, 0.25, 0.25, 0.0, 0.0, 0.0, 0.0, 0.0, 0.0, 0.3333333333333333, 0.0, 0.0, 0.0, 0.038461538461538464, 0.0, 0.0, 0.2857142857142857, 0.0, 0.08333333333333333, 0.25, 0.3333333333333333, 0.0, 0.3333333333333333, 0.08333333333333333, 0.1111111111111111, 0.0, 0.2, 0.3333333333333333, 0.0, 0.0, 0.5, 0.3333333333333333, 0.25, 0.058823529411764705, 0.0, 0.0, 0.0, 0.125, 0.07142857142857142, 0.0, 0.0, 0.14285714285714285, 0.0, 0.2, 0.0, 0.0, 0.0, 0.0, 0.0, 0.0, 0.0, 0.0, 0.5, 0.0, 0.05555555555555555, 0.5, 0.3333333333333333, 0.0, 0.0, 0.0, 0.0, 0.25, 0.25, 0.0, 0.0, 0.1111111111111111, 0.15384615384615385, 0.0, 0.0, 0.16666666666666666, 0.0, 0.3333333333333333, 0.08333333333333333, 0.0625, 0.1, 0.3333333333333333, 0.5, 0.3333333333333333, 0.5, 0.0, 0.0, 0.0, 0.0, 0.0, 0.25, 0.0, 0.2, 0.0, 0.2857142857142857, 0.3333333333333333, 0.2, 0.3333333333333333, 0.0, 0.3333333333333333, 0.16666666666666666, 0.0, 0.0625, 0.0, 0.1111111111111111, 0.0, 0.09090909090909091, 0.16666666666666666, 0.2, 0.25, 0.3333333333333333, 0.25, 0.0, 0.25, 0.0, 0.3333333333333333, 0.0, 0.16666666666666666, 0.3333333333333333, 0.16666666666666666, 0.0, 0.3333333333333333, 0.0, 0.0, 0.0, 0.0, 0.0, 0.3333333333333333, 0.2, 0.0, 0.08333333333333333, 0.25, 0.0, 0.0, 0.16666666666666666, 0.3333333333333333, 0.3333333333333333, 0.5, 0.18181818181818182, 0.0, 1.0, 0.4, 0.0, 0.25, 0.2857142857142857, 0.05555555555555555, 0.0, 0.2, 0.5, 0.0, 0.0, 0.0, 0.25, 0.2, 0.0, 0.3333333333333333, 0.0, 0.3333333333333333, 0.2857142857142857, 0.25, 0.16666666666666666, 0.0, 0.0, 0.0, 0.05555555555555555, 0.25, 0.0, 0.5, 0.0, 0.3333333333333333, 0.3333333333333333, 0.25, 0.0, 0.0, 0.3333333333333333, 0.0, 0.0, 0.0, 0.25, 0.5, 0.0, 0.3333333333333333, 0.0, 0.0, 0.25, 0.3333333333333333, 0.0, 0.3333333333333333], 'International Travel Consultant': [0.05263157894736842, 0.14285714285714285, 0.16666666666666666, 0.0, 0.25, 0.125, 0.06666666666666667, 0.14285714285714285, 0.16666666666666666, 0.07142857142857142, 0.0, 0.06666666666666667, 0.14285714285714285, 0.0, 0.0, 0.125, 0.0, 0.0, 0.1111111111111111, 0.07692307692307693, 0.14285714285714285, 0.0, 0.0, 0.09090909090909091, 0.07142857142857142, 0.07142857142857142, 0.125, 0.08333333333333333, 0.0, 0.0, 0.0, 0.2, 0.2, 0.21428571428571427, 0.14285714285714285, 0.15789473684210525, 0.09090909090909091, 0.2, 0.2, 0.14285714285714285, 0.125, 0.14285714285714285, 0.14285714285714285, 0.16666666666666666, 0.14285714285714285, 0.16666666666666666, 0.0, 0.0, 0.07692307692307693, 0.4, 0.0, 0.0, 0.0, 0.1111111111111111, 0.0, 0.15384615384615385, 0.2, 0.0, 0.06666666666666667, 0.14285714285714285, 0.16666666666666666, 0.25, 0.16666666666666666, 0.06666666666666667, 0.3, 0.0, 0.125, 0.16666666666666666, 0.0, 0.0, 0.2, 0.16666666666666666, 0.3333333333333333, 0.10526315789473684, 0.0, 0.09090909090909091, 0.1111111111111111, 0.09090909090909091, 0.058823529411764705, 0.0, 0.1111111111111111, 0.1, 0.08333333333333333, 0.125, 0.0, 0.0, 0.0, 0.05555555555555555, 0.0, 0.0, 0.2, 0.0, 0.2857142857142857, 0.0, 0.15789473684210525, 0.2, 0.16666666666666666, 0.0, 0.0, 0.08333333333333333, 0.125, 0.14285714285714285, 0.3333333333333333, 0.0, 0.14285714285714285, 0.18181818181818182, 0.2, 0.0, 0.0, 0.42857142857142855, 0.0, 0.4, 0.14285714285714285, 0.1111111111111111, 0.16666666666666666, 0.16666666666666666, 0.2, 0.2222222222222222, 0.2, 0.07142857142857142, 0.0, 0.05555555555555555, 0.0, 0.0, 0.14285714285714285, 0.0, 0.125, 0.0, 0.3333333333333333, 0.2222222222222222, 0.25, 0.4, 0.0, 0.16666666666666666, 0.25, 0.0, 0.1111111111111111, 0.07692307692307693, 0.18181818181818182, 0.1111111111111111, 0.15384615384615385, 0.25, 0.2857142857142857, 0.14285714285714285, 0.16666666666666666, 0.14285714285714285, 0.0, 0.14285714285714285, 0.0, 0.16666666666666666, 0.0, 0.1111111111111111, 0.16666666666666666, 0.1111111111111111, 0.0, 0.16666666666666666, 0.0, 0.2, 0.05555555555555555, 0.0, 0.1, 0.2222222222222222, 0.125, 0.0, 0.14285714285714285, 0.14285714285714285, 0.0, 0.0, 0.42857142857142855, 0.16666666666666666, 0.16666666666666666, 0.2, 0.14285714285714285, 0.0, 0.4, 1.0, 0.0, 0.14285714285714285, 0.2, 0.15789473684210525, 0.0, 0.125, 0.2, 0.0, 0.0, 0.0, 0.3333333333333333, 0.125, 0.2, 0.16666666666666666, 0.0, 0.16666666666666666, 0.2, 0.3333333333333333, 0.25, 0.02702702702702703, 0.0, 0.05263157894736842, 0.15789473684210525, 0.3333333333333333, 0.0, 0.2, 0.0, 0.4, 0.2222222222222222, 0.14285714285714285, 0.0, 0.0, 0.16666666666666666, 0.0, 0.0, 0.0, 0.14285714285714285, 0.2857142857142857, 0.2, 0.16666666666666666, 0.0, 0.0, 0.14285714285714285, 0.2222222222222222, 0.0, 0.2222222222222222], 'Production Assistant Events': [0.0, 0.0, 0.0, 0.0, 0.0, 0.041666666666666664, 0.07692307692307693, 0.0, 0.0, 0.037037037037037035, 0.0, 0.0, 0.0, 0.0, 0.0, 0.0, 0.0, 0.25, 0.0, 0.0, 0.0, 0.0, 0.0, 0.0, 0.037037037037037035, 0.08333333333333333, 0.0, 0.0, 0.0, 0.0, 0.3333333333333333, 0.0, 0.0, 0.07142857142857142, 0.0, 0.0, 0.0, 0.0, 0.0, 0.0, 0.0, 0.0, 0.0, 0.0, 0.0, 0.0, 0.0, 0.08333333333333333, 0.0, 0.0, 0.0, 0.125, 0.08333333333333333, 0.0, 0.14285714285714285, 0.08333333333333333, 0.0, 0.0, 0.07692307692307693, 0.2, 0.0, 0.0, 0.25, 0.07692307692307693, 0.1, 0.3333333333333333, 0.16666666666666666, 0.0, 0.0, 0.0, 0.0, 0.0, 0.0, 0.05555555555555555, 0.25, 0.0, 0.0, 0.0, 0.0, 0.0, 0.14285714285714285, 0.0, 0.0, 0.0, 0.0, 0.0, 0.0, 0.0625, 0.3333333333333333, 0.0, 0.0, 0.16666666666666666, 0.16666666666666666, 0.0, 0.05263157894736842, 0.0, 0.25, 0.0, 0.0, 0.0, 0.0, 0.0, 0.0, 0.0, 0.0, 0.1, 0.06666666666666667, 0.0, 0.07692307692307693, 0.0, 0.25, 0.0, 0.0, 0.0, 0.09090909090909091, 0.0, 0.0, 0.0, 0.0, 0.0, 0.3333333333333333, 0.0, 0.0, 0.25, 0.0, 0.0, 0.0, 0.0, 0.1111111111111111, 0.0, 0.0, 0.0, 0.0, 0.0, 0.14285714285714285, 0.0, 0.0, 0.0, 0.0, 0.0, 0.08333333333333333, 0.14285714285714285, 0.0, 0.2, 0.0, 0.2, 0.0, 0.0, 0.0, 0.25, 0.0, 0.14285714285714285, 0.25, 0.0, 0.0, 0.0, 0.0, 0.0, 0.0, 0.2, 0.0, 0.0, 0.0, 0.25, 0.0, 0.2, 0.0, 0.0, 0.0, 0.0, 0.25, 0.0, 0.07692307692307693, 0.3333333333333333, 0.0, 0.0, 1.0, 0.2, 0.1111111111111111, 0.05263157894736842, 0.0, 0.0, 0.0, 0.2, 0.0, 0.0, 0.0, 0.16666666666666666, 0.0, 0.0, 0.0, 0.0, 0.1111111111111111, 0.0, 0.14285714285714285, 0.02857142857142857, 0.0, 0.0, 0.05263157894736842, 0.0, 0.3333333333333333, 0.0, 0.0, 0.0, 0.0, 0.2, 0.0, 0.0, 0.25, 0.3333333333333333, 0.3333333333333333, 0.0, 0.2, 0.0, 0.0, 0.0, 0.3333333333333333, 0.0, 0.2, 0.0, 0.0, 0.0], 'Alarm Technician': [0.0, 0.2, 0.0, 0.0, 0.14285714285714285, 0.08695652173913043, 0.07692307692307693, 0.0, 0.0, 0.0, 0.0, 0.0, 0.0, 0.0, 0.0, 0.0, 0.0, 0.25, 0.0, 0.0, 0.2, 0.0, 0.0, 0.0, 0.07692307692307693, 0.08333333333333333, 0.0, 0.0, 0.14285714285714285, 0.14285714285714285, 0.3333333333333333, 0.1111111111111111, 0.0, 0.15384615384615385, 0.0, 0.0, 0.0, 0.1111111111111111, 0.0, 0.0, 0.0, 0.0, 0.2, 0.0, 0.0, 0.0, 0.0, 0.0, 0.0, 0.0, 0.0, 0.2857142857142857, 0.0, 0.0, 0.14285714285714285, 0.18181818181818182, 0.1111111111111111, 0.0, 0.07692307692307693, 0.2, 0.25, 0.0, 0.25, 0.16666666666666666, 0.1, 0.3333333333333333, 0.16666666666666666, 0.0, 0.0, 0.0, 0.0, 0.0, 0.2, 0.05555555555555555, 0.25, 0.0, 0.0, 0.0, 0.0, 0.0, 0.14285714285714285, 0.125, 0.0, 0.0, 0.0, 0.0, 0.0, 0.0625, 0.3333333333333333, 0.0, 0.0, 0.4, 0.75, 0.0, 0.05263157894736842, 0.0, 0.25, 0.0, 0.0, 0.0, 0.0, 0.0, 0.0, 0.14285714285714285, 0.0, 0.2222222222222222, 0.14285714285714285, 0.0, 0.0, 0.0, 0.25, 0.0, 0.0, 0.0, 0.09090909090909091, 0.0, 0.3333333333333333, 0.125, 0.0, 0.08333333333333333, 0.3333333333333333, 0.0, 0.14285714285714285, 0.25, 0.0, 0.0, 0.16666666666666666, 0.0, 0.25, 0.125, 0.08333333333333333, 0.25, 0.0, 0.25, 0.14285714285714285, 0.0, 0.0, 0.09090909090909091, 0.0, 0.14285714285714285, 0.08333333333333333, 0.14285714285714285, 0.0, 1.0, 0.0, 1.0, 0.0, 0.2, 0.0, 0.25, 0.2, 0.14285714285714285, 0.25, 0.0, 0.0, 0.0, 0.0, 0.0, 0.0625, 0.2, 0.0, 0.125, 0.0, 0.25, 0.0, 1.0, 0.0, 0.14285714285714285, 0.0, 0.0, 0.25, 0.0, 0.2727272727272727, 0.3333333333333333, 0.25, 0.14285714285714285, 0.2, 1.0, 0.25, 0.05263157894736842, 0.0, 0.0, 0.0, 0.5, 0.0, 0.0, 0.0, 0.16666666666666666, 0.0, 0.25, 0.0, 0.0, 0.25, 0.0, 0.14285714285714285, 0.02857142857142857, 0.1, 0.0, 0.05263157894736842, 0.0, 0.3333333333333333, 0.0, 0.0, 0.0, 0.125, 1.0, 0.25, 0.2, 0.25, 0.3333333333333333, 0.3333333333333333, 0.0, 1.0, 0.16666666666666666, 0.0, 0.25, 0.3333333333333333, 0.0, 1.0, 0.125, 0.0, 0.125], 'Sports Physician': [0.047619047619047616, 0.25, 0.125, 0.0, 0.3333333333333333, 0.07407407407407407, 0.2, 0.08333333333333333, 0.125, 0.03225806451612903, 0.0, 0.0, 0.25, 0.0, 0.0, 0.1, 0.0, 0.2857142857142857, 0.09090909090909091, 0.0, 0.25, 0.125, 0.125, 0.0, 0.14285714285714285, 0.13333333333333333, 0.1111111111111111, 0.0, 0.09090909090909091, 0.09090909090909091, 0.14285714285714285, 0.2727272727272727, 0.0, 0.1875, 0.2, 0.09090909090909091, 0.0, 0.4, 0.0, 0.2, 0.0, 0.1111111111111111, 0.1111111111111111, 0.0, 0.1111111111111111, 0.0, 0.125, 0.0625, 0.06666666666666667, 0.125, 0.0, 0.18181818181818182, 0.0625, 0.14285714285714285, 0.2, 0.13333333333333333, 0.4, 0.14285714285714285, 0.2, 0.42857142857142855, 0.2857142857142857, 0.0, 0.2857142857142857, 0.2, 0.15384615384615385, 0.14285714285714285, 0.2222222222222222, 0.125, 0.14285714285714285, 0.14285714285714285, 0.14285714285714285, 0.2857142857142857, 0.1111111111111111, 0.15, 0.125, 0.0, 0.0, 0.07692307692307693, 0.1111111111111111, 0.0, 0.2, 0.18181818181818182, 0.0, 0.375, 0.07142857142857142, 0.047619047619047616, 0.0, 0.05, 0.14285714285714285, 0.125, 0.0, 0.2222222222222222, 0.375, 0.0, 0.2631578947368421, 0.14285714285714285, 0.2857142857142857, 0.0, 0.2222222222222222, 0.0, 0.0, 0.25, 0.25, 0.09090909090909091, 0.0, 0.15384615384615385, 0.25, 0.1111111111111111, 0.058823529411764705, 0.2, 0.125, 0.125, 0.2, 0.1, 0.23076923076923078, 0.125, 0.14285714285714285, 0.3, 0.14285714285714285, 0.0, 0.14285714285714285, 0.10526315789473684, 0.09090909090909091, 0.125, 0.25, 0.0, 0.1, 0.0, 0.4, 0.3, 0.21428571428571427, 0.125, 0.14285714285714285, 0.125, 0.2, 0.125, 0.1, 0.0, 0.07142857142857142, 0.0, 0.13333333333333333, 0.5, 0.2222222222222222, 0.25, 0.125, 0.25, 0.0, 0.25, 0.14285714285714285, 0.2857142857142857, 0.1111111111111111, 0.2, 0.2857142857142857, 0.2, 0.125, 0.125, 0.0, 0.0, 0.05, 0.1111111111111111, 0.0, 0.3, 0.375, 0.125, 0.2, 0.25, 0.14285714285714285, 0.09090909090909091, 0.2, 0.125, 0.2857142857142857, 0.14285714285714285, 0.5, 0.14285714285714285, 0.2857142857142857, 0.2, 0.1111111111111111, 0.25, 1.0, 0.2631578947368421, 0.125, 0.375, 0.14285714285714285, 0.1111111111111111, 0.0, 0.0, 0.25, 0.2222222222222222, 0.0, 0.125, 0.125, 0.125, 0.4, 0.25, 0.2, 0.05263157894736842, 0.0, 0.047619047619047616, 0.2631578947368421, 0.1111111111111111, 0.14285714285714285, 0.14285714285714285, 0.1111111111111111, 0.125, 0.3, 0.25, 0.0, 0.1111111111111111, 0.2857142857142857, 0.14285714285714285, 0.14285714285714285, 0.14285714285714285, 0.25, 0.2222222222222222, 0.0, 0.125, 0.14285714285714285, 0.125, 0.25, 0.3, 0.125, 0.3], 'Guest Room Sales Manager': [0.14285714285714285, 0.1111111111111111, 0.11764705882352941, 0.058823529411764705, 0.1, 0.11428571428571428, 0.21739130434782608, 0.16129032258064516, 0.05555555555555555, 0.16666666666666666, 0.05555555555555555, 0.0, 0.1111111111111111, 0.0, 0.0, 0.16666666666666666, 0.0, 0.11764705882352941, 0.15789473684210525, 0.13043478260869565, 0.1111111111111111, 0.05555555555555555, 0.05555555555555555, 0.09090909090909091, 0.13513513513513514, 0.08, 0.2, 0.0, 0.047619047619047616, 0.047619047619047616, 0.058823529411764705, 0.14285714285714285, 0.058823529411764705, 0.16, 0.3333333333333333, 0.0967741935483871, 0.09090909090909091, 0.2, 0.043478260869565216, 0.3333333333333333, 0.05, 0.1111111111111111, 0.05263157894736842, 0.11764705882352941, 0.17647058823529413, 0.11764705882352941, 0.05555555555555555, 0.125, 0.04, 0.11764705882352941, 0.0, 0.09523809523809523, 0.125, 0.3125, 0.15789473684210525, 0.08, 0.2, 0.058823529411764705, 0.21739130434782608, 0.17647058823529413, 0.05555555555555555, 0.047619047619047616, 0.11764705882352941, 0.07692307692307693, 0.3157894736842105, 0.058823529411764705, 0.10526315789473684, 0.05555555555555555, 0.058823529411764705, 0.058823529411764705, 0.058823529411764705, 0.11764705882352941, 0.05263157894736842, 0.2692307692307692, 0.05555555555555555, 0.09090909090909091, 0.0, 0.043478260869565216, 0.2, 0.05555555555555555, 0.047619047619047616, 0.09523809523809523, 0.0, 0.16666666666666666, 0.08695652173913043, 0.06666666666666667, 0.0, 0.24, 0.058823529411764705, 0.05555555555555555, 0.058823529411764705, 0.16666666666666666, 0.10526315789473684, 0.058823529411764705, 1.0, 0.058823529411764705, 0.11764705882352941, 0.0, 0.10526315789473684, 0.0, 0.0, 0.1111111111111111, 0.17647058823529413, 0.047619047619047616, 0.05263157894736842, 0.08695652173913043, 0.2, 0.1111111111111111, 0.12, 0.2222222222222222, 0.05555555555555555, 0.11764705882352941, 0.3333333333333333, 0.10344827586206896, 0.18181818181818182, 0.05555555555555555, 0.0, 0.15, 0.058823529411764705, 0.0, 0.058823529411764705, 0.03333333333333333, 0.047619047619047616, 0.05555555555555555, 0.1111111111111111, 0.058823529411764705, 0.10526315789473684, 0.0, 0.2, 0.15, 0.125, 0.05555555555555555, 0.058823529411764705, 0.05555555555555555, 0.2222222222222222, 0.11764705882352941, 0.14285714285714285, 0.04, 0.041666666666666664, 0.047619047619047616, 0.2857142857142857, 0.2222222222222222, 0.23529411764705882, 0.05263157894736842, 0.11764705882352941, 0.05263157894736842, 0.058823529411764705, 0.1111111111111111, 0.058823529411764705, 0.11764705882352941, 0.05263157894736842, 0.2222222222222222, 0.11764705882352941, 0.1, 0.05555555555555555, 0.05555555555555555, 0.0, 0.058823529411764705, 0.10714285714285714, 0.1111111111111111, 0.045454545454545456, 0.15, 0.16666666666666666, 0.11764705882352941, 0.3333333333333333, 0.05263157894736842, 0.058823529411764705, 0.047619047619047616, 0.2222222222222222, 0.05555555555555555, 0.11764705882352941, 0.058823529411764705, 0.2727272727272727, 0.058823529411764705, 0.05555555555555555, 0.15789473684210525, 0.05263157894736842, 0.05263157894736842, 0.2631578947368421, 1.0, 0.05555555555555555, 0.16666666666666666, 0.058823529411764705, 0.05263157894736842, 0.0, 0.0, 0.17647058823529413, 0.10526315789473684, 0.058823529411764705, 0.05555555555555555, 0.05555555555555555, 0.05555555555555555, 0.14285714285714285, 0.17647058823529413, 0.2222222222222222, 0.1111111111111111, 0.0, 0.06666666666666667, 1.0, 0.1111111111111111, 0.058823529411764705, 0.058823529411764705, 0.1111111111111111, 0.11764705882352941, 0.15, 0.05263157894736842, 0.0, 0.05263157894736842, 0.11764705882352941, 0.058823529411764705, 0.058823529411764705, 0.058823529411764705, 0.05263157894736842, 0.10526315789473684, 0.058823529411764705, 0.05555555555555555, 0.058823529411764705, 0.11764705882352941, 0.05263157894736842, 0.15, 0.05555555555555555, 0.15], 'Hunting Guide': [0.0, 0.0, 0.0, 0.0, 0.4, 0.043478260869565216, 0.18181818181818182, 0.10526315789473684, 0.0, 0.08, 0.0, 0.08333333333333333, 0.6666666666666666, 0.5, 0.25, 0.0, 0.3333333333333333, 0.0, 0.16666666666666666, 0.0, 0.0, 0.0, 0.3333333333333333, 0.0, 0.08, 0.0, 0.07142857142857142, 0.1111111111111111, 0.4, 0.4, 0.0, 0.0, 0.0, 0.07692307692307693, 0.18181818181818182, 0.05555555555555555, 0.0, 0.2857142857142857, 0.125, 0.18181818181818182, 0.0, 0.0, 0.0, 0.0, 0.0, 0.0, 0.3333333333333333, 0.09090909090909091, 0.0, 0.0, 0.1111111111111111, 0.3333333333333333, 0.09090909090909091, 0.08, 0.0, 0.09090909090909091, 0.2857142857142857, 0.5, 0.18181818181818182, 0.25, 0.3333333333333333, 0.0, 0.0, 0.08333333333333333, 0.0, 0.0, 0.2, 0.0, 0.5, 0.0, 0.0, 0.0, 0.0, 0.058823529411764705, 0.0, 0.0, 0.0, 0.0, 0.07142857142857142, 0.0, 0.16666666666666666, 0.3333333333333333, 0.0, 0.2, 0.1111111111111111, 0.0, 0.0, 0.06666666666666667, 0.0, 0.3333333333333333, 0.0, 0.0, 0.0, 0.0, 0.05555555555555555, 0.0, 0.0, 0.5, 0.5, 0.1111111111111111, 0.2, 0.0, 0.0, 0.4, 0.0, 0.0, 0.0, 0.0, 0.18181818181818182, 0.16666666666666666, 0.3333333333333333, 0.0, 0.18181818181818182, 0.0625, 0.2222222222222222, 0.0, 0.0, 0.0, 0.0, 0.09090909090909091, 0.0, 0.06666666666666667, 0.4, 0.0, 0.0, 0.0, 0.0, 0.14285714285714285, 0.0, 0.0, 0.09090909090909091, 0.0, 0.5, 0.0, 0.0, 0.3333333333333333, 0.0, 0.0, 0.0, 0.0, 0.09090909090909091, 0.0, 0.0, 0.0, 0.0, 0.0, 0.0, 0.0, 0.0, 0.0, 0.0, 0.0, 0.0, 0.0, 0.0, 0.0, 0.0, 0.0, 0.14285714285714285, 0.0, 0.0, 0.0, 0.2, 0.0, 0.18181818181818182, 0.0, 0.0, 0.4, 0.16666666666666666, 0.0, 0.0, 0.0, 0.08333333333333333, 0.0, 0.0, 0.0, 0.0, 0.0, 0.125, 0.05555555555555555, 1.0, 0.2, 0.0, 0.0, 0.0, 0.0, 0.0, 0.2, 0.0, 0.0, 0.3333333333333333, 0.0, 0.0, 0.0, 0.0, 0.029411764705882353, 0.1111111111111111, 0.13333333333333333, 0.05555555555555555, 0.0, 0.0, 0.0, 0.0, 0.0, 0.0, 0.0, 0.0, 0.0, 0.0, 0.0, 0.0, 0.0, 0.0, 0.0, 0.0, 0.0, 0.0, 0.3333333333333333, 0.0, 0.0, 1.0, 0.0], 'Server': [0.0, 0.4, 0.2, 0.0, 0.2857142857142857, 0.04, 0.15384615384615385, 0.09523809523809523, 0.5, 0.03571428571428571, 0.0, 0.0, 0.4, 0.0, 0.0, 0.14285714285714285, 0.0, 0.2, 0.125, 0.0, 0.4, 0.5, 0.5, 0.0, 0.07407407407407407, 0.0, 0.0625, 0.09090909090909091, 0.2857142857142857, 0.2857142857142857, 0.0, 0.375, 0.0, 0.14285714285714285, 0.36363636363636365, 0.05, 0.0, 0.375, 0.0, 0.36363636363636365, 0.0, 0.16666666666666666, 0.0, 0.0, 0.16666666666666666, 0.0, 0.5, 0.07692307692307693, 0.0, 0.2, 0.0, 0.25, 0.07692307692307693, 0.16, 0.125, 0.07692307692307693, 0.375, 0.25, 0.15384615384615385, 0.4, 0.2, 0.0, 0.2, 0.07142857142857142, 0.2, 0.0, 0.14285714285714285, 0.2, 0.25, 0.25, 0.25, 0.5, 0.0, 0.17647058823529413, 0.0, 0.0, 0.0, 0.1, 0.13333333333333333, 0.0, 0.0, 0.42857142857142855, 0.0, 1.0, 0.2, 0.05555555555555555, 0.125, 0.0, 0.0, 0.5, 0.0, 0.14285714285714285, 0.14285714285714285, 0.0, 0.16666666666666666, 0.25, 0.2, 0.0, 0.6, 0.09090909090909091, 0.0, 0.4, 0.4, 0.2857142857142857, 0.0, 0.0, 0.21428571428571427, 0.4, 0.07142857142857142, 0.2857142857142857, 0.0, 0.2, 0.36363636363636365, 0.11764705882352941, 0.18181818181818182, 0.5, 0.0, 0.42857142857142855, 0.25, 0.07692307692307693, 0.0, 0.058823529411764705, 0.2857142857142857, 0.0, 0.4, 0.0, 0.0, 0.0, 0.1, 0.42857142857142855, 0.16666666666666666, 0.0, 0.25, 0.0, 0.125, 0.2, 0.11764705882352941, 0.08333333333333333, 0.2, 0.125, 0.07692307692307693, 0.2857142857142857, 0.3333333333333333, 0.0, 0.2, 0.0, 0.0, 0.4, 0.0, 0.2, 0.4, 0.125, 0.2, 0.2857142857142857, 0.2, 0.2, 0.0, 0.0, 0.058823529411764705, 0.0, 0.0, 0.42857142857142855, 1.0, 0.0, 0.36363636363636365, 0.0, 0.25, 0.2857142857142857, 0.2857142857142857, 0.5, 0.2, 0.25, 0.25, 0.0, 0.2, 0.125, 0.0, 0.0, 0.375, 0.16666666666666666, 0.2, 1.0, 0.25, 0.0, 0.0, 0.0, 0.4, 0.14285714285714285, 0.0, 0.0, 0.5, 0.2, 0.375, 0.4, 0.125, 0.027777777777777776, 0.0, 0.11764705882352941, 0.16666666666666666, 0.16666666666666666, 0.0, 0.25, 0.4, 0.2, 0.42857142857142855, 0.0, 0.0, 0.4, 0.2, 0.0, 0.0, 0.25, 0.0, 0.14285714285714285, 0.0, 0.0, 0.0, 0.2, 0.0, 0.42857142857142855, 0.2, 0.42857142857142855], 'Guest Services Agent': [0.0, 0.3333333333333333, 0.5, 0.0, 0.2, 0.045454545454545456, 0.09090909090909091, 0.05263157894736842, 0.5, 0.0, 0.0, 0.0, 0.3333333333333333, 0.0, 0.0, 0.25, 0.0, 0.0, 0.2, 0.0, 0.3333333333333333, 0.0, 0.0, 0.0, 0.04, 0.0, 0.07692307692307693, 0.0, 0.0, 0.0, 0.0, 0.14285714285714285, 0.0, 0.08333333333333333, 0.09090909090909091, 0.058823529411764705, 0.0, 0.14285714285714285, 0.0, 0.09090909090909091, 0.0, 0.3333333333333333, 0.0, 0.0, 0.0, 0.0, 0.0, 0.0, 0.0, 0.5, 0.0, 0.0, 0.0, 0.04, 0.0, 0.0, 0.14285714285714285, 0.0, 0.09090909090909091, 0.3333333333333333, 0.0, 0.0, 0.5, 0.0, 0.125, 0.0, 0.25, 0.5, 0.0, 0.0, 1.0, 0.5, 0.0, 0.0625, 0.0, 0.0, 0.0, 0.14285714285714285, 0.07692307692307693, 0.0, 0.0, 0.16666666666666666, 0.0, 0.25, 0.0, 0.0, 0.0, 0.0, 0.0, 0.0, 0.0, 0.0, 0.25, 0.0, 0.058823529411764705, 1.0, 0.5, 0.0, 0.0, 0.0, 0.0, 0.3333333333333333, 0.3333333333333333, 0.0, 0.0, 0.0, 0.07692307692307693, 0.0, 0.0, 0.2, 0.0, 0.5, 0.09090909090909091, 0.06666666666666667, 0.1111111111111111, 0.5, 0.0, 0.16666666666666666, 1.0, 0.0, 0.0, 0.0, 0.0, 0.0, 0.3333333333333333, 0.0, 0.0, 0.0, 0.14285714285714285, 0.16666666666666666, 0.1, 0.0, 0.0, 0.0, 0.2, 0.0, 0.06666666666666667, 0.0, 0.125, 0.0, 0.1, 0.2, 0.25, 0.0, 0.5, 0.0, 0.0, 0.3333333333333333, 0.0, 0.5, 0.0, 0.2, 0.5, 0.2, 0.0, 0.5, 0.0, 0.0, 0.0, 0.0, 0.0, 0.16666666666666666, 0.25, 0.0, 0.09090909090909091, 0.0, 0.0, 0.0, 0.2, 0.5, 0.5, 1.0, 0.09090909090909091, 0.0, 0.5, 0.2, 0.0, 0.0, 0.14285714285714285, 0.058823529411764705, 0.0, 0.25, 1.0, 0.0, 0.0, 0.0, 0.3333333333333333, 0.25, 0.0, 0.0, 0.0, 0.5, 0.14285714285714285, 0.3333333333333333, 0.2, 0.0, 0.0, 0.0, 0.058823529411764705, 0.3333333333333333, 0.0, 1.0, 0.0, 0.5, 0.16666666666666666, 0.0, 0.0, 0.0, 0.5, 0.0, 0.0, 0.0, 0.0, 0.25, 0.0, 0.0, 0.0, 0.0, 0.0, 0.16666666666666666, 0.0, 0.16666666666666666], 'Wedding Sales Manager': [0.0, 0.2, 0.0, 0.0, 0.0, 0.08695652173913043, 0.07692307692307693, 0.0, 0.0, 0.037037037037037035, 0.0, 0.0, 0.0, 0.0, 0.0, 0.0, 0.0, 0.25, 0.0, 0.0, 0.2, 0.0, 0.0, 0.0, 0.07692307692307693, 0.08333333333333333, 0.0, 0.0, 0.14285714285714285, 0.14285714285714285, 0.3333333333333333, 0.0, 0.0, 0.15384615384615385, 0.0, 0.0, 0.0, 0.0, 0.0, 0.0, 0.0, 0.0, 0.0, 0.0, 0.0, 0.0, 0.0, 0.0, 0.0, 0.0, 0.0, 0.2857142857142857, 0.0, 0.0, 0.14285714285714285, 0.18181818181818182, 0.0, 0.0, 0.07692307692307693, 0.2, 0.0, 0.0, 0.25, 0.07692307692307693, 0.1, 0.3333333333333333, 0.16666666666666666, 0.0, 0.0, 0.0, 0.0, 0.0, 0.0, 0.05555555555555555, 0.25, 0.0, 0.0, 0.0, 0.0, 0.0, 0.14285714285714285, 0.125, 0.0, 0.0, 0.0, 0.0, 0.0, 0.0625, 0.3333333333333333, 0.0, 0.0, 0.4, 0.4, 0.0, 0.05263157894736842, 0.0, 0.25, 0.0, 0.0, 0.0, 0.0, 0.0, 0.0, 0.14285714285714285, 0.0, 0.1, 0.06666666666666667, 0.0, 0.0, 0.0, 0.25, 0.0, 0.0, 0.058823529411764705, 0.09090909090909091, 0.0, 0.0, 0.0, 0.0, 0.08333333333333333, 0.3333333333333333, 0.0, 0.14285714285714285, 0.25, 0.0, 0.0, 0.0, 0.0, 0.1111111111111111, 0.0, 0.0, 0.0, 0.0, 0.0, 0.14285714285714285, 0.0, 0.0, 0.2, 0.0, 0.3333333333333333, 0.08333333333333333, 0.14285714285714285, 0.0, 0.5, 0.0, 0.5, 0.0, 0.2, 0.0, 0.25, 0.2, 0.14285714285714285, 0.25, 0.0, 0.0, 0.0, 0.0, 0.0, 0.0625, 0.2, 0.0, 0.0, 0.0, 0.25, 0.0, 0.5, 0.0, 0.14285714285714285, 0.0, 0.0, 0.25, 0.0, 0.16666666666666666, 0.3333333333333333, 0.0, 0.0, 0.2, 0.5, 0.1111111111111111, 0.05263157894736842, 0.0, 0.0, 0.0, 1.0, 0.3333333333333333, 0.3333333333333333, 0.0, 0.16666666666666666, 0.0, 0.0, 0.0, 0.25, 0.1111111111111111, 0.0, 0.14285714285714285, 0.058823529411764705, 0.1, 0.0, 0.05263157894736842, 0.2, 0.3333333333333333, 0.0, 0.0, 0.0, 0.0, 0.5, 0.25, 0.2, 0.25, 0.3333333333333333, 0.3333333333333333, 0.0, 0.5, 0.0, 0.0, 0.0, 0.3333333333333333, 0.0, 0.5, 0.0, 0.0, 0.0], 'Concierge?': [0.0, 0.0, 0.0, 0.0, 0.0, 0.0, 0.0, 0.0, 0.0, 0.04, 0.0, 0.0, 0.0, 0.0, 0.0, 0.0, 0.0, 0.0, 0.0, 0.0, 0.0, 0.0, 0.0, 0.0, 0.0, 0.0, 0.0, 0.0, 0.0, 0.0, 0.0, 0.0, 0.0, 0.0, 0.0, 0.0, 0.0, 0.0, 0.0, 0.0, 0.0, 0.0, 0.0, 0.0, 0.0, 0.0, 0.0, 0.0, 0.0, 0.0, 0.0, 0.0, 0.0, 0.0, 0.0, 0.0, 0.0, 0.0, 0.0, 0.0, 0.0, 0.0, 0.0, 0.0, 0.0, 0.0, 0.0, 0.0, 0.0, 0.0, 0.0, 0.0, 0.0, 0.0, 0.0, 0.0, 0.0, 0.0, 0.0, 0.0, 0.0, 0.0, 0.0, 0.0, 0.0, 0.0, 0.0, 0.0, 0.0, 0.0, 0.0, 0.0, 0.0, 0.0, 0.0, 0.0, 0.0, 0.0, 0.0, 0.0, 0.0, 0.0, 0.0, 0.0, 0.0, 0.0, 0.0, 0.0, 0.0, 0.0, 0.0, 0.0, 0.0, 0.06666666666666667, 0.0, 0.0, 0.0, 0.0, 0.0, 0.0, 0.0, 0.0, 0.0, 0.0, 0.0, 0.0, 0.0, 0.0, 0.0, 0.0, 0.0, 0.0, 0.0, 0.0, 0.0, 0.0, 0.0, 0.1111111111111111, 0.0, 0.2, 0.0, 0.0, 0.0, 0.0, 0.0, 0.0, 0.0, 0.0, 0.0, 0.0, 0.0, 0.0, 0.0, 0.0, 0.0, 0.0, 0.0, 0.0, 0.0, 0.0, 0.0, 0.0, 0.0, 0.0, 0.0, 0.0, 0.0, 0.0, 0.0, 0.0, 0.0, 0.0, 0.0, 0.0, 0.0, 0.0, 0.0, 0.0, 0.0, 0.0, 0.0, 0.0, 0.0, 0.3333333333333333, 1.0, 1.0, 0.0, 0.0, 0.0, 0.0, 0.0, 0.5, 0.0, 0.0, 0.0, 0.030303030303030304, 0.0, 0.0, 0.0, 0.3333333333333333, 0.0, 0.0, 0.0, 0.0, 0.0, 0.0, 0.0, 0.0, 0.0, 0.0, 0.0, 0.0, 0.0, 0.0, 0.0, 0.0, 0.0, 0.0, 0.0, 0.0, 0.0, 0.0], 'Industrial Technology Teacher': [0.0, 0.0, 0.0, 0.0, 0.0, 0.0, 0.0, 0.0, 0.0, 0.04, 0.0, 0.0, 0.0, 0.0, 0.0, 0.0, 0.0, 0.0, 0.0, 0.0, 0.0, 0.0, 0.0, 0.0, 0.0, 0.0, 0.0, 0.0, 0.0, 0.0, 0.0, 0.0, 0.0, 0.0, 0.0, 0.0, 0.0, 0.0, 0.0, 0.0, 0.0, 0.0, 0.0, 0.0, 0.0, 0.0, 0.0, 0.0, 0.0, 0.0, 0.0, 0.0, 0.0, 0.0, 0.0, 0.0, 0.0, 0.0, 0.0, 0.0, 0.0, 0.0, 0.0, 0.0, 0.0, 0.0, 0.0, 0.0, 0.0, 0.0, 0.0, 0.0, 0.0, 0.0, 0.0, 0.0, 0.0, 0.0, 0.0, 0.0, 0.0, 0.0, 0.0, 0.0, 0.0, 0.0, 0.0, 0.0, 0.0, 0.0, 0.0, 0.0, 0.0, 0.0, 0.0, 0.0, 0.0, 0.0, 0.0, 0.0, 0.0, 0.0, 0.0, 0.0, 0.0, 0.0, 0.0, 0.0, 0.0, 0.0, 0.0, 0.0, 0.0, 0.06666666666666667, 0.0, 0.0, 0.0, 0.0, 0.0, 0.0, 0.0, 0.0, 0.0, 0.0, 0.0, 0.0, 0.0, 0.0, 0.0, 0.0, 0.0, 0.0, 0.0, 0.0, 0.0, 0.0, 0.0, 0.1111111111111111, 0.0, 0.2, 0.0, 0.0, 0.0, 0.0, 0.0, 0.0, 0.0, 0.0, 0.0, 0.0, 0.0, 0.0, 0.0, 0.0, 0.0, 0.0, 0.0, 0.0, 0.0, 0.0, 0.0, 0.0, 0.0, 0.0, 0.0, 0.0, 0.0, 0.0, 0.0, 0.0, 0.0, 0.0, 0.0, 0.0, 0.0, 0.0, 0.0, 0.0, 0.0, 0.0, 0.0, 0.0, 0.0, 0.3333333333333333, 1.0, 1.0, 0.0, 0.0, 0.0, 0.0, 0.0, 0.5, 0.0, 0.0, 0.0, 0.030303030303030304, 0.0, 0.0, 0.0, 0.3333333333333333, 0.0, 0.0, 0.0, 0.0, 0.0, 0.0, 0.0, 0.0, 0.0, 0.0, 0.0, 0.0, 0.0, 0.0, 0.0, 0.0, 0.0, 0.0, 0.0, 0.0, 0.0, 0.0], 'Front Desk Clerk': [0.0, 0.5, 0.25, 0.0, 0.14285714285714285, 0.08695652173913043, 0.07692307692307693, 0.1, 0.25, 0.037037037037037035, 0.0, 0.0, 0.2, 0.0, 0.0, 0.16666666666666666, 0.0, 0.25, 0.14285714285714285, 0.09090909090909091, 0.5, 0.25, 0.0, 0.1111111111111111, 0.037037037037037035, 0.0, 0.06666666666666667, 0.0, 0.0, 0.0, 0.0, 0.25, 0.3333333333333333, 0.15384615384615385, 0.2727272727272727, 0.1111111111111111, 0.1111111111111111, 0.25, 0.1111111111111111, 0.2727272727272727, 0.0, 0.2, 0.0, 0.25, 0.5, 0.25, 0.0, 0.0, 0.0, 0.6666666666666666, 0.0, 0.0, 0.0, 0.12, 0.14285714285714285, 0.08333333333333333, 0.25, 0.0, 0.07692307692307693, 0.2, 0.0, 0.14285714285714285, 0.25, 0.0, 0.2222222222222222, 0.0, 0.16666666666666666, 0.25, 0.0, 0.3333333333333333, 0.3333333333333333, 0.6666666666666666, 0.2, 0.11764705882352941, 0.0, 0.1111111111111111, 0.0, 0.1111111111111111, 0.06666666666666667, 0.0, 0.0, 0.125, 0.0, 0.4, 0.1, 0.058823529411764705, 0.0, 0.0625, 0.0, 0.0, 0.3333333333333333, 0.16666666666666666, 0.16666666666666666, 0.0, 0.17647058823529413, 0.3333333333333333, 0.25, 0.0, 0.16666666666666666, 0.0, 0.0, 0.5, 1.0, 0.0, 0.0, 0.1, 0.23076923076923078, 0.2, 0.0, 0.3333333333333333, 0.0, 0.6666666666666666, 0.2727272727272727, 0.058823529411764705, 0.2, 0.25, 0.0, 0.2857142857142857, 0.3333333333333333, 0.0, 0.0, 0.0625, 0.0, 0.0, 0.5, 0.0, 0.0, 0.0, 0.25, 0.2857142857142857, 0.3, 0.25, 0.0, 0.0, 0.3333333333333333, 0.0, 0.058823529411764705, 0.09090909090909091, 0.1, 0.14285714285714285, 0.18181818181818182, 0.6, 0.75, 0.0, 0.25, 0.0, 0.0, 0.5, 0.0, 0.25, 0.2, 0.14285714285714285, 0.25, 0.3333333333333333, 0.25, 0.25, 0.0, 0.3333333333333333, 0.0, 0.0, 0.0, 0.2857142857142857, 0.4, 0.0, 0.2727272727272727, 0.0, 0.3333333333333333, 0.0, 0.3333333333333333, 0.25, 0.25, 0.3333333333333333, 0.16666666666666666, 0.0, 0.25, 0.3333333333333333, 0.0, 0.0, 0.25, 0.17647058823529413, 0.0, 0.4, 0.3333333333333333, 0.0, 0.0, 0.0, 1.0, 0.16666666666666666, 0.3333333333333333, 0.0, 0.0, 0.25, 0.25, 1.0, 0.3333333333333333, 0.0, 0.0, 0.058823529411764705, 0.17647058823529413, 0.5, 0.0, 0.3333333333333333, 0.2, 0.6666666666666666, 0.2857142857142857, 0.0, 0.0, 0.2, 0.25, 0.0, 0.0, 0.3333333333333333, 0.0, 0.16666666666666666, 0.3333333333333333, 0.0, 0.0, 0.0, 0.0, 0.2857142857142857, 0.0, 0.2857142857142857], 'Tax Advisor': [0.0, 0.16666666666666666, 0.2, 0.0, 0.5, 0.13043478260869565, 0.25, 0.09523809523809523, 0.2, 0.03571428571428571, 0.0, 0.07142857142857142, 0.4, 0.25, 0.16666666666666666, 0.14285714285714285, 0.2, 0.2, 0.2857142857142857, 0.0, 0.16666666666666666, 0.0, 0.0, 0.0, 0.11538461538461539, 0.07692307692307693, 0.13333333333333333, 0.09090909090909091, 0.125, 0.125, 0.25, 0.1, 0.0, 0.23076923076923078, 0.15384615384615385, 0.10526315789473684, 0.0, 0.2222222222222222, 0.1, 0.15384615384615385, 0.0, 0.16666666666666666, 0.0, 0.0, 0.0, 0.0, 0.0, 0.0, 0.0, 0.2, 0.09090909090909091, 0.25, 0.0, 0.07407407407407407, 0.125, 0.16666666666666666, 0.2222222222222222, 0.0, 0.25, 0.4, 0.0, 0.0, 0.5, 0.07142857142857142, 0.2, 0.25, 1.0, 0.2, 0.0, 0.0, 0.25, 0.2, 0.0, 0.17647058823529413, 0.2, 0.0, 0.0, 0.1, 0.0625, 0.0, 0.2857142857142857, 0.25, 0.0, 0.14285714285714285, 0.09090909090909091, 0.0, 0.0, 0.125, 0.25, 0.0, 0.0, 0.14285714285714285, 0.3333333333333333, 0.0, 0.10526315789473684, 0.25, 0.5, 0.25, 0.14285714285714285, 0.09090909090909091, 0.14285714285714285, 0.16666666666666666, 0.16666666666666666, 0.125, 0.0, 0.09090909090909091, 0.13333333333333333, 0.0, 0.07142857142857142, 0.125, 0.5, 0.2, 0.15384615384615385, 0.05555555555555555, 0.3, 0.2, 0.0, 0.1111111111111111, 0.25, 0.07692307692307693, 0.25, 0.058823529411764705, 0.125, 0.2, 0.16666666666666666, 0.0, 0.0, 0.1111111111111111, 0.2222222222222222, 0.1111111111111111, 0.16666666666666666, 0.0, 0.0, 0.0, 0.2857142857142857, 0.0, 0.05555555555555555, 0.0, 0.09090909090909091, 0.0, 0.2727272727272727, 0.2857142857142857, 0.14285714285714285, 0.16666666666666666, 0.2, 0.16666666666666666, 0.0, 0.16666666666666666, 0.0, 0.5, 0.0, 0.2857142857142857, 0.5, 0.125, 0.0, 0.2, 0.0, 0.0, 0.058823529411764705, 0.16666666666666666, 0.0, 0.1111111111111111, 0.14285714285714285, 0.2, 0.15384615384615385, 0.16666666666666666, 0.0, 0.125, 0.125, 0.2, 0.5, 0.25, 0.15384615384615385, 0.25, 0.2, 0.125, 0.16666666666666666, 0.16666666666666666, 0.2222222222222222, 0.10526315789473684, 0.2, 0.14285714285714285, 0.25, 0.16666666666666666, 0.0, 0.0, 0.16666666666666666, 1.0, 0.0, 0.0, 0.0, 0.2, 0.2222222222222222, 0.16666666666666666, 0.2857142857142857, 0.05714285714285714, 0.09090909090909091, 0.05555555555555555, 0.10526315789473684, 0.16666666666666666, 0.25, 0.25, 0.0, 0.2, 0.1111111111111111, 0.16666666666666666, 0.0, 0.0, 0.5, 0.25, 0.25, 0.0, 0.16666666666666666, 0.14285714285714285, 0.0, 0.0, 0.25, 0.0, 0.16666666666666666, 0.1111111111111111, 0.2, 0.1111111111111111], 'Patio Room Installer': [0.0, 0.0, 0.0, 0.0, 0.0, 0.045454545454545456, 0.0, 0.05263157894736842, 0.0, 0.04, 0.0, 0.0, 0.0, 0.0, 0.0, 0.0, 0.0, 0.0, 0.0, 0.1111111111111111, 0.0, 0.0, 0.0, 0.14285714285714285, 0.0, 0.0, 0.0, 0.0, 0.0, 0.0, 0.0, 0.0, 1.0, 0.08333333333333333, 0.09090909090909091, 0.058823529411764705, 0.14285714285714285, 0.0, 0.14285714285714285, 0.09090909090909091, 0.0, 0.0, 0.0, 0.5, 0.3333333333333333, 0.5, 0.0, 0.0, 0.0, 0.5, 0.0, 0.0, 0.0, 0.04, 0.0, 0.1, 0.0, 0.0, 0.0, 0.0, 0.0, 0.2, 0.0, 0.0, 0.125, 0.0, 0.0, 0.0, 0.0, 0.0, 0.0, 0.0, 0.3333333333333333, 0.0, 0.0, 0.14285714285714285, 0.0, 0.0, 0.0, 0.0, 0.0, 0.0, 0.0, 0.0, 0.0, 0.0, 0.0, 0.07142857142857142, 0.0, 0.0, 1.0, 0.0, 0.0, 0.0, 0.058823529411764705, 0.0, 0.0, 0.0, 0.0, 0.0, 0.0, 0.0, 0.3333333333333333, 0.0, 0.0, 0.125, 0.07692307692307693, 0.0, 0.0, 0.2, 0.0, 0.5, 0.09090909090909091, 0.0, 0.1111111111111111, 0.0, 0.0, 0.0, 0.0, 0.0, 0.0, 0.0, 0.0, 0.0, 0.0, 0.0, 0.0, 0.0, 0.14285714285714285, 0.0, 0.1, 0.5, 0.0, 0.0, 0.2, 0.0, 0.0, 0.1111111111111111, 0.0, 0.2, 0.1, 0.2, 0.25, 0.0, 0.0, 0.0, 0.0, 0.0, 0.0, 0.0, 0.0, 0.0, 0.0, 0.0, 0.0, 0.0, 0.0, 1.0, 0.0, 0.0, 0.0, 0.0, 0.0, 0.0, 0.09090909090909091, 0.0, 0.0, 0.0, 0.2, 0.0, 0.0, 0.0, 0.0, 0.0, 0.0, 0.2, 0.0, 0.0, 0.0, 0.058823529411764705, 0.0, 0.0, 0.0, 0.0, 0.0, 0.0, 0.3333333333333333, 0.0, 1.0, 0.0, 0.0, 0.0, 0.0, 0.3333333333333333, 0.2, 0.0, 0.0, 0.06666666666666667, 0.058823529411764705, 0.3333333333333333, 0.0, 0.0, 0.0, 0.5, 0.0, 0.0, 0.0, 0.0, 0.0, 0.0, 0.0, 0.0, 0.0, 0.0, 1.0, 0.0, 0.0, 0.0, 0.0, 0.0, 0.0, 0.0], 'Vice President of Engineering': [0.0625, 0.0, 0.0, 0.0, 0.16666666666666666, 0.0, 0.08333333333333333, 0.0, 0.0, 0.038461538461538464, 0.0, 0.0, 0.0, 0.0, 0.0, 0.2, 0.0, 0.0, 0.0, 0.1, 0.0, 0.0, 0.0, 0.0, 0.0, 0.0, 0.07142857142857142, 0.0, 0.0, 0.0, 0.0, 0.125, 0.0, 0.0, 0.0, 0.05555555555555555, 0.0, 0.125, 0.0, 0.0, 0.0, 0.25, 0.25, 0.0, 0.25, 0.0, 0.0, 0.09090909090909091, 0.0, 0.0, 0.0, 0.0, 0.09090909090909091, 0.038461538461538464, 0.16666666666666666, 0.0, 0.125, 0.0, 0.08333333333333333, 0.0, 0.3333333333333333, 0.0, 0.0, 0.08333333333333333, 0.1111111111111111, 0.0, 0.0, 0.0, 0.0, 0.0, 0.0, 0.0, 0.25, 0.058823529411764705, 0.0, 0.0, 0.0, 0.0, 0.07142857142857142, 0.0, 0.0, 0.0, 0.0, 0.0, 0.0, 0.0625, 0.0, 0.06666666666666667, 0.0, 0.0, 0.0, 0.0, 0.2, 0.0, 0.05555555555555555, 0.0, 0.0, 0.0, 0.0, 0.0, 0.0, 0.0, 0.0, 0.0, 0.0, 0.1111111111111111, 0.07142857142857142, 0.0, 0.08333333333333333, 0.0, 0.0, 0.0, 0.0, 0.0, 0.0, 0.0, 0.5, 0.14285714285714285, 0.0, 0.0, 0.0, 0.0, 0.0, 0.0, 0.0, 0.5, 0.5, 0.0, 0.125, 0.14285714285714285, 0.09090909090909091, 0.3333333333333333, 0.0, 1.0, 0.0, 0.0, 0.0, 0.0, 0.0, 0.0, 0.09090909090909091, 0.0, 0.0, 0.25, 0.0, 0.25, 0.0, 0.0, 0.0, 0.0, 0.0, 0.16666666666666666, 0.0, 0.0, 0.0, 0.0, 0.0, 0.0, 0.0, 0.25, 0.0, 0.14285714285714285, 0.0, 0.3333333333333333, 0.0, 0.25, 0.0, 0.0, 0.0, 0.0, 0.0, 0.0, 0.08333333333333333, 0.0, 0.3333333333333333, 0.16666666666666666, 0.0, 0.25, 0.125, 0.05555555555555555, 0.0, 0.0, 0.0, 0.0, 0.0, 0.0, 0.0, 0.0, 0.0, 1.0, 0.0, 0.0, 0.125, 0.0, 0.0, 0.0, 0.0, 0.0, 0.05555555555555555, 0.0, 0.0, 0.0, 0.0, 0.0, 0.14285714285714285, 0.25, 0.0, 0.0, 0.0, 0.0, 0.0, 0.0, 0.25, 0.5, 0.0, 1.0, 0.0, 0.0, 0.25, 0.14285714285714285, 0.0, 0.14285714285714285], 'Change Management Consultant': [0.0, 0.0, 0.0, 0.0, 0.16666666666666666, 0.0, 0.08333333333333333, 0.05, 0.3333333333333333, 0.038461538461538464, 0.0, 0.0, 0.25, 0.0, 0.0, 0.0, 0.0, 0.0, 0.0, 0.0, 0.0, 0.3333333333333333, 1.0, 0.0, 0.038461538461538464, 0.0, 0.0, 0.1111111111111111, 0.4, 0.4, 0.0, 0.125, 0.0, 0.07692307692307693, 0.18181818181818182, 0.0, 0.0, 0.125, 0.0, 0.18181818181818182, 0.0, 0.0, 0.0, 0.0, 0.0, 0.0, 1.0, 0.09090909090909091, 0.0, 0.0, 0.0, 0.3333333333333333, 0.09090909090909091, 0.08, 0.0, 0.09090909090909091, 0.125, 0.5, 0.08333333333333333, 0.25, 0.3333333333333333, 0.0, 0.0, 0.08333333333333333, 0.1111111111111111, 0.0, 0.0, 0.0, 0.5, 0.0, 0.0, 0.0, 0.0, 0.058823529411764705, 0.0, 0.0, 0.0, 0.0, 0.07142857142857142, 0.0, 0.0, 0.3333333333333333, 0.0, 0.5, 0.1111111111111111, 0.0, 0.16666666666666666, 0.0, 0.0, 1.0, 0.0, 0.0, 0.0, 0.0, 0.05555555555555555, 0.0, 0.0, 0.0, 0.5, 0.1111111111111111, 0.0, 0.0, 0.0, 0.4, 0.0, 0.0, 0.07142857142857142, 0.25, 0.08333333333333333, 0.16666666666666666, 0.0, 0.0, 0.18181818181818182, 0.0625, 0.1, 0.3333333333333333, 0.0, 0.14285714285714285, 0.0, 0.09090909090909091, 0.0, 0.0, 0.4, 0.0, 0.0, 0.0, 0.0, 0.0, 0.0, 0.14285714285714285, 0.0, 0.0, 0.5, 0.0, 0.0, 0.3333333333333333, 0.0625, 0.1, 0.1111111111111111, 0.16666666666666666, 0.0, 0.0, 0.0, 0.0, 0.0, 0.0, 0.0, 0.0, 0.0, 0.0, 0.25, 0.0, 0.0, 0.0, 0.0, 0.0, 0.0, 0.0, 0.06666666666666667, 0.0, 0.0, 0.14285714285714285, 0.5, 0.0, 0.18181818181818182, 0.0, 0.0, 0.4, 0.16666666666666666, 0.3333333333333333, 0.0, 0.0, 0.08333333333333333, 0.0, 0.0, 0.0, 0.0, 0.0, 0.125, 0.05555555555555555, 0.3333333333333333, 0.5, 0.0, 0.0, 0.0, 0.0, 0.0, 0.0, 0.0, 0.0, 1.0, 0.0, 0.125, 0.0, 0.0, 0.029411764705882353, 0.0, 0.13333333333333333, 0.05555555555555555, 0.0, 0.0, 0.0, 0.25, 0.0, 0.14285714285714285, 0.0, 0.0, 0.25, 0.0, 0.0, 0.0, 0.0, 0.0, 0.0, 0.0, 0.0, 0.0, 0.3333333333333333, 0.0, 0.14285714285714285, 0.3333333333333333, 0.14285714285714285], 'Financial Analyst': [0.0, 0.25, 0.3333333333333333, 0.0, 0.16666666666666666, 0.043478260869565216, 0.08333333333333333, 0.05, 0.3333333333333333, 0.038461538461538464, 0.0, 0.0, 0.25, 0.0, 0.0, 0.2, 0.0, 0.0, 0.16666666666666666, 0.0, 0.25, 0.0, 0.0, 0.0, 0.038461538461538464, 0.0, 0.07142857142857142, 0.0, 0.0, 0.0, 0.0, 0.125, 0.0, 0.07692307692307693, 0.08333333333333333, 0.05555555555555555, 0.0, 0.125, 0.0, 0.08333333333333333, 0.0, 0.25, 0.0, 0.0, 0.0, 0.0, 0.0, 0.0, 0.0, 0.3333333333333333, 0.0, 0.0, 0.0, 0.038461538461538464, 0.0, 0.0, 0.125, 0.0, 0.08333333333333333, 0.25, 0.0, 0.0, 0.3333333333333333, 0.0, 0.1111111111111111, 0.0, 0.2, 0.3333333333333333, 0.0, 0.0, 0.5, 0.3333333333333333, 0.0, 0.058823529411764705, 0.0, 0.0, 0.0, 0.125, 0.07142857142857142, 0.0, 0.0, 0.14285714285714285, 0.0, 0.2, 0.0, 0.0, 0.0, 0.0, 0.0, 0.0, 0.0, 0.0, 0.2, 0.0, 0.05555555555555555, 0.5, 0.3333333333333333, 0.0, 0.0, 0.0, 0.0, 0.25, 0.25, 0.0, 0.0, 0.0, 0.07142857142857142, 0.0, 0.0, 0.16666666666666666, 0.0, 0.3333333333333333, 0.08333333333333333, 0.13333333333333333, 0.1, 0.3333333333333333, 0.0, 0.14285714285714285, 0.5, 0.0, 0.0, 0.0, 0.0, 0.0, 0.25, 0.0, 0.0, 0.0, 0.125, 0.14285714285714285, 0.09090909090909091, 0.0, 0.0, 0.0, 0.16666666666666666, 0.0, 0.0625, 0.1, 0.1111111111111111, 0.16666666666666666, 0.09090909090909091, 0.16666666666666666, 0.2, 0.0, 0.3333333333333333, 0.0, 0.0, 0.25, 0.0, 0.3333333333333333, 0.0, 0.16666666666666666, 0.3333333333333333, 0.16666666666666666, 0.0, 0.3333333333333333, 0.0, 0.0, 0.0, 0.0, 0.0, 0.14285714285714285, 0.2, 0.0, 0.08333333333333333, 0.0, 0.0, 0.0, 0.16666666666666666, 0.3333333333333333, 0.3333333333333333, 0.5, 0.08333333333333333, 0.0, 0.3333333333333333, 0.16666666666666666, 0.0, 0.0, 0.125, 0.05555555555555555, 0.0, 0.2, 0.5, 0.25, 0.5, 0.5, 0.25, 0.2, 0.0, 0.0, 0.0, 1.0, 0.125, 0.25, 0.16666666666666666, 0.029411764705882353, 0.0, 0.0, 0.05555555555555555, 0.6666666666666666, 0.0, 0.5, 0.0, 0.3333333333333333, 0.14285714285714285, 0.0, 0.0, 0.0, 0.3333333333333333, 0.0, 0.0, 0.0, 0.0, 0.2, 0.0, 0.0, 0.0, 0.0, 0.0, 0.14285714285714285, 0.0, 0.14285714285714285], 'Online Customer Support': [0.0, 0.25, 0.125, 0.0, 0.2, 0.11538461538461539, 0.125, 0.08333333333333333, 0.2857142857142857, 0.03225806451612903, 0.0, 0.0, 0.1111111111111111, 0.0, 0.1111111111111111, 0.1, 0.0, 0.2857142857142857, 0.09090909090909091, 0.0, 0.25, 0.2857142857142857, 0.125, 0.0, 0.10344827586206896, 0.0625, 0.05263157894736842, 0.07142857142857142, 0.09090909090909091, 0.09090909090909091, 0.14285714285714285, 0.4, 0.0, 0.1875, 0.2, 0.043478260869565216, 0.0, 0.2727272727272727, 0.0, 0.2, 0.0, 0.1111111111111111, 0.1111111111111111, 0.0, 0.1111111111111111, 0.0, 0.125, 0.0, 0.0, 0.125, 0.0, 0.18181818181818182, 0.0, 0.10344827586206896, 0.2, 0.13333333333333333, 0.2727272727272727, 0.0, 0.125, 0.25, 0.125, 0.0, 0.2857142857142857, 0.125, 0.25, 0.14285714285714285, 0.2222222222222222, 0.125, 0.0, 0.14285714285714285, 0.14285714285714285, 0.2857142857142857, 0.1111111111111111, 0.21052631578947367, 0.125, 0.0, 0.0, 0.07692307692307693, 0.1111111111111111, 0.0, 0.09090909090909091, 0.18181818181818182, 0.0, 0.375, 0.15384615384615385, 0.047619047619047616, 0.09090909090909091, 0.05, 0.14285714285714285, 0.125, 0.0, 0.2222222222222222, 0.375, 0.0, 0.14285714285714285, 0.14285714285714285, 0.2857142857142857, 0.0, 0.2222222222222222, 0.07142857142857142, 0.0, 0.25, 0.25, 0.09090909090909091, 0.0, 0.15384615384615385, 0.3333333333333333, 0.25, 0.0, 0.09090909090909091, 0.125, 0.125, 0.2, 0.047619047619047616, 0.23076923076923078, 0.2857142857142857, 0.14285714285714285, 0.4444444444444444, 0.14285714285714285, 0.0625, 0.14285714285714285, 0.10526315789473684, 0.09090909090909091, 0.125, 0.25, 0.0, 0.1, 0.08333333333333333, 0.2727272727272727, 0.4444444444444444, 0.3076923076923077, 0.125, 0.0, 0.125, 0.2, 0.0, 0.1, 0.14285714285714285, 0.15384615384615385, 0.2, 0.13333333333333333, 0.3333333333333333, 0.2222222222222222, 0.25, 0.125, 0.25, 0.0, 0.25, 0.0, 0.2857142857142857, 0.25, 0.2, 0.2857142857142857, 0.2, 0.125, 0.125, 0.0, 0.0, 0.05, 0.1111111111111111, 0.0, 0.4444444444444444, 0.375, 0.125, 0.2, 0.25, 0.14285714285714285, 0.09090909090909091, 0.09090909090909091, 0.2857142857142857, 0.2857142857142857, 0.14285714285714285, 0.2857142857142857, 0.14285714285714285, 0.2857142857142857, 0.2, 0.1111111111111111, 0.25, 0.4, 0.14285714285714285, 0.0, 0.375, 0.14285714285714285, 0.1111111111111111, 0.0, 0.0, 0.25, 0.2222222222222222, 0.0, 0.125, 0.125, 0.125, 1.0, 0.25, 0.2, 0.05263157894736842, 0.0, 0.1, 0.14285714285714285, 0.1111111111111111, 0.14285714285714285, 0.14285714285714285, 0.25, 0.125, 0.4444444444444444, 0.25, 0.0, 0.25, 0.2857142857142857, 0.14285714285714285, 0.14285714285714285, 0.14285714285714285, 0.25, 0.2222222222222222, 0.0, 0.125, 0.14285714285714285, 0.0, 0.25, 0.4444444444444444, 0.0, 0.4444444444444444], 'Cook': [0.0, 0.5, 0.25, 0.0, 0.14285714285714285, 0.08695652173913043, 0.07692307692307693, 0.1, 0.25, 0.037037037037037035, 0.0, 0.0, 0.2, 0.0, 0.0, 0.16666666666666666, 0.0, 0.25, 0.14285714285714285, 0.09090909090909091, 0.5, 0.25, 0.0, 0.1111111111111111, 0.037037037037037035, 0.0, 0.06666666666666667, 0.0, 0.0, 0.0, 0.0, 0.25, 0.3333333333333333, 0.15384615384615385, 0.2727272727272727, 0.1111111111111111, 0.1111111111111111, 0.25, 0.1111111111111111, 0.2727272727272727, 0.0, 0.2, 0.0, 0.25, 0.5, 0.25, 0.0, 0.0, 0.0, 0.6666666666666666, 0.0, 0.0, 0.0, 0.12, 0.14285714285714285, 0.08333333333333333, 0.25, 0.0, 0.07692307692307693, 0.2, 0.0, 0.14285714285714285, 0.25, 0.0, 0.2222222222222222, 0.0, 0.16666666666666666, 0.25, 0.0, 0.3333333333333333, 0.3333333333333333, 0.6666666666666666, 0.2, 0.11764705882352941, 0.0, 0.1111111111111111, 0.0, 0.1111111111111111, 0.06666666666666667, 0.0, 0.0, 0.125, 0.0, 0.4, 0.1, 0.058823529411764705, 0.0, 0.0625, 0.0, 0.0, 0.3333333333333333, 0.16666666666666666, 0.16666666666666666, 0.0, 0.17647058823529413, 0.3333333333333333, 0.25, 0.0, 0.16666666666666666, 0.0, 0.0, 0.5, 1.0, 0.0, 0.0, 0.1, 0.23076923076923078, 0.2, 0.0, 0.3333333333333333, 0.0, 0.6666666666666666, 0.2727272727272727, 0.058823529411764705, 0.2, 0.25, 0.0, 0.2857142857142857, 0.3333333333333333, 0.0, 0.0, 0.0625, 0.0, 0.0, 0.5, 0.0, 0.0, 0.0, 0.25, 0.2857142857142857, 0.3, 0.25, 0.0, 0.0, 0.3333333333333333, 0.0, 0.058823529411764705, 0.09090909090909091, 0.1, 0.14285714285714285, 0.18181818181818182, 0.6, 0.75, 0.0, 0.25, 0.0, 0.0, 0.5, 0.0, 0.25, 0.2, 0.14285714285714285, 0.25, 0.3333333333333333, 0.25, 0.25, 0.0, 0.3333333333333333, 0.0, 0.0, 0.0, 0.2857142857142857, 0.4, 0.0, 0.2727272727272727, 0.0, 0.3333333333333333, 0.0, 0.3333333333333333, 0.25, 0.25, 0.3333333333333333, 0.16666666666666666, 0.0, 0.25, 0.3333333333333333, 0.0, 0.0, 0.25, 0.17647058823529413, 0.0, 0.4, 0.3333333333333333, 0.0, 0.0, 0.0, 1.0, 0.16666666666666666, 0.3333333333333333, 0.0, 0.0, 0.25, 0.25, 1.0, 0.3333333333333333, 0.0, 0.0, 0.058823529411764705, 0.17647058823529413, 0.5, 0.0, 0.3333333333333333, 0.2, 0.6666666666666666, 0.2857142857142857, 0.0, 0.0, 0.2, 0.25, 0.0, 0.0, 0.3333333333333333, 0.0, 0.16666666666666666, 0.3333333333333333, 0.0, 0.0, 0.0, 0.0, 0.2857142857142857, 0.0, 0.2857142857142857], 'Associate Athletic Director': [0.0, 0.14285714285714285, 0.4, 0.2, 0.1111111111111111, 0.125, 0.23076923076923078, 0.14285714285714285, 0.16666666666666666, 0.07142857142857142, 0.0, 0.0, 0.14285714285714285, 0.0, 0.0, 0.2857142857142857, 0.0, 0.16666666666666666, 0.1111111111111111, 0.16666666666666666, 0.14285714285714285, 0.0, 0.0, 0.2, 0.07142857142857142, 0.15384615384615385, 0.058823529411764705, 0.0, 0.0, 0.0, 0.2, 0.09090909090909091, 0.2, 0.21428571428571427, 0.23076923076923078, 0.15789473684210525, 0.2, 0.2, 0.09090909090909091, 0.23076923076923078, 0.0, 0.14285714285714285, 0.0, 0.16666666666666666, 0.14285714285714285, 0.16666666666666666, 0.0, 0.07142857142857142, 0.07692307692307693, 0.4, 0.0, 0.1, 0.07142857142857142, 0.1111111111111111, 0.1111111111111111, 0.15384615384615385, 0.2, 0.0, 0.23076923076923078, 0.3333333333333333, 0.0, 0.1111111111111111, 0.4, 0.06666666666666667, 0.3, 0.2, 0.2857142857142857, 0.16666666666666666, 0.0, 0.0, 0.2, 0.16666666666666666, 0.14285714285714285, 0.10526315789473684, 0.16666666666666666, 0.2, 0.0, 0.2, 0.125, 0.0, 0.1111111111111111, 0.1, 0.0, 0.125, 0.08333333333333333, 0.05263157894736842, 0.0, 0.1875, 0.2, 0.0, 0.2, 0.125, 0.2857142857142857, 0.2, 0.2222222222222222, 0.2, 0.4, 0.0, 0.0, 0.0, 0.0, 0.14285714285714285, 0.3333333333333333, 0.0, 0.0, 0.18181818181818182, 0.2, 0.0, 0.0, 0.42857142857142855, 0.16666666666666666, 0.4, 0.23076923076923078, 0.05263157894736842, 0.2727272727272727, 0.16666666666666666, 0.0, 0.1, 0.2, 0.0, 0.2, 0.0, 0.0, 0.16666666666666666, 0.14285714285714285, 0.0, 0.0, 0.0, 0.3333333333333333, 0.1, 0.15384615384615385, 0.16666666666666666, 0.0, 0.0, 1.0, 0.0, 0.05263157894736842, 0.07692307692307693, 0.18181818181818182, 0.1111111111111111, 0.36363636363636365, 0.42857142857142855, 0.2857142857142857, 0.14285714285714285, 0.16666666666666666, 0.14285714285714285, 0.2, 0.14285714285714285, 0.0, 0.4, 0.0, 0.25, 0.4, 0.1111111111111111, 0.0, 0.16666666666666666, 0.0, 0.2, 0.0, 0.14285714285714285, 0.0, 0.1, 0.125, 0.16666666666666666, 0.23076923076923078, 0.14285714285714285, 0.0, 0.0, 0.42857142857142855, 0.16666666666666666, 0.4, 0.2, 0.23076923076923078, 0.2, 0.16666666666666666, 0.25, 0.14285714285714285, 0.14285714285714285, 0.2, 0.2222222222222222, 0.0, 0.125, 0.2, 0.14285714285714285, 0.0, 0.0, 0.3333333333333333, 0.2857142857142857, 0.2, 0.0, 0.0, 0.16666666666666666, 0.2, 0.3333333333333333, 1.0, 0.08571428571428572, 0.0, 0.1111111111111111, 0.2222222222222222, 0.3333333333333333, 0.2, 0.2, 0.0, 0.4, 0.1, 0.14285714285714285, 0.0, 0.0, 0.4, 0.2, 0.2, 0.0, 0.14285714285714285, 0.125, 0.2, 0.0, 0.2, 0.0, 0.14285714285714285, 0.1, 0.0, 0.1], 'Front Desk Manager': [0.14285714285714285, 0.0, 0.029411764705882353, 0.030303030303030304, 0.02702702702702703, 0.25, 0.07317073170731707, 0.13043478260869565, 0.029411764705882353, 0.2608695652173913, 0.029411764705882353, 0.1891891891891892, 0.02857142857142857, 0.030303030303030304, 0.02857142857142857, 0.027777777777777776, 0.029411764705882353, 0.029411764705882353, 0.11764705882352941, 0.024390243902439025, 0.0, 0.029411764705882353, 0.029411764705882353, 0.02564102564102564, 0.20833333333333334, 0.22857142857142856, 0.24324324324324326, 0.17142857142857143, 0.05555555555555555, 0.05555555555555555, 0.030303030303030304, 0.05263157894736842, 0.0, 0.21621621621621623, 0.15789473684210525, 0.19047619047619047, 0.02564102564102564, 0.05263157894736842, 0.1111111111111111, 0.15789473684210525, 0.05714285714285714, 0.0, 0.02857142857142857, 0.029411764705882353, 0.0, 0.029411764705882353, 0.029411764705882353, 0.04878048780487805, 0.2, 0.0, 0.10810810810810811, 0.08333333333333333, 0.04878048780487805, 0.23404255319148937, 0.02702702702702703, 0.19444444444444445, 0.05263157894736842, 0.0, 0.07317073170731707, 0.02857142857142857, 0.0, 0.08571428571428572, 0.029411764705882353, 0.047619047619047616, 0.10810810810810811, 0.030303030303030304, 0.05714285714285714, 0.029411764705882353, 0.0, 0.0, 0.0, 0.0, 0.02857142857142857, 0.13953488372093023, 0.029411764705882353, 0.02564102564102564, 0.08571428571428572, 0.1111111111111111, 0.06976744186046512, 0.029411764705882353, 0.11764705882352941, 0.05405405405405406, 0.07894736842105263, 0.027777777777777776, 0.17142857142857143, 0.06666666666666667, 0.05555555555555555, 0.14634146341463414, 0.030303030303030304, 0.029411764705882353, 0.0, 0.027777777777777776, 0.027777777777777776, 0.030303030303030304, 0.1111111111111111, 0.0, 0.029411764705882353, 0.030303030303030304, 0.05714285714285714, 0.17142857142857143, 0.08823529411764706, 0.0, 0.0, 0.05555555555555555, 0.0, 0.025, 0.06976744186046512, 0.058823529411764705, 0.15789473684210525, 0.05555555555555555, 0.06060606060606061, 0.0, 0.15789473684210525, 0.23076923076923078, 0.05, 0.029411764705882353, 0.0, 0.05405405405405406, 0.0, 0.16216216216216217, 0.030303030303030304, 0.20512820512820512, 0.05555555555555555, 0.029411764705882353, 0.0, 0.0, 0.027777777777777776, 0.14705882352941177, 0.08108108108108109, 0.05405405405405406, 0.075, 0.0, 0.0, 0.0, 0.08571428571428572, 0.029411764705882353, 0.2631578947368421, 0.16666666666666666, 0.17142857142857143, 0.05555555555555555, 0.10256410256410256, 0.05555555555555555, 0.027777777777777776, 0.02857142857142857, 0.029411764705882353, 0.02857142857142857, 0.030303030303030304, 0.0, 0.0, 0.029411764705882353, 0.02857142857142857, 0.05555555555555555, 0.029411764705882353, 0.05555555555555555, 0.0, 0.0, 0.0, 0.0, 0.175, 0.02857142857142857, 0.14705882352941177, 0.05405405405405406, 0.027777777777777776, 0.029411764705882353, 0.15789473684210525, 0.02857142857142857, 0.0, 0.05555555555555555, 0.05555555555555555, 0.029411764705882353, 0.029411764705882353, 0.0, 0.047619047619047616, 0.030303030303030304, 0.0, 0.02702702702702703, 0.02857142857142857, 0.02857142857142857, 0.05263157894736842, 0.1111111111111111, 0.029411764705882353, 0.027777777777777776, 0.0, 0.058823529411764705, 0.030303030303030304, 0.030303030303030304, 0.0, 0.05714285714285714, 0.0, 0.0, 0.029411764705882353, 0.029411764705882353, 0.05263157894736842, 0.0, 0.08571428571428572, 1.0, 0.10810810810810811, 0.23076923076923078, 0.1111111111111111, 0.02857142857142857, 0.030303030303030304, 0.0, 0.058823529411764705, 0.0, 0.05405405405405406, 0.02857142857142857, 0.0, 0.02857142857142857, 0.029411764705882353, 0.030303030303030304, 0.030303030303030304, 0.0, 0.02857142857142857, 0.0, 0.0, 0.0, 0.030303030303030304, 0.029411764705882353, 0.02857142857142857, 0.05405405405405406, 0.029411764705882353, 0.05405405405405406], 'Tile Setter': [0.045454545454545456, 0.1, 0.0, 0.0, 0.08333333333333333, 0.1111111111111111, 0.05555555555555555, 0.08, 0.0, 0.1, 0.0, 0.11764705882352941, 0.1, 0.125, 0.1, 0.0, 0.1111111111111111, 0.0, 0.08333333333333333, 0.0, 0.1, 0.0, 0.0, 0.0, 0.06451612903225806, 0.058823529411764705, 0.10526315789473684, 0.23076923076923078, 0.18181818181818182, 0.18181818181818182, 0.0, 0.0, 0.0, 0.1111111111111111, 0.05555555555555555, 0.08695652173913043, 0.0, 0.07142857142857142, 0.07142857142857142, 0.05555555555555555, 0.0, 0.0, 0.0, 0.0, 0.0, 0.0, 0.0, 0.0, 0.0625, 0.0, 0.06666666666666667, 0.16666666666666666, 0.0, 0.06451612903225806, 0.0, 0.125, 0.07142857142857142, 0.0, 0.05555555555555555, 0.0, 0.0, 0.0, 0.0, 0.0, 0.06666666666666667, 0.0, 0.09090909090909091, 0.1111111111111111, 0.0, 0.0, 0.0, 0.0, 0.0, 0.09090909090909091, 0.0, 0.0, 0.0, 0.07142857142857142, 0.05, 0.0, 0.08333333333333333, 0.16666666666666666, 0.0, 0.0, 0.14285714285714285, 0.045454545454545456, 0.0, 0.1, 0.0, 0.0, 0.0, 0.09090909090909091, 0.09090909090909091, 0.0, 0.0, 0.0, 0.0, 0.125, 0.09090909090909091, 0.23076923076923078, 0.2, 0.0, 0.0, 0.18181818181818182, 0.0, 0.0, 0.0, 0.0, 0.05555555555555555, 0.0, 0.1111111111111111, 0.0, 0.05555555555555555, 0.09523809523809523, 0.0625, 0.0, 0.0, 0.0, 0.0, 0.125, 0.0, 0.15789473684210525, 0.18181818181818182, 0.0, 0.0, 0.0, 0.0, 0.2727272727272727, 0.0, 0.0, 0.058823529411764705, 0.0, 0.0, 0.0, 0.0, 0.0, 0.045454545454545456, 0.21428571428571427, 0.06666666666666667, 0.08333333333333333, 0.058823529411764705, 0.0, 0.0, 0.1, 0.0, 0.1, 0.0, 0.1, 0.0, 0.0, 0.1, 0.0, 0.0, 0.0, 0.0, 0.0, 0.0, 0.0, 0.15789473684210525, 0.0, 0.07692307692307693, 0.0, 0.0, 0.0, 0.05555555555555555, 0.1, 0.0, 0.18181818181818182, 0.0, 0.0, 0.0, 0.0, 0.05555555555555555, 0.0, 0.0, 0.0, 0.0, 0.1, 0.0, 0.0, 0.1111111111111111, 0.0, 0.0, 0.1, 0.0, 0.0, 0.0, 0.09090909090909091, 0.0, 0.0, 0.0, 0.0, 0.0, 0.0, 0.0, 0.10810810810810811, 1.0, 0.045454545454545456, 0.0, 0.0, 0.0, 0.0, 0.0, 0.0, 0.0, 0.1, 0.1111111111111111, 0.1, 0.0, 0.0, 0.0, 0.0, 0.1, 0.0, 0.0, 0.0, 0.0, 0.0, 0.1, 0.0, 0.1111111111111111, 0.0], 'Technology Research Manager': [0.034482758620689655, 0.0, 0.0, 0.0, 0.1111111111111111, 0.15625, 0.08333333333333333, 0.1724137931034483, 0.0625, 0.17647058823529413, 0.0, 0.08333333333333333, 0.125, 0.06666666666666667, 0.125, 0.0, 0.0625, 0.0, 0.1111111111111111, 0.043478260869565216, 0.0, 0.0625, 0.13333333333333333, 0.047619047619047616, 0.17647058823529413, 0.13636363636363635, 0.21739130434782608, 0.15, 0.17647058823529413, 0.17647058823529413, 0.0, 0.047619047619047616, 0.06666666666666667, 0.22727272727272727, 0.23809523809523808, 0.23076923076923078, 0.047619047619047616, 0.1, 0.2222222222222222, 0.23809523809523808, 0.0, 0.0, 0.058823529411764705, 0.0625, 0.058823529411764705, 0.0625, 0.13333333333333333, 0.08695652173913043, 0.14285714285714285, 0.0625, 0.09523809523809523, 0.16666666666666666, 0.08695652173913043, 0.17647058823529413, 0.0, 0.25, 0.1, 0.06666666666666667, 0.08333333333333333, 0.058823529411764705, 0.0625, 0.17647058823529413, 0.0, 0.08333333333333333, 0.09523809523809523, 0.0, 0.05555555555555555, 0.0, 0.06666666666666667, 0.0, 0.0, 0.0, 0.058823529411764705, 0.06896551724137931, 0.0, 0.047619047619047616, 0.0, 0.047619047619047616, 0.12, 0.0, 0.05263157894736842, 0.16666666666666666, 0.0, 0.11764705882352941, 0.15, 0.034482758620689655, 0.05263157894736842, 0.11538461538461539, 0.0, 0.13333333333333333, 0.06666666666666667, 0.0, 0.0, 0.0, 0.06666666666666667, 0.0, 0.0, 0.06666666666666667, 0.1875, 0.15, 0.05555555555555555, 0.0, 0.058823529411764705, 0.17647058823529413, 0.0, 0.045454545454545456, 0.07692307692307693, 0.058823529411764705, 0.23809523809523808, 0.1111111111111111, 0.0625, 0.0625, 0.23809523809523808, 0.15384615384615385, 0.2, 0.0625, 0.0, 0.05, 0.0, 0.13636363636363635, 0.0, 0.20833333333333334, 0.17647058823529413, 0.0, 0.0, 0.0, 0.0, 0.23529411764705882, 0.047619047619047616, 0.05, 0.13636363636363635, 0.0625, 0.06666666666666667, 0.0, 0.1111111111111111, 0.0625, 0.15384615384615385, 0.2, 0.21052631578947367, 0.17647058823529413, 0.08695652173913043, 0.05263157894736842, 0.05555555555555555, 0.0, 0.0, 0.0, 0.0, 0.0, 0.0, 0.0, 0.058823529411764705, 0.0, 0.0, 0.1111111111111111, 0.0, 0.0, 0.0, 0.06666666666666667, 0.16, 0.0, 0.05, 0.05, 0.11764705882352941, 0.0, 0.23809523809523808, 0.0, 0.0, 0.17647058823529413, 0.1111111111111111, 0.0625, 0.0, 0.0, 0.04, 0.0, 0.0, 0.05263157894736842, 0.0, 0.0, 0.047619047619047616, 0.06666666666666667, 0.13333333333333333, 0.11764705882352941, 0.0, 0.0, 0.0, 0.0, 0.058823529411764705, 0.05555555555555555, 0.06666666666666667, 0.0, 0.13333333333333333, 0.0, 0.1, 0.058823529411764705, 0.1111111111111111, 0.23076923076923078, 0.045454545454545456, 1.0, 0.06666666666666667, 0.058823529411764705, 0.0, 0.0, 0.058823529411764705, 0.0625, 0.05, 0.0, 0.0, 0.058823529411764705, 0.0, 0.0, 0.0, 0.0, 0.0, 0.0, 0.06666666666666667, 0.0, 0.0, 0.0625, 0.0, 0.05, 0.13333333333333333, 0.05], 'Rotating Equipment Engineer': [0.14285714285714285, 0.1111111111111111, 0.11764705882352941, 0.058823529411764705, 0.1, 0.11428571428571428, 0.21739130434782608, 0.16129032258064516, 0.05555555555555555, 0.16666666666666666, 0.05555555555555555, 0.0, 0.1111111111111111, 0.0, 0.0, 0.16666666666666666, 0.0, 0.11764705882352941, 0.15789473684210525, 0.13043478260869565, 0.1111111111111111, 0.05555555555555555, 0.05555555555555555, 0.09090909090909091, 0.13513513513513514, 0.08, 0.2, 0.0, 0.047619047619047616, 0.047619047619047616, 0.058823529411764705, 0.14285714285714285, 0.058823529411764705, 0.16, 0.3333333333333333, 0.0967741935483871, 0.09090909090909091, 0.2, 0.043478260869565216, 0.3333333333333333, 0.05, 0.1111111111111111, 0.05263157894736842, 0.11764705882352941, 0.17647058823529413, 0.11764705882352941, 0.05555555555555555, 0.125, 0.04, 0.11764705882352941, 0.0, 0.09523809523809523, 0.125, 0.3125, 0.15789473684210525, 0.08, 0.2, 0.058823529411764705, 0.21739130434782608, 0.17647058823529413, 0.05555555555555555, 0.047619047619047616, 0.11764705882352941, 0.07692307692307693, 0.3157894736842105, 0.058823529411764705, 0.10526315789473684, 0.05555555555555555, 0.058823529411764705, 0.058823529411764705, 0.058823529411764705, 0.11764705882352941, 0.05263157894736842, 0.2692307692307692, 0.05555555555555555, 0.09090909090909091, 0.0, 0.043478260869565216, 0.2, 0.05555555555555555, 0.047619047619047616, 0.09523809523809523, 0.0, 0.16666666666666666, 0.08695652173913043, 0.06666666666666667, 0.0, 0.24, 0.058823529411764705, 0.05555555555555555, 0.058823529411764705, 0.16666666666666666, 0.10526315789473684, 0.058823529411764705, 1.0, 0.058823529411764705, 0.11764705882352941, 0.0, 0.10526315789473684, 0.0, 0.0, 0.1111111111111111, 0.17647058823529413, 0.047619047619047616, 0.05263157894736842, 0.08695652173913043, 0.2, 0.1111111111111111, 0.12, 0.2222222222222222, 0.05555555555555555, 0.11764705882352941, 0.3333333333333333, 0.10344827586206896, 0.18181818181818182, 0.05555555555555555, 0.0, 0.15, 0.058823529411764705, 0.0, 0.058823529411764705, 0.03333333333333333, 0.047619047619047616, 0.05555555555555555, 0.1111111111111111, 0.058823529411764705, 0.10526315789473684, 0.0, 0.2, 0.15, 0.125, 0.05555555555555555, 0.058823529411764705, 0.05555555555555555, 0.2222222222222222, 0.11764705882352941, 0.14285714285714285, 0.04, 0.041666666666666664, 0.047619047619047616, 0.2857142857142857, 0.2222222222222222, 0.23529411764705882, 0.05263157894736842, 0.11764705882352941, 0.05263157894736842, 0.058823529411764705, 0.1111111111111111, 0.058823529411764705, 0.11764705882352941, 0.05263157894736842, 0.2222222222222222, 0.11764705882352941, 0.1, 0.05555555555555555, 0.05555555555555555, 0.0, 0.058823529411764705, 0.10714285714285714, 0.1111111111111111, 0.045454545454545456, 0.15, 0.16666666666666666, 0.11764705882352941, 0.3333333333333333, 0.05263157894736842, 0.058823529411764705, 0.047619047619047616, 0.2222222222222222, 0.05555555555555555, 0.11764705882352941, 0.058823529411764705, 0.2727272727272727, 0.058823529411764705, 0.05555555555555555, 0.15789473684210525, 0.05263157894736842, 0.05263157894736842, 0.2631578947368421, 1.0, 0.05555555555555555, 0.16666666666666666, 0.058823529411764705, 0.05263157894736842, 0.0, 0.0, 0.17647058823529413, 0.10526315789473684, 0.058823529411764705, 0.05555555555555555, 0.05555555555555555, 0.05555555555555555, 0.14285714285714285, 0.17647058823529413, 0.2222222222222222, 0.1111111111111111, 0.0, 0.06666666666666667, 1.0, 0.1111111111111111, 0.058823529411764705, 0.058823529411764705, 0.1111111111111111, 0.11764705882352941, 0.15, 0.05263157894736842, 0.0, 0.05263157894736842, 0.11764705882352941, 0.058823529411764705, 0.058823529411764705, 0.058823529411764705, 0.05263157894736842, 0.10526315789473684, 0.058823529411764705, 0.05555555555555555, 0.058823529411764705, 0.11764705882352941, 0.05263157894736842, 0.15, 0.05555555555555555, 0.15], 'Director of Hotel Operations': [0.0, 0.2, 0.25, 0.0, 0.14285714285714285, 0.08695652173913043, 0.07692307692307693, 0.1, 0.25, 0.07692307692307693, 0.0, 0.0, 0.2, 0.0, 0.0, 0.16666666666666666, 0.0, 0.0, 0.14285714285714285, 0.09090909090909091, 0.2, 0.0, 0.0, 0.1111111111111111, 0.037037037037037035, 0.0, 0.06666666666666667, 0.0, 0.0, 0.0, 0.0, 0.1111111111111111, 0.3333333333333333, 0.15384615384615385, 0.16666666666666666, 0.1111111111111111, 0.1111111111111111, 0.1111111111111111, 0.1111111111111111, 0.16666666666666666, 0.0, 0.2, 0.0, 0.25, 0.2, 0.25, 0.0, 0.0, 0.0, 0.6666666666666666, 0.0, 0.0, 0.0, 0.07692307692307693, 0.0, 0.08333333333333333, 0.1111111111111111, 0.0, 0.07692307692307693, 0.2, 0.0, 0.14285714285714285, 0.25, 0.0, 0.2222222222222222, 0.0, 0.16666666666666666, 0.25, 0.0, 0.0, 0.3333333333333333, 0.25, 0.2, 0.05555555555555555, 0.0, 0.1111111111111111, 0.0, 0.1111111111111111, 0.06666666666666667, 0.0, 0.0, 0.125, 0.0, 0.16666666666666666, 0.0, 0.0, 0.0, 0.0625, 0.0, 0.0, 0.3333333333333333, 0.0, 0.16666666666666666, 0.0, 0.1111111111111111, 0.3333333333333333, 0.25, 0.0, 0.0, 0.0, 0.0, 0.2, 0.5, 0.0, 0.0, 0.1, 0.14285714285714285, 0.0, 0.0, 0.3333333333333333, 0.0, 0.6666666666666666, 0.16666666666666666, 0.125, 0.2, 0.25, 0.0, 0.125, 0.3333333333333333, 0.0, 0.0, 0.0, 0.0, 0.0, 0.2, 0.0, 0.0, 0.0, 0.25, 0.125, 0.18181818181818182, 0.25, 0.0, 0.0, 0.3333333333333333, 0.0, 0.058823529411764705, 0.2, 0.1, 0.3333333333333333, 0.18181818181818182, 0.3333333333333333, 0.4, 0.0, 0.25, 0.0, 0.0, 0.2, 0.0, 0.25, 0.0, 0.14285714285714285, 0.25, 0.14285714285714285, 0.0, 0.25, 0.0, 0.3333333333333333, 0.0, 0.0, 0.0, 0.125, 0.16666666666666666, 0.0, 0.16666666666666666, 0.0, 0.0, 0.0, 0.3333333333333333, 0.25, 0.25, 0.3333333333333333, 0.07692307692307693, 0.0, 0.25, 0.3333333333333333, 0.0, 0.0, 0.1111111111111111, 0.1111111111111111, 0.0, 0.16666666666666666, 0.3333333333333333, 0.2, 0.3333333333333333, 0.3333333333333333, 0.5, 0.16666666666666666, 0.3333333333333333, 0.0, 0.0, 0.6666666666666666, 0.1111111111111111, 0.5, 0.3333333333333333, 0.02857142857142857, 0.0, 0.058823529411764705, 0.1111111111111111, 1.0, 0.0, 0.3333333333333333, 0.0, 0.6666666666666666, 0.125, 0.0, 0.0, 0.0, 0.25, 0.0, 0.0, 0.0, 0.0, 0.16666666666666666, 0.3333333333333333, 0.0, 0.0, 0.0, 0.0, 0.125, 0.0, 0.125], 'Front End Load Driver': [0.0, 0.0, 0.0, 0.0, 0.0, 0.045454545454545456, 0.09090909090909091, 0.0, 0.0, 0.0, 0.0, 0.0, 0.0, 0.0, 0.0, 0.0, 0.0, 0.5, 0.0, 0.0, 0.0, 0.0, 0.0, 0.0, 0.04, 0.1, 0.0, 0.0, 0.0, 0.0, 1.0, 0.0, 0.0, 0.08333333333333333, 0.0, 0.0, 0.0, 0.0, 0.0, 0.0, 0.0, 0.0, 0.0, 0.0, 0.0, 0.0, 0.0, 0.0, 0.0, 0.0, 0.0, 0.16666666666666666, 0.0, 0.0, 0.2, 0.1, 0.0, 0.0, 0.09090909090909091, 0.3333333333333333, 0.0, 0.0, 0.5, 0.09090909090909091, 0.125, 1.0, 0.25, 0.0, 0.0, 0.0, 0.0, 0.0, 0.0, 0.0625, 0.5, 0.0, 0.0, 0.0, 0.0, 0.0, 0.2, 0.0, 0.0, 0.0, 0.0, 0.0, 0.0, 0.07142857142857142, 1.0, 0.0, 0.0, 0.25, 0.25, 0.0, 0.058823529411764705, 0.0, 0.5, 0.0, 0.0, 0.0, 0.0, 0.0, 0.0, 0.0, 0.0, 0.125, 0.07692307692307693, 0.0, 0.0, 0.0, 0.5, 0.0, 0.0, 0.0, 0.1111111111111111, 0.0, 0.0, 0.0, 0.0, 0.0, 1.0, 0.0, 0.0, 0.5, 0.0, 0.0, 0.0, 0.0, 0.14285714285714285, 0.0, 0.0, 0.0, 0.0, 0.0, 0.2, 0.0, 0.0, 0.0, 0.0, 0.0, 0.1, 0.2, 0.0, 0.3333333333333333, 0.0, 0.3333333333333333, 0.0, 0.0, 0.0, 0.5, 0.0, 0.2, 0.5, 0.0, 0.0, 0.0, 0.0, 0.0, 0.0, 0.3333333333333333, 0.0, 0.0, 0.0, 0.5, 0.0, 0.3333333333333333, 0.0, 0.0, 0.0, 0.0, 0.5, 0.0, 0.09090909090909091, 1.0, 0.0, 0.0, 0.3333333333333333, 0.3333333333333333, 0.14285714285714285, 0.058823529411764705, 0.0, 0.0, 0.0, 0.3333333333333333, 0.0, 0.0, 0.0, 0.25, 0.0, 0.0, 0.0, 0.0, 0.14285714285714285, 0.0, 0.2, 0.030303030303030304, 0.0, 0.0, 0.058823529411764705, 0.0, 1.0, 0.0, 0.0, 0.0, 0.0, 0.3333333333333333, 0.0, 0.0, 0.5, 1.0, 1.0, 0.0, 0.3333333333333333, 0.0, 0.0, 0.0, 1.0, 0.0, 0.3333333333333333, 0.0, 0.0, 0.0], 'Oracle Technical Lead': [0.0, 0.3333333333333333, 0.5, 0.0, 0.2, 0.045454545454545456, 0.09090909090909091, 0.05263157894736842, 0.5, 0.0, 0.0, 0.0, 0.3333333333333333, 0.0, 0.0, 0.25, 0.0, 0.0, 0.2, 0.0, 0.3333333333333333, 0.0, 0.0, 0.0, 0.04, 0.0, 0.07692307692307693, 0.0, 0.0, 0.0, 0.0, 0.14285714285714285, 0.0, 0.08333333333333333, 0.09090909090909091, 0.058823529411764705, 0.0, 0.14285714285714285, 0.0, 0.09090909090909091, 0.0, 0.3333333333333333, 0.0, 0.0, 0.0, 0.0, 0.0, 0.0, 0.0, 0.5, 0.0, 0.0, 0.0, 0.04, 0.0, 0.0, 0.14285714285714285, 0.0, 0.09090909090909091, 0.3333333333333333, 0.0, 0.0, 0.5, 0.0, 0.125, 0.0, 0.25, 0.5, 0.0, 0.0, 1.0, 0.5, 0.0, 0.0625, 0.0, 0.0, 0.0, 0.14285714285714285, 0.07692307692307693, 0.0, 0.0, 0.16666666666666666, 0.0, 0.25, 0.0, 0.0, 0.0, 0.0, 0.0, 0.0, 0.0, 0.0, 0.25, 0.0, 0.058823529411764705, 1.0, 0.5, 0.0, 0.0, 0.0, 0.0, 0.3333333333333333, 0.3333333333333333, 0.0, 0.0, 0.0, 0.07692307692307693, 0.0, 0.0, 0.2, 0.0, 0.5, 0.09090909090909091, 0.06666666666666667, 0.1111111111111111, 0.5, 0.0, 0.16666666666666666, 1.0, 0.0, 0.0, 0.0, 0.0, 0.0, 0.3333333333333333, 0.0, 0.0, 0.0, 0.14285714285714285, 0.16666666666666666, 0.1, 0.0, 0.0, 0.0, 0.2, 0.0, 0.06666666666666667, 0.0, 0.125, 0.0, 0.1, 0.2, 0.25, 0.0, 0.5, 0.0, 0.0, 0.3333333333333333, 0.0, 0.5, 0.0, 0.2, 0.5, 0.2, 0.0, 0.5, 0.0, 0.0, 0.0, 0.0, 0.0, 0.16666666666666666, 0.25, 0.0, 0.09090909090909091, 0.0, 0.0, 0.0, 0.2, 0.5, 0.5, 1.0, 0.09090909090909091, 0.0, 0.5, 0.2, 0.0, 0.0, 0.14285714285714285, 0.058823529411764705, 0.0, 0.25, 1.0, 0.0, 0.0, 0.0, 0.3333333333333333, 0.25, 0.0, 0.0, 0.0, 0.5, 0.14285714285714285, 0.3333333333333333, 0.2, 0.0, 0.0, 0.0, 0.058823529411764705, 0.3333333333333333, 0.0, 1.0, 0.0, 0.5, 0.16666666666666666, 0.0, 0.0, 0.0, 0.5, 0.0, 0.0, 0.0, 0.0, 0.25, 0.0, 0.0, 0.0, 0.0, 0.0, 0.16666666666666666, 0.0, 0.16666666666666666], 'Informatica Extract Transform Load (ETL) Developer': [0.058823529411764705, 0.2, 0.0, 0.0, 0.0, 0.0, 0.0, 0.0, 0.25, 0.0, 0.25, 0.0, 0.0, 0.0, 0.0, 0.0, 0.0, 0.25, 0.0, 0.0, 0.2, 0.6666666666666666, 0.25, 0.0, 0.037037037037037035, 0.0, 0.06666666666666667, 0.1, 0.14285714285714285, 0.14285714285714285, 0.0, 0.42857142857142855, 0.0, 0.07142857142857142, 0.2727272727272727, 0.0, 0.0, 0.1111111111111111, 0.0, 0.2727272727272727, 0.0, 0.0, 0.0, 0.0, 0.2, 0.25, 0.25, 0.0, 0.0, 0.0, 0.0, 0.125, 0.0, 0.12, 0.14285714285714285, 0.08333333333333333, 0.1111111111111111, 0.0, 0.0, 0.0, 0.0, 0.0, 0.0, 0.0, 0.1, 0.0, 0.0, 0.0, 0.0, 0.3333333333333333, 0.0, 0.25, 0.0, 0.1875, 0.0, 0.0, 0.0, 0.0, 0.0, 0.25, 0.0, 0.125, 0.0, 0.4, 0.2222222222222222, 0.058823529411764705, 0.14285714285714285, 0.0, 0.0, 0.25, 0.0, 0.16666666666666666, 0.0, 0.0, 0.1111111111111111, 0.0, 0.0, 0.0, 0.4, 0.1, 0.0, 0.2, 0.2, 0.14285714285714285, 0.0, 0.0, 0.23076923076923078, 1.0, 0.07692307692307693, 0.0, 0.0, 0.0, 0.2727272727272727, 0.0, 0.0, 0.25, 0.0, 0.5, 0.0, 0.08333333333333333, 0.0, 0.0625, 0.14285714285714285, 0.0, 0.2, 0.0, 0.16666666666666666, 0.0, 0.0, 0.5, 0.08333333333333333, 0.0, 0.0, 0.0, 0.0, 0.0, 0.125, 0.09090909090909091, 0.1, 0.14285714285714285, 0.0, 0.14285714285714285, 0.4, 0.0, 0.25, 0.0, 0.0, 0.2, 0.0, 0.0, 0.5, 0.14285714285714285, 0.0, 0.14285714285714285, 0.25, 0.0, 0.0, 0.0, 0.0625, 0.0, 0.0, 0.5, 0.4, 0.0, 0.2727272727272727, 0.0, 0.3333333333333333, 0.14285714285714285, 0.0, 0.25, 0.0, 0.0, 0.07692307692307693, 0.0, 0.0, 0.0, 0.0, 0.0, 0.1111111111111111, 0.1111111111111111, 0.0, 0.4, 0.0, 0.0, 0.0, 0.0, 0.2, 0.0, 0.0, 0.0, 0.25, 0.0, 0.25, 0.2, 0.0, 0.058823529411764705, 0.0, 0.058823529411764705, 0.1111111111111111, 0.0, 0.0, 0.0, 1.0, 0.0, 0.5, 0.0, 0.0, 0.5, 0.0, 0.0, 0.0, 0.3333333333333333, 0.0, 0.0, 0.0, 0.0, 0.0, 0.0, 0.0, 0.5, 0.0, 0.5], 'Mining Safety Engineer': [0.0, 0.25, 0.3333333333333333, 0.0, 0.16666666666666666, 0.09090909090909091, 0.08333333333333333, 0.10526315789473684, 0.3333333333333333, 0.038461538461538464, 0.0, 0.0, 0.25, 0.0, 0.0, 0.2, 0.0, 0.0, 0.16666666666666666, 0.1, 0.25, 0.0, 0.0, 0.125, 0.038461538461538464, 0.0, 0.07142857142857142, 0.0, 0.0, 0.0, 0.0, 0.125, 0.5, 0.16666666666666666, 0.18181818181818182, 0.11764705882352941, 0.125, 0.125, 0.125, 0.18181818181818182, 0.0, 0.25, 0.0, 0.3333333333333333, 0.25, 0.3333333333333333, 0.0, 0.0, 0.0, 1.0, 0.0, 0.0, 0.0, 0.08, 0.0, 0.09090909090909091, 0.125, 0.0, 0.08333333333333333, 0.25, 0.0, 0.16666666666666666, 0.3333333333333333, 0.0, 0.25, 0.0, 0.2, 0.3333333333333333, 0.0, 0.0, 0.5, 0.3333333333333333, 0.25, 0.058823529411764705, 0.0, 0.125, 0.0, 0.125, 0.07142857142857142, 0.0, 0.0, 0.14285714285714285, 0.0, 0.2, 0.0, 0.0, 0.0, 0.06666666666666667, 0.0, 0.0, 0.5, 0.0, 0.2, 0.0, 0.11764705882352941, 0.5, 0.3333333333333333, 0.0, 0.0, 0.0, 0.0, 0.25, 0.6666666666666666, 0.0, 0.0, 0.1111111111111111, 0.15384615384615385, 0.0, 0.0, 0.4, 0.0, 1.0, 0.18181818181818182, 0.0625, 0.2222222222222222, 0.3333333333333333, 0.0, 0.14285714285714285, 0.5, 0.0, 0.0, 0.0, 0.0, 0.0, 0.25, 0.0, 0.0, 0.0, 0.2857142857142857, 0.14285714285714285, 0.2, 0.3333333333333333, 0.0, 0.0, 0.4, 0.0, 0.0625, 0.1, 0.1111111111111111, 0.16666666666666666, 0.2, 0.4, 0.5, 0.0, 0.3333333333333333, 0.0, 0.0, 0.25, 0.0, 0.3333333333333333, 0.0, 0.16666666666666666, 0.3333333333333333, 0.16666666666666666, 0.0, 0.3333333333333333, 0.0, 0.5, 0.0, 0.0, 0.0, 0.14285714285714285, 0.2, 0.0, 0.18181818181818182, 0.0, 0.0, 0.0, 0.4, 0.3333333333333333, 0.3333333333333333, 0.5, 0.08333333333333333, 0.0, 0.3333333333333333, 0.4, 0.0, 0.0, 0.125, 0.11764705882352941, 0.0, 0.2, 0.5, 0.0, 0.0, 0.0, 0.6666666666666666, 0.2, 0.5, 0.0, 0.0, 0.3333333333333333, 0.125, 0.6666666666666666, 0.4, 0.0, 0.0, 0.0625, 0.11764705882352941, 0.6666666666666666, 0.0, 0.5, 0.0, 1.0, 0.14285714285714285, 0.0, 0.0, 0.0, 0.3333333333333333, 0.0, 0.0, 0.0, 0.0, 0.2, 0.5, 0.0, 0.0, 0.0, 0.0, 0.14285714285714285, 0.0, 0.14285714285714285], 'Passenger Service Agent': [0.05, 0.2857142857142857, 0.14285714285714285, 0.0, 0.2222222222222222, 0.07692307692307693, 0.0625, 0.041666666666666664, 0.3333333333333333, 0.0, 0.14285714285714285, 0.0, 0.125, 0.0, 0.0, 0.1111111111111111, 0.0, 0.14285714285714285, 0.1, 0.0, 0.2857142857142857, 0.3333333333333333, 0.14285714285714285, 0.0, 0.06896551724137931, 0.06666666666666667, 0.11764705882352941, 0.07692307692307693, 0.2222222222222222, 0.2222222222222222, 0.0, 0.8571428571428571, 0.0, 0.125, 0.3076923076923077, 0.09523809523809523, 0.0, 0.3, 0.0, 0.3076923076923077, 0.0, 0.125, 0.125, 0.0, 0.125, 0.14285714285714285, 0.14285714285714285, 0.0, 0.07142857142857142, 0.14285714285714285, 0.0, 0.2, 0.0, 0.14814814814814814, 0.1, 0.06666666666666667, 0.3, 0.0, 0.0625, 0.125, 0.14285714285714285, 0.0, 0.14285714285714285, 0.0625, 0.16666666666666666, 0.0, 0.1111111111111111, 0.14285714285714285, 0.0, 0.16666666666666666, 0.16666666666666666, 0.3333333333333333, 0.125, 0.2222222222222222, 0.0, 0.0, 0.0, 0.08333333333333333, 0.05555555555555555, 0.14285714285714285, 0.0, 0.3333333333333333, 0.0, 0.42857142857142855, 0.16666666666666666, 0.05, 0.1, 0.0, 0.0, 0.14285714285714285, 0.0, 0.1111111111111111, 0.25, 0.0, 0.15, 0.16666666666666666, 0.14285714285714285, 0.0, 0.25, 0.07692307692307693, 0.0, 0.2857142857142857, 0.2857142857142857, 0.2222222222222222, 0.0, 0.07692307692307693, 0.46153846153846156, 0.5, 0.0625, 0.1, 0.0, 0.14285714285714285, 0.3076923076923077, 0.05, 0.07142857142857142, 0.3333333333333333, 0.16666666666666666, 1.0, 0.16666666666666666, 0.06666666666666667, 0.0, 0.05263157894736842, 0.2222222222222222, 0.0, 0.2857142857142857, 0.0, 0.25, 0.0, 0.3, 1.0, 0.23076923076923078, 0.14285714285714285, 0.0, 0.14285714285714285, 0.1, 0.0, 0.16666666666666666, 0.07142857142857142, 0.16666666666666666, 0.1, 0.06666666666666667, 0.2222222222222222, 0.42857142857142855, 0.125, 0.3333333333333333, 0.125, 0.0, 0.2857142857142857, 0.0, 0.14285714285714285, 0.2857142857142857, 0.2222222222222222, 0.14285714285714285, 0.375, 0.14285714285714285, 0.14285714285714285, 0.0, 0.0, 0.05263157894736842, 0.0, 0.0, 1.0, 0.42857142857142855, 0.0, 0.3076923076923077, 0.125, 0.16666666666666666, 0.2222222222222222, 0.1, 0.3333333333333333, 0.14285714285714285, 0.16666666666666666, 0.21428571428571427, 0.0, 0.3333333333333333, 0.2222222222222222, 0.0, 0.125, 0.3, 0.15, 0.0, 0.42857142857142855, 0.16666666666666666, 0.0, 0.0, 0.0, 0.2857142857142857, 0.1111111111111111, 0.0, 0.14285714285714285, 0.14285714285714285, 0.14285714285714285, 0.4444444444444444, 0.2857142857142857, 0.1, 0.05405405405405406, 0.0, 0.05, 0.15, 0.125, 0.0, 0.16666666666666666, 0.5, 0.14285714285714285, 1.0, 0.125, 0.0, 0.2857142857142857, 0.14285714285714285, 0.0, 0.0, 0.16666666666666666, 0.125, 0.25, 0.0, 0.14285714285714285, 0.0, 0.0, 0.125, 1.0, 0.0, 1.0], 'Director of Guidance': [0.0, 0.2, 0.0, 0.0, 0.14285714285714285, 0.08695652173913043, 0.07692307692307693, 0.0, 0.0, 0.0, 0.0, 0.0, 0.0, 0.0, 0.0, 0.0, 0.0, 0.25, 0.0, 0.0, 0.2, 0.0, 0.0, 0.0, 0.07692307692307693, 0.08333333333333333, 0.0, 0.0, 0.14285714285714285, 0.14285714285714285, 0.3333333333333333, 0.1111111111111111, 0.0, 0.15384615384615385, 0.0, 0.0, 0.0, 0.1111111111111111, 0.0, 0.0, 0.0, 0.0, 0.2, 0.0, 0.0, 0.0, 0.0, 0.0, 0.0, 0.0, 0.0, 0.2857142857142857, 0.0, 0.0, 0.14285714285714285, 0.18181818181818182, 0.1111111111111111, 0.0, 0.07692307692307693, 0.2, 0.25, 0.0, 0.25, 0.16666666666666666, 0.1, 0.3333333333333333, 0.16666666666666666, 0.0, 0.0, 0.0, 0.0, 0.0, 0.2, 0.05555555555555555, 0.25, 0.0, 0.0, 0.0, 0.0, 0.0, 0.14285714285714285, 0.125, 0.0, 0.0, 0.0, 0.0, 0.0, 0.0625, 0.3333333333333333, 0.0, 0.0, 0.4, 0.75, 0.0, 0.05263157894736842, 0.0, 0.25, 0.0, 0.0, 0.0, 0.0, 0.0, 0.0, 0.14285714285714285, 0.0, 0.2222222222222222, 0.14285714285714285, 0.0, 0.0, 0.0, 0.25, 0.0, 0.0, 0.0, 0.09090909090909091, 0.0, 0.3333333333333333, 0.125, 0.0, 0.08333333333333333, 0.3333333333333333, 0.0, 0.14285714285714285, 0.25, 0.0, 0.0, 0.16666666666666666, 0.0, 0.25, 0.125, 0.08333333333333333, 0.25, 0.0, 0.25, 0.14285714285714285, 0.0, 0.0, 0.09090909090909091, 0.0, 0.14285714285714285, 0.08333333333333333, 0.14285714285714285, 0.0, 1.0, 0.0, 1.0, 0.0, 0.2, 0.0, 0.25, 0.2, 0.14285714285714285, 0.25, 0.0, 0.0, 0.0, 0.0, 0.0, 0.0625, 0.2, 0.0, 0.125, 0.0, 0.25, 0.0, 1.0, 0.0, 0.14285714285714285, 0.0, 0.0, 0.25, 0.0, 0.2727272727272727, 0.3333333333333333, 0.25, 0.14285714285714285, 0.2, 1.0, 0.25, 0.05263157894736842, 0.0, 0.0, 0.0, 0.5, 0.0, 0.0, 0.0, 0.16666666666666666, 0.0, 0.25, 0.0, 0.0, 0.25, 0.0, 0.14285714285714285, 0.02857142857142857, 0.1, 0.0, 0.05263157894736842, 0.0, 0.3333333333333333, 0.0, 0.0, 0.0, 0.125, 1.0, 0.25, 0.2, 0.25, 0.3333333333333333, 0.3333333333333333, 0.0, 1.0, 0.16666666666666666, 0.0, 0.25, 0.3333333333333333, 0.0, 1.0, 0.125, 0.0, 0.125], 'Service Consultant': [0.0, 0.25, 0.0, 0.0, 0.0, 0.09090909090909091, 0.08333333333333333, 0.0, 0.0, 0.038461538461538464, 0.0, 0.0, 0.0, 0.0, 0.0, 0.0, 0.0, 0.0, 0.0, 0.1, 0.25, 0.0, 0.0, 0.125, 0.038461538461538464, 0.0, 0.0, 0.0, 0.16666666666666666, 0.16666666666666666, 0.0, 0.0, 0.0, 0.07692307692307693, 0.0, 0.0, 0.125, 0.0, 0.0, 0.0, 0.0, 0.25, 0.0, 0.0, 0.0, 0.0, 0.0, 0.09090909090909091, 0.0, 0.0, 0.0, 0.14285714285714285, 0.09090909090909091, 0.0, 0.0, 0.09090909090909091, 0.0, 0.0, 0.08333333333333333, 0.0, 0.0, 0.0, 0.0, 0.0, 0.0, 0.0, 0.0, 0.0, 0.0, 0.0, 0.0, 0.0, 0.0, 0.058823529411764705, 0.0, 0.125, 0.0, 0.0, 0.0, 0.0, 0.0, 0.14285714285714285, 0.0, 0.0, 0.0, 0.0, 0.0, 0.0, 0.0, 0.0, 0.0, 0.2, 0.2, 0.0, 0.0, 0.0, 0.0, 0.0, 0.0, 0.0, 0.0, 0.0, 0.0, 0.16666666666666666, 0.0, 0.0, 0.0, 0.0, 0.0, 0.0, 0.0, 0.0, 0.0, 0.0, 0.0, 0.0, 0.0, 0.0, 0.0, 0.09090909090909091, 0.0, 0.0, 0.16666666666666666, 0.0, 0.0, 0.0, 0.2, 0.0, 0.0, 0.0, 0.0, 0.0, 0.0, 0.0, 0.0, 0.0, 0.0, 0.1, 0.0, 0.16666666666666666, 0.0, 0.0, 0.0, 0.25, 0.0, 0.25, 0.0, 0.25, 0.0, 0.0, 0.25, 0.0, 0.0, 0.0, 0.3333333333333333, 0.0, 0.0, 0.0, 0.06666666666666667, 0.0, 0.0, 0.0, 0.0, 0.0, 0.0, 0.25, 0.0, 0.16666666666666666, 0.0, 0.0, 0.0, 0.0, 0.08333333333333333, 0.0, 0.0, 0.0, 0.0, 0.25, 0.0, 0.0, 0.0, 0.0, 0.0, 0.25, 0.0, 0.0, 0.0, 0.0, 0.0, 0.0, 0.0, 0.0, 0.0, 0.0, 0.0, 0.0, 0.1111111111111111, 0.0, 0.0, 0.0, 0.0, 0.0, 0.0, 0.0, 0.0, 0.25, 1.0, 0.25, 0.0, 0.0, 0.0, 0.0, 0.25, 0.0, 0.0, 0.0, 0.0, 0.0, 0.25, 0.0, 0.0, 0.0], 'Account Manager': [0.0, 0.5, 0.0, 0.0, 0.0, 0.041666666666666664, 0.0, 0.0, 0.25, 0.0, 0.0, 0.0, 0.0, 0.0, 0.0, 0.0, 0.0, 0.25, 0.0, 0.0, 0.5, 0.6666666666666666, 0.25, 0.0, 0.037037037037037035, 0.0, 0.0, 0.1, 0.3333333333333333, 0.3333333333333333, 0.0, 0.25, 0.0, 0.15384615384615385, 0.16666666666666666, 0.0, 0.0, 0.1111111111111111, 0.0, 0.16666666666666666, 0.0, 0.0, 0.0, 0.0, 0.2, 0.0, 0.25, 0.0, 0.0, 0.0, 0.0, 0.2857142857142857, 0.0, 0.07692307692307693, 0.14285714285714285, 0.18181818181818182, 0.1111111111111111, 0.0, 0.0, 0.0, 0.0, 0.0, 0.0, 0.0, 0.1, 0.0, 0.0, 0.0, 0.0, 0.3333333333333333, 0.0, 0.25, 0.0, 0.11764705882352941, 0.0, 0.0, 0.0, 0.0, 0.0, 0.0, 0.0, 0.2857142857142857, 0.0, 0.4, 0.2222222222222222, 0.058823529411764705, 0.14285714285714285, 0.0, 0.0, 0.25, 0.0, 0.4, 0.16666666666666666, 0.0, 0.05263157894736842, 0.0, 0.0, 0.0, 0.4, 0.1, 0.0, 0.2, 0.2, 0.3333333333333333, 0.0, 0.0, 0.14285714285714285, 0.5, 0.0, 0.0, 0.0, 0.0, 0.16666666666666666, 0.0, 0.0, 0.25, 0.0, 0.2857142857142857, 0.0, 0.18181818181818182, 0.0, 0.0625, 0.3333333333333333, 0.0, 0.2, 0.0, 0.0, 0.0, 0.0, 0.2857142857142857, 0.08333333333333333, 0.0, 0.0, 0.0, 0.0, 0.0, 0.058823529411764705, 0.2, 0.1, 0.3333333333333333, 0.0, 0.14285714285714285, 0.16666666666666666, 0.2, 0.0, 0.2, 0.0, 0.5, 0.0, 0.0, 1.0, 0.0, 0.0, 0.14285714285714285, 0.25, 0.0, 0.0, 0.0, 0.0625, 0.0, 0.0, 0.2857142857142857, 0.4, 0.0, 0.16666666666666666, 0.2, 0.3333333333333333, 0.3333333333333333, 0.0, 0.25, 0.0, 0.0, 0.16666666666666666, 0.0, 0.0, 0.0, 0.0, 0.2, 0.1111111111111111, 0.05263157894736842, 0.0, 0.4, 0.0, 0.2, 0.0, 0.0, 0.2, 0.0, 0.0, 0.0, 0.25, 0.0, 0.25, 0.2, 0.0, 0.02857142857142857, 0.1, 0.058823529411764705, 0.05263157894736842, 0.0, 0.0, 0.0, 0.5, 0.0, 0.2857142857142857, 0.2, 0.25, 1.0, 0.0, 0.0, 0.0, 0.3333333333333333, 0.2, 0.0, 0.0, 0.0, 0.0, 0.0, 0.2, 0.2857142857142857, 0.0, 0.2857142857142857], 'Business Objects Architect': [0.0, 0.25, 0.3333333333333333, 0.0, 0.16666666666666666, 0.09090909090909091, 0.18181818181818182, 0.05, 0.3333333333333333, 0.0, 0.0, 0.0, 0.25, 0.0, 0.0, 0.2, 0.0, 0.3333333333333333, 0.16666666666666666, 0.0, 0.25, 0.0, 0.0, 0.0, 0.08, 0.09090909090909091, 0.07142857142857142, 0.0, 0.0, 0.0, 0.5, 0.125, 0.0, 0.16666666666666666, 0.08333333333333333, 0.05555555555555555, 0.0, 0.125, 0.0, 0.08333333333333333, 0.0, 0.25, 0.0, 0.0, 0.0, 0.0, 0.0, 0.0, 0.0, 0.3333333333333333, 0.0, 0.14285714285714285, 0.0, 0.038461538461538464, 0.16666666666666666, 0.09090909090909091, 0.125, 0.0, 0.18181818181818182, 0.6666666666666666, 0.0, 0.0, 1.0, 0.08333333333333333, 0.25, 0.5, 0.5, 0.3333333333333333, 0.0, 0.0, 0.5, 0.3333333333333333, 0.0, 0.125, 0.3333333333333333, 0.0, 0.0, 0.125, 0.07142857142857142, 0.0, 0.16666666666666666, 0.14285714285714285, 0.0, 0.2, 0.0, 0.0, 0.0, 0.06666666666666667, 0.5, 0.0, 0.0, 0.2, 0.5, 0.0, 0.11764705882352941, 0.5, 1.0, 0.0, 0.0, 0.0, 0.0, 0.25, 0.25, 0.0, 0.0, 0.1111111111111111, 0.15384615384615385, 0.0, 0.0, 0.16666666666666666, 0.3333333333333333, 0.3333333333333333, 0.08333333333333333, 0.0625, 0.2222222222222222, 0.3333333333333333, 0.0, 0.14285714285714285, 0.5, 0.0, 0.5, 0.0, 0.0, 0.3333333333333333, 0.25, 0.0, 0.0, 0.0, 0.2857142857142857, 0.14285714285714285, 0.09090909090909091, 0.0, 0.0, 0.0, 0.4, 0.0, 0.0625, 0.0, 0.1111111111111111, 0.0, 0.2, 0.4, 0.2, 0.25, 0.3333333333333333, 0.25, 0.0, 0.25, 0.0, 1.0, 0.0, 0.4, 1.0, 0.16666666666666666, 0.0, 0.3333333333333333, 0.0, 0.0, 0.0, 0.25, 0.0, 0.14285714285714285, 0.2, 0.3333333333333333, 0.08333333333333333, 0.25, 0.0, 0.0, 0.16666666666666666, 0.3333333333333333, 1.0, 0.5, 0.18181818181818182, 0.5, 0.3333333333333333, 0.16666666666666666, 0.25, 0.25, 0.2857142857142857, 0.11764705882352941, 0.0, 0.2, 0.5, 0.25, 0.0, 0.0, 0.25, 0.5, 0.0, 0.0, 0.0, 0.3333333333333333, 0.2857142857142857, 0.25, 0.4, 0.029411764705882353, 0.0, 0.0, 0.11764705882352941, 0.25, 0.5, 0.5, 0.0, 0.3333333333333333, 0.14285714285714285, 0.25, 0.0, 0.0, 1.0, 0.5, 0.5, 0.0, 0.25, 0.2, 0.0, 0.0, 0.5, 0.0, 0.25, 0.14285714285714285, 0.0, 0.14285714285714285], 'Assistant Principal': [0.0, 0.0, 0.0, 0.0, 0.0, 0.045454545454545456, 0.09090909090909091, 0.0, 0.0, 0.0, 0.0, 0.0, 0.0, 0.0, 0.0, 0.0, 0.0, 0.5, 0.0, 0.0, 0.0, 0.0, 0.0, 0.0, 0.04, 0.1, 0.0, 0.0, 0.0, 0.0, 1.0, 0.0, 0.0, 0.08333333333333333, 0.0, 0.0, 0.0, 0.0, 0.0, 0.0, 0.0, 0.0, 0.0, 0.0, 0.0, 0.0, 0.0, 0.0, 0.0, 0.0, 0.0, 0.16666666666666666, 0.0, 0.0, 0.2, 0.1, 0.0, 0.0, 0.09090909090909091, 0.3333333333333333, 0.0, 0.0, 0.5, 0.09090909090909091, 0.125, 1.0, 0.25, 0.0, 0.0, 0.0, 0.0, 0.0, 0.0, 0.0625, 0.5, 0.0, 0.0, 0.0, 0.0, 0.0, 0.2, 0.0, 0.0, 0.0, 0.0, 0.0, 0.0, 0.07142857142857142, 1.0, 0.0, 0.0, 0.25, 0.25, 0.0, 0.058823529411764705, 0.0, 0.5, 0.0, 0.0, 0.0, 0.0, 0.0, 0.0, 0.0, 0.0, 0.125, 0.07692307692307693, 0.0, 0.0, 0.0, 0.5, 0.0, 0.0, 0.0, 0.1111111111111111, 0.0, 0.0, 0.0, 0.0, 0.0, 1.0, 0.0, 0.0, 0.5, 0.0, 0.0, 0.0, 0.0, 0.14285714285714285, 0.0, 0.0, 0.0, 0.0, 0.0, 0.2, 0.0, 0.0, 0.0, 0.0, 0.0, 0.1, 0.2, 0.0, 0.3333333333333333, 0.0, 0.3333333333333333, 0.0, 0.0, 0.0, 0.5, 0.0, 0.2, 0.5, 0.0, 0.0, 0.0, 0.0, 0.0, 0.0, 0.3333333333333333, 0.0, 0.0, 0.0, 0.5, 0.0, 0.3333333333333333, 0.0, 0.0, 0.0, 0.0, 0.5, 0.0, 0.09090909090909091, 1.0, 0.0, 0.0, 0.3333333333333333, 0.3333333333333333, 0.14285714285714285, 0.058823529411764705, 0.0, 0.0, 0.0, 0.3333333333333333, 0.0, 0.0, 0.0, 0.25, 0.0, 0.0, 0.0, 0.0, 0.14285714285714285, 0.0, 0.2, 0.030303030303030304, 0.0, 0.0, 0.058823529411764705, 0.0, 1.0, 0.0, 0.0, 0.0, 0.0, 0.3333333333333333, 0.0, 0.0, 0.5, 1.0, 1.0, 0.0, 0.3333333333333333, 0.0, 0.0, 0.0, 1.0, 0.0, 0.3333333333333333, 0.0, 0.0, 0.0], 'Integration/Business Intelligence Technical Lead': [0.0, 0.0, 0.0, 0.0, 0.0, 0.045454545454545456, 0.09090909090909091, 0.0, 0.0, 0.0, 0.0, 0.0, 0.0, 0.0, 0.0, 0.0, 0.0, 0.5, 0.0, 0.0, 0.0, 0.0, 0.0, 0.0, 0.04, 0.1, 0.0, 0.0, 0.0, 0.0, 1.0, 0.0, 0.0, 0.08333333333333333, 0.0, 0.0, 0.0, 0.0, 0.0, 0.0, 0.0, 0.0, 0.0, 0.0, 0.0, 0.0, 0.0, 0.0, 0.0, 0.0, 0.0, 0.16666666666666666, 0.0, 0.0, 0.2, 0.1, 0.0, 0.0, 0.09090909090909091, 0.3333333333333333, 0.0, 0.0, 0.5, 0.09090909090909091, 0.125, 1.0, 0.25, 0.0, 0.0, 0.0, 0.0, 0.0, 0.0, 0.0625, 0.5, 0.0, 0.0, 0.0, 0.0, 0.0, 0.2, 0.0, 0.0, 0.0, 0.0, 0.0, 0.0, 0.07142857142857142, 1.0, 0.0, 0.0, 0.25, 0.25, 0.0, 0.058823529411764705, 0.0, 0.5, 0.0, 0.0, 0.0, 0.0, 0.0, 0.0, 0.0, 0.0, 0.125, 0.07692307692307693, 0.0, 0.0, 0.0, 0.5, 0.0, 0.0, 0.0, 0.1111111111111111, 0.0, 0.0, 0.0, 0.0, 0.0, 1.0, 0.0, 0.0, 0.5, 0.0, 0.0, 0.0, 0.0, 0.14285714285714285, 0.0, 0.0, 0.0, 0.0, 0.0, 0.2, 0.0, 0.0, 0.0, 0.0, 0.0, 0.1, 0.2, 0.0, 0.3333333333333333, 0.0, 0.3333333333333333, 0.0, 0.0, 0.0, 0.5, 0.0, 0.2, 0.5, 0.0, 0.0, 0.0, 0.0, 0.0, 0.0, 0.3333333333333333, 0.0, 0.0, 0.0, 0.5, 0.0, 0.3333333333333333, 0.0, 0.0, 0.0, 0.0, 0.5, 0.0, 0.09090909090909091, 1.0, 0.0, 0.0, 0.3333333333333333, 0.3333333333333333, 0.14285714285714285, 0.058823529411764705, 0.0, 0.0, 0.0, 0.3333333333333333, 0.0, 0.0, 0.0, 0.25, 0.0, 0.0, 0.0, 0.0, 0.14285714285714285, 0.0, 0.2, 0.030303030303030304, 0.0, 0.0, 0.058823529411764705, 0.0, 1.0, 0.0, 0.0, 0.0, 0.0, 0.3333333333333333, 0.0, 0.0, 0.5, 1.0, 1.0, 0.0, 0.3333333333333333, 0.0, 0.0, 0.0, 1.0, 0.0, 0.3333333333333333, 0.0, 0.0, 0.0], 'Choral Music Teacher': [0.0, 0.3333333333333333, 0.0, 0.0, 0.0, 0.0, 0.0, 0.0, 0.0, 0.0, 0.0, 0.0, 0.0, 0.0, 0.0, 0.0, 0.0, 0.5, 0.0, 0.0, 0.3333333333333333, 0.5, 0.0, 0.0, 0.0, 0.0, 0.0, 0.0, 0.0, 0.0, 0.0, 0.14285714285714285, 0.0, 0.0, 0.09090909090909091, 0.0, 0.0, 0.14285714285714285, 0.0, 0.09090909090909091, 0.0, 0.0, 0.0, 0.0, 0.3333333333333333, 0.0, 0.0, 0.0, 0.0, 0.0, 0.0, 0.0, 0.0, 0.04, 0.2, 0.0, 0.14285714285714285, 0.0, 0.0, 0.0, 0.0, 0.0, 0.0, 0.0, 0.0, 0.0, 0.0, 0.0, 0.0, 1.0, 0.0, 0.5, 0.0, 0.0625, 0.0, 0.0, 0.0, 0.0, 0.0, 0.0, 0.0, 0.0, 0.0, 0.25, 0.125, 0.06666666666666667, 0.0, 0.0, 0.0, 0.0, 0.0, 0.25, 0.0, 0.0, 0.058823529411764705, 0.0, 0.0, 0.0, 0.25, 0.0, 0.0, 0.3333333333333333, 0.3333333333333333, 0.0, 0.0, 0.0, 0.07692307692307693, 0.3333333333333333, 0.0, 0.0, 0.0, 0.0, 0.09090909090909091, 0.0, 0.0, 0.0, 0.0, 0.16666666666666666, 0.0, 0.0, 0.0, 0.07142857142857142, 0.0, 0.0, 0.3333333333333333, 0.0, 0.0, 0.0, 0.0, 0.16666666666666666, 0.1, 0.0, 0.0, 0.0, 0.0, 0.0, 0.0, 0.0, 0.0, 0.0, 0.0, 0.2, 0.25, 0.0, 0.0, 0.0, 0.0, 0.3333333333333333, 0.0, 0.0, 0.3333333333333333, 0.0, 0.0, 0.2, 0.5, 0.0, 0.0, 0.0, 0.0, 0.0, 0.0, 0.16666666666666666, 0.25, 0.0, 0.09090909090909091, 0.0, 1.0, 0.0, 0.0, 0.0, 0.0, 0.0, 0.09090909090909091, 0.0, 0.0, 0.0, 0.0, 0.0, 0.14285714285714285, 0.058823529411764705, 0.0, 0.25, 0.0, 0.0, 0.0, 0.0, 0.3333333333333333, 0.0, 0.0, 0.0, 0.0, 0.0, 0.14285714285714285, 0.3333333333333333, 0.0, 0.0, 0.0, 0.0, 0.058823529411764705, 0.0, 0.0, 0.0, 0.3333333333333333, 0.0, 0.16666666666666666, 0.0, 0.0, 0.3333333333333333, 0.0, 0.0, 0.0, 1.0, 0.0, 0.0, 0.0, 0.0, 0.0, 0.0, 0.0, 0.16666666666666666, 0.0, 0.16666666666666666], 'Quality Control Engineer': [0.0, 0.2, 0.0, 0.0, 0.14285714285714285, 0.08695652173913043, 0.07692307692307693, 0.0, 0.0, 0.0, 0.0, 0.0, 0.0, 0.0, 0.0, 0.0, 0.0, 0.25, 0.0, 0.0, 0.2, 0.0, 0.0, 0.0, 0.07692307692307693, 0.08333333333333333, 0.0, 0.0, 0.14285714285714285, 0.14285714285714285, 0.3333333333333333, 0.1111111111111111, 0.0, 0.15384615384615385, 0.0, 0.0, 0.0, 0.1111111111111111, 0.0, 0.0, 0.0, 0.0, 0.2, 0.0, 0.0, 0.0, 0.0, 0.0, 0.0, 0.0, 0.0, 0.2857142857142857, 0.0, 0.0, 0.14285714285714285, 0.18181818181818182, 0.1111111111111111, 0.0, 0.07692307692307693, 0.2, 0.25, 0.0, 0.25, 0.16666666666666666, 0.1, 0.3333333333333333, 0.16666666666666666, 0.0, 0.0, 0.0, 0.0, 0.0, 0.2, 0.05555555555555555, 0.25, 0.0, 0.0, 0.0, 0.0, 0.0, 0.14285714285714285, 0.125, 0.0, 0.0, 0.0, 0.0, 0.0, 0.0625, 0.3333333333333333, 0.0, 0.0, 0.4, 0.75, 0.0, 0.05263157894736842, 0.0, 0.25, 0.0, 0.0, 0.0, 0.0, 0.0, 0.0, 0.14285714285714285, 0.0, 0.2222222222222222, 0.14285714285714285, 0.0, 0.0, 0.0, 0.25, 0.0, 0.0, 0.0, 0.09090909090909091, 0.0, 0.3333333333333333, 0.125, 0.0, 0.08333333333333333, 0.3333333333333333, 0.0, 0.14285714285714285, 0.25, 0.0, 0.0, 0.16666666666666666, 0.0, 0.25, 0.125, 0.08333333333333333, 0.25, 0.0, 0.25, 0.14285714285714285, 0.0, 0.0, 0.09090909090909091, 0.0, 0.14285714285714285, 0.08333333333333333, 0.14285714285714285, 0.0, 1.0, 0.0, 1.0, 0.0, 0.2, 0.0, 0.25, 0.2, 0.14285714285714285, 0.25, 0.0, 0.0, 0.0, 0.0, 0.0, 0.0625, 0.2, 0.0, 0.125, 0.0, 0.25, 0.0, 1.0, 0.0, 0.14285714285714285, 0.0, 0.0, 0.25, 0.0, 0.2727272727272727, 0.3333333333333333, 0.25, 0.14285714285714285, 0.2, 1.0, 0.25, 0.05263157894736842, 0.0, 0.0, 0.0, 0.5, 0.0, 0.0, 0.0, 0.16666666666666666, 0.0, 0.25, 0.0, 0.0, 0.25, 0.0, 0.14285714285714285, 0.02857142857142857, 0.1, 0.0, 0.05263157894736842, 0.0, 0.3333333333333333, 0.0, 0.0, 0.0, 0.125, 1.0, 0.25, 0.2, 0.25, 0.3333333333333333, 0.3333333333333333, 0.0, 1.0, 0.16666666666666666, 0.0, 0.25, 0.3333333333333333, 0.0, 1.0, 0.125, 0.0, 0.125], 'Conference Coordinator': [0.05555555555555555, 0.16666666666666666, 0.2, 0.0, 0.2857142857142857, 0.04, 0.15384615384615385, 0.045454545454545456, 0.2, 0.03571428571428571, 0.0, 0.0, 0.16666666666666666, 0.0, 0.0, 0.3333333333333333, 0.0, 0.0, 0.125, 0.08333333333333333, 0.16666666666666666, 0.0, 0.0, 0.0, 0.03571428571428571, 0.0, 0.13333333333333333, 0.0, 0.0, 0.0, 0.0, 0.2222222222222222, 0.0, 0.06666666666666667, 0.07142857142857142, 0.10526315789473684, 0.0, 0.2222222222222222, 0.0, 0.07142857142857142, 0.0, 0.4, 0.16666666666666666, 0.0, 0.16666666666666666, 0.0, 0.0, 0.07692307692307693, 0.0, 0.2, 0.0, 0.0, 0.07692307692307693, 0.07407407407407407, 0.125, 0.0, 0.2222222222222222, 0.0, 0.15384615384615385, 0.16666666666666666, 0.2, 0.0, 0.2, 0.07142857142857142, 0.2, 0.0, 0.14285714285714285, 0.2, 0.0, 0.0, 0.25, 0.2, 0.16666666666666666, 0.1111111111111111, 0.0, 0.0, 0.0, 0.1, 0.13333333333333333, 0.0, 0.0, 0.1111111111111111, 0.0, 0.14285714285714285, 0.0, 0.05555555555555555, 0.0, 0.058823529411764705, 0.0, 0.0, 0.0, 0.0, 0.3333333333333333, 0.0, 0.10526315789473684, 0.25, 0.2, 0.0, 0.0, 0.0, 0.0, 0.16666666666666666, 0.16666666666666666, 0.0, 0.0, 0.09090909090909091, 0.13333333333333333, 0.0, 0.07142857142857142, 0.125, 0.0, 0.2, 0.07142857142857142, 0.05555555555555555, 0.08333333333333333, 0.2, 0.25, 0.25, 0.25, 0.0, 0.0, 0.0, 0.0, 0.0, 0.16666666666666666, 0.25, 0.3333333333333333, 0.0, 0.2222222222222222, 0.25, 0.16666666666666666, 0.2, 0.0, 0.5, 0.125, 0.0, 0.05555555555555555, 0.0, 0.09090909090909091, 0.0, 0.16666666666666666, 0.125, 0.14285714285714285, 0.16666666666666666, 0.2, 0.16666666666666666, 0.0, 0.16666666666666666, 0.0, 0.2, 0.0, 0.2857142857142857, 0.2, 0.125, 0.0, 0.2, 0.0, 0.0, 0.0, 0.16666666666666666, 0.0, 0.25, 0.14285714285714285, 0.2, 0.07142857142857142, 0.16666666666666666, 0.0, 0.0, 0.125, 0.2, 0.2, 0.25, 0.15384615384615385, 0.0, 0.5, 0.2857142857142857, 0.0, 0.16666666666666666, 0.2222222222222222, 0.10526315789473684, 0.0, 0.14285714285714285, 0.25, 0.0, 0.0, 0.0, 0.16666666666666666, 0.14285714285714285, 0.0, 0.5, 0.0, 0.2, 0.2222222222222222, 0.16666666666666666, 0.125, 0.0, 0.0, 0.0, 0.10526315789473684, 0.16666666666666666, 0.0, 0.25, 0.0, 0.2, 0.25, 0.16666666666666666, 0.0, 0.0, 0.2, 0.0, 0.0, 0.0, 0.16666666666666666, 1.0, 0.0, 0.5, 0.0, 0.0, 0.16666666666666666, 0.25, 0.0, 0.25], 'Strength and Conditioning Coach': [0.0, 0.0, 0.0, 0.0, 0.0, 0.045454545454545456, 0.0, 0.05263157894736842, 0.0, 0.04, 0.0, 0.0, 0.0, 0.0, 0.0, 0.0, 0.0, 0.0, 0.0, 0.1111111111111111, 0.0, 0.0, 0.0, 0.14285714285714285, 0.0, 0.0, 0.0, 0.0, 0.0, 0.0, 0.0, 0.0, 1.0, 0.08333333333333333, 0.09090909090909091, 0.058823529411764705, 0.14285714285714285, 0.0, 0.14285714285714285, 0.09090909090909091, 0.0, 0.0, 0.0, 0.5, 0.3333333333333333, 0.5, 0.0, 0.0, 0.0, 0.5, 0.0, 0.0, 0.0, 0.04, 0.0, 0.1, 0.0, 0.0, 0.0, 0.0, 0.0, 0.2, 0.0, 0.0, 0.125, 0.0, 0.0, 0.0, 0.0, 0.0, 0.0, 0.0, 0.3333333333333333, 0.0, 0.0, 0.14285714285714285, 0.0, 0.0, 0.0, 0.0, 0.0, 0.0, 0.0, 0.0, 0.0, 0.0, 0.0, 0.07142857142857142, 0.0, 0.0, 1.0, 0.0, 0.0, 0.0, 0.058823529411764705, 0.0, 0.0, 0.0, 0.0, 0.0, 0.0, 0.0, 0.3333333333333333, 0.0, 0.0, 0.125, 0.07692307692307693, 0.0, 0.0, 0.2, 0.0, 0.5, 0.09090909090909091, 0.0, 0.1111111111111111, 0.0, 0.0, 0.0, 0.0, 0.0, 0.0, 0.0, 0.0, 0.0, 0.0, 0.0, 0.0, 0.0, 0.14285714285714285, 0.0, 0.1, 0.5, 0.0, 0.0, 0.2, 0.0, 0.0, 0.1111111111111111, 0.0, 0.2, 0.1, 0.2, 0.25, 0.0, 0.0, 0.0, 0.0, 0.0, 0.0, 0.0, 0.0, 0.0, 0.0, 0.0, 0.0, 0.0, 0.0, 1.0, 0.0, 0.0, 0.0, 0.0, 0.0, 0.0, 0.09090909090909091, 0.0, 0.0, 0.0, 0.2, 0.0, 0.0, 0.0, 0.0, 0.0, 0.0, 0.2, 0.0, 0.0, 0.0, 0.058823529411764705, 0.0, 0.0, 0.0, 0.0, 0.0, 0.0, 0.3333333333333333, 0.0, 1.0, 0.0, 0.0, 0.0, 0.0, 0.3333333333333333, 0.2, 0.0, 0.0, 0.06666666666666667, 0.058823529411764705, 0.3333333333333333, 0.0, 0.0, 0.0, 0.5, 0.0, 0.0, 0.0, 0.0, 0.0, 0.0, 0.0, 0.0, 0.0, 0.0, 1.0, 0.0, 0.0, 0.0, 0.0, 0.0, 0.0, 0.0], 'Field Technician': [0.0625, 0.0, 0.0, 0.0, 0.16666666666666666, 0.0, 0.08333333333333333, 0.0, 0.0, 0.038461538461538464, 0.0, 0.0, 0.0, 0.0, 0.0, 0.2, 0.0, 0.0, 0.0, 0.1, 0.0, 0.0, 0.0, 0.0, 0.0, 0.0, 0.07142857142857142, 0.0, 0.0, 0.0, 0.0, 0.125, 0.0, 0.0, 0.0, 0.05555555555555555, 0.0, 0.125, 0.0, 0.0, 0.0, 0.25, 0.25, 0.0, 0.25, 0.0, 0.0, 0.09090909090909091, 0.0, 0.0, 0.0, 0.0, 0.09090909090909091, 0.038461538461538464, 0.16666666666666666, 0.0, 0.125, 0.0, 0.08333333333333333, 0.0, 0.3333333333333333, 0.0, 0.0, 0.08333333333333333, 0.1111111111111111, 0.0, 0.0, 0.0, 0.0, 0.0, 0.0, 0.0, 0.25, 0.058823529411764705, 0.0, 0.0, 0.0, 0.0, 0.07142857142857142, 0.0, 0.0, 0.0, 0.0, 0.0, 0.0, 0.0625, 0.0, 0.06666666666666667, 0.0, 0.0, 0.0, 0.0, 0.2, 0.0, 0.05555555555555555, 0.0, 0.0, 0.0, 0.0, 0.0, 0.0, 0.0, 0.0, 0.0, 0.0, 0.1111111111111111, 0.07142857142857142, 0.0, 0.08333333333333333, 0.0, 0.0, 0.0, 0.0, 0.0, 0.0, 0.0, 0.5, 0.14285714285714285, 0.0, 0.0, 0.0, 0.0, 0.0, 0.0, 0.0, 0.5, 0.5, 0.0, 0.125, 0.14285714285714285, 0.09090909090909091, 0.3333333333333333, 0.0, 1.0, 0.0, 0.0, 0.0, 0.0, 0.0, 0.0, 0.09090909090909091, 0.0, 0.0, 0.25, 0.0, 0.25, 0.0, 0.0, 0.0, 0.0, 0.0, 0.16666666666666666, 0.0, 0.0, 0.0, 0.0, 0.0, 0.0, 0.0, 0.25, 0.0, 0.14285714285714285, 0.0, 0.3333333333333333, 0.0, 0.25, 0.0, 0.0, 0.0, 0.0, 0.0, 0.0, 0.08333333333333333, 0.0, 0.3333333333333333, 0.16666666666666666, 0.0, 0.25, 0.125, 0.05555555555555555, 0.0, 0.0, 0.0, 0.0, 0.0, 0.0, 0.0, 0.0, 0.0, 1.0, 0.0, 0.0, 0.125, 0.0, 0.0, 0.0, 0.0, 0.0, 0.05555555555555555, 0.0, 0.0, 0.0, 0.0, 0.0, 0.14285714285714285, 0.25, 0.0, 0.0, 0.0, 0.0, 0.0, 0.0, 0.25, 0.5, 0.0, 1.0, 0.0, 0.0, 0.25, 0.14285714285714285, 0.0, 0.14285714285714285], 'Manager Special Events': [0.0, 0.0, 0.0, 0.0, 0.0, 0.045454545454545456, 0.09090909090909091, 0.0, 0.0, 0.0, 0.0, 0.0, 0.0, 0.0, 0.0, 0.0, 0.0, 0.5, 0.0, 0.0, 0.0, 0.0, 0.0, 0.0, 0.04, 0.1, 0.0, 0.0, 0.0, 0.0, 1.0, 0.0, 0.0, 0.08333333333333333, 0.0, 0.0, 0.0, 0.0, 0.0, 0.0, 0.0, 0.0, 0.0, 0.0, 0.0, 0.0, 0.0, 0.0, 0.0, 0.0, 0.0, 0.16666666666666666, 0.0, 0.0, 0.2, 0.1, 0.0, 0.0, 0.09090909090909091, 0.3333333333333333, 0.0, 0.0, 0.5, 0.09090909090909091, 0.125, 1.0, 0.25, 0.0, 0.0, 0.0, 0.0, 0.0, 0.0, 0.0625, 0.5, 0.0, 0.0, 0.0, 0.0, 0.0, 0.2, 0.0, 0.0, 0.0, 0.0, 0.0, 0.0, 0.07142857142857142, 1.0, 0.0, 0.0, 0.25, 0.25, 0.0, 0.058823529411764705, 0.0, 0.5, 0.0, 0.0, 0.0, 0.0, 0.0, 0.0, 0.0, 0.0, 0.125, 0.07692307692307693, 0.0, 0.0, 0.0, 0.5, 0.0, 0.0, 0.0, 0.1111111111111111, 0.0, 0.0, 0.0, 0.0, 0.0, 1.0, 0.0, 0.0, 0.5, 0.0, 0.0, 0.0, 0.0, 0.14285714285714285, 0.0, 0.0, 0.0, 0.0, 0.0, 0.2, 0.0, 0.0, 0.0, 0.0, 0.0, 0.1, 0.2, 0.0, 0.3333333333333333, 0.0, 0.3333333333333333, 0.0, 0.0, 0.0, 0.5, 0.0, 0.2, 0.5, 0.0, 0.0, 0.0, 0.0, 0.0, 0.0, 0.3333333333333333, 0.0, 0.0, 0.0, 0.5, 0.0, 0.3333333333333333, 0.0, 0.0, 0.0, 0.0, 0.5, 0.0, 0.09090909090909091, 1.0, 0.0, 0.0, 0.3333333333333333, 0.3333333333333333, 0.14285714285714285, 0.058823529411764705, 0.0, 0.0, 0.0, 0.3333333333333333, 0.0, 0.0, 0.0, 0.25, 0.0, 0.0, 0.0, 0.0, 0.14285714285714285, 0.0, 0.2, 0.030303030303030304, 0.0, 0.0, 0.058823529411764705, 0.0, 1.0, 0.0, 0.0, 0.0, 0.0, 0.3333333333333333, 0.0, 0.0, 0.5, 1.0, 1.0, 0.0, 0.3333333333333333, 0.0, 0.0, 0.0, 1.0, 0.0, 0.3333333333333333, 0.0, 0.0, 0.0], 'Referee': [0.0, 0.0, 0.0, 0.0, 0.16666666666666666, 0.0, 0.08333333333333333, 0.10526315789473684, 0.0, 0.08, 0.0, 0.0, 0.25, 0.0, 0.0, 0.0, 0.0, 0.0, 0.16666666666666666, 0.0, 0.0, 0.0, 0.3333333333333333, 0.0, 0.038461538461538464, 0.0, 0.0, 0.0, 0.16666666666666666, 0.16666666666666666, 0.0, 0.0, 0.0, 0.07692307692307693, 0.18181818181818182, 0.0, 0.0, 0.125, 0.0, 0.18181818181818182, 0.2, 0.0, 0.25, 0.3333333333333333, 0.0, 0.0, 0.3333333333333333, 0.09090909090909091, 0.0, 0.0, 0.0, 0.14285714285714285, 0.09090909090909091, 0.08, 0.0, 0.0, 0.125, 0.5, 0.08333333333333333, 0.25, 0.3333333333333333, 0.0, 0.0, 0.08333333333333333, 0.1111111111111111, 0.0, 0.0, 0.0, 0.5, 0.0, 0.0, 0.0, 0.0, 0.058823529411764705, 0.0, 0.0, 0.0, 0.0, 0.15384615384615385, 0.0, 0.0, 0.14285714285714285, 0.0, 0.2, 0.0, 0.0, 0.0, 0.06666666666666667, 0.0, 0.3333333333333333, 0.0, 0.0, 0.0, 0.0, 0.11764705882352941, 0.0, 0.0, 0.0, 0.2, 0.0, 0.0, 0.0, 0.0, 0.16666666666666666, 0.0, 0.0, 0.0, 0.0, 0.08333333333333333, 0.16666666666666666, 0.0, 0.0, 0.18181818181818182, 0.0625, 0.1, 0.0, 0.0, 0.0, 0.0, 0.0, 0.0, 0.0, 0.16666666666666666, 0.0, 0.0, 0.0, 0.0, 0.0, 0.125, 0.0, 0.0, 0.0, 0.5, 0.0, 0.0, 1.0, 0.0625, 0.0, 0.0, 0.0, 0.09090909090909091, 0.0, 0.0, 0.0, 0.0, 0.0, 0.0, 0.0, 0.0, 0.0, 0.0, 0.0, 0.0, 0.0, 0.0, 0.0, 0.0, 0.0, 0.06666666666666667, 0.0, 0.14285714285714285, 0.0, 0.2, 0.0, 0.18181818181818182, 0.0, 0.0, 0.16666666666666666, 0.16666666666666666, 0.0, 0.0, 0.0, 0.08333333333333333, 0.0, 0.0, 0.0, 0.0, 0.0, 0.125, 0.11764705882352941, 0.3333333333333333, 0.2, 0.0, 0.0, 0.0, 0.0, 0.0, 0.0, 0.0, 0.0, 0.3333333333333333, 0.0, 0.0, 0.0, 0.0, 0.029411764705882353, 0.0, 0.0625, 0.11764705882352941, 0.0, 0.0, 0.0, 0.0, 0.0, 0.0, 0.0, 0.0, 0.0, 0.0, 0.0, 0.0, 0.0, 0.0, 0.0, 0.0, 0.0, 0.0, 1.0, 0.0, 0.0, 0.3333333333333333, 0.0], 'Controls Engineer': [0.0, 0.2, 0.0, 0.0, 0.14285714285714285, 0.08695652173913043, 0.07692307692307693, 0.0, 0.0, 0.0, 0.0, 0.0, 0.0, 0.0, 0.0, 0.0, 0.0, 0.25, 0.0, 0.0, 0.2, 0.0, 0.0, 0.0, 0.07692307692307693, 0.08333333333333333, 0.0, 0.0, 0.14285714285714285, 0.14285714285714285, 0.3333333333333333, 0.1111111111111111, 0.0, 0.15384615384615385, 0.0, 0.0, 0.0, 0.1111111111111111, 0.0, 0.0, 0.0, 0.0, 0.2, 0.0, 0.0, 0.0, 0.0, 0.0, 0.0, 0.0, 0.0, 0.2857142857142857, 0.0, 0.0, 0.14285714285714285, 0.18181818181818182, 0.1111111111111111, 0.0, 0.07692307692307693, 0.2, 0.25, 0.0, 0.25, 0.16666666666666666, 0.1, 0.3333333333333333, 0.16666666666666666, 0.0, 0.0, 0.0, 0.0, 0.0, 0.2, 0.05555555555555555, 0.25, 0.0, 0.0, 0.0, 0.0, 0.0, 0.14285714285714285, 0.125, 0.0, 0.0, 0.0, 0.0, 0.0, 0.0625, 0.3333333333333333, 0.0, 0.0, 0.4, 0.75, 0.0, 0.05263157894736842, 0.0, 0.25, 0.0, 0.0, 0.0, 0.0, 0.0, 0.0, 0.14285714285714285, 0.0, 0.2222222222222222, 0.14285714285714285, 0.0, 0.0, 0.0, 0.25, 0.0, 0.0, 0.0, 0.09090909090909091, 0.0, 0.3333333333333333, 0.125, 0.0, 0.08333333333333333, 0.3333333333333333, 0.0, 0.14285714285714285, 0.25, 0.0, 0.0, 0.16666666666666666, 0.0, 0.25, 0.125, 0.08333333333333333, 0.25, 0.0, 0.25, 0.14285714285714285, 0.0, 0.0, 0.09090909090909091, 0.0, 0.14285714285714285, 0.08333333333333333, 0.14285714285714285, 0.0, 1.0, 0.0, 1.0, 0.0, 0.2, 0.0, 0.25, 0.2, 0.14285714285714285, 0.25, 0.0, 0.0, 0.0, 0.0, 0.0, 0.0625, 0.2, 0.0, 0.125, 0.0, 0.25, 0.0, 1.0, 0.0, 0.14285714285714285, 0.0, 0.0, 0.25, 0.0, 0.2727272727272727, 0.3333333333333333, 0.25, 0.14285714285714285, 0.2, 1.0, 0.25, 0.05263157894736842, 0.0, 0.0, 0.0, 0.5, 0.0, 0.0, 0.0, 0.16666666666666666, 0.0, 0.25, 0.0, 0.0, 0.25, 0.0, 0.14285714285714285, 0.02857142857142857, 0.1, 0.0, 0.05263157894736842, 0.0, 0.3333333333333333, 0.0, 0.0, 0.0, 0.125, 1.0, 0.25, 0.2, 0.25, 0.3333333333333333, 0.3333333333333333, 0.0, 1.0, 0.16666666666666666, 0.0, 0.25, 0.3333333333333333, 0.0, 1.0, 0.125, 0.0, 0.125], 'Implementation Consultant': [0.05, 0.2857142857142857, 0.14285714285714285, 0.0, 0.2222222222222222, 0.07692307692307693, 0.0625, 0.041666666666666664, 0.3333333333333333, 0.0, 0.14285714285714285, 0.0, 0.125, 0.0, 0.0, 0.1111111111111111, 0.0, 0.14285714285714285, 0.1, 0.0, 0.2857142857142857, 0.3333333333333333, 0.14285714285714285, 0.0, 0.06896551724137931, 0.06666666666666667, 0.11764705882352941, 0.07692307692307693, 0.2222222222222222, 0.2222222222222222, 0.0, 0.8571428571428571, 0.0, 0.125, 0.3076923076923077, 0.09523809523809523, 0.0, 0.3, 0.0, 0.3076923076923077, 0.0, 0.125, 0.125, 0.0, 0.125, 0.14285714285714285, 0.14285714285714285, 0.0, 0.07142857142857142, 0.14285714285714285, 0.0, 0.2, 0.0, 0.14814814814814814, 0.1, 0.06666666666666667, 0.3, 0.0, 0.0625, 0.125, 0.14285714285714285, 0.0, 0.14285714285714285, 0.0625, 0.16666666666666666, 0.0, 0.1111111111111111, 0.14285714285714285, 0.0, 0.16666666666666666, 0.16666666666666666, 0.3333333333333333, 0.125, 0.2222222222222222, 0.0, 0.0, 0.0, 0.08333333333333333, 0.05555555555555555, 0.14285714285714285, 0.0, 0.3333333333333333, 0.0, 0.42857142857142855, 0.16666666666666666, 0.05, 0.1, 0.0, 0.0, 0.14285714285714285, 0.0, 0.1111111111111111, 0.25, 0.0, 0.15, 0.16666666666666666, 0.14285714285714285, 0.0, 0.25, 0.07692307692307693, 0.0, 0.2857142857142857, 0.2857142857142857, 0.2222222222222222, 0.0, 0.07692307692307693, 0.46153846153846156, 0.5, 0.0625, 0.1, 0.0, 0.14285714285714285, 0.3076923076923077, 0.05, 0.07142857142857142, 0.3333333333333333, 0.16666666666666666, 1.0, 0.16666666666666666, 0.06666666666666667, 0.0, 0.05263157894736842, 0.2222222222222222, 0.0, 0.2857142857142857, 0.0, 0.25, 0.0, 0.3, 1.0, 0.23076923076923078, 0.14285714285714285, 0.0, 0.14285714285714285, 0.1, 0.0, 0.16666666666666666, 0.07142857142857142, 0.16666666666666666, 0.1, 0.06666666666666667, 0.2222222222222222, 0.42857142857142855, 0.125, 0.3333333333333333, 0.125, 0.0, 0.2857142857142857, 0.0, 0.14285714285714285, 0.2857142857142857, 0.2222222222222222, 0.14285714285714285, 0.375, 0.14285714285714285, 0.14285714285714285, 0.0, 0.0, 0.05263157894736842, 0.0, 0.0, 1.0, 0.42857142857142855, 0.0, 0.3076923076923077, 0.125, 0.16666666666666666, 0.2222222222222222, 0.1, 0.3333333333333333, 0.14285714285714285, 0.16666666666666666, 0.21428571428571427, 0.0, 0.3333333333333333, 0.2222222222222222, 0.0, 0.125, 0.3, 0.15, 0.0, 0.42857142857142855, 0.16666666666666666, 0.0, 0.0, 0.0, 0.2857142857142857, 0.1111111111111111, 0.0, 0.14285714285714285, 0.14285714285714285, 0.14285714285714285, 0.4444444444444444, 0.2857142857142857, 0.1, 0.05405405405405406, 0.0, 0.05, 0.15, 0.125, 0.0, 0.16666666666666666, 0.5, 0.14285714285714285, 1.0, 0.125, 0.0, 0.2857142857142857, 0.14285714285714285, 0.0, 0.0, 0.16666666666666666, 0.125, 0.25, 0.0, 0.14285714285714285, 0.0, 0.0, 0.125, 1.0, 0.0, 1.0], 'Health/Physical Education Teacher': [0.0, 0.0, 0.0, 0.0, 0.4, 0.043478260869565216, 0.18181818181818182, 0.10526315789473684, 0.0, 0.08, 0.0, 0.08333333333333333, 0.6666666666666666, 0.5, 0.25, 0.0, 0.3333333333333333, 0.0, 0.16666666666666666, 0.0, 0.0, 0.0, 0.3333333333333333, 0.0, 0.08, 0.0, 0.07142857142857142, 0.1111111111111111, 0.4, 0.4, 0.0, 0.0, 0.0, 0.07692307692307693, 0.18181818181818182, 0.05555555555555555, 0.0, 0.2857142857142857, 0.125, 0.18181818181818182, 0.0, 0.0, 0.0, 0.0, 0.0, 0.0, 0.3333333333333333, 0.09090909090909091, 0.0, 0.0, 0.1111111111111111, 0.3333333333333333, 0.09090909090909091, 0.08, 0.0, 0.09090909090909091, 0.2857142857142857, 0.5, 0.18181818181818182, 0.25, 0.3333333333333333, 0.0, 0.0, 0.08333333333333333, 0.0, 0.0, 0.2, 0.0, 0.5, 0.0, 0.0, 0.0, 0.0, 0.058823529411764705, 0.0, 0.0, 0.0, 0.0, 0.07142857142857142, 0.0, 0.16666666666666666, 0.3333333333333333, 0.0, 0.2, 0.1111111111111111, 0.0, 0.0, 0.06666666666666667, 0.0, 0.3333333333333333, 0.0, 0.0, 0.0, 0.0, 0.05555555555555555, 0.0, 0.0, 0.5, 0.5, 0.1111111111111111, 0.2, 0.0, 0.0, 0.4, 0.0, 0.0, 0.0, 0.0, 0.18181818181818182, 0.16666666666666666, 0.3333333333333333, 0.0, 0.18181818181818182, 0.0625, 0.2222222222222222, 0.0, 0.0, 0.0, 0.0, 0.09090909090909091, 0.0, 0.06666666666666667, 0.4, 0.0, 0.0, 0.0, 0.0, 0.14285714285714285, 0.0, 0.0, 0.09090909090909091, 0.0, 0.5, 0.0, 0.0, 0.3333333333333333, 0.0, 0.0, 0.0, 0.0, 0.09090909090909091, 0.0, 0.0, 0.0, 0.0, 0.0, 0.0, 0.0, 0.0, 0.0, 0.0, 0.0, 0.0, 0.0, 0.0, 0.0, 0.0, 0.0, 0.14285714285714285, 0.0, 0.0, 0.0, 0.2, 0.0, 0.18181818181818182, 0.0, 0.0, 0.4, 0.16666666666666666, 0.0, 0.0, 0.0, 0.08333333333333333, 0.0, 0.0, 0.0, 0.0, 0.0, 0.125, 0.05555555555555555, 1.0, 0.2, 0.0, 0.0, 0.0, 0.0, 0.0, 0.2, 0.0, 0.0, 0.3333333333333333, 0.0, 0.0, 0.0, 0.0, 0.029411764705882353, 0.1111111111111111, 0.13333333333333333, 0.05555555555555555, 0.0, 0.0, 0.0, 0.0, 0.0, 0.0, 0.0, 0.0, 0.0, 0.0, 0.0, 0.0, 0.0, 0.0, 0.0, 0.0, 0.0, 0.0, 0.3333333333333333, 0.0, 0.0, 1.0, 0.0], 'Mechanical Engineer': [0.05, 0.2857142857142857, 0.14285714285714285, 0.0, 0.2222222222222222, 0.07692307692307693, 0.0625, 0.041666666666666664, 0.3333333333333333, 0.0, 0.14285714285714285, 0.0, 0.125, 0.0, 0.0, 0.1111111111111111, 0.0, 0.14285714285714285, 0.1, 0.0, 0.2857142857142857, 0.3333333333333333, 0.14285714285714285, 0.0, 0.06896551724137931, 0.06666666666666667, 0.11764705882352941, 0.07692307692307693, 0.2222222222222222, 0.2222222222222222, 0.0, 0.8571428571428571, 0.0, 0.125, 0.3076923076923077, 0.09523809523809523, 0.0, 0.3, 0.0, 0.3076923076923077, 0.0, 0.125, 0.125, 0.0, 0.125, 0.14285714285714285, 0.14285714285714285, 0.0, 0.07142857142857142, 0.14285714285714285, 0.0, 0.2, 0.0, 0.14814814814814814, 0.1, 0.06666666666666667, 0.3, 0.0, 0.0625, 0.125, 0.14285714285714285, 0.0, 0.14285714285714285, 0.0625, 0.16666666666666666, 0.0, 0.1111111111111111, 0.14285714285714285, 0.0, 0.16666666666666666, 0.16666666666666666, 0.3333333333333333, 0.125, 0.2222222222222222, 0.0, 0.0, 0.0, 0.08333333333333333, 0.05555555555555555, 0.14285714285714285, 0.0, 0.3333333333333333, 0.0, 0.42857142857142855, 0.16666666666666666, 0.05, 0.1, 0.0, 0.0, 0.14285714285714285, 0.0, 0.1111111111111111, 0.25, 0.0, 0.15, 0.16666666666666666, 0.14285714285714285, 0.0, 0.25, 0.07692307692307693, 0.0, 0.2857142857142857, 0.2857142857142857, 0.2222222222222222, 0.0, 0.07692307692307693, 0.46153846153846156, 0.5, 0.0625, 0.1, 0.0, 0.14285714285714285, 0.3076923076923077, 0.05, 0.07142857142857142, 0.3333333333333333, 0.16666666666666666, 1.0, 0.16666666666666666, 0.06666666666666667, 0.0, 0.05263157894736842, 0.2222222222222222, 0.0, 0.2857142857142857, 0.0, 0.25, 0.0, 0.3, 1.0, 0.23076923076923078, 0.14285714285714285, 0.0, 0.14285714285714285, 0.1, 0.0, 0.16666666666666666, 0.07142857142857142, 0.16666666666666666, 0.1, 0.06666666666666667, 0.2222222222222222, 0.42857142857142855, 0.125, 0.3333333333333333, 0.125, 0.0, 0.2857142857142857, 0.0, 0.14285714285714285, 0.2857142857142857, 0.2222222222222222, 0.14285714285714285, 0.375, 0.14285714285714285, 0.14285714285714285, 0.0, 0.0, 0.05263157894736842, 0.0, 0.0, 1.0, 0.42857142857142855, 0.0, 0.3076923076923077, 0.125, 0.16666666666666666, 0.2222222222222222, 0.1, 0.3333333333333333, 0.14285714285714285, 0.16666666666666666, 0.21428571428571427, 0.0, 0.3333333333333333, 0.2222222222222222, 0.0, 0.125, 0.3, 0.15, 0.0, 0.42857142857142855, 0.16666666666666666, 0.0, 0.0, 0.0, 0.2857142857142857, 0.1111111111111111, 0.0, 0.14285714285714285, 0.14285714285714285, 0.14285714285714285, 0.4444444444444444, 0.2857142857142857, 0.1, 0.05405405405405406, 0.0, 0.05, 0.15, 0.125, 0.0, 0.16666666666666666, 0.5, 0.14285714285714285, 1.0, 0.125, 0.0, 0.2857142857142857, 0.14285714285714285, 0.0, 0.0, 0.16666666666666666, 0.125, 0.25, 0.0, 0.14285714285714285, 0.0, 0.0, 0.125, 1.0, 0.0, 1.0]}\n"
          ],
          "name": "stdout"
        }
      ]
    },
    {
      "cell_type": "code",
      "metadata": {
        "colab": {
          "base_uri": "https://localhost:8080/"
        },
        "id": "kmAaYNWU9HxO",
        "outputId": "f6f8c01e-e343-440a-8bca-1055a4a953a3"
      },
      "source": [
        "len(tanimoto_sim_dict)"
      ],
      "execution_count": null,
      "outputs": [
        {
          "output_type": "execute_result",
          "data": {
            "text/plain": [
              "222"
            ]
          },
          "metadata": {
            "tags": []
          },
          "execution_count": 60
        }
      ]
    },
    {
      "cell_type": "markdown",
      "metadata": {
        "id": "yXiPXBYB9J7c"
      },
      "source": [
        " **Recommending Top5 Jobs**"
      ]
    },
    {
      "cell_type": "markdown",
      "metadata": {
        "id": "9RfTxX0J9UiO"
      },
      "source": [
        "Calculating similarity between skills query set and jobs skills set"
      ]
    },
    {
      "cell_type": "code",
      "metadata": {
        "id": "leyugejR9RaS"
      },
      "source": [
        "def calulate_query_similarity(skills_query):\n",
        "\n",
        "    tanimoto_dict={}\n",
        "\n",
        "    for index,obj in enumerate(skills):\n",
        "        union_result=union(skills_query, obj)\n",
        "        # print(\"length of union result\",len(union_result))\n",
        "        intersection_result=intersection(skills_query, obj)\n",
        "        # print(\"length of intersection result\",len(intersection_result))\n",
        "\n",
        "        tanimoto_dict[jobs[index]]=(len(intersection_result)/len(union_result))\n",
        "\n",
        "    return tanimoto_dict\n"
      ],
      "execution_count": null,
      "outputs": []
    },
    {
      "cell_type": "markdown",
      "metadata": {
        "id": "rLT8IWZP9fNF"
      },
      "source": [
        "# Finding similarity for query skills set and Top matched job"
      ]
    },
    {
      "cell_type": "code",
      "metadata": {
        "colab": {
          "base_uri": "https://localhost:8080/"
        },
        "id": "B4qzgpFl9qKG",
        "outputId": "23d47446-ec0d-4794-9575-d86ae2c1573c"
      },
      "source": [
        "def recommend():\n",
        "    #Function for Query preprocessing and calculation of jaccard coeff.\n",
        "\n",
        "    skills_input=input(\"Please Enter Your Skills:  \")\n",
        "    #enter queries with proper space in betwen\n",
        "\n",
        "    #Deleting special charachter if any from input\n",
        "    skills_preprocessed=delete_spec_chars(skills_input)\n",
        "\n",
        "    #Tokenizing those skills\n",
        "    tokens = word_tokenize(skills_preprocessed)\n",
        "\n",
        "    #Converting all the skills in lower case, because while making dataframe also we converted skills in lower case\n",
        "    tokens= [word.lower() for word in tokens]\n",
        "\n",
        "    #removing stop words and words of length 1 also it may be possibility that user may enter some garbage value that's why\n",
        "    skills_query=[word for word in tokens if word not in stop_words and len(word) > 1] #Removing stopwords \n",
        "    \n",
        "    print(skills_query)\n",
        "\n",
        "    #Calculating tanimoto similarity of skills with all the available job skills\n",
        "    tanimoto_val=calulate_query_similarity(skills_query)\n",
        "\n",
        "    # print(tanimoto_val)\n",
        "\n",
        "    #Calculate highest matched documents \n",
        "    #for that we have to sort them in descending order\n",
        "    sorted_d = dict( sorted(tanimoto_val.items(), key=operator.itemgetter(1),reverse=True))\n",
        "    # top5=calculate_top(jaccard_val)\n",
        "    # print(top5)\n",
        "    # return top5\n",
        "\n",
        "    return tanimoto_val,sorted_d\n",
        "\n",
        "tanimoto_similarity_val,sorted_d=recommend()\n",
        "\n",
        "print(\"before sorting\")\n",
        "print(tanimoto_similarity_val)\n",
        "\n",
        "print(\"after sorting\")\n",
        "print(sorted_d)"
      ],
      "execution_count": null,
      "outputs": [
        {
          "output_type": "stream",
          "text": [
            "Please Enter Your Skills:  ai, http\n",
            "['ai', 'http']\n",
            "before sorting\n",
            "{'Medical Receptionist': 0.0625, 'Clinical Research Associate': 0.0, 'Territory Sales Representative': 0.0, 'Endoscopy Nurse': 0.0, 'Bus Driver': 0.16666666666666666, 'Foreign Service Officer': 0.0, 'Sales Analyst': 0.08333333333333333, 'Strategy Consultant?': 0.0, 'Pipeline Engineer': 0.0, 'Cost Engineer': 0.038461538461538464, 'Technical Writer': 0.0, 'Solutions Consultant - Electrical Engineering': 0.0, 'Power Regulator': 0.0, 'Conservation Technician': 0.0, 'Manager of Engineering': 0.0, 'Forecast Systems Manager': 0.2, 'Water Services Technician': 0.0, 'Front Desk Associate': 0.0, 'Senior Analyst Retail Analytics and Reporting': 0.0, 'Total Quality Management Director': 0.1, 'Aviation Inside Sales': 0.0, 'HVAC Mechanic': 0.0, 'Cognos Business Development Architect': 0.0, 'School Social Worker': 0.0, 'International Education Coordinator': 0.0, 'Treasurer': 0.0, 'Pipefitter': 0.07142857142857142, 'Manufacturing Customer Service Representative': 0.0, 'Laboratory Sales Consultant': 0.0, 'Quality Assurance Manager': 0.0, 'Customer Service Agent': 0.0, 'Night Auditor': 0.125, 'Process Control Engineer': 0.0, 'Business Intelligence Developer': 0.0, 'Concrete Finisher': 0.0, 'Solid Waste Field Technician': 0.05555555555555555, 'Healthcare Consultant': 0.0, 'Producer Travel Channel': 0.125, 'Organic Lab Worker': 0.0, 'Attorney': 0.0, 'Compliance Engineer': 0.0, 'Research and Development Tester': 0.25, 'Quality Associate/Validation': 0.25, 'Chief of Career Pathways and Integrated Learning': 0.0, 'Executive Conference Manager': 0.25, 'Assistant Coach': 0.0, 'IT Support Staff': 0.0, 'Cardiovascular Operating Room Nurse': 0.09090909090909091, 'Meeting Specialist': 0.0, 'Vice Principal': 0.0, 'Cyber Intelligence Watch Officer': 0.0, 'Freelance Travel Writer': 0.0, 'Assistant General Manager': 0.09090909090909091, 'Account Executive': 0.038461538461538464, 'Catering Account Manger': 0.16666666666666666, 'Process Engineer': 0.0, 'Catering Manager': 0.125, 'Roadie': 0.0, 'Research and Development Technician': 0.08333333333333333, 'Front Desk Attendant': 0.0, 'Human Resources Assistant': 0.3333333333333333, 'Station Agent': 0.0, 'Sales and Marketing Coordinator': 0.0, 'Solar Installers': 0.08333333333333333, 'Environmental Project Analyst': 0.1111111111111111, 'Travel Consultant': 0.0, 'Stationary Engineer': 0.0, 'Material Handler': 0.0, 'Healthcare Business Intelligence Manager': 0.0, 'Senior Competitive Intelligence Manager': 0.0, 'Quality Assurance Technologist': 0.0, 'Component Engineer': 0.0, 'Threat Intelligence Analyst': 0.25, 'Staff Assistant - Accounting': 0.058823529411764705, 'Metal Building Erector': 0.0, 'Environmental Services Representative': 0.0, 'Staff Engineer': 0.0, 'Assistant Technician': 0.0, 'Project Manager': 0.07142857142857142, 'Maintenance Engineer': 0.0, 'Engineering Technician': 0.0, 'Director of Hotel Sales': 0.0, 'Solution Architect Business Intelligence': 0.0, 'Mutual Fund Analyst': 0.0, 'Market Access Associate': 0.0, 'Operations Research Analysis Manager': 0.0625, 'Bellman': 0.0, 'Real Estate Appraiser': 0.06666666666666667, 'Human Resources Director': 0.0, 'Crew Scheduling Manager': 0.0, 'Controller': 0.0, 'Senior Manager Yield and Revenue Management': 0.0, 'Transportation Project Manager': 0.2, 'Chemical Technician': 0.0, 'Investment Advisor': 0.05555555555555555, 'Oceanographer': 0.0, 'Sales Coordinator': 0.0, 'Concierge': 0.0, 'Institutional Research Business Intelligence Systems Analyst': 0.0, 'Producer': 0.0, 'Commercial Sales Representative': 0.0, 'Electrical Design Engineer': 0.0, 'Marketing Consultant': 0.0, 'Senior Manager of Industry Analytics': 0.0, 'Valet Parker': 0.0, 'Organic Lab Research Assistant': 0.1111111111111111, 'Pharmacy Assistant': 0.07142857142857142, 'Lineman': 0.0, 'Compensation Manager': 0.08333333333333333, 'Golf Pro': 0.0, 'Principal Service Engineer': 0.0, 'Retail Sales Associate': 0.0, 'Group Sales Management': 0.0, 'Club Representative': 0.0, 'Client Service Specialist': 0.0, 'Operations Agent': 0.0, 'Operations Clerk': 0.5, 'Technical Support Engineer': 0.14285714285714285, 'Special Education Teacher': 0.0, 'Heavy Equipment Technician': 0.0, 'Travel Secretary': 0.0, 'Benefit Coordinator': 0.0, 'Reservoir Engineer': 0.0, 'Quality Assistant': 0.0, 'Ethics Office Business Intelligence Officer': 0.0, 'Chemical Engineer': 0.5, 'Government Contract Consultant': 0.5, 'Electronics Engineer': 0.0, 'General Manager': 0.125, 'Event Coordinator': 0.14285714285714285, 'Software Developer': 0.09090909090909091, 'Corporate Sales Manager': 0.3333333333333333, 'Director of? Customer Success and Satisfaction': 0.0, 'Laboratory Assistant': 1.0, 'Assistant Customer Care Center Manager': 0.0, 'Technical Trainer': 0.0, 'Manufacturing Specialist': 0.0, 'Piping Stress Engineer': 0.0, 'RF Engineer': 0.0, 'Rental Representative': 0.0, 'Data Architect': 0.09090909090909091, 'Organizational Development Consultant': 0.0, 'Drilling Engineer': 0.0, 'Hostess': 0.25, 'School Nurse': 0.0, 'Behavior Specialist': 0.25, 'Construction Engineer': 0.0, 'Corporate Reservations Agent': 0.0, 'Chef': 0.0, 'Athletic Scout': 0.0, 'Provisioning Agents': 0.0, 'Environmental Compliance Engineer': 0.16666666666666666, 'Senior Mechanical Engineer': 0.0, 'Customer Support Associate': 0.0, 'Associate Producer Events': 0.0, 'Airline Pilot': 0.0, 'Sales Manager': 0.0, 'Computer Science Teacher': 0.0, 'Territory Service Representative': 0.0, 'Corporate Recruiter': 0.25, 'Ground Support Equipment Mechanic': 0.0, 'Software Engineer - Data Warehouse/Business Intelligence': 0.14285714285714285, 'Network Engineer': 0.0, 'Global Development Specialist': 0.3333333333333333, 'Fabricator': 0.0, 'Technology Consultant': 0.25, 'Patient Care Coordinator': 0.0, 'Senior Manager Product Intelligence and Cost Analytics': 0.0, 'Countertop Fabricator and Installer': 0.0, 'Cruise Ship': 0.0, 'Commercial Print Management Consultant': 0.0, 'Instrumentation Engineer': 0.0, 'Competitive Intelligence Manager': 0.08333333333333333, 'Firmware Engineer': 0.0, 'Dermatology Nurse': 0.3333333333333333, 'International Travel Consultant': 0.16666666666666666, 'Production Assistant Events': 0.0, 'Alarm Technician': 0.25, 'Sports Physician': 0.125, 'Guest Room Sales Manager': 0.05555555555555555, 'Hunting Guide': 0.0, 'Server': 0.0, 'Guest Services Agent': 0.0, 'Wedding Sales Manager': 0.0, 'Concierge?': 0.0, 'Industrial Technology Teacher': 0.0, 'Front Desk Clerk': 0.0, 'Tax Advisor': 0.0, 'Patio Room Installer': 0.0, 'Vice President of Engineering': 1.0, 'Change Management Consultant': 0.0, 'Financial Analyst': 0.0, 'Online Customer Support': 0.125, 'Cook': 0.0, 'Associate Athletic Director': 0.0, 'Front Desk Manager': 0.0, 'Tile Setter': 0.0, 'Technology Research Manager': 0.0, 'Rotating Equipment Engineer': 0.05555555555555555, 'Director of Hotel Operations': 0.0, 'Front End Load Driver': 0.0, 'Oracle Technical Lead': 0.0, 'Informatica Extract Transform Load (ETL) Developer': 0.0, 'Mining Safety Engineer': 0.0, 'Passenger Service Agent': 0.14285714285714285, 'Director of Guidance': 0.25, 'Service Consultant': 0.0, 'Account Manager': 0.0, 'Business Objects Architect': 0.0, 'Assistant Principal': 0.0, 'Integration/Business Intelligence Technical Lead': 0.0, 'Choral Music Teacher': 0.0, 'Quality Control Engineer': 0.25, 'Conference Coordinator': 0.5, 'Strength and Conditioning Coach': 0.0, 'Field Technician': 1.0, 'Manager Special Events': 0.0, 'Referee': 0.0, 'Controls Engineer': 0.25, 'Implementation Consultant': 0.14285714285714285, 'Health/Physical Education Teacher': 0.0, 'Mechanical Engineer': 0.14285714285714285}\n",
            "after sorting\n",
            "{'Laboratory Assistant': 1.0, 'Vice President of Engineering': 1.0, 'Field Technician': 1.0, 'Operations Clerk': 0.5, 'Chemical Engineer': 0.5, 'Government Contract Consultant': 0.5, 'Conference Coordinator': 0.5, 'Human Resources Assistant': 0.3333333333333333, 'Corporate Sales Manager': 0.3333333333333333, 'Global Development Specialist': 0.3333333333333333, 'Dermatology Nurse': 0.3333333333333333, 'Research and Development Tester': 0.25, 'Quality Associate/Validation': 0.25, 'Executive Conference Manager': 0.25, 'Threat Intelligence Analyst': 0.25, 'Hostess': 0.25, 'Behavior Specialist': 0.25, 'Corporate Recruiter': 0.25, 'Technology Consultant': 0.25, 'Alarm Technician': 0.25, 'Director of Guidance': 0.25, 'Quality Control Engineer': 0.25, 'Controls Engineer': 0.25, 'Forecast Systems Manager': 0.2, 'Transportation Project Manager': 0.2, 'Bus Driver': 0.16666666666666666, 'Catering Account Manger': 0.16666666666666666, 'Environmental Compliance Engineer': 0.16666666666666666, 'International Travel Consultant': 0.16666666666666666, 'Technical Support Engineer': 0.14285714285714285, 'Event Coordinator': 0.14285714285714285, 'Software Engineer - Data Warehouse/Business Intelligence': 0.14285714285714285, 'Passenger Service Agent': 0.14285714285714285, 'Implementation Consultant': 0.14285714285714285, 'Mechanical Engineer': 0.14285714285714285, 'Night Auditor': 0.125, 'Producer Travel Channel': 0.125, 'Catering Manager': 0.125, 'General Manager': 0.125, 'Sports Physician': 0.125, 'Online Customer Support': 0.125, 'Environmental Project Analyst': 0.1111111111111111, 'Organic Lab Research Assistant': 0.1111111111111111, 'Total Quality Management Director': 0.1, 'Cardiovascular Operating Room Nurse': 0.09090909090909091, 'Assistant General Manager': 0.09090909090909091, 'Software Developer': 0.09090909090909091, 'Data Architect': 0.09090909090909091, 'Sales Analyst': 0.08333333333333333, 'Research and Development Technician': 0.08333333333333333, 'Solar Installers': 0.08333333333333333, 'Compensation Manager': 0.08333333333333333, 'Competitive Intelligence Manager': 0.08333333333333333, 'Pipefitter': 0.07142857142857142, 'Project Manager': 0.07142857142857142, 'Pharmacy Assistant': 0.07142857142857142, 'Real Estate Appraiser': 0.06666666666666667, 'Medical Receptionist': 0.0625, 'Operations Research Analysis Manager': 0.0625, 'Staff Assistant - Accounting': 0.058823529411764705, 'Solid Waste Field Technician': 0.05555555555555555, 'Investment Advisor': 0.05555555555555555, 'Guest Room Sales Manager': 0.05555555555555555, 'Rotating Equipment Engineer': 0.05555555555555555, 'Cost Engineer': 0.038461538461538464, 'Account Executive': 0.038461538461538464, 'Clinical Research Associate': 0.0, 'Territory Sales Representative': 0.0, 'Endoscopy Nurse': 0.0, 'Foreign Service Officer': 0.0, 'Strategy Consultant?': 0.0, 'Pipeline Engineer': 0.0, 'Technical Writer': 0.0, 'Solutions Consultant - Electrical Engineering': 0.0, 'Power Regulator': 0.0, 'Conservation Technician': 0.0, 'Manager of Engineering': 0.0, 'Water Services Technician': 0.0, 'Front Desk Associate': 0.0, 'Senior Analyst Retail Analytics and Reporting': 0.0, 'Aviation Inside Sales': 0.0, 'HVAC Mechanic': 0.0, 'Cognos Business Development Architect': 0.0, 'School Social Worker': 0.0, 'International Education Coordinator': 0.0, 'Treasurer': 0.0, 'Manufacturing Customer Service Representative': 0.0, 'Laboratory Sales Consultant': 0.0, 'Quality Assurance Manager': 0.0, 'Customer Service Agent': 0.0, 'Process Control Engineer': 0.0, 'Business Intelligence Developer': 0.0, 'Concrete Finisher': 0.0, 'Healthcare Consultant': 0.0, 'Organic Lab Worker': 0.0, 'Attorney': 0.0, 'Compliance Engineer': 0.0, 'Chief of Career Pathways and Integrated Learning': 0.0, 'Assistant Coach': 0.0, 'IT Support Staff': 0.0, 'Meeting Specialist': 0.0, 'Vice Principal': 0.0, 'Cyber Intelligence Watch Officer': 0.0, 'Freelance Travel Writer': 0.0, 'Process Engineer': 0.0, 'Roadie': 0.0, 'Front Desk Attendant': 0.0, 'Station Agent': 0.0, 'Sales and Marketing Coordinator': 0.0, 'Travel Consultant': 0.0, 'Stationary Engineer': 0.0, 'Material Handler': 0.0, 'Healthcare Business Intelligence Manager': 0.0, 'Senior Competitive Intelligence Manager': 0.0, 'Quality Assurance Technologist': 0.0, 'Component Engineer': 0.0, 'Metal Building Erector': 0.0, 'Environmental Services Representative': 0.0, 'Staff Engineer': 0.0, 'Assistant Technician': 0.0, 'Maintenance Engineer': 0.0, 'Engineering Technician': 0.0, 'Director of Hotel Sales': 0.0, 'Solution Architect Business Intelligence': 0.0, 'Mutual Fund Analyst': 0.0, 'Market Access Associate': 0.0, 'Bellman': 0.0, 'Human Resources Director': 0.0, 'Crew Scheduling Manager': 0.0, 'Controller': 0.0, 'Senior Manager Yield and Revenue Management': 0.0, 'Chemical Technician': 0.0, 'Oceanographer': 0.0, 'Sales Coordinator': 0.0, 'Concierge': 0.0, 'Institutional Research Business Intelligence Systems Analyst': 0.0, 'Producer': 0.0, 'Commercial Sales Representative': 0.0, 'Electrical Design Engineer': 0.0, 'Marketing Consultant': 0.0, 'Senior Manager of Industry Analytics': 0.0, 'Valet Parker': 0.0, 'Lineman': 0.0, 'Golf Pro': 0.0, 'Principal Service Engineer': 0.0, 'Retail Sales Associate': 0.0, 'Group Sales Management': 0.0, 'Club Representative': 0.0, 'Client Service Specialist': 0.0, 'Operations Agent': 0.0, 'Special Education Teacher': 0.0, 'Heavy Equipment Technician': 0.0, 'Travel Secretary': 0.0, 'Benefit Coordinator': 0.0, 'Reservoir Engineer': 0.0, 'Quality Assistant': 0.0, 'Ethics Office Business Intelligence Officer': 0.0, 'Electronics Engineer': 0.0, 'Director of? Customer Success and Satisfaction': 0.0, 'Assistant Customer Care Center Manager': 0.0, 'Technical Trainer': 0.0, 'Manufacturing Specialist': 0.0, 'Piping Stress Engineer': 0.0, 'RF Engineer': 0.0, 'Rental Representative': 0.0, 'Organizational Development Consultant': 0.0, 'Drilling Engineer': 0.0, 'School Nurse': 0.0, 'Construction Engineer': 0.0, 'Corporate Reservations Agent': 0.0, 'Chef': 0.0, 'Athletic Scout': 0.0, 'Provisioning Agents': 0.0, 'Senior Mechanical Engineer': 0.0, 'Customer Support Associate': 0.0, 'Associate Producer Events': 0.0, 'Airline Pilot': 0.0, 'Sales Manager': 0.0, 'Computer Science Teacher': 0.0, 'Territory Service Representative': 0.0, 'Ground Support Equipment Mechanic': 0.0, 'Network Engineer': 0.0, 'Fabricator': 0.0, 'Patient Care Coordinator': 0.0, 'Senior Manager Product Intelligence and Cost Analytics': 0.0, 'Countertop Fabricator and Installer': 0.0, 'Cruise Ship': 0.0, 'Commercial Print Management Consultant': 0.0, 'Instrumentation Engineer': 0.0, 'Firmware Engineer': 0.0, 'Production Assistant Events': 0.0, 'Hunting Guide': 0.0, 'Server': 0.0, 'Guest Services Agent': 0.0, 'Wedding Sales Manager': 0.0, 'Concierge?': 0.0, 'Industrial Technology Teacher': 0.0, 'Front Desk Clerk': 0.0, 'Tax Advisor': 0.0, 'Patio Room Installer': 0.0, 'Change Management Consultant': 0.0, 'Financial Analyst': 0.0, 'Cook': 0.0, 'Associate Athletic Director': 0.0, 'Front Desk Manager': 0.0, 'Tile Setter': 0.0, 'Technology Research Manager': 0.0, 'Director of Hotel Operations': 0.0, 'Front End Load Driver': 0.0, 'Oracle Technical Lead': 0.0, 'Informatica Extract Transform Load (ETL) Developer': 0.0, 'Mining Safety Engineer': 0.0, 'Service Consultant': 0.0, 'Account Manager': 0.0, 'Business Objects Architect': 0.0, 'Assistant Principal': 0.0, 'Integration/Business Intelligence Technical Lead': 0.0, 'Choral Music Teacher': 0.0, 'Strength and Conditioning Coach': 0.0, 'Manager Special Events': 0.0, 'Referee': 0.0, 'Health/Physical Education Teacher': 0.0}\n"
          ],
          "name": "stdout"
        }
      ]
    },
    {
      "cell_type": "code",
      "metadata": {
        "colab": {
          "base_uri": "https://localhost:8080/",
          "height": 35
        },
        "id": "a5j4RDN49yI7",
        "outputId": "076ab585-b621-45a8-af8b-99614a8678c7"
      },
      "source": [
        "#Finding top matched job\n",
        "top_match=list(sorted_d.keys())[0]\n",
        "top_match"
      ],
      "execution_count": null,
      "outputs": [
        {
          "output_type": "execute_result",
          "data": {
            "application/vnd.google.colaboratory.intrinsic+json": {
              "type": "string"
            },
            "text/plain": [
              "'Laboratory Assistant'"
            ]
          },
          "metadata": {
            "tags": []
          },
          "execution_count": 63
        }
      ]
    },
    {
      "cell_type": "code",
      "metadata": {
        "colab": {
          "base_uri": "https://localhost:8080/"
        },
        "id": "SpJLMbgVG-yr",
        "outputId": "64d8987f-9855-4b62-a3f6-f4ec85d1b4f6"
      },
      "source": [
        "sorted_d[top_match]"
      ],
      "execution_count": null,
      "outputs": [
        {
          "output_type": "execute_result",
          "data": {
            "text/plain": [
              "1.0"
            ]
          },
          "metadata": {
            "tags": []
          },
          "execution_count": 64
        }
      ]
    },
    {
      "cell_type": "markdown",
      "metadata": {
        "id": "1K4picjG9325"
      },
      "source": [
        "Retrieving top5 jobs with highest similarity matched to it"
      ]
    },
    {
      "cell_type": "code",
      "metadata": {
        "colab": {
          "base_uri": "https://localhost:8080/"
        },
        "id": "PY54q6y-98vY",
        "outputId": "6060d5c1-f8c3-4d76-8789-463c126a7254"
      },
      "source": [
        "print(tanimoto_sim_dict[top_match])"
      ],
      "execution_count": null,
      "outputs": [
        {
          "output_type": "stream",
          "text": [
            "[0.0625, 0.0, 0.0, 0.0, 0.16666666666666666, 0.0, 0.08333333333333333, 0.0, 0.0, 0.038461538461538464, 0.0, 0.0, 0.0, 0.0, 0.0, 0.2, 0.0, 0.0, 0.0, 0.1, 0.0, 0.0, 0.0, 0.0, 0.0, 0.0, 0.07142857142857142, 0.0, 0.0, 0.0, 0.0, 0.125, 0.0, 0.0, 0.0, 0.05555555555555555, 0.0, 0.125, 0.0, 0.0, 0.0, 0.25, 0.25, 0.0, 0.25, 0.0, 0.0, 0.09090909090909091, 0.0, 0.0, 0.0, 0.0, 0.09090909090909091, 0.038461538461538464, 0.16666666666666666, 0.0, 0.125, 0.0, 0.08333333333333333, 0.0, 0.3333333333333333, 0.0, 0.0, 0.08333333333333333, 0.1111111111111111, 0.0, 0.0, 0.0, 0.0, 0.0, 0.0, 0.0, 0.25, 0.058823529411764705, 0.0, 0.0, 0.0, 0.0, 0.07142857142857142, 0.0, 0.0, 0.0, 0.0, 0.0, 0.0, 0.0625, 0.0, 0.06666666666666667, 0.0, 0.0, 0.0, 0.0, 0.2, 0.0, 0.05555555555555555, 0.0, 0.0, 0.0, 0.0, 0.0, 0.0, 0.0, 0.0, 0.0, 0.0, 0.1111111111111111, 0.07142857142857142, 0.0, 0.08333333333333333, 0.0, 0.0, 0.0, 0.0, 0.0, 0.0, 0.0, 0.5, 0.14285714285714285, 0.0, 0.0, 0.0, 0.0, 0.0, 0.0, 0.0, 0.5, 0.5, 0.0, 0.125, 0.14285714285714285, 0.09090909090909091, 0.3333333333333333, 0.0, 1.0, 0.0, 0.0, 0.0, 0.0, 0.0, 0.0, 0.09090909090909091, 0.0, 0.0, 0.25, 0.0, 0.25, 0.0, 0.0, 0.0, 0.0, 0.0, 0.16666666666666666, 0.0, 0.0, 0.0, 0.0, 0.0, 0.0, 0.0, 0.25, 0.0, 0.14285714285714285, 0.0, 0.3333333333333333, 0.0, 0.25, 0.0, 0.0, 0.0, 0.0, 0.0, 0.0, 0.08333333333333333, 0.0, 0.3333333333333333, 0.16666666666666666, 0.0, 0.25, 0.125, 0.05555555555555555, 0.0, 0.0, 0.0, 0.0, 0.0, 0.0, 0.0, 0.0, 0.0, 1.0, 0.0, 0.0, 0.125, 0.0, 0.0, 0.0, 0.0, 0.0, 0.05555555555555555, 0.0, 0.0, 0.0, 0.0, 0.0, 0.14285714285714285, 0.25, 0.0, 0.0, 0.0, 0.0, 0.0, 0.0, 0.25, 0.5, 0.0, 1.0, 0.0, 0.0, 0.25, 0.14285714285714285, 0.0, 0.14285714285714285]\n"
          ],
          "name": "stdout"
        }
      ]
    },
    {
      "cell_type": "markdown",
      "metadata": {
        "id": "h8Wc5kk--mE-"
      },
      "source": [
        "Calculate top5 job"
      ]
    },
    {
      "cell_type": "code",
      "metadata": {
        "id": "m1iEpIIE-oCR"
      },
      "source": [
        "def calculate_top(new_sorted_d):\n",
        "    #Function to calculate top 5 documents according to the value of jaccard coeffecient.\n",
        "    count=0\n",
        "    top5=[]\n",
        "    for item in new_sorted_d.keys():\n",
        "        #Finding top5 documents\n",
        "\n",
        "        if (count != 5):\n",
        "            top5.append(item)\n",
        "        else: \n",
        "            break\n",
        "        count=count+1\n",
        "    \n",
        "    return top5\n"
      ],
      "execution_count": null,
      "outputs": []
    },
    {
      "cell_type": "code",
      "metadata": {
        "colab": {
          "base_uri": "https://localhost:8080/"
        },
        "id": "g2RCIgwC-rP5",
        "outputId": "57375edf-96a9-4df6-d4d8-d5e40503c062"
      },
      "source": [
        "#adding all the similarity values with top match with job in dictionary\n",
        "new_dict={}\n",
        "for index,obj in enumerate(tanimoto_sim_dict[top_match]):\n",
        "    new_dict[jobs[index]]=obj\n",
        "    \n",
        "print(new_dict)\n",
        "\n",
        "#now getting the value with highest match, i.e. we have to sort in descending order\n",
        "\n",
        "new_sorted_d=dict( sorted(new_dict.items(), key=operator.itemgetter(1),reverse=True))\n",
        "\n",
        "print(\"new sorted dict is:\")\n",
        "print(\"\\n\\n\", new_sorted_d)\n",
        "#as we can see values obtained are same as query so correct ans\n",
        "\n",
        "#To retreive top 5 document:\n",
        "top5=calculate_top(new_sorted_d)\n",
        "\n",
        "print(\"top 5 recommended jobs are:\")\n",
        "print(top5)"
      ],
      "execution_count": null,
      "outputs": [
        {
          "output_type": "stream",
          "text": [
            "{'Medical Receptionist': 0.0625, 'Clinical Research Associate': 0.0, 'Territory Sales Representative': 0.0, 'Endoscopy Nurse': 0.0, 'Bus Driver': 0.16666666666666666, 'Foreign Service Officer': 0.0, 'Sales Analyst': 0.08333333333333333, 'Strategy Consultant?': 0.0, 'Pipeline Engineer': 0.0, 'Cost Engineer': 0.038461538461538464, 'Technical Writer': 0.0, 'Solutions Consultant - Electrical Engineering': 0.0, 'Power Regulator': 0.0, 'Conservation Technician': 0.0, 'Manager of Engineering': 0.0, 'Forecast Systems Manager': 0.2, 'Water Services Technician': 0.0, 'Front Desk Associate': 0.0, 'Senior Analyst Retail Analytics and Reporting': 0.0, 'Total Quality Management Director': 0.1, 'Aviation Inside Sales': 0.0, 'HVAC Mechanic': 0.0, 'Cognos Business Development Architect': 0.0, 'School Social Worker': 0.0, 'International Education Coordinator': 0.0, 'Treasurer': 0.0, 'Pipefitter': 0.07142857142857142, 'Manufacturing Customer Service Representative': 0.0, 'Laboratory Sales Consultant': 0.0, 'Quality Assurance Manager': 0.0, 'Customer Service Agent': 0.0, 'Night Auditor': 0.125, 'Process Control Engineer': 0.0, 'Business Intelligence Developer': 0.0, 'Concrete Finisher': 0.0, 'Solid Waste Field Technician': 0.05555555555555555, 'Healthcare Consultant': 0.0, 'Producer Travel Channel': 0.125, 'Organic Lab Worker': 0.0, 'Attorney': 0.0, 'Compliance Engineer': 0.0, 'Research and Development Tester': 0.25, 'Quality Associate/Validation': 0.25, 'Chief of Career Pathways and Integrated Learning': 0.0, 'Executive Conference Manager': 0.25, 'Assistant Coach': 0.0, 'IT Support Staff': 0.0, 'Cardiovascular Operating Room Nurse': 0.09090909090909091, 'Meeting Specialist': 0.0, 'Vice Principal': 0.0, 'Cyber Intelligence Watch Officer': 0.0, 'Freelance Travel Writer': 0.0, 'Assistant General Manager': 0.09090909090909091, 'Account Executive': 0.038461538461538464, 'Catering Account Manger': 0.16666666666666666, 'Process Engineer': 0.0, 'Catering Manager': 0.125, 'Roadie': 0.0, 'Research and Development Technician': 0.08333333333333333, 'Front Desk Attendant': 0.0, 'Human Resources Assistant': 0.3333333333333333, 'Station Agent': 0.0, 'Sales and Marketing Coordinator': 0.0, 'Solar Installers': 0.08333333333333333, 'Environmental Project Analyst': 0.1111111111111111, 'Travel Consultant': 0.0, 'Stationary Engineer': 0.0, 'Material Handler': 0.0, 'Healthcare Business Intelligence Manager': 0.0, 'Senior Competitive Intelligence Manager': 0.0, 'Quality Assurance Technologist': 0.0, 'Component Engineer': 0.0, 'Threat Intelligence Analyst': 0.25, 'Staff Assistant - Accounting': 0.058823529411764705, 'Metal Building Erector': 0.0, 'Environmental Services Representative': 0.0, 'Staff Engineer': 0.0, 'Assistant Technician': 0.0, 'Project Manager': 0.07142857142857142, 'Maintenance Engineer': 0.0, 'Engineering Technician': 0.0, 'Director of Hotel Sales': 0.0, 'Solution Architect Business Intelligence': 0.0, 'Mutual Fund Analyst': 0.0, 'Market Access Associate': 0.0, 'Operations Research Analysis Manager': 0.0625, 'Bellman': 0.0, 'Real Estate Appraiser': 0.06666666666666667, 'Human Resources Director': 0.0, 'Crew Scheduling Manager': 0.0, 'Controller': 0.0, 'Senior Manager Yield and Revenue Management': 0.0, 'Transportation Project Manager': 0.2, 'Chemical Technician': 0.0, 'Investment Advisor': 0.05555555555555555, 'Oceanographer': 0.0, 'Sales Coordinator': 0.0, 'Concierge': 0.0, 'Institutional Research Business Intelligence Systems Analyst': 0.0, 'Producer': 0.0, 'Commercial Sales Representative': 0.0, 'Electrical Design Engineer': 0.0, 'Marketing Consultant': 0.0, 'Senior Manager of Industry Analytics': 0.0, 'Valet Parker': 0.0, 'Organic Lab Research Assistant': 0.1111111111111111, 'Pharmacy Assistant': 0.07142857142857142, 'Lineman': 0.0, 'Compensation Manager': 0.08333333333333333, 'Golf Pro': 0.0, 'Principal Service Engineer': 0.0, 'Retail Sales Associate': 0.0, 'Group Sales Management': 0.0, 'Club Representative': 0.0, 'Client Service Specialist': 0.0, 'Operations Agent': 0.0, 'Operations Clerk': 0.5, 'Technical Support Engineer': 0.14285714285714285, 'Special Education Teacher': 0.0, 'Heavy Equipment Technician': 0.0, 'Travel Secretary': 0.0, 'Benefit Coordinator': 0.0, 'Reservoir Engineer': 0.0, 'Quality Assistant': 0.0, 'Ethics Office Business Intelligence Officer': 0.0, 'Chemical Engineer': 0.5, 'Government Contract Consultant': 0.5, 'Electronics Engineer': 0.0, 'General Manager': 0.125, 'Event Coordinator': 0.14285714285714285, 'Software Developer': 0.09090909090909091, 'Corporate Sales Manager': 0.3333333333333333, 'Director of? Customer Success and Satisfaction': 0.0, 'Laboratory Assistant': 1.0, 'Assistant Customer Care Center Manager': 0.0, 'Technical Trainer': 0.0, 'Manufacturing Specialist': 0.0, 'Piping Stress Engineer': 0.0, 'RF Engineer': 0.0, 'Rental Representative': 0.0, 'Data Architect': 0.09090909090909091, 'Organizational Development Consultant': 0.0, 'Drilling Engineer': 0.0, 'Hostess': 0.25, 'School Nurse': 0.0, 'Behavior Specialist': 0.25, 'Construction Engineer': 0.0, 'Corporate Reservations Agent': 0.0, 'Chef': 0.0, 'Athletic Scout': 0.0, 'Provisioning Agents': 0.0, 'Environmental Compliance Engineer': 0.16666666666666666, 'Senior Mechanical Engineer': 0.0, 'Customer Support Associate': 0.0, 'Associate Producer Events': 0.0, 'Airline Pilot': 0.0, 'Sales Manager': 0.0, 'Computer Science Teacher': 0.0, 'Territory Service Representative': 0.0, 'Corporate Recruiter': 0.25, 'Ground Support Equipment Mechanic': 0.0, 'Software Engineer - Data Warehouse/Business Intelligence': 0.14285714285714285, 'Network Engineer': 0.0, 'Global Development Specialist': 0.3333333333333333, 'Fabricator': 0.0, 'Technology Consultant': 0.25, 'Patient Care Coordinator': 0.0, 'Senior Manager Product Intelligence and Cost Analytics': 0.0, 'Countertop Fabricator and Installer': 0.0, 'Cruise Ship': 0.0, 'Commercial Print Management Consultant': 0.0, 'Instrumentation Engineer': 0.0, 'Competitive Intelligence Manager': 0.08333333333333333, 'Firmware Engineer': 0.0, 'Dermatology Nurse': 0.3333333333333333, 'International Travel Consultant': 0.16666666666666666, 'Production Assistant Events': 0.0, 'Alarm Technician': 0.25, 'Sports Physician': 0.125, 'Guest Room Sales Manager': 0.05555555555555555, 'Hunting Guide': 0.0, 'Server': 0.0, 'Guest Services Agent': 0.0, 'Wedding Sales Manager': 0.0, 'Concierge?': 0.0, 'Industrial Technology Teacher': 0.0, 'Front Desk Clerk': 0.0, 'Tax Advisor': 0.0, 'Patio Room Installer': 0.0, 'Vice President of Engineering': 1.0, 'Change Management Consultant': 0.0, 'Financial Analyst': 0.0, 'Online Customer Support': 0.125, 'Cook': 0.0, 'Associate Athletic Director': 0.0, 'Front Desk Manager': 0.0, 'Tile Setter': 0.0, 'Technology Research Manager': 0.0, 'Rotating Equipment Engineer': 0.05555555555555555, 'Director of Hotel Operations': 0.0, 'Front End Load Driver': 0.0, 'Oracle Technical Lead': 0.0, 'Informatica Extract Transform Load (ETL) Developer': 0.0, 'Mining Safety Engineer': 0.0, 'Passenger Service Agent': 0.14285714285714285, 'Director of Guidance': 0.25, 'Service Consultant': 0.0, 'Account Manager': 0.0, 'Business Objects Architect': 0.0, 'Assistant Principal': 0.0, 'Integration/Business Intelligence Technical Lead': 0.0, 'Choral Music Teacher': 0.0, 'Quality Control Engineer': 0.25, 'Conference Coordinator': 0.5, 'Strength and Conditioning Coach': 0.0, 'Field Technician': 1.0, 'Manager Special Events': 0.0, 'Referee': 0.0, 'Controls Engineer': 0.25, 'Implementation Consultant': 0.14285714285714285, 'Health/Physical Education Teacher': 0.0, 'Mechanical Engineer': 0.14285714285714285}\n",
            "new sorted dict is:\n",
            "\n",
            "\n",
            " {'Laboratory Assistant': 1.0, 'Vice President of Engineering': 1.0, 'Field Technician': 1.0, 'Operations Clerk': 0.5, 'Chemical Engineer': 0.5, 'Government Contract Consultant': 0.5, 'Conference Coordinator': 0.5, 'Human Resources Assistant': 0.3333333333333333, 'Corporate Sales Manager': 0.3333333333333333, 'Global Development Specialist': 0.3333333333333333, 'Dermatology Nurse': 0.3333333333333333, 'Research and Development Tester': 0.25, 'Quality Associate/Validation': 0.25, 'Executive Conference Manager': 0.25, 'Threat Intelligence Analyst': 0.25, 'Hostess': 0.25, 'Behavior Specialist': 0.25, 'Corporate Recruiter': 0.25, 'Technology Consultant': 0.25, 'Alarm Technician': 0.25, 'Director of Guidance': 0.25, 'Quality Control Engineer': 0.25, 'Controls Engineer': 0.25, 'Forecast Systems Manager': 0.2, 'Transportation Project Manager': 0.2, 'Bus Driver': 0.16666666666666666, 'Catering Account Manger': 0.16666666666666666, 'Environmental Compliance Engineer': 0.16666666666666666, 'International Travel Consultant': 0.16666666666666666, 'Technical Support Engineer': 0.14285714285714285, 'Event Coordinator': 0.14285714285714285, 'Software Engineer - Data Warehouse/Business Intelligence': 0.14285714285714285, 'Passenger Service Agent': 0.14285714285714285, 'Implementation Consultant': 0.14285714285714285, 'Mechanical Engineer': 0.14285714285714285, 'Night Auditor': 0.125, 'Producer Travel Channel': 0.125, 'Catering Manager': 0.125, 'General Manager': 0.125, 'Sports Physician': 0.125, 'Online Customer Support': 0.125, 'Environmental Project Analyst': 0.1111111111111111, 'Organic Lab Research Assistant': 0.1111111111111111, 'Total Quality Management Director': 0.1, 'Cardiovascular Operating Room Nurse': 0.09090909090909091, 'Assistant General Manager': 0.09090909090909091, 'Software Developer': 0.09090909090909091, 'Data Architect': 0.09090909090909091, 'Sales Analyst': 0.08333333333333333, 'Research and Development Technician': 0.08333333333333333, 'Solar Installers': 0.08333333333333333, 'Compensation Manager': 0.08333333333333333, 'Competitive Intelligence Manager': 0.08333333333333333, 'Pipefitter': 0.07142857142857142, 'Project Manager': 0.07142857142857142, 'Pharmacy Assistant': 0.07142857142857142, 'Real Estate Appraiser': 0.06666666666666667, 'Medical Receptionist': 0.0625, 'Operations Research Analysis Manager': 0.0625, 'Staff Assistant - Accounting': 0.058823529411764705, 'Solid Waste Field Technician': 0.05555555555555555, 'Investment Advisor': 0.05555555555555555, 'Guest Room Sales Manager': 0.05555555555555555, 'Rotating Equipment Engineer': 0.05555555555555555, 'Cost Engineer': 0.038461538461538464, 'Account Executive': 0.038461538461538464, 'Clinical Research Associate': 0.0, 'Territory Sales Representative': 0.0, 'Endoscopy Nurse': 0.0, 'Foreign Service Officer': 0.0, 'Strategy Consultant?': 0.0, 'Pipeline Engineer': 0.0, 'Technical Writer': 0.0, 'Solutions Consultant - Electrical Engineering': 0.0, 'Power Regulator': 0.0, 'Conservation Technician': 0.0, 'Manager of Engineering': 0.0, 'Water Services Technician': 0.0, 'Front Desk Associate': 0.0, 'Senior Analyst Retail Analytics and Reporting': 0.0, 'Aviation Inside Sales': 0.0, 'HVAC Mechanic': 0.0, 'Cognos Business Development Architect': 0.0, 'School Social Worker': 0.0, 'International Education Coordinator': 0.0, 'Treasurer': 0.0, 'Manufacturing Customer Service Representative': 0.0, 'Laboratory Sales Consultant': 0.0, 'Quality Assurance Manager': 0.0, 'Customer Service Agent': 0.0, 'Process Control Engineer': 0.0, 'Business Intelligence Developer': 0.0, 'Concrete Finisher': 0.0, 'Healthcare Consultant': 0.0, 'Organic Lab Worker': 0.0, 'Attorney': 0.0, 'Compliance Engineer': 0.0, 'Chief of Career Pathways and Integrated Learning': 0.0, 'Assistant Coach': 0.0, 'IT Support Staff': 0.0, 'Meeting Specialist': 0.0, 'Vice Principal': 0.0, 'Cyber Intelligence Watch Officer': 0.0, 'Freelance Travel Writer': 0.0, 'Process Engineer': 0.0, 'Roadie': 0.0, 'Front Desk Attendant': 0.0, 'Station Agent': 0.0, 'Sales and Marketing Coordinator': 0.0, 'Travel Consultant': 0.0, 'Stationary Engineer': 0.0, 'Material Handler': 0.0, 'Healthcare Business Intelligence Manager': 0.0, 'Senior Competitive Intelligence Manager': 0.0, 'Quality Assurance Technologist': 0.0, 'Component Engineer': 0.0, 'Metal Building Erector': 0.0, 'Environmental Services Representative': 0.0, 'Staff Engineer': 0.0, 'Assistant Technician': 0.0, 'Maintenance Engineer': 0.0, 'Engineering Technician': 0.0, 'Director of Hotel Sales': 0.0, 'Solution Architect Business Intelligence': 0.0, 'Mutual Fund Analyst': 0.0, 'Market Access Associate': 0.0, 'Bellman': 0.0, 'Human Resources Director': 0.0, 'Crew Scheduling Manager': 0.0, 'Controller': 0.0, 'Senior Manager Yield and Revenue Management': 0.0, 'Chemical Technician': 0.0, 'Oceanographer': 0.0, 'Sales Coordinator': 0.0, 'Concierge': 0.0, 'Institutional Research Business Intelligence Systems Analyst': 0.0, 'Producer': 0.0, 'Commercial Sales Representative': 0.0, 'Electrical Design Engineer': 0.0, 'Marketing Consultant': 0.0, 'Senior Manager of Industry Analytics': 0.0, 'Valet Parker': 0.0, 'Lineman': 0.0, 'Golf Pro': 0.0, 'Principal Service Engineer': 0.0, 'Retail Sales Associate': 0.0, 'Group Sales Management': 0.0, 'Club Representative': 0.0, 'Client Service Specialist': 0.0, 'Operations Agent': 0.0, 'Special Education Teacher': 0.0, 'Heavy Equipment Technician': 0.0, 'Travel Secretary': 0.0, 'Benefit Coordinator': 0.0, 'Reservoir Engineer': 0.0, 'Quality Assistant': 0.0, 'Ethics Office Business Intelligence Officer': 0.0, 'Electronics Engineer': 0.0, 'Director of? Customer Success and Satisfaction': 0.0, 'Assistant Customer Care Center Manager': 0.0, 'Technical Trainer': 0.0, 'Manufacturing Specialist': 0.0, 'Piping Stress Engineer': 0.0, 'RF Engineer': 0.0, 'Rental Representative': 0.0, 'Organizational Development Consultant': 0.0, 'Drilling Engineer': 0.0, 'School Nurse': 0.0, 'Construction Engineer': 0.0, 'Corporate Reservations Agent': 0.0, 'Chef': 0.0, 'Athletic Scout': 0.0, 'Provisioning Agents': 0.0, 'Senior Mechanical Engineer': 0.0, 'Customer Support Associate': 0.0, 'Associate Producer Events': 0.0, 'Airline Pilot': 0.0, 'Sales Manager': 0.0, 'Computer Science Teacher': 0.0, 'Territory Service Representative': 0.0, 'Ground Support Equipment Mechanic': 0.0, 'Network Engineer': 0.0, 'Fabricator': 0.0, 'Patient Care Coordinator': 0.0, 'Senior Manager Product Intelligence and Cost Analytics': 0.0, 'Countertop Fabricator and Installer': 0.0, 'Cruise Ship': 0.0, 'Commercial Print Management Consultant': 0.0, 'Instrumentation Engineer': 0.0, 'Firmware Engineer': 0.0, 'Production Assistant Events': 0.0, 'Hunting Guide': 0.0, 'Server': 0.0, 'Guest Services Agent': 0.0, 'Wedding Sales Manager': 0.0, 'Concierge?': 0.0, 'Industrial Technology Teacher': 0.0, 'Front Desk Clerk': 0.0, 'Tax Advisor': 0.0, 'Patio Room Installer': 0.0, 'Change Management Consultant': 0.0, 'Financial Analyst': 0.0, 'Cook': 0.0, 'Associate Athletic Director': 0.0, 'Front Desk Manager': 0.0, 'Tile Setter': 0.0, 'Technology Research Manager': 0.0, 'Director of Hotel Operations': 0.0, 'Front End Load Driver': 0.0, 'Oracle Technical Lead': 0.0, 'Informatica Extract Transform Load (ETL) Developer': 0.0, 'Mining Safety Engineer': 0.0, 'Service Consultant': 0.0, 'Account Manager': 0.0, 'Business Objects Architect': 0.0, 'Assistant Principal': 0.0, 'Integration/Business Intelligence Technical Lead': 0.0, 'Choral Music Teacher': 0.0, 'Strength and Conditioning Coach': 0.0, 'Manager Special Events': 0.0, 'Referee': 0.0, 'Health/Physical Education Teacher': 0.0}\n",
            "top 5 recommended jobs are:\n",
            "['Laboratory Assistant', 'Vice President of Engineering', 'Field Technician', 'Operations Clerk', 'Chemical Engineer']\n"
          ],
          "name": "stdout"
        }
      ]
    },
    {
      "cell_type": "code",
      "metadata": {
        "colab": {
          "base_uri": "https://localhost:8080/"
        },
        "id": "v2zxW0mo-uPW",
        "outputId": "4aa1b4a3-d44d-4034-8c93-e42729d493a7"
      },
      "source": [
        "#Top 5 Recommended jobs are\n",
        "\n",
        "print(top5)"
      ],
      "execution_count": null,
      "outputs": [
        {
          "output_type": "stream",
          "text": [
            "['Laboratory Assistant', 'Vice President of Engineering', 'Field Technician', 'Operations Clerk', 'Chemical Engineer']\n"
          ],
          "name": "stdout"
        }
      ]
    },
    {
      "cell_type": "markdown",
      "metadata": {
        "id": "MjcoVkgdA1e4"
      },
      "source": [
        "# Performance Measure of Jaccard Similarity"
      ]
    },
    {
      "cell_type": "markdown",
      "metadata": {
        "id": "Nc-2VbbFBBtX"
      },
      "source": [
        "Creating Test Dataset"
      ]
    },
    {
      "cell_type": "code",
      "metadata": {
        "id": "HgmYS7jbmU__"
      },
      "source": [
        ""
      ],
      "execution_count": null,
      "outputs": []
    },
    {
      "cell_type": "code",
      "metadata": {
        "colab": {
          "base_uri": "https://localhost:8080/",
          "height": 204
        },
        "id": "MSQRuECcA6wq",
        "outputId": "bd8a4078-2720-4335-a0a8-79aeb18b0d95"
      },
      "source": [
        "# test_data=newdf.sample(frac=.2)\n",
        "# test_data.head()\n",
        "test_data=pd.read_csv('/content/drive/MyDrive/CF Project/test_data.csv')\n",
        "# test_data.head()\n",
        "test_data=test_data.drop('Unnamed: 0',axis=True)\n",
        "test_data.head()"
      ],
      "execution_count": null,
      "outputs": [
        {
          "output_type": "execute_result",
          "data": {
            "text/html": [
              "<div>\n",
              "<style scoped>\n",
              "    .dataframe tbody tr th:only-of-type {\n",
              "        vertical-align: middle;\n",
              "    }\n",
              "\n",
              "    .dataframe tbody tr th {\n",
              "        vertical-align: top;\n",
              "    }\n",
              "\n",
              "    .dataframe thead th {\n",
              "        text-align: right;\n",
              "    }\n",
              "</style>\n",
              "<table border=\"1\" class=\"dataframe\">\n",
              "  <thead>\n",
              "    <tr style=\"text-align: right;\">\n",
              "      <th></th>\n",
              "      <th>index</th>\n",
              "      <th>user_id</th>\n",
              "      <th>job_title</th>\n",
              "      <th>skills</th>\n",
              "    </tr>\n",
              "  </thead>\n",
              "  <tbody>\n",
              "    <tr>\n",
              "      <th>0</th>\n",
              "      <td>8</td>\n",
              "      <td>21</td>\n",
              "      <td>Pipeline Engineer</td>\n",
              "      <td>{'skills': {'communication': 1, 'reporting': 2}}</td>\n",
              "    </tr>\n",
              "    <tr>\n",
              "      <th>1</th>\n",
              "      <td>69</td>\n",
              "      <td>44</td>\n",
              "      <td>Healthcare Business Intelligence Manager</td>\n",
              "      <td>{'skills': {'mobile': 1}}</td>\n",
              "    </tr>\n",
              "    <tr>\n",
              "      <th>2</th>\n",
              "      <td>168</td>\n",
              "      <td>122</td>\n",
              "      <td>Sales Manager</td>\n",
              "      <td>{'skills': {'pascal': 1}}</td>\n",
              "    </tr>\n",
              "    <tr>\n",
              "      <th>3</th>\n",
              "      <td>215</td>\n",
              "      <td>165</td>\n",
              "      <td>Tile Setter</td>\n",
              "      <td>{'skills': {'digital marketing': 1, 'consultin...</td>\n",
              "    </tr>\n",
              "    <tr>\n",
              "      <th>4</th>\n",
              "      <td>201</td>\n",
              "      <td>152</td>\n",
              "      <td>Industrial Technology Teacher</td>\n",
              "      <td>{'skills': {'desk': 1}}</td>\n",
              "    </tr>\n",
              "  </tbody>\n",
              "</table>\n",
              "</div>"
            ],
            "text/plain": [
              "   index  ...                                             skills\n",
              "0      8  ...   {'skills': {'communication': 1, 'reporting': 2}}\n",
              "1     69  ...                          {'skills': {'mobile': 1}}\n",
              "2    168  ...                          {'skills': {'pascal': 1}}\n",
              "3    215  ...  {'skills': {'digital marketing': 1, 'consultin...\n",
              "4    201  ...                            {'skills': {'desk': 1}}\n",
              "\n",
              "[5 rows x 4 columns]"
            ]
          },
          "metadata": {
            "tags": []
          },
          "execution_count": 69
        }
      ]
    },
    {
      "cell_type": "markdown",
      "metadata": {
        "id": "9yi7BchtBG-j"
      },
      "source": [
        "Resetting the index of test data"
      ]
    },
    {
      "cell_type": "code",
      "metadata": {
        "id": "a8fLP2sIBytJ"
      },
      "source": [
        "#Resetting the index of test data:\n",
        "\n",
        "# test_data=test_data.reset_index()\n",
        "# test_data.head()\n",
        "\n"
      ],
      "execution_count": null,
      "outputs": []
    },
    {
      "cell_type": "code",
      "metadata": {
        "id": "raDVASkXOU1j"
      },
      "source": [
        "# test_data.to_csv('/content/drive/MyDrive/CF Project/test_data.csv')\n"
      ],
      "execution_count": null,
      "outputs": []
    },
    {
      "cell_type": "code",
      "metadata": {
        "colab": {
          "base_uri": "https://localhost:8080/"
        },
        "id": "dLoybawlONC0",
        "outputId": "a20a9067-ff7c-48e0-86a1-8823ee22e8ee"
      },
      "source": [
        "from google.colab import drive\n",
        "drive.mount('/content/drive')"
      ],
      "execution_count": null,
      "outputs": [
        {
          "output_type": "stream",
          "text": [
            "Drive already mounted at /content/drive; to attempt to forcibly remount, call drive.mount(\"/content/drive\", force_remount=True).\n"
          ],
          "name": "stdout"
        }
      ]
    },
    {
      "cell_type": "code",
      "metadata": {
        "colab": {
          "base_uri": "https://localhost:8080/"
        },
        "id": "0MHZDtGuB2XS",
        "outputId": "c624c35c-fa84-40f4-e087-68ef58f30166"
      },
      "source": [
        "#Number of Rows in the dataset\n",
        "print(\"Number of Rows are:\",test_data.shape[0])"
      ],
      "execution_count": null,
      "outputs": [
        {
          "output_type": "stream",
          "text": [
            "Number of Rows are: 50\n"
          ],
          "name": "stdout"
        }
      ]
    },
    {
      "cell_type": "markdown",
      "metadata": {
        "id": "Ms5_FquoB6HT"
      },
      "source": [
        "Finding all the jobs of test set"
      ]
    },
    {
      "cell_type": "code",
      "metadata": {
        "id": "bhI7vFL3B8Tt",
        "colab": {
          "base_uri": "https://localhost:8080/"
        },
        "outputId": "c04e634f-2e12-407c-e495-7b6bfdffb655"
      },
      "source": [
        "test_jobs = test_data['job_title'].unique()\n",
        "print(test_jobs)\n",
        "print(len(test_jobs))"
      ],
      "execution_count": null,
      "outputs": [
        {
          "output_type": "stream",
          "text": [
            "['Pipeline Engineer' 'Healthcare Business Intelligence Manager'\n",
            " 'Sales Manager' 'Tile Setter' 'Industrial Technology Teacher'\n",
            " 'Concrete Finisher' 'Research and Development Tester' 'Valet Parker'\n",
            " 'Conference Coordinator' 'Investment Advisor' 'Computer Science Teacher'\n",
            " 'Metal Building Erector' 'Technical Support Engineer' 'Chemical Engineer'\n",
            " 'Mutual Fund Analyst' 'Clinical Research Associate' 'Sales Coordinator'\n",
            " 'Network Engineer' 'Cardiovascular Operating Room Nurse'\n",
            " 'Controls Engineer' 'Threat Intelligence Analyst'\n",
            " 'Client Service Specialist' 'Material Handler' 'Roadie'\n",
            " 'Provisioning Agents' 'Research and Development Technician'\n",
            " 'Mechanical Engineer' 'Cook' 'Aviation Inside Sales'\n",
            " 'Marketing Consultant' 'Patient Care Coordinator' 'Chef' 'Staff Engineer'\n",
            " 'Solution Architect Business Intelligence' 'Station Agent'\n",
            " 'Assistant General Manager' 'Healthcare Consultant' 'Compliance Engineer'\n",
            " 'Health/Physical Education Teacher' 'Heavy Equipment Technician'\n",
            " 'Medical Receptionist' 'Choral Music Teacher' 'Technical Writer'\n",
            " 'Catering Account Manger' 'Crew Scheduling Manager'\n",
            " 'Process Control Engineer' 'Endoscopy Nurse' 'Bus Driver'\n",
            " 'Front Desk Associate' 'Operations Research Analysis Manager']\n",
            "50\n"
          ],
          "name": "stdout"
        }
      ]
    },
    {
      "cell_type": "markdown",
      "metadata": {
        "id": "rC65J43yCEMm"
      },
      "source": [
        "Creating list of list for skills of each job"
      ]
    },
    {
      "cell_type": "code",
      "metadata": {
        "id": "skBPQ0gLB5dr",
        "colab": {
          "base_uri": "https://localhost:8080/"
        },
        "outputId": "034c52cd-c628-43f2-8dc8-4deb8b33388d"
      },
      "source": [
        "#creating list of dictionary to store the job and it's corresponding skills\n",
        "test_skills = []\n",
        "for j in test_jobs:\n",
        "    #traversing through job and comparing it with job title in dataframe if both are same then adding their skills.\n",
        "\n",
        "    #creating inner list to store the skills of one job\n",
        "    d=[]\n",
        "    for i, row in test_data.iterrows():\n",
        "        if(row['job_title']==j):\n",
        "            d.append(row['skills'])\n",
        "    print(d)\n",
        "\n",
        "  \n",
        "    #removing all the special characters from that\n",
        "    doc = delete_spec_chars(str(d))\n",
        "\n",
        "    #removing digits from that\n",
        "    doc = re.sub(r'\\d+','',doc)\n",
        "\n",
        "    #removing skills word from that\n",
        "    doc=re.sub(r'skills','',doc)\n",
        "\n",
        "    #Applying word tokenization to extract tokens\n",
        "    tokens = word_tokenize(doc) \n",
        "    print(\"document is: \")\n",
        "    print(doc)\n",
        "    print(\" tokens are: \")\n",
        "\n",
        "    tokens= [word.lower() for word in tokens]\n",
        "    print(tokens)\n",
        "    \n",
        "    #To remove duplicate skills \n",
        "    tokens=list(set(tokens))\n",
        "\n",
        "    #Adding that in skills dicitonary for one job\n",
        "    test_skills.append(tokens)\n",
        "\n",
        "#   skillss.append(newdf.loc[newdf['job_title'] == j]['skills'])\n",
        "  \n",
        "print(test_skills)"
      ],
      "execution_count": null,
      "outputs": [
        {
          "output_type": "stream",
          "text": [
            "[\"{'skills': {'communication': 1, 'reporting': 2}}\"]\n",
            "document is: \n",
            " communication  reporting \n",
            " tokens are: \n",
            "['communication', 'reporting']\n",
            "[\"{'skills': {'mobile': 1}}\"]\n",
            "document is: \n",
            " mobile \n",
            " tokens are: \n",
            "['mobile']\n",
            "[\"{'skills': {'pascal': 1}}\"]\n",
            "document is: \n",
            " pascal \n",
            " tokens are: \n",
            "['pascal']\n",
            "[\"{'skills': {'digital marketing': 1, 'consulting': 1, 'implementation': 1, 'hardware': 1, 'design': 1, 'content marketing': 2, 'insights': 2}}\"]\n",
            "document is: \n",
            " digital marketing  consulting  implementation  hardware  design  content marketing  insights \n",
            " tokens are: \n",
            "['digital', 'marketing', 'consulting', 'implementation', 'hardware', 'design', 'content', 'marketing', 'insights']\n",
            "[\"{'skills': {'desk': 1}}\"]\n",
            "document is: \n",
            " desk \n",
            " tokens are: \n",
            "['desk']\n",
            "[\"{'skills': {'reporting': 3, 'mobile': 2, 'communication': 9, 'collaboration': 3, 'documentation': 3, 'project manager': 1, 'e-commerce': 3, 'design': 1, 'innovation': 1, 'ensemble': 3}}\"]\n",
            "document is: \n",
            " reporting  mobile  communication  collaboration  documentation  project manager  ecommerce  design  innovation  ensemble \n",
            " tokens are: \n",
            "['reporting', 'mobile', 'communication', 'collaboration', 'documentation', 'project', 'manager', 'ecommerce', 'design', 'innovation', 'ensemble']\n",
            "[\"{'skills': {'html': 1, 'http': 3}}\"]\n",
            "document is: \n",
            " html  http \n",
            " tokens are: \n",
            "['html', 'http']\n",
            "[\"{'skills': {'sql server': 1, 'tableau': 1, 'sql': 1}}\"]\n",
            "document is: \n",
            " sql server  tableau  sql \n",
            " tokens are: \n",
            "['sql', 'server', 'tableau', 'sql']\n",
            "[\"{'skills': {'ai': 5, 'communication': 6, 'eclipse': 1, 'http': 1}}\"]\n",
            "document is: \n",
            " ai  communication  eclipse  http \n",
            " tokens are: \n",
            "['ai', 'communication', 'eclipse', 'http']\n",
            "[\"{'skills': {'certifications': 1, 'http': 1, 'mobile': 13, 'communication': 47, 'cloud computing': 12, 'documentation': 1, 'networks': 2, 'internet': 34, 'tableau': 1, 'ensemble': 11, 'e-commerce': 12, 'wimax': 1, 'lte': 4, 'innovation': 5, 'dos': 1, 'collaboration': 7}}\"]\n",
            "document is: \n",
            " certifications  http  mobile  communication  cloud computing  documentation  networks  internet  tableau  ensemble  ecommerce  wimax  lte  innovation  dos  collaboration \n",
            " tokens are: \n",
            "['certifications', 'http', 'mobile', 'communication', 'cloud', 'computing', 'documentation', 'networks', 'internet', 'tableau', 'ensemble', 'ecommerce', 'wimax', 'lte', 'innovation', 'dos', 'collaboration']\n",
            "[\"{'skills': {'collaboration': 1}}\"]\n",
            "document is: \n",
            " collaboration \n",
            " tokens are: \n",
            "['collaboration']\n",
            "[\"{'skills': {'word': 1, 'internet': 1}}\"]\n",
            "document is: \n",
            " word  internet \n",
            " tokens are: \n",
            "['word', 'internet']\n",
            "[\"{'skills': {'reporting': 2, 'ai': 5, 'communication': 4, 'documentation': 1, 'coaching': 1, 'ensemble': 1}}\"]\n",
            "document is: \n",
            " reporting  ai  communication  documentation  coaching  ensemble \n",
            " tokens are: \n",
            "['reporting', 'ai', 'communication', 'documentation', 'coaching', 'ensemble']\n",
            "[\"{'skills': {'http': 1}}\"]\n",
            "document is: \n",
            " http \n",
            " tokens are: \n",
            "['http']\n",
            "[\"{'skills': {'mobile': 2, 'communication': 1, 'reporting': 1, 'ensemble': 1}}\"]\n",
            "document is: \n",
            " mobile  communication  reporting  ensemble \n",
            " tokens are: \n",
            "['mobile', 'communication', 'reporting', 'ensemble']\n",
            "[\"{'skills': {'hardware': 2, 'communication': 1, 'ensemble': 1}}\"]\n",
            "document is: \n",
            " hardware  communication  ensemble \n",
            " tokens are: \n",
            "['hardware', 'communication', 'ensemble']\n",
            "[\"{'skills': {'communication': 1, 'internet': 2}}\"]\n",
            "document is: \n",
            " communication  internet \n",
            " tokens are: \n",
            "['communication', 'internet']\n",
            "[\"{'skills': {'mobile': 2, 'communication': 1, 'reporting': 1, 'ensemble': 1}}\"]\n",
            "document is: \n",
            " mobile  communication  reporting  ensemble \n",
            " tokens are: \n",
            "['mobile', 'communication', 'reporting', 'ensemble']\n",
            "[\"{'skills': {'http': 2, 'postfix': 2, 'mobile': 5, 'e-commerce': 1, 'html': 1, 'wordpress': 1, 'iphone': 2, 'web services': 2, 'linux': 2}}\"]\n",
            "document is: \n",
            " http  postfix  mobile  ecommerce  html  wordpress  iphone  web services  linux \n",
            " tokens are: \n",
            "['http', 'postfix', 'mobile', 'ecommerce', 'html', 'wordpress', 'iphone', 'web', 'services', 'linux']\n",
            "[\"{'skills': {'ai': 2, 'hardware': 1, 'internet': 1}}\"]\n",
            "document is: \n",
            " ai  hardware  internet \n",
            " tokens are: \n",
            "['ai', 'hardware', 'internet']\n",
            "[\"{'skills': {'ai': 1, 'collaboration': 1}}\"]\n",
            "document is: \n",
            " ai  collaboration \n",
            " tokens are: \n",
            "['ai', 'collaboration']\n",
            "[\"{'skills': {'design patterns': 1, 'mobile': 2, 'communication': 4, 'collaboration': 1, 'maven': 1, 'python': 2, 'engineering': 1, 'design': 2, 'internet': 1}}\"]\n",
            "document is: \n",
            " design patterns  mobile  communication  collaboration  maven  python  engineering  design  internet \n",
            " tokens are: \n",
            "['design', 'patterns', 'mobile', 'communication', 'collaboration', 'maven', 'python', 'engineering', 'design', 'internet']\n",
            "[\"{'skills': {'implementation': 1, 'communication': 2}}\"]\n",
            "document is: \n",
            " implementation  communication \n",
            " tokens are: \n",
            "['implementation', 'communication']\n",
            "[\"{'skills': {'mobile': 1}}\"]\n",
            "document is: \n",
            " mobile \n",
            " tokens are: \n",
            "['mobile']\n",
            "[\"{'skills': {'hardware': 1, 'reporting': 2, 'ensemble': 2}}\"]\n",
            "document is: \n",
            " hardware  reporting  ensemble \n",
            " tokens are: \n",
            "['hardware', 'reporting', 'ensemble']\n",
            "[\"{'skills': {'git': 2, 'http': 1, 'nodejs': 1, 'mobile': 1, 'communication': 1, 'svg': 1, 'node.js': 1, 'e-commerce': 2, 'html': 1, 'design': 1, 'internet': 3, 'angular2': 1, 'angular': 1}}\"]\n",
            "document is: \n",
            " git  http  nodejs  mobile  communication  svg  nodejs  ecommerce  html  design  internet  angular  angular \n",
            " tokens are: \n",
            "['git', 'http', 'nodejs', 'mobile', 'communication', 'svg', 'nodejs', 'ecommerce', 'html', 'design', 'internet', 'angular', 'angular']\n",
            "[\"{'skills': {'reporting': 2, 'ai': 5, 'communication': 4, 'documentation': 1, 'coaching': 1, 'ensemble': 1}}\"]\n",
            "document is: \n",
            " reporting  ai  communication  documentation  coaching  ensemble \n",
            " tokens are: \n",
            "['reporting', 'ai', 'communication', 'documentation', 'coaching', 'ensemble']\n",
            "[\"{'skills': {'communication': 2, 'collaboration': 1, 'ensemble': 3}}\"]\n",
            "document is: \n",
            " communication  collaboration  ensemble \n",
            " tokens are: \n",
            "['communication', 'collaboration', 'ensemble']\n",
            "[\"{'skills': {'hardware': 2, 'communication': 1, 'ensemble': 1}}\"]\n",
            "document is: \n",
            " hardware  communication  ensemble \n",
            " tokens are: \n",
            "['hardware', 'communication', 'ensemble']\n",
            "[\"{'skills': {'communication': 2, 'collaboration': 1, 'ensemble': 4}}\"]\n",
            "document is: \n",
            " communication  collaboration  ensemble \n",
            " tokens are: \n",
            "['communication', 'collaboration', 'ensemble']\n",
            "[\"{'skills': {'ensemble': 5}}\"]\n",
            "document is: \n",
            " ensemble \n",
            " tokens are: \n",
            "['ensemble']\n",
            "[\"{'skills': {'certifications': 1}}\"]\n",
            "document is: \n",
            " certifications \n",
            " tokens are: \n",
            "['certifications']\n",
            "[\"{'skills': {'training': 2, 'data collection': 2, 'statistical analysis': 2}}\"]\n",
            "document is: \n",
            " training  data collection  statistical analysis \n",
            " tokens are: \n",
            "['training', 'data', 'collection', 'statistical', 'analysis']\n",
            "[\"{'skills': {'modeling': 2, 'training': 1, 'data analysis': 4, 'coding': 5, 'artificial neural network': 1}}\"]\n",
            "document is: \n",
            " modeling  training  data analysis  coding  artificial neural network \n",
            " tokens are: \n",
            "['modeling', 'training', 'data', 'analysis', 'coding', 'artificial', 'neural', 'network']\n",
            "[\"{'skills': {'training': 4, 'programming': 1, 'website development': 2}}\"]\n",
            "document is: \n",
            " training  programming  website development \n",
            " tokens are: \n",
            "['training', 'programming', 'website', 'development']\n",
            "[\"{'skills': {'http': 2, 'postfix': 2, 'mobile': 5, 'e-commerce': 1, 'html': 1, 'wordpress': 1, 'iphone': 2, 'web services': 2, 'linux': 2}}\"]\n",
            "document is: \n",
            " http  postfix  mobile  ecommerce  html  wordpress  iphone  web services  linux \n",
            " tokens are: \n",
            "['http', 'postfix', 'mobile', 'ecommerce', 'html', 'wordpress', 'iphone', 'web', 'services', 'linux']\n",
            "[\"{'skills': {'windows': 1, 'collaboration': 1, 'e-commerce': 1, 'html': 1, 'visio': 1, 'php': 1, 'powershell': 1}}\"]\n",
            "document is: \n",
            " windows  collaboration  ecommerce  html  visio  php  powershell \n",
            " tokens are: \n",
            "['windows', 'collaboration', 'ecommerce', 'html', 'visio', 'php', 'powershell']\n",
            "[\"{'skills': {'organizational': 1, 'foundation': 2, 'training': 2, 'innovation': 1}}\"]\n",
            "document is: \n",
            " organizational  foundation  training  innovation \n",
            " tokens are: \n",
            "['organizational', 'foundation', 'training', 'innovation']\n",
            "[\"{'skills': {'mobile': 1, 'design': 1}}\"]\n",
            "document is: \n",
            " mobile  design \n",
            " tokens are: \n",
            "['mobile', 'design']\n",
            "[\"{'skills': {'training': 2, 'data collection': 1, 'technical': 1, 'reporting': 11, 'programming': 4, 'hardware': 2, 'design': 2, 'databases': 1, 'sas': 2}}\"]\n",
            "document is: \n",
            " training  data collection  technical  reporting  programming  hardware  design  databases  sas \n",
            " tokens are: \n",
            "['training', 'data', 'collection', 'technical', 'reporting', 'programming', 'hardware', 'design', 'databases', 'sas']\n",
            "[\"{'skills': {'training': 1, 'certifications': 1, 'http': 1, 'processing': 1, 'implementation': 1, 'documentation': 2, 'programming': 1, 'prototyping': 1, 'tech support': 1, 'penetration testing': 1, 'data processing': 1, 'technical': 8, 'networks': 1}}\"]\n",
            "document is: \n",
            " training  certifications  http  processing  implementation  documentation  programming  prototyping  tech support  penetration testing  data processing  technical  networks \n",
            " tokens are: \n",
            "['training', 'certifications', 'http', 'processing', 'implementation', 'documentation', 'programming', 'prototyping', 'tech', 'support', 'penetration', 'testing', 'data', 'processing', 'technical', 'networks']\n",
            "[\"{'skills': {'ensemble': 1}}\"]\n",
            "document is: \n",
            " ensemble \n",
            " tokens are: \n",
            "['ensemble']\n",
            "[\"{'skills': {'documentation': 1, 'dom': 1}}\"]\n",
            "document is: \n",
            " documentation  dom \n",
            " tokens are: \n",
            "['documentation', 'dom']\n",
            "[\"{'skills': {'http': 1, 'internet': 1}}\"]\n",
            "document is: \n",
            " http  internet \n",
            " tokens are: \n",
            "['http', 'internet']\n",
            "[\"{'skills': {'mobile': 1, 'reporting': 1}}\"]\n",
            "document is: \n",
            " mobile  reporting \n",
            " tokens are: \n",
            "['mobile', 'reporting']\n",
            "[\"{'skills': {'collaboration': 3}}\"]\n",
            "document is: \n",
            " collaboration \n",
            " tokens are: \n",
            "['collaboration']\n",
            "[\"{'skills': {'e-commerce': 1}}\"]\n",
            "document is: \n",
            " ecommerce \n",
            " tokens are: \n",
            "['ecommerce']\n",
            "[\"{'skills': {'mobile': 1, 'communication': 2, 'design': 1}}\"]\n",
            "document is: \n",
            " mobile  communication  design \n",
            " tokens are: \n",
            "['mobile', 'communication', 'design']\n",
            "[\"{'skills': {'ensemble': 1}}\"]\n",
            "document is: \n",
            " ensemble \n",
            " tokens are: \n",
            "['ensemble']\n",
            "[\"{'skills': {'http': 4, 'big data': 2, 'dom': 1, 'processing': 1, 'machine learning': 5, 'analytics': 3, 'statistical analysis': 1, 'data mining': 1, 'modeling': 1, 'shiny': 2, 'ensemble': 1, 'data analytics': 1, 'insights': 1}}\"]\n",
            "document is: \n",
            " http  big data  dom  processing  machine learning  analytics  statistical analysis  data mining  modeling  shiny  ensemble  data analytics  insights \n",
            " tokens are: \n",
            "['http', 'big', 'data', 'dom', 'processing', 'machine', 'learning', 'analytics', 'statistical', 'analysis', 'data', 'mining', 'modeling', 'shiny', 'ensemble', 'data', 'analytics', 'insights']\n",
            "[['communication', 'reporting'], ['mobile'], ['pascal'], ['digital', 'insights', 'consulting', 'marketing', 'implementation', 'hardware', 'content', 'design'], ['desk'], ['mobile', 'documentation', 'communication', 'project', 'manager', 'collaboration', 'innovation', 'ensemble', 'ecommerce', 'design', 'reporting'], ['html', 'http'], ['sql', 'server', 'tableau'], ['communication', 'ai', 'eclipse', 'http'], ['mobile', 'http', 'documentation', 'communication', 'networks', 'tableau', 'wimax', 'certifications', 'innovation', 'lte', 'internet', 'computing', 'ensemble', 'ecommerce', 'dos', 'collaboration', 'cloud'], ['collaboration'], ['internet', 'word'], ['documentation', 'communication', 'coaching', 'ensemble', 'ai', 'reporting'], ['http'], ['communication', 'mobile', 'ensemble', 'reporting'], ['communication', 'hardware', 'ensemble'], ['communication', 'internet'], ['communication', 'mobile', 'ensemble', 'reporting'], ['services', 'mobile', 'wordpress', 'http', 'postfix', 'linux', 'ecommerce', 'iphone', 'web', 'html'], ['hardware', 'ai', 'internet'], ['ai', 'collaboration'], ['mobile', 'python', 'communication', 'patterns', 'collaboration', 'internet', 'engineering', 'design', 'maven'], ['communication', 'implementation'], ['mobile'], ['hardware', 'ensemble', 'reporting'], ['mobile', 'http', 'communication', 'git', 'html', 'internet', 'ecommerce', 'nodejs', 'design', 'svg', 'angular'], ['documentation', 'communication', 'coaching', 'ensemble', 'ai', 'reporting'], ['communication', 'collaboration', 'ensemble'], ['communication', 'hardware', 'ensemble'], ['communication', 'collaboration', 'ensemble'], ['ensemble'], ['certifications'], ['collection', 'training', 'analysis', 'statistical', 'data'], ['training', 'analysis', 'modeling', 'network', 'artificial', 'neural', 'coding', 'data'], ['programming', 'development', 'website', 'training'], ['services', 'mobile', 'wordpress', 'http', 'postfix', 'linux', 'ecommerce', 'iphone', 'web', 'html'], ['windows', 'powershell', 'php', 'collaboration', 'visio', 'ecommerce', 'html'], ['organizational', 'innovation', 'training', 'foundation'], ['mobile', 'design'], ['sas', 'collection', 'training', 'programming', 'databases', 'hardware', 'technical', 'design', 'data', 'reporting'], ['tech', 'training', 'http', 'support', 'documentation', 'prototyping', 'networks', 'technical', 'implementation', 'certifications', 'programming', 'penetration', 'processing', 'data', 'testing'], ['ensemble'], ['documentation', 'dom'], ['internet', 'http'], ['mobile', 'reporting'], ['collaboration'], ['ecommerce'], ['communication', 'mobile', 'design'], ['ensemble'], ['big', 'analytics', 'machine', 'http', 'analysis', 'modeling', 'insights', 'data', 'mining', 'ensemble', 'learning', 'shiny', 'statistical', 'processing', 'dom']]\n"
          ],
          "name": "stdout"
        }
      ]
    },
    {
      "cell_type": "code",
      "metadata": {
        "colab": {
          "base_uri": "https://localhost:8080/"
        },
        "id": "-WD8hC3gCMis",
        "outputId": "41ab7bdd-b8ef-4402-abc1-bb076f2591e3"
      },
      "source": [
        "print(test_skills)\n",
        "print(len(test_skills))"
      ],
      "execution_count": null,
      "outputs": [
        {
          "output_type": "stream",
          "text": [
            "[['communication', 'reporting'], ['mobile'], ['pascal'], ['digital', 'insights', 'consulting', 'marketing', 'implementation', 'hardware', 'content', 'design'], ['desk'], ['mobile', 'documentation', 'communication', 'project', 'manager', 'collaboration', 'innovation', 'ensemble', 'ecommerce', 'design', 'reporting'], ['html', 'http'], ['sql', 'server', 'tableau'], ['communication', 'ai', 'eclipse', 'http'], ['mobile', 'http', 'documentation', 'communication', 'networks', 'tableau', 'wimax', 'certifications', 'innovation', 'lte', 'internet', 'computing', 'ensemble', 'ecommerce', 'dos', 'collaboration', 'cloud'], ['collaboration'], ['internet', 'word'], ['documentation', 'communication', 'coaching', 'ensemble', 'ai', 'reporting'], ['http'], ['communication', 'mobile', 'ensemble', 'reporting'], ['communication', 'hardware', 'ensemble'], ['communication', 'internet'], ['communication', 'mobile', 'ensemble', 'reporting'], ['services', 'mobile', 'wordpress', 'http', 'postfix', 'linux', 'ecommerce', 'iphone', 'web', 'html'], ['hardware', 'ai', 'internet'], ['ai', 'collaboration'], ['mobile', 'python', 'communication', 'patterns', 'collaboration', 'internet', 'engineering', 'design', 'maven'], ['communication', 'implementation'], ['mobile'], ['hardware', 'ensemble', 'reporting'], ['mobile', 'http', 'communication', 'git', 'html', 'internet', 'ecommerce', 'nodejs', 'design', 'svg', 'angular'], ['documentation', 'communication', 'coaching', 'ensemble', 'ai', 'reporting'], ['communication', 'collaboration', 'ensemble'], ['communication', 'hardware', 'ensemble'], ['communication', 'collaboration', 'ensemble'], ['ensemble'], ['certifications'], ['collection', 'training', 'analysis', 'statistical', 'data'], ['training', 'analysis', 'modeling', 'network', 'artificial', 'neural', 'coding', 'data'], ['programming', 'development', 'website', 'training'], ['services', 'mobile', 'wordpress', 'http', 'postfix', 'linux', 'ecommerce', 'iphone', 'web', 'html'], ['windows', 'powershell', 'php', 'collaboration', 'visio', 'ecommerce', 'html'], ['organizational', 'innovation', 'training', 'foundation'], ['mobile', 'design'], ['sas', 'collection', 'training', 'programming', 'databases', 'hardware', 'technical', 'design', 'data', 'reporting'], ['tech', 'training', 'http', 'support', 'documentation', 'prototyping', 'networks', 'technical', 'implementation', 'certifications', 'programming', 'penetration', 'processing', 'data', 'testing'], ['ensemble'], ['documentation', 'dom'], ['internet', 'http'], ['mobile', 'reporting'], ['collaboration'], ['ecommerce'], ['communication', 'mobile', 'design'], ['ensemble'], ['big', 'analytics', 'machine', 'http', 'analysis', 'modeling', 'insights', 'data', 'mining', 'ensemble', 'learning', 'shiny', 'statistical', 'processing', 'dom']]\n",
            "50\n"
          ],
          "name": "stdout"
        }
      ]
    },
    {
      "cell_type": "markdown",
      "metadata": {
        "id": "ahr3zCcXCV6-"
      },
      "source": [
        "creating meta data of test set which May be used in cosine and cityblock"
      ]
    },
    {
      "cell_type": "code",
      "metadata": {
        "colab": {
          "base_uri": "https://localhost:8080/"
        },
        "id": "GoVrUA8LCTl2",
        "outputId": "ee2497f6-ab0f-4d4d-b616-d35a4686c250"
      },
      "source": [
        "#retreiving all the skills from skills set and storing them in total_skills list.\n",
        "total_test_skills=[]\n",
        "for val in test_skills:\n",
        "    for keys in val:\n",
        "        if keys not in total_test_skills:\n",
        "            total_test_skills.append(keys)\n",
        "        else:\n",
        "            continue\n",
        "\n",
        "total_test_skills=list(set(total_test_skills))\n",
        "print(total_test_skills)\n",
        "\n",
        "print(\"Total number of available test skills are: \", len(total_test_skills))"
      ],
      "execution_count": null,
      "outputs": [
        {
          "output_type": "stream",
          "text": [
            "['powershell', 'ecommerce', 'tableau', 'testing', 'analytics', 'php', 'big', 'eclipse', 'collection', 'networks', 'pascal', 'statistical', 'mobile', 'mining', 'ai', 'server', 'maven', 'linux', 'patterns', 'collaboration', 'coding', 'network', 'postfix', 'organizational', 'learning', 'hardware', 'cloud', 'technical', 'design', 'processing', 'reporting', 'project', 'implementation', 'programming', 'data', 'development', 'digital', 'training', 'http', 'marketing', 'innovation', 'ensemble', 'shiny', 'penetration', 'desk', 'angular', 'services', 'word', 'consulting', 'iphone', 'wordpress', 'tech', 'modeling', 'documentation', 'prototyping', 'internet', 'dos', 'sql', 'machine', 'svg', 'python', 'sas', 'coaching', 'git', 'certifications', 'manager', 'visio', 'windows', 'support', 'insights', 'engineering', 'databases', 'web', 'html', 'analysis', 'communication', 'wimax', 'lte', 'computing', 'nodejs', 'content', 'website', 'artificial', 'foundation', 'neural', 'dom']\n",
            "Total number of available test skills are:  86\n"
          ],
          "name": "stdout"
        }
      ]
    },
    {
      "cell_type": "code",
      "metadata": {
        "colab": {
          "base_uri": "https://localhost:8080/"
        },
        "id": "zphDCjTkCh_a",
        "outputId": "8fe6aae1-7acc-49af-cdcc-bd63e4019051"
      },
      "source": [
        "#To create dataframe, creating columns of that\n",
        "\n",
        "column_headers_test=['Jobs']\n",
        "\n",
        "for val in total_test_skills:\n",
        "    column_headers_test.append(val)\n",
        "\n",
        "print(column_headers_test)\n",
        "print(\"total number of columns are: \", len(column_headers_test))"
      ],
      "execution_count": null,
      "outputs": [
        {
          "output_type": "stream",
          "text": [
            "['Jobs', 'powershell', 'ecommerce', 'tableau', 'testing', 'analytics', 'php', 'big', 'eclipse', 'collection', 'networks', 'pascal', 'statistical', 'mobile', 'mining', 'ai', 'server', 'maven', 'linux', 'patterns', 'collaboration', 'coding', 'network', 'postfix', 'organizational', 'learning', 'hardware', 'cloud', 'technical', 'design', 'processing', 'reporting', 'project', 'implementation', 'programming', 'data', 'development', 'digital', 'training', 'http', 'marketing', 'innovation', 'ensemble', 'shiny', 'penetration', 'desk', 'angular', 'services', 'word', 'consulting', 'iphone', 'wordpress', 'tech', 'modeling', 'documentation', 'prototyping', 'internet', 'dos', 'sql', 'machine', 'svg', 'python', 'sas', 'coaching', 'git', 'certifications', 'manager', 'visio', 'windows', 'support', 'insights', 'engineering', 'databases', 'web', 'html', 'analysis', 'communication', 'wimax', 'lte', 'computing', 'nodejs', 'content', 'website', 'artificial', 'foundation', 'neural', 'dom']\n",
            "total number of columns are:  87\n"
          ],
          "name": "stdout"
        }
      ]
    },
    {
      "cell_type": "code",
      "metadata": {
        "colab": {
          "base_uri": "https://localhost:8080/",
          "height": 406
        },
        "id": "NgTsqDaJCn2D",
        "outputId": "001eebc2-831b-40a7-94bb-616f7f83a101"
      },
      "source": [
        "#creating list to insert it in dataframe.\n",
        "data_list_test = []\n",
        "\n",
        "for index, obj in enumerate(test_skills):\n",
        "    inner_list=[]\n",
        "    # print(obj)\n",
        "\n",
        "    # print(index)\n",
        "    # inner_list.append(jobs[index])\n",
        "\n",
        "    for val in column_headers_test:\n",
        "        if val=='Jobs':\n",
        "            inner_list.append(test_jobs[index])\n",
        "        else:\n",
        "            if val in obj:\n",
        "                inner_list.append(1)\n",
        "            else:\n",
        "                inner_list.append(0)\n",
        "\n",
        "    data_list_test.append(inner_list)\n",
        "\n",
        "print(data_list_test)\n",
        "\n",
        "#Finding length to check if skills set is added for each job or not\n",
        "print(\"len is\", len(data_list))\n",
        "meta_data_test = pd.DataFrame(data_list_test,columns=column_headers_test)\n",
        "meta_data_test.head()"
      ],
      "execution_count": null,
      "outputs": [
        {
          "output_type": "stream",
          "text": [
            "[['Pipeline Engineer', 0, 0, 0, 0, 0, 0, 0, 0, 0, 0, 0, 0, 0, 0, 0, 0, 0, 0, 0, 0, 0, 0, 0, 0, 0, 0, 0, 0, 0, 0, 1, 0, 0, 0, 0, 0, 0, 0, 0, 0, 0, 0, 0, 0, 0, 0, 0, 0, 0, 0, 0, 0, 0, 0, 0, 0, 0, 0, 0, 0, 0, 0, 0, 0, 0, 0, 0, 0, 0, 0, 0, 0, 0, 0, 0, 1, 0, 0, 0, 0, 0, 0, 0, 0, 0, 0], ['Healthcare Business Intelligence Manager', 0, 0, 0, 0, 0, 0, 0, 0, 0, 0, 0, 0, 1, 0, 0, 0, 0, 0, 0, 0, 0, 0, 0, 0, 0, 0, 0, 0, 0, 0, 0, 0, 0, 0, 0, 0, 0, 0, 0, 0, 0, 0, 0, 0, 0, 0, 0, 0, 0, 0, 0, 0, 0, 0, 0, 0, 0, 0, 0, 0, 0, 0, 0, 0, 0, 0, 0, 0, 0, 0, 0, 0, 0, 0, 0, 0, 0, 0, 0, 0, 0, 0, 0, 0, 0, 0], ['Sales Manager', 0, 0, 0, 0, 0, 0, 0, 0, 0, 0, 1, 0, 0, 0, 0, 0, 0, 0, 0, 0, 0, 0, 0, 0, 0, 0, 0, 0, 0, 0, 0, 0, 0, 0, 0, 0, 0, 0, 0, 0, 0, 0, 0, 0, 0, 0, 0, 0, 0, 0, 0, 0, 0, 0, 0, 0, 0, 0, 0, 0, 0, 0, 0, 0, 0, 0, 0, 0, 0, 0, 0, 0, 0, 0, 0, 0, 0, 0, 0, 0, 0, 0, 0, 0, 0, 0], ['Tile Setter', 0, 0, 0, 0, 0, 0, 0, 0, 0, 0, 0, 0, 0, 0, 0, 0, 0, 0, 0, 0, 0, 0, 0, 0, 0, 1, 0, 0, 1, 0, 0, 0, 1, 0, 0, 0, 1, 0, 0, 1, 0, 0, 0, 0, 0, 0, 0, 0, 1, 0, 0, 0, 0, 0, 0, 0, 0, 0, 0, 0, 0, 0, 0, 0, 0, 0, 0, 0, 0, 1, 0, 0, 0, 0, 0, 0, 0, 0, 0, 0, 1, 0, 0, 0, 0, 0], ['Industrial Technology Teacher', 0, 0, 0, 0, 0, 0, 0, 0, 0, 0, 0, 0, 0, 0, 0, 0, 0, 0, 0, 0, 0, 0, 0, 0, 0, 0, 0, 0, 0, 0, 0, 0, 0, 0, 0, 0, 0, 0, 0, 0, 0, 0, 0, 0, 1, 0, 0, 0, 0, 0, 0, 0, 0, 0, 0, 0, 0, 0, 0, 0, 0, 0, 0, 0, 0, 0, 0, 0, 0, 0, 0, 0, 0, 0, 0, 0, 0, 0, 0, 0, 0, 0, 0, 0, 0, 0], ['Concrete Finisher', 0, 1, 0, 0, 0, 0, 0, 0, 0, 0, 0, 0, 1, 0, 0, 0, 0, 0, 0, 1, 0, 0, 0, 0, 0, 0, 0, 0, 1, 0, 1, 1, 0, 0, 0, 0, 0, 0, 0, 0, 1, 1, 0, 0, 0, 0, 0, 0, 0, 0, 0, 0, 0, 1, 0, 0, 0, 0, 0, 0, 0, 0, 0, 0, 0, 1, 0, 0, 0, 0, 0, 0, 0, 0, 0, 1, 0, 0, 0, 0, 0, 0, 0, 0, 0, 0], ['Research and Development Tester', 0, 0, 0, 0, 0, 0, 0, 0, 0, 0, 0, 0, 0, 0, 0, 0, 0, 0, 0, 0, 0, 0, 0, 0, 0, 0, 0, 0, 0, 0, 0, 0, 0, 0, 0, 0, 0, 0, 1, 0, 0, 0, 0, 0, 0, 0, 0, 0, 0, 0, 0, 0, 0, 0, 0, 0, 0, 0, 0, 0, 0, 0, 0, 0, 0, 0, 0, 0, 0, 0, 0, 0, 0, 1, 0, 0, 0, 0, 0, 0, 0, 0, 0, 0, 0, 0], ['Valet Parker', 0, 0, 1, 0, 0, 0, 0, 0, 0, 0, 0, 0, 0, 0, 0, 1, 0, 0, 0, 0, 0, 0, 0, 0, 0, 0, 0, 0, 0, 0, 0, 0, 0, 0, 0, 0, 0, 0, 0, 0, 0, 0, 0, 0, 0, 0, 0, 0, 0, 0, 0, 0, 0, 0, 0, 0, 0, 1, 0, 0, 0, 0, 0, 0, 0, 0, 0, 0, 0, 0, 0, 0, 0, 0, 0, 0, 0, 0, 0, 0, 0, 0, 0, 0, 0, 0], ['Conference Coordinator', 0, 0, 0, 0, 0, 0, 0, 1, 0, 0, 0, 0, 0, 0, 1, 0, 0, 0, 0, 0, 0, 0, 0, 0, 0, 0, 0, 0, 0, 0, 0, 0, 0, 0, 0, 0, 0, 0, 1, 0, 0, 0, 0, 0, 0, 0, 0, 0, 0, 0, 0, 0, 0, 0, 0, 0, 0, 0, 0, 0, 0, 0, 0, 0, 0, 0, 0, 0, 0, 0, 0, 0, 0, 0, 0, 1, 0, 0, 0, 0, 0, 0, 0, 0, 0, 0], ['Investment Advisor', 0, 1, 1, 0, 0, 0, 0, 0, 0, 1, 0, 0, 1, 0, 0, 0, 0, 0, 0, 1, 0, 0, 0, 0, 0, 0, 1, 0, 0, 0, 0, 0, 0, 0, 0, 0, 0, 0, 1, 0, 1, 1, 0, 0, 0, 0, 0, 0, 0, 0, 0, 0, 0, 1, 0, 1, 1, 0, 0, 0, 0, 0, 0, 0, 1, 0, 0, 0, 0, 0, 0, 0, 0, 0, 0, 1, 1, 1, 1, 0, 0, 0, 0, 0, 0, 0], ['Computer Science Teacher', 0, 0, 0, 0, 0, 0, 0, 0, 0, 0, 0, 0, 0, 0, 0, 0, 0, 0, 0, 1, 0, 0, 0, 0, 0, 0, 0, 0, 0, 0, 0, 0, 0, 0, 0, 0, 0, 0, 0, 0, 0, 0, 0, 0, 0, 0, 0, 0, 0, 0, 0, 0, 0, 0, 0, 0, 0, 0, 0, 0, 0, 0, 0, 0, 0, 0, 0, 0, 0, 0, 0, 0, 0, 0, 0, 0, 0, 0, 0, 0, 0, 0, 0, 0, 0, 0], ['Metal Building Erector', 0, 0, 0, 0, 0, 0, 0, 0, 0, 0, 0, 0, 0, 0, 0, 0, 0, 0, 0, 0, 0, 0, 0, 0, 0, 0, 0, 0, 0, 0, 0, 0, 0, 0, 0, 0, 0, 0, 0, 0, 0, 0, 0, 0, 0, 0, 0, 1, 0, 0, 0, 0, 0, 0, 0, 1, 0, 0, 0, 0, 0, 0, 0, 0, 0, 0, 0, 0, 0, 0, 0, 0, 0, 0, 0, 0, 0, 0, 0, 0, 0, 0, 0, 0, 0, 0], ['Technical Support Engineer', 0, 0, 0, 0, 0, 0, 0, 0, 0, 0, 0, 0, 0, 0, 1, 0, 0, 0, 0, 0, 0, 0, 0, 0, 0, 0, 0, 0, 0, 0, 1, 0, 0, 0, 0, 0, 0, 0, 0, 0, 0, 1, 0, 0, 0, 0, 0, 0, 0, 0, 0, 0, 0, 1, 0, 0, 0, 0, 0, 0, 0, 0, 1, 0, 0, 0, 0, 0, 0, 0, 0, 0, 0, 0, 0, 1, 0, 0, 0, 0, 0, 0, 0, 0, 0, 0], ['Chemical Engineer', 0, 0, 0, 0, 0, 0, 0, 0, 0, 0, 0, 0, 0, 0, 0, 0, 0, 0, 0, 0, 0, 0, 0, 0, 0, 0, 0, 0, 0, 0, 0, 0, 0, 0, 0, 0, 0, 0, 1, 0, 0, 0, 0, 0, 0, 0, 0, 0, 0, 0, 0, 0, 0, 0, 0, 0, 0, 0, 0, 0, 0, 0, 0, 0, 0, 0, 0, 0, 0, 0, 0, 0, 0, 0, 0, 0, 0, 0, 0, 0, 0, 0, 0, 0, 0, 0], ['Mutual Fund Analyst', 0, 0, 0, 0, 0, 0, 0, 0, 0, 0, 0, 0, 1, 0, 0, 0, 0, 0, 0, 0, 0, 0, 0, 0, 0, 0, 0, 0, 0, 0, 1, 0, 0, 0, 0, 0, 0, 0, 0, 0, 0, 1, 0, 0, 0, 0, 0, 0, 0, 0, 0, 0, 0, 0, 0, 0, 0, 0, 0, 0, 0, 0, 0, 0, 0, 0, 0, 0, 0, 0, 0, 0, 0, 0, 0, 1, 0, 0, 0, 0, 0, 0, 0, 0, 0, 0], ['Clinical Research Associate', 0, 0, 0, 0, 0, 0, 0, 0, 0, 0, 0, 0, 0, 0, 0, 0, 0, 0, 0, 0, 0, 0, 0, 0, 0, 1, 0, 0, 0, 0, 0, 0, 0, 0, 0, 0, 0, 0, 0, 0, 0, 1, 0, 0, 0, 0, 0, 0, 0, 0, 0, 0, 0, 0, 0, 0, 0, 0, 0, 0, 0, 0, 0, 0, 0, 0, 0, 0, 0, 0, 0, 0, 0, 0, 0, 1, 0, 0, 0, 0, 0, 0, 0, 0, 0, 0], ['Sales Coordinator', 0, 0, 0, 0, 0, 0, 0, 0, 0, 0, 0, 0, 0, 0, 0, 0, 0, 0, 0, 0, 0, 0, 0, 0, 0, 0, 0, 0, 0, 0, 0, 0, 0, 0, 0, 0, 0, 0, 0, 0, 0, 0, 0, 0, 0, 0, 0, 0, 0, 0, 0, 0, 0, 0, 0, 1, 0, 0, 0, 0, 0, 0, 0, 0, 0, 0, 0, 0, 0, 0, 0, 0, 0, 0, 0, 1, 0, 0, 0, 0, 0, 0, 0, 0, 0, 0], ['Network Engineer', 0, 0, 0, 0, 0, 0, 0, 0, 0, 0, 0, 0, 1, 0, 0, 0, 0, 0, 0, 0, 0, 0, 0, 0, 0, 0, 0, 0, 0, 0, 1, 0, 0, 0, 0, 0, 0, 0, 0, 0, 0, 1, 0, 0, 0, 0, 0, 0, 0, 0, 0, 0, 0, 0, 0, 0, 0, 0, 0, 0, 0, 0, 0, 0, 0, 0, 0, 0, 0, 0, 0, 0, 0, 0, 0, 1, 0, 0, 0, 0, 0, 0, 0, 0, 0, 0], ['Cardiovascular Operating Room Nurse', 0, 1, 0, 0, 0, 0, 0, 0, 0, 0, 0, 0, 1, 0, 0, 0, 0, 1, 0, 0, 0, 0, 1, 0, 0, 0, 0, 0, 0, 0, 0, 0, 0, 0, 0, 0, 0, 0, 1, 0, 0, 0, 0, 0, 0, 0, 1, 0, 0, 1, 1, 0, 0, 0, 0, 0, 0, 0, 0, 0, 0, 0, 0, 0, 0, 0, 0, 0, 0, 0, 0, 0, 1, 1, 0, 0, 0, 0, 0, 0, 0, 0, 0, 0, 0, 0], ['Controls Engineer', 0, 0, 0, 0, 0, 0, 0, 0, 0, 0, 0, 0, 0, 0, 1, 0, 0, 0, 0, 0, 0, 0, 0, 0, 0, 1, 0, 0, 0, 0, 0, 0, 0, 0, 0, 0, 0, 0, 0, 0, 0, 0, 0, 0, 0, 0, 0, 0, 0, 0, 0, 0, 0, 0, 0, 1, 0, 0, 0, 0, 0, 0, 0, 0, 0, 0, 0, 0, 0, 0, 0, 0, 0, 0, 0, 0, 0, 0, 0, 0, 0, 0, 0, 0, 0, 0], ['Threat Intelligence Analyst', 0, 0, 0, 0, 0, 0, 0, 0, 0, 0, 0, 0, 0, 0, 1, 0, 0, 0, 0, 1, 0, 0, 0, 0, 0, 0, 0, 0, 0, 0, 0, 0, 0, 0, 0, 0, 0, 0, 0, 0, 0, 0, 0, 0, 0, 0, 0, 0, 0, 0, 0, 0, 0, 0, 0, 0, 0, 0, 0, 0, 0, 0, 0, 0, 0, 0, 0, 0, 0, 0, 0, 0, 0, 0, 0, 0, 0, 0, 0, 0, 0, 0, 0, 0, 0, 0], ['Client Service Specialist', 0, 0, 0, 0, 0, 0, 0, 0, 0, 0, 0, 0, 1, 0, 0, 0, 1, 0, 1, 1, 0, 0, 0, 0, 0, 0, 0, 0, 1, 0, 0, 0, 0, 0, 0, 0, 0, 0, 0, 0, 0, 0, 0, 0, 0, 0, 0, 0, 0, 0, 0, 0, 0, 0, 0, 1, 0, 0, 0, 0, 1, 0, 0, 0, 0, 0, 0, 0, 0, 0, 1, 0, 0, 0, 0, 1, 0, 0, 0, 0, 0, 0, 0, 0, 0, 0], ['Material Handler', 0, 0, 0, 0, 0, 0, 0, 0, 0, 0, 0, 0, 0, 0, 0, 0, 0, 0, 0, 0, 0, 0, 0, 0, 0, 0, 0, 0, 0, 0, 0, 0, 1, 0, 0, 0, 0, 0, 0, 0, 0, 0, 0, 0, 0, 0, 0, 0, 0, 0, 0, 0, 0, 0, 0, 0, 0, 0, 0, 0, 0, 0, 0, 0, 0, 0, 0, 0, 0, 0, 0, 0, 0, 0, 0, 1, 0, 0, 0, 0, 0, 0, 0, 0, 0, 0], ['Roadie', 0, 0, 0, 0, 0, 0, 0, 0, 0, 0, 0, 0, 1, 0, 0, 0, 0, 0, 0, 0, 0, 0, 0, 0, 0, 0, 0, 0, 0, 0, 0, 0, 0, 0, 0, 0, 0, 0, 0, 0, 0, 0, 0, 0, 0, 0, 0, 0, 0, 0, 0, 0, 0, 0, 0, 0, 0, 0, 0, 0, 0, 0, 0, 0, 0, 0, 0, 0, 0, 0, 0, 0, 0, 0, 0, 0, 0, 0, 0, 0, 0, 0, 0, 0, 0, 0], ['Provisioning Agents', 0, 0, 0, 0, 0, 0, 0, 0, 0, 0, 0, 0, 0, 0, 0, 0, 0, 0, 0, 0, 0, 0, 0, 0, 0, 1, 0, 0, 0, 0, 1, 0, 0, 0, 0, 0, 0, 0, 0, 0, 0, 1, 0, 0, 0, 0, 0, 0, 0, 0, 0, 0, 0, 0, 0, 0, 0, 0, 0, 0, 0, 0, 0, 0, 0, 0, 0, 0, 0, 0, 0, 0, 0, 0, 0, 0, 0, 0, 0, 0, 0, 0, 0, 0, 0, 0], ['Research and Development Technician', 0, 1, 0, 0, 0, 0, 0, 0, 0, 0, 0, 0, 1, 0, 0, 0, 0, 0, 0, 0, 0, 0, 0, 0, 0, 0, 0, 0, 1, 0, 0, 0, 0, 0, 0, 0, 0, 0, 1, 0, 0, 0, 0, 0, 0, 1, 0, 0, 0, 0, 0, 0, 0, 0, 0, 1, 0, 0, 0, 1, 0, 0, 0, 1, 0, 0, 0, 0, 0, 0, 0, 0, 0, 1, 0, 1, 0, 0, 0, 1, 0, 0, 0, 0, 0, 0], ['Mechanical Engineer', 0, 0, 0, 0, 0, 0, 0, 0, 0, 0, 0, 0, 0, 0, 1, 0, 0, 0, 0, 0, 0, 0, 0, 0, 0, 0, 0, 0, 0, 0, 1, 0, 0, 0, 0, 0, 0, 0, 0, 0, 0, 1, 0, 0, 0, 0, 0, 0, 0, 0, 0, 0, 0, 1, 0, 0, 0, 0, 0, 0, 0, 0, 1, 0, 0, 0, 0, 0, 0, 0, 0, 0, 0, 0, 0, 1, 0, 0, 0, 0, 0, 0, 0, 0, 0, 0], ['Cook', 0, 0, 0, 0, 0, 0, 0, 0, 0, 0, 0, 0, 0, 0, 0, 0, 0, 0, 0, 1, 0, 0, 0, 0, 0, 0, 0, 0, 0, 0, 0, 0, 0, 0, 0, 0, 0, 0, 0, 0, 0, 1, 0, 0, 0, 0, 0, 0, 0, 0, 0, 0, 0, 0, 0, 0, 0, 0, 0, 0, 0, 0, 0, 0, 0, 0, 0, 0, 0, 0, 0, 0, 0, 0, 0, 1, 0, 0, 0, 0, 0, 0, 0, 0, 0, 0], ['Aviation Inside Sales', 0, 0, 0, 0, 0, 0, 0, 0, 0, 0, 0, 0, 0, 0, 0, 0, 0, 0, 0, 0, 0, 0, 0, 0, 0, 1, 0, 0, 0, 0, 0, 0, 0, 0, 0, 0, 0, 0, 0, 0, 0, 1, 0, 0, 0, 0, 0, 0, 0, 0, 0, 0, 0, 0, 0, 0, 0, 0, 0, 0, 0, 0, 0, 0, 0, 0, 0, 0, 0, 0, 0, 0, 0, 0, 0, 1, 0, 0, 0, 0, 0, 0, 0, 0, 0, 0], ['Marketing Consultant', 0, 0, 0, 0, 0, 0, 0, 0, 0, 0, 0, 0, 0, 0, 0, 0, 0, 0, 0, 1, 0, 0, 0, 0, 0, 0, 0, 0, 0, 0, 0, 0, 0, 0, 0, 0, 0, 0, 0, 0, 0, 1, 0, 0, 0, 0, 0, 0, 0, 0, 0, 0, 0, 0, 0, 0, 0, 0, 0, 0, 0, 0, 0, 0, 0, 0, 0, 0, 0, 0, 0, 0, 0, 0, 0, 1, 0, 0, 0, 0, 0, 0, 0, 0, 0, 0], ['Patient Care Coordinator', 0, 0, 0, 0, 0, 0, 0, 0, 0, 0, 0, 0, 0, 0, 0, 0, 0, 0, 0, 0, 0, 0, 0, 0, 0, 0, 0, 0, 0, 0, 0, 0, 0, 0, 0, 0, 0, 0, 0, 0, 0, 1, 0, 0, 0, 0, 0, 0, 0, 0, 0, 0, 0, 0, 0, 0, 0, 0, 0, 0, 0, 0, 0, 0, 0, 0, 0, 0, 0, 0, 0, 0, 0, 0, 0, 0, 0, 0, 0, 0, 0, 0, 0, 0, 0, 0], ['Chef', 0, 0, 0, 0, 0, 0, 0, 0, 0, 0, 0, 0, 0, 0, 0, 0, 0, 0, 0, 0, 0, 0, 0, 0, 0, 0, 0, 0, 0, 0, 0, 0, 0, 0, 0, 0, 0, 0, 0, 0, 0, 0, 0, 0, 0, 0, 0, 0, 0, 0, 0, 0, 0, 0, 0, 0, 0, 0, 0, 0, 0, 0, 0, 0, 1, 0, 0, 0, 0, 0, 0, 0, 0, 0, 0, 0, 0, 0, 0, 0, 0, 0, 0, 0, 0, 0], ['Staff Engineer', 0, 0, 0, 0, 0, 0, 0, 0, 1, 0, 0, 1, 0, 0, 0, 0, 0, 0, 0, 0, 0, 0, 0, 0, 0, 0, 0, 0, 0, 0, 0, 0, 0, 0, 1, 0, 0, 1, 0, 0, 0, 0, 0, 0, 0, 0, 0, 0, 0, 0, 0, 0, 0, 0, 0, 0, 0, 0, 0, 0, 0, 0, 0, 0, 0, 0, 0, 0, 0, 0, 0, 0, 0, 0, 1, 0, 0, 0, 0, 0, 0, 0, 0, 0, 0, 0], ['Solution Architect Business Intelligence', 0, 0, 0, 0, 0, 0, 0, 0, 0, 0, 0, 0, 0, 0, 0, 0, 0, 0, 0, 0, 1, 1, 0, 0, 0, 0, 0, 0, 0, 0, 0, 0, 0, 0, 1, 0, 0, 1, 0, 0, 0, 0, 0, 0, 0, 0, 0, 0, 0, 0, 0, 0, 1, 0, 0, 0, 0, 0, 0, 0, 0, 0, 0, 0, 0, 0, 0, 0, 0, 0, 0, 0, 0, 0, 1, 0, 0, 0, 0, 0, 0, 0, 1, 0, 1, 0], ['Station Agent', 0, 0, 0, 0, 0, 0, 0, 0, 0, 0, 0, 0, 0, 0, 0, 0, 0, 0, 0, 0, 0, 0, 0, 0, 0, 0, 0, 0, 0, 0, 0, 0, 0, 1, 0, 1, 0, 1, 0, 0, 0, 0, 0, 0, 0, 0, 0, 0, 0, 0, 0, 0, 0, 0, 0, 0, 0, 0, 0, 0, 0, 0, 0, 0, 0, 0, 0, 0, 0, 0, 0, 0, 0, 0, 0, 0, 0, 0, 0, 0, 0, 1, 0, 0, 0, 0], ['Assistant General Manager', 0, 1, 0, 0, 0, 0, 0, 0, 0, 0, 0, 0, 1, 0, 0, 0, 0, 1, 0, 0, 0, 0, 1, 0, 0, 0, 0, 0, 0, 0, 0, 0, 0, 0, 0, 0, 0, 0, 1, 0, 0, 0, 0, 0, 0, 0, 1, 0, 0, 1, 1, 0, 0, 0, 0, 0, 0, 0, 0, 0, 0, 0, 0, 0, 0, 0, 0, 0, 0, 0, 0, 0, 1, 1, 0, 0, 0, 0, 0, 0, 0, 0, 0, 0, 0, 0], ['Healthcare Consultant', 1, 1, 0, 0, 0, 1, 0, 0, 0, 0, 0, 0, 0, 0, 0, 0, 0, 0, 0, 1, 0, 0, 0, 0, 0, 0, 0, 0, 0, 0, 0, 0, 0, 0, 0, 0, 0, 0, 0, 0, 0, 0, 0, 0, 0, 0, 0, 0, 0, 0, 0, 0, 0, 0, 0, 0, 0, 0, 0, 0, 0, 0, 0, 0, 0, 0, 1, 1, 0, 0, 0, 0, 0, 1, 0, 0, 0, 0, 0, 0, 0, 0, 0, 0, 0, 0], ['Compliance Engineer', 0, 0, 0, 0, 0, 0, 0, 0, 0, 0, 0, 0, 0, 0, 0, 0, 0, 0, 0, 0, 0, 0, 0, 1, 0, 0, 0, 0, 0, 0, 0, 0, 0, 0, 0, 0, 0, 1, 0, 0, 1, 0, 0, 0, 0, 0, 0, 0, 0, 0, 0, 0, 0, 0, 0, 0, 0, 0, 0, 0, 0, 0, 0, 0, 0, 0, 0, 0, 0, 0, 0, 0, 0, 0, 0, 0, 0, 0, 0, 0, 0, 0, 0, 1, 0, 0], ['Health/Physical Education Teacher', 0, 0, 0, 0, 0, 0, 0, 0, 0, 0, 0, 0, 1, 0, 0, 0, 0, 0, 0, 0, 0, 0, 0, 0, 0, 0, 0, 0, 1, 0, 0, 0, 0, 0, 0, 0, 0, 0, 0, 0, 0, 0, 0, 0, 0, 0, 0, 0, 0, 0, 0, 0, 0, 0, 0, 0, 0, 0, 0, 0, 0, 0, 0, 0, 0, 0, 0, 0, 0, 0, 0, 0, 0, 0, 0, 0, 0, 0, 0, 0, 0, 0, 0, 0, 0, 0], ['Heavy Equipment Technician', 0, 0, 0, 0, 0, 0, 0, 0, 1, 0, 0, 0, 0, 0, 0, 0, 0, 0, 0, 0, 0, 0, 0, 0, 0, 1, 0, 1, 1, 0, 1, 0, 0, 1, 1, 0, 0, 1, 0, 0, 0, 0, 0, 0, 0, 0, 0, 0, 0, 0, 0, 0, 0, 0, 0, 0, 0, 0, 0, 0, 0, 1, 0, 0, 0, 0, 0, 0, 0, 0, 0, 1, 0, 0, 0, 0, 0, 0, 0, 0, 0, 0, 0, 0, 0, 0], ['Medical Receptionist', 0, 0, 0, 1, 0, 0, 0, 0, 0, 1, 0, 0, 0, 0, 0, 0, 0, 0, 0, 0, 0, 0, 0, 0, 0, 0, 0, 1, 0, 1, 0, 0, 1, 1, 1, 0, 0, 1, 1, 0, 0, 0, 0, 1, 0, 0, 0, 0, 0, 0, 0, 1, 0, 1, 1, 0, 0, 0, 0, 0, 0, 0, 0, 0, 1, 0, 0, 0, 1, 0, 0, 0, 0, 0, 0, 0, 0, 0, 0, 0, 0, 0, 0, 0, 0, 0], ['Choral Music Teacher', 0, 0, 0, 0, 0, 0, 0, 0, 0, 0, 0, 0, 0, 0, 0, 0, 0, 0, 0, 0, 0, 0, 0, 0, 0, 0, 0, 0, 0, 0, 0, 0, 0, 0, 0, 0, 0, 0, 0, 0, 0, 1, 0, 0, 0, 0, 0, 0, 0, 0, 0, 0, 0, 0, 0, 0, 0, 0, 0, 0, 0, 0, 0, 0, 0, 0, 0, 0, 0, 0, 0, 0, 0, 0, 0, 0, 0, 0, 0, 0, 0, 0, 0, 0, 0, 0], ['Technical Writer', 0, 0, 0, 0, 0, 0, 0, 0, 0, 0, 0, 0, 0, 0, 0, 0, 0, 0, 0, 0, 0, 0, 0, 0, 0, 0, 0, 0, 0, 0, 0, 0, 0, 0, 0, 0, 0, 0, 0, 0, 0, 0, 0, 0, 0, 0, 0, 0, 0, 0, 0, 0, 0, 1, 0, 0, 0, 0, 0, 0, 0, 0, 0, 0, 0, 0, 0, 0, 0, 0, 0, 0, 0, 0, 0, 0, 0, 0, 0, 0, 0, 0, 0, 0, 0, 1], ['Catering Account Manger', 0, 0, 0, 0, 0, 0, 0, 0, 0, 0, 0, 0, 0, 0, 0, 0, 0, 0, 0, 0, 0, 0, 0, 0, 0, 0, 0, 0, 0, 0, 0, 0, 0, 0, 0, 0, 0, 0, 1, 0, 0, 0, 0, 0, 0, 0, 0, 0, 0, 0, 0, 0, 0, 0, 0, 1, 0, 0, 0, 0, 0, 0, 0, 0, 0, 0, 0, 0, 0, 0, 0, 0, 0, 0, 0, 0, 0, 0, 0, 0, 0, 0, 0, 0, 0, 0], ['Crew Scheduling Manager', 0, 0, 0, 0, 0, 0, 0, 0, 0, 0, 0, 0, 1, 0, 0, 0, 0, 0, 0, 0, 0, 0, 0, 0, 0, 0, 0, 0, 0, 0, 1, 0, 0, 0, 0, 0, 0, 0, 0, 0, 0, 0, 0, 0, 0, 0, 0, 0, 0, 0, 0, 0, 0, 0, 0, 0, 0, 0, 0, 0, 0, 0, 0, 0, 0, 0, 0, 0, 0, 0, 0, 0, 0, 0, 0, 0, 0, 0, 0, 0, 0, 0, 0, 0, 0, 0], ['Process Control Engineer', 0, 0, 0, 0, 0, 0, 0, 0, 0, 0, 0, 0, 0, 0, 0, 0, 0, 0, 0, 1, 0, 0, 0, 0, 0, 0, 0, 0, 0, 0, 0, 0, 0, 0, 0, 0, 0, 0, 0, 0, 0, 0, 0, 0, 0, 0, 0, 0, 0, 0, 0, 0, 0, 0, 0, 0, 0, 0, 0, 0, 0, 0, 0, 0, 0, 0, 0, 0, 0, 0, 0, 0, 0, 0, 0, 0, 0, 0, 0, 0, 0, 0, 0, 0, 0, 0], ['Endoscopy Nurse', 0, 1, 0, 0, 0, 0, 0, 0, 0, 0, 0, 0, 0, 0, 0, 0, 0, 0, 0, 0, 0, 0, 0, 0, 0, 0, 0, 0, 0, 0, 0, 0, 0, 0, 0, 0, 0, 0, 0, 0, 0, 0, 0, 0, 0, 0, 0, 0, 0, 0, 0, 0, 0, 0, 0, 0, 0, 0, 0, 0, 0, 0, 0, 0, 0, 0, 0, 0, 0, 0, 0, 0, 0, 0, 0, 0, 0, 0, 0, 0, 0, 0, 0, 0, 0, 0], ['Bus Driver', 0, 0, 0, 0, 0, 0, 0, 0, 0, 0, 0, 0, 1, 0, 0, 0, 0, 0, 0, 0, 0, 0, 0, 0, 0, 0, 0, 0, 1, 0, 0, 0, 0, 0, 0, 0, 0, 0, 0, 0, 0, 0, 0, 0, 0, 0, 0, 0, 0, 0, 0, 0, 0, 0, 0, 0, 0, 0, 0, 0, 0, 0, 0, 0, 0, 0, 0, 0, 0, 0, 0, 0, 0, 0, 0, 1, 0, 0, 0, 0, 0, 0, 0, 0, 0, 0], ['Front Desk Associate', 0, 0, 0, 0, 0, 0, 0, 0, 0, 0, 0, 0, 0, 0, 0, 0, 0, 0, 0, 0, 0, 0, 0, 0, 0, 0, 0, 0, 0, 0, 0, 0, 0, 0, 0, 0, 0, 0, 0, 0, 0, 1, 0, 0, 0, 0, 0, 0, 0, 0, 0, 0, 0, 0, 0, 0, 0, 0, 0, 0, 0, 0, 0, 0, 0, 0, 0, 0, 0, 0, 0, 0, 0, 0, 0, 0, 0, 0, 0, 0, 0, 0, 0, 0, 0, 0], ['Operations Research Analysis Manager', 0, 0, 0, 0, 1, 0, 1, 0, 0, 0, 0, 1, 0, 1, 0, 0, 0, 0, 0, 0, 0, 0, 0, 0, 1, 0, 0, 0, 0, 1, 0, 0, 0, 0, 1, 0, 0, 0, 1, 0, 0, 1, 1, 0, 0, 0, 0, 0, 0, 0, 0, 0, 1, 0, 0, 0, 0, 0, 1, 0, 0, 0, 0, 0, 0, 0, 0, 0, 0, 1, 0, 0, 0, 0, 1, 0, 0, 0, 0, 0, 0, 0, 0, 0, 0, 1]]\n",
            "len is 222\n"
          ],
          "name": "stdout"
        },
        {
          "output_type": "execute_result",
          "data": {
            "text/html": [
              "<div>\n",
              "<style scoped>\n",
              "    .dataframe tbody tr th:only-of-type {\n",
              "        vertical-align: middle;\n",
              "    }\n",
              "\n",
              "    .dataframe tbody tr th {\n",
              "        vertical-align: top;\n",
              "    }\n",
              "\n",
              "    .dataframe thead th {\n",
              "        text-align: right;\n",
              "    }\n",
              "</style>\n",
              "<table border=\"1\" class=\"dataframe\">\n",
              "  <thead>\n",
              "    <tr style=\"text-align: right;\">\n",
              "      <th></th>\n",
              "      <th>Jobs</th>\n",
              "      <th>powershell</th>\n",
              "      <th>ecommerce</th>\n",
              "      <th>tableau</th>\n",
              "      <th>testing</th>\n",
              "      <th>analytics</th>\n",
              "      <th>php</th>\n",
              "      <th>big</th>\n",
              "      <th>eclipse</th>\n",
              "      <th>collection</th>\n",
              "      <th>networks</th>\n",
              "      <th>pascal</th>\n",
              "      <th>statistical</th>\n",
              "      <th>mobile</th>\n",
              "      <th>mining</th>\n",
              "      <th>ai</th>\n",
              "      <th>server</th>\n",
              "      <th>maven</th>\n",
              "      <th>linux</th>\n",
              "      <th>patterns</th>\n",
              "      <th>collaboration</th>\n",
              "      <th>coding</th>\n",
              "      <th>network</th>\n",
              "      <th>postfix</th>\n",
              "      <th>organizational</th>\n",
              "      <th>learning</th>\n",
              "      <th>hardware</th>\n",
              "      <th>cloud</th>\n",
              "      <th>technical</th>\n",
              "      <th>design</th>\n",
              "      <th>processing</th>\n",
              "      <th>reporting</th>\n",
              "      <th>project</th>\n",
              "      <th>implementation</th>\n",
              "      <th>programming</th>\n",
              "      <th>data</th>\n",
              "      <th>development</th>\n",
              "      <th>digital</th>\n",
              "      <th>training</th>\n",
              "      <th>http</th>\n",
              "      <th>...</th>\n",
              "      <th>services</th>\n",
              "      <th>word</th>\n",
              "      <th>consulting</th>\n",
              "      <th>iphone</th>\n",
              "      <th>wordpress</th>\n",
              "      <th>tech</th>\n",
              "      <th>modeling</th>\n",
              "      <th>documentation</th>\n",
              "      <th>prototyping</th>\n",
              "      <th>internet</th>\n",
              "      <th>dos</th>\n",
              "      <th>sql</th>\n",
              "      <th>machine</th>\n",
              "      <th>svg</th>\n",
              "      <th>python</th>\n",
              "      <th>sas</th>\n",
              "      <th>coaching</th>\n",
              "      <th>git</th>\n",
              "      <th>certifications</th>\n",
              "      <th>manager</th>\n",
              "      <th>visio</th>\n",
              "      <th>windows</th>\n",
              "      <th>support</th>\n",
              "      <th>insights</th>\n",
              "      <th>engineering</th>\n",
              "      <th>databases</th>\n",
              "      <th>web</th>\n",
              "      <th>html</th>\n",
              "      <th>analysis</th>\n",
              "      <th>communication</th>\n",
              "      <th>wimax</th>\n",
              "      <th>lte</th>\n",
              "      <th>computing</th>\n",
              "      <th>nodejs</th>\n",
              "      <th>content</th>\n",
              "      <th>website</th>\n",
              "      <th>artificial</th>\n",
              "      <th>foundation</th>\n",
              "      <th>neural</th>\n",
              "      <th>dom</th>\n",
              "    </tr>\n",
              "  </thead>\n",
              "  <tbody>\n",
              "    <tr>\n",
              "      <th>0</th>\n",
              "      <td>Pipeline Engineer</td>\n",
              "      <td>0</td>\n",
              "      <td>0</td>\n",
              "      <td>0</td>\n",
              "      <td>0</td>\n",
              "      <td>0</td>\n",
              "      <td>0</td>\n",
              "      <td>0</td>\n",
              "      <td>0</td>\n",
              "      <td>0</td>\n",
              "      <td>0</td>\n",
              "      <td>0</td>\n",
              "      <td>0</td>\n",
              "      <td>0</td>\n",
              "      <td>0</td>\n",
              "      <td>0</td>\n",
              "      <td>0</td>\n",
              "      <td>0</td>\n",
              "      <td>0</td>\n",
              "      <td>0</td>\n",
              "      <td>0</td>\n",
              "      <td>0</td>\n",
              "      <td>0</td>\n",
              "      <td>0</td>\n",
              "      <td>0</td>\n",
              "      <td>0</td>\n",
              "      <td>0</td>\n",
              "      <td>0</td>\n",
              "      <td>0</td>\n",
              "      <td>0</td>\n",
              "      <td>0</td>\n",
              "      <td>1</td>\n",
              "      <td>0</td>\n",
              "      <td>0</td>\n",
              "      <td>0</td>\n",
              "      <td>0</td>\n",
              "      <td>0</td>\n",
              "      <td>0</td>\n",
              "      <td>0</td>\n",
              "      <td>0</td>\n",
              "      <td>...</td>\n",
              "      <td>0</td>\n",
              "      <td>0</td>\n",
              "      <td>0</td>\n",
              "      <td>0</td>\n",
              "      <td>0</td>\n",
              "      <td>0</td>\n",
              "      <td>0</td>\n",
              "      <td>0</td>\n",
              "      <td>0</td>\n",
              "      <td>0</td>\n",
              "      <td>0</td>\n",
              "      <td>0</td>\n",
              "      <td>0</td>\n",
              "      <td>0</td>\n",
              "      <td>0</td>\n",
              "      <td>0</td>\n",
              "      <td>0</td>\n",
              "      <td>0</td>\n",
              "      <td>0</td>\n",
              "      <td>0</td>\n",
              "      <td>0</td>\n",
              "      <td>0</td>\n",
              "      <td>0</td>\n",
              "      <td>0</td>\n",
              "      <td>0</td>\n",
              "      <td>0</td>\n",
              "      <td>0</td>\n",
              "      <td>0</td>\n",
              "      <td>0</td>\n",
              "      <td>1</td>\n",
              "      <td>0</td>\n",
              "      <td>0</td>\n",
              "      <td>0</td>\n",
              "      <td>0</td>\n",
              "      <td>0</td>\n",
              "      <td>0</td>\n",
              "      <td>0</td>\n",
              "      <td>0</td>\n",
              "      <td>0</td>\n",
              "      <td>0</td>\n",
              "    </tr>\n",
              "    <tr>\n",
              "      <th>1</th>\n",
              "      <td>Healthcare Business Intelligence Manager</td>\n",
              "      <td>0</td>\n",
              "      <td>0</td>\n",
              "      <td>0</td>\n",
              "      <td>0</td>\n",
              "      <td>0</td>\n",
              "      <td>0</td>\n",
              "      <td>0</td>\n",
              "      <td>0</td>\n",
              "      <td>0</td>\n",
              "      <td>0</td>\n",
              "      <td>0</td>\n",
              "      <td>0</td>\n",
              "      <td>1</td>\n",
              "      <td>0</td>\n",
              "      <td>0</td>\n",
              "      <td>0</td>\n",
              "      <td>0</td>\n",
              "      <td>0</td>\n",
              "      <td>0</td>\n",
              "      <td>0</td>\n",
              "      <td>0</td>\n",
              "      <td>0</td>\n",
              "      <td>0</td>\n",
              "      <td>0</td>\n",
              "      <td>0</td>\n",
              "      <td>0</td>\n",
              "      <td>0</td>\n",
              "      <td>0</td>\n",
              "      <td>0</td>\n",
              "      <td>0</td>\n",
              "      <td>0</td>\n",
              "      <td>0</td>\n",
              "      <td>0</td>\n",
              "      <td>0</td>\n",
              "      <td>0</td>\n",
              "      <td>0</td>\n",
              "      <td>0</td>\n",
              "      <td>0</td>\n",
              "      <td>0</td>\n",
              "      <td>...</td>\n",
              "      <td>0</td>\n",
              "      <td>0</td>\n",
              "      <td>0</td>\n",
              "      <td>0</td>\n",
              "      <td>0</td>\n",
              "      <td>0</td>\n",
              "      <td>0</td>\n",
              "      <td>0</td>\n",
              "      <td>0</td>\n",
              "      <td>0</td>\n",
              "      <td>0</td>\n",
              "      <td>0</td>\n",
              "      <td>0</td>\n",
              "      <td>0</td>\n",
              "      <td>0</td>\n",
              "      <td>0</td>\n",
              "      <td>0</td>\n",
              "      <td>0</td>\n",
              "      <td>0</td>\n",
              "      <td>0</td>\n",
              "      <td>0</td>\n",
              "      <td>0</td>\n",
              "      <td>0</td>\n",
              "      <td>0</td>\n",
              "      <td>0</td>\n",
              "      <td>0</td>\n",
              "      <td>0</td>\n",
              "      <td>0</td>\n",
              "      <td>0</td>\n",
              "      <td>0</td>\n",
              "      <td>0</td>\n",
              "      <td>0</td>\n",
              "      <td>0</td>\n",
              "      <td>0</td>\n",
              "      <td>0</td>\n",
              "      <td>0</td>\n",
              "      <td>0</td>\n",
              "      <td>0</td>\n",
              "      <td>0</td>\n",
              "      <td>0</td>\n",
              "    </tr>\n",
              "    <tr>\n",
              "      <th>2</th>\n",
              "      <td>Sales Manager</td>\n",
              "      <td>0</td>\n",
              "      <td>0</td>\n",
              "      <td>0</td>\n",
              "      <td>0</td>\n",
              "      <td>0</td>\n",
              "      <td>0</td>\n",
              "      <td>0</td>\n",
              "      <td>0</td>\n",
              "      <td>0</td>\n",
              "      <td>0</td>\n",
              "      <td>1</td>\n",
              "      <td>0</td>\n",
              "      <td>0</td>\n",
              "      <td>0</td>\n",
              "      <td>0</td>\n",
              "      <td>0</td>\n",
              "      <td>0</td>\n",
              "      <td>0</td>\n",
              "      <td>0</td>\n",
              "      <td>0</td>\n",
              "      <td>0</td>\n",
              "      <td>0</td>\n",
              "      <td>0</td>\n",
              "      <td>0</td>\n",
              "      <td>0</td>\n",
              "      <td>0</td>\n",
              "      <td>0</td>\n",
              "      <td>0</td>\n",
              "      <td>0</td>\n",
              "      <td>0</td>\n",
              "      <td>0</td>\n",
              "      <td>0</td>\n",
              "      <td>0</td>\n",
              "      <td>0</td>\n",
              "      <td>0</td>\n",
              "      <td>0</td>\n",
              "      <td>0</td>\n",
              "      <td>0</td>\n",
              "      <td>0</td>\n",
              "      <td>...</td>\n",
              "      <td>0</td>\n",
              "      <td>0</td>\n",
              "      <td>0</td>\n",
              "      <td>0</td>\n",
              "      <td>0</td>\n",
              "      <td>0</td>\n",
              "      <td>0</td>\n",
              "      <td>0</td>\n",
              "      <td>0</td>\n",
              "      <td>0</td>\n",
              "      <td>0</td>\n",
              "      <td>0</td>\n",
              "      <td>0</td>\n",
              "      <td>0</td>\n",
              "      <td>0</td>\n",
              "      <td>0</td>\n",
              "      <td>0</td>\n",
              "      <td>0</td>\n",
              "      <td>0</td>\n",
              "      <td>0</td>\n",
              "      <td>0</td>\n",
              "      <td>0</td>\n",
              "      <td>0</td>\n",
              "      <td>0</td>\n",
              "      <td>0</td>\n",
              "      <td>0</td>\n",
              "      <td>0</td>\n",
              "      <td>0</td>\n",
              "      <td>0</td>\n",
              "      <td>0</td>\n",
              "      <td>0</td>\n",
              "      <td>0</td>\n",
              "      <td>0</td>\n",
              "      <td>0</td>\n",
              "      <td>0</td>\n",
              "      <td>0</td>\n",
              "      <td>0</td>\n",
              "      <td>0</td>\n",
              "      <td>0</td>\n",
              "      <td>0</td>\n",
              "    </tr>\n",
              "    <tr>\n",
              "      <th>3</th>\n",
              "      <td>Tile Setter</td>\n",
              "      <td>0</td>\n",
              "      <td>0</td>\n",
              "      <td>0</td>\n",
              "      <td>0</td>\n",
              "      <td>0</td>\n",
              "      <td>0</td>\n",
              "      <td>0</td>\n",
              "      <td>0</td>\n",
              "      <td>0</td>\n",
              "      <td>0</td>\n",
              "      <td>0</td>\n",
              "      <td>0</td>\n",
              "      <td>0</td>\n",
              "      <td>0</td>\n",
              "      <td>0</td>\n",
              "      <td>0</td>\n",
              "      <td>0</td>\n",
              "      <td>0</td>\n",
              "      <td>0</td>\n",
              "      <td>0</td>\n",
              "      <td>0</td>\n",
              "      <td>0</td>\n",
              "      <td>0</td>\n",
              "      <td>0</td>\n",
              "      <td>0</td>\n",
              "      <td>1</td>\n",
              "      <td>0</td>\n",
              "      <td>0</td>\n",
              "      <td>1</td>\n",
              "      <td>0</td>\n",
              "      <td>0</td>\n",
              "      <td>0</td>\n",
              "      <td>1</td>\n",
              "      <td>0</td>\n",
              "      <td>0</td>\n",
              "      <td>0</td>\n",
              "      <td>1</td>\n",
              "      <td>0</td>\n",
              "      <td>0</td>\n",
              "      <td>...</td>\n",
              "      <td>0</td>\n",
              "      <td>0</td>\n",
              "      <td>1</td>\n",
              "      <td>0</td>\n",
              "      <td>0</td>\n",
              "      <td>0</td>\n",
              "      <td>0</td>\n",
              "      <td>0</td>\n",
              "      <td>0</td>\n",
              "      <td>0</td>\n",
              "      <td>0</td>\n",
              "      <td>0</td>\n",
              "      <td>0</td>\n",
              "      <td>0</td>\n",
              "      <td>0</td>\n",
              "      <td>0</td>\n",
              "      <td>0</td>\n",
              "      <td>0</td>\n",
              "      <td>0</td>\n",
              "      <td>0</td>\n",
              "      <td>0</td>\n",
              "      <td>0</td>\n",
              "      <td>0</td>\n",
              "      <td>1</td>\n",
              "      <td>0</td>\n",
              "      <td>0</td>\n",
              "      <td>0</td>\n",
              "      <td>0</td>\n",
              "      <td>0</td>\n",
              "      <td>0</td>\n",
              "      <td>0</td>\n",
              "      <td>0</td>\n",
              "      <td>0</td>\n",
              "      <td>0</td>\n",
              "      <td>1</td>\n",
              "      <td>0</td>\n",
              "      <td>0</td>\n",
              "      <td>0</td>\n",
              "      <td>0</td>\n",
              "      <td>0</td>\n",
              "    </tr>\n",
              "    <tr>\n",
              "      <th>4</th>\n",
              "      <td>Industrial Technology Teacher</td>\n",
              "      <td>0</td>\n",
              "      <td>0</td>\n",
              "      <td>0</td>\n",
              "      <td>0</td>\n",
              "      <td>0</td>\n",
              "      <td>0</td>\n",
              "      <td>0</td>\n",
              "      <td>0</td>\n",
              "      <td>0</td>\n",
              "      <td>0</td>\n",
              "      <td>0</td>\n",
              "      <td>0</td>\n",
              "      <td>0</td>\n",
              "      <td>0</td>\n",
              "      <td>0</td>\n",
              "      <td>0</td>\n",
              "      <td>0</td>\n",
              "      <td>0</td>\n",
              "      <td>0</td>\n",
              "      <td>0</td>\n",
              "      <td>0</td>\n",
              "      <td>0</td>\n",
              "      <td>0</td>\n",
              "      <td>0</td>\n",
              "      <td>0</td>\n",
              "      <td>0</td>\n",
              "      <td>0</td>\n",
              "      <td>0</td>\n",
              "      <td>0</td>\n",
              "      <td>0</td>\n",
              "      <td>0</td>\n",
              "      <td>0</td>\n",
              "      <td>0</td>\n",
              "      <td>0</td>\n",
              "      <td>0</td>\n",
              "      <td>0</td>\n",
              "      <td>0</td>\n",
              "      <td>0</td>\n",
              "      <td>0</td>\n",
              "      <td>...</td>\n",
              "      <td>0</td>\n",
              "      <td>0</td>\n",
              "      <td>0</td>\n",
              "      <td>0</td>\n",
              "      <td>0</td>\n",
              "      <td>0</td>\n",
              "      <td>0</td>\n",
              "      <td>0</td>\n",
              "      <td>0</td>\n",
              "      <td>0</td>\n",
              "      <td>0</td>\n",
              "      <td>0</td>\n",
              "      <td>0</td>\n",
              "      <td>0</td>\n",
              "      <td>0</td>\n",
              "      <td>0</td>\n",
              "      <td>0</td>\n",
              "      <td>0</td>\n",
              "      <td>0</td>\n",
              "      <td>0</td>\n",
              "      <td>0</td>\n",
              "      <td>0</td>\n",
              "      <td>0</td>\n",
              "      <td>0</td>\n",
              "      <td>0</td>\n",
              "      <td>0</td>\n",
              "      <td>0</td>\n",
              "      <td>0</td>\n",
              "      <td>0</td>\n",
              "      <td>0</td>\n",
              "      <td>0</td>\n",
              "      <td>0</td>\n",
              "      <td>0</td>\n",
              "      <td>0</td>\n",
              "      <td>0</td>\n",
              "      <td>0</td>\n",
              "      <td>0</td>\n",
              "      <td>0</td>\n",
              "      <td>0</td>\n",
              "      <td>0</td>\n",
              "    </tr>\n",
              "  </tbody>\n",
              "</table>\n",
              "<p>5 rows × 87 columns</p>\n",
              "</div>"
            ],
            "text/plain": [
              "                                       Jobs  powershell  ...  neural  dom\n",
              "0                         Pipeline Engineer           0  ...       0    0\n",
              "1  Healthcare Business Intelligence Manager           0  ...       0    0\n",
              "2                             Sales Manager           0  ...       0    0\n",
              "3                               Tile Setter           0  ...       0    0\n",
              "4             Industrial Technology Teacher           0  ...       0    0\n",
              "\n",
              "[5 rows x 87 columns]"
            ]
          },
          "metadata": {
            "tags": []
          },
          "execution_count": 79
        }
      ]
    },
    {
      "cell_type": "markdown",
      "metadata": {
        "id": "cBTutaLtCtzC"
      },
      "source": [
        "Predicting top5 values for each job of test set"
      ]
    },
    {
      "cell_type": "code",
      "metadata": {
        "colab": {
          "base_uri": "https://localhost:8080/"
        },
        "id": "uVJGcBppCruf",
        "outputId": "ff680985-a147-4676-e96c-2a34a2201c3f"
      },
      "source": [
        "#for top5\n",
        "test_sim=[]\n",
        "#for only top match\n",
        "test_sim_single=[]\n",
        "\n",
        "#for only till which similarity values are same\n",
        "test_accurate=[]\n",
        "for index_test,obj_test in enumerate(test_skills):\n",
        "    # print(obj_test)\n",
        "    tanimoto_val_test=calulate_query_similarity(obj_test)\n",
        "    # print(tanimoto_val_test)\n",
        "    sorted_test = dict( sorted(tanimoto_val_test.items(), key=operator.itemgetter(1),reverse=True))\n",
        "    # print(len(sorted_test.keys()))\n",
        "    \n",
        "    top_match_test=list(sorted_test.keys())[0]\n",
        "\n",
        "    inner_list=[]\n",
        "    inner_list.append(top_match_test)\n",
        "    test_sim_single.append(inner_list)\n",
        "    # print(top_match_test)\n",
        "    # break\n",
        "    top5_test=[]\n",
        "    new_dict_test={}\n",
        "\n",
        "    for index,obj in enumerate(tanimoto_sim_dict[top_match_test]):\n",
        "        new_dict_test[jobs[index]]=obj\n",
        "    # print(new_dict_test)\n",
        "    new_sorted_test=dict( sorted( new_dict_test.items(), key=operator.itemgetter(1),reverse=True))\n",
        "    # print(new_sorted_test)\n",
        "    top5_test=calculate_top(new_sorted_test)\n",
        "    # print(top5_test)\n",
        "    test_sim.append(top5_test)\n",
        "\n",
        "    accurate_result=[]\n",
        "    dict_first=new_sorted_test.items()\n",
        "    pairs_iterator = iter(dict_first)\n",
        "    # print(pairs_iterator)\n",
        "    first_pair= next(pairs_iterator)\n",
        "    # print(first_pair)\n",
        "    first_pair=list(first_pair)\n",
        "    # print(first_pair)\n",
        "\n",
        "    first_pair=dict([first_pair])\n",
        " \n",
        "    for x,y in first_pair.items():\n",
        "        for x1,y1 in new_sorted_test.items():\n",
        "            if x==x1:\n",
        "                accurate_result.append(x1)\n",
        "            else:\n",
        "                if y == y1:\n",
        "                    accurate_result.append(x1)\n",
        "                else:\n",
        "                    break\n",
        "    test_accurate.append(accurate_result)\n",
        "print(test_sim)\n",
        "print(len(test_sim))"
      ],
      "execution_count": null,
      "outputs": [
        {
          "output_type": "stream",
          "text": [
            "[['Pipeline Engineer', 'Operations Agent', 'Cruise Ship', 'Quality Assurance Technologist', 'Mutual Fund Analyst'], ['Roadie', 'Healthcare Business Intelligence Manager', 'Director of? Customer Success and Satisfaction', 'Cognos Business Development Architect', 'IT Support Staff'], ['Sales Manager', 'Medical Receptionist', 'Clinical Research Associate', 'Territory Sales Representative', 'Endoscopy Nurse'], ['Tile Setter', 'Electronics Engineer', 'Manufacturing Customer Service Representative', 'Producer', 'Piping Stress Engineer'], ['Concierge?', 'Industrial Technology Teacher', 'Financial Analyst', 'Wedding Sales Manager', 'Director of Hotel Operations'], ['Concrete Finisher', 'Attorney', 'Group Sales Management', 'Fabricator', 'Account Executive'], ['Research and Development Tester', 'Forecast Systems Manager', 'Government Contract Consultant', 'Conference Coordinator', 'Quality Assurance Technologist'], ['Valet Parker', 'International Travel Consultant', 'Environmental Project Analyst', 'Staff Assistant - Accounting', 'Investment Advisor'], ['Conference Coordinator', 'Laboratory Assistant', 'Dermatology Nurse', 'Vice President of Engineering', 'Field Technician'], ['Investment Advisor', 'Guest Room Sales Manager', 'Rotating Equipment Engineer', 'Concrete Finisher', 'Attorney'], ['Process Control Engineer', 'Controller', 'Computer Science Teacher', 'Patio Room Installer', 'Strength and Conditioning Coach'], ['Metal Building Erector', 'Customer Service Agent', 'Travel Consultant', 'Human Resources Director', 'Travel Secretary'], ['Technical Support Engineer', 'Event Coordinator', 'Software Engineer - Data Warehouse/Business Intelligence', 'Passenger Service Agent', 'Implementation Consultant'], ['Chemical Engineer', 'Laboratory Assistant', 'Global Development Specialist', 'Vice President of Engineering', 'Field Technician'], ['Mutual Fund Analyst', 'Network Engineer', 'Server', 'Institutional Research Business Intelligence Systems Analyst', 'Pipeline Engineer'], ['Clinical Research Associate', 'Aviation Inside Sales', 'Corporate Reservations Agent', 'Component Engineer', 'Electrical Design Engineer'], ['Sales and Marketing Coordinator', 'Sales Coordinator', 'Athletic Scout', 'Senior Mechanical Engineer', 'Commercial Print Management Consultant'], ['Mutual Fund Analyst', 'Network Engineer', 'Server', 'Institutional Research Business Intelligence Systems Analyst', 'Pipeline Engineer'], ['Cardiovascular Operating Room Nurse', 'Assistant General Manager', 'Sales Analyst', 'Research and Development Technician', 'Total Quality Management Director'], ['Hostess', 'Behavior Specialist', 'Technology Consultant', 'Alarm Technician', 'Director of Guidance'], ['Corporate Sales Manager', 'Threat Intelligence Analyst', 'Process Control Engineer', 'Controller', 'Operations Clerk'], ['Client Service Specialist', 'Power Regulator', 'Front Desk Attendant', 'Stationary Engineer', 'Tax Advisor'], ['Material Handler', 'Quality Assurance Technologist', 'Oceanographer', 'Special Education Teacher', 'Instrumentation Engineer'], ['Roadie', 'Healthcare Business Intelligence Manager', 'Director of? Customer Success and Satisfaction', 'Cognos Business Development Architect', 'IT Support Staff'], ['Provisioning Agents', 'Account Manager', 'HVAC Mechanic', 'Clinical Research Associate', 'Aviation Inside Sales'], ['Sales Analyst', 'Research and Development Technician', 'Data Architect', 'Producer Travel Channel', 'Catering Manager'], ['Technical Support Engineer', 'Event Coordinator', 'Software Engineer - Data Warehouse/Business Intelligence', 'Passenger Service Agent', 'Implementation Consultant'], ['Marketing Consultant', 'Front Desk Clerk', 'Cook', 'Drilling Engineer', 'Vice Principal'], ['Clinical Research Associate', 'Aviation Inside Sales', 'Corporate Reservations Agent', 'Component Engineer', 'Electrical Design Engineer'], ['Marketing Consultant', 'Front Desk Clerk', 'Cook', 'Drilling Engineer', 'Vice Principal'], ['Senior Competitive Intelligence Manager', 'Patient Care Coordinator', 'Choral Music Teacher', 'Front Desk Associate', 'HVAC Mechanic'], ['Chef', 'Sports Physician', 'Competitive Intelligence Manager', 'Medical Receptionist', 'Investment Advisor'], ['Staff Engineer', 'Solution Architect Business Intelligence', 'Heavy Equipment Technician', 'Cost Engineer', 'Cyber Intelligence Watch Officer'], ['Solution Architect Business Intelligence', 'Staff Engineer', 'Operations Research Analysis Manager', 'Cost Engineer', 'Heavy Equipment Technician'], ['Station Agent', 'Golf Pro', 'Countertop Fabricator and Installer', 'International Travel Consultant', 'Ground Support Equipment Mechanic'], ['Cardiovascular Operating Room Nurse', 'Assistant General Manager', 'Sales Analyst', 'Research and Development Technician', 'Total Quality Management Director'], ['School Social Worker', 'Healthcare Consultant', 'Environmental Services Representative', 'Total Quality Management Director', 'Golf Pro'], ['Compliance Engineer', 'Ground Support Equipment Mechanic', 'Manufacturing Customer Service Representative', 'Chief of Career Pathways and Integrated Learning', 'Producer'], ['Hunting Guide', 'Health/Physical Education Teacher', 'Power Regulator', 'Conservation Technician', 'Roadie'], ['Heavy Equipment Technician', 'Cyber Intelligence Watch Officer', 'Market Access Associate', 'Piping Stress Engineer', 'Territory Service Representative'], ['Medical Receptionist', 'Account Executive', 'Manufacturing Specialist', 'Pipefitter', 'Market Access Associate'], ['Senior Competitive Intelligence Manager', 'Patient Care Coordinator', 'Choral Music Teacher', 'Front Desk Associate', 'HVAC Mechanic'], ['Technical Writer', 'Maintenance Engineer', 'Assistant Coach', 'School Nurse', 'Lineman'], ['Global Development Specialist', 'Corporate Recruiter', 'Customer Service Agent', 'Travel Consultant', 'Human Resources Director'], ['Cognos Business Development Architect', 'IT Support Staff', 'Crew Scheduling Manager', 'Change Management Consultant', 'Roadie'], ['Process Control Engineer', 'Controller', 'Computer Science Teacher', 'Patio Room Installer', 'Strength and Conditioning Coach'], ['Endoscopy Nurse', 'Chemical Technician', 'Construction Engineer', 'Territory Sales Representative', 'Forecast Systems Manager'], ['Power Regulator', 'Hunting Guide', 'Health/Physical Education Teacher', 'Bus Driver', 'Front Desk Attendant'], ['Senior Competitive Intelligence Manager', 'Patient Care Coordinator', 'Choral Music Teacher', 'Front Desk Associate', 'HVAC Mechanic'], ['Operations Research Analysis Manager', 'Project Manager', 'Staff Engineer', 'Strategy Consultant?', 'Real Estate Appraiser']]\n",
            "50\n"
          ],
          "name": "stdout"
        }
      ]
    },
    {
      "cell_type": "code",
      "metadata": {
        "colab": {
          "base_uri": "https://localhost:8080/"
        },
        "id": "1lfcj6feDpDD",
        "outputId": "57c80f11-7634-472f-c3dc-33ea05c595b5"
      },
      "source": [
        "print(test_sim_single)"
      ],
      "execution_count": null,
      "outputs": [
        {
          "output_type": "stream",
          "text": [
            "[['Pipeline Engineer'], ['Roadie'], ['Sales Manager'], ['Tile Setter'], ['Concierge?'], ['Concrete Finisher'], ['Research and Development Tester'], ['Valet Parker'], ['Conference Coordinator'], ['Investment Advisor'], ['Process Control Engineer'], ['Metal Building Erector'], ['Technical Support Engineer'], ['Chemical Engineer'], ['Mutual Fund Analyst'], ['Clinical Research Associate'], ['Sales and Marketing Coordinator'], ['Mutual Fund Analyst'], ['Cardiovascular Operating Room Nurse'], ['Hostess'], ['Corporate Sales Manager'], ['Client Service Specialist'], ['Material Handler'], ['Roadie'], ['Provisioning Agents'], ['Sales Analyst'], ['Technical Support Engineer'], ['Marketing Consultant'], ['Clinical Research Associate'], ['Marketing Consultant'], ['Senior Competitive Intelligence Manager'], ['Chef'], ['Staff Engineer'], ['Solution Architect Business Intelligence'], ['Station Agent'], ['Cardiovascular Operating Room Nurse'], ['School Social Worker'], ['Compliance Engineer'], ['Hunting Guide'], ['Heavy Equipment Technician'], ['Medical Receptionist'], ['Senior Competitive Intelligence Manager'], ['Technical Writer'], ['Global Development Specialist'], ['Cognos Business Development Architect'], ['Process Control Engineer'], ['Endoscopy Nurse'], ['Power Regulator'], ['Senior Competitive Intelligence Manager'], ['Operations Research Analysis Manager']]\n"
          ],
          "name": "stdout"
        }
      ]
    },
    {
      "cell_type": "code",
      "metadata": {
        "id": "R0ytrHphc7zH",
        "colab": {
          "base_uri": "https://localhost:8080/"
        },
        "outputId": "f9a00629-edd0-42ef-8d04-3cabcb25a0f9"
      },
      "source": [
        "test_accurate"
      ],
      "execution_count": null,
      "outputs": [
        {
          "output_type": "execute_result",
          "data": {
            "text/plain": [
              "[['Pipeline Engineer', 'Operations Agent', 'Cruise Ship'],\n",
              " ['Roadie',\n",
              "  'Healthcare Business Intelligence Manager',\n",
              "  'Director of? Customer Success and Satisfaction'],\n",
              " ['Sales Manager'],\n",
              " ['Tile Setter'],\n",
              " ['Concierge?', 'Industrial Technology Teacher'],\n",
              " ['Concrete Finisher', 'Attorney', 'Group Sales Management', 'Fabricator'],\n",
              " ['Research and Development Tester'],\n",
              " ['Valet Parker'],\n",
              " ['Conference Coordinator'],\n",
              " ['Investment Advisor',\n",
              "  'Guest Room Sales Manager',\n",
              "  'Rotating Equipment Engineer'],\n",
              " ['Process Control Engineer',\n",
              "  'Controller',\n",
              "  'Computer Science Teacher',\n",
              "  'Patio Room Installer',\n",
              "  'Strength and Conditioning Coach'],\n",
              " ['Metal Building Erector'],\n",
              " ['Technical Support Engineer',\n",
              "  'Event Coordinator',\n",
              "  'Software Engineer - Data Warehouse/Business Intelligence',\n",
              "  'Passenger Service Agent',\n",
              "  'Implementation Consultant',\n",
              "  'Mechanical Engineer'],\n",
              " ['Chemical Engineer'],\n",
              " ['Mutual Fund Analyst', 'Network Engineer', 'Server'],\n",
              " ['Clinical Research Associate',\n",
              "  'Aviation Inside Sales',\n",
              "  'Corporate Reservations Agent'],\n",
              " ['Sales and Marketing Coordinator',\n",
              "  'Sales Coordinator',\n",
              "  'Athletic Scout',\n",
              "  'Senior Mechanical Engineer',\n",
              "  'Commercial Print Management Consultant',\n",
              "  'Business Objects Architect'],\n",
              " ['Mutual Fund Analyst', 'Network Engineer', 'Server'],\n",
              " ['Cardiovascular Operating Room Nurse', 'Assistant General Manager'],\n",
              " ['Hostess',\n",
              "  'Behavior Specialist',\n",
              "  'Technology Consultant',\n",
              "  'Alarm Technician',\n",
              "  'Director of Guidance',\n",
              "  'Quality Control Engineer',\n",
              "  'Controls Engineer'],\n",
              " ['Corporate Sales Manager'],\n",
              " ['Client Service Specialist'],\n",
              " ['Material Handler'],\n",
              " ['Roadie',\n",
              "  'Healthcare Business Intelligence Manager',\n",
              "  'Director of? Customer Success and Satisfaction'],\n",
              " ['Provisioning Agents', 'Account Manager'],\n",
              " ['Sales Analyst', 'Research and Development Technician'],\n",
              " ['Technical Support Engineer',\n",
              "  'Event Coordinator',\n",
              "  'Software Engineer - Data Warehouse/Business Intelligence',\n",
              "  'Passenger Service Agent',\n",
              "  'Implementation Consultant',\n",
              "  'Mechanical Engineer'],\n",
              " ['Marketing Consultant', 'Front Desk Clerk', 'Cook'],\n",
              " ['Clinical Research Associate',\n",
              "  'Aviation Inside Sales',\n",
              "  'Corporate Reservations Agent'],\n",
              " ['Marketing Consultant', 'Front Desk Clerk', 'Cook'],\n",
              " ['Senior Competitive Intelligence Manager',\n",
              "  'Patient Care Coordinator',\n",
              "  'Choral Music Teacher'],\n",
              " ['Chef'],\n",
              " ['Staff Engineer'],\n",
              " ['Solution Architect Business Intelligence'],\n",
              " ['Station Agent'],\n",
              " ['Cardiovascular Operating Room Nurse', 'Assistant General Manager'],\n",
              " ['School Social Worker',\n",
              "  'Healthcare Consultant',\n",
              "  'Environmental Services Representative'],\n",
              " ['Compliance Engineer'],\n",
              " ['Hunting Guide', 'Health/Physical Education Teacher'],\n",
              " ['Heavy Equipment Technician'],\n",
              " ['Medical Receptionist'],\n",
              " ['Senior Competitive Intelligence Manager',\n",
              "  'Patient Care Coordinator',\n",
              "  'Choral Music Teacher'],\n",
              " ['Technical Writer', 'Maintenance Engineer'],\n",
              " ['Global Development Specialist'],\n",
              " ['Cognos Business Development Architect',\n",
              "  'IT Support Staff',\n",
              "  'Crew Scheduling Manager',\n",
              "  'Change Management Consultant'],\n",
              " ['Process Control Engineer',\n",
              "  'Controller',\n",
              "  'Computer Science Teacher',\n",
              "  'Patio Room Installer',\n",
              "  'Strength and Conditioning Coach'],\n",
              " ['Endoscopy Nurse', 'Chemical Technician', 'Construction Engineer'],\n",
              " ['Power Regulator'],\n",
              " ['Senior Competitive Intelligence Manager',\n",
              "  'Patient Care Coordinator',\n",
              "  'Choral Music Teacher'],\n",
              " ['Operations Research Analysis Manager']]"
            ]
          },
          "metadata": {
            "tags": []
          },
          "execution_count": 82
        }
      ]
    },
    {
      "cell_type": "markdown",
      "metadata": {
        "id": "Cs36qP08cPAP"
      },
      "source": [
        "Calculating accuracy and error rate consider the condition till which similarity values are same . this one is accurate one"
      ]
    },
    {
      "cell_type": "code",
      "metadata": {
        "colab": {
          "base_uri": "https://localhost:8080/"
        },
        "id": "2jvlCi50BaNF",
        "outputId": "cbd8da25-da1e-40b6-d7a8-bb01758f68a0"
      },
      "source": [
        "acc3=[]\n",
        "for index,obj in enumerate(test_accurate):\n",
        "    if test_jobs[index] in obj:\n",
        "        acc3.append(1)\n",
        "    else:\n",
        "        acc3.append(0)\n",
        "print(acc3)\n",
        "\n",
        "\n",
        "#Calculating accuracy rate:\n",
        "\n",
        "accuracy3=sum(acc3)/len(test_sim)\n",
        "print(\"\\ncorrectly predicted considering only top match :\",accuracy3)\n",
        "\n",
        "#error percentage\n",
        "error_rate3=acc3.count(0)/len(test_sim)\n",
        "print(\"\\nerror rate is considering only top match:\",error_rate3)"
      ],
      "execution_count": null,
      "outputs": [
        {
          "output_type": "stream",
          "text": [
            "[1, 1, 1, 1, 1, 1, 1, 1, 1, 1, 1, 1, 1, 1, 1, 1, 1, 1, 1, 1, 0, 1, 1, 1, 1, 1, 1, 1, 1, 1, 1, 1, 1, 1, 1, 1, 1, 1, 1, 1, 1, 1, 1, 0, 1, 1, 1, 0, 0, 1]\n",
            "\n",
            "correctly predicted considering only top match : 0.92\n",
            "\n",
            "error rate is considering only top match: 0.08\n"
          ],
          "name": "stdout"
        }
      ]
    },
    {
      "cell_type": "code",
      "metadata": {
        "id": "BXs_LfBccYRF"
      },
      "source": [
        ""
      ],
      "execution_count": null,
      "outputs": []
    },
    {
      "cell_type": "markdown",
      "metadata": {
        "id": "WaSWiV_2DUbF"
      },
      "source": [
        "Calculating Accuracy and Error rate considering top5 prediction"
      ]
    },
    {
      "cell_type": "code",
      "metadata": {
        "colab": {
          "base_uri": "https://localhost:8080/"
        },
        "id": "UNICoeaoC9er",
        "outputId": "f231e35b-f1cc-47a2-ab5e-45560fd693b6"
      },
      "source": [
        "print(len(test_sim[0]))"
      ],
      "execution_count": null,
      "outputs": [
        {
          "output_type": "stream",
          "text": [
            "5\n"
          ],
          "name": "stdout"
        }
      ]
    },
    {
      "cell_type": "code",
      "metadata": {
        "colab": {
          "base_uri": "https://localhost:8080/"
        },
        "id": "oHkSGfpID1lZ",
        "outputId": "2adf4e4c-279f-4577-ff60-411e42dcfec0"
      },
      "source": [
        "acc=[]\n",
        "for index,obj in enumerate(test_sim):\n",
        "    if test_jobs[index] in obj:\n",
        "        acc.append(1)\n",
        "    else:\n",
        "        acc.append(0)\n",
        "print(acc)"
      ],
      "execution_count": null,
      "outputs": [
        {
          "output_type": "stream",
          "text": [
            "[1, 1, 1, 1, 1, 1, 1, 1, 1, 1, 1, 1, 1, 1, 1, 1, 1, 1, 1, 0, 1, 1, 1, 1, 1, 1, 0, 1, 1, 1, 1, 1, 1, 1, 1, 1, 1, 1, 1, 1, 1, 1, 1, 0, 1, 1, 1, 1, 1, 1]\n"
          ],
          "name": "stdout"
        }
      ]
    },
    {
      "cell_type": "code",
      "metadata": {
        "colab": {
          "base_uri": "https://localhost:8080/"
        },
        "id": "tamjH7ujETyq",
        "outputId": "1572225c-0796-448f-ccd1-95a6c0f28599"
      },
      "source": [
        "#Calculating accuracy rate:\n",
        "\n",
        "accuracy=sum(acc)/len(test_sim)\n",
        "print(\"correctly predicted considering top5 match :\",accuracy)\n",
        "\n",
        "#error percentage\n",
        "error_rate=acc.count(0)/len(test_sim)\n",
        "print(\"\\nerror rate is considering top5 match:\",error_rate)"
      ],
      "execution_count": null,
      "outputs": [
        {
          "output_type": "stream",
          "text": [
            "correctly predicted considering top5 match : 0.94\n",
            "\n",
            "error rate is considering top5 match: 0.06\n"
          ],
          "name": "stdout"
        }
      ]
    },
    {
      "cell_type": "markdown",
      "metadata": {
        "id": "YPU1iI8DEe7c"
      },
      "source": [
        "Considering Accuracy and Error rate with consider only top match"
      ]
    },
    {
      "cell_type": "code",
      "metadata": {
        "colab": {
          "base_uri": "https://localhost:8080/"
        },
        "id": "lPbn8uexEeKj",
        "outputId": "7a18efb3-7947-4a56-a8aa-270b24aa22e4"
      },
      "source": [
        "acc_single=[]\n",
        "for index,obj in enumerate(test_sim_single):\n",
        "    # print(test_jobs[index])\n",
        "    # print(obj)\n",
        "    if test_jobs[index] in obj:\n",
        "        acc_single.append(1)\n",
        "    else:\n",
        "        acc_single.append(0)\n",
        "print(acc_single)\n",
        "\n",
        "#Calculating accuracy rate:\n",
        "\n",
        "accuracy2=sum(acc_single)/len(test_sim)\n",
        "print(\"\\ncorrectly predicted considering only top match :\",accuracy2)\n",
        "\n",
        "#error percentage\n",
        "error_rate2=acc_single.count(0)/len(test_sim)\n",
        "print(\"\\nerror rate is considering only top match:\",error_rate2)"
      ],
      "execution_count": null,
      "outputs": [
        {
          "output_type": "stream",
          "text": [
            "[1, 0, 1, 1, 0, 1, 1, 1, 1, 1, 0, 1, 1, 1, 1, 1, 0, 0, 1, 0, 0, 1, 1, 1, 1, 0, 0, 0, 0, 1, 0, 1, 1, 1, 1, 0, 0, 1, 0, 1, 1, 0, 1, 0, 0, 1, 1, 0, 0, 1]\n",
            "\n",
            "correctly predicted considering only top match : 0.6\n",
            "\n",
            "error rate is considering only top match: 0.4\n"
          ],
          "name": "stdout"
        }
      ]
    },
    {
      "cell_type": "code",
      "metadata": {
        "id": "ibbFQ4MnL73r"
      },
      "source": [
        ""
      ],
      "execution_count": null,
      "outputs": []
    }
  ]
}