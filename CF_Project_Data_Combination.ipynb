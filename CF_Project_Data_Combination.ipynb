{
  "nbformat": 4,
  "nbformat_minor": 0,
  "metadata": {
    "colab": {
      "name": "CF_Project_Data_Combination",
      "provenance": [],
      "collapsed_sections": []
    },
    "kernelspec": {
      "name": "python3",
      "display_name": "Python 3"
    }
  },
  "cells": [
    {
      "cell_type": "markdown",
      "metadata": {
        "id": "0Afame8B0a1C"
      },
      "source": [
        "# [Downloading the Dataset](https://www.kaggle.com/tondji/jobs-data-for-recommender-systems)\n"
      ]
    },
    {
      "cell_type": "code",
      "metadata": {
        "id": "1_aiZ-sfJw6x",
        "colab": {
          "base_uri": "https://localhost:8080/"
        },
        "outputId": "2d072e85-e899-4c0e-f0a5-7be7716a567d"
      },
      "source": [
        "!pip install kaggle"
      ],
      "execution_count": null,
      "outputs": [
        {
          "output_type": "stream",
          "text": [
            "Requirement already satisfied: kaggle in /usr/local/lib/python3.7/dist-packages (1.5.12)\n",
            "Requirement already satisfied: python-dateutil in /usr/local/lib/python3.7/dist-packages (from kaggle) (2.8.1)\n",
            "Requirement already satisfied: six>=1.10 in /usr/local/lib/python3.7/dist-packages (from kaggle) (1.15.0)\n",
            "Requirement already satisfied: python-slugify in /usr/local/lib/python3.7/dist-packages (from kaggle) (4.0.1)\n",
            "Requirement already satisfied: urllib3 in /usr/local/lib/python3.7/dist-packages (from kaggle) (1.24.3)\n",
            "Requirement already satisfied: certifi in /usr/local/lib/python3.7/dist-packages (from kaggle) (2020.12.5)\n",
            "Requirement already satisfied: requests in /usr/local/lib/python3.7/dist-packages (from kaggle) (2.23.0)\n",
            "Requirement already satisfied: tqdm in /usr/local/lib/python3.7/dist-packages (from kaggle) (4.41.1)\n",
            "Requirement already satisfied: text-unidecode>=1.3 in /usr/local/lib/python3.7/dist-packages (from python-slugify->kaggle) (1.3)\n",
            "Requirement already satisfied: idna<3,>=2.5 in /usr/local/lib/python3.7/dist-packages (from requests->kaggle) (2.10)\n",
            "Requirement already satisfied: chardet<4,>=3.0.2 in /usr/local/lib/python3.7/dist-packages (from requests->kaggle) (3.0.4)\n"
          ],
          "name": "stdout"
        }
      ]
    },
    {
      "cell_type": "code",
      "metadata": {
        "colab": {
          "base_uri": "https://localhost:8080/"
        },
        "id": "ECqLyD2jrGyG",
        "outputId": "5e6d7b72-4ab4-4826-cf1e-990e34ba4f61"
      },
      "source": [
        "import os\n",
        "os.environ['KAGGLE_USERNAME'] = \"richadwivedi\"\n",
        "os.environ['KAGGLE_KEY'] = \"1462d815580695348ef4bf8d3edfbfbe\"\n",
        "\n",
        "!kaggle datasets download -d tondji/jobs-data-for-recommender-systems\n"
      ],
      "execution_count": null,
      "outputs": [
        {
          "output_type": "stream",
          "text": [
            "Downloading jobs-data-for-recommender-systems.zip to /content\n",
            " 31% 5.00M/16.0M [00:00<00:00, 37.1MB/s]\n",
            "100% 16.0M/16.0M [00:00<00:00, 63.3MB/s]\n"
          ],
          "name": "stdout"
        }
      ]
    },
    {
      "cell_type": "code",
      "metadata": {
        "id": "kTtR193Nr93m"
      },
      "source": [
        "from zipfile import ZipFile\n",
        "\n",
        "with ZipFile('jobs-data-for-recommender-systems.zip', 'r') as zipObj:\n",
        "   zipObj.extractall()"
      ],
      "execution_count": null,
      "outputs": []
    },
    {
      "cell_type": "markdown",
      "metadata": {
        "id": "uiQBBeQh1fD6"
      },
      "source": [
        "# Impoting Libraries"
      ]
    },
    {
      "cell_type": "code",
      "metadata": {
        "id": "8A6wx10Or9yl"
      },
      "source": [
        "import numpy as np\n",
        "import pandas as pd\n",
        "import seaborn as sns\n",
        "import matplotlib as map\n",
        "import matplotlib.pyplot as plt\n",
        "\n",
        "\n",
        "#To ignore warnings.\n",
        "import warnings\n",
        "warnings.filterwarnings('ignore')\n",
        "\n",
        "#saving model\n",
        "from sklearn.externals import joblib"
      ],
      "execution_count": null,
      "outputs": []
    },
    {
      "cell_type": "markdown",
      "metadata": {
        "id": "HJekIlQo1uk1"
      },
      "source": [
        "# Loading the Dataset\n",
        "\n",
        "\n"
      ]
    },
    {
      "cell_type": "code",
      "metadata": {
        "id": "WFZY05nFr9tJ"
      },
      "source": [
        "df_all_offers = pd.read_csv('ALL_Offers.csv')"
      ],
      "execution_count": null,
      "outputs": []
    },
    {
      "cell_type": "code",
      "metadata": {
        "id": "gMoFedcWr9h9"
      },
      "source": [
        "df_offers = pd.read_csv('offers.csv')"
      ],
      "execution_count": null,
      "outputs": []
    },
    {
      "cell_type": "code",
      "metadata": {
        "id": "i1Iu-c52tJWo"
      },
      "source": [
        "df_org = pd.read_csv('organizations.csv')"
      ],
      "execution_count": null,
      "outputs": []
    },
    {
      "cell_type": "markdown",
      "metadata": {
        "id": "Woc0NqoAT2vU"
      },
      "source": [
        "# Exploratory Data Analysis"
      ]
    },
    {
      "cell_type": "markdown",
      "metadata": {
        "id": "rE8lAG8BYil-"
      },
      "source": [
        " Data Analysis of All_offers.csv\n",
        "\n",
        "---\n",
        "\n"
      ]
    },
    {
      "cell_type": "code",
      "metadata": {
        "colab": {
          "base_uri": "https://localhost:8080/",
          "height": 194
        },
        "id": "qyyG142-U9j_",
        "outputId": "54071a09-462e-4cef-b8b2-78a2608561b4"
      },
      "source": [
        "#Let's understand the data\n",
        "df_all_offers.head()"
      ],
      "execution_count": null,
      "outputs": [
        {
          "output_type": "execute_result",
          "data": {
            "text/html": [
              "<div>\n",
              "<style scoped>\n",
              "    .dataframe tbody tr th:only-of-type {\n",
              "        vertical-align: middle;\n",
              "    }\n",
              "\n",
              "    .dataframe tbody tr th {\n",
              "        vertical-align: top;\n",
              "    }\n",
              "\n",
              "    .dataframe thead th {\n",
              "        text-align: right;\n",
              "    }\n",
              "</style>\n",
              "<table border=\"1\" class=\"dataframe\">\n",
              "  <thead>\n",
              "    <tr style=\"text-align: right;\">\n",
              "      <th></th>\n",
              "      <th>posted_by_id</th>\n",
              "      <th>status</th>\n",
              "      <th>city</th>\n",
              "      <th>job_title</th>\n",
              "      <th>organization_id</th>\n",
              "      <th>contracts</th>\n",
              "      <th>description</th>\n",
              "      <th>skills</th>\n",
              "    </tr>\n",
              "  </thead>\n",
              "  <tbody>\n",
              "    <tr>\n",
              "      <th>0</th>\n",
              "      <td>1</td>\n",
              "      <td>published</td>\n",
              "      <td>Bondues</td>\n",
              "      <td>Stagiaire (H/F) Assistant Marketing Nutritionnel</td>\n",
              "      <td>1</td>\n",
              "      <td>Stage6mois</td>\n",
              "      <td>Entreprise    Le Groupe LACTALIS (près de ...</td>\n",
              "      <td>{'skills': {'communication': 1}}</td>\n",
              "    </tr>\n",
              "    <tr>\n",
              "      <th>1</th>\n",
              "      <td>2</td>\n",
              "      <td>published</td>\n",
              "      <td>Rhône</td>\n",
              "      <td>Expert process traitement thermique h/f</td>\n",
              "      <td>2</td>\n",
              "      <td>CDI</td>\n",
              "      <td>Entreprise    Filiale européenne du groupe...</td>\n",
              "      <td>{'skills': {'communication': 1, 'consulting': ...</td>\n",
              "    </tr>\n",
              "    <tr>\n",
              "      <th>2</th>\n",
              "      <td>3</td>\n",
              "      <td>published</td>\n",
              "      <td>Paris</td>\n",
              "      <td>Charge d'operation grands comptes h/f</td>\n",
              "      <td>3</td>\n",
              "      <td>CDI</td>\n",
              "      <td>Entreprise    Notre client, première socié...</td>\n",
              "      <td>{'skills': {'collaboration': 1, 'reporting': 1...</td>\n",
              "    </tr>\n",
              "    <tr>\n",
              "      <th>3</th>\n",
              "      <td>4</td>\n",
              "      <td>published</td>\n",
              "      <td>Rueil-Malmaison</td>\n",
              "      <td>Ingénieur Génie Civil stage F/H</td>\n",
              "      <td>4</td>\n",
              "      <td>Stage6mois</td>\n",
              "      <td>Entreprise    Acteur mondial et leader eur...</td>\n",
              "      <td>{'skills': {'collaboration': 1, 'ensemble': 1,...</td>\n",
              "    </tr>\n",
              "    <tr>\n",
              "      <th>4</th>\n",
              "      <td>5</td>\n",
              "      <td>published</td>\n",
              "      <td>Levallois-Perret</td>\n",
              "      <td>Chargé pricing H/F</td>\n",
              "      <td>5</td>\n",
              "      <td>CDI</td>\n",
              "      <td>Entreprise    ALLIANCE AUTOMOTIVE France, ...</td>\n",
              "      <td>{'skills': {'collaboration': 1, 'leadership': 1}}</td>\n",
              "    </tr>\n",
              "  </tbody>\n",
              "</table>\n",
              "</div>"
            ],
            "text/plain": [
              "   posted_by_id  ...                                             skills\n",
              "0             1  ...                   {'skills': {'communication': 1}}\n",
              "1             2  ...  {'skills': {'communication': 1, 'consulting': ...\n",
              "2             3  ...  {'skills': {'collaboration': 1, 'reporting': 1...\n",
              "3             4  ...  {'skills': {'collaboration': 1, 'ensemble': 1,...\n",
              "4             5  ...  {'skills': {'collaboration': 1, 'leadership': 1}}\n",
              "\n",
              "[5 rows x 8 columns]"
            ]
          },
          "metadata": {
            "tags": []
          },
          "execution_count": 8
        }
      ]
    },
    {
      "cell_type": "code",
      "metadata": {
        "colab": {
          "base_uri": "https://localhost:8080/"
        },
        "id": "YMr2j7H3ZSTO",
        "outputId": "f732b023-1ebd-4c84-bcf0-91a9b0d1dd29"
      },
      "source": [
        "#Number of Rows in the dataset\n",
        "print(\"Number of Rows are:\",df_all_offers.shape[0])"
      ],
      "execution_count": null,
      "outputs": [
        {
          "output_type": "stream",
          "text": [
            "Number of Rows are: 8867\n"
          ],
          "name": "stdout"
        }
      ]
    },
    {
      "cell_type": "code",
      "metadata": {
        "colab": {
          "base_uri": "https://localhost:8080/"
        },
        "id": "M7zAxWddZSPG",
        "outputId": "8c79d1dc-3d8b-4033-c963-7ac377ce7ead"
      },
      "source": [
        "#Number of Columns/features in dataset\n",
        "print(\"Number of Columns are:\",df_all_offers.shape[1])"
      ],
      "execution_count": null,
      "outputs": [
        {
          "output_type": "stream",
          "text": [
            "Number of Columns are: 8\n"
          ],
          "name": "stdout"
        }
      ]
    },
    {
      "cell_type": "code",
      "metadata": {
        "colab": {
          "base_uri": "https://localhost:8080/"
        },
        "id": "Em5flxwfZSJA",
        "outputId": "bf73a1cb-f453-4cf9-d32b-eba4c4746aeb"
      },
      "source": [
        "#List of Available features in dataset\n",
        "print(\"Available Features are:\",df_all_offers.columns.tolist())"
      ],
      "execution_count": null,
      "outputs": [
        {
          "output_type": "stream",
          "text": [
            "Available Features are: ['posted_by_id', 'status', 'city', 'job_title', 'organization_id', 'contracts', 'description', 'skills']\n"
          ],
          "name": "stdout"
        }
      ]
    },
    {
      "cell_type": "code",
      "metadata": {
        "colab": {
          "base_uri": "https://localhost:8080/"
        },
        "id": "Ex8S04M4ZSFY",
        "outputId": "2b76dfab-418a-407e-85be-622c25dda322"
      },
      "source": [
        "# Let's checkout which feature contains which kind of values i.e int /float /etc or what is the data type of values.\n",
        "print(df_all_offers.info())"
      ],
      "execution_count": null,
      "outputs": [
        {
          "output_type": "stream",
          "text": [
            "<class 'pandas.core.frame.DataFrame'>\n",
            "RangeIndex: 8867 entries, 0 to 8866\n",
            "Data columns (total 8 columns):\n",
            " #   Column           Non-Null Count  Dtype \n",
            "---  ------           --------------  ----- \n",
            " 0   posted_by_id     8867 non-null   int64 \n",
            " 1   status           8867 non-null   object\n",
            " 2   city             8867 non-null   object\n",
            " 3   job_title        8867 non-null   object\n",
            " 4   organization_id  8867 non-null   int64 \n",
            " 5   contracts        8867 non-null   object\n",
            " 6   description      8867 non-null   object\n",
            " 7   skills           8867 non-null   object\n",
            "dtypes: int64(2), object(6)\n",
            "memory usage: 554.3+ KB\n",
            "None\n"
          ],
          "name": "stdout"
        }
      ]
    },
    {
      "cell_type": "code",
      "metadata": {
        "colab": {
          "base_uri": "https://localhost:8080/"
        },
        "id": "MOyt1CVgZSA6",
        "outputId": "eef7a827-b51a-43a3-9c0c-be02e473ce53"
      },
      "source": [
        "#Checking is their any missing values are available in the dataset\n",
        "\n",
        "print(\"Missing values:\\n \",df_all_offers.isnull().sum())\n"
      ],
      "execution_count": null,
      "outputs": [
        {
          "output_type": "stream",
          "text": [
            "Missing values:\n",
            "  posted_by_id       0\n",
            "status             0\n",
            "city               0\n",
            "job_title          0\n",
            "organization_id    0\n",
            "contracts          0\n",
            "description        0\n",
            "skills             0\n",
            "dtype: int64\n"
          ],
          "name": "stdout"
        }
      ]
    },
    {
      "cell_type": "code",
      "metadata": {
        "colab": {
          "base_uri": "https://localhost:8080/"
        },
        "id": "P5itC8JEZR71",
        "outputId": "5ba41d02-de62-48d0-8cb6-249993c33c0d"
      },
      "source": [
        "# check for duplicate values\n",
        "df_all_offers.duplicated().sum()\n"
      ],
      "execution_count": null,
      "outputs": [
        {
          "output_type": "execute_result",
          "data": {
            "text/plain": [
              "141"
            ]
          },
          "metadata": {
            "tags": []
          },
          "execution_count": 14
        }
      ]
    },
    {
      "cell_type": "code",
      "metadata": {
        "colab": {
          "base_uri": "https://localhost:8080/"
        },
        "id": "7wxvvnypZRx6",
        "outputId": "96fcb6e2-1e07-4976-c869-147254d34b31"
      },
      "source": [
        "#checing number of unique values available in each column\n",
        "df_all_offers.nunique()"
      ],
      "execution_count": null,
      "outputs": [
        {
          "output_type": "execute_result",
          "data": {
            "text/plain": [
              "posted_by_id       1345\n",
              "status                1\n",
              "city               1020\n",
              "job_title          6770\n",
              "organization_id    1345\n",
              "contracts            52\n",
              "description        8707\n",
              "skills             2950\n",
              "dtype: int64"
            ]
          },
          "metadata": {
            "tags": []
          },
          "execution_count": 15
        }
      ]
    },
    {
      "cell_type": "markdown",
      "metadata": {
        "id": "NaND7fSGWm2r"
      },
      "source": [
        "Data Analysis of offers.csv\n",
        "\n",
        "---\n",
        "\n"
      ]
    },
    {
      "cell_type": "code",
      "metadata": {
        "colab": {
          "base_uri": "https://localhost:8080/",
          "height": 194
        },
        "id": "Bgmkdmo9Yylt",
        "outputId": "178a05c6-2e5d-43b8-c38e-207cb9086a22"
      },
      "source": [
        "#Let's understand the data\n",
        "df_offers.head()"
      ],
      "execution_count": null,
      "outputs": [
        {
          "output_type": "execute_result",
          "data": {
            "text/html": [
              "<div>\n",
              "<style scoped>\n",
              "    .dataframe tbody tr th:only-of-type {\n",
              "        vertical-align: middle;\n",
              "    }\n",
              "\n",
              "    .dataframe tbody tr th {\n",
              "        vertical-align: top;\n",
              "    }\n",
              "\n",
              "    .dataframe thead th {\n",
              "        text-align: right;\n",
              "    }\n",
              "</style>\n",
              "<table border=\"1\" class=\"dataframe\">\n",
              "  <thead>\n",
              "    <tr style=\"text-align: right;\">\n",
              "      <th></th>\n",
              "      <th>user_id</th>\n",
              "      <th>status</th>\n",
              "      <th>city</th>\n",
              "      <th>job_title</th>\n",
              "      <th>organization_id</th>\n",
              "      <th>contracts</th>\n",
              "      <th>description</th>\n",
              "      <th>skills</th>\n",
              "    </tr>\n",
              "  </thead>\n",
              "  <tbody>\n",
              "    <tr>\n",
              "      <th>0</th>\n",
              "      <td>55</td>\n",
              "      <td>published</td>\n",
              "      <td>HOMERVILLE</td>\n",
              "      <td>Medical Receptionist</td>\n",
              "      <td>0</td>\n",
              "      <td>AL</td>\n",
              "      <td>'Lorem ipsum dolor sit amet consectetur adipis...</td>\n",
              "      <td>{'skills': {'training': 1, 'certifications': 1...</td>\n",
              "    </tr>\n",
              "    <tr>\n",
              "      <th>1</th>\n",
              "      <td>90</td>\n",
              "      <td>published</td>\n",
              "      <td>DEMOTTE</td>\n",
              "      <td>Clinical Research Associate</td>\n",
              "      <td>1</td>\n",
              "      <td>AL</td>\n",
              "      <td>'Lorem ipsum dolor sit amet consectetur adipis...</td>\n",
              "      <td>{'skills': {'hardware': 2, 'communication': 1,...</td>\n",
              "    </tr>\n",
              "    <tr>\n",
              "      <th>2</th>\n",
              "      <td>2</td>\n",
              "      <td>published</td>\n",
              "      <td>CARY</td>\n",
              "      <td>Territory Sales Representative</td>\n",
              "      <td>2</td>\n",
              "      <td>AL</td>\n",
              "      <td>'Lorem ipsum dolor sit amet consectetur adipis...</td>\n",
              "      <td>{'skills': {'communication': 4, 'e-commerce': 1}}</td>\n",
              "    </tr>\n",
              "    <tr>\n",
              "      <th>3</th>\n",
              "      <td>3</td>\n",
              "      <td>published</td>\n",
              "      <td>SKOWHEGAN</td>\n",
              "      <td>Bus Driver</td>\n",
              "      <td>3</td>\n",
              "      <td>AL</td>\n",
              "      <td>'Lorem ipsum dolor sit amet consectetur adipis...</td>\n",
              "      <td>{'skills': {'mobile': 1, 'communication': 2, '...</td>\n",
              "    </tr>\n",
              "    <tr>\n",
              "      <th>4</th>\n",
              "      <td>4</td>\n",
              "      <td>published</td>\n",
              "      <td>HOLLISTER</td>\n",
              "      <td>Foreign Service Officer</td>\n",
              "      <td>4</td>\n",
              "      <td>AL</td>\n",
              "      <td>'Lorem ipsum dolor sit amet consectetur adipis...</td>\n",
              "      <td>{'skills': {'training': 4, 'designer': 1, 'pro...</td>\n",
              "    </tr>\n",
              "  </tbody>\n",
              "</table>\n",
              "</div>"
            ],
            "text/plain": [
              "   user_id  ...                                             skills\n",
              "0       55  ...  {'skills': {'training': 1, 'certifications': 1...\n",
              "1       90  ...  {'skills': {'hardware': 2, 'communication': 1,...\n",
              "2        2  ...  {'skills': {'communication': 4, 'e-commerce': 1}}\n",
              "3        3  ...  {'skills': {'mobile': 1, 'communication': 2, '...\n",
              "4        4  ...  {'skills': {'training': 4, 'designer': 1, 'pro...\n",
              "\n",
              "[5 rows x 8 columns]"
            ]
          },
          "metadata": {
            "tags": []
          },
          "execution_count": 16
        }
      ]
    },
    {
      "cell_type": "code",
      "metadata": {
        "colab": {
          "base_uri": "https://localhost:8080/"
        },
        "id": "ACpoUUvGaqtm",
        "outputId": "6949d721-3876-4461-b2d2-b7f5f32cd42a"
      },
      "source": [
        "#Number of Rows in the dataset\n",
        "print(\"Number of Rows are:\",df_offers.shape[0])"
      ],
      "execution_count": null,
      "outputs": [
        {
          "output_type": "stream",
          "text": [
            "Number of Rows are: 252\n"
          ],
          "name": "stdout"
        }
      ]
    },
    {
      "cell_type": "code",
      "metadata": {
        "colab": {
          "base_uri": "https://localhost:8080/"
        },
        "id": "9Uxv3N7_aqms",
        "outputId": "7fc5a515-f694-49b1-ae72-bf8b807f1de7"
      },
      "source": [
        "#Number of Columns/features in dataset\n",
        "print(\"Number of Columns are:\",df_offers.shape[1])"
      ],
      "execution_count": null,
      "outputs": [
        {
          "output_type": "stream",
          "text": [
            "Number of Columns are: 8\n"
          ],
          "name": "stdout"
        }
      ]
    },
    {
      "cell_type": "code",
      "metadata": {
        "colab": {
          "base_uri": "https://localhost:8080/"
        },
        "id": "F2PVcR91aqhS",
        "outputId": "d5d6832a-cb36-4ab8-ebb6-07d9145c3304"
      },
      "source": [
        "#List of Available features in dataset\n",
        "print(\"Available Features are:\",df_offers.columns.tolist())"
      ],
      "execution_count": null,
      "outputs": [
        {
          "output_type": "stream",
          "text": [
            "Available Features are: ['user_id', 'status', 'city', 'job_title', 'organization_id', 'contracts', 'description', 'skills']\n"
          ],
          "name": "stdout"
        }
      ]
    },
    {
      "cell_type": "code",
      "metadata": {
        "colab": {
          "base_uri": "https://localhost:8080/"
        },
        "id": "imY1xTn0aqat",
        "outputId": "f7293ad8-7954-4a79-f517-5f5036360b26"
      },
      "source": [
        "# Let's checkout which feature contains which kind of values i.e int /float /etc or what is the data type of values.\n",
        "print(df_offers.info())"
      ],
      "execution_count": null,
      "outputs": [
        {
          "output_type": "stream",
          "text": [
            "<class 'pandas.core.frame.DataFrame'>\n",
            "RangeIndex: 252 entries, 0 to 251\n",
            "Data columns (total 8 columns):\n",
            " #   Column           Non-Null Count  Dtype \n",
            "---  ------           --------------  ----- \n",
            " 0   user_id          252 non-null    int64 \n",
            " 1   status           252 non-null    object\n",
            " 2   city             252 non-null    object\n",
            " 3   job_title        252 non-null    object\n",
            " 4   organization_id  252 non-null    int64 \n",
            " 5   contracts        252 non-null    object\n",
            " 6   description      252 non-null    object\n",
            " 7   skills           252 non-null    object\n",
            "dtypes: int64(2), object(6)\n",
            "memory usage: 15.9+ KB\n",
            "None\n"
          ],
          "name": "stdout"
        }
      ]
    },
    {
      "cell_type": "code",
      "metadata": {
        "colab": {
          "base_uri": "https://localhost:8080/"
        },
        "id": "_3-h_HJUaqXh",
        "outputId": "e4d98656-6489-4519-9169-6e9948b61f20"
      },
      "source": [
        "#Checking is their any missing values are available in the dataset\n",
        "\n",
        "print(\"Missing values:\\n \",df_offers.isnull().sum())"
      ],
      "execution_count": null,
      "outputs": [
        {
          "output_type": "stream",
          "text": [
            "Missing values:\n",
            "  user_id            0\n",
            "status             0\n",
            "city               0\n",
            "job_title          0\n",
            "organization_id    0\n",
            "contracts          0\n",
            "description        0\n",
            "skills             0\n",
            "dtype: int64\n"
          ],
          "name": "stdout"
        }
      ]
    },
    {
      "cell_type": "code",
      "metadata": {
        "colab": {
          "base_uri": "https://localhost:8080/"
        },
        "id": "3CBR2ksTaqUI",
        "outputId": "5211ca68-d7a8-4ef9-a3d8-720a0348135d"
      },
      "source": [
        "# check for duplicate values\n",
        "df_offers.duplicated().sum()"
      ],
      "execution_count": null,
      "outputs": [
        {
          "output_type": "execute_result",
          "data": {
            "text/plain": [
              "0"
            ]
          },
          "metadata": {
            "tags": []
          },
          "execution_count": 22
        }
      ]
    },
    {
      "cell_type": "code",
      "metadata": {
        "colab": {
          "base_uri": "https://localhost:8080/"
        },
        "id": "IvPnF2zHaqQc",
        "outputId": "0c1d0463-d8a7-4f55-ab27-f2b9191f8968"
      },
      "source": [
        "#checing number of unique values available in each column\n",
        "df_offers.nunique()"
      ],
      "execution_count": null,
      "outputs": [
        {
          "output_type": "execute_result",
          "data": {
            "text/plain": [
              "user_id            200\n",
              "status               1\n",
              "city               213\n",
              "job_title          222\n",
              "organization_id    200\n",
              "contracts            1\n",
              "description          1\n",
              "skills             151\n",
              "dtype: int64"
            ]
          },
          "metadata": {
            "tags": []
          },
          "execution_count": 23
        }
      ]
    },
    {
      "cell_type": "markdown",
      "metadata": {
        "id": "qCjJuzalYu7S"
      },
      "source": [
        "Data Analysis of Users.csv\n",
        "\n",
        "---\n",
        "\n"
      ]
    },
    {
      "cell_type": "code",
      "metadata": {
        "colab": {
          "base_uri": "https://localhost:8080/",
          "height": 194
        },
        "id": "tobwF9WuU9e0",
        "outputId": "c395e665-7ed6-4bf1-ef40-5674a1cdebc0"
      },
      "source": [
        "#Let's understand the data\n",
        "df_org.head()"
      ],
      "execution_count": null,
      "outputs": [
        {
          "output_type": "execute_result",
          "data": {
            "text/html": [
              "<div>\n",
              "<style scoped>\n",
              "    .dataframe tbody tr th:only-of-type {\n",
              "        vertical-align: middle;\n",
              "    }\n",
              "\n",
              "    .dataframe tbody tr th {\n",
              "        vertical-align: top;\n",
              "    }\n",
              "\n",
              "    .dataframe thead th {\n",
              "        text-align: right;\n",
              "    }\n",
              "</style>\n",
              "<table border=\"1\" class=\"dataframe\">\n",
              "  <thead>\n",
              "    <tr style=\"text-align: right;\">\n",
              "      <th></th>\n",
              "      <th>organization_id</th>\n",
              "      <th>company_name</th>\n",
              "      <th>email</th>\n",
              "      <th>address</th>\n",
              "      <th>size</th>\n",
              "      <th>sectors</th>\n",
              "    </tr>\n",
              "  </thead>\n",
              "  <tbody>\n",
              "    <tr>\n",
              "      <th>0</th>\n",
              "      <td>0</td>\n",
              "      <td>BARON &amp; DECK</td>\n",
              "      <td>John.C.Maher@spambob.com</td>\n",
              "      <td>1018 1ST AVE APT 1229 # 7A</td>\n",
              "      <td>MC</td>\n",
              "      <td>PT</td>\n",
              "    </tr>\n",
              "    <tr>\n",
              "      <th>1</th>\n",
              "      <td>1</td>\n",
              "      <td>HILLSIDE TERRACE APTS</td>\n",
              "      <td>Shelley.M.Hamer@mailinator.com</td>\n",
              "      <td>10051 SANDRIDGE RD</td>\n",
              "      <td>BG</td>\n",
              "      <td>VA</td>\n",
              "    </tr>\n",
              "    <tr>\n",
              "      <th>2</th>\n",
              "      <td>2</td>\n",
              "      <td>GEORGE B LEWIS APTS</td>\n",
              "      <td>Tracie.M.Vargas@dodgit.com</td>\n",
              "      <td>10964 54TH ST SE</td>\n",
              "      <td>MC</td>\n",
              "      <td>GD</td>\n",
              "    </tr>\n",
              "    <tr>\n",
              "      <th>3</th>\n",
              "      <td>3</td>\n",
              "      <td>F A A AIRPORT</td>\n",
              "      <td>John.P.Stephens@pookmail.com</td>\n",
              "      <td>10826 WALNUT ST</td>\n",
              "      <td>MD</td>\n",
              "      <td>MA</td>\n",
              "    </tr>\n",
              "    <tr>\n",
              "      <th>4</th>\n",
              "      <td>4</td>\n",
              "      <td>BON JOUR ANSWERING</td>\n",
              "      <td>Nicholas.J.Fisher@spambob.com</td>\n",
              "      <td>101 JACKS LN</td>\n",
              "      <td>ST</td>\n",
              "      <td>GD</td>\n",
              "    </tr>\n",
              "  </tbody>\n",
              "</table>\n",
              "</div>"
            ],
            "text/plain": [
              "   organization_id           company_name  ... size sectors\n",
              "0                0           BARON & DECK  ...   MC      PT\n",
              "1                1  HILLSIDE TERRACE APTS  ...   BG      VA\n",
              "2                2    GEORGE B LEWIS APTS  ...   MC      GD\n",
              "3                3          F A A AIRPORT  ...   MD      MA\n",
              "4                4     BON JOUR ANSWERING  ...   ST      GD\n",
              "\n",
              "[5 rows x 6 columns]"
            ]
          },
          "metadata": {
            "tags": []
          },
          "execution_count": 24
        }
      ]
    },
    {
      "cell_type": "code",
      "metadata": {
        "colab": {
          "base_uri": "https://localhost:8080/"
        },
        "id": "0V1jaQpSEjpt",
        "outputId": "b4f4e140-743e-4cd5-b04e-29616eaf5fd5"
      },
      "source": [
        "#Number of Rows in the dataset\n",
        "print(\"Number of Rows are:\",df_org.shape[0])"
      ],
      "execution_count": null,
      "outputs": [
        {
          "output_type": "stream",
          "text": [
            "Number of Rows are: 201\n"
          ],
          "name": "stdout"
        }
      ]
    },
    {
      "cell_type": "code",
      "metadata": {
        "colab": {
          "base_uri": "https://localhost:8080/"
        },
        "id": "O7a7gmOPEjl-",
        "outputId": "76d364db-554c-498c-8c2d-5c22419142b6"
      },
      "source": [
        "#Number of Columns/features in dataset\n",
        "print(\"Number of Columns are:\",df_org.shape[1])"
      ],
      "execution_count": null,
      "outputs": [
        {
          "output_type": "stream",
          "text": [
            "Number of Columns are: 6\n"
          ],
          "name": "stdout"
        }
      ]
    },
    {
      "cell_type": "code",
      "metadata": {
        "colab": {
          "base_uri": "https://localhost:8080/"
        },
        "id": "a2OjUWm9EjiQ",
        "outputId": "f08064d8-304d-4947-b62a-a664e8da53b3"
      },
      "source": [
        "#List of Available features in dataset\n",
        "print(\"Available Features are:\",df_org.columns.tolist())"
      ],
      "execution_count": null,
      "outputs": [
        {
          "output_type": "stream",
          "text": [
            "Available Features are: ['organization_id', 'company_name', 'email', 'address', 'size', 'sectors']\n"
          ],
          "name": "stdout"
        }
      ]
    },
    {
      "cell_type": "code",
      "metadata": {
        "colab": {
          "base_uri": "https://localhost:8080/"
        },
        "id": "HuO4d1FXU9Z1",
        "outputId": "62a5e6b5-5794-471e-bcf7-fc743915018e"
      },
      "source": [
        "# Let's checkout which feature contains which kind of values i.e int /float /etc or what is the data type of values.\n",
        "print(df_offers.info())"
      ],
      "execution_count": null,
      "outputs": [
        {
          "output_type": "stream",
          "text": [
            "<class 'pandas.core.frame.DataFrame'>\n",
            "RangeIndex: 252 entries, 0 to 251\n",
            "Data columns (total 8 columns):\n",
            " #   Column           Non-Null Count  Dtype \n",
            "---  ------           --------------  ----- \n",
            " 0   user_id          252 non-null    int64 \n",
            " 1   status           252 non-null    object\n",
            " 2   city             252 non-null    object\n",
            " 3   job_title        252 non-null    object\n",
            " 4   organization_id  252 non-null    int64 \n",
            " 5   contracts        252 non-null    object\n",
            " 6   description      252 non-null    object\n",
            " 7   skills           252 non-null    object\n",
            "dtypes: int64(2), object(6)\n",
            "memory usage: 15.9+ KB\n",
            "None\n"
          ],
          "name": "stdout"
        }
      ]
    },
    {
      "cell_type": "code",
      "metadata": {
        "colab": {
          "base_uri": "https://localhost:8080/"
        },
        "id": "QvRQ68v-G8q6",
        "outputId": "5c8fc17f-39ba-42cc-a92c-91d1deebbf9c"
      },
      "source": [
        "#Checking is their any missing values are available in the dataset\n",
        "\n",
        "print(\"Missing values:\\n \",df_org.isnull().sum())"
      ],
      "execution_count": null,
      "outputs": [
        {
          "output_type": "stream",
          "text": [
            "Missing values:\n",
            "  organization_id    0\n",
            "company_name       0\n",
            "email              0\n",
            "address            0\n",
            "size               0\n",
            "sectors            0\n",
            "dtype: int64\n"
          ],
          "name": "stdout"
        }
      ]
    },
    {
      "cell_type": "code",
      "metadata": {
        "colab": {
          "base_uri": "https://localhost:8080/"
        },
        "id": "Rk9pDMajG8nU",
        "outputId": "e92474fe-671c-42c1-8f5f-5e2d1bc1d5b1"
      },
      "source": [
        "# check for duplicate values\n",
        "df_org.duplicated().sum()"
      ],
      "execution_count": null,
      "outputs": [
        {
          "output_type": "execute_result",
          "data": {
            "text/plain": [
              "0"
            ]
          },
          "metadata": {
            "tags": []
          },
          "execution_count": 30
        }
      ]
    },
    {
      "cell_type": "code",
      "metadata": {
        "colab": {
          "base_uri": "https://localhost:8080/"
        },
        "id": "VXIadDaXHHJd",
        "outputId": "74c91b8d-954b-4478-e0d4-653118244efb"
      },
      "source": [
        "#checing number of unique values available in each column\n",
        "df_org.nunique()"
      ],
      "execution_count": null,
      "outputs": [
        {
          "output_type": "execute_result",
          "data": {
            "text/plain": [
              "organization_id    201\n",
              "company_name       106\n",
              "email              201\n",
              "address            201\n",
              "size                 4\n",
              "sectors              5\n",
              "dtype: int64"
            ]
          },
          "metadata": {
            "tags": []
          },
          "execution_count": 31
        }
      ]
    },
    {
      "cell_type": "markdown",
      "metadata": {
        "id": "1jk7ij5iTugq"
      },
      "source": [
        "Combining the Datasets\n",
        "\n",
        "---\n"
      ]
    },
    {
      "cell_type": "code",
      "metadata": {
        "colab": {
          "base_uri": "https://localhost:8080/",
          "height": 312
        },
        "id": "fTvQgHARtJS1",
        "cellView": "code",
        "outputId": "bfcb3f85-f988-4102-d7b7-de6ae0c31a9c"
      },
      "source": [
        "#Combining the dataset Offers.csv and Org.csv\n",
        "df_combined1=pd.merge(df_offers,df_org)\n",
        "df_combined1.head()"
      ],
      "execution_count": null,
      "outputs": [
        {
          "output_type": "execute_result",
          "data": {
            "text/html": [
              "<div>\n",
              "<style scoped>\n",
              "    .dataframe tbody tr th:only-of-type {\n",
              "        vertical-align: middle;\n",
              "    }\n",
              "\n",
              "    .dataframe tbody tr th {\n",
              "        vertical-align: top;\n",
              "    }\n",
              "\n",
              "    .dataframe thead th {\n",
              "        text-align: right;\n",
              "    }\n",
              "</style>\n",
              "<table border=\"1\" class=\"dataframe\">\n",
              "  <thead>\n",
              "    <tr style=\"text-align: right;\">\n",
              "      <th></th>\n",
              "      <th>user_id</th>\n",
              "      <th>status</th>\n",
              "      <th>city</th>\n",
              "      <th>job_title</th>\n",
              "      <th>organization_id</th>\n",
              "      <th>contracts</th>\n",
              "      <th>description</th>\n",
              "      <th>skills</th>\n",
              "      <th>company_name</th>\n",
              "      <th>email</th>\n",
              "      <th>address</th>\n",
              "      <th>size</th>\n",
              "      <th>sectors</th>\n",
              "    </tr>\n",
              "  </thead>\n",
              "  <tbody>\n",
              "    <tr>\n",
              "      <th>0</th>\n",
              "      <td>55</td>\n",
              "      <td>published</td>\n",
              "      <td>HOMERVILLE</td>\n",
              "      <td>Medical Receptionist</td>\n",
              "      <td>0</td>\n",
              "      <td>AL</td>\n",
              "      <td>'Lorem ipsum dolor sit amet consectetur adipis...</td>\n",
              "      <td>{'skills': {'training': 1, 'certifications': 1...</td>\n",
              "      <td>BARON &amp; DECK</td>\n",
              "      <td>John.C.Maher@spambob.com</td>\n",
              "      <td>1018 1ST AVE APT 1229 # 7A</td>\n",
              "      <td>MC</td>\n",
              "      <td>PT</td>\n",
              "    </tr>\n",
              "    <tr>\n",
              "      <th>1</th>\n",
              "      <td>90</td>\n",
              "      <td>published</td>\n",
              "      <td>DEMOTTE</td>\n",
              "      <td>Clinical Research Associate</td>\n",
              "      <td>1</td>\n",
              "      <td>AL</td>\n",
              "      <td>'Lorem ipsum dolor sit amet consectetur adipis...</td>\n",
              "      <td>{'skills': {'hardware': 2, 'communication': 1,...</td>\n",
              "      <td>HILLSIDE TERRACE APTS</td>\n",
              "      <td>Shelley.M.Hamer@mailinator.com</td>\n",
              "      <td>10051 SANDRIDGE RD</td>\n",
              "      <td>BG</td>\n",
              "      <td>VA</td>\n",
              "    </tr>\n",
              "    <tr>\n",
              "      <th>2</th>\n",
              "      <td>2</td>\n",
              "      <td>published</td>\n",
              "      <td>CARY</td>\n",
              "      <td>Territory Sales Representative</td>\n",
              "      <td>2</td>\n",
              "      <td>AL</td>\n",
              "      <td>'Lorem ipsum dolor sit amet consectetur adipis...</td>\n",
              "      <td>{'skills': {'communication': 4, 'e-commerce': 1}}</td>\n",
              "      <td>GEORGE B LEWIS APTS</td>\n",
              "      <td>Tracie.M.Vargas@dodgit.com</td>\n",
              "      <td>10964 54TH ST SE</td>\n",
              "      <td>MC</td>\n",
              "      <td>GD</td>\n",
              "    </tr>\n",
              "    <tr>\n",
              "      <th>3</th>\n",
              "      <td>22</td>\n",
              "      <td>published</td>\n",
              "      <td>CHICAGO RIDGE</td>\n",
              "      <td>Endoscopy Nurse</td>\n",
              "      <td>2</td>\n",
              "      <td>AL</td>\n",
              "      <td>'Lorem ipsum dolor sit amet consectetur adipis...</td>\n",
              "      <td>{'skills': {'e-commerce': 1}}</td>\n",
              "      <td>GEORGE B LEWIS APTS</td>\n",
              "      <td>Tracie.M.Vargas@dodgit.com</td>\n",
              "      <td>10964 54TH ST SE</td>\n",
              "      <td>MC</td>\n",
              "      <td>GD</td>\n",
              "    </tr>\n",
              "    <tr>\n",
              "      <th>4</th>\n",
              "      <td>3</td>\n",
              "      <td>published</td>\n",
              "      <td>SKOWHEGAN</td>\n",
              "      <td>Bus Driver</td>\n",
              "      <td>3</td>\n",
              "      <td>AL</td>\n",
              "      <td>'Lorem ipsum dolor sit amet consectetur adipis...</td>\n",
              "      <td>{'skills': {'mobile': 1, 'communication': 2, '...</td>\n",
              "      <td>F A A AIRPORT</td>\n",
              "      <td>John.P.Stephens@pookmail.com</td>\n",
              "      <td>10826 WALNUT ST</td>\n",
              "      <td>MD</td>\n",
              "      <td>MA</td>\n",
              "    </tr>\n",
              "  </tbody>\n",
              "</table>\n",
              "</div>"
            ],
            "text/plain": [
              "   user_id     status           city  ...                     address  size sectors\n",
              "0       55  published     HOMERVILLE  ...  1018 1ST AVE APT 1229 # 7A    MC      PT\n",
              "1       90  published        DEMOTTE  ...          10051 SANDRIDGE RD    BG      VA\n",
              "2        2  published           CARY  ...            10964 54TH ST SE    MC      GD\n",
              "3       22  published  CHICAGO RIDGE  ...            10964 54TH ST SE    MC      GD\n",
              "4        3  published      SKOWHEGAN  ...             10826 WALNUT ST    MD      MA\n",
              "\n",
              "[5 rows x 13 columns]"
            ]
          },
          "metadata": {
            "tags": []
          },
          "execution_count": 32
        }
      ]
    },
    {
      "cell_type": "code",
      "metadata": {
        "id": "FhpdkSb1tJPb",
        "colab": {
          "base_uri": "https://localhost:8080/"
        },
        "outputId": "9762ae28-66f0-4e0b-ee38-9606193306bd"
      },
      "source": [
        "#Number of Rows in the dataset\n",
        "print(\"Number of Rows are:\",df_combined1.shape[0])\n",
        "#Number of Columns/features in dataset\n",
        "print(\"Number of Columns are:\",df_combined1.shape[1])"
      ],
      "execution_count": null,
      "outputs": [
        {
          "output_type": "stream",
          "text": [
            "Number of Rows are: 252\n",
            "Number of Columns are: 13\n"
          ],
          "name": "stdout"
        }
      ]
    },
    {
      "cell_type": "code",
      "metadata": {
        "id": "KybNVrZ6tJI1",
        "colab": {
          "base_uri": "https://localhost:8080/"
        },
        "outputId": "b850ab60-f654-4479-f89b-5b8eeeb893d9"
      },
      "source": [
        "#Combining the Datasets All_offers.csv and Org.csv\n",
        "df_combined1['contracts'].unique()"
      ],
      "execution_count": null,
      "outputs": [
        {
          "output_type": "execute_result",
          "data": {
            "text/plain": [
              "array(['AL'], dtype=object)"
            ]
          },
          "metadata": {
            "tags": []
          },
          "execution_count": 34
        }
      ]
    },
    {
      "cell_type": "code",
      "metadata": {
        "id": "Kguc7ZtaiXe3",
        "colab": {
          "base_uri": "https://localhost:8080/"
        },
        "outputId": "fdd7e099-8fdd-43e3-ebe2-a7fab7b79c40"
      },
      "source": [
        "jobs = df_combined1['job_title'].unique()\n",
        "jobs"
      ],
      "execution_count": null,
      "outputs": [
        {
          "output_type": "execute_result",
          "data": {
            "text/plain": [
              "array(['Medical Receptionist', 'Clinical Research Associate',\n",
              "       'Territory Sales Representative', 'Endoscopy Nurse', 'Bus Driver',\n",
              "       'Foreign Service Officer', 'Sales Analyst', 'Strategy Consultant?',\n",
              "       'Pipeline Engineer', 'Cost Engineer', 'Technical Writer',\n",
              "       'Solutions Consultant - Electrical Engineering', 'Power Regulator',\n",
              "       'Conservation Technician', 'Manager of Engineering',\n",
              "       'Forecast Systems Manager', 'Water Services Technician',\n",
              "       'Front Desk Associate',\n",
              "       'Senior Analyst Retail Analytics and Reporting',\n",
              "       'Total Quality Management Director', 'Aviation Inside Sales',\n",
              "       'HVAC Mechanic', 'Cognos Business Development Architect',\n",
              "       'School Social Worker', 'International Education Coordinator',\n",
              "       'Treasurer', 'Pipefitter',\n",
              "       'Manufacturing Customer Service Representative',\n",
              "       'Laboratory Sales Consultant', 'Quality Assurance Manager',\n",
              "       'Customer Service Agent', 'Night Auditor',\n",
              "       'Process Control Engineer', 'Business Intelligence Developer',\n",
              "       'Concrete Finisher', 'Solid Waste Field Technician',\n",
              "       'Healthcare Consultant', 'Producer Travel Channel',\n",
              "       'Organic Lab Worker', 'Attorney', 'Compliance Engineer',\n",
              "       'Research and Development Tester', 'Quality Associate/Validation',\n",
              "       'Chief of Career Pathways and Integrated Learning',\n",
              "       'Executive Conference Manager', 'Assistant Coach',\n",
              "       'IT Support Staff', 'Cardiovascular Operating Room Nurse',\n",
              "       'Meeting Specialist', 'Vice Principal',\n",
              "       'Cyber Intelligence Watch Officer', 'Freelance Travel Writer',\n",
              "       'Assistant General Manager', 'Account Executive',\n",
              "       'Catering Account Manger', 'Process Engineer', 'Catering Manager',\n",
              "       'Roadie', 'Research and Development Technician',\n",
              "       'Front Desk Attendant', 'Human Resources Assistant',\n",
              "       'Station Agent', 'Sales and Marketing Coordinator',\n",
              "       'Solar Installers', 'Environmental Project Analyst',\n",
              "       'Travel Consultant', 'Stationary Engineer', 'Material Handler',\n",
              "       'Healthcare Business Intelligence Manager',\n",
              "       'Senior Competitive Intelligence Manager',\n",
              "       'Quality Assurance Technologist', 'Component Engineer',\n",
              "       'Threat Intelligence Analyst', 'Staff Assistant - Accounting',\n",
              "       'Metal Building Erector', 'Environmental Services Representative',\n",
              "       'Staff Engineer', 'Assistant Technician', 'Project Manager',\n",
              "       'Maintenance Engineer', 'Engineering Technician',\n",
              "       'Director of Hotel Sales',\n",
              "       'Solution Architect Business Intelligence', 'Mutual Fund Analyst',\n",
              "       'Market Access Associate', 'Operations Research Analysis Manager',\n",
              "       'Bellman', 'Real Estate Appraiser', 'Human Resources Director',\n",
              "       'Crew Scheduling Manager', 'Controller',\n",
              "       'Senior Manager Yield and Revenue Management',\n",
              "       'Transportation Project Manager', 'Chemical Technician',\n",
              "       'Investment Advisor', 'Oceanographer', 'Sales Coordinator',\n",
              "       'Concierge',\n",
              "       'Institutional Research Business Intelligence Systems Analyst',\n",
              "       'Producer', 'Commercial Sales Representative',\n",
              "       'Electrical Design Engineer', 'Marketing Consultant',\n",
              "       'Senior Manager of Industry Analytics', 'Valet Parker',\n",
              "       'Organic Lab Research Assistant', 'Pharmacy Assistant', 'Lineman',\n",
              "       'Compensation Manager', 'Golf Pro', 'Principal Service Engineer',\n",
              "       'Retail Sales Associate', 'Group Sales Management',\n",
              "       'Club Representative', 'Client Service Specialist',\n",
              "       'Operations Agent', 'Operations Clerk',\n",
              "       'Technical Support Engineer', 'Special Education Teacher',\n",
              "       'Heavy Equipment Technician', 'Travel Secretary',\n",
              "       'Benefit Coordinator', 'Reservoir Engineer', 'Quality Assistant',\n",
              "       'Ethics Office Business Intelligence Officer', 'Chemical Engineer',\n",
              "       'Government Contract Consultant', 'Electronics Engineer',\n",
              "       'General Manager', 'Event Coordinator', 'Software Developer',\n",
              "       'Corporate Sales Manager',\n",
              "       'Director of? Customer Success and Satisfaction',\n",
              "       'Laboratory Assistant', 'Assistant Customer Care Center Manager',\n",
              "       'Technical Trainer', 'Manufacturing Specialist',\n",
              "       'Piping Stress Engineer', 'RF Engineer', 'Rental Representative',\n",
              "       'Data Architect', 'Organizational Development Consultant',\n",
              "       'Drilling Engineer', 'Hostess', 'School Nurse',\n",
              "       'Behavior Specialist', 'Construction Engineer',\n",
              "       'Corporate Reservations Agent', 'Chef', 'Athletic Scout',\n",
              "       'Provisioning Agents', 'Environmental Compliance Engineer',\n",
              "       'Senior Mechanical Engineer', 'Customer Support Associate',\n",
              "       'Associate Producer Events', 'Airline Pilot', 'Sales Manager',\n",
              "       'Computer Science Teacher', 'Territory Service Representative',\n",
              "       'Corporate Recruiter', 'Ground Support Equipment Mechanic',\n",
              "       'Software Engineer - Data Warehouse/Business Intelligence',\n",
              "       'Network Engineer', 'Global Development Specialist', 'Fabricator',\n",
              "       'Technology Consultant', 'Patient Care Coordinator',\n",
              "       'Senior Manager Product Intelligence and Cost Analytics',\n",
              "       'Countertop Fabricator and Installer', 'Cruise Ship',\n",
              "       'Commercial Print Management Consultant',\n",
              "       'Instrumentation Engineer', 'Competitive Intelligence Manager',\n",
              "       'Firmware Engineer', 'Dermatology Nurse',\n",
              "       'International Travel Consultant', 'Production Assistant Events',\n",
              "       'Alarm Technician', 'Sports Physician', 'Guest Room Sales Manager',\n",
              "       'Hunting Guide', 'Server', 'Guest Services Agent',\n",
              "       'Wedding Sales Manager', 'Concierge?',\n",
              "       'Industrial Technology Teacher', 'Front Desk Clerk', 'Tax Advisor',\n",
              "       'Patio Room Installer', 'Vice President of Engineering',\n",
              "       'Change Management Consultant', 'Financial Analyst',\n",
              "       'Online Customer Support', 'Cook', 'Associate Athletic Director',\n",
              "       'Front Desk Manager', 'Tile Setter', 'Technology Research Manager',\n",
              "       'Rotating Equipment Engineer', 'Director of Hotel Operations',\n",
              "       'Front End Load Driver', 'Oracle Technical Lead',\n",
              "       'Informatica Extract Transform Load (ETL) Developer',\n",
              "       'Mining Safety Engineer', 'Passenger Service Agent',\n",
              "       'Director of Guidance', 'Service Consultant', 'Account Manager',\n",
              "       'Business Objects Architect', 'Assistant Principal',\n",
              "       'Integration/Business Intelligence Technical Lead',\n",
              "       'Choral Music Teacher', 'Quality Control Engineer',\n",
              "       'Conference Coordinator', 'Strength and Conditioning Coach',\n",
              "       'Field Technician', 'Manager Special Events', 'Referee',\n",
              "       'Controls Engineer', 'Implementation Consultant',\n",
              "       'Health/Physical Education Teacher', 'Mechanical Engineer'],\n",
              "      dtype=object)"
            ]
          },
          "metadata": {
            "tags": []
          },
          "execution_count": 42
        }
      ]
    },
    {
      "cell_type": "code",
      "metadata": {
        "colab": {
          "base_uri": "https://localhost:8080/"
        },
        "id": "8sqUx-y6zCwC",
        "outputId": "41a0cea7-972e-4883-9fbe-bcfea0190e1e"
      },
      "source": [
        "len(jobs)"
      ],
      "execution_count": null,
      "outputs": [
        {
          "output_type": "execute_result",
          "data": {
            "text/plain": [
              "222"
            ]
          },
          "metadata": {
            "tags": []
          },
          "execution_count": 43
        }
      ]
    },
    {
      "cell_type": "code",
      "metadata": {
        "colab": {
          "base_uri": "https://localhost:8080/",
          "height": 399
        },
        "id": "PcKRiddfziY6",
        "outputId": "817addf1-5a5c-4254-dd76-832df1e5407b"
      },
      "source": [
        "newdf = df_combined1[['user_id', 'job_title','skills']]\n",
        "newdf"
      ],
      "execution_count": null,
      "outputs": [
        {
          "output_type": "execute_result",
          "data": {
            "text/html": [
              "<div>\n",
              "<style scoped>\n",
              "    .dataframe tbody tr th:only-of-type {\n",
              "        vertical-align: middle;\n",
              "    }\n",
              "\n",
              "    .dataframe tbody tr th {\n",
              "        vertical-align: top;\n",
              "    }\n",
              "\n",
              "    .dataframe thead th {\n",
              "        text-align: right;\n",
              "    }\n",
              "</style>\n",
              "<table border=\"1\" class=\"dataframe\">\n",
              "  <thead>\n",
              "    <tr style=\"text-align: right;\">\n",
              "      <th></th>\n",
              "      <th>user_id</th>\n",
              "      <th>job_title</th>\n",
              "      <th>skills</th>\n",
              "    </tr>\n",
              "  </thead>\n",
              "  <tbody>\n",
              "    <tr>\n",
              "      <th>0</th>\n",
              "      <td>55</td>\n",
              "      <td>Medical Receptionist</td>\n",
              "      <td>{'skills': {'training': 1, 'certifications': 1...</td>\n",
              "    </tr>\n",
              "    <tr>\n",
              "      <th>1</th>\n",
              "      <td>90</td>\n",
              "      <td>Clinical Research Associate</td>\n",
              "      <td>{'skills': {'hardware': 2, 'communication': 1,...</td>\n",
              "    </tr>\n",
              "    <tr>\n",
              "      <th>2</th>\n",
              "      <td>2</td>\n",
              "      <td>Territory Sales Representative</td>\n",
              "      <td>{'skills': {'communication': 4, 'e-commerce': 1}}</td>\n",
              "    </tr>\n",
              "    <tr>\n",
              "      <th>3</th>\n",
              "      <td>22</td>\n",
              "      <td>Endoscopy Nurse</td>\n",
              "      <td>{'skills': {'e-commerce': 1}}</td>\n",
              "    </tr>\n",
              "    <tr>\n",
              "      <th>4</th>\n",
              "      <td>3</td>\n",
              "      <td>Bus Driver</td>\n",
              "      <td>{'skills': {'mobile': 1, 'communication': 2, '...</td>\n",
              "    </tr>\n",
              "    <tr>\n",
              "      <th>...</th>\n",
              "      <td>...</td>\n",
              "      <td>...</td>\n",
              "      <td>...</td>\n",
              "    </tr>\n",
              "    <tr>\n",
              "      <th>247</th>\n",
              "      <td>196</td>\n",
              "      <td>Controls Engineer</td>\n",
              "      <td>{'skills': {'ai': 2, 'hardware': 1, 'internet'...</td>\n",
              "    </tr>\n",
              "    <tr>\n",
              "      <th>248</th>\n",
              "      <td>197</td>\n",
              "      <td>Implementation Consultant</td>\n",
              "      <td>{'skills': {'reporting': 2, 'ai': 5, 'communic...</td>\n",
              "    </tr>\n",
              "    <tr>\n",
              "      <th>249</th>\n",
              "      <td>198</td>\n",
              "      <td>Competitive Intelligence Manager</td>\n",
              "      <td>{'skills': {'certifications': 1, 'ai': 6, 'boo...</td>\n",
              "    </tr>\n",
              "    <tr>\n",
              "      <th>250</th>\n",
              "      <td>199</td>\n",
              "      <td>Health/Physical Education Teacher</td>\n",
              "      <td>{'skills': {'mobile': 1, 'design': 1}}</td>\n",
              "    </tr>\n",
              "    <tr>\n",
              "      <th>251</th>\n",
              "      <td>200</td>\n",
              "      <td>Mechanical Engineer</td>\n",
              "      <td>{'skills': {'reporting': 2, 'ai': 5, 'communic...</td>\n",
              "    </tr>\n",
              "  </tbody>\n",
              "</table>\n",
              "<p>252 rows × 3 columns</p>\n",
              "</div>"
            ],
            "text/plain": [
              "     user_id  ...                                             skills\n",
              "0         55  ...  {'skills': {'training': 1, 'certifications': 1...\n",
              "1         90  ...  {'skills': {'hardware': 2, 'communication': 1,...\n",
              "2          2  ...  {'skills': {'communication': 4, 'e-commerce': 1}}\n",
              "3         22  ...                      {'skills': {'e-commerce': 1}}\n",
              "4          3  ...  {'skills': {'mobile': 1, 'communication': 2, '...\n",
              "..       ...  ...                                                ...\n",
              "247      196  ...  {'skills': {'ai': 2, 'hardware': 1, 'internet'...\n",
              "248      197  ...  {'skills': {'reporting': 2, 'ai': 5, 'communic...\n",
              "249      198  ...  {'skills': {'certifications': 1, 'ai': 6, 'boo...\n",
              "250      199  ...             {'skills': {'mobile': 1, 'design': 1}}\n",
              "251      200  ...  {'skills': {'reporting': 2, 'ai': 5, 'communic...\n",
              "\n",
              "[252 rows x 3 columns]"
            ]
          },
          "metadata": {
            "tags": []
          },
          "execution_count": 45
        }
      ]
    },
    {
      "cell_type": "code",
      "metadata": {
        "id": "PbY2Ot-p0nKX"
      },
      "source": [
        "skillss = []\n",
        "for j in jobs:\n",
        "  skillss.append(newdf.loc[newdf['job_title'] == j]['skills'])\n",
        "skillss"
      ],
      "execution_count": null,
      "outputs": []
    },
    {
      "cell_type": "code",
      "metadata": {
        "colab": {
          "base_uri": "https://localhost:8080/"
        },
        "id": "4SFnVj6B4Z4U",
        "outputId": "530e0a2c-d1ea-4edb-c68b-72fcf387c00c"
      },
      "source": [
        "skillss[0]"
      ],
      "execution_count": null,
      "outputs": [
        {
          "output_type": "execute_result",
          "data": {
            "text/plain": [
              "0     {'skills': {'training': 1, 'certifications': 1...\n",
              "33    {'skills': {'training': 1, 'certifications': 1...\n",
              "Name: skills, dtype: object"
            ]
          },
          "metadata": {
            "tags": []
          },
          "execution_count": 49
        }
      ]
    },
    {
      "cell_type": "code",
      "metadata": {
        "id": "rqhIdz1x-0MF"
      },
      "source": [
        ""
      ],
      "execution_count": null,
      "outputs": []
    }
  ]
}